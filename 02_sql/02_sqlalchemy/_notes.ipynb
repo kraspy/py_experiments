{
 "cells": [
  {
   "cell_type": "markdown",
   "id": "cd607ca6",
   "metadata": {},
   "source": [
    "Слой сервисов или DAO (Data Access Object)"
   ]
  },
  {
   "cell_type": "code",
   "execution_count": null,
   "id": "971fdff4",
   "metadata": {},
   "outputs": [],
   "source": [
    "from sqlalchemy import select\n",
    "class BaseService:\n",
    "    model = None\n",
    "    @classmethod\n",
    "    def find_all(cls):\n",
    "        query = select(cls.model)\n",
    "        result = session.execute(query)\n",
    "        return result.scalars().all()\n",
    "    @classmethod\n",
    "    def find_one_or_none(cls, kwargs):\n",
    "        query = select(cls.model).filter_by(kwargs)\n",
    "        result = session.execute(query)\n",
    "        return result.scalars().one_or_none()\n",
    "    @classmethod\n",
    "    def find_by_id(cls, id):\n",
    "        return cls.find_one_or_none(id=id)"
   ]
  },
  {
   "cell_type": "code",
   "execution_count": null,
   "id": "cc537d98",
   "metadata": {},
   "outputs": [],
   "source": [
    "class SomeService(BaseService):\n",
    "    model = SomeModel\n",
    "    # Здесь можно добавить специфичные для Слоя методы"
   ]
  }
 ],
 "metadata": {
  "kernelspec": {
   "display_name": "py-experiments",
   "language": "python",
   "name": "python3"
  },
  "language_info": {
   "name": "python",
   "version": "3.12.10"
  }
 },
 "nbformat": 4,
 "nbformat_minor": 5
}
