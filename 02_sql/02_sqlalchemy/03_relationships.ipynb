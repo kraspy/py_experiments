{
 "cells": [
  {
   "cell_type": "code",
   "execution_count": 9,
   "id": "fff7fb36",
   "metadata": {},
   "outputs": [],
   "source": [
    "from rich import print\n",
    "from sqlalchemy import create_engine, ForeignKey, String, Text, Integer\n",
    "from sqlalchemy.orm import (\n",
    "    Session,\n",
    "    DeclarativeBase,\n",
    "    Mapped,\n",
    "    mapped_column,\n",
    "    relationship,\n",
    ")"
   ]
  },
  {
   "cell_type": "code",
   "execution_count": 10,
   "id": "7b6eaa0c",
   "metadata": {},
   "outputs": [],
   "source": [
    "engine = create_engine('sqlite:///:memory:', echo=True)"
   ]
  },
  {
   "cell_type": "code",
   "execution_count": 11,
   "id": "463f2a69",
   "metadata": {},
   "outputs": [],
   "source": [
    "class Base(DeclarativeBase):\n",
    "    id: Mapped[int] = mapped_column(primary_key=True, autoincrement=True)"
   ]
  },
  {
   "cell_type": "code",
   "execution_count": 12,
   "id": "4711d1df",
   "metadata": {},
   "outputs": [],
   "source": [
    "# Связь Один ко многим\n",
    "class Users(Base):\n",
    "    __tablename__ = 'users'\n",
    "    name: Mapped[str] = mapped_column(String(20), unique=True)\n",
    "    fullname: Mapped[str] = mapped_column(String(100), server_default='')\n",
    "    posts: Mapped[list['Posts']] = relationship(back_populates='author')\n",
    "\n",
    "    def __repr__(self):\n",
    "        return f'User(name={self.name}, fullname={self.fullname})'\n",
    "\n",
    "\n",
    "class Posts(Base):\n",
    "    __tablename__ = 'posts'\n",
    "    author_id: Mapped[int] = mapped_column(ForeignKey('users.id'))\n",
    "    title: Mapped[str] = mapped_column(String(150), unique=True)\n",
    "    content: Mapped[str] = mapped_column(Text)\n",
    "    author: Mapped['Users'] = relationship(back_populates='posts')\n",
    "\n",
    "    def _repr__(self):\n",
    "        return f'Post(title={self.title}, content={self.content[:30]})'\n",
    "    \n",
    "    def __str__(self) -> str:\n",
    "        return f'Post(title={self.title}, content={self.content[:30]})'"
   ]
  },
  {
   "cell_type": "code",
   "execution_count": 13,
   "id": "a25c1c63",
   "metadata": {},
   "outputs": [
    {
     "name": "stdout",
     "output_type": "stream",
     "text": [
      "2025-09-08 13:55:30,889 INFO sqlalchemy.engine.Engine BEGIN (implicit)\n",
      "2025-09-08 13:55:30,889 INFO sqlalchemy.engine.Engine PRAGMA main.table_info(\"users\")\n",
      "2025-09-08 13:55:30,890 INFO sqlalchemy.engine.Engine [raw sql] ()\n",
      "2025-09-08 13:55:30,890 INFO sqlalchemy.engine.Engine PRAGMA temp.table_info(\"users\")\n",
      "2025-09-08 13:55:30,891 INFO sqlalchemy.engine.Engine [raw sql] ()\n",
      "2025-09-08 13:55:30,891 INFO sqlalchemy.engine.Engine PRAGMA main.table_info(\"posts\")\n",
      "2025-09-08 13:55:30,891 INFO sqlalchemy.engine.Engine [raw sql] ()\n",
      "2025-09-08 13:55:30,892 INFO sqlalchemy.engine.Engine PRAGMA temp.table_info(\"posts\")\n",
      "2025-09-08 13:55:30,892 INFO sqlalchemy.engine.Engine [raw sql] ()\n",
      "2025-09-08 13:55:30,893 INFO sqlalchemy.engine.Engine \n",
      "CREATE TABLE users (\n",
      "\tname VARCHAR(20) NOT NULL, \n",
      "\tfullname VARCHAR(100) DEFAULT '' NOT NULL, \n",
      "\tid INTEGER NOT NULL, \n",
      "\tPRIMARY KEY (id), \n",
      "\tUNIQUE (name)\n",
      ")\n",
      "\n",
      "\n",
      "2025-09-08 13:55:30,893 INFO sqlalchemy.engine.Engine [no key 0.00027s] ()\n",
      "2025-09-08 13:55:30,894 INFO sqlalchemy.engine.Engine \n",
      "CREATE TABLE posts (\n",
      "\tauthor_id INTEGER NOT NULL, \n",
      "\ttitle VARCHAR(150) NOT NULL, \n",
      "\tcontent TEXT NOT NULL, \n",
      "\tid INTEGER NOT NULL, \n",
      "\tPRIMARY KEY (id), \n",
      "\tFOREIGN KEY(author_id) REFERENCES users (id), \n",
      "\tUNIQUE (title)\n",
      ")\n",
      "\n",
      "\n",
      "2025-09-08 13:55:30,894 INFO sqlalchemy.engine.Engine [no key 0.00029s] ()\n",
      "2025-09-08 13:55:30,895 INFO sqlalchemy.engine.Engine COMMIT\n"
     ]
    }
   ],
   "source": [
    "Base.metadata.create_all(engine)"
   ]
  },
  {
   "cell_type": "code",
   "execution_count": 14,
   "id": "314daed8",
   "metadata": {},
   "outputs": [],
   "source": [
    "# Включаем поддержку Foreign keys в SQLite\n",
    "from sqlalchemy import event\n",
    "\n",
    "def _fk_pragma_on_connect(dbapi_con, con_record):\n",
    "    dbapi_con.execute('pragma foreign_keys=ON')\n",
    "\n",
    "event.listen(engine, 'connect', _fk_pragma_on_connect)"
   ]
  },
  {
   "cell_type": "code",
   "execution_count": 15,
   "id": "c53ae699",
   "metadata": {},
   "outputs": [
    {
     "name": "stdout",
     "output_type": "stream",
     "text": [
      "2025-09-08 13:55:30,929 INFO sqlalchemy.engine.Engine BEGIN (implicit)\n",
      "2025-09-08 13:55:30,931 INFO sqlalchemy.engine.Engine INSERT INTO users (name, fullname) VALUES (?, ?) RETURNING id\n",
      "2025-09-08 13:55:30,931 INFO sqlalchemy.engine.Engine [generated in 0.00005s (insertmanyvalues) 1/3 (ordered; batch not supported)] ('ivan', 'Ivan Ivanov')\n",
      "2025-09-08 13:55:30,932 INFO sqlalchemy.engine.Engine INSERT INTO users (name, fullname) VALUES (?, ?) RETURNING id\n",
      "2025-09-08 13:55:30,932 INFO sqlalchemy.engine.Engine [insertmanyvalues 2/3 (ordered; batch not supported)] ('petr', 'Petr Petrov')\n",
      "2025-09-08 13:55:30,932 INFO sqlalchemy.engine.Engine INSERT INTO users (name, fullname) VALUES (?, ?) RETURNING id\n",
      "2025-09-08 13:55:30,933 INFO sqlalchemy.engine.Engine [insertmanyvalues 3/3 (ordered; batch not supported)] ('max', 'Max Maximov')\n",
      "2025-09-08 13:55:30,934 INFO sqlalchemy.engine.Engine COMMIT\n"
     ]
    }
   ],
   "source": [
    "with Session(engine) as session:\n",
    "    users = [\n",
    "        Users(name='ivan', fullname='Ivan Ivanov'),\n",
    "        Users(name='petr', fullname='Petr Petrov'),\n",
    "        Users(name='max', fullname='Max Maximov'),\n",
    "    ]\n",
    "\n",
    "    session.add_all(users)\n",
    "    session.commit()"
   ]
  },
  {
   "cell_type": "code",
   "execution_count": 16,
   "id": "4f20ee39",
   "metadata": {},
   "outputs": [
    {
     "name": "stdout",
     "output_type": "stream",
     "text": [
      "2025-09-08 13:55:30,948 INFO sqlalchemy.engine.Engine BEGIN (implicit)\n",
      "2025-09-08 13:55:30,949 INFO sqlalchemy.engine.Engine SELECT users.name AS users_name, users.fullname AS users_fullname, users.id AS users_id \n",
      "FROM users \n",
      "WHERE users.id = ?\n",
      "2025-09-08 13:55:30,950 INFO sqlalchemy.engine.Engine [generated in 0.00050s] (1,)\n",
      "2025-09-08 13:55:30,950 INFO sqlalchemy.engine.Engine SELECT users.name AS users_name, users.fullname AS users_fullname, users.id AS users_id \n",
      "FROM users \n",
      "WHERE users.id = ?\n",
      "2025-09-08 13:55:30,951 INFO sqlalchemy.engine.Engine [cached since 0.001774s ago] (2,)\n",
      "2025-09-08 13:55:30,951 INFO sqlalchemy.engine.Engine SELECT users.name AS users_name, users.fullname AS users_fullname, users.id AS users_id \n",
      "FROM users \n",
      "WHERE users.id = ?\n",
      "2025-09-08 13:55:30,952 INFO sqlalchemy.engine.Engine [cached since 0.00269s ago] (3,)\n",
      "2025-09-08 13:55:30,953 INFO sqlalchemy.engine.Engine INSERT INTO posts (author_id, title, content) VALUES (?, ?, ?) RETURNING id\n"
     ]
    },
    {
     "name": "stdout",
     "output_type": "stream",
     "text": [
      "2025-09-08 13:55:30,953 INFO sqlalchemy.engine.Engine [generated in 0.00005s (insertmanyvalues) 1/4 (ordered; batch not supported)] (1, 'Post 1', 'Content 1')\n",
      "2025-09-08 13:55:30,954 INFO sqlalchemy.engine.Engine INSERT INTO posts (author_id, title, content) VALUES (?, ?, ?) RETURNING id\n",
      "2025-09-08 13:55:30,955 INFO sqlalchemy.engine.Engine [insertmanyvalues 2/4 (ordered; batch not supported)] (1, 'Post 2', 'Content 2')\n",
      "2025-09-08 13:55:30,955 INFO sqlalchemy.engine.Engine INSERT INTO posts (author_id, title, content) VALUES (?, ?, ?) RETURNING id\n",
      "2025-09-08 13:55:30,956 INFO sqlalchemy.engine.Engine [insertmanyvalues 3/4 (ordered; batch not supported)] (2, 'Post 3', 'Content 3')\n",
      "2025-09-08 13:55:30,957 INFO sqlalchemy.engine.Engine INSERT INTO posts (author_id, title, content) VALUES (?, ?, ?) RETURNING id\n",
      "2025-09-08 13:55:30,957 INFO sqlalchemy.engine.Engine [insertmanyvalues 4/4 (ordered; batch not supported)] (3, 'Post 4', 'Content 4')\n",
      "2025-09-08 13:55:30,958 INFO sqlalchemy.engine.Engine COMMIT\n"
     ]
    }
   ],
   "source": [
    "with Session(engine) as session:\n",
    "    posts = [\n",
    "        Posts(title='Post 1', content='Content 1', author=users[0]),\n",
    "        Posts(title='Post 2', content='Content 2', author=users[0]),\n",
    "        Posts(title='Post 3', content='Content 3', author=users[1]),\n",
    "        Posts(title='Post 4', content='Content 4', author=users[2]),\n",
    "    ]\n",
    "\n",
    "    session.add_all(posts)\n",
    "    session.commit()"
   ]
  },
  {
   "cell_type": "code",
   "execution_count": 22,
   "id": "7275c292",
   "metadata": {},
   "outputs": [
    {
     "name": "stdout",
     "output_type": "stream",
     "text": [
      "2025-09-08 13:57:16,212 INFO sqlalchemy.engine.Engine BEGIN (implicit)\n",
      "2025-09-08 13:57:16,213 INFO sqlalchemy.engine.Engine SELECT users.name AS users_name, users.fullname AS users_fullname, users.id AS users_id \n",
      "FROM users \n",
      "WHERE users.name = ?\n",
      " LIMIT ? OFFSET ?\n",
      "2025-09-08 13:57:16,213 INFO sqlalchemy.engine.Engine [cached since 105.2s ago] ('ivan', 1, 0)\n"
     ]
    },
    {
     "data": {
      "text/html": [
       "<pre style=\"white-space:pre;overflow-x:auto;line-height:normal;font-family:Menlo,'DejaVu Sans Mono',consolas,'Courier New',monospace\"><span style=\"color: #800080; text-decoration-color: #800080; font-weight: bold\">User</span><span style=\"font-weight: bold\">(</span><span style=\"color: #808000; text-decoration-color: #808000\">name</span>=<span style=\"color: #800080; text-decoration-color: #800080\">ivan</span>, <span style=\"color: #808000; text-decoration-color: #808000\">fullname</span>=<span style=\"color: #800080; text-decoration-color: #800080\">Ivan</span> Ivanov<span style=\"font-weight: bold\">)</span>\n",
       "</pre>\n"
      ],
      "text/plain": [
       "\u001b[1;35mUser\u001b[0m\u001b[1m(\u001b[0m\u001b[33mname\u001b[0m=\u001b[35mivan\u001b[0m, \u001b[33mfullname\u001b[0m=\u001b[35mIvan\u001b[0m Ivanov\u001b[1m)\u001b[0m\n"
      ]
     },
     "metadata": {},
     "output_type": "display_data"
    },
    {
     "name": "stdout",
     "output_type": "stream",
     "text": [
      "2025-09-08 13:57:16,215 INFO sqlalchemy.engine.Engine SELECT posts.author_id AS posts_author_id, posts.title AS posts_title, posts.content AS posts_content, posts.id AS posts_id \n",
      "FROM posts \n",
      "WHERE ? = posts.author_id\n",
      "2025-09-08 13:57:16,216 INFO sqlalchemy.engine.Engine [cached since 105.2s ago] (1,)\n"
     ]
    },
    {
     "data": {
      "text/html": [
       "<pre style=\"white-space:pre;overflow-x:auto;line-height:normal;font-family:Menlo,'DejaVu Sans Mono',consolas,'Courier New',monospace\">Post: <span style=\"color: #800080; text-decoration-color: #800080; font-weight: bold\">Post</span><span style=\"font-weight: bold\">(</span><span style=\"color: #808000; text-decoration-color: #808000\">title</span>=<span style=\"color: #800080; text-decoration-color: #800080\">Post</span> <span style=\"color: #008080; text-decoration-color: #008080; font-weight: bold\">1</span>, <span style=\"color: #808000; text-decoration-color: #808000\">content</span>=<span style=\"color: #800080; text-decoration-color: #800080\">Content</span> <span style=\"color: #008080; text-decoration-color: #008080; font-weight: bold\">1</span><span style=\"font-weight: bold\">)</span>\n",
       "User: <span style=\"color: #800080; text-decoration-color: #800080; font-weight: bold\">User</span><span style=\"font-weight: bold\">(</span><span style=\"color: #808000; text-decoration-color: #808000\">name</span>=<span style=\"color: #800080; text-decoration-color: #800080\">ivan</span>, <span style=\"color: #808000; text-decoration-color: #808000\">fullname</span>=<span style=\"color: #800080; text-decoration-color: #800080\">Ivan</span> Ivanov<span style=\"font-weight: bold\">)</span>\n",
       "</pre>\n"
      ],
      "text/plain": [
       "Post: \u001b[1;35mPost\u001b[0m\u001b[1m(\u001b[0m\u001b[33mtitle\u001b[0m=\u001b[35mPost\u001b[0m \u001b[1;36m1\u001b[0m, \u001b[33mcontent\u001b[0m=\u001b[35mContent\u001b[0m \u001b[1;36m1\u001b[0m\u001b[1m)\u001b[0m\n",
       "User: \u001b[1;35mUser\u001b[0m\u001b[1m(\u001b[0m\u001b[33mname\u001b[0m=\u001b[35mivan\u001b[0m, \u001b[33mfullname\u001b[0m=\u001b[35mIvan\u001b[0m Ivanov\u001b[1m)\u001b[0m\n"
      ]
     },
     "metadata": {},
     "output_type": "display_data"
    },
    {
     "data": {
      "text/html": [
       "<pre style=\"white-space:pre;overflow-x:auto;line-height:normal;font-family:Menlo,'DejaVu Sans Mono',consolas,'Courier New',monospace\">Post: <span style=\"color: #800080; text-decoration-color: #800080; font-weight: bold\">Post</span><span style=\"font-weight: bold\">(</span><span style=\"color: #808000; text-decoration-color: #808000\">title</span>=<span style=\"color: #800080; text-decoration-color: #800080\">Post</span> <span style=\"color: #008080; text-decoration-color: #008080; font-weight: bold\">2</span>, <span style=\"color: #808000; text-decoration-color: #808000\">content</span>=<span style=\"color: #800080; text-decoration-color: #800080\">Content</span> <span style=\"color: #008080; text-decoration-color: #008080; font-weight: bold\">2</span><span style=\"font-weight: bold\">)</span>\n",
       "User: <span style=\"color: #800080; text-decoration-color: #800080; font-weight: bold\">User</span><span style=\"font-weight: bold\">(</span><span style=\"color: #808000; text-decoration-color: #808000\">name</span>=<span style=\"color: #800080; text-decoration-color: #800080\">ivan</span>, <span style=\"color: #808000; text-decoration-color: #808000\">fullname</span>=<span style=\"color: #800080; text-decoration-color: #800080\">Ivan</span> Ivanov<span style=\"font-weight: bold\">)</span>\n",
       "</pre>\n"
      ],
      "text/plain": [
       "Post: \u001b[1;35mPost\u001b[0m\u001b[1m(\u001b[0m\u001b[33mtitle\u001b[0m=\u001b[35mPost\u001b[0m \u001b[1;36m2\u001b[0m, \u001b[33mcontent\u001b[0m=\u001b[35mContent\u001b[0m \u001b[1;36m2\u001b[0m\u001b[1m)\u001b[0m\n",
       "User: \u001b[1;35mUser\u001b[0m\u001b[1m(\u001b[0m\u001b[33mname\u001b[0m=\u001b[35mivan\u001b[0m, \u001b[33mfullname\u001b[0m=\u001b[35mIvan\u001b[0m Ivanov\u001b[1m)\u001b[0m\n"
      ]
     },
     "metadata": {},
     "output_type": "display_data"
    },
    {
     "name": "stdout",
     "output_type": "stream",
     "text": [
      "2025-09-08 13:57:16,218 INFO sqlalchemy.engine.Engine ROLLBACK\n"
     ]
    }
   ],
   "source": [
    "with Session(engine) as session:\n",
    "    user_ivan = session.query(Users).filter(Users.name == 'ivan').first()\n",
    "\n",
    "    print(user_ivan)\n",
    "\n",
    "    for post in user_ivan.posts:\n",
    "        print(f'Post: {post}\\nUser: {post.author}')"
   ]
  }
 ],
 "metadata": {
  "kernelspec": {
   "display_name": "py-experiments",
   "language": "python",
   "name": "python3"
  },
  "language_info": {
   "codemirror_mode": {
    "name": "ipython",
    "version": 3
   },
   "file_extension": ".py",
   "mimetype": "text/x-python",
   "name": "python",
   "nbconvert_exporter": "python",
   "pygments_lexer": "ipython3",
   "version": "3.12.10"
  }
 },
 "nbformat": 4,
 "nbformat_minor": 5
}
