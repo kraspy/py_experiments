{
 "cells": [
  {
   "cell_type": "code",
   "execution_count": 4,
   "id": "70f5a842",
   "metadata": {},
   "outputs": [],
   "source": [
    "from rich import print\n",
    "from sqlalchemy import create_engine, text\n",
    "from sqlalchemy import MetaData, Table, Column\n",
    "from sqlalchemy import Integer, String, ForeignKey\n",
    "from sqlalchemy import select, insert, delete, update"
   ]
  },
  {
   "cell_type": "code",
   "execution_count": 5,
   "id": "ddf449e1",
   "metadata": {},
   "outputs": [],
   "source": [
    "engine = create_engine(\n",
    "    'sqlite:///:memory:',\n",
    "    echo=True,\n",
    ")"
   ]
  },
  {
   "cell_type": "code",
   "execution_count": 6,
   "id": "cc0fd3ea",
   "metadata": {},
   "outputs": [
    {
     "name": "stdout",
     "output_type": "stream",
     "text": [
      "2025-09-04 23:32:14,279 INFO sqlalchemy.engine.Engine BEGIN (implicit)\n",
      "2025-09-04 23:32:14,280 INFO sqlalchemy.engine.Engine select sqlite_version()\n",
      "2025-09-04 23:32:14,280 INFO sqlalchemy.engine.Engine [generated in 0.00096s] ()\n"
     ]
    },
    {
     "data": {
      "text/html": [
       "<pre style=\"white-space:pre;overflow-x:auto;line-height:normal;font-family:Menlo,'DejaVu Sans Mono',consolas,'Courier New',monospace\"><span style=\"font-weight: bold\">(</span><span style=\"color: #008000; text-decoration-color: #008000\">'3.47.1'</span>,<span style=\"font-weight: bold\">)</span>\n",
       "</pre>\n"
      ],
      "text/plain": [
       "\u001b[1m(\u001b[0m\u001b[32m'3.47.1'\u001b[0m,\u001b[1m)\u001b[0m\n"
      ]
     },
     "metadata": {},
     "output_type": "display_data"
    },
    {
     "name": "stdout",
     "output_type": "stream",
     "text": [
      "2025-09-04 23:32:14,312 INFO sqlalchemy.engine.Engine ROLLBACK\n"
     ]
    }
   ],
   "source": [
    "with engine.connect() as conn:\n",
    "    resule = conn.execute(text('select sqlite_version()'))\n",
    "    print(resule.one())"
   ]
  },
  {
   "cell_type": "markdown",
   "id": "0fd65353",
   "metadata": {},
   "source": [
    "## Create Table"
   ]
  },
  {
   "cell_type": "code",
   "execution_count": 7,
   "id": "7203346c",
   "metadata": {},
   "outputs": [],
   "source": [
    "meta = MetaData()"
   ]
  },
  {
   "cell_type": "code",
   "execution_count": 8,
   "id": "3c73603e",
   "metadata": {},
   "outputs": [
    {
     "name": "stdout",
     "output_type": "stream",
     "text": [
      "2025-09-04 23:32:14,322 INFO sqlalchemy.engine.Engine BEGIN (implicit)\n",
      "2025-09-04 23:32:14,323 INFO sqlalchemy.engine.Engine PRAGMA main.table_info(\"users\")\n",
      "2025-09-04 23:32:14,323 INFO sqlalchemy.engine.Engine [raw sql] ()\n",
      "2025-09-04 23:32:14,324 INFO sqlalchemy.engine.Engine PRAGMA temp.table_info(\"users\")\n",
      "2025-09-04 23:32:14,324 INFO sqlalchemy.engine.Engine [raw sql] ()\n",
      "2025-09-04 23:32:14,325 INFO sqlalchemy.engine.Engine PRAGMA main.table_info(\"cart\")\n",
      "2025-09-04 23:32:14,325 INFO sqlalchemy.engine.Engine [raw sql] ()\n",
      "2025-09-04 23:32:14,326 INFO sqlalchemy.engine.Engine PRAGMA temp.table_info(\"cart\")\n",
      "2025-09-04 23:32:14,326 INFO sqlalchemy.engine.Engine [raw sql] ()\n",
      "2025-09-04 23:32:14,327 INFO sqlalchemy.engine.Engine \n",
      "CREATE TABLE users (\n",
      "\tid INTEGER NOT NULL, \n",
      "\tlogin VARCHAR(20), \n",
      "\tname VARCHAR(50), \n",
      "\tPRIMARY KEY (id), \n",
      "\tUNIQUE (login)\n",
      ")\n",
      "\n",
      "\n",
      "2025-09-04 23:32:14,327 INFO sqlalchemy.engine.Engine [no key 0.00033s] ()\n",
      "2025-09-04 23:32:14,328 INFO sqlalchemy.engine.Engine \n",
      "CREATE TABLE cart (\n",
      "\tid INTEGER NOT NULL, \n",
      "\tuser_id INTEGER, \n",
      "\tproduct_id INTEGER, \n",
      "\tquantity INTEGER, \n",
      "\tPRIMARY KEY (id), \n",
      "\tFOREIGN KEY(user_id) REFERENCES users (id)\n",
      ")\n",
      "\n",
      "\n",
      "2025-09-04 23:32:14,328 INFO sqlalchemy.engine.Engine [no key 0.00032s] ()\n",
      "2025-09-04 23:32:14,329 INFO sqlalchemy.engine.Engine COMMIT\n"
     ]
    }
   ],
   "source": [
    "users_table = Table(\n",
    "    'users',\n",
    "    meta,\n",
    "    Column('id', Integer, primary_key=True, autoincrement=True),\n",
    "    Column('login', String(20), unique=True),\n",
    "    Column('name', String(50)),\n",
    ")\n",
    "\n",
    "cart_table = Table(\n",
    "    'cart',\n",
    "    meta,\n",
    "    Column('id', Integer, primary_key=True),\n",
    "    Column('user_id', Integer, ForeignKey('users.id')),\n",
    "    Column('product_id', Integer),\n",
    "    Column('quantity', Integer),\n",
    ")\n",
    "\n",
    "meta.create_all(engine)"
   ]
  },
  {
   "cell_type": "code",
   "execution_count": 9,
   "id": "3e776d37",
   "metadata": {},
   "outputs": [
    {
     "data": {
      "text/html": [
       "<pre style=\"white-space:pre;overflow-x:auto;line-height:normal;font-family:Menlo,'DejaVu Sans Mono',consolas,'Courier New',monospace\"><span style=\"color: #800080; text-decoration-color: #800080; font-weight: bold\">Table</span><span style=\"font-weight: bold\">(</span><span style=\"color: #008000; text-decoration-color: #008000\">'users'</span>, <span style=\"color: #800080; text-decoration-color: #800080; font-weight: bold\">MetaData</span><span style=\"font-weight: bold\">()</span>, <span style=\"color: #800080; text-decoration-color: #800080; font-weight: bold\">Column</span><span style=\"font-weight: bold\">(</span><span style=\"color: #008000; text-decoration-color: #008000\">'id'</span>, <span style=\"color: #800080; text-decoration-color: #800080; font-weight: bold\">Integer</span><span style=\"font-weight: bold\">()</span>, <span style=\"color: #808000; text-decoration-color: #808000\">table</span>=<span style=\"font-weight: bold\">&lt;</span><span style=\"color: #ff00ff; text-decoration-color: #ff00ff; font-weight: bold\">users</span><span style=\"color: #000000; text-decoration-color: #000000\">&gt;, </span><span style=\"color: #808000; text-decoration-color: #808000\">primary_key</span><span style=\"color: #000000; text-decoration-color: #000000\">=</span><span style=\"color: #00ff00; text-decoration-color: #00ff00; font-style: italic\">True</span><span style=\"color: #000000; text-decoration-color: #000000\">, </span><span style=\"color: #808000; text-decoration-color: #808000\">nullable</span><span style=\"color: #000000; text-decoration-color: #000000\">=</span><span style=\"color: #ff0000; text-decoration-color: #ff0000; font-style: italic\">False</span><span style=\"color: #000000; text-decoration-color: #000000; font-weight: bold\">)</span><span style=\"color: #000000; text-decoration-color: #000000\">, </span>\n",
       "<span style=\"color: #800080; text-decoration-color: #800080; font-weight: bold\">Column</span><span style=\"color: #000000; text-decoration-color: #000000; font-weight: bold\">(</span><span style=\"color: #008000; text-decoration-color: #008000\">'login'</span><span style=\"color: #000000; text-decoration-color: #000000\">, </span><span style=\"color: #800080; text-decoration-color: #800080; font-weight: bold\">String</span><span style=\"color: #000000; text-decoration-color: #000000; font-weight: bold\">(</span><span style=\"color: #808000; text-decoration-color: #808000\">length</span><span style=\"color: #000000; text-decoration-color: #000000\">=</span><span style=\"color: #008080; text-decoration-color: #008080; font-weight: bold\">20</span><span style=\"color: #000000; text-decoration-color: #000000; font-weight: bold\">)</span><span style=\"color: #000000; text-decoration-color: #000000\">, </span><span style=\"color: #808000; text-decoration-color: #808000\">table</span><span style=\"color: #000000; text-decoration-color: #000000\">=&lt;users&gt;</span><span style=\"color: #000000; text-decoration-color: #000000; font-weight: bold\">)</span><span style=\"color: #000000; text-decoration-color: #000000\">, </span><span style=\"color: #800080; text-decoration-color: #800080; font-weight: bold\">Column</span><span style=\"color: #000000; text-decoration-color: #000000; font-weight: bold\">(</span><span style=\"color: #008000; text-decoration-color: #008000\">'name'</span><span style=\"color: #000000; text-decoration-color: #000000\">, </span><span style=\"color: #800080; text-decoration-color: #800080; font-weight: bold\">String</span><span style=\"color: #000000; text-decoration-color: #000000; font-weight: bold\">(</span><span style=\"color: #808000; text-decoration-color: #808000\">length</span><span style=\"color: #000000; text-decoration-color: #000000\">=</span><span style=\"color: #008080; text-decoration-color: #008080; font-weight: bold\">50</span><span style=\"color: #000000; text-decoration-color: #000000; font-weight: bold\">)</span><span style=\"color: #000000; text-decoration-color: #000000\">, </span><span style=\"color: #808000; text-decoration-color: #808000\">table</span><span style=\"color: #000000; text-decoration-color: #000000\">=&lt;users</span><span style=\"font-weight: bold\">&gt;)</span>, <span style=\"color: #808000; text-decoration-color: #808000\">schema</span>=<span style=\"color: #800080; text-decoration-color: #800080; font-style: italic\">None</span><span style=\"font-weight: bold\">)</span>\n",
       "</pre>\n"
      ],
      "text/plain": [
       "\u001b[1;35mTable\u001b[0m\u001b[1m(\u001b[0m\u001b[32m'users'\u001b[0m, \u001b[1;35mMetaData\u001b[0m\u001b[1m(\u001b[0m\u001b[1m)\u001b[0m, \u001b[1;35mColumn\u001b[0m\u001b[1m(\u001b[0m\u001b[32m'id'\u001b[0m, \u001b[1;35mInteger\u001b[0m\u001b[1m(\u001b[0m\u001b[1m)\u001b[0m, \u001b[33mtable\u001b[0m=\u001b[1m<\u001b[0m\u001b[1;95musers\u001b[0m\u001b[39m>, \u001b[0m\u001b[33mprimary_key\u001b[0m\u001b[39m=\u001b[0m\u001b[3;92mTrue\u001b[0m\u001b[39m, \u001b[0m\u001b[33mnullable\u001b[0m\u001b[39m=\u001b[0m\u001b[3;91mFalse\u001b[0m\u001b[1;39m)\u001b[0m\u001b[39m, \u001b[0m\n",
       "\u001b[1;35mColumn\u001b[0m\u001b[1;39m(\u001b[0m\u001b[32m'login'\u001b[0m\u001b[39m, \u001b[0m\u001b[1;35mString\u001b[0m\u001b[1;39m(\u001b[0m\u001b[33mlength\u001b[0m\u001b[39m=\u001b[0m\u001b[1;36m20\u001b[0m\u001b[1;39m)\u001b[0m\u001b[39m, \u001b[0m\u001b[33mtable\u001b[0m\u001b[39m=<users>\u001b[0m\u001b[1;39m)\u001b[0m\u001b[39m, \u001b[0m\u001b[1;35mColumn\u001b[0m\u001b[1;39m(\u001b[0m\u001b[32m'name'\u001b[0m\u001b[39m, \u001b[0m\u001b[1;35mString\u001b[0m\u001b[1;39m(\u001b[0m\u001b[33mlength\u001b[0m\u001b[39m=\u001b[0m\u001b[1;36m50\u001b[0m\u001b[1;39m)\u001b[0m\u001b[39m, \u001b[0m\u001b[33mtable\u001b[0m\u001b[39m=<users\u001b[0m\u001b[1m>\u001b[0m\u001b[1m)\u001b[0m, \u001b[33mschema\u001b[0m=\u001b[3;35mNone\u001b[0m\u001b[1m)\u001b[0m\n"
      ]
     },
     "metadata": {},
     "output_type": "display_data"
    }
   ],
   "source": [
    "print(repr(users_table))"
   ]
  },
  {
   "cell_type": "code",
   "execution_count": 10,
   "id": "782b0821",
   "metadata": {},
   "outputs": [
    {
     "data": {
      "text/html": [
       "<pre style=\"white-space:pre;overflow-x:auto;line-height:normal;font-family:Menlo,'DejaVu Sans Mono',consolas,'Courier New',monospace\"><span style=\"color: #800080; text-decoration-color: #800080; font-weight: bold\">FacadeDict</span><span style=\"font-weight: bold\">({</span><span style=\"color: #008000; text-decoration-color: #008000\">'users'</span>: <span style=\"color: #800080; text-decoration-color: #800080; font-weight: bold\">Table</span><span style=\"font-weight: bold\">(</span><span style=\"color: #008000; text-decoration-color: #008000\">'users'</span>, <span style=\"color: #800080; text-decoration-color: #800080; font-weight: bold\">MetaData</span><span style=\"font-weight: bold\">()</span>, <span style=\"color: #800080; text-decoration-color: #800080; font-weight: bold\">Column</span><span style=\"font-weight: bold\">(</span><span style=\"color: #008000; text-decoration-color: #008000\">'id'</span>, <span style=\"color: #800080; text-decoration-color: #800080; font-weight: bold\">Integer</span><span style=\"font-weight: bold\">()</span>, <span style=\"color: #808000; text-decoration-color: #808000\">table</span>=<span style=\"font-weight: bold\">&lt;</span><span style=\"color: #ff00ff; text-decoration-color: #ff00ff; font-weight: bold\">users</span><span style=\"color: #000000; text-decoration-color: #000000\">&gt;, </span><span style=\"color: #808000; text-decoration-color: #808000\">primary_key</span><span style=\"color: #000000; text-decoration-color: #000000\">=</span><span style=\"color: #00ff00; text-decoration-color: #00ff00; font-style: italic\">True</span><span style=\"color: #000000; text-decoration-color: #000000\">, </span>\n",
       "<span style=\"color: #808000; text-decoration-color: #808000\">nullable</span><span style=\"color: #000000; text-decoration-color: #000000\">=</span><span style=\"color: #ff0000; text-decoration-color: #ff0000; font-style: italic\">False</span><span style=\"color: #000000; text-decoration-color: #000000; font-weight: bold\">)</span><span style=\"color: #000000; text-decoration-color: #000000\">, </span><span style=\"color: #800080; text-decoration-color: #800080; font-weight: bold\">Column</span><span style=\"color: #000000; text-decoration-color: #000000; font-weight: bold\">(</span><span style=\"color: #008000; text-decoration-color: #008000\">'login'</span><span style=\"color: #000000; text-decoration-color: #000000\">, </span><span style=\"color: #800080; text-decoration-color: #800080; font-weight: bold\">String</span><span style=\"color: #000000; text-decoration-color: #000000; font-weight: bold\">(</span><span style=\"color: #808000; text-decoration-color: #808000\">length</span><span style=\"color: #000000; text-decoration-color: #000000\">=</span><span style=\"color: #008080; text-decoration-color: #008080; font-weight: bold\">20</span><span style=\"color: #000000; text-decoration-color: #000000; font-weight: bold\">)</span><span style=\"color: #000000; text-decoration-color: #000000\">, </span><span style=\"color: #808000; text-decoration-color: #808000\">table</span><span style=\"color: #000000; text-decoration-color: #000000\">=&lt;users&gt;</span><span style=\"color: #000000; text-decoration-color: #000000; font-weight: bold\">)</span><span style=\"color: #000000; text-decoration-color: #000000\">, </span><span style=\"color: #800080; text-decoration-color: #800080; font-weight: bold\">Column</span><span style=\"color: #000000; text-decoration-color: #000000; font-weight: bold\">(</span><span style=\"color: #008000; text-decoration-color: #008000\">'name'</span><span style=\"color: #000000; text-decoration-color: #000000\">, </span><span style=\"color: #800080; text-decoration-color: #800080; font-weight: bold\">String</span><span style=\"color: #000000; text-decoration-color: #000000; font-weight: bold\">(</span><span style=\"color: #808000; text-decoration-color: #808000\">length</span><span style=\"color: #000000; text-decoration-color: #000000\">=</span><span style=\"color: #008080; text-decoration-color: #008080; font-weight: bold\">50</span><span style=\"color: #000000; text-decoration-color: #000000; font-weight: bold\">)</span><span style=\"color: #000000; text-decoration-color: #000000\">, </span>\n",
       "<span style=\"color: #808000; text-decoration-color: #808000\">table</span><span style=\"color: #000000; text-decoration-color: #000000\">=&lt;users&gt;</span><span style=\"color: #000000; text-decoration-color: #000000; font-weight: bold\">)</span><span style=\"color: #000000; text-decoration-color: #000000\">, </span><span style=\"color: #808000; text-decoration-color: #808000\">schema</span><span style=\"color: #000000; text-decoration-color: #000000\">=</span><span style=\"color: #800080; text-decoration-color: #800080; font-style: italic\">None</span><span style=\"color: #000000; text-decoration-color: #000000; font-weight: bold\">)</span><span style=\"color: #000000; text-decoration-color: #000000\">, </span><span style=\"color: #008000; text-decoration-color: #008000\">'cart'</span><span style=\"color: #000000; text-decoration-color: #000000\">: </span><span style=\"color: #800080; text-decoration-color: #800080; font-weight: bold\">Table</span><span style=\"color: #000000; text-decoration-color: #000000; font-weight: bold\">(</span><span style=\"color: #008000; text-decoration-color: #008000\">'cart'</span><span style=\"color: #000000; text-decoration-color: #000000\">, </span><span style=\"color: #800080; text-decoration-color: #800080; font-weight: bold\">MetaData</span><span style=\"color: #000000; text-decoration-color: #000000; font-weight: bold\">()</span><span style=\"color: #000000; text-decoration-color: #000000\">, </span><span style=\"color: #800080; text-decoration-color: #800080; font-weight: bold\">Column</span><span style=\"color: #000000; text-decoration-color: #000000; font-weight: bold\">(</span><span style=\"color: #008000; text-decoration-color: #008000\">'id'</span><span style=\"color: #000000; text-decoration-color: #000000\">, </span><span style=\"color: #800080; text-decoration-color: #800080; font-weight: bold\">Integer</span><span style=\"color: #000000; text-decoration-color: #000000; font-weight: bold\">()</span><span style=\"color: #000000; text-decoration-color: #000000\">, </span><span style=\"color: #808000; text-decoration-color: #808000\">table</span><span style=\"color: #000000; text-decoration-color: #000000\">=&lt;cart&gt;, </span>\n",
       "<span style=\"color: #808000; text-decoration-color: #808000\">primary_key</span><span style=\"color: #000000; text-decoration-color: #000000\">=</span><span style=\"color: #00ff00; text-decoration-color: #00ff00; font-style: italic\">True</span><span style=\"color: #000000; text-decoration-color: #000000\">, </span><span style=\"color: #808000; text-decoration-color: #808000\">nullable</span><span style=\"color: #000000; text-decoration-color: #000000\">=</span><span style=\"color: #ff0000; text-decoration-color: #ff0000; font-style: italic\">False</span><span style=\"color: #000000; text-decoration-color: #000000; font-weight: bold\">)</span><span style=\"color: #000000; text-decoration-color: #000000\">, </span><span style=\"color: #800080; text-decoration-color: #800080; font-weight: bold\">Column</span><span style=\"color: #000000; text-decoration-color: #000000; font-weight: bold\">(</span><span style=\"color: #008000; text-decoration-color: #008000\">'user_id'</span><span style=\"color: #000000; text-decoration-color: #000000\">, </span><span style=\"color: #800080; text-decoration-color: #800080; font-weight: bold\">Integer</span><span style=\"color: #000000; text-decoration-color: #000000; font-weight: bold\">()</span><span style=\"color: #000000; text-decoration-color: #000000\">, </span><span style=\"color: #800080; text-decoration-color: #800080; font-weight: bold\">ForeignKey</span><span style=\"color: #000000; text-decoration-color: #000000; font-weight: bold\">(</span><span style=\"color: #008000; text-decoration-color: #008000\">'users.id'</span><span style=\"color: #000000; text-decoration-color: #000000; font-weight: bold\">)</span><span style=\"color: #000000; text-decoration-color: #000000\">, </span><span style=\"color: #808000; text-decoration-color: #808000\">table</span><span style=\"color: #000000; text-decoration-color: #000000\">=&lt;cart&gt;</span><span style=\"color: #000000; text-decoration-color: #000000; font-weight: bold\">)</span><span style=\"color: #000000; text-decoration-color: #000000\">, </span>\n",
       "<span style=\"color: #800080; text-decoration-color: #800080; font-weight: bold\">Column</span><span style=\"color: #000000; text-decoration-color: #000000; font-weight: bold\">(</span><span style=\"color: #008000; text-decoration-color: #008000\">'product_id'</span><span style=\"color: #000000; text-decoration-color: #000000\">, </span><span style=\"color: #800080; text-decoration-color: #800080; font-weight: bold\">Integer</span><span style=\"color: #000000; text-decoration-color: #000000; font-weight: bold\">()</span><span style=\"color: #000000; text-decoration-color: #000000\">, </span><span style=\"color: #808000; text-decoration-color: #808000\">table</span><span style=\"color: #000000; text-decoration-color: #000000\">=&lt;cart&gt;</span><span style=\"color: #000000; text-decoration-color: #000000; font-weight: bold\">)</span><span style=\"color: #000000; text-decoration-color: #000000\">, </span><span style=\"color: #800080; text-decoration-color: #800080; font-weight: bold\">Column</span><span style=\"color: #000000; text-decoration-color: #000000; font-weight: bold\">(</span><span style=\"color: #008000; text-decoration-color: #008000\">'quantity'</span><span style=\"color: #000000; text-decoration-color: #000000\">, </span><span style=\"color: #800080; text-decoration-color: #800080; font-weight: bold\">Integer</span><span style=\"color: #000000; text-decoration-color: #000000; font-weight: bold\">()</span><span style=\"color: #000000; text-decoration-color: #000000\">, </span><span style=\"color: #808000; text-decoration-color: #808000\">table</span><span style=\"color: #000000; text-decoration-color: #000000\">=&lt;cart</span><span style=\"font-weight: bold\">&gt;)</span>, <span style=\"color: #808000; text-decoration-color: #808000\">schema</span>=<span style=\"color: #800080; text-decoration-color: #800080; font-style: italic\">None</span><span style=\"font-weight: bold\">)})</span>\n",
       "</pre>\n"
      ],
      "text/plain": [
       "\u001b[1;35mFacadeDict\u001b[0m\u001b[1m(\u001b[0m\u001b[1m{\u001b[0m\u001b[32m'users'\u001b[0m: \u001b[1;35mTable\u001b[0m\u001b[1m(\u001b[0m\u001b[32m'users'\u001b[0m, \u001b[1;35mMetaData\u001b[0m\u001b[1m(\u001b[0m\u001b[1m)\u001b[0m, \u001b[1;35mColumn\u001b[0m\u001b[1m(\u001b[0m\u001b[32m'id'\u001b[0m, \u001b[1;35mInteger\u001b[0m\u001b[1m(\u001b[0m\u001b[1m)\u001b[0m, \u001b[33mtable\u001b[0m=\u001b[1m<\u001b[0m\u001b[1;95musers\u001b[0m\u001b[39m>, \u001b[0m\u001b[33mprimary_key\u001b[0m\u001b[39m=\u001b[0m\u001b[3;92mTrue\u001b[0m\u001b[39m, \u001b[0m\n",
       "\u001b[33mnullable\u001b[0m\u001b[39m=\u001b[0m\u001b[3;91mFalse\u001b[0m\u001b[1;39m)\u001b[0m\u001b[39m, \u001b[0m\u001b[1;35mColumn\u001b[0m\u001b[1;39m(\u001b[0m\u001b[32m'login'\u001b[0m\u001b[39m, \u001b[0m\u001b[1;35mString\u001b[0m\u001b[1;39m(\u001b[0m\u001b[33mlength\u001b[0m\u001b[39m=\u001b[0m\u001b[1;36m20\u001b[0m\u001b[1;39m)\u001b[0m\u001b[39m, \u001b[0m\u001b[33mtable\u001b[0m\u001b[39m=<users>\u001b[0m\u001b[1;39m)\u001b[0m\u001b[39m, \u001b[0m\u001b[1;35mColumn\u001b[0m\u001b[1;39m(\u001b[0m\u001b[32m'name'\u001b[0m\u001b[39m, \u001b[0m\u001b[1;35mString\u001b[0m\u001b[1;39m(\u001b[0m\u001b[33mlength\u001b[0m\u001b[39m=\u001b[0m\u001b[1;36m50\u001b[0m\u001b[1;39m)\u001b[0m\u001b[39m, \u001b[0m\n",
       "\u001b[33mtable\u001b[0m\u001b[39m=<users>\u001b[0m\u001b[1;39m)\u001b[0m\u001b[39m, \u001b[0m\u001b[33mschema\u001b[0m\u001b[39m=\u001b[0m\u001b[3;35mNone\u001b[0m\u001b[1;39m)\u001b[0m\u001b[39m, \u001b[0m\u001b[32m'cart'\u001b[0m\u001b[39m: \u001b[0m\u001b[1;35mTable\u001b[0m\u001b[1;39m(\u001b[0m\u001b[32m'cart'\u001b[0m\u001b[39m, \u001b[0m\u001b[1;35mMetaData\u001b[0m\u001b[1;39m(\u001b[0m\u001b[1;39m)\u001b[0m\u001b[39m, \u001b[0m\u001b[1;35mColumn\u001b[0m\u001b[1;39m(\u001b[0m\u001b[32m'id'\u001b[0m\u001b[39m, \u001b[0m\u001b[1;35mInteger\u001b[0m\u001b[1;39m(\u001b[0m\u001b[1;39m)\u001b[0m\u001b[39m, \u001b[0m\u001b[33mtable\u001b[0m\u001b[39m=<cart>, \u001b[0m\n",
       "\u001b[33mprimary_key\u001b[0m\u001b[39m=\u001b[0m\u001b[3;92mTrue\u001b[0m\u001b[39m, \u001b[0m\u001b[33mnullable\u001b[0m\u001b[39m=\u001b[0m\u001b[3;91mFalse\u001b[0m\u001b[1;39m)\u001b[0m\u001b[39m, \u001b[0m\u001b[1;35mColumn\u001b[0m\u001b[1;39m(\u001b[0m\u001b[32m'user_id'\u001b[0m\u001b[39m, \u001b[0m\u001b[1;35mInteger\u001b[0m\u001b[1;39m(\u001b[0m\u001b[1;39m)\u001b[0m\u001b[39m, \u001b[0m\u001b[1;35mForeignKey\u001b[0m\u001b[1;39m(\u001b[0m\u001b[32m'users.id'\u001b[0m\u001b[1;39m)\u001b[0m\u001b[39m, \u001b[0m\u001b[33mtable\u001b[0m\u001b[39m=<cart>\u001b[0m\u001b[1;39m)\u001b[0m\u001b[39m, \u001b[0m\n",
       "\u001b[1;35mColumn\u001b[0m\u001b[1;39m(\u001b[0m\u001b[32m'product_id'\u001b[0m\u001b[39m, \u001b[0m\u001b[1;35mInteger\u001b[0m\u001b[1;39m(\u001b[0m\u001b[1;39m)\u001b[0m\u001b[39m, \u001b[0m\u001b[33mtable\u001b[0m\u001b[39m=<cart>\u001b[0m\u001b[1;39m)\u001b[0m\u001b[39m, \u001b[0m\u001b[1;35mColumn\u001b[0m\u001b[1;39m(\u001b[0m\u001b[32m'quantity'\u001b[0m\u001b[39m, \u001b[0m\u001b[1;35mInteger\u001b[0m\u001b[1;39m(\u001b[0m\u001b[1;39m)\u001b[0m\u001b[39m, \u001b[0m\u001b[33mtable\u001b[0m\u001b[39m=<cart\u001b[0m\u001b[1m>\u001b[0m\u001b[1m)\u001b[0m, \u001b[33mschema\u001b[0m=\u001b[3;35mNone\u001b[0m\u001b[1m)\u001b[0m\u001b[1m}\u001b[0m\u001b[1m)\u001b[0m\n"
      ]
     },
     "metadata": {},
     "output_type": "display_data"
    }
   ],
   "source": [
    "print(meta.tables)"
   ]
  },
  {
   "cell_type": "markdown",
   "id": "403b00e2",
   "metadata": {},
   "source": [
    "## Insert values"
   ]
  },
  {
   "cell_type": "code",
   "execution_count": 11,
   "id": "e205cf09",
   "metadata": {},
   "outputs": [
    {
     "name": "stdout",
     "output_type": "stream",
     "text": [
      "2025-09-04 23:32:14,347 INFO sqlalchemy.engine.Engine BEGIN (implicit)\n",
      "2025-09-04 23:32:14,348 INFO sqlalchemy.engine.Engine INSERT INTO users (login, name) VALUES (?, ?), (?, ?)\n",
      "2025-09-04 23:32:14,348 INFO sqlalchemy.engine.Engine [no key 0.00104s] ('john', 'John Doe', 'jane', 'Jane Doe')\n",
      "2025-09-04 23:32:14,349 INFO sqlalchemy.engine.Engine COMMIT\n"
     ]
    }
   ],
   "source": [
    "add_users = insert(users_table).values(\n",
    "    [\n",
    "        {users_table.c.login: 'john', users_table.c.name: 'John Doe'},\n",
    "        {users_table.c.login: 'jane', users_table.c.name: 'Jane Doe'},\n",
    "    ]\n",
    ")\n",
    "\n",
    "with engine.connect() as conn:\n",
    "    conn.execute(add_users)\n",
    "    conn.commit()"
   ]
  },
  {
   "cell_type": "markdown",
   "id": "d3414048",
   "metadata": {},
   "source": [
    "## Get value(s)"
   ]
  },
  {
   "cell_type": "code",
   "execution_count": 12,
   "id": "52ac5bca",
   "metadata": {},
   "outputs": [
    {
     "name": "stdout",
     "output_type": "stream",
     "text": [
      "2025-09-04 23:32:14,355 INFO sqlalchemy.engine.Engine BEGIN (implicit)\n",
      "2025-09-04 23:32:14,355 INFO sqlalchemy.engine.Engine SELECT users.login, users.name \n",
      "FROM users ORDER BY users.login\n",
      "2025-09-04 23:32:14,356 INFO sqlalchemy.engine.Engine [generated in 0.00104s] ()\n"
     ]
    },
    {
     "data": {
      "text/html": [
       "<pre style=\"white-space:pre;overflow-x:auto;line-height:normal;font-family:Menlo,'DejaVu Sans Mono',consolas,'Courier New',monospace\"><span style=\"font-style: italic\">       Users        </span>\n",
       "┏━━━━━━━┳━━━━━━━━━━┓\n",
       "┃<span style=\"font-weight: bold\"> login </span>┃<span style=\"font-weight: bold\"> name     </span>┃\n",
       "┡━━━━━━━╇━━━━━━━━━━┩\n",
       "│ jane  │ Jane Doe │\n",
       "│ john  │ John Doe │\n",
       "└───────┴──────────┘\n",
       "</pre>\n"
      ],
      "text/plain": [
       "\u001b[3m       Users        \u001b[0m\n",
       "┏━━━━━━━┳━━━━━━━━━━┓\n",
       "┃\u001b[1m \u001b[0m\u001b[1mlogin\u001b[0m\u001b[1m \u001b[0m┃\u001b[1m \u001b[0m\u001b[1mname    \u001b[0m\u001b[1m \u001b[0m┃\n",
       "┡━━━━━━━╇━━━━━━━━━━┩\n",
       "│ jane  │ Jane Doe │\n",
       "│ john  │ John Doe │\n",
       "└───────┴──────────┘\n"
      ]
     },
     "metadata": {},
     "output_type": "display_data"
    },
    {
     "name": "stdout",
     "output_type": "stream",
     "text": [
      "2025-09-04 23:32:14,358 INFO sqlalchemy.engine.Engine ROLLBACK\n"
     ]
    }
   ],
   "source": [
    "from rich.table import Table\n",
    "\n",
    "with engine.connect() as conn:\n",
    "    res = conn.execute(\n",
    "        select(\n",
    "            users_table.c.login,\n",
    "            users_table.c.name,\n",
    "        ).order_by(users_table.c.login),\n",
    "    )\n",
    "\n",
    "    users = res.all()\n",
    "    # print(res.one())\n",
    "    # print(res.scalar())\n",
    "\n",
    "    table = Table(title='Users')\n",
    "    table.add_column('login')\n",
    "    table.add_column('name')\n",
    "\n",
    "    for login, name in users:\n",
    "        table.add_row(login, name)\n",
    "\n",
    "    print(table)\n"
   ]
  },
  {
   "cell_type": "markdown",
   "id": "30b75146",
   "metadata": {},
   "source": [
    "## Delete values"
   ]
  },
  {
   "cell_type": "code",
   "execution_count": null,
   "id": "3c76bccb",
   "metadata": {},
   "outputs": [
    {
     "name": "stdout",
     "output_type": "stream",
     "text": [
      "2025-09-04 23:32:59,684 INFO sqlalchemy.engine.Engine BEGIN (implicit)\n",
      "2025-09-04 23:32:59,685 INFO sqlalchemy.engine.Engine DELETE FROM users WHERE users.login = ?\n",
      "2025-09-04 23:32:59,685 INFO sqlalchemy.engine.Engine [cached since 44.48s ago] ('jane',)\n",
      "2025-09-04 23:32:59,686 INFO sqlalchemy.engine.Engine COMMIT\n"
     ]
    },
    {
     "data": {
      "text/html": [
       "<pre style=\"white-space:pre;overflow-x:auto;line-height:normal;font-family:Menlo,'DejaVu Sans Mono',consolas,'Courier New',monospace\"><span style=\"color: #008080; text-decoration-color: #008080; font-weight: bold\">0</span>\n",
       "</pre>\n"
      ],
      "text/plain": [
       "\u001b[1;36m0\u001b[0m\n"
      ]
     },
     "metadata": {},
     "output_type": "display_data"
    },
    {
     "name": "stdout",
     "output_type": "stream",
     "text": [
      "2025-09-04 23:32:59,687 INFO sqlalchemy.engine.Engine BEGIN (implicit)\n",
      "2025-09-04 23:32:59,688 INFO sqlalchemy.engine.Engine SELECT users.login, users.name \n",
      "FROM users\n",
      "2025-09-04 23:32:59,688 INFO sqlalchemy.engine.Engine [cached since 44.48s ago] ()\n",
      "2025-09-04 23:32:59,688 INFO sqlalchemy.engine.Engine ROLLBACK\n"
     ]
    },
    {
     "data": {
      "text/html": [
       "<pre style=\"white-space:pre;overflow-x:auto;line-height:normal;font-family:Menlo,'DejaVu Sans Mono',consolas,'Courier New',monospace\"><span style=\"font-weight: bold\">[(</span><span style=\"color: #008000; text-decoration-color: #008000\">'john'</span>, <span style=\"color: #008000; text-decoration-color: #008000\">'John Doe'</span><span style=\"font-weight: bold\">)]</span>\n",
       "</pre>\n"
      ],
      "text/plain": [
       "\u001b[1m[\u001b[0m\u001b[1m(\u001b[0m\u001b[32m'john'\u001b[0m, \u001b[32m'John Doe'\u001b[0m\u001b[1m)\u001b[0m\u001b[1m]\u001b[0m\n"
      ]
     },
     "metadata": {},
     "output_type": "display_data"
    }
   ],
   "source": [
    "delete_stmt = delete(users_table).where(users_table.c.login == 'jane')\n",
    "select_stmt = select(users_table.c.login, users_table.c.name)\n",
    "\n",
    "with engine.connect() as conn:\n",
    "    conn.execute(delete_stmt)\n",
    "    conn.commit()\n",
    "\n",
    "    res = conn.execute(select_stmt)\n",
    "\n",
    "print(res.all())"
   ]
  },
  {
   "cell_type": "markdown",
   "id": "8a81459c",
   "metadata": {},
   "source": [
    "## Update values"
   ]
  },
  {
   "cell_type": "code",
   "execution_count": 17,
   "id": "a97a3298",
   "metadata": {},
   "outputs": [
    {
     "name": "stdout",
     "output_type": "stream",
     "text": [
      "2025-09-04 23:33:58,704 INFO sqlalchemy.engine.Engine BEGIN (implicit)\n",
      "2025-09-04 23:33:58,705 INFO sqlalchemy.engine.Engine UPDATE users SET name=? WHERE users.login = ?\n",
      "2025-09-04 23:33:58,706 INFO sqlalchemy.engine.Engine [generated in 0.00141s] ('John J. Doe', 'john')\n",
      "2025-09-04 23:33:58,707 INFO sqlalchemy.engine.Engine COMMIT\n",
      "2025-09-04 23:33:58,707 INFO sqlalchemy.engine.Engine BEGIN (implicit)\n",
      "2025-09-04 23:33:58,708 INFO sqlalchemy.engine.Engine SELECT users.login, users.name \n",
      "FROM users\n",
      "2025-09-04 23:33:58,708 INFO sqlalchemy.engine.Engine [cached since 104.2s ago] ()\n",
      "2025-09-04 23:33:58,709 INFO sqlalchemy.engine.Engine ROLLBACK\n"
     ]
    },
    {
     "data": {
      "text/html": [
       "<pre style=\"white-space:pre;overflow-x:auto;line-height:normal;font-family:Menlo,'DejaVu Sans Mono',consolas,'Courier New',monospace\"><span style=\"font-weight: bold\">[(</span><span style=\"color: #008000; text-decoration-color: #008000\">'john'</span>, <span style=\"color: #008000; text-decoration-color: #008000\">'John J. Doe'</span><span style=\"font-weight: bold\">)]</span>\n",
       "</pre>\n"
      ],
      "text/plain": [
       "\u001b[1m[\u001b[0m\u001b[1m(\u001b[0m\u001b[32m'john'\u001b[0m, \u001b[32m'John J. Doe'\u001b[0m\u001b[1m)\u001b[0m\u001b[1m]\u001b[0m\n"
      ]
     },
     "metadata": {},
     "output_type": "display_data"
    }
   ],
   "source": [
    "update_stmt = update(users_table).where(users_table.c.login == 'john').values(\n",
    "    name='John J. Doe',\n",
    ")\n",
    "\n",
    "with engine.connect() as conn:\n",
    "    conn.execute(update_stmt)\n",
    "    conn.commit()\n",
    "\n",
    "    res = conn.execute(select_stmt)\n",
    "\n",
    "print(res.all())"
   ]
  }
 ],
 "metadata": {
  "kernelspec": {
   "display_name": "py-experiments",
   "language": "python",
   "name": "python3"
  },
  "language_info": {
   "codemirror_mode": {
    "name": "ipython",
    "version": 3
   },
   "file_extension": ".py",
   "mimetype": "text/x-python",
   "name": "python",
   "nbconvert_exporter": "python",
   "pygments_lexer": "ipython3",
   "version": "3.12.10"
  }
 },
 "nbformat": 4,
 "nbformat_minor": 5
}
