{
 "cells": [
  {
   "cell_type": "code",
   "execution_count": 5,
   "id": "d4da0d27",
   "metadata": {},
   "outputs": [],
   "source": [
    "from rich import print\n",
    "from sqlalchemy.orm import DeclarativeBase, Mapped, mapped_column\n",
    "from sqlalchemy.orm import Session\n",
    "from sqlalchemy import create_engine\n",
    "from sqlalchemy import String"
   ]
  },
  {
   "cell_type": "code",
   "execution_count": 2,
   "id": "17b6d469",
   "metadata": {},
   "outputs": [],
   "source": [
    "class Base(DeclarativeBase):\n",
    "    id: Mapped[int] = mapped_column(primary_key=True, autoincrement=True)"
   ]
  },
  {
   "cell_type": "code",
   "execution_count": null,
   "id": "722a418a",
   "metadata": {},
   "outputs": [
    {
     "data": {
      "text/html": [
       "<pre style=\"white-space:pre;overflow-x:auto;line-height:normal;font-family:Menlo,'DejaVu Sans Mono',consolas,'Courier New',monospace\"><span style=\"color: #800080; text-decoration-color: #800080; font-weight: bold\">Table</span><span style=\"font-weight: bold\">(</span><span style=\"color: #008000; text-decoration-color: #008000\">'users'</span>, <span style=\"color: #800080; text-decoration-color: #800080; font-weight: bold\">MetaData</span><span style=\"font-weight: bold\">()</span>, <span style=\"color: #800080; text-decoration-color: #800080; font-weight: bold\">Column</span><span style=\"font-weight: bold\">(</span><span style=\"color: #008000; text-decoration-color: #008000\">'login'</span>, <span style=\"color: #800080; text-decoration-color: #800080; font-weight: bold\">String</span><span style=\"font-weight: bold\">(</span><span style=\"color: #808000; text-decoration-color: #808000\">length</span>=<span style=\"color: #008080; text-decoration-color: #008080; font-weight: bold\">20</span><span style=\"font-weight: bold\">)</span>, <span style=\"color: #808000; text-decoration-color: #808000\">table</span>=<span style=\"font-weight: bold\">&lt;</span><span style=\"color: #ff00ff; text-decoration-color: #ff00ff; font-weight: bold\">users</span><span style=\"color: #000000; text-decoration-color: #000000\">&gt;, </span><span style=\"color: #808000; text-decoration-color: #808000\">nullable</span><span style=\"color: #000000; text-decoration-color: #000000\">=</span><span style=\"color: #ff0000; text-decoration-color: #ff0000; font-style: italic\">False</span><span style=\"color: #000000; text-decoration-color: #000000; font-weight: bold\">)</span><span style=\"color: #000000; text-decoration-color: #000000\">, </span><span style=\"color: #800080; text-decoration-color: #800080; font-weight: bold\">Column</span><span style=\"color: #000000; text-decoration-color: #000000; font-weight: bold\">(</span><span style=\"color: #008000; text-decoration-color: #008000\">'name'</span><span style=\"color: #000000; text-decoration-color: #000000\">, </span>\n",
       "<span style=\"color: #800080; text-decoration-color: #800080; font-weight: bold\">String</span><span style=\"color: #000000; text-decoration-color: #000000; font-weight: bold\">(</span><span style=\"color: #808000; text-decoration-color: #808000\">length</span><span style=\"color: #000000; text-decoration-color: #000000\">=</span><span style=\"color: #008080; text-decoration-color: #008080; font-weight: bold\">50</span><span style=\"color: #000000; text-decoration-color: #000000; font-weight: bold\">)</span><span style=\"color: #000000; text-decoration-color: #000000\">, </span><span style=\"color: #808000; text-decoration-color: #808000\">table</span><span style=\"color: #000000; text-decoration-color: #000000\">=&lt;users&gt;, </span><span style=\"color: #808000; text-decoration-color: #808000\">nullable</span><span style=\"color: #000000; text-decoration-color: #000000\">=</span><span style=\"color: #ff0000; text-decoration-color: #ff0000; font-style: italic\">False</span><span style=\"color: #000000; text-decoration-color: #000000; font-weight: bold\">)</span><span style=\"color: #000000; text-decoration-color: #000000\">, </span><span style=\"color: #800080; text-decoration-color: #800080; font-weight: bold\">Column</span><span style=\"color: #000000; text-decoration-color: #000000; font-weight: bold\">(</span><span style=\"color: #008000; text-decoration-color: #008000\">'id'</span><span style=\"color: #000000; text-decoration-color: #000000\">, </span><span style=\"color: #800080; text-decoration-color: #800080; font-weight: bold\">Integer</span><span style=\"color: #000000; text-decoration-color: #000000; font-weight: bold\">()</span><span style=\"color: #000000; text-decoration-color: #000000\">, </span><span style=\"color: #808000; text-decoration-color: #808000\">table</span><span style=\"color: #000000; text-decoration-color: #000000\">=&lt;users</span><span style=\"font-weight: bold\">&gt;</span>, <span style=\"color: #808000; text-decoration-color: #808000\">primary_key</span>=<span style=\"color: #00ff00; text-decoration-color: #00ff00; font-style: italic\">True</span>, \n",
       "<span style=\"color: #808000; text-decoration-color: #808000\">nullable</span>=<span style=\"color: #ff0000; text-decoration-color: #ff0000; font-style: italic\">False</span><span style=\"font-weight: bold\">)</span>, <span style=\"color: #808000; text-decoration-color: #808000\">schema</span>=<span style=\"color: #800080; text-decoration-color: #800080; font-style: italic\">None</span><span style=\"font-weight: bold\">)</span>\n",
       "</pre>\n"
      ],
      "text/plain": [
       "\u001b[1;35mTable\u001b[0m\u001b[1m(\u001b[0m\u001b[32m'users'\u001b[0m, \u001b[1;35mMetaData\u001b[0m\u001b[1m(\u001b[0m\u001b[1m)\u001b[0m, \u001b[1;35mColumn\u001b[0m\u001b[1m(\u001b[0m\u001b[32m'login'\u001b[0m, \u001b[1;35mString\u001b[0m\u001b[1m(\u001b[0m\u001b[33mlength\u001b[0m=\u001b[1;36m20\u001b[0m\u001b[1m)\u001b[0m, \u001b[33mtable\u001b[0m=\u001b[1m<\u001b[0m\u001b[1;95musers\u001b[0m\u001b[39m>, \u001b[0m\u001b[33mnullable\u001b[0m\u001b[39m=\u001b[0m\u001b[3;91mFalse\u001b[0m\u001b[1;39m)\u001b[0m\u001b[39m, \u001b[0m\u001b[1;35mColumn\u001b[0m\u001b[1;39m(\u001b[0m\u001b[32m'name'\u001b[0m\u001b[39m, \u001b[0m\n",
       "\u001b[1;35mString\u001b[0m\u001b[1;39m(\u001b[0m\u001b[33mlength\u001b[0m\u001b[39m=\u001b[0m\u001b[1;36m50\u001b[0m\u001b[1;39m)\u001b[0m\u001b[39m, \u001b[0m\u001b[33mtable\u001b[0m\u001b[39m=<users>, \u001b[0m\u001b[33mnullable\u001b[0m\u001b[39m=\u001b[0m\u001b[3;91mFalse\u001b[0m\u001b[1;39m)\u001b[0m\u001b[39m, \u001b[0m\u001b[1;35mColumn\u001b[0m\u001b[1;39m(\u001b[0m\u001b[32m'id'\u001b[0m\u001b[39m, \u001b[0m\u001b[1;35mInteger\u001b[0m\u001b[1;39m(\u001b[0m\u001b[1;39m)\u001b[0m\u001b[39m, \u001b[0m\u001b[33mtable\u001b[0m\u001b[39m=<users\u001b[0m\u001b[1m>\u001b[0m, \u001b[33mprimary_key\u001b[0m=\u001b[3;92mTrue\u001b[0m, \n",
       "\u001b[33mnullable\u001b[0m=\u001b[3;91mFalse\u001b[0m\u001b[1m)\u001b[0m, \u001b[33mschema\u001b[0m=\u001b[3;35mNone\u001b[0m\u001b[1m)\u001b[0m\n"
      ]
     },
     "metadata": {},
     "output_type": "display_data"
    }
   ],
   "source": [
    "class User(Base):\n",
    "    __tablename__ = 'users'\n",
    "    login: Mapped[str] = mapped_column(String(20), unique=True)\n",
    "    name: Mapped[str] = mapped_column(String(50))\n",
    "\n",
    "\n",
    "print(f'{User.__table__!r}')"
   ]
  },
  {
   "cell_type": "code",
   "execution_count": null,
   "id": "e4410a6a",
   "metadata": {},
   "outputs": [],
   "source": [
    "engine = create_engine('sqlite:///:memory:')\n",
    "\n",
    "Base.metadata.create_all(engine)"
   ]
  },
  {
   "cell_type": "markdown",
   "id": "1fb3f303",
   "metadata": {},
   "source": [
    "## Insert data"
   ]
  },
  {
   "cell_type": "code",
   "execution_count": 8,
   "id": "bbc563c2",
   "metadata": {},
   "outputs": [],
   "source": [
    "with Session(engine) as session:\n",
    "    users = [\n",
    "        User(login='alex', name='Alex Petrov'),\n",
    "        User(login='ivan', name='Ivan Semenov'),\n",
    "    ]\n",
    "\n",
    "    session.add_all(users)\n",
    "\n",
    "    session.commit()"
   ]
  },
  {
   "cell_type": "markdown",
   "id": "729a9e81",
   "metadata": {},
   "source": [
    "## Select data"
   ]
  },
  {
   "cell_type": "code",
   "execution_count": 10,
   "id": "ba4cdf86",
   "metadata": {},
   "outputs": [
    {
     "data": {
      "text/html": [
       "<pre style=\"white-space:pre;overflow-x:auto;line-height:normal;font-family:Menlo,'DejaVu Sans Mono',consolas,'Courier New',monospace\">alex:  Alex Petrov\n",
       "</pre>\n"
      ],
      "text/plain": [
       "alex:  Alex Petrov\n"
      ]
     },
     "metadata": {},
     "output_type": "display_data"
    },
    {
     "data": {
      "text/html": [
       "<pre style=\"white-space:pre;overflow-x:auto;line-height:normal;font-family:Menlo,'DejaVu Sans Mono',consolas,'Courier New',monospace\">ivan:  Ivan Semenov\n",
       "</pre>\n"
      ],
      "text/plain": [
       "ivan:  Ivan Semenov\n"
      ]
     },
     "metadata": {},
     "output_type": "display_data"
    }
   ],
   "source": [
    "with Session(engine) as session:\n",
    "    for user in session.query(User).order_by(User.id):\n",
    "        print(f'{user.login}:  {user.name}')"
   ]
  },
  {
   "cell_type": "markdown",
   "id": "b6f40314",
   "metadata": {},
   "source": [
    "## Delete data"
   ]
  },
  {
   "cell_type": "code",
   "execution_count": null,
   "id": "d7e3cbda",
   "metadata": {},
   "outputs": [
    {
     "data": {
      "text/html": [
       "<pre style=\"white-space:pre;overflow-x:auto;line-height:normal;font-family:Menlo,'DejaVu Sans Mono',consolas,'Courier New',monospace\">User: alex deleted\n",
       "</pre>\n"
      ],
      "text/plain": [
       "User: alex deleted\n"
      ]
     },
     "metadata": {},
     "output_type": "display_data"
    }
   ],
   "source": [
    "with Session(engine) as session:\n",
    "    user = session.get(User, 1)\n",
    "    session.delete(user)\n",
    "    session.commit()\n",
    "\n",
    "    print(f'User: {user.login} deleted')"
   ]
  },
  {
   "cell_type": "markdown",
   "id": "5ceb8485",
   "metadata": {},
   "source": [
    "## Update data"
   ]
  },
  {
   "cell_type": "code",
   "execution_count": 12,
   "id": "a79b8b2e",
   "metadata": {},
   "outputs": [
    {
     "data": {
      "text/html": [
       "<pre style=\"white-space:pre;overflow-x:auto;line-height:normal;font-family:Menlo,'DejaVu Sans Mono',consolas,'Courier New',monospace\">User: ivan updated\n",
       "</pre>\n"
      ],
      "text/plain": [
       "User: ivan updated\n"
      ]
     },
     "metadata": {},
     "output_type": "display_data"
    }
   ],
   "source": [
    "with Session(engine) as session:\n",
    "    user = session.get(User, 2)\n",
    "    user.name = 'Ivan Ivanov'\n",
    "    session.commit()\n",
    "\n",
    "    print(f'User: {user.login} updated')"
   ]
  },
  {
   "cell_type": "code",
   "execution_count": 20,
   "id": "81fd4991",
   "metadata": {},
   "outputs": [
    {
     "data": {
      "text/html": [
       "<pre style=\"white-space:pre;overflow-x:auto;line-height:normal;font-family:Menlo,'DejaVu Sans Mono',consolas,'Courier New',monospace\"><span style=\"color: #008080; text-decoration-color: #008080; font-weight: bold\">0</span>: ivan - Ivan Ivanov\n",
       "</pre>\n"
      ],
      "text/plain": [
       "\u001b[1;36m0\u001b[0m: ivan - Ivan Ivanov\n"
      ]
     },
     "metadata": {},
     "output_type": "display_data"
    }
   ],
   "source": [
    "with Session(engine) as session:\n",
    "    users = session.query(User)\n",
    "\n",
    "    for user in enumerate(users):\n",
    "        print(f'{user[0]}: {user[1].login} - {user[1].name}')"
   ]
  }
 ],
 "metadata": {
  "kernelspec": {
   "display_name": "py-experiments",
   "language": "python",
   "name": "python3"
  },
  "language_info": {
   "codemirror_mode": {
    "name": "ipython",
    "version": 3
   },
   "file_extension": ".py",
   "mimetype": "text/x-python",
   "name": "python",
   "nbconvert_exporter": "python",
   "pygments_lexer": "ipython3",
   "version": "3.12.10"
  }
 },
 "nbformat": 4,
 "nbformat_minor": 5
}
