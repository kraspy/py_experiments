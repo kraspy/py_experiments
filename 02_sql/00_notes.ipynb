{
 "cells": [
  {
   "cell_type": "markdown",
   "id": "6379c44d",
   "metadata": {},
   "source": [
    "[docs](https://postgrespro.ru/docs/postgrespro/current/app-psql)\n",
    "\n",
    "```sh\n",
    "psql -h localhost\n",
    "\t -U user_name\n",
    "\t -d db_name\n",
    "```"
   ]
  },
  {
   "cell_type": "markdown",
   "id": "c0193fee",
   "metadata": {},
   "source": [
    "## DDL"
   ]
  },
  {
   "cell_type": "markdown",
   "id": "72f56c5a",
   "metadata": {},
   "source": [
    "### CREATE ROLE\n",
    "```sql\n",
    "create role role_name with login password 'password';\n",
    "-- create user == create role role_name with login\n",
    "```"
   ]
  },
  {
   "cell_type": "markdown",
   "id": "0db19f4c",
   "metadata": {},
   "source": [
    "### CREATE DATABASE\n",
    "\n",
    "```sql\n",
    "create database rroom_db\n",
    "    with\n",
    "    template=template0\n",
    "    encoding='UTF8'\n",
    "    lc_collate='ru_RU.UTF-8'\n",
    "    lc_ctype='ru_RU.UTF-8'\n",
    "    owner rroom;\n",
    "```"
   ]
  },
  {
   "cell_type": "markdown",
   "id": "b86e70c8",
   "metadata": {},
   "source": [
    "### ALTER\n",
    "\n",
    "```sql\n",
    "ALTER TABLE tablename\n",
    "RENAME TO   new_tablename;\n",
    "```\n",
    "\n",
    "```sql\n",
    "ALTER TABLE tablename\n",
    "RENAME COLUMN colname TO new_colname;\n",
    "```\n",
    "\n",
    "\n",
    "```sql\n",
    "ALTER TABLE tablename\n",
    "ADD|DROP COLUMN colname;\n",
    "```"
   ]
  },
  {
   "cell_type": "markdown",
   "id": "942fe662",
   "metadata": {},
   "source": [
    "```sql\n",
    "create table author (\n",
    "    author_id bigint generated always as identity primary key,\n",
    "    name varchar(150) not null check (length(name) >= 3),\n",
    "    description text check (length(description) >= 30)\n",
    ");\n",
    "\n",
    "create table book_category (\n",
    "    category_id int generated always as identity primary key,\n",
    "    name varchar(150) not null check (length(name) >= 2)\n",
    ");\n",
    "\n",
    "create table book (\n",
    "    book_id bigint generated always as identity primary key,\n",
    "    name varchar(255) not null check (length(name) >= 2),\n",
    "    author_id bigint not null references author(author_id),\n",
    "    description text check (length(description) >= 30),\n",
    "    cover varchar(255),\n",
    "    category_id int not null references book_category(category_id)\n",
    ");\n",
    "```\n",
    "\n",
    "```sql\n",
    "create temp table something (id serial, name text);\n",
    "```"
   ]
  },
  {
   "cell_type": "markdown",
   "id": "ac0aa8f4",
   "metadata": {},
   "source": [
    "### DROP\n",
    "\n",
    "```sql\n",
    "DROP DATABASE db0 WITH (FORCE);\n",
    "\n",
    "drop table if exists book_category, author, book;\n",
    "```"
   ]
  }
 ],
 "metadata": {
  "language_info": {
   "name": "python"
  }
 },
 "nbformat": 4,
 "nbformat_minor": 5
}
