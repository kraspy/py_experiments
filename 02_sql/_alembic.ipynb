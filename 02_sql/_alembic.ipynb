{
 "cells": [
  {
   "cell_type": "markdown",
   "id": "6e51902a",
   "metadata": {},
   "source": [
    "Инструмент для управления версиями базы данных в проектах с **SQLAlchemy**.  \n",
    "\n",
    "[Документация](https://alembic.sqlalchemy.org/en/latest/)"
   ]
  },
  {
   "cell_type": "code",
   "execution_count": null,
   "id": "8876a054",
   "metadata": {
    "vscode": {
     "languageId": "shellscript"
    }
   },
   "outputs": [],
   "source": [
    "# Инициализация\n",
    "alembic init alembic\n",
    "alembic init -t async alembic"
   ]
  },
  {
   "cell_type": "markdown",
   "id": "befc12c6",
   "metadata": {},
   "source": [
    "Создает:\n",
    "- **alembic.ini** — Конфиг Alembic  \n",
    "- **alembic/versions/** — Директория для версий миграций  \n",
    "- **фalembic/env.py** - Настройка окружения alembic"
   ]
  },
  {
   "cell_type": "markdown",
   "id": "11049b23",
   "metadata": {},
   "source": [
    "## Команды"
   ]
  },
  {
   "cell_type": "code",
   "execution_count": null,
   "id": "4728e7a2",
   "metadata": {
    "vscode": {
     "languageId": "shellscript"
    }
   },
   "outputs": [],
   "source": [
    "alembic revision --autogenerate -m \"comment\"  # Создает ревизию с автогенерацией кода миграции\n",
    "alembic upgrade head                          # Запускает апгрейд миграций\n",
    "alembic downgrade -1                          # Запускает даунгрейд миграций\n",
    "alembic upgrade --sql pref:pref               # Вывести SQL апгрейда \n",
    "alembic downgrade --sql pref:pref             # Вывести SQL даунгрейда\n",
    "# pref - префикс\n",
    "\n",
    "alembic current                               # Текущая версия БД\n",
    "alembic history                               # Список миграций"
   ]
  },
  {
   "cell_type": "markdown",
   "id": "7770180b",
   "metadata": {},
   "source": [
    "## `alembic.ini`\n",
    "\n",
    "- В `hooks` можно подключить black/ruff\n",
    "- `file_template` - Формат имени файла версии\n"
   ]
  },
  {
   "cell_type": "markdown",
   "id": "131ff228",
   "metadata": {
    "vscode": {
     "languageId": "shellscript"
    }
   },
   "source": [
    "## `env.py`\n",
    "- `target_metadata` - Объект метаданных (Base.metadata)\n",
    "- `config.get_main_option()` устанавливает значения опций alembic"
   ]
  },
  {
   "cell_type": "code",
   "execution_count": null,
   "id": "9707b235",
   "metadata": {
    "vscode": {
     "languageId": "shellscript"
    }
   },
   "outputs": [],
   "source": [
    "# Пример установки опции\n",
    "config.set_main_option('sqlalchemy.url', pg_url)"
   ]
  }
 ],
 "metadata": {
  "kernelspec": {
   "display_name": "py-experiments",
   "language": "python",
   "name": "python3"
  },
  "language_info": {
   "codemirror_mode": {
    "name": "ipython",
    "version": 3
   },
   "file_extension": ".py",
   "mimetype": "text/x-python",
   "name": "python",
   "nbconvert_exporter": "python",
   "pygments_lexer": "ipython3",
   "version": "3.12.10"
  }
 },
 "nbformat": 4,
 "nbformat_minor": 5
}
