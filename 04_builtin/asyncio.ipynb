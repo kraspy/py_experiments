{
 "cells": [
  {
   "cell_type": "markdown",
   "id": "f1a5bef7",
   "metadata": {},
   "source": [
    "[Документация](https://docs.python.org/3/library/asyncio.html#module-asyncio)"
   ]
  },
  {
   "cell_type": "code",
   "execution_count": 13,
   "id": "473b7435",
   "metadata": {},
   "outputs": [],
   "source": [
    "import asyncio\n",
    "import nest_asyncio\n",
    "nest_asyncio.apply()"
   ]
  },
  {
   "cell_type": "markdown",
   "id": "edcb6c6f",
   "metadata": {},
   "source": [
    "## Срвнение sync/async"
   ]
  },
  {
   "cell_type": "code",
   "execution_count": 14,
   "id": "7b62630e",
   "metadata": {},
   "outputs": [],
   "source": [
    "sleep_time = 1  # sec"
   ]
  },
  {
   "cell_type": "markdown",
   "id": "6813ce3d",
   "metadata": {},
   "source": [
    "### sync"
   ]
  },
  {
   "cell_type": "code",
   "execution_count": 15,
   "id": "08f717da",
   "metadata": {},
   "outputs": [],
   "source": [
    "from time import sleep\n",
    "\n",
    "\n",
    "def get_some_data():\n",
    "    print('⌛ Получаем данные...')\n",
    "\n",
    "    sleep(sleep_time)\n",
    "\n",
    "    print('✅ Данные получены.')\n",
    "    return {'status': 'ok', 'data': {'key': 'value'}}\n",
    "\n",
    "def get_movies(): \n",
    "    print('⌛ Получаем список фильмов...')\n",
    "\n",
    "    sleep(sleep_time)\n",
    "\n",
    "    print('✅ Список фильмов получен.')\n",
    "    return ['movie1', 'movie2', 'movie3']"
   ]
  },
  {
   "cell_type": "code",
   "execution_count": 16,
   "id": "4e280fb4",
   "metadata": {},
   "outputs": [
    {
     "name": "stdout",
     "output_type": "stream",
     "text": [
      "⌛ Получаем данные...\n",
      "✅ Данные получены.\n",
      "⌛ Получаем список фильмов...\n",
      "✅ Список фильмов получен.\n",
      "Время выполнения (sync): 2.00 s\n"
     ]
    }
   ],
   "source": [
    "import time\n",
    "\n",
    "start_time = time.time()\n",
    "data       = get_some_data()\n",
    "movies     = get_movies()\n",
    "end_time   = time.time()\n",
    "print(f'Время выполнения (sync): {end_time - start_time:.2f} s')"
   ]
  },
  {
   "cell_type": "markdown",
   "id": "354be857",
   "metadata": {},
   "source": [
    "### async"
   ]
  },
  {
   "cell_type": "code",
   "execution_count": 17,
   "id": "09bc1238",
   "metadata": {},
   "outputs": [],
   "source": [
    "async def async_get_some_data():\n",
    "    print('⌛ Получаем данные...')\n",
    "\n",
    "    await asyncio.sleep(sleep_time)\n",
    "\n",
    "    print('✅ Данные получены.')\n",
    "    return {'status': 'ok', 'data': {'key': 'value'}}\n",
    "\n",
    "async def async_get_movies(): \n",
    "    print('⌛ Получаем список фильмов...')\n",
    "\n",
    "    await asyncio.sleep(sleep_time)\n",
    "\n",
    "    print('✅ Список фильмов получен.')\n",
    "    return ['movie1', 'movie2', 'movie3']"
   ]
  },
  {
   "cell_type": "code",
   "execution_count": 18,
   "id": "5a1c52ba",
   "metadata": {},
   "outputs": [
    {
     "name": "stdout",
     "output_type": "stream",
     "text": [
      "⌛ Получаем данные...\n",
      "⌛ Получаем список фильмов...\n",
      "✅ Данные получены.\n",
      "✅ Список фильмов получен.\n",
      "Время выполнения (async): 1.00 s\n"
     ]
    }
   ],
   "source": [
    "import time\n",
    "\n",
    "start_time = time.time()\n",
    "\n",
    "# await для двух корутин сразу\n",
    "data, movies = await asyncio.gather(async_get_some_data(), async_get_movies())\n",
    "end_time   = time.time()\n",
    "\n",
    "\n",
    "print(f'Время выполнения (async): {end_time - start_time:.2f} s')"
   ]
  },
  {
   "cell_type": "markdown",
   "id": "00508748",
   "metadata": {},
   "source": [
    "- Async-функция возвращает объект корутины, результат которой нужно ждать (await).\n",
    "- Корутина выполняется в момент await.\n",
    "- при await gather() - запускает await сразу для нескольких корутин.\n",
    "- Пока await из корутины не разрешился, выполнение кода продолжается в цикле событий.\n",
    "- При завершении корутины, на место await подставляется результат."
   ]
  },
  {
   "cell_type": "markdown",
   "id": "82f2b16b",
   "metadata": {},
   "source": [
    "## TaskGroup"
   ]
  },
  {
   "cell_type": "markdown",
   "id": "65e8a452",
   "metadata": {},
   "source": [
    "- Объект задачи содержит внутри себя корутину (`Task(coro=coro, ...)`).\n",
    "- Задачи внутри TaskGroup запускаются либо при выходе из async with, либо при первом await."
   ]
  },
  {
   "cell_type": "code",
   "execution_count": 19,
   "id": "12353179",
   "metadata": {},
   "outputs": [
    {
     "name": "stdout",
     "output_type": "stream",
     "text": [
      "Запуск TaskGroup()...\n",
      "📥 Добавлена задача: get_some_data()\n",
      "📥 Добавлена задача: get_movies()\n",
      "⌛ Получаем данные...\n",
      "⌛ Получаем список фильмов...\n",
      "✅ Данные получены.\n",
      "✅ Список фильмов получен.\n",
      "✅ TaskGroup() выполнена\n",
      "Время выполнения (async): 1.00 s\n",
      "{'status': 'ok', 'data': {'key': 'value'}}\n",
      "['movie1', 'movie2', 'movie3']\n"
     ]
    }
   ],
   "source": [
    "start_time = time.time()\n",
    "\n",
    "async with asyncio.TaskGroup() as tg: \n",
    "    print('Запуск TaskGroup()...')\n",
    "    \n",
    "    data_task = tg.create_task(async_get_some_data())\n",
    "    print('📥 Добавлена задача: get_some_data()')\n",
    "\n",
    "    movies_task = tg.create_task(async_get_movies())\n",
    "    print('📥 Добавлена задача: get_movies()')\n",
    "\n",
    "print('✅ TaskGroup() выполнена')\n",
    "end_time = time.time()\n",
    "print(f'Время выполнения (async): {end_time - start_time:.2f} s')\n",
    "    \n",
    "print(data_task.result())\n",
    "print(movies_task.result())\n"
   ]
  }
 ],
 "metadata": {
  "kernelspec": {
   "display_name": "py-experiments",
   "language": "python",
   "name": "python3"
  },
  "language_info": {
   "codemirror_mode": {
    "name": "ipython",
    "version": 3
   },
   "file_extension": ".py",
   "mimetype": "text/x-python",
   "name": "python",
   "nbconvert_exporter": "python",
   "pygments_lexer": "ipython3",
   "version": "3.12.10"
  }
 },
 "nbformat": 4,
 "nbformat_minor": 5
}
