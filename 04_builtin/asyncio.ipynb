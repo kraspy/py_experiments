{
 "cells": [
  {
   "cell_type": "markdown",
   "id": "f1a5bef7",
   "metadata": {},
   "source": [
    "[Документация](https://docs.python.org/3/library/asyncio.html#module-asyncio)"
   ]
  },
  {
   "cell_type": "code",
   "execution_count": 1,
   "id": "473b7435",
   "metadata": {},
   "outputs": [],
   "source": [
    "import asyncio\n",
    "import nest_asyncio\n",
    "nest_asyncio.apply()"
   ]
  },
  {
   "cell_type": "markdown",
   "id": "dca99b80",
   "metadata": {},
   "source": [
    "## Заметки"
   ]
  },
  {
   "cell_type": "markdown",
   "id": "9f1d7f77",
   "metadata": {},
   "source": [
    "- **coroutine** - функция с async, которая создаёт coroutine object и исполняется только при:\n",
    "    - await\n",
    "    - когда её оборачивают в Task\n",
    "- **Task** - обёртка над корутиной для планирования её выполнения циклом событий\n",
    "- **Event loop** - планирует задачи, обрабатывает I/O, колбэки и переключается при await\n",
    "\n",
    "**asyncio.run(coro)**: создать цикл, выполнить корутину, закрыть цикл.\\\n",
    "**asyncio.create_task(coro)**: запланировать корутину как задачу, вернуть Task.\\\n",
    "**await asyncio.sleep(n)**: Отпускает поток (\"Уступает\" циклу событий).\\\n",
    "**await gather()**: запускает await сразу для нескольких корутин.\n",
    "\n",
    "- Пока await из корутины не разрешился, выполнение кода продолжается в цикле событий.\n",
    "- При завершении корутины, на место await подставляется результат."
   ]
  },
  {
   "cell_type": "markdown",
   "id": "c78cb8fe",
   "metadata": {},
   "source": [
    "## coro vs Task"
   ]
  },
  {
   "cell_type": "code",
   "execution_count": 16,
   "id": "a67b0449",
   "metadata": {},
   "outputs": [
    {
     "name": "stdout",
     "output_type": "stream",
     "text": [
      "None\n"
     ]
    }
   ],
   "source": [
    "async def async_coro():\n",
    "    return None\n",
    "\n",
    "c = async_coro\n",
    "\n",
    "res = await c()\n",
    "\n",
    "print(res)"
   ]
  },
  {
   "cell_type": "code",
   "execution_count": 12,
   "id": "b103a654",
   "metadata": {},
   "outputs": [
    {
     "name": "stdout",
     "output_type": "stream",
     "text": [
      "None\n"
     ]
    }
   ],
   "source": [
    "task = asyncio.create_task(async_coro())\n",
    "\n",
    "await asyncio.sleep(0)\n",
    "print(task.result())"
   ]
  },
  {
   "cell_type": "markdown",
   "id": "edcb6c6f",
   "metadata": {},
   "source": [
    "## sync vs async (IO-Bound)"
   ]
  },
  {
   "cell_type": "code",
   "execution_count": 18,
   "id": "d481c650",
   "metadata": {},
   "outputs": [],
   "source": [
    "import time"
   ]
  },
  {
   "cell_type": "markdown",
   "id": "6813ce3d",
   "metadata": {},
   "source": [
    "### sync"
   ]
  },
  {
   "cell_type": "code",
   "execution_count": null,
   "id": "08f717da",
   "metadata": {},
   "outputs": [
    {
     "name": "stdout",
     "output_type": "stream",
     "text": [
      "Время выполнения (sync): 6.00 s\n"
     ]
    },
    {
     "data": {
      "text/plain": [
       "['1 seconds', '2 seconds', '3 seconds']"
      ]
     },
     "execution_count": 29,
     "metadata": {},
     "output_type": "execute_result"
    }
   ],
   "source": [
    "def get_data(sleep):\n",
    "    time.sleep(sleep)\n",
    "    return f'{sleep} s.'\n",
    "\n",
    "def get_sync_data():\n",
    "    start_time = time.time()\n",
    "\n",
    "    data = [get_data(sleep=sleep) for sleep in range(1, 4)]\n",
    "\n",
    "    end_time = time.time()\n",
    "    print(f'Время выполнения (sync): {end_time - start_time:.2f} s')\n",
    "\n",
    "    return data\n",
    "\n",
    "get_sync_data()"
   ]
  },
  {
   "cell_type": "markdown",
   "id": "354be857",
   "metadata": {},
   "source": [
    "### async"
   ]
  },
  {
   "cell_type": "code",
   "execution_count": 32,
   "id": "09bc1238",
   "metadata": {},
   "outputs": [
    {
     "name": "stdout",
     "output_type": "stream",
     "text": [
      "Время выполнения (async): 3.00 s\n"
     ]
    },
    {
     "data": {
      "text/plain": [
       "['1 s.', '2 s.', '3 s.']"
      ]
     },
     "execution_count": 32,
     "metadata": {},
     "output_type": "execute_result"
    }
   ],
   "source": [
    "async def aget_data(sleep):\n",
    "    await asyncio.sleep(sleep)\n",
    "    return f'{sleep} s.'\n",
    "\n",
    "async def get_async_data():\n",
    "    start_time = time.time()\n",
    "\n",
    "    funcs = [aget_data(sleep=sleep) for sleep in range(1, 4)]\n",
    "\n",
    "    data = await asyncio.gather(*funcs)\n",
    "\n",
    "    end_time = time.time()\n",
    "    print(f'Время выполнения (async): {end_time - start_time:.2f} s')\n",
    "\n",
    "    return data\n",
    "\n",
    "await get_async_data()"
   ]
  },
  {
   "cell_type": "markdown",
   "id": "56310353",
   "metadata": {},
   "source": [
    "## Отмена задач"
   ]
  },
  {
   "cell_type": "code",
   "execution_count": 44,
   "id": "4d4c186a",
   "metadata": {},
   "outputs": [
    {
     "name": "stdout",
     "output_type": "stream",
     "text": [
      "task is running...\n",
      "task is running...\n",
      "task is cancelled\n"
     ]
    }
   ],
   "source": [
    "async def some_task(sleep=1):\n",
    "    while 1:\n",
    "        await asyncio.sleep(sleep)\n",
    "        print('task is running...')\n",
    "        \n",
    "task0 = asyncio.create_task(some_task())\n",
    "\n",
    "await asyncio.sleep(3)\n",
    "\n",
    "task0.cancel()\n",
    "\n",
    "try:\n",
    "    await task0\n",
    "except asyncio.CancelledError:\n",
    "    print('task is cancelled')"
   ]
  },
  {
   "cell_type": "markdown",
   "id": "82f2b16b",
   "metadata": {},
   "source": [
    "## TaskGroup"
   ]
  },
  {
   "cell_type": "markdown",
   "id": "65e8a452",
   "metadata": {},
   "source": [
    "- Объект задачи содержит внутри себя корутину (`Task(coro=coro, ...)`).\n",
    "- Задачи внутри TaskGroup запускаются либо при выходе из async with, либо при первом await."
   ]
  },
  {
   "cell_type": "code",
   "execution_count": 50,
   "id": "12353179",
   "metadata": {},
   "outputs": [
    {
     "name": "stdout",
     "output_type": "stream",
     "text": [
      "Запуск TaskGroup()...\n",
      "📥 Добавлена задача: <Task pending name='Task-64' coro=<aget_data() running at /tmp/ipykernel_1256118/2943665540.py:1> cb=[TaskGroup._on_task_done()]>\n",
      "📥 Добавлена задача: <Task pending name='Task-65' coro=<aget_data() running at /tmp/ipykernel_1256118/2943665540.py:1> cb=[TaskGroup._on_task_done()]>\n",
      "✅ TaskGroup() выполнена\n",
      "Время выполнения (async): 2.00 s\n",
      "1 s.\n",
      "2 s.\n"
     ]
    }
   ],
   "source": [
    "start_time = time.time()\n",
    "\n",
    "async with asyncio.TaskGroup() as tg: \n",
    "    print('Запуск TaskGroup()...')\n",
    "    \n",
    "    task1 = tg.create_task(aget_data(1))\n",
    "    print(f'📥 Добавлена задача: {task1}')\n",
    "\n",
    "    task2 = tg.create_task(aget_data(2))\n",
    "    print(f'📥 Добавлена задача: {task2}')\n",
    "\n",
    "print('✅ TaskGroup() выполнена')\n",
    "end_time = time.time()\n",
    "print(f'Время выполнения (async): {end_time - start_time:.2f} s')\n",
    "    \n",
    "print(task1.result())\n",
    "print(task2.result())\n"
   ]
  },
  {
   "cell_type": "markdown",
   "id": "a61ab8a7",
   "metadata": {},
   "source": [
    "## timeout"
   ]
  },
  {
   "cell_type": "code",
   "execution_count": 51,
   "id": "2c73b80c",
   "metadata": {},
   "outputs": [
    {
     "name": "stdout",
     "output_type": "stream",
     "text": [
      "⚙️ Запуск get_something()...\n",
      "🚀 Запуск foo()...\n",
      "🚀 Запуск bar()...\n",
      "✅ bar() вернула значение\n",
      "TimeoutError\n"
     ]
    }
   ],
   "source": [
    "async def foo(): \n",
    "    print('🚀 Запуск foo()...')\n",
    "    await asyncio.sleep(2)\n",
    "    print('✅ foo() вернула значение')\n",
    "    return 'foo'\n",
    "\n",
    "async def bar(): \n",
    "    print('🚀 Запуск bar()...')\n",
    "    await asyncio.sleep(1)\n",
    "    print('✅ bar() вернула значение')\n",
    "    return 'bar'\n",
    "\n",
    "async def get_something(): \n",
    "    \n",
    "    print('⚙️ Запуск get_something()...')\n",
    "    \n",
    "    async with asyncio.timeout(2): \n",
    "        foo_result, bar_result = await asyncio.gather(foo(), bar())\n",
    "\n",
    "    print(foo_result)\n",
    "    print(bar_result)\n",
    "\n",
    "try:\n",
    "    await get_something()\n",
    "except TimeoutError: \n",
    "    print('TimeoutError')"
   ]
  },
  {
   "cell_type": "markdown",
   "id": "77bf6125",
   "metadata": {},
   "source": [
    "## CPU-bound задачи внутри async\n",
    "CPU-bound задачи (или синхронный sleep) внутри корутин блокируют поток и не дают идти циклу событий."
   ]
  },
  {
   "cell_type": "code",
   "execution_count": 52,
   "id": "d8d00926",
   "metadata": {},
   "outputs": [
    {
     "name": "stdout",
     "output_type": "stream",
     "text": [
      "🚀 Запуск func1()...\n",
      "🚀 Запуск func2()...\n",
      "✅ func2(): OK\n",
      "TimeoutError\n"
     ]
    }
   ],
   "source": [
    "async def func1(): \n",
    "    print('🚀 Запуск func1()...')\n",
    "    for i in range(10_000):   # ~ 2s \n",
    "        \n",
    "        # Переключаем контекст для того, что бы дать пройти циклу событий\n",
    "        if i % 100 == 0:\n",
    "            await asyncio.sleep(0)\n",
    "        # Иначе поток заблокируется\n",
    "        i ** i\n",
    "\n",
    "    print('✅ func1(): OK')   \n",
    "    return 'func1'\n",
    "\n",
    "async def func2(): \n",
    "    print('🚀 Запуск func2()...')\n",
    "    await asyncio.sleep(1)\n",
    "    print('✅ func2(): OK')   \n",
    "    return 'func2'\n",
    "\n",
    "async def run_f1_f2(): \n",
    "    start_time = time.time()\n",
    "\n",
    "    async with asyncio.timeout(2): \n",
    "        f1, f2 = await asyncio.gather(func1(), func2())\n",
    "    \n",
    "    end_time = time.time()\n",
    "\n",
    "    print(f'Время выполнения (async): {end_time - start_time:.2f} s')\n",
    "\n",
    "try:\n",
    "    asyncio.run(run_f1_f2())\n",
    "except TimeoutError: \n",
    "    print('TimeoutError')"
   ]
  }
 ],
 "metadata": {
  "kernelspec": {
   "display_name": "py-experiments",
   "language": "python",
   "name": "python3"
  },
  "language_info": {
   "codemirror_mode": {
    "name": "ipython",
    "version": 3
   },
   "file_extension": ".py",
   "mimetype": "text/x-python",
   "name": "python",
   "nbconvert_exporter": "python",
   "pygments_lexer": "ipython3",
   "version": "3.12.10"
  }
 },
 "nbformat": 4,
 "nbformat_minor": 5
}
