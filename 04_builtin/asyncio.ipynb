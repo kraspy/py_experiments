{
 "cells": [
  {
   "cell_type": "markdown",
   "id": "f1a5bef7",
   "metadata": {},
   "source": [
    "[Документация](https://docs.python.org/3/library/asyncio.html#module-asyncio)"
   ]
  },
  {
   "cell_type": "code",
   "execution_count": 1,
   "id": "473b7435",
   "metadata": {},
   "outputs": [],
   "source": [
    "import asyncio\n",
    "import nest_asyncio\n",
    "nest_asyncio.apply()"
   ]
  },
  {
   "cell_type": "code",
   "execution_count": 2,
   "id": "7b62630e",
   "metadata": {},
   "outputs": [],
   "source": [
    "sleep_time = 1  # sec"
   ]
  },
  {
   "cell_type": "markdown",
   "id": "dca99b80",
   "metadata": {},
   "source": [
    "## Заметки"
   ]
  },
  {
   "cell_type": "markdown",
   "id": "9f1d7f77",
   "metadata": {},
   "source": [
    "- **coroutine** - функция с async, которая создаёт coroutine object и исполняется только при:\n",
    "    - await\n",
    "    - когда её оборачивают в Task\n",
    "- **Task** - обёртка над корутиной для планирования её выполнения циклом событий\n",
    "- **Event loop** - планирует задачи, обрабатывает I/O, колбэки и переключается при await\n",
    "\n",
    "**asyncio.run(coro)**: создать цикл, выполнить корутину, закрыть цикл.\\\n",
    "**asyncio.create_task(coro)**: запланировать корутину как задачу, вернуть Task.\\\n",
    "**await asyncio.sleep(n)**: Отпускает поток (\"Уступает\" циклу событий).\\\n",
    "**await gather()**: запускает await сразу для нескольких корутин.\n",
    "\n",
    "- Пока await из корутины не разрешился, выполнение кода продолжается в цикле событий.\n",
    "- При завершении корутины, на место await подставляется результат."
   ]
  },
  {
   "cell_type": "markdown",
   "id": "edcb6c6f",
   "metadata": {},
   "source": [
    "## sync vs async (IO-Bound)"
   ]
  },
  {
   "cell_type": "markdown",
   "id": "6813ce3d",
   "metadata": {},
   "source": [
    "### sync"
   ]
  },
  {
   "cell_type": "code",
   "execution_count": 15,
   "id": "08f717da",
   "metadata": {},
   "outputs": [],
   "source": [
    "from time import sleep\n",
    "\n",
    "\n",
    "def get_some_data():\n",
    "    print('⌛ Получаем данные...')\n",
    "\n",
    "    sleep(sleep_time)\n",
    "\n",
    "    print('✅ Данные получены.')\n",
    "    return {'status': 'ok', 'data': {'key': 'value'}}\n",
    "\n",
    "def get_movies(): \n",
    "    print('⌛ Получаем список фильмов...')\n",
    "\n",
    "    sleep(sleep_time)\n",
    "\n",
    "    print('✅ Список фильмов получен.')\n",
    "    return ['movie1', 'movie2', 'movie3']"
   ]
  },
  {
   "cell_type": "code",
   "execution_count": 16,
   "id": "4e280fb4",
   "metadata": {},
   "outputs": [
    {
     "name": "stdout",
     "output_type": "stream",
     "text": [
      "⌛ Получаем данные...\n",
      "✅ Данные получены.\n",
      "⌛ Получаем список фильмов...\n",
      "✅ Список фильмов получен.\n",
      "Время выполнения (sync): 2.00 s\n"
     ]
    }
   ],
   "source": [
    "import time\n",
    "\n",
    "start_time = time.time()\n",
    "data       = get_some_data()\n",
    "movies     = get_movies()\n",
    "end_time   = time.time()\n",
    "print(f'Время выполнения (sync): {end_time - start_time:.2f} s')"
   ]
  },
  {
   "cell_type": "markdown",
   "id": "354be857",
   "metadata": {},
   "source": [
    "### async"
   ]
  },
  {
   "cell_type": "code",
   "execution_count": 17,
   "id": "09bc1238",
   "metadata": {},
   "outputs": [],
   "source": [
    "async def async_get_some_data():\n",
    "    print('⌛ Получаем данные...')\n",
    "\n",
    "    await asyncio.sleep(sleep_time)\n",
    "\n",
    "    print('✅ Данные получены.')\n",
    "    return {'status': 'ok', 'data': {'key': 'value'}}\n",
    "\n",
    "async def async_get_movies(): \n",
    "    print('⌛ Получаем список фильмов...')\n",
    "\n",
    "    await asyncio.sleep(sleep_time)\n",
    "\n",
    "    print('✅ Список фильмов получен.')\n",
    "    return ['movie1', 'movie2', 'movie3']"
   ]
  },
  {
   "cell_type": "code",
   "execution_count": null,
   "id": "5a1c52ba",
   "metadata": {},
   "outputs": [
    {
     "name": "stdout",
     "output_type": "stream",
     "text": [
      "⌛ Получаем данные...\n",
      "⌛ Получаем список фильмов...\n",
      "✅ Данные получены.\n",
      "✅ Список фильмов получен.\n",
      "Время выполнения (async): 1.00 s\n"
     ]
    }
   ],
   "source": [
    "import time\n",
    "\n",
    "start_time = time.time()\n",
    "\n",
    "# await для двух корутин сразу\n",
    "data, movies = await asyncio.gather(async_get_some_data(), async_get_movies())\n",
    "end_time = time.time()\n",
    "\n",
    "print(f'Время выполнения (async): {end_time - start_time:.2f} s')"
   ]
  },
  {
   "cell_type": "markdown",
   "id": "82f2b16b",
   "metadata": {},
   "source": [
    "## TaskGroup"
   ]
  },
  {
   "cell_type": "markdown",
   "id": "65e8a452",
   "metadata": {},
   "source": [
    "- Объект задачи содержит внутри себя корутину (`Task(coro=coro, ...)`).\n",
    "- Задачи внутри TaskGroup запускаются либо при выходе из async with, либо при первом await."
   ]
  },
  {
   "cell_type": "code",
   "execution_count": 19,
   "id": "12353179",
   "metadata": {},
   "outputs": [
    {
     "name": "stdout",
     "output_type": "stream",
     "text": [
      "Запуск TaskGroup()...\n",
      "📥 Добавлена задача: get_some_data()\n",
      "📥 Добавлена задача: get_movies()\n",
      "⌛ Получаем данные...\n",
      "⌛ Получаем список фильмов...\n",
      "✅ Данные получены.\n",
      "✅ Список фильмов получен.\n",
      "✅ TaskGroup() выполнена\n",
      "Время выполнения (async): 1.00 s\n",
      "{'status': 'ok', 'data': {'key': 'value'}}\n",
      "['movie1', 'movie2', 'movie3']\n"
     ]
    }
   ],
   "source": [
    "start_time = time.time()\n",
    "\n",
    "async with asyncio.TaskGroup() as tg: \n",
    "    print('Запуск TaskGroup()...')\n",
    "    \n",
    "    data_task = tg.create_task(async_get_some_data())\n",
    "    print('📥 Добавлена задача: get_some_data()')\n",
    "\n",
    "    movies_task = tg.create_task(async_get_movies())\n",
    "    print('📥 Добавлена задача: get_movies()')\n",
    "\n",
    "print('✅ TaskGroup() выполнена')\n",
    "end_time = time.time()\n",
    "print(f'Время выполнения (async): {end_time - start_time:.2f} s')\n",
    "    \n",
    "print(data_task.result())\n",
    "print(movies_task.result())\n"
   ]
  },
  {
   "cell_type": "markdown",
   "id": "a61ab8a7",
   "metadata": {},
   "source": [
    "## timeout"
   ]
  },
  {
   "cell_type": "code",
   "execution_count": 24,
   "id": "2c73b80c",
   "metadata": {},
   "outputs": [
    {
     "name": "stdout",
     "output_type": "stream",
     "text": [
      "⚙️ Запуск get_something()...\n",
      "🚀 Запуск foo()...\n",
      "🚀 Запуск bar()...\n",
      "✅ bar() вернула значение\n",
      "TimeoutError\n"
     ]
    }
   ],
   "source": [
    "async def foo(): \n",
    "    print('🚀 Запуск foo()...')\n",
    "    await asyncio.sleep(2)\n",
    "    print('✅ foo() вернула значение')\n",
    "    return 'foo'\n",
    "\n",
    "async def bar(): \n",
    "    print('🚀 Запуск bar()...')\n",
    "    await asyncio.sleep(1)\n",
    "    print('✅ bar() вернула значение')\n",
    "    return 'bar'\n",
    "\n",
    "async def get_something(): \n",
    "    \n",
    "    print('⚙️ Запуск get_something()...')\n",
    "    \n",
    "    async with asyncio.timeout(2): \n",
    "        foo_result, bar_result = await asyncio.gather(foo(), bar())\n",
    "\n",
    "    print(foo_result)\n",
    "    print(bar_result)\n",
    "\n",
    "try:\n",
    "    await get_something()\n",
    "except TimeoutError: \n",
    "    print('TimeoutError')"
   ]
  },
  {
   "cell_type": "markdown",
   "id": "77bf6125",
   "metadata": {},
   "source": [
    "## CPU-bound задачи внутри async\n",
    "CPU-bound задачи (или синхронный sleep) внутри корутин блокируют поток и не дают идти циклу событий."
   ]
  },
  {
   "cell_type": "code",
   "execution_count": null,
   "id": "d8d00926",
   "metadata": {},
   "outputs": [
    {
     "name": "stdout",
     "output_type": "stream",
     "text": [
      "🚀 Запуск func1()...\n",
      "🚀 Запуск func2()...\n",
      "✅ func2(): OK\n",
      "TimeoutError\n"
     ]
    }
   ],
   "source": [
    "async def func1(): \n",
    "    print('🚀 Запуск func1()...')\n",
    "    for i in range(10_000):   # ~ 2s \n",
    "        \n",
    "        # Переключаем контекст для того, что бы дать пройти циклу событий\n",
    "        if i % 100 == 0:\n",
    "            await asyncio.sleep(0)\n",
    "        # Иначе поток заблокируется\n",
    "        i ** i\n",
    "\n",
    "    print('✅ func1(): OK')   \n",
    "    return 'func1'\n",
    "\n",
    "async def func2(): \n",
    "    print('🚀 Запуск func2()...')\n",
    "    await asyncio.sleep(1)\n",
    "    print('✅ func2(): OK')   \n",
    "    return 'func2'\n",
    "\n",
    "async def run_f1_f2(): \n",
    "    start_time = time.time()\n",
    "\n",
    "    async with asyncio.timeout(2): \n",
    "        f1, f2 = await asyncio.gather(func1(), func2())\n",
    "    \n",
    "    end_time = time.time()\n",
    "\n",
    "    print(f'Время выполнения (async): {end_time - start_time:.2f} s')\n",
    "\n",
    "try:\n",
    "    asyncio.run(run_f1_f2())\n",
    "except TimeoutError: \n",
    "    print('TimeoutError')"
   ]
  }
 ],
 "metadata": {
  "kernelspec": {
   "display_name": "py-experiments",
   "language": "python",
   "name": "python3"
  },
  "language_info": {
   "codemirror_mode": {
    "name": "ipython",
    "version": 3
   },
   "file_extension": ".py",
   "mimetype": "text/x-python",
   "name": "python",
   "nbconvert_exporter": "python",
   "pygments_lexer": "ipython3",
   "version": "3.12.10"
  }
 },
 "nbformat": 4,
 "nbformat_minor": 5
}
