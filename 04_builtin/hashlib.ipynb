{
 "cells": [
  {
   "cell_type": "markdown",
   "id": "6abca309",
   "metadata": {},
   "source": [
    "Хэширование\n",
    "\n",
    "[Документация](https://docs.python.org/3/library/hashlib.html#module-hashlib)"
   ]
  },
  {
   "cell_type": "code",
   "execution_count": 5,
   "id": "f1f2af67",
   "metadata": {},
   "outputs": [],
   "source": [
    "import hashlib"
   ]
  },
  {
   "cell_type": "markdown",
   "id": "b8c1f904",
   "metadata": {},
   "source": [
    "## Методы\n",
    "```sh\n",
    ".md5()\n",
    ".sha1()\n",
    ".sha224()\n",
    ".sha256()\n",
    ".sha384()\n",
    ".sha512()\n",
    ".sha3_224()\n",
    ".sha3_256()\n",
    ".sha3_384()\n",
    ".sha3_512()\n",
    ".shake_128()\n",
    ".shake_256()\n",
    "```"
   ]
  },
  {
   "cell_type": "code",
   "execution_count": 14,
   "id": "d6486f90",
   "metadata": {},
   "outputs": [
    {
     "name": "stdout",
     "output_type": "stream",
     "text": [
      "---sha1---\n",
      "5baa61e4c9b93f3f0682250b6cf8331b7ee68fd8\n",
      "b'[\\xaaa\\xe4\\xc9\\xb9??\\x06\\x82%\\x0bl\\xf83\\x1b~\\xe6\\x8f\\xd8'\n",
      "\n",
      "---md5---\n",
      "5f4dcc3b5aa765d61d8327deb882cf99\n",
      "b\"_M\\xcc;Z\\xa7e\\xd6\\x1d\\x83'\\xde\\xb8\\x82\\xcf\\x99\"\n"
     ]
    }
   ],
   "source": [
    "# sha1\n",
    "sha = hashlib.sha1(b'password')\n",
    "\n",
    "# md5\n",
    "md5 = hashlib.md5(b'password')\n",
    "\n",
    "print('---sha1---')\n",
    "print(sha.hexdigest())\n",
    "print(sha.digest())\n",
    "\n",
    "print('\\n---md5---')\n",
    "print(md5.hexdigest())\n",
    "print(md5.digest())"
   ]
  }
 ],
 "metadata": {
  "kernelspec": {
   "display_name": "py-experiments",
   "language": "python",
   "name": "python3"
  },
  "language_info": {
   "codemirror_mode": {
    "name": "ipython",
    "version": 3
   },
   "file_extension": ".py",
   "mimetype": "text/x-python",
   "name": "python",
   "nbconvert_exporter": "python",
   "pygments_lexer": "ipython3",
   "version": "3.12.10"
  }
 },
 "nbformat": 4,
 "nbformat_minor": 5
}
