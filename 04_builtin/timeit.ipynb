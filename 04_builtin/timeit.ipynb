{
 "cells": [
  {
   "cell_type": "markdown",
   "id": "842b4ced",
   "metadata": {},
   "source": [
    "Измерение времени выполнения небольших фрагментов кода.\n",
    "\n",
    "[Документация](https://docs.python.org/3/library/timeit.html#module-timeit)"
   ]
  },
  {
   "cell_type": "code",
   "execution_count": 1,
   "id": "92db747e",
   "metadata": {},
   "outputs": [],
   "source": [
    "import timeit"
   ]
  },
  {
   "cell_type": "code",
   "execution_count": 2,
   "id": "9a0a658e",
   "metadata": {},
   "outputs": [
    {
     "name": "stdout",
     "output_type": "stream",
     "text": [
      "Время выполнения: 0.0003223069943487644 секунд\n"
     ]
    }
   ],
   "source": [
    "result = timeit.timeit('sum(range(100))', number=1000)\n",
    "print(f\"Время выполнения: {result} секунд\")"
   ]
  },
  {
   "cell_type": "code",
   "execution_count": 3,
   "id": "4319ef8d",
   "metadata": {},
   "outputs": [
    {
     "name": "stdout",
     "output_type": "stream",
     "text": [
      "[0.0003424289752729237, 0.00031809299252927303, 0.00032320001628249884, 0.00031944899819791317, 0.00031755800591781735]\n"
     ]
    }
   ],
   "source": [
    "code = 'sum(range(100))'\n",
    "\n",
    "times = timeit.repeat(stmt=code, number=1000, repeat=5)\n",
    "print(times)"
   ]
  }
 ],
 "metadata": {
  "kernelspec": {
   "display_name": "py-experiments",
   "language": "python",
   "name": "python3"
  },
  "language_info": {
   "codemirror_mode": {
    "name": "ipython",
    "version": 3
   },
   "file_extension": ".py",
   "mimetype": "text/x-python",
   "name": "python",
   "nbconvert_exporter": "python",
   "pygments_lexer": "ipython3",
   "version": "3.12.10"
  }
 },
 "nbformat": 4,
 "nbformat_minor": 5
}
