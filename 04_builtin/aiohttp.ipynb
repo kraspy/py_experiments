{
 "cells": [
  {
   "cell_type": "markdown",
   "id": "31869e6d",
   "metadata": {},
   "source": [
    "[Документация](https://docs.aiohttp.org/en/stable/)\n",
    "\n",
    "[public api](https://github.com/public-apis/public-apis)"
   ]
  },
  {
   "cell_type": "code",
   "execution_count": 2,
   "id": "3e0bb8a9",
   "metadata": {},
   "outputs": [],
   "source": [
    "import asyncio\n",
    "from dataclasses import dataclass\n",
    "\n",
    "import aiohttp"
   ]
  },
  {
   "cell_type": "code",
   "execution_count": 3,
   "id": "8b1481f2",
   "metadata": {},
   "outputs": [],
   "source": [
    "import nest_asyncio\n",
    "nest_asyncio.apply()"
   ]
  },
  {
   "cell_type": "code",
   "execution_count": 14,
   "id": "ee0c8f8b",
   "metadata": {},
   "outputs": [],
   "source": [
    "faker_url = 'https://fakerapi.it/api/v2/users?_quantity=1'"
   ]
  },
  {
   "cell_type": "markdown",
   "id": "8762927c",
   "metadata": {},
   "source": [
    "## Сессия"
   ]
  },
  {
   "cell_type": "code",
   "execution_count": 15,
   "id": "619a2449",
   "metadata": {},
   "outputs": [
    {
     "name": "stdout",
     "output_type": "stream",
     "text": [
      "[{'id': 1, 'uuid': 'd1ea43bf-0c53-327c-8638-6c0f67cc676a', 'firstname': 'Zoe', 'lastname': 'Larson', 'username': 'fokeefe', 'password': 'MXauk9X', 'email': 'brisa88@yahoo.com', 'ip': '7.75.206.178', 'macAddress': '3E:CC:AB:B3:C7:A3', 'website': 'http://torphy.org', 'image': 'http://placeimg.com/640/480/people'}]\n"
     ]
    }
   ],
   "source": [
    "async with aiohttp.ClientSession(\n",
    "    raise_for_status=True,  # Автоматическая обработка ошибок\n",
    ") as session:\n",
    "    async with session.get(faker_url) as response:\n",
    "        res = await response.json()\n",
    "\n",
    "print(res['data'])"
   ]
  },
  {
   "cell_type": "markdown",
   "id": "1e9ef814",
   "metadata": {},
   "source": [
    "## headers, params, cookies"
   ]
  },
  {
   "cell_type": "code",
   "execution_count": 27,
   "id": "e607b004",
   "metadata": {},
   "outputs": [
    {
     "name": "stdout",
     "output_type": "stream",
     "text": [
      "[{'id': 1, 'uuid': '13726011-6472-3d1a-8f5c-dd7427e40cbc', 'firstname': 'Zella', 'lastname': 'Adams', 'username': 'mathilde.anderson', 'password': 'dn|;tMQR\\\\4Vng*+g(r', 'email': 'phoebe.stanton@hotmail.com', 'ip': '3.64.147.241', 'macAddress': '55:AC:D1:21:ED:3D', 'website': 'http://donnelly.net', 'image': 'http://placeimg.com/640/480/people'}]\n"
     ]
    }
   ],
   "source": [
    "async with aiohttp.ClientSession(headers={'Accept': 'application/json'}) as session:\n",
    "    async with session.get(faker_url, cookies={'foo': 'bar'}, params={'q': 'search'}) as response:\n",
    "        result = await response.json()\n",
    "\n",
    "print(result['data'])"
   ]
  },
  {
   "cell_type": "markdown",
   "id": "4ff7a1b1",
   "metadata": {},
   "source": [
    "## get, post, put, delete"
   ]
  },
  {
   "cell_type": "code",
   "execution_count": null,
   "id": "a1847287",
   "metadata": {},
   "outputs": [],
   "source": [
    "async with aiohttp.ClientSession() as session:\n",
    "    async with session.get(faker_url) as response:\n",
    "        await response.json()\n",
    "\n",
    "    async with session.post(faker_url, json={'foo': 'bar'}) as response:\n",
    "        await response.json()\n",
    "\n",
    "    async with session.put(faker_url, json={'foo': 'bar'}) as response:\n",
    "        await response.json()\n",
    "\n",
    "    async with session.delete(faker_url) as response:\n",
    "        await response.json()"
   ]
  },
  {
   "cell_type": "markdown",
   "id": "21fc30d8",
   "metadata": {},
   "source": [
    "## Таймауты"
   ]
  },
  {
   "cell_type": "code",
   "execution_count": null,
   "id": "227c71f0",
   "metadata": {},
   "outputs": [],
   "source": [
    "timeout = aiohttp.ClientTimeout(\n",
    "    total=15,\n",
    "    connect=5,\n",
    "    sock_connect=5,\n",
    "    sock_read=10,\n",
    ")\n",
    "\n",
    "async with aiohttp.ClientSession(timeout=timeout) as session:\n",
    "    async with session.get(faker_url) as response:\n",
    "        await response.json()"
   ]
  },
  {
   "cell_type": "markdown",
   "id": "9042e60e",
   "metadata": {},
   "source": [
    "## Обработка ошибок"
   ]
  },
  {
   "cell_type": "code",
   "execution_count": 34,
   "id": "bb33d29b",
   "metadata": {},
   "outputs": [
    {
     "name": "stdout",
     "output_type": "stream",
     "text": [
      "Network error %F0%9F%A4%A8https://fakerapi.it/api/v2/users?_quantity=1\n"
     ]
    }
   ],
   "source": [
    "async with aiohttp.ClientSession() as s:\n",
    "        \n",
    "    try:\n",
    "        async with s.get('🤨' + faker_url) as r:\n",
    "            r.raise_for_status()\n",
    "            data = await r.json()\n",
    "    except aiohttp.ClientResponseError as e:\n",
    "        print(\"HTTP error\", e.status, e.message)\n",
    "    except aiohttp.ClientError as e:\n",
    "        print(\"Network error\", e)\n",
    "    except asyncio.TimeoutError:\n",
    "        print(\"Timeout\")\n"
   ]
  },
  {
   "cell_type": "markdown",
   "id": "374fd020",
   "metadata": {},
   "source": [
    "## Примеры"
   ]
  },
  {
   "cell_type": "code",
   "execution_count": 4,
   "id": "423fde24",
   "metadata": {},
   "outputs": [],
   "source": [
    "@dataclass\n",
    "class Service:\n",
    "    name: str\n",
    "    url: str"
   ]
  },
  {
   "cell_type": "code",
   "execution_count": null,
   "id": "1a983ff2",
   "metadata": {},
   "outputs": [],
   "source": [
    "ip_services = [\n",
    "    Service('ipify.org', 'https://api.ipify.org?format=json'),\n",
    "    Service('httpbin.org (https)', 'https://httpbin.org/get'),\n",
    "]"
   ]
  },
  {
   "cell_type": "code",
   "execution_count": null,
   "id": "bd180bea",
   "metadata": {},
   "outputs": [],
   "source": [
    "from time import time\n",
    "\n",
    "\n",
    "async def fetch_ip(service):\n",
    "    start = time()\n",
    "\n",
    "    print(f'Sending request to {service.name}...', end='')\n",
    "\n",
    "    async with aiohttp.ClientSession() as session:\n",
    "        async with session.get(service.url) as response:\n",
    "            print(response.status)\n",
    "            result = await response.json()\n",
    "            \n",
    "            end = time()\n",
    "\n",
    "    print(f'Время выполнения запроса ({service.name}): {end - start:.2f} s')\n",
    "\n",
    "    return result\n",
    "    "
   ]
  },
  {
   "cell_type": "code",
   "execution_count": 7,
   "id": "2a912f27",
   "metadata": {},
   "outputs": [
    {
     "name": "stdout",
     "output_type": "stream",
     "text": [
      "Sending request to ipify.org...200\n",
      "Время выполнения запроса (ipify.org): 0.79 s\n",
      "{'ip': '213.111.131.113'}\n",
      "Sending request to httpbin.org...200\n",
      "Время выполнения запроса (httpbin.org): 3.81 s\n",
      "{'args': {}, 'headers': {'Accept': '*/*', 'Accept-Encoding': 'gzip, deflate', 'Host': 'httpbin.org', 'User-Agent': 'Python/3.12 aiohttp/3.12.15', 'X-Amzn-Trace-Id': 'Root=1-68cbb841-67d9c90863bfbc37469e7013'}, 'origin': '213.111.131.113', 'url': 'https://httpbin.org/get'}\n"
     ]
    }
   ],
   "source": [
    "for service in ip_services:\n",
    "    res = await fetch_ip(service)\n",
    "\n",
    "    print(res)"
   ]
  },
  {
   "cell_type": "code",
   "execution_count": 8,
   "id": "d1ce84ff",
   "metadata": {},
   "outputs": [],
   "source": [
    "async def fetch_all(services: list[Service]):\n",
    "    async with asyncio.TaskGroup() as tg:\n",
    "        ipify_result = tg.create_task(fetch_ip(services[0]))\n",
    "        httpbin_result = tg.create_task(fetch_ip(services[1]))\n",
    "    \n",
    "    return ipify_result, httpbin_result"
   ]
  },
  {
   "cell_type": "code",
   "execution_count": 9,
   "id": "227c5d33",
   "metadata": {},
   "outputs": [
    {
     "name": "stdout",
     "output_type": "stream",
     "text": [
      "Sending request to ipify.org...Sending request to httpbin.org...200\n",
      "Время выполнения запроса (ipify.org): 0.81 s\n",
      "200\n",
      "Время выполнения запроса (httpbin.org): 1.82 s\n"
     ]
    },
    {
     "data": {
      "text/plain": [
       "1.8173140159924515"
      ]
     },
     "execution_count": 9,
     "metadata": {},
     "output_type": "execute_result"
    }
   ],
   "source": [
    "import timeit\n",
    "\n",
    "timeit.timeit(lambda: asyncio.run(fetch_all(ip_services)), number=1)"
   ]
  }
 ],
 "metadata": {
  "kernelspec": {
   "display_name": "py-experiments",
   "language": "python",
   "name": "python3"
  },
  "language_info": {
   "codemirror_mode": {
    "name": "ipython",
    "version": 3
   },
   "file_extension": ".py",
   "mimetype": "text/x-python",
   "name": "python",
   "nbconvert_exporter": "python",
   "pygments_lexer": "ipython3",
   "version": "3.12.10"
  }
 },
 "nbformat": 4,
 "nbformat_minor": 5
}
