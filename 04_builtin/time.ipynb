{
 "cells": [
  {
   "cell_type": "markdown",
   "id": "e3c60ec2",
   "metadata": {},
   "source": [
    "[Документация](https://docs.python.org/3/library/time.html#module-time)"
   ]
  },
  {
   "cell_type": "code",
   "execution_count": 1,
   "id": "b6be2e4b",
   "metadata": {},
   "outputs": [],
   "source": [
    "import time as t"
   ]
  },
  {
   "cell_type": "markdown",
   "id": "35ae2ea3",
   "metadata": {},
   "source": [
    "## Format\n",
    "```python\n",
    "%Y  # 2020 | Год с веком\n",
    "%y  # 20   | Год без века\n",
    "%B  # June | Полн. месяц\n",
    "%b  # Jn   | Сокр.  месяц\n",
    "%m  # 06   | Номер месяца\n",
    "%d  # 27   | День месяца\n",
    "%A  # Mon. | Полн. день недели\n",
    "%a  # Mon  | Сокр. день недели\n",
    "%w  # 1    | Номер дня недели\n",
    "%H  # 24   | Час\n",
    "%I  # 12   | Час\n",
    "%p  # AM   | AM/PM\n",
    "%M  # 00   | Число минут\n",
    "%S  # 00   | Число секунд\n",
    "%Z  # +07  | Временная зона\n",
    "%%  # %\n",
    "%c  # Sat Jan  4 11:19:04 2020\n",
    "%x  # 06/27/20\n",
    "%X  # 01:23:45\n",
    "%j  # День года (001-366)\n",
    "%W  # Неделя года (00пн-53)\n",
    "%U  # Неделя года (00вс-53)\n",
    "```"
   ]
  },
  {
   "cell_type": "markdown",
   "id": "546b70a4",
   "metadata": {},
   "source": [
    "### t.struct_time\n",
    "```python\n",
    "tm_year  [0] # 1-12\n",
    "tm_mon   [1] # 1-31\n",
    "tm_mday  [2] # 0-23\n",
    "tm_hour  [3] # 0-23\n",
    "tm_min   [4] # 0-59\n",
    "tm_sec   [5] # 0-59\n",
    "tm_wday  [6] # 0 ### пн\n",
    "tm_yday  [7] # 1### 366\n",
    "tm_isdst [8] # 0,1 || –1\n",
    "```\n"
   ]
  },
  {
   "cell_type": "markdown",
   "id": "a71560f2",
   "metadata": {},
   "source": [
    "## Методы"
   ]
  },
  {
   "cell_type": "markdown",
   "id": "c5e429a2",
   "metadata": {},
   "source": [
    "### time() ⇒ float"
   ]
  },
  {
   "cell_type": "code",
   "execution_count": 4,
   "id": "9435266f",
   "metadata": {},
   "outputs": [
    {
     "data": {
      "text/plain": [
       "1757936829.859773"
      ]
     },
     "execution_count": 4,
     "metadata": {},
     "output_type": "execute_result"
    }
   ],
   "source": [
    "t.time()"
   ]
  },
  {
   "cell_type": "markdown",
   "id": "e0dc32e9",
   "metadata": {},
   "source": [
    "### monotonic() ⇒ float\n",
    "Аналог time()\n",
    "> Не зависит от корректировок времени"
   ]
  },
  {
   "cell_type": "code",
   "execution_count": 5,
   "id": "20cc6beb",
   "metadata": {},
   "outputs": [
    {
     "data": {
      "text/plain": [
       "129206.690177905"
      ]
     },
     "execution_count": 5,
     "metadata": {},
     "output_type": "execute_result"
    }
   ],
   "source": [
    "t.monotonic()"
   ]
  },
  {
   "cell_type": "markdown",
   "id": "c121abc1",
   "metadata": {},
   "source": [
    "### gmtime([sec]) ⇒ struct_time\n",
    "Возвращает struct_time\n",
    "> GMT+0"
   ]
  },
  {
   "cell_type": "code",
   "execution_count": 7,
   "id": "06fa882e",
   "metadata": {},
   "outputs": [
    {
     "data": {
      "text/plain": [
       "time.struct_time(tm_year=2025, tm_mon=9, tm_mday=15, tm_hour=11, tm_min=47, tm_sec=41, tm_wday=0, tm_yday=258, tm_isdst=0)"
      ]
     },
     "execution_count": 7,
     "metadata": {},
     "output_type": "execute_result"
    }
   ],
   "source": [
    "t.gmtime()"
   ]
  },
  {
   "cell_type": "markdown",
   "id": "9ea6c093",
   "metadata": {},
   "source": [
    "### localtime([sec]) ⇒ struct_time\n",
    "Возвращает struct_time\n",
    "> Локальное время"
   ]
  },
  {
   "cell_type": "code",
   "execution_count": null,
   "id": "71519cfc",
   "metadata": {},
   "outputs": [],
   "source": [
    "t.localtime()"
   ]
  },
  {
   "cell_type": "markdown",
   "id": "97ffbb40",
   "metadata": {},
   "source": [
    "### mktime([struct_time]) ⇒ sec\n",
    "Преобразует struct_time в sec (unix)"
   ]
  },
  {
   "cell_type": "code",
   "execution_count": 8,
   "id": "ea291601",
   "metadata": {},
   "outputs": [
    {
     "data": {
      "text/plain": [
       "time.struct_time(tm_year=2025, tm_mon=9, tm_mday=15, tm_hour=11, tm_min=48, tm_sec=53, tm_wday=0, tm_yday=258, tm_isdst=0)"
      ]
     },
     "execution_count": 8,
     "metadata": {},
     "output_type": "execute_result"
    }
   ],
   "source": [
    "t.gmtime()"
   ]
  },
  {
   "cell_type": "markdown",
   "id": "b4014e4c",
   "metadata": {},
   "source": [
    "### asctime([struct_time]) ⇒ string\n",
    "Преобразует struct_time в строку\n",
    "> Если без аргумента: текущее время"
   ]
  },
  {
   "cell_type": "code",
   "execution_count": 9,
   "id": "b7a11be7",
   "metadata": {},
   "outputs": [
    {
     "data": {
      "text/plain": [
       "'Mon Sep 15 18:48:58 2025'"
      ]
     },
     "execution_count": 9,
     "metadata": {},
     "output_type": "execute_result"
    }
   ],
   "source": [
    "t.asctime()"
   ]
  },
  {
   "cell_type": "markdown",
   "id": "76e47a7d",
   "metadata": {},
   "source": [
    "### ctime([sec]) ⇒ string\n",
    "Преобразует sec в строку\n",
    "> Если без аргумента: текущее время"
   ]
  },
  {
   "cell_type": "code",
   "execution_count": 15,
   "id": "58afbaab",
   "metadata": {},
   "outputs": [
    {
     "data": {
      "text/plain": [
       "'Mon Sep 15 18:51:03 2025'"
      ]
     },
     "execution_count": 15,
     "metadata": {},
     "output_type": "execute_result"
    }
   ],
   "source": [
    "t.ctime(t.time())"
   ]
  },
  {
   "cell_type": "markdown",
   "id": "b902ea6b",
   "metadata": {},
   "source": [
    "### sleep(sec) ⇒ None\n",
    "Остановить программу на sec секунд"
   ]
  },
  {
   "cell_type": "code",
   "execution_count": 16,
   "id": "cd493c9e",
   "metadata": {},
   "outputs": [],
   "source": [
    "t.sleep(2)"
   ]
  },
  {
   "cell_type": "markdown",
   "id": "2994dc70",
   "metadata": {},
   "source": [
    "### t.strftime(f, [struct_time]) ⇒ string\n",
    "Пользовательский формат вывода"
   ]
  },
  {
   "cell_type": "code",
   "execution_count": 17,
   "id": "7d5c5afd",
   "metadata": {},
   "outputs": [
    {
     "data": {
      "text/plain": [
       "'18 51 23'"
      ]
     },
     "execution_count": 17,
     "metadata": {},
     "output_type": "execute_result"
    }
   ],
   "source": [
    "t.strftime('%H %M %S', t.localtime())"
   ]
  },
  {
   "cell_type": "markdown",
   "id": "6b9a067e",
   "metadata": {},
   "source": [
    "### t.strptime(string[, format]) ⇒ struct_time\n",
    "Получение даты из строки\n",
    "> Default: \"%a %b %d %H:%M:%S %Y”"
   ]
  },
  {
   "cell_type": "code",
   "execution_count": 18,
   "id": "b9010d9d",
   "metadata": {},
   "outputs": [
    {
     "data": {
      "text/plain": [
       "time.struct_time(tm_year=1988, tm_mon=6, tm_mday=27, tm_hour=0, tm_min=0, tm_sec=0, tm_wday=0, tm_yday=179, tm_isdst=-1)"
      ]
     },
     "execution_count": 18,
     "metadata": {},
     "output_type": "execute_result"
    }
   ],
   "source": [
    "t.strptime(\"27 Jun 88\", \"%d %b %y\")"
   ]
  }
 ],
 "metadata": {
  "kernelspec": {
   "display_name": "py-experiments",
   "language": "python",
   "name": "python3"
  },
  "language_info": {
   "codemirror_mode": {
    "name": "ipython",
    "version": 3
   },
   "file_extension": ".py",
   "mimetype": "text/x-python",
   "name": "python",
   "nbconvert_exporter": "python",
   "pygments_lexer": "ipython3",
   "version": "3.12.10"
  }
 },
 "nbformat": 4,
 "nbformat_minor": 5
}
