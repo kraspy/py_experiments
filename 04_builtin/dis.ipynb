{
 "cells": [
  {
   "cell_type": "markdown",
   "id": "0be82cd5",
   "metadata": {},
   "source": [
    "Позволяет анализировать байткод Python\n",
    "\n",
    "[Документация](https://docs.python.org/3/library/dis.html#module-dis)"
   ]
  },
  {
   "cell_type": "code",
   "execution_count": 4,
   "id": "8eb85bcd",
   "metadata": {},
   "outputs": [
    {
     "name": "stdout",
     "output_type": "stream",
     "text": [
      "  3           0 RESUME                   0\n",
      "\n",
      "  4           2 LOAD_FAST                0 (a)\n",
      "              4 LOAD_FAST                1 (b)\n",
      "              6 BINARY_OP                0 (+)\n",
      "             10 STORE_FAST               2 (c)\n",
      "\n",
      "  5          12 LOAD_FAST                2 (c)\n",
      "             14 RETURN_VALUE\n"
     ]
    }
   ],
   "source": [
    "import dis\n",
    "\n",
    "def example_func(a, b):\n",
    "    c = a + b\n",
    "    return c\n",
    "\n",
    "dis.dis(example_func)"
   ]
  },
  {
   "cell_type": "markdown",
   "id": "67f2ca07",
   "metadata": {},
   "source": [
    "## Чтение вывода `dis.dis()`\n",
    "\n",
    "```\n",
    "<строка>   <смещение>   <операция>   <операнд>   (<описание операнда>)\n",
    "```\n",
    "- **Строка**: номер строки в исходном коде.\n",
    "- **Смещение** (offset): позиция в байткоде (байты).\n",
    "- **Операция** (opcode): команда интерпретатора.\n",
    "- **Операнд**: аргумент инструкции.\n",
    "- **Описание**: значение переменной или объекта."
   ]
  },
  {
   "cell_type": "markdown",
   "id": "325d1736",
   "metadata": {},
   "source": [
    "### Основные операции:\n",
    "\n",
    "|Инструкция|Описание|Пример работы|\n",
    "|---|---|---|\n",
    "|`LOAD_CONST`|Загрузка константы|`LOAD_CONST 1 (10)`|\n",
    "|`LOAD_FAST`|Загрузка локальной переменной|`LOAD_FAST 0 (a)`|\n",
    "|`STORE_FAST`|Сохранение в локальную переменную|`STORE_FAST 2 (c)`|\n",
    "|`BINARY_ADD`|Сложение двух верхних элементов стека|`BINARY_ADD`|\n",
    "|`RETURN_VALUE`|Возврат значения|`RETURN_VALUE`|\n",
    "|`CALL_FUNCTION`|Вызов функции|`CALL_FUNCTION 1`|\n",
    "|`JUMP_ABSOLUTE`|Безусловный переход на указанный байт|`JUMP_ABSOLUTE 8`|"
   ]
  }
 ],
 "metadata": {
  "kernelspec": {
   "display_name": "py-experiments",
   "language": "python",
   "name": "python3"
  },
  "language_info": {
   "codemirror_mode": {
    "name": "ipython",
    "version": 3
   },
   "file_extension": ".py",
   "mimetype": "text/x-python",
   "name": "python",
   "nbconvert_exporter": "python",
   "pygments_lexer": "ipython3",
   "version": "3.12.10"
  }
 },
 "nbformat": 4,
 "nbformat_minor": 5
}
