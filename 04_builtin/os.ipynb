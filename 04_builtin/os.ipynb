{
 "cells": [
  {
   "cell_type": "markdown",
   "id": "99f98783",
   "metadata": {},
   "source": [
    "[Документация](https://docs.python.org/3/library/os.html#module-os)"
   ]
  },
  {
   "cell_type": "code",
   "execution_count": 1,
   "id": "19e00f8e",
   "metadata": {},
   "outputs": [],
   "source": [
    "import os"
   ]
  },
  {
   "cell_type": "markdown",
   "id": "c66b505e",
   "metadata": {},
   "source": [
    "## 📁 Работа с директориями"
   ]
  },
  {
   "cell_type": "code",
   "execution_count": 2,
   "id": "e90cb26b",
   "metadata": {},
   "outputs": [
    {
     "name": "stdout",
     "output_type": "stream",
     "text": [
      "['path']\n"
     ]
    }
   ],
   "source": [
    "os.mkdir('test')  # Содать директорию\n",
    "os.chdir('test')  # Перейти в директорию\n",
    "os.getcwd()       # Получить текущую директорию\n",
    "os.makedirs('path/to/dir', exist_ok=True)  # С промежуточными папками\n",
    "\n",
    "print(os.listdir('.'))   # Список файлов и папок\n",
    "\n",
    "os.removedirs('path/to/dir')  # Удалить все пустые родительские папки\n",
    "\n",
    "os.chdir('..')\n",
    "os.rmdir('test')  # Удалить пустую папку"
   ]
  },
  {
   "cell_type": "markdown",
   "id": "0646809e",
   "metadata": {},
   "source": [
    "## 🔍 Обход файловой системы"
   ]
  },
  {
   "cell_type": "code",
   "execution_count": 3,
   "id": "fc763874",
   "metadata": {},
   "outputs": [
    {
     "name": "stdout",
     "output_type": "stream",
     "text": [
      "Путь: .\n",
      "Директории: []\n",
      "Файлы: ['math.ipynb', 'json.ipynb', 'array.ipynb', 'turtle.ipynb', 'tkinter.ipynb']\n"
     ]
    }
   ],
   "source": [
    "for root, dirs, files in os.walk('.', topdown=True):  # Генератор\n",
    "    print(f'Путь: {root}')\n",
    "    print(f'Директории: {dirs}')\n",
    "    print(f'Файлы: {files[:5]}')"
   ]
  },
  {
   "cell_type": "code",
   "execution_count": 4,
   "id": "5283809f",
   "metadata": {},
   "outputs": [
    {
     "name": "stdout",
     "output_type": "stream",
     "text": [
      "math.ipynb True False\n",
      "json.ipynb True False\n",
      "array.ipynb True False\n",
      "turtle.ipynb True False\n"
     ]
    }
   ],
   "source": [
    "with os.scandir('.') as entries:  # Итератор\n",
    "    for idx, entry in enumerate(entries):\n",
    "        if idx > 3:\n",
    "            break\n",
    "        print(entry.name, entry.is_file(), entry.is_dir())"
   ]
  },
  {
   "cell_type": "markdown",
   "id": "b103aeed",
   "metadata": {},
   "source": [
    "## 📄 Работа с файлами"
   ]
  },
  {
   "cell_type": "code",
   "execution_count": 5,
   "id": "9b2fb1f5",
   "metadata": {},
   "outputs": [],
   "source": [
    "os.open('file', os.O_CREAT)    # Создать файл\n",
    "os.rename('file', 'file.txt')  # Переименовать файл/директорию\n",
    "\n",
    "os.utime('file.txt', None)     # Обновить время доступа и модификации\n",
    "os.stat('file.txt')            # Информация о файле (размер, права, время)\n",
    "\n",
    "os.mkdir('tmp')                # Содать директорию\n",
    "\n",
    "os.replace('file.txt', 'tmp/file.txt')  # Переместить файл\n",
    "\n",
    "os.renames('tmp/file.txt', 't2/file')   # С промежуточными каталогами\n",
    "\n",
    "os.remove('t2/file')                   # Удалить файл\n",
    "os.rmdir('t2')                         # Удалить пустую папку"
   ]
  },
  {
   "cell_type": "markdown",
   "id": "cd825ba9",
   "metadata": {},
   "source": [
    "## 🔑 Права доступа"
   ]
  },
  {
   "cell_type": "code",
   "execution_count": null,
   "id": "f7c5d3dc",
   "metadata": {},
   "outputs": [],
   "source": [
    "os.access('file.txt', os.R_OK)    # Проверить доступ: R_OK, W_OK, X_OK, F_OK\n",
    "os.chmod('file.txt', 0o755)       # Изменить права доступа\n",
    "os.chown('file.txt', 1000, 1000)  # Изменить владельца (uid, gid)"
   ]
  },
  {
   "cell_type": "markdown",
   "id": "2f394d0c",
   "metadata": {},
   "source": [
    "## 🛠️ Файловые операции"
   ]
  },
  {
   "cell_type": "code",
   "execution_count": 6,
   "id": "05b41a71",
   "metadata": {},
   "outputs": [
    {
     "name": "stdout",
     "output_type": "stream",
     "text": [
      "True\n",
      "True\n",
      "False\n",
      "2\n",
      "/home/evgeniy/code/py_experiments/04_builtin/file.txt\n",
      "file.txt\n",
      "/path\n",
      "('/path', 'file.txt')\n",
      "('file', '.txt')\n",
      "folder/file.txt\n"
     ]
    }
   ],
   "source": [
    "with open('file.txt', 'w') as f:\n",
    "    f.write('А')\n",
    "\n",
    "print(\n",
    "    os.path.exists('file.txt'),          # Существует ли файл/директория\n",
    "    os.path.isfile('file.txt'),          # Это файл?\n",
    "    os.path.isdir('file.txt'),           # Это Директория?\n",
    "    os.path.getsize('file.txt'),         # Размер файла\n",
    "    os.path.abspath('file.txt'),         # Полный путь\n",
    "    os.path.basename('/path/file.txt'),  # Имя файла\n",
    "    os.path.dirname('/path/file.txt'),   # Путь к папке\n",
    "    os.path.split('/path/file.txt'),     # ('/path', 'file.txt')\n",
    "    os.path.splitext('file.txt'),        # ('file', '.txt')\n",
    "    os.path.join('folder', 'file.txt'),  # Объединить пути\n",
    "    sep='\\n'\n",
    ")\n",
    "\n",
    "os.unlink('file.txt')"
   ]
  },
  {
   "cell_type": "markdown",
   "id": "346e1c32",
   "metadata": {},
   "source": [
    "## 🔗 Ссылки"
   ]
  },
  {
   "cell_type": "code",
   "execution_count": 7,
   "id": "57d53f10",
   "metadata": {},
   "outputs": [],
   "source": [
    "with open('src.txt', 'w') as f:\n",
    "    f.write('B')\n",
    "\n",
    "os.link('src.txt', 'hardlink.txt')    # Жёсткая ссылка\n",
    "os.symlink('src.txt', 'symlink.txt')  # Символическая ссылка\n",
    "os.readlink('symlink.txt')            # Получить путь к оригиналу\n",
    "\n",
    "# Удалить созданные файлы\n",
    "rm_files = [\n",
    "    'src.txt',\n",
    "    'symlink.txt',\n",
    "    'hardlink.txt',\n",
    "]\n",
    "for f in rm_files:\n",
    "    os.remove(f)"
   ]
  },
  {
   "cell_type": "markdown",
   "id": "b1e2291c",
   "metadata": {},
   "source": [
    "## 🌿 Переменные окружения"
   ]
  },
  {
   "cell_type": "code",
   "execution_count": 8,
   "id": "a2c6c9a1",
   "metadata": {},
   "outputs": [
    {
     "data": {
      "text/plain": [
       "'value'"
      ]
     },
     "execution_count": 8,
     "metadata": {},
     "output_type": "execute_result"
    }
   ],
   "source": [
    "os.environ['HOME']              # Получить переменную\n",
    "os.environ['MY_VAR'] = 'value'  # Установить переменную\n",
    "os.getenv('MY_VAR', 'default')  # Получить с значением по умолчанию"
   ]
  },
  {
   "cell_type": "markdown",
   "id": "0d5d909d",
   "metadata": {},
   "source": [
    "## 📜 Информация об ОС"
   ]
  },
  {
   "cell_type": "code",
   "execution_count": null,
   "id": "904bb164",
   "metadata": {},
   "outputs": [
    {
     "data": {
      "text/plain": [
       "'\\n'"
      ]
     },
     "execution_count": 54,
     "metadata": {},
     "output_type": "execute_result"
    }
   ],
   "source": [
    "os.name             # 'posix', 'nt'\n",
    "os.uname()          # Информация об ОС\n",
    "os.environ          # Переменные среды\n",
    "os.get_exec_path()  # Пути поиска исполняемых файлов\n",
    "os.pathsep          # Разделитель путей (: или ;)\n",
    "os.linesep          # Разделитель строк (\\n или \\r\\n)"
   ]
  },
  {
   "cell_type": "markdown",
   "id": "5e7996df",
   "metadata": {},
   "source": [
    "## ⚙️ Работа с процессами"
   ]
  },
  {
   "cell_type": "code",
   "execution_count": null,
   "id": "eb20b4aa",
   "metadata": {},
   "outputs": [
    {
     "name": "stdout",
     "output_type": "stream",
     "text": [
      "os.ipynb\n",
      "os_path.ipynb\n"
     ]
    },
    {
     "data": {
      "text/plain": [
       "28"
      ]
     },
     "execution_count": 50,
     "metadata": {},
     "output_type": "execute_result"
    }
   ],
   "source": [
    "os.system('ls | grep os')  # Выполнить команду\n",
    "os.getpid()      # ID текущего процесса\n",
    "os.getppid()     # ID родительского процесса\n",
    "os.cpu_count()   # Количество ядер процессора"
   ]
  }
 ],
 "metadata": {
  "kernelspec": {
   "display_name": "py-experiments",
   "language": "python",
   "name": "python3"
  },
  "language_info": {
   "codemirror_mode": {
    "name": "ipython",
    "version": 3
   },
   "file_extension": ".py",
   "mimetype": "text/x-python",
   "name": "python",
   "nbconvert_exporter": "python",
   "pygments_lexer": "ipython3",
   "version": "3.12.10"
  }
 },
 "nbformat": 4,
 "nbformat_minor": 5
}
