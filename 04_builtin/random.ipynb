{
 "cells": [
  {
   "cell_type": "markdown",
   "id": "46a0da34",
   "metadata": {},
   "source": [
    "Функции для генерации случайных чисел, выбора случайных элементов из последовательностей и перемешивания последовательностей.\n",
    "\n",
    "[Документация](https://docs.python.org/3/library/r.html#module-r)"
   ]
  },
  {
   "cell_type": "code",
   "execution_count": 21,
   "id": "674f5107",
   "metadata": {},
   "outputs": [],
   "source": [
    "import random as r"
   ]
  },
  {
   "cell_type": "code",
   "execution_count": 22,
   "id": "39da02a9",
   "metadata": {},
   "outputs": [],
   "source": [
    "seq = [1, 2, 'A', 'B']"
   ]
  },
  {
   "cell_type": "code",
   "execution_count": 56,
   "id": "e6fd3918",
   "metadata": {},
   "outputs": [
    {
     "name": "stdout",
     "output_type": "stream",
     "text": [
      "None\n",
      "2\n",
      "8\n",
      "0.8474337369372327\n",
      "7.6377461897661405\n",
      "A\n",
      "[1, 'B', 2, 2, 1]\n",
      "['B', 1, 2]\n",
      "\n",
      "[2, 1, 'A', 'B']\n"
     ]
    }
   ],
   "source": [
    "print(\n",
    "    r.seed(1),              # Инициализация генератора случайных чисел\n",
    "    r.randint(0, 10),       # Случайное целое число от a до b (включительно)\n",
    "    r.randrange(0, 10, 2),  # Случайное целое число от a до b (не включая b) с шагом s\n",
    "    r.random(),             # Случайное число с плавающей точкой от 0 до 1\n",
    "    r.uniform(0, 10),       # Случайное число с плавающей точкой от a до b\n",
    "    r.choice(seq),          # Случайный элемент из последовательности seq\n",
    "    r.choices(seq, k=5),    # Случайна выборка (могут повторяться). k может быть > len(seq)\n",
    "    r.sample(seq, k=3),     # Случайна выборка (без повторов). k <= len(seq)\n",
    "    sep='\\n',\n",
    "    end='\\n\\n'\n",
    ")\n",
    "\n",
    "r.shuffle(seq)  # Перемешивает последовательность seq\n",
    "print(seq)"
   ]
  }
 ],
 "metadata": {
  "kernelspec": {
   "display_name": "py-experiments",
   "language": "python",
   "name": "python3"
  },
  "language_info": {
   "codemirror_mode": {
    "name": "ipython",
    "version": 3
   },
   "file_extension": ".py",
   "mimetype": "text/x-python",
   "name": "python",
   "nbconvert_exporter": "python",
   "pygments_lexer": "ipython3",
   "version": "3.12.10"
  }
 },
 "nbformat": 4,
 "nbformat_minor": 5
}
