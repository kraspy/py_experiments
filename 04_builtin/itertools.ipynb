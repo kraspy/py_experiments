{
 "cells": [
  {
   "cell_type": "markdown",
   "id": "e8221160",
   "metadata": {},
   "source": [
    "[Документация](https://docs.python.org/3/library/itertools.html#module-itertools)"
   ]
  },
  {
   "cell_type": "code",
   "execution_count": 1,
   "id": "57d7bb63",
   "metadata": {},
   "outputs": [],
   "source": [
    "import itertools as it"
   ]
  },
  {
   "cell_type": "markdown",
   "id": "ca59818e",
   "metadata": {},
   "source": [
    "## count(start[, step=1])\n",
    "Бесконечный счетчик"
   ]
  },
  {
   "cell_type": "code",
   "execution_count": 2,
   "id": "fb0ad442",
   "metadata": {},
   "outputs": [
    {
     "name": "stdout",
     "output_type": "stream",
     "text": [
      "1 2 3 4 5 6 7 8 9 10 "
     ]
    }
   ],
   "source": [
    "for i in it.count(1):\n",
    "    if i > 10:\n",
    "        break\n",
    "    print(i, end=' ')"
   ]
  },
  {
   "cell_type": "markdown",
   "id": "5209f8c7",
   "metadata": {},
   "source": [
    "## cycle(iterable)  \n",
    "Зацикливает последовательность бесконечно"
   ]
  },
  {
   "cell_type": "code",
   "execution_count": 3,
   "id": "9c2f5f45",
   "metadata": {},
   "outputs": [
    {
     "name": "stdout",
     "output_type": "stream",
     "text": [
      "a b c a b c "
     ]
    }
   ],
   "source": [
    "my_list = ['a', 'b', 'c']\n",
    "\n",
    "count = 6\n",
    "\n",
    "for i in it.cycle(my_list):\n",
    "    if count == 0:\n",
    "        break\n",
    "    print(i, end=' ')\n",
    "    count -= 1"
   ]
  },
  {
   "cell_type": "markdown",
   "id": "2ee3b032",
   "metadata": {},
   "source": [
    "## repeat(el[, qty])  \n",
    "  Повторяет элемент бесконечно или qty раз"
   ]
  },
  {
   "cell_type": "code",
   "execution_count": 4,
   "id": "2ebb7b15",
   "metadata": {},
   "outputs": [
    {
     "name": "stdout",
     "output_type": "stream",
     "text": [
      "['el', 'el', 'el', 'el', 'el']\n"
     ]
    }
   ],
   "source": [
    "print(list(it.repeat('el', 5)))"
   ]
  },
  {
   "cell_type": "markdown",
   "id": "26ed09ec",
   "metadata": {},
   "source": [
    "## accumulate(iterable[, func])  \n",
    "Текущая сумма/результат"
   ]
  },
  {
   "cell_type": "code",
   "execution_count": null,
   "id": "7521ebc9",
   "metadata": {},
   "outputs": [
    {
     "name": "stdout",
     "output_type": "stream",
     "text": [
      "[1, 3, 6, 10, 15]\n"
     ]
    }
   ],
   "source": [
    "print(list(it.accumulate([1,2,3,4,5])))"
   ]
  },
  {
   "cell_type": "markdown",
   "id": "97bc7053",
   "metadata": {},
   "source": [
    "## chain(iter1, iter2, ...)  \n",
    "Объединяет несколько итерируемых"
   ]
  },
  {
   "cell_type": "code",
   "execution_count": null,
   "id": "750cdee3",
   "metadata": {},
   "outputs": [
    {
     "name": "stdout",
     "output_type": "stream",
     "text": [
      "[1, 2, 3, 4, 5, 6]\n"
     ]
    }
   ],
   "source": [
    "print(list(it.chain([1,2,3], [4,5,6])))"
   ]
  },
  {
   "cell_type": "markdown",
   "id": "0fe8069f",
   "metadata": {},
   "source": [
    "## compress(data, selectors)  \n",
    "Фильтрует элементы по маске-списку"
   ]
  },
  {
   "cell_type": "code",
   "execution_count": null,
   "id": "6b38b3ea",
   "metadata": {},
   "outputs": [
    {
     "name": "stdout",
     "output_type": "stream",
     "text": [
      "['b', 'c']\n"
     ]
    }
   ],
   "source": [
    "print(list(it.compress('abc', [0,1,1])))"
   ]
  },
  {
   "cell_type": "markdown",
   "id": "08361424",
   "metadata": {},
   "source": [
    "## dropwhile(predicate, iterable)  \n",
    "Пропускает элементы, пока predicate=True"
   ]
  },
  {
   "cell_type": "code",
   "execution_count": null,
   "id": "dd2c22d4",
   "metadata": {},
   "outputs": [
    {
     "name": "stdout",
     "output_type": "stream",
     "text": [
      "[3, 4, 1, 0]\n"
     ]
    }
   ],
   "source": [
    "print(list(it.dropwhile(lambda x: x < 3, [1,2,3,4,1,0])))"
   ]
  },
  {
   "cell_type": "markdown",
   "id": "c523bd43",
   "metadata": {},
   "source": [
    "## filterfalse(predicate, iterable)  \n",
    "Только элементы, где predicate=False "
   ]
  },
  {
   "cell_type": "code",
   "execution_count": null,
   "id": "dac3f7c8",
   "metadata": {},
   "outputs": [
    {
     "name": "stdout",
     "output_type": "stream",
     "text": [
      "[0, 2, 4]\n"
     ]
    }
   ],
   "source": [
    "print(list(it.filterfalse(lambda x: x%2, range(5))))"
   ]
  },
  {
   "cell_type": "markdown",
   "id": "72a73670",
   "metadata": {},
   "source": [
    "## groupby(iterable[, key])  \n",
    "Группирует подряд идущие равные элементы"
   ]
  },
  {
   "cell_type": "code",
   "execution_count": null,
   "id": "781e785e",
   "metadata": {},
   "outputs": [
    {
     "name": "stdout",
     "output_type": "stream",
     "text": [
      "A ['A', 'A']\n",
      "B ['B', 'B', 'B']\n",
      "C ['C', 'C']\n",
      "D ['D']\n",
      "A ['A']\n"
     ]
    }
   ],
   "source": [
    "for k, g in it.groupby('AABBBCCDA'):\n",
    "    print(k, list(g))"
   ]
  },
  {
   "cell_type": "markdown",
   "id": "9fb8d556",
   "metadata": {},
   "source": [
    "## islice(iterable, start, stop[, step])  \n",
    "Срез последовательности как для списка"
   ]
  },
  {
   "cell_type": "code",
   "execution_count": null,
   "id": "53b3acc6",
   "metadata": {},
   "outputs": [
    {
     "name": "stdout",
     "output_type": "stream",
     "text": [
      "[2, 4, 6]\n"
     ]
    }
   ],
   "source": [
    "print(list(it.islice(range(10), 2, 8, 2)))"
   ]
  },
  {
   "cell_type": "markdown",
   "id": "fef1c153",
   "metadata": {},
   "source": [
    "## starmap(func, iterable_of_args)  \n",
    "Применяет функцию к элементам-тулам (распаковка)"
   ]
  },
  {
   "cell_type": "code",
   "execution_count": null,
   "id": "4c160ce0",
   "metadata": {},
   "outputs": [
    {
     "name": "stdout",
     "output_type": "stream",
     "text": [
      "[32, 9, 1000]\n"
     ]
    }
   ],
   "source": [
    "print(list(it.starmap(pow, [(2,5), (3,2), (10,3)])))"
   ]
  },
  {
   "cell_type": "markdown",
   "id": "5ef98e02",
   "metadata": {},
   "source": [
    "## takewhile(predicate, iterable)  \n",
    "Берет элементы, пока predicate=True"
   ]
  },
  {
   "cell_type": "code",
   "execution_count": null,
   "id": "56dcd26e",
   "metadata": {},
   "outputs": [
    {
     "name": "stdout",
     "output_type": "stream",
     "text": [
      "[1, 4]\n"
     ]
    }
   ],
   "source": [
    "print(list(it.takewhile(lambda x: x < 5, [1,4,6,3,8])))"
   ]
  },
  {
   "cell_type": "markdown",
   "id": "5f6862e3",
   "metadata": {},
   "source": [
    "## tee(iterable, n=2)  \n",
    "Делит поток на n независимых итераторов"
   ]
  },
  {
   "cell_type": "code",
   "execution_count": null,
   "id": "39fd1025",
   "metadata": {},
   "outputs": [
    {
     "name": "stdout",
     "output_type": "stream",
     "text": [
      "[1, 2, 3] [1, 2, 3]\n"
     ]
    }
   ],
   "source": [
    "it1, it2 = it.tee([1,2,3])\n",
    "print(list(it1), list(it2))"
   ]
  },
  {
   "cell_type": "markdown",
   "id": "76643769",
   "metadata": {},
   "source": [
    "## zip_longest(\\*iterables, fillvalue=None)  \n",
    "Итерирует параллельно, дополняет короткие fillvalue"
   ]
  },
  {
   "cell_type": "code",
   "execution_count": null,
   "id": "f7ba6369",
   "metadata": {},
   "outputs": [
    {
     "name": "stdout",
     "output_type": "stream",
     "text": [
      "[('A', 'x'), ('B', 'y'), ('C', '-'), ('D', '-')]\n"
     ]
    }
   ],
   "source": [
    "print(list(it.zip_longest('ABCD', 'xy', fillvalue='-')))"
   ]
  },
  {
   "cell_type": "markdown",
   "id": "2a53548d",
   "metadata": {},
   "source": [
    "## product(\\*iterables, repeat=1)  \n",
    "Декартово произведение"
   ]
  },
  {
   "cell_type": "code",
   "execution_count": null,
   "id": "f46b20f4",
   "metadata": {},
   "outputs": [
    {
     "name": "stdout",
     "output_type": "stream",
     "text": [
      "[('A', 1), ('A', 2), ('B', 1), ('B', 2)]\n"
     ]
    }
   ],
   "source": [
    "print(list(it.product('AB', [1,2])))"
   ]
  },
  {
   "cell_type": "markdown",
   "id": "d0838b1b",
   "metadata": {},
   "source": [
    "## permutations(iterable, r=None)  \n",
    "Все перестановки по r элементов"
   ]
  },
  {
   "cell_type": "code",
   "execution_count": null,
   "id": "021efd48",
   "metadata": {},
   "outputs": [
    {
     "name": "stdout",
     "output_type": "stream",
     "text": [
      "[(1, 2), (1, 3), (2, 1), (2, 3), (3, 1), (3, 2)]\n"
     ]
    }
   ],
   "source": [
    "print(list(it.permutations([1,2,3], 2)))"
   ]
  },
  {
   "cell_type": "markdown",
   "id": "44fbadd5",
   "metadata": {},
   "source": [
    "## combinations(iterable, r)  \n",
    "Все сочетания r элементов без повторов"
   ]
  },
  {
   "cell_type": "code",
   "execution_count": null,
   "id": "bd5dc278",
   "metadata": {},
   "outputs": [
    {
     "name": "stdout",
     "output_type": "stream",
     "text": [
      "[(1, 2), (1, 3), (2, 3)]\n"
     ]
    }
   ],
   "source": [
    "print(list(it.combinations([1,2,3], 2)))"
   ]
  },
  {
   "cell_type": "markdown",
   "id": "9b207896",
   "metadata": {},
   "source": [
    "## combinations_with_replacement(iterable, r)  \n",
    "  Все сочетания r элементов с повторением"
   ]
  },
  {
   "cell_type": "code",
   "execution_count": null,
   "id": "34ac91a6",
   "metadata": {},
   "outputs": [
    {
     "name": "stdout",
     "output_type": "stream",
     "text": [
      "[(1, 1), (1, 2), (1, 3), (2, 2), (2, 3), (3, 3)]\n"
     ]
    }
   ],
   "source": [
    "print(list(it.combinations_with_replacement([1,2,3], 2)))"
   ]
  }
 ],
 "metadata": {
  "kernelspec": {
   "display_name": "py-experiments",
   "language": "python",
   "name": "python3"
  },
  "language_info": {
   "codemirror_mode": {
    "name": "ipython",
    "version": 3
   },
   "file_extension": ".py",
   "mimetype": "text/x-python",
   "name": "python",
   "nbconvert_exporter": "python",
   "pygments_lexer": "ipython3",
   "version": "3.12.10"
  }
 },
 "nbformat": 4,
 "nbformat_minor": 5
}
