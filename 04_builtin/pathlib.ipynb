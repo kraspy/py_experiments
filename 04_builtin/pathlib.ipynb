{
 "cells": [
  {
   "cell_type": "markdown",
   "id": "abc26707",
   "metadata": {},
   "source": [
    "Объектно-ориентированная замена [`os.path`](./os_path.ipynb), [`glob`]((./glob.ipynb)), [`shutil`](./shutil.ipynb).\n",
    "\n",
    "[Документация](https://docs.python.org/3/library/pathlib.html#module-pathlib)"
   ]
  },
  {
   "cell_type": "code",
   "execution_count": 90,
   "id": "48245eeb",
   "metadata": {},
   "outputs": [],
   "source": [
    "from pathlib import Path, PosixPath, WindowsPath\n",
    "p    = Path('.')    # текущая директория\n",
    "ap   = p.absolute()\n",
    "fp   = ap / 'f.txt'  # путь к файлу\n",
    "home = Path.home()  # домашняя директория\n",
    "pwd  = Path.cwd()   # текущая рабочая директория"
   ]
  },
  {
   "cell_type": "code",
   "execution_count": 91,
   "id": "c239a851",
   "metadata": {},
   "outputs": [],
   "source": [
    "fp.touch()  # создать файл"
   ]
  },
  {
   "cell_type": "markdown",
   "id": "efdfd01d",
   "metadata": {},
   "source": [
    "## Свойства и методы"
   ]
  },
  {
   "cell_type": "markdown",
   "id": "2952e118",
   "metadata": {},
   "source": [
    "### Доступ к частям пути"
   ]
  },
  {
   "cell_type": "code",
   "execution_count": 92,
   "id": "caa8f3a1",
   "metadata": {},
   "outputs": [
    {
     "name": "stdout",
     "output_type": "stream",
     "text": [
      "('/', 'home', 'evgeniy', 'code', 'py_experiments', '04_builtin', 'f.txt')\n",
      "\n",
      "/\n",
      "/\n",
      "<PosixPath.parents>\n",
      "/home/evgeniy/code/py_experiments/04_builtin\n",
      "f.txt\n",
      ".txt\n",
      "['.txt']\n",
      "f\n"
     ]
    }
   ],
   "source": [
    "print(\n",
    "    fp.parts,     # кортеж сегментов пути\n",
    "    fp.drive,     # диск (Windows)\n",
    "    fp.root,      # корневой каталог\n",
    "    fp.anchor,    # якорь (/, //, C:)\n",
    "    fp.parents,   # все родительские каталоги\n",
    "    fp.parent,    # родительский каталог\n",
    "    fp.name,      # имя файла или каталога\n",
    "    fp.suffix,    # расширение\n",
    "    fp.suffixes,  # все расширения как список\n",
    "    fp.stem,      # имя без расширения\n",
    "    sep='\\n',\n",
    ")\n"
   ]
  },
  {
   "cell_type": "markdown",
   "id": "4b77aff1",
   "metadata": {},
   "source": [
    "### Методы преобразования пути"
   ]
  },
  {
   "cell_type": "code",
   "execution_count": 93,
   "id": "5b9d3083",
   "metadata": {},
   "outputs": [
    {
     "name": "stdout",
     "output_type": "stream",
     "text": [
      "/home/evgeniy/code/py_experiments/04_builtin/f.txt\n",
      "file:///home/evgeniy/code/py_experiments/04_builtin/f.txt\n",
      "True\n",
      "True\n",
      "False\n",
      "/home/evgeniy/code/py_experiments/04_builtin/f.txt/code\n",
      "True\n",
      "evgeniy/code/py_experiments/04_builtin/f.txt\n",
      "/home/evgeniy/code/py_experiments/04_builtin/new_name\n",
      "/home/evgeniy/code/py_experiments/04_builtin/f.md\n",
      "/home/evgeniy/code/py_experiments/04_builtin/1.txt\n"
     ]
    }
   ],
   "source": [
    "print(\n",
    "    fp.as_posix(),             # вернуть Unix-представление\n",
    "    fp.as_uri(),               # вернуть URI-представление\n",
    "    fp.is_absolute(),          # проверка абсолютности пути\n",
    "    fp.is_relative_to('/'),    # проверка, является ли путь относительным к `other`\n",
    "    fp.is_reserved(),          # проверка зарезервированных имён\n",
    "    fp.joinpath('code'),       # присоединение подкаталогов\n",
    "    fp.match('*.txt'),         # проверка соответствия шаблону (например, `*.py`)\n",
    "    fp.relative_to('/home'),   # получить путь относительно `other`\n",
    "    fp.with_name('new_name'),  # заменить имя файла (полностью)\n",
    "    fp.with_suffix('.md'),     # заменить расширение\n",
    "    fp.with_stem('1'),         # заменить имя файла (без расширения)\n",
    "    sep='\\n',\n",
    ")"
   ]
  },
  {
   "cell_type": "markdown",
   "id": "71d5b656",
   "metadata": {},
   "source": [
    "## Конкретные пути"
   ]
  },
  {
   "cell_type": "code",
   "execution_count": 94,
   "id": "6a8acbf9",
   "metadata": {},
   "outputs": [
    {
     "name": "stdout",
     "output_type": "stream",
     "text": [
      "<class 'pathlib.Path'> <class 'pathlib.PosixPath'> <class 'pathlib.WindowsPath'>\n"
     ]
    }
   ],
   "source": [
    "print(\n",
    "    Path,         # общий класс, автоматически выбирает POSIX/Windows\n",
    "    PosixPath,    # реализация для UNIX-подобных систем\n",
    "    WindowsPath,  # реализация для Windows\n",
    ")"
   ]
  },
  {
   "cell_type": "markdown",
   "id": "eb455445",
   "metadata": {},
   "source": [
    "## Расширение и разрешение путей"
   ]
  },
  {
   "cell_type": "code",
   "execution_count": 95,
   "id": "debf3536",
   "metadata": {},
   "outputs": [
    {
     "name": "stdout",
     "output_type": "stream",
     "text": [
      "/home/evgeniy\n",
      ".\n",
      "/home/evgeniy/code/py_experiments/04_builtin\n",
      "/home/evgeniy/code/py_experiments/04_builtin/f.txt\n",
      "/home/evgeniy/code/py_experiments/04_builtin/f.txt\n"
     ]
    }
   ],
   "source": [
    "print(\n",
    "    Path.home(),                 # домашняя папка\n",
    "    Path.expanduser(Path('.')),  # раскрывает `~` в путь до домашней директории\n",
    "    Path.cwd(),                  # текущая рабочая директория\n",
    "    fp.absolute(),               # абсолютный путь (устаревший способ, лучше использовать `resolve`)\n",
    "    fp.resolve(),                # абсолютный нормализованный путь\n",
    "    # fp.readlink(),               # прочитать ссылку\n",
    "    sep='\\n',\n",
    ")"
   ]
  },
  {
   "cell_type": "markdown",
   "id": "2f53171c",
   "metadata": {},
   "source": [
    "## Определение типа файла и статуса"
   ]
  },
  {
   "cell_type": "code",
   "execution_count": 96,
   "id": "597f4f22",
   "metadata": {},
   "outputs": [
    {
     "name": "stdout",
     "output_type": "stream",
     "text": [
      "os.stat_result(st_mode=33188, st_ino=1352560, st_dev=2096, st_nlink=1, st_uid=1000, st_gid=1000, st_size=0, st_atime=1758254552, st_mtime=1758254552, st_ctime=1758254552)\n",
      "os.stat_result(st_mode=33188, st_ino=1352560, st_dev=2096, st_nlink=1, st_uid=1000, st_gid=1000, st_size=0, st_atime=1758254552, st_mtime=1758254552, st_ctime=1758254552)\n",
      "True\n",
      "True\n",
      "False\n",
      "False\n",
      "False\n",
      "False\n",
      "False\n",
      "False\n",
      "False\n",
      "False\n",
      "False\n"
     ]
    }
   ],
   "source": [
    "print(\n",
    "    fp.stat(),             # получить информацию о файле\n",
    "    fp.lstat(),            # получить информацию о файле\n",
    "    fp.exists(),           # существует ли файл\n",
    "    fp.is_file(),          # является ли файлом\n",
    "    fp.is_dir(),           # является ли каталогом\n",
    "    fp.is_symlink(),       # является ли символьной ссылкой\n",
    "    fp.is_junction(),      # Windows junction\n",
    "    fp.is_mount(),         # является ли точкой монтирования\n",
    "    fp.is_socket(),        # является ли сокетом\n",
    "    fp.is_fifo(),          # является ли FIFO/каналом\n",
    "    fp.is_block_device(),  # блочное устройство\n",
    "    fp.is_char_device(),   # символьное устройство\n",
    "    fp.samefile('/etc'),   # ссылаются ли на один файл\n",
    "    sep='\\n',\n",
    ")"
   ]
  },
  {
   "cell_type": "markdown",
   "id": "869557b2",
   "metadata": {},
   "source": [
    "## Чтение и запись"
   ]
  },
  {
   "cell_type": "code",
   "execution_count": 97,
   "id": "255fee60",
   "metadata": {},
   "outputs": [
    {
     "name": "stdout",
     "output_type": "stream",
     "text": [
      "<_io.TextIOWrapper name='/home/evgeniy/code/py_experiments/04_builtin/f.txt' mode='r' encoding='UTF-8'>\n",
      "\n",
      "b''\n",
      "1\n",
      "1\n"
     ]
    }
   ],
   "source": [
    "print(\n",
    "    fp.open(mode='r'),                  # контекстный менеджер для открытия файла\n",
    "    fp.read_text(encoding=None),        # прочитать текст\n",
    "    fp.read_bytes(),                    # прочитать двоичные данные\n",
    "    fp.write_text('A', encoding=None),  # записать текст\n",
    "    fp.write_bytes(b'B'),               # записать двоичные данные\n",
    "    sep='\\n',\n",
    ")"
   ]
  },
  {
   "cell_type": "markdown",
   "id": "5e10ec2a",
   "metadata": {},
   "source": [
    "## Перечисление содержимого и поиск"
   ]
  },
  {
   "cell_type": "code",
   "execution_count": 98,
   "id": "46581b2d",
   "metadata": {},
   "outputs": [
    {
     "name": "stdout",
     "output_type": "stream",
     "text": [
      "<generator object Path.iterdir at 0x70eadd788ee0>\n",
      "<generator object Path.glob at 0x70eadd731030>\n",
      "<generator object Path.rglob at 0x70eadd730150>\n"
     ]
    }
   ],
   "source": [
    "print(\n",
    "    p.iterdir(),       # перечислить все элементы в директории\n",
    "    p.glob('*.txt'),   # найти файлы по шаблону (не рекурсивно)\n",
    "    p.rglob('*.txt'),  # рекурсивно найти файлы по шаблону\n",
    "    sep='\\n',\n",
    ")"
   ]
  },
  {
   "cell_type": "markdown",
   "id": "172ae53a",
   "metadata": {},
   "source": [
    "## Создание файлов и директорий"
   ]
  },
  {
   "cell_type": "code",
   "execution_count": 99,
   "id": "bc4cedf7",
   "metadata": {},
   "outputs": [],
   "source": [
    "tmp_dir = p / 'tmp'"
   ]
  },
  {
   "cell_type": "code",
   "execution_count": 100,
   "id": "c45b9009",
   "metadata": {},
   "outputs": [
    {
     "ename": "FileExistsError",
     "evalue": "[Errno 17] File exists: '/home/evgeniy/code/py_experiments/04_builtin/f.txt' -> 'tmp/sl'",
     "output_type": "error",
     "traceback": [
      "\u001b[31m---------------------------------------------------------------------------\u001b[39m",
      "\u001b[31mFileExistsError\u001b[39m                           Traceback (most recent call last)",
      "\u001b[36mCell\u001b[39m\u001b[36m \u001b[39m\u001b[32mIn[100]\u001b[39m\u001b[32m, line 4\u001b[39m\n\u001b[32m      1\u001b[39m fp.touch(exist_ok=\u001b[38;5;28;01mTrue\u001b[39;00m)                      \u001b[38;5;66;03m# создать пустой файл\u001b[39;00m\n\u001b[32m      2\u001b[39m tmp_dir.mkdir(parents=\u001b[38;5;28;01mFalse\u001b[39;00m, exist_ok=\u001b[38;5;28;01mTrue\u001b[39;00m)  \u001b[38;5;66;03m# создать директорию\u001b[39;00m\n\u001b[32m----> \u001b[39m\u001b[32m4\u001b[39m \u001b[43m(\u001b[49m\u001b[43mtmp_dir\u001b[49m\u001b[43m \u001b[49m\u001b[43m/\u001b[49m\u001b[43m \u001b[49m\u001b[33;43m'\u001b[39;49m\u001b[33;43msl\u001b[39;49m\u001b[33;43m'\u001b[39;49m\u001b[43m)\u001b[49m\u001b[43m.\u001b[49m\u001b[43msymlink_to\u001b[49m\u001b[43m(\u001b[49m\u001b[43mfp\u001b[49m\u001b[43m,\u001b[49m\u001b[43m \u001b[49m\u001b[43mtarget_is_directory\u001b[49m\u001b[43m=\u001b[49m\u001b[38;5;28;43;01mFalse\u001b[39;49;00m\u001b[43m)\u001b[49m  \u001b[38;5;66;03m# создать символьную ссылку\u001b[39;00m\n\u001b[32m      5\u001b[39m (tmp_dir / \u001b[33m'\u001b[39m\u001b[33mhl\u001b[39m\u001b[33m'\u001b[39m).hardlink_to(fp)                            \u001b[38;5;66;03m# создать жёсткую ссылку\u001b[39;00m\n",
      "\u001b[36mFile \u001b[39m\u001b[32m~/.local/share/uv/python/cpython-3.12.10-linux-x86_64-gnu/lib/python3.12/pathlib.py:1386\u001b[39m, in \u001b[36mPath.symlink_to\u001b[39m\u001b[34m(self, target, target_is_directory)\u001b[39m\n\u001b[32m   1384\u001b[39m \u001b[38;5;28;01mif\u001b[39;00m \u001b[38;5;129;01mnot\u001b[39;00m \u001b[38;5;28mhasattr\u001b[39m(os, \u001b[33m\"\u001b[39m\u001b[33msymlink\u001b[39m\u001b[33m\"\u001b[39m):\n\u001b[32m   1385\u001b[39m     \u001b[38;5;28;01mraise\u001b[39;00m \u001b[38;5;167;01mNotImplementedError\u001b[39;00m(\u001b[33m\"\u001b[39m\u001b[33mos.symlink() not available on this system\u001b[39m\u001b[33m\"\u001b[39m)\n\u001b[32m-> \u001b[39m\u001b[32m1386\u001b[39m \u001b[43mos\u001b[49m\u001b[43m.\u001b[49m\u001b[43msymlink\u001b[49m\u001b[43m(\u001b[49m\u001b[43mtarget\u001b[49m\u001b[43m,\u001b[49m\u001b[43m \u001b[49m\u001b[38;5;28;43mself\u001b[39;49m\u001b[43m,\u001b[49m\u001b[43m \u001b[49m\u001b[43mtarget_is_directory\u001b[49m\u001b[43m)\u001b[49m\n",
      "\u001b[31mFileExistsError\u001b[39m: [Errno 17] File exists: '/home/evgeniy/code/py_experiments/04_builtin/f.txt' -> 'tmp/sl'"
     ]
    }
   ],
   "source": [
    "fp.touch(exist_ok=True)                      # создать пустой файл\n",
    "tmp_dir.mkdir(parents=False, exist_ok=True)  # создать директорию\n",
    "\n",
    "(tmp_dir / 'sl').symlink_to(fp, target_is_directory=False)  # создать символьную ссылку\n",
    "(tmp_dir / 'hl').hardlink_to(fp)                            # создать жёсткую ссылку"
   ]
  },
  {
   "cell_type": "markdown",
   "id": "3bb50da8",
   "metadata": {},
   "source": [
    "## Права и владельцы"
   ]
  },
  {
   "cell_type": "code",
   "execution_count": null,
   "id": "53a48bbd",
   "metadata": {},
   "outputs": [
    {
     "name": "stdout",
     "output_type": "stream",
     "text": [
      "evgeniy evgeniy None None\n"
     ]
    }
   ],
   "source": [
    "print(\n",
    "    fp.owner(),      # владелец файла\n",
    "    fp.group(),      # группа файла\n",
    "    fp.chmod(777),   # изменить права\n",
    "    fp.lchmod(777),  # изменить права символической ссылки (не на всех системах)\n",
    ")"
   ]
  },
  {
   "cell_type": "markdown",
   "id": "1a9840b5",
   "metadata": {},
   "source": [
    "## Переименование и удаление"
   ]
  },
  {
   "cell_type": "code",
   "execution_count": null,
   "id": "9f610748",
   "metadata": {},
   "outputs": [],
   "source": [
    "new_fp = fp.rename(p / 'file.txt')         # переименовать/переместить\n",
    "new_fp = new_fp.replace(tmp_dir / 'file')  # замена/перемещение, не сохраняя атрибутов\n",
    "new_fp.unlink(missing_ok=False)            # удалить файл/ссылку\n",
    "\n",
    "for file in tmp_dir.iterdir():\n",
    "    file.absolute().unlink()\n",
    "\n",
    "tmp_dir.rmdir()                        # удалить пустую директорию"
   ]
  }
 ],
 "metadata": {
  "kernelspec": {
   "display_name": "py-experiments",
   "language": "python",
   "name": "python3"
  },
  "language_info": {
   "codemirror_mode": {
    "name": "ipython",
    "version": 3
   },
   "file_extension": ".py",
   "mimetype": "text/x-python",
   "name": "python",
   "nbconvert_exporter": "python",
   "pygments_lexer": "ipython3",
   "version": "3.12.10"
  }
 },
 "nbformat": 4,
 "nbformat_minor": 5
}
