{
 "cells": [
  {
   "cell_type": "markdown",
   "id": "fd9d9f8a",
   "metadata": {},
   "source": [
    "[Документация](https://docs.python.org/3/library/os.path.html#module-os.path)"
   ]
  },
  {
   "cell_type": "code",
   "execution_count": 22,
   "id": "60ffd973",
   "metadata": {},
   "outputs": [],
   "source": [
    "import os\n",
    "from os import path as p"
   ]
  },
  {
   "cell_type": "code",
   "execution_count": 5,
   "id": "a4242a11",
   "metadata": {},
   "outputs": [
    {
     "name": "stdout",
     "output_type": "stream",
     "text": [
      "/home/evgeniy/code/py_experiments/04_builtin/file.txt\n",
      "/home/evgeniy/code/py_experiments/04_builtin/file.txt\n",
      "path/file\n",
      "C:/Path/To/File\n"
     ]
    }
   ],
   "source": [
    "print(p.abspath('file.txt'))           # Абсолютный путь к файлу\n",
    "\n",
    "print(p.realpath('file.txt'))          # Канонический путь (без символических ссылок)\n",
    "\n",
    "print(p.normpath('path//to/../file'))  # Нормализация (удаляет лишние элементы)\n",
    "\n",
    "print(p.normcase('C:/Path/To/File'))   # Нормализация регистра (только Windows)"
   ]
  },
  {
   "cell_type": "code",
   "execution_count": 6,
   "id": "82c9a00e",
   "metadata": {},
   "outputs": [
    {
     "name": "stdout",
     "output_type": "stream",
     "text": [
      "file.txt\n",
      "/path/to\n",
      "('/path/to', 'file.txt')\n",
      "('file', '.txt')\n",
      "('', 'C:\\\\path\\\\file')\n"
     ]
    }
   ],
   "source": [
    "print(p.basename('/path/to/file.txt'))  # Имя файла\n",
    "\n",
    "print(p.dirname('/path/to/file.txt'))   # Путь к папке\n",
    "\n",
    "print(p.split('/path/to/file.txt'))     # Разделение на путь и имя файла\n",
    "\n",
    "print(p.splitext('file.txt'))           # Разделение на имя и расширение\n",
    "\n",
    "print(p.splitdrive('C:\\\\path\\\\file'))   # Разделение диска (только Windows)"
   ]
  },
  {
   "cell_type": "code",
   "execution_count": 14,
   "id": "040f9b0b",
   "metadata": {},
   "outputs": [],
   "source": [
    "import tempfile\n",
    "\n",
    "fd, fpath = tempfile.mkstemp()"
   ]
  },
  {
   "cell_type": "code",
   "execution_count": null,
   "id": "8095977e",
   "metadata": {},
   "outputs": [
    {
     "name": "stdout",
     "output_type": "stream",
     "text": [
      "False\n",
      "/home/evgeniy\n",
      "/home/evgeniy\n",
      "True\n",
      "True\n"
     ]
    }
   ],
   "source": [
    "print(p.exists('file.txt'))      # Проверка существования пути\n",
    "\n",
    "print(p.expanduser('~'))         # Замена `~` на домашнюю папку\n",
    "\n",
    "print(p.expandvars('$HOME'))     # Замена переменных окружения\n",
    "\n",
    "print(p.samefile(fpath, fpath))  # Ссылаются ли пути на один файл\n",
    "\n",
    "print(p.sameopenfile(fd, fd))    # Одинаковые ли дескрипторы"
   ]
  },
  {
   "cell_type": "code",
   "execution_count": null,
   "id": "55400c8d",
   "metadata": {},
   "outputs": [
    {
     "name": "stdout",
     "output_type": "stream",
     "text": [
      "0\n",
      "1757920502.7938514\n",
      "1757920502.7938514\n",
      "1757920502.7938514\n"
     ]
    }
   ],
   "source": [
    "print(p.getsize(fpath))   # Размер файла в байтах\n",
    "\n",
    "print(p.getatime(fpath))  # Время последнего доступа\n",
    "\n",
    "print(p.getmtime(fpath))  # Время последнего изменения\n",
    "\n",
    "print(p.getctime(fpath))  # Время создания (Windows) или изменения (Unix)"
   ]
  },
  {
   "cell_type": "code",
   "execution_count": 28,
   "id": "9cf4c5f7",
   "metadata": {},
   "outputs": [],
   "source": [
    "file_path = './os_path.ipynb'\n",
    "link_path = './os_path_symlink'"
   ]
  },
  {
   "cell_type": "code",
   "execution_count": null,
   "id": "a296c9a9",
   "metadata": {},
   "outputs": [
    {
     "name": "stdout",
     "output_type": "stream",
     "text": [
      "True\n",
      "True\n",
      "True\n",
      "True\n",
      "True\n"
     ]
    }
   ],
   "source": [
    "print(p.isabs('/path/to/file'))       # Абсолютный путь?\n",
    "\n",
    "print(p.isfile(file_path))            # Это файл?\n",
    "\n",
    "print(p.isdir('..'))                  # Это директория?\n",
    "\n",
    "os.symlink(file_path, link_path)\n",
    "print(p.islink('./os_path_symlink'))  # Это символическая ссылка?\n",
    "os.unlink(link_path)\n",
    "\n",
    "print(p.ismount('/mnt/c'))            # Это точка монтирования?"
   ]
  },
  {
   "cell_type": "code",
   "execution_count": null,
   "id": "0633b6a7",
   "metadata": {},
   "outputs": [
    {
     "name": "stdout",
     "output_type": "stream",
     "text": [
      "folder/subfolder/file.txt\n",
      "to/file\n",
      "/path/to\n",
      "/path/to/file\n"
     ]
    }
   ],
   "source": [
    "print(p.join('folder', 'subfolder', 'file.txt'))             # Объединение путей\n",
    "\n",
    "print(p.relpath('/path/to/file', '/path'))                   # Относительный путь\n",
    "\n",
    "print(p.commonpath(['/path/to/file1', '/path/to/file2']))    # Общий путь\n",
    "\n",
    "print(p.commonprefix(['/path/to/file1', '/path/to/file2']))  # Общий префикс"
   ]
  },
  {
   "cell_type": "code",
   "execution_count": 34,
   "id": "47fbddb6",
   "metadata": {},
   "outputs": [
    {
     "name": "stdout",
     "output_type": "stream",
     "text": [
      "False\n"
     ]
    }
   ],
   "source": [
    "print(p.supports_unicode_filenames)  # Поддержка Unicode в именах файлов"
   ]
  }
 ],
 "metadata": {
  "kernelspec": {
   "display_name": "py-experiments",
   "language": "python",
   "name": "python3"
  },
  "language_info": {
   "codemirror_mode": {
    "name": "ipython",
    "version": 3
   },
   "file_extension": ".py",
   "mimetype": "text/x-python",
   "name": "python",
   "nbconvert_exporter": "python",
   "pygments_lexer": "ipython3",
   "version": "3.12.10"
  }
 },
 "nbformat": 4,
 "nbformat_minor": 5
}
