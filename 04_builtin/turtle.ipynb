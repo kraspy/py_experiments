{
 "cells": [
  {
   "cell_type": "markdown",
   "id": "5445f66c",
   "metadata": {},
   "source": [
    "[Документация](https://docs.python.org/3/library/turtle.html#module-turtle)"
   ]
  },
  {
   "cell_type": "code",
   "execution_count": 3,
   "id": "6e0cd0c6",
   "metadata": {},
   "outputs": [],
   "source": [
    "import turtle"
   ]
  },
  {
   "cell_type": "markdown",
   "id": "c784edf8",
   "metadata": {},
   "source": [
    "## Команды\n",
    "```python\n",
    "# Setup\n",
    "setup(width, height, startx, starty)\n",
    "done()             # Stay window opened\n",
    "\n",
    "# Moving\n",
    "forward(dist)      # Move forward\n",
    "backward(dist)     # Move backward\n",
    "right(angle)       # Turn right\n",
    "left(angle)        # Turn left\n",
    "goto(x, y)         # Move to position\n",
    "setx(x)            # Set x coordinate\n",
    "sety(y)            # Set y coordinate\n",
    "setheading(angle)  # Set orientation\n",
    "home()             # Move turtle to x=0, y=0\n",
    "undo()             # Undo last action\n",
    "speed(speed)       # Set turtle speed\n",
    "\n",
    "# Get position\n",
    "distance(x, y)    # Report distance\n",
    "towards(x, y)     # Report direction\n",
    "xcor()            # Report x\n",
    "ycor()            # Report y\n",
    "heading()         # Report orientation\n",
    "\n",
    "# Turtle state\n",
    "reset()            # clear() clearscreen()\n",
    "hideturtle()       # Hide turtle\n",
    "penup()            # Pull pen up\n",
    "pendown()          # Pull pen down\n",
    "isdown()           # Pen is down?\n",
    "isvisible()        # Is the turtle visible?\n",
    "\n",
    "# Drawing\n",
    "circle(rad)        # Draw circle\n",
    "dot(size)          # Draw dot\n",
    "pensize(width)     # Set/Get pen width\n",
    "pencolor(r, g, b)  # Set/Get pen color\n",
    "begin_fill()       # Begin fill\n",
    "fillcolor(r, g, b) # Set/Get fill color\n",
    "end_fill()         # End fill\n",
    "bgcolor(r, g, b)   # Set/Get background color\n",
    "write(text, font)  # Write text\n",
    "\n",
    "#Input\n",
    "numinput(prompt)   # Get number from user\n",
    "textinput(prompt)  # Get text from user\n",
    "```"
   ]
  },
  {
   "cell_type": "code",
   "execution_count": null,
   "id": "a5d40c39",
   "metadata": {},
   "outputs": [],
   "source": [
    "turtle.setup(\n",
    "    width=1000,\n",
    "    height=1000,\n",
    "    startx=500,\n",
    "    starty=500,\n",
    ")\n",
    "\n",
    "turtle.forward(100)\n",
    "turtle.left(90)\n",
    "turtle.forward(100)\n",
    "\n",
    "\n",
    "turtle.done()  # Оставить окно открытым"
   ]
  }
 ],
 "metadata": {
  "kernelspec": {
   "display_name": "py-experiments",
   "language": "python",
   "name": "python3"
  },
  "language_info": {
   "codemirror_mode": {
    "name": "ipython",
    "version": 3
   },
   "file_extension": ".py",
   "mimetype": "text/x-python",
   "name": "python",
   "nbconvert_exporter": "python",
   "pygments_lexer": "ipython3",
   "version": "3.12.10"
  }
 },
 "nbformat": 4,
 "nbformat_minor": 5
}
