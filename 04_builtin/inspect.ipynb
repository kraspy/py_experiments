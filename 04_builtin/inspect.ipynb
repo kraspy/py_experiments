{
 "cells": [
  {
   "cell_type": "markdown",
   "id": "b3b7e08a",
   "metadata": {},
   "source": [
    "[Документация](https://docs.python.org/3/library/inspect.html#module-inspect)"
   ]
  },
  {
   "cell_type": "code",
   "execution_count": 1,
   "id": "8bf2e3b5",
   "metadata": {},
   "outputs": [],
   "source": [
    "import inspect"
   ]
  },
  {
   "cell_type": "markdown",
   "id": "319b7bff",
   "metadata": {},
   "source": [
    "## Инспектирование функций"
   ]
  },
  {
   "cell_type": "markdown",
   "id": "d5129ee4",
   "metadata": {},
   "source": [
    "### Получение сигнатуры функции"
   ]
  },
  {
   "cell_type": "code",
   "execution_count": null,
   "id": "ed4abefd",
   "metadata": {},
   "outputs": [
    {
     "name": "stdout",
     "output_type": "stream",
     "text": [
      "(a: int, b: str = 'default') -> str\n",
      "Аргумент: a, Тип: <class 'int'>, Значение по умолчанию: <class 'inspect._empty'>\n",
      "Аргумент: b, Тип: <class 'str'>, Значение по умолчанию: default\n"
     ]
    }
   ],
   "source": [
    "def example_func(a: int, b: str = 'default') -> str:\n",
    "    \"\"\"Пример функции с аннотацией.\"\"\"\n",
    "    return f'{a} - {b}'\n",
    "\n",
    "\n",
    "# Получаем сигнатуру\n",
    "signature = inspect.signature(example_func)\n",
    "print(signature)  # (a: int, b: str = 'default') -> str\n",
    "\n",
    "# Информация об аргументах\n",
    "for name, param in signature.parameters.items():\n",
    "    print(\n",
    "        f'Аргумент: {name}, Тип: {param.annotation}, Значение по умолчанию: {param.default}'\n",
    "    )"
   ]
  },
  {
   "cell_type": "markdown",
   "id": "8b1b346c",
   "metadata": {},
   "source": [
    "### Получение документации (`docstring`)"
   ]
  },
  {
   "cell_type": "code",
   "execution_count": 3,
   "id": "acf74888",
   "metadata": {},
   "outputs": [
    {
     "name": "stdout",
     "output_type": "stream",
     "text": [
      "Пример функции с аннотацией.\n"
     ]
    }
   ],
   "source": [
    "print(inspect.getdoc(example_func))"
   ]
  },
  {
   "cell_type": "markdown",
   "id": "f585f506",
   "metadata": {},
   "source": [
    "### Получение исходного кода функции"
   ]
  },
  {
   "cell_type": "code",
   "execution_count": 4,
   "id": "c1775c6a",
   "metadata": {},
   "outputs": [
    {
     "name": "stdout",
     "output_type": "stream",
     "text": [
      "def example_func(a: int, b: str = \"default\") -> str: \n",
      "    \"\"\"Пример функции с аннотацией.\"\"\"\n",
      "    return f\"{a} - {b}\"\n",
      "\n"
     ]
    }
   ],
   "source": [
    "print(inspect.getsource(example_func))"
   ]
  },
  {
   "cell_type": "markdown",
   "id": "33e1be4f",
   "metadata": {},
   "source": [
    "### Проверка, является ли объект функцией"
   ]
  },
  {
   "cell_type": "code",
   "execution_count": null,
   "id": "ce79a260",
   "metadata": {},
   "outputs": [
    {
     "name": "stdout",
     "output_type": "stream",
     "text": [
      "True\n",
      "False\n"
     ]
    }
   ],
   "source": [
    "print(inspect.isfunction(example_func))\n",
    "print(inspect.ismethod(example_func))"
   ]
  },
  {
   "cell_type": "markdown",
   "id": "e218f93b",
   "metadata": {},
   "source": [
    "## Инспекция классов"
   ]
  },
  {
   "cell_type": "code",
   "execution_count": null,
   "id": "408d126f",
   "metadata": {},
   "outputs": [
    {
     "name": "stdout",
     "output_type": "stream",
     "text": [
      "Пример класса.\n",
      "Метод: method, Аннотации: (self, x: int) -> int\n"
     ]
    }
   ],
   "source": [
    "class MyClass:\n",
    "    \"\"\"Пример класса.\"\"\"\n",
    "\n",
    "    def method(self, x: int) -> int:\n",
    "        \"\"\"Пример метода.\"\"\"\n",
    "        return x * 2\n",
    "\n",
    "\n",
    "# Получаем документацию класса\n",
    "print(inspect.getdoc(MyClass))\n",
    "\n",
    "# Получаем методы класса\n",
    "members = inspect.getmembers(MyClass, predicate=inspect.isfunction)\n",
    "for name, func in members:\n",
    "    print(f'Метод: {name}, Аннотации: {inspect.signature(func)}')"
   ]
  },
  {
   "cell_type": "markdown",
   "id": "8d4a82f4",
   "metadata": {},
   "source": [
    "## Инспекция модулей"
   ]
  },
  {
   "cell_type": "code",
   "execution_count": null,
   "id": "220b1899",
   "metadata": {},
   "outputs": [
    {
     "name": "stdout",
     "output_type": "stream",
     "text": [
      "Встроенная функция: acos\n",
      "Встроенная функция: acosh\n",
      "Встроенная функция: asin\n",
      "Встроенная функция: asinh\n",
      "Встроенная функция: atan\n",
      "Встроенная функция: atan2\n",
      "Встроенная функция: atanh\n",
      "Встроенная функция: cbrt\n",
      "Встроенная функция: ceil\n",
      "Встроенная функция: comb\n",
      "Встроенная функция: copysign\n",
      "Встроенная функция: cos\n",
      "Встроенная функция: cosh\n",
      "Встроенная функция: degrees\n",
      "Встроенная функция: dist\n",
      "Встроенная функция: erf\n",
      "Встроенная функция: erfc\n",
      "Встроенная функция: exp\n",
      "Встроенная функция: exp2\n",
      "Встроенная функция: expm1\n",
      "Встроенная функция: fabs\n",
      "Встроенная функция: factorial\n",
      "Встроенная функция: floor\n",
      "Встроенная функция: fmod\n",
      "Встроенная функция: frexp\n",
      "Встроенная функция: fsum\n",
      "Встроенная функция: gamma\n",
      "Встроенная функция: gcd\n",
      "Встроенная функция: hypot\n",
      "Встроенная функция: isclose\n",
      "Встроенная функция: isfinite\n",
      "Встроенная функция: isinf\n",
      "Встроенная функция: isnan\n",
      "Встроенная функция: isqrt\n",
      "Встроенная функция: lcm\n",
      "Встроенная функция: ldexp\n",
      "Встроенная функция: lgamma\n",
      "Встроенная функция: log\n",
      "Встроенная функция: log10\n",
      "Встроенная функция: log1p\n",
      "Встроенная функция: log2\n",
      "Встроенная функция: modf\n",
      "Встроенная функция: nextafter\n",
      "Встроенная функция: perm\n",
      "Встроенная функция: pow\n",
      "Встроенная функция: prod\n",
      "Встроенная функция: radians\n",
      "Встроенная функция: remainder\n",
      "Встроенная функция: sin\n",
      "Встроенная функция: sinh\n",
      "Встроенная функция: sqrt\n",
      "Встроенная функция: sumprod\n",
      "Встроенная функция: tan\n",
      "Встроенная функция: tanh\n",
      "Встроенная функция: trunc\n",
      "Встроенная функция: ulp\n"
     ]
    }
   ],
   "source": [
    "import math\n",
    "\n",
    "# Получаем все атрибуты модуля math\n",
    "for name, obj in inspect.getmembers(math):\n",
    "    if inspect.isbuiltin(obj):\n",
    "        print(f'Встроенная функция: {name}')"
   ]
  },
  {
   "cell_type": "markdown",
   "id": "c12a85a5",
   "metadata": {},
   "source": [
    "## Генераторы и их состояние"
   ]
  },
  {
   "cell_type": "code",
   "execution_count": null,
   "id": "d2330719",
   "metadata": {},
   "outputs": [
    {
     "name": "stdout",
     "output_type": "stream",
     "text": [
      "GEN_CREATED\n",
      "GEN_SUSPENDED\n"
     ]
    }
   ],
   "source": [
    "def my_gen():\n",
    "    yield 1\n",
    "    yield 2\n",
    "\n",
    "\n",
    "gen = my_gen()\n",
    "\n",
    "# Проверка состояния генератора\n",
    "print(inspect.getgeneratorstate(gen))  # GEN_CREATED\n",
    "next(gen)\n",
    "print(inspect.getgeneratorstate(gen))  # GEN_SUSPENDED"
   ]
  },
  {
   "cell_type": "markdown",
   "id": "42ef6753",
   "metadata": {},
   "source": [
    "## Изучение текущего стека вызовов"
   ]
  },
  {
   "cell_type": "code",
   "execution_count": null,
   "id": "de199624",
   "metadata": {},
   "outputs": [
    {
     "name": "stdout",
     "output_type": "stream",
     "text": [
      "Traceback(filename='/tmp/ipykernel_424691/1917402983.py', lineno=4, function='inner', code_context=['            print(inspect.getframeinfo(frame))\\n'], index=0, positions=Positions(lineno=4, end_lineno=4, col_offset=18, end_col_offset=45))\n"
     ]
    }
   ],
   "source": [
    "def outer():\n",
    "    def inner():\n",
    "        frame = inspect.currentframe()\n",
    "        print(inspect.getframeinfo(frame))\n",
    "\n",
    "    inner()\n",
    "\n",
    "\n",
    "outer()"
   ]
  },
  {
   "cell_type": "markdown",
   "id": "8c1877c4",
   "metadata": {},
   "source": [
    "## Проверка объектов на типы"
   ]
  },
  {
   "cell_type": "code",
   "execution_count": null,
   "id": "7a29f6fa",
   "metadata": {},
   "outputs": [
    {
     "name": "stdout",
     "output_type": "stream",
     "text": [
      "True\n",
      "True\n",
      "True\n",
      "True\n"
     ]
    }
   ],
   "source": [
    "print(inspect.ismodule(math))  # True\n",
    "print(inspect.isclass(MyClass))  # True\n",
    "print(inspect.isfunction(example_func))  # True\n",
    "print(inspect.isgenerator(gen))  # True"
   ]
  },
  {
   "cell_type": "markdown",
   "id": "fcb0e3b0",
   "metadata": {},
   "source": [
    "## Пример работы с аннотациями типов"
   ]
  },
  {
   "cell_type": "code",
   "execution_count": null,
   "id": "dd471f07",
   "metadata": {},
   "outputs": [
    {
     "name": "stdout",
     "output_type": "stream",
     "text": [
      "{'x': <class 'int'>, 'y': <class 'str'>, 'return': <class 'bool'>}\n"
     ]
    }
   ],
   "source": [
    "def annotated_func(x: int, y: str) -> bool:\n",
    "    \"\"\"Функция с аннотациями типов.\"\"\"\n",
    "    return str(x) == y\n",
    "\n",
    "\n",
    "# Получаем аннотации\n",
    "print(inspect.get_annotations(annotated_func))"
   ]
  },
  {
   "cell_type": "markdown",
   "id": "9c6a1cfd",
   "metadata": {},
   "source": [
    "## Изучение фрейма выполнения"
   ]
  },
  {
   "cell_type": "code",
   "execution_count": null,
   "id": "0096cbed",
   "metadata": {},
   "outputs": [
    {
     "name": "stdout",
     "output_type": "stream",
     "text": [
      "Текущий фрейм:\n",
      "Функция: sample_function\n",
      "Строка: 5\n"
     ]
    }
   ],
   "source": [
    "def sample_function():\n",
    "    frame = inspect.currentframe()\n",
    "    print('Текущий фрейм:')\n",
    "    print(f'Функция: {inspect.getframeinfo(frame).function}')\n",
    "    print(f'Строка: {inspect.getframeinfo(frame).lineno}')\n",
    "\n",
    "\n",
    "sample_function()"
   ]
  }
 ],
 "metadata": {
  "kernelspec": {
   "display_name": "py-experiments",
   "language": "python",
   "name": "python3"
  },
  "language_info": {
   "codemirror_mode": {
    "name": "ipython",
    "version": 3
   },
   "file_extension": ".py",
   "mimetype": "text/x-python",
   "name": "python",
   "nbconvert_exporter": "python",
   "pygments_lexer": "ipython3",
   "version": "3.12.10"
  }
 },
 "nbformat": 4,
 "nbformat_minor": 5
}
