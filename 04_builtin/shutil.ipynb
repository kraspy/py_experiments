{
 "cells": [
  {
   "cell_type": "markdown",
   "id": "a40cc23a",
   "metadata": {},
   "source": [
    "[Документация](https://docs.python.org/3/library/shutil.html#module-shutil)"
   ]
  },
  {
   "cell_type": "code",
   "execution_count": null,
   "id": "7045842b",
   "metadata": {},
   "outputs": [],
   "source": [
    "import shutil as sh\n",
    "import os"
   ]
  },
  {
   "cell_type": "markdown",
   "id": "fad4bae1",
   "metadata": {},
   "source": [
    "```python\n",
    "# Копирование и перенос файлов\n",
    "sh.copyfile(src, dst)                      # Копировать содержимое файла (без метаданных)\n",
    "sh.copy(src, dst, follow_symlinks=True)    # Копировать файл + права, но без остальных метаданных\n",
    "sh.copy2(src, dst, follow_symlinks=True)   # Копировать файл + все метаданные\n",
    "sh.move(src, dst, copy_function=sh.copy2)  # Переместить\n",
    "sh.copyfileobj(fsrc, fdst[, length])       # Копировать данные между файловыми объектами\n",
    "\n",
    "# Манипуляции с правами и метаданными\n",
    "sh.copymode(src, dst, follow_symlinks=True)   # Копировать только режим доступа (chmod)\n",
    "sh.copystat(src, dst, follow_symlinks=True)   # Копировать метаданные (время, права, etc)\n",
    "sh.chown(path, user=None, group=None)         # Изменить владельца/группу файла\n",
    "\n",
    "# Удаление и переименование\n",
    "sh.rmtree(path, ignore_errors=False, onerror=None)  # Рекурсивно удалить каталог\n",
    "sh.remove(path)             # Удалить файл\n",
    "sh.unlink(path)             # Удалить файл (то же самое что os.remove)\n",
    "\n",
    "sh.rename(path, newName)    # Переименовать файл или директорию\n",
    "\n",
    "# Информация о диске и файлах\n",
    "sh.disk_usage(path)         # Возвращает (total, used, free) в байтах\n",
    "\n",
    "os.utime(path, times=None)  # Изменить время доступа/модификации файла\n",
    "os.stat(path)               # Получить атрибуты файла (os.stat_result)\n",
    "\n",
    "# Поля объекта os.stat_result:\n",
    "stat_result = {\n",
    "  'st_mode',   # тип файла и права доступа (chmod/битовая маска)\n",
    "  'st_ino',    # номер инода (id файла в ФС)\n",
    "  'st_dev',    # id устройства (номер раздела/диска)\n",
    "  'st_nlink',  # число жёстких ссылок\n",
    "  'st_uid',    # id пользователя (владелец)\n",
    "  'st_gid',    # id группы (владелец)\n",
    "  'st_size',   # размер файла в байтах\n",
    "  'st_atime',  # время последнего доступа\n",
    "  'st_mtime',  # время последнего изменения\n",
    "  'st_ctime'   # время создания/изменения метаданных\n",
    "}\n",
    "\n",
    "```"
   ]
  }
 ],
 "metadata": {
  "language_info": {
   "name": "python"
  }
 },
 "nbformat": 4,
 "nbformat_minor": 5
}
