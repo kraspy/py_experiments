{
 "cells": [
  {
   "cell_type": "markdown",
   "id": "4c6c5516",
   "metadata": {},
   "source": [
    "[Документация](https://docs.python.org/3/library/typing.html)\n",
    "\n",
    "[Cheatsheet](https://mypy.readthedocs.io/en/stable/cheat_sheet_py3.html)"
   ]
  },
  {
   "cell_type": "markdown",
   "id": "294cc1d8",
   "metadata": {},
   "source": [
    "## Основные"
   ]
  },
  {
   "cell_type": "code",
   "execution_count": 7,
   "id": "71717f82",
   "metadata": {},
   "outputs": [],
   "source": [
    "from typing import Any\n",
    "from typing import Sequence, Mapping\n",
    "from typing import Never, Self\n",
    "from typing import Literal, LiteralString\n",
    "from typing import Callable\n",
    "from typing import TypeAlias\n",
    "from typing import TypeVar\n",
    "from typing import Generic\n",
    "from typing import NewType\n",
    "from typing import Generator, AsyncGenerator, Iterator, AsyncIterator, Coroutine\n",
    "from typing import Protocol\n",
    "from typing import Annotated"
   ]
  },
  {
   "cell_type": "markdown",
   "id": "1268e796",
   "metadata": {},
   "source": [
    "## Common"
   ]
  },
  {
   "cell_type": "code",
   "execution_count": null,
   "id": "a035bd42",
   "metadata": {},
   "outputs": [],
   "source": [
    "def foo(value: str | int | tuple | list | dict | set) -> str:\n",
    "    return str(value)\n",
    "\n",
    "\n",
    "x: Any = 'Любой тип'\n",
    "\n",
    "tuple_: tuple[str, int] = ('a', 1)\n",
    "several: tuple[int, ...] = (1,)\n",
    "empty: tuple[()] = ()\n",
    "\n",
    "list_: list[int] = [1, 2, 3]\n",
    "dict_: dict[str, int] = {'a': 1, 'b': 2, 'c': 3}\n",
    "set_: set[str] = {'a', 'b', 'c'}\n",
    "\n",
    "seq: Sequence = ['a', 'b', 'c']\n",
    "mapping: Mapping = {'a': 1, 'b': 2, 'c': 3}\n"
   ]
  },
  {
   "cell_type": "markdown",
   "id": "9494585c",
   "metadata": {},
   "source": [
    "## Literal\n",
    "Один из Литеральных значений"
   ]
  },
  {
   "cell_type": "code",
   "execution_count": null,
   "id": "5cd6f7c1",
   "metadata": {},
   "outputs": [],
   "source": [
    "literal_0: Literal['a', 'b', 'c'] = 'a'\n",
    "literal_1: Literal[1] | Literal[2] = 1\n",
    "\n",
    "literal_str: LiteralString = 'hello'"
   ]
  },
  {
   "cell_type": "markdown",
   "id": "51eae5e3",
   "metadata": {},
   "source": [
    "## Functions"
   ]
  },
  {
   "cell_type": "code",
   "execution_count": null,
   "id": "86b76d5a",
   "metadata": {},
   "outputs": [],
   "source": [
    "def fn(f: Callable[[int], int]) -> Callable:\n",
    "    return f\n",
    "\n",
    "\n",
    "fn(lambda x: x)\n",
    "\n",
    "\n",
    "def never_return() -> Never:\n",
    "    raise Exception('Никогда не вернет значение')\n",
    "\n",
    "\n",
    "class Foo:\n",
    "    def method(self) -> Self:\n",
    "        return self"
   ]
  },
  {
   "cell_type": "markdown",
   "id": "feebbfd0",
   "metadata": {},
   "source": [
    "## TypeAlias\n",
    "Просто алиас существующего типа"
   ]
  },
  {
   "cell_type": "code",
   "execution_count": null,
   "id": "53a4074e",
   "metadata": {},
   "outputs": [],
   "source": [
    "ListOfFloats: TypeAlias = list[float]\n",
    "\n",
    "lf: ListOfFloats = [1, 2]"
   ]
  },
  {
   "cell_type": "markdown",
   "id": "7299898a",
   "metadata": {},
   "source": [
    "## TypeVar\n",
    "Тип значения определяется в момент использования"
   ]
  },
  {
   "cell_type": "code",
   "execution_count": 8,
   "id": "96651a21",
   "metadata": {},
   "outputs": [],
   "source": [
    "T = TypeVar('T')  # bound, convariance, contravariance, ...\n",
    "\n",
    "\n",
    "def fn_typevar(t: list[T]) -> T:\n",
    "    return t[0]"
   ]
  },
  {
   "cell_type": "markdown",
   "id": "c5d34e48",
   "metadata": {},
   "source": [
    "## Generic\n",
    "Базовый класс для работы с типами"
   ]
  },
  {
   "cell_type": "code",
   "execution_count": 10,
   "id": "2e5315df",
   "metadata": {},
   "outputs": [
    {
     "data": {
      "text/plain": [
       "1"
      ]
     },
     "execution_count": 10,
     "metadata": {},
     "output_type": "execute_result"
    }
   ],
   "source": [
    "class Box(Generic[T]):\n",
    "    def __init__(self, value: T):\n",
    "        self.value = value\n",
    "\n",
    "    def get(self) -> T:\n",
    "        return self.value\n",
    "    \n",
    "int_box = Box[int](1)\n",
    "int_box.get()"
   ]
  },
  {
   "cell_type": "markdown",
   "id": "798093d2",
   "metadata": {},
   "source": [
    "## NewType\n",
    "Создает новый тип на основе существующего"
   ]
  },
  {
   "cell_type": "code",
   "execution_count": null,
   "id": "fed5bbe8",
   "metadata": {},
   "outputs": [],
   "source": [
    "UserId = NewType('UserId', int)\n",
    "\n",
    "def get_name(user_id: UserId) -> UserId:\n",
    "    return user_id"
   ]
  },
  {
   "cell_type": "markdown",
   "id": "e760a39d",
   "metadata": {},
   "source": [
    "## Class annotation\n",
    "Аргументом является класс"
   ]
  },
  {
   "cell_type": "code",
   "execution_count": null,
   "id": "34f99358",
   "metadata": {},
   "outputs": [],
   "source": [
    "def factory(cls: type[int]) -> int:\n",
    "    return cls()"
   ]
  },
  {
   "cell_type": "markdown",
   "id": "227dfdf5",
   "metadata": {},
   "source": [
    "## Gen / Iter / Coro"
   ]
  },
  {
   "cell_type": "code",
   "execution_count": null,
   "id": "510461ba",
   "metadata": {},
   "outputs": [],
   "source": [
    "def gen() -> Generator[int, None, str]:\n",
    "    yield 1\n",
    "    return 'done'\n",
    "\n",
    "\n",
    "async def agen() -> AsyncGenerator[int, None]:\n",
    "    yield 1\n",
    "\n",
    "\n",
    "def simple_gen() -> Iterator[int]:\n",
    "    yield 1\n",
    "\n",
    "\n",
    "async def simple_agen() -> AsyncIterator[int]:\n",
    "    yield 1\n",
    "\n",
    "\n",
    "coro: Coroutine[list[str], str, int]"
   ]
  },
  {
   "cell_type": "markdown",
   "id": "12545994",
   "metadata": {},
   "source": [
    "## Protocol\n",
    "Описание интерфейса класса, у которого реализованы определенные методы."
   ]
  },
  {
   "cell_type": "code",
   "execution_count": null,
   "id": "81a72ef8",
   "metadata": {},
   "outputs": [],
   "source": [
    "class SupportsClose(Protocol):\n",
    "    def close(self) -> None:\n",
    "        pass"
   ]
  },
  {
   "cell_type": "markdown",
   "id": "9125bfb9",
   "metadata": {},
   "source": [
    "## Annotated\n",
    "Примкрепляет к типу доп. метаданные."
   ]
  },
  {
   "cell_type": "code",
   "execution_count": null,
   "id": "9c3646fb",
   "metadata": {},
   "outputs": [],
   "source": [
    "some_value: Annotated[int, 'some description'] = 1"
   ]
  }
 ],
 "metadata": {
  "kernelspec": {
   "display_name": "py-experiments",
   "language": "python",
   "name": "python3"
  },
  "language_info": {
   "codemirror_mode": {
    "name": "ipython",
    "version": 3
   },
   "file_extension": ".py",
   "mimetype": "text/x-python",
   "name": "python",
   "nbconvert_exporter": "python",
   "pygments_lexer": "ipython3",
   "version": "3.12.10"
  }
 },
 "nbformat": 4,
 "nbformat_minor": 5
}
