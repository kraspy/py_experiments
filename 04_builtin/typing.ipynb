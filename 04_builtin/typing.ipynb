{
 "cells": [
  {
   "cell_type": "markdown",
   "id": "4c6c5516",
   "metadata": {},
   "source": [
    "[Документация](https://docs.python.org/3/library/typing.html)\n",
    "\n",
    "[Cheatsheet](https://mypy.readthedocs.io/en/stable/cheat_sheet_py3.html)\n",
    "\n",
    "- Подсказки IDE\n",
    "- Раннее выявление ошибок\n",
    "- Читаемость и поддерживаемость кода"
   ]
  },
  {
   "cell_type": "markdown",
   "id": "294cc1d8",
   "metadata": {},
   "source": [
    "## Основные"
   ]
  },
  {
   "cell_type": "code",
   "execution_count": null,
   "id": "71717f82",
   "metadata": {},
   "outputs": [],
   "source": [
    "from sys import getsizeof\n",
    "from enum import Enum\n",
    "from dataclasses import dataclass\n",
    "from abc import ABC, abstractmethod\n",
    "from typing import NamedTuple, TypedDict, Any\n",
    "from typing import Iterable, Sequence, Mapping\n",
    "from typing import Never, Self\n",
    "from typing import Literal, LiteralString\n",
    "from typing import Callable\n",
    "from typing import TypeAlias, TypeVar, Generic, NewType\n",
    "from typing import Generator, AsyncGenerator, Iterator, AsyncIterator, Coroutine\n",
    "from typing import Protocol\n",
    "from typing import Annotated\n"
   ]
  },
  {
   "cell_type": "markdown",
   "id": "1268e796",
   "metadata": {},
   "source": [
    "## Common"
   ]
  },
  {
   "cell_type": "code",
   "execution_count": null,
   "id": "a035bd42",
   "metadata": {},
   "outputs": [],
   "source": [
    "def foo(value: str | int | tuple | list | dict | set) -> str:\n",
    "    return str(value)\n",
    "\n",
    "\n",
    "x: Any = 'Любой тип'\n",
    "\n",
    "tuple_: tuple[str, int] = ('a', 1)\n",
    "several: tuple[int, ...] = (1,)\n",
    "empty: tuple[()] = ()\n",
    "\n",
    "list_: list[int] = [1, 2, 3]\n",
    "dict_: dict[str, int] = {'a': 1, 'b': 2, 'c': 3}\n",
    "set_: set[str] = {'a', 'b', 'c'}\n",
    "\n",
    "iter_: Iterable = 'abc'\n",
    "seq: Sequence = ['a', 'b', 'c']\n",
    "mapping: Mapping = {'a': 1, 'b': 2, 'c': 3}\n"
   ]
  },
  {
   "cell_type": "markdown",
   "id": "132d30ae",
   "metadata": {},
   "source": [
    "## dataclass"
   ]
  },
  {
   "cell_type": "code",
   "execution_count": 27,
   "id": "59d6b83d",
   "metadata": {},
   "outputs": [
    {
     "name": "stdout",
     "output_type": "stream",
     "text": [
      "48 40\n"
     ]
    }
   ],
   "source": [
    "@dataclass(slots=True, frozen=True)\n",
    "class BankAccount:\n",
    "    balance: float\n",
    "\n",
    "@dataclass\n",
    "class User:\n",
    "    name: str\n",
    "    bank_account: BankAccount | None\n",
    "\n",
    "bank_account0: BankAccount = BankAccount(1000.0)\n",
    "user: User = User('Evgeniy', bank_account0)\n",
    "\n",
    "\n",
    "print(\n",
    "    getsizeof((1000.0,)),\n",
    "    getsizeof(bank_account0)\n",
    ")"
   ]
  },
  {
   "cell_type": "markdown",
   "id": "5273621b",
   "metadata": {},
   "source": [
    "## NamedTuple"
   ]
  },
  {
   "cell_type": "code",
   "execution_count": null,
   "id": "3d111865",
   "metadata": {},
   "outputs": [
    {
     "name": "stdout",
     "output_type": "stream",
     "text": [
      "56 56\n"
     ]
    }
   ],
   "source": [
    "class PointTuple(NamedTuple):\n",
    "    x: int\n",
    "    y: int\n",
    "\n",
    "point_t: PointTuple = PointTuple(1, 2)\n",
    "\n",
    "print(\n",
    "    getsizeof((1, 2)),\n",
    "    getsizeof(point_t)\n",
    ")"
   ]
  },
  {
   "cell_type": "markdown",
   "id": "9a187ca0",
   "metadata": {},
   "source": [
    "## TypedDict"
   ]
  },
  {
   "cell_type": "code",
   "execution_count": 30,
   "id": "aafc8592",
   "metadata": {},
   "outputs": [
    {
     "name": "stdout",
     "output_type": "stream",
     "text": [
      "184 184\n"
     ]
    }
   ],
   "source": [
    "class PointDict(TypedDict):\n",
    "    x: int\n",
    "    y: int\n",
    "\n",
    "point_d: PointDict = {'x': 1, 'y': 2}\n",
    "\n",
    "point_d['x']  # Обращение как к словарю\n",
    "\n",
    "print(\n",
    "    getsizeof({'x': 1, 'y': 2}),\n",
    "    getsizeof(point_d)\n",
    ")"
   ]
  },
  {
   "cell_type": "markdown",
   "id": "cf5f7e23",
   "metadata": {},
   "source": [
    "## Enum"
   ]
  },
  {
   "cell_type": "code",
   "execution_count": null,
   "id": "722a53eb",
   "metadata": {},
   "outputs": [],
   "source": [
    "class EnumType(Enum):\n",
    "    A = 1\n",
    "    B = 2\n",
    "    C = 3\n",
    "\n",
    "enum: EnumType = EnumType.A  # Enum и его свойства имеют один тип!"
   ]
  },
  {
   "cell_type": "code",
   "execution_count": 36,
   "id": "3d9e33e4",
   "metadata": {},
   "outputs": [
    {
     "name": "stdout",
     "output_type": "stream",
     "text": [
      "case A or B\n"
     ]
    }
   ],
   "source": [
    "def pattern_matching(value: EnumType) -> None:\n",
    "    match value:\n",
    "        case EnumType.A | EnumType.B:\n",
    "            print('case A or B')\n",
    "        case EnumType.C:\n",
    "            print('case C')\n",
    "        case _:\n",
    "            print('each other case')\n",
    "\n",
    "pattern_matching(enum)"
   ]
  },
  {
   "cell_type": "markdown",
   "id": "9494585c",
   "metadata": {},
   "source": [
    "## Literal\n",
    "Один из Литеральных значений"
   ]
  },
  {
   "cell_type": "code",
   "execution_count": null,
   "id": "5cd6f7c1",
   "metadata": {},
   "outputs": [],
   "source": [
    "literal_0: Literal['a', 'b', 'c'] = 'a'\n",
    "literal_1: Literal[1] | Literal[2] = 1\n",
    "\n",
    "literal_str: LiteralString = 'hello'"
   ]
  },
  {
   "cell_type": "markdown",
   "id": "51eae5e3",
   "metadata": {},
   "source": [
    "## Functions"
   ]
  },
  {
   "cell_type": "code",
   "execution_count": null,
   "id": "86b76d5a",
   "metadata": {},
   "outputs": [],
   "source": [
    "def fn(f: Callable[[int], int]) -> Callable:\n",
    "    return f\n",
    "\n",
    "\n",
    "fn(lambda x: x)\n",
    "\n",
    "\n",
    "def never_return() -> Never:\n",
    "    raise Exception('Никогда не вернет значение')\n",
    "\n",
    "\n",
    "class Foo:\n",
    "    def method(self) -> Self:\n",
    "        return self"
   ]
  },
  {
   "cell_type": "markdown",
   "id": "feebbfd0",
   "metadata": {},
   "source": [
    "## TypeAlias\n",
    "Просто алиас существующего типа"
   ]
  },
  {
   "cell_type": "code",
   "execution_count": null,
   "id": "53a4074e",
   "metadata": {},
   "outputs": [],
   "source": [
    "ListOfFloats: TypeAlias = list[float]\n",
    "\n",
    "lf: ListOfFloats = [1, 2]"
   ]
  },
  {
   "cell_type": "markdown",
   "id": "7299898a",
   "metadata": {},
   "source": [
    "## TypeVar\n",
    "Тип значения определяется в момент использования"
   ]
  },
  {
   "cell_type": "code",
   "execution_count": 8,
   "id": "96651a21",
   "metadata": {},
   "outputs": [],
   "source": [
    "T = TypeVar('T')  # bound, convariance, contravariance, ...\n",
    "\n",
    "\n",
    "def fn_typevar(t: list[T]) -> T:\n",
    "    return t[0]"
   ]
  },
  {
   "cell_type": "markdown",
   "id": "c5d34e48",
   "metadata": {},
   "source": [
    "## Generic\n",
    "Базовый класс для работы с типами"
   ]
  },
  {
   "cell_type": "code",
   "execution_count": 10,
   "id": "2e5315df",
   "metadata": {},
   "outputs": [
    {
     "data": {
      "text/plain": [
       "1"
      ]
     },
     "execution_count": 10,
     "metadata": {},
     "output_type": "execute_result"
    }
   ],
   "source": [
    "class Box(Generic[T]):\n",
    "    def __init__(self, value: T):\n",
    "        self.value = value\n",
    "\n",
    "    def get(self) -> T:\n",
    "        return self.value\n",
    "    \n",
    "int_box = Box[int](1)\n",
    "int_box.get()"
   ]
  },
  {
   "cell_type": "markdown",
   "id": "798093d2",
   "metadata": {},
   "source": [
    "## NewType\n",
    "Создает новый тип на основе существующего"
   ]
  },
  {
   "cell_type": "code",
   "execution_count": null,
   "id": "fed5bbe8",
   "metadata": {},
   "outputs": [],
   "source": [
    "UserId = NewType('UserId', int)\n",
    "\n",
    "def get_name(user_id: UserId) -> UserId:\n",
    "    return user_id"
   ]
  },
  {
   "cell_type": "markdown",
   "id": "e760a39d",
   "metadata": {},
   "source": [
    "## Class annotation\n",
    "Аргументом является класс"
   ]
  },
  {
   "cell_type": "code",
   "execution_count": null,
   "id": "34f99358",
   "metadata": {},
   "outputs": [],
   "source": [
    "def factory(cls: type[int]) -> int:\n",
    "    return cls()"
   ]
  },
  {
   "cell_type": "markdown",
   "id": "227dfdf5",
   "metadata": {},
   "source": [
    "## Gen / Iter / Coro"
   ]
  },
  {
   "cell_type": "code",
   "execution_count": null,
   "id": "510461ba",
   "metadata": {},
   "outputs": [],
   "source": [
    "def gen() -> Generator[int, None, str]:\n",
    "    yield 1\n",
    "    return 'done'\n",
    "\n",
    "\n",
    "async def agen() -> AsyncGenerator[int, None]:\n",
    "    yield 1\n",
    "\n",
    "\n",
    "def simple_gen() -> Iterator[int]:\n",
    "    yield 1\n",
    "\n",
    "\n",
    "async def simple_agen() -> AsyncIterator[int]:\n",
    "    yield 1\n",
    "\n",
    "\n",
    "coro: Coroutine[list[str], str, int]"
   ]
  },
  {
   "cell_type": "markdown",
   "id": "455691ba",
   "metadata": {},
   "source": [
    "## ABC"
   ]
  },
  {
   "cell_type": "code",
   "execution_count": null,
   "id": "98334c06",
   "metadata": {},
   "outputs": [],
   "source": [
    "class AbstractClass(ABC):\n",
    "    @abstractmethod\n",
    "    def method(self) -> None:\n",
    "        pass\n",
    "\n",
    "class MyClass(AbstractClass):\n",
    "    pass\n",
    "\n",
    "obj = MyClass()  # Cannot instantiate abstract class \"MyClass\" with abstract attribute \"method\""
   ]
  },
  {
   "cell_type": "markdown",
   "id": "12545994",
   "metadata": {},
   "source": [
    "## Protocol\n",
    "Описание интерфейса класса, у которого реализованы определенные методы."
   ]
  },
  {
   "cell_type": "code",
   "execution_count": null,
   "id": "81a72ef8",
   "metadata": {},
   "outputs": [
    {
     "name": "stdout",
     "output_type": "stream",
     "text": [
      "2\n"
     ]
    }
   ],
   "source": [
    "class Storage(Protocol):  # Утиная типизация (static duck typing)\n",
    "    def open(self) -> None:\n",
    "        print(1)\n",
    "\n",
    "class AnotherStogare:\n",
    "    def open(self) -> None:\n",
    "        print(2)\n",
    "\n",
    "def open_storage(storage: Storage) -> None:\n",
    "    storage.open()\n",
    "\n",
    "open_storage(AnotherStogare())"
   ]
  },
  {
   "cell_type": "markdown",
   "id": "9125bfb9",
   "metadata": {},
   "source": [
    "## Annotated\n",
    "Примкрепляет к типу доп. метаданные."
   ]
  },
  {
   "cell_type": "code",
   "execution_count": null,
   "id": "9c3646fb",
   "metadata": {},
   "outputs": [],
   "source": [
    "some_value: Annotated[int, 'some description'] = 1"
   ]
  }
 ],
 "metadata": {
  "kernelspec": {
   "display_name": "py-experiments",
   "language": "python",
   "name": "python3"
  },
  "language_info": {
   "codemirror_mode": {
    "name": "ipython",
    "version": 3
   },
   "file_extension": ".py",
   "mimetype": "text/x-python",
   "name": "python",
   "nbconvert_exporter": "python",
   "pygments_lexer": "ipython3",
   "version": "3.12.10"
  }
 },
 "nbformat": 4,
 "nbformat_minor": 5
}
