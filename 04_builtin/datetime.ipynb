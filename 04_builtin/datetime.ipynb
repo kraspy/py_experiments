{
 "cells": [
  {
   "cell_type": "markdown",
   "id": "7a459736",
   "metadata": {},
   "source": [
    "[Документация](https://docs.python.org/3/library/datetime.html#module-datetime)\n",
    "\n",
    "```python\n",
    "dt(year, month, day\n",
    "    [, hour]\n",
    "    [, minute]\n",
    "    [, second]\n",
    "    [, microsecond]\n",
    "    [, tzinfo]\n",
    "    [, fold]\n",
    ")\n",
    "```"
   ]
  },
  {
   "cell_type": "code",
   "execution_count": 1,
   "id": "019f7df3",
   "metadata": {},
   "outputs": [],
   "source": [
    "from datetime import datetime as dt"
   ]
  },
  {
   "cell_type": "markdown",
   "id": "1a330baa",
   "metadata": {},
   "source": [
    "## Методы класса"
   ]
  },
  {
   "cell_type": "markdown",
   "id": "af117732",
   "metadata": {},
   "source": [
    "### today() ⇒ dt\n",
    "Текущее местное время\n",
    "> Эквивалент datetime.fromtimestamp(time.time())"
   ]
  },
  {
   "cell_type": "code",
   "execution_count": 2,
   "id": "4a573cfe",
   "metadata": {},
   "outputs": [
    {
     "data": {
      "text/plain": [
       "datetime.datetime(2025, 9, 13, 14, 2, 30, 553527)"
      ]
     },
     "execution_count": 2,
     "metadata": {},
     "output_type": "execute_result"
    }
   ],
   "source": [
    "dt.today()"
   ]
  },
  {
   "cell_type": "markdown",
   "id": "55dc98a4",
   "metadata": {},
   "source": [
    "### now(tz) ⇒ dt\n",
    "Текущее местное время\n",
    "> Default: tz=None"
   ]
  },
  {
   "cell_type": "code",
   "execution_count": 3,
   "id": "f781d94a",
   "metadata": {},
   "outputs": [
    {
     "data": {
      "text/plain": [
       "datetime.datetime(2025, 9, 13, 14, 2, 30, 574219)"
      ]
     },
     "execution_count": 3,
     "metadata": {},
     "output_type": "execute_result"
    }
   ],
   "source": [
    "dt.now()"
   ]
  },
  {
   "cell_type": "markdown",
   "id": "b96c581a",
   "metadata": {},
   "source": [
    "### utcnow() ⇒ dt\n",
    "Текущее время UTC+0"
   ]
  },
  {
   "cell_type": "code",
   "execution_count": 4,
   "id": "054ecd87",
   "metadata": {},
   "outputs": [
    {
     "name": "stderr",
     "output_type": "stream",
     "text": [
      "/tmp/ipykernel_21504/1189865458.py:1: DeprecationWarning: datetime.datetime.utcnow() is deprecated and scheduled for removal in a future version. Use timezone-aware objects to represent datetimes in UTC: datetime.datetime.now(datetime.UTC).\n",
      "  dt.utcnow()\n"
     ]
    },
    {
     "data": {
      "text/plain": [
       "datetime.datetime(2025, 9, 13, 7, 2, 30, 592973)"
      ]
     },
     "execution_count": 4,
     "metadata": {},
     "output_type": "execute_result"
    }
   ],
   "source": [
    "dt.utcnow()"
   ]
  },
  {
   "cell_type": "markdown",
   "id": "1ca5d83c",
   "metadata": {},
   "source": [
    "### fromtimestamp(sec[, tz]) ⇒ dt\n",
    "Возвращает локальную дату/время\n",
    "> Default: tz=None"
   ]
  },
  {
   "cell_type": "code",
   "execution_count": 5,
   "id": "414fe5b9",
   "metadata": {},
   "outputs": [
    {
     "data": {
      "text/plain": [
       "datetime.datetime(2025, 9, 13, 14, 2, 30, 610575)"
      ]
     },
     "execution_count": 5,
     "metadata": {},
     "output_type": "execute_result"
    }
   ],
   "source": [
    "import time\n",
    "\n",
    "dt.fromtimestamp(time.time())"
   ]
  },
  {
   "cell_type": "markdown",
   "id": "8ab2b0cc",
   "metadata": {},
   "source": [
    "### replace(hour, minute, …) ⇒ time\n",
    "Новое время с измененными значениями"
   ]
  },
  {
   "cell_type": "code",
   "execution_count": 6,
   "id": "dde3a6d0",
   "metadata": {},
   "outputs": [
    {
     "data": {
      "text/plain": [
       "datetime.datetime(2025, 9, 13, 14, 5, 30, 625963)"
      ]
     },
     "execution_count": 6,
     "metadata": {},
     "output_type": "execute_result"
    }
   ],
   "source": [
    "dt.replace(dt.now(), minute=5)  # datetime.time(0, 5)"
   ]
  },
  {
   "cell_type": "markdown",
   "id": "2d21a122",
   "metadata": {},
   "source": [
    "### utcfromtimestamp(sec) ⇒ dt\n",
    "Текущее время UTC+0"
   ]
  },
  {
   "cell_type": "code",
   "execution_count": 7,
   "id": "073b87dc",
   "metadata": {},
   "outputs": [
    {
     "name": "stderr",
     "output_type": "stream",
     "text": [
      "/tmp/ipykernel_21504/2606337611.py:1: DeprecationWarning: datetime.datetime.utcfromtimestamp() is deprecated and scheduled for removal in a future version. Use timezone-aware objects to represent datetimes in UTC: datetime.datetime.fromtimestamp(timestamp, datetime.UTC).\n",
      "  dt.utcfromtimestamp(time.time())\n"
     ]
    },
    {
     "data": {
      "text/plain": [
       "datetime.datetime(2025, 9, 13, 7, 2, 30, 646033)"
      ]
     },
     "execution_count": 7,
     "metadata": {},
     "output_type": "execute_result"
    }
   ],
   "source": [
    "dt.utcfromtimestamp(time.time())"
   ]
  },
  {
   "cell_type": "markdown",
   "id": "b5648ce0",
   "metadata": {},
   "source": [
    "### fromordinal(num) ⇒ dt\n",
    "Возвращает дату, где 1 - date(1,1,1)"
   ]
  },
  {
   "cell_type": "code",
   "execution_count": 8,
   "id": "6e0f32cb",
   "metadata": {},
   "outputs": [
    {
     "data": {
      "text/plain": [
       "datetime.datetime(1, 1, 2, 0, 0)"
      ]
     },
     "execution_count": 8,
     "metadata": {},
     "output_type": "execute_result"
    }
   ],
   "source": [
    "dt.fromordinal(2)"
   ]
  },
  {
   "cell_type": "markdown",
   "id": "b1617816",
   "metadata": {},
   "source": [
    "### fromisoformat(string)\n",
    "Собирает date из строки ISO 8601\n",
    "> До Python 3.11 только YYYY-MM-DD"
   ]
  },
  {
   "cell_type": "code",
   "execution_count": 9,
   "id": "9780ab7e",
   "metadata": {},
   "outputs": [
    {
     "data": {
      "text/plain": [
       "datetime.datetime(1988, 6, 27, 0, 0)"
      ]
     },
     "execution_count": 9,
     "metadata": {},
     "output_type": "execute_result"
    }
   ],
   "source": [
    "dt.fromisoformat('1988-06-27')"
   ]
  },
  {
   "cell_type": "markdown",
   "id": "37633a45",
   "metadata": {},
   "source": [
    "### fromisocalendar(y, w, d)\n",
    "date в соответствии с ISO"
   ]
  },
  {
   "cell_type": "code",
   "execution_count": 10,
   "id": "0a7f3258",
   "metadata": {},
   "outputs": [
    {
     "data": {
      "text/plain": [
       "datetime.datetime(1988, 6, 27, 0, 0)"
      ]
     },
     "execution_count": 10,
     "metadata": {},
     "output_type": "execute_result"
    }
   ],
   "source": [
    "dt.fromisocalendar(1988,26,1)"
   ]
  },
  {
   "cell_type": "markdown",
   "id": "c0918055",
   "metadata": {},
   "source": [
    "### combine(date, time[, tz]) ⇒ dt\n",
    "Возвращает datetime\n",
    "> d.date() + d.time() + d.tzinfo\\\n",
    "> Если нет tz, то берется из time"
   ]
  },
  {
   "cell_type": "code",
   "execution_count": 11,
   "id": "d570d9e6",
   "metadata": {},
   "outputs": [
    {
     "data": {
      "text/plain": [
       "datetime.datetime(1988, 6, 27, 0, 0)"
      ]
     },
     "execution_count": 11,
     "metadata": {},
     "output_type": "execute_result"
    }
   ],
   "source": [
    "dt.combine(dt(1988,6,27), dt(1988,6,27).timetz())"
   ]
  },
  {
   "cell_type": "markdown",
   "id": "3bd8fa56",
   "metadata": {},
   "source": [
    "### strftime(date, f) ⇒ str\n",
    "Форматированная строка с датой"
   ]
  },
  {
   "cell_type": "code",
   "execution_count": 12,
   "id": "b8aba7ad",
   "metadata": {},
   "outputs": [
    {
     "data": {
      "text/plain": [
       "'1988, 06, 27'"
      ]
     },
     "execution_count": 12,
     "metadata": {},
     "output_type": "execute_result"
    }
   ],
   "source": [
    "dt.strftime(dt(1988,6,27), '%Y, %m, %d')"
   ]
  },
  {
   "cell_type": "markdown",
   "id": "e2172fdc",
   "metadata": {},
   "source": [
    "### strptime(string[, format]) ⇒ dt\n",
    "Получение даты из строки\n",
    "> Default: \"%a %b %d %H:%M:%S %Y”\n",
    "\n",
    "### format\n",
    "```python\n",
    "    %Y # 2020 | Год с веком\n",
    "    %y # 20   | Год без века\n",
    "    %B # June | Полн. месяц\n",
    "    %b # Jn   | Сокр.  месяц\n",
    "    %m # 06   | Номер месяца\n",
    "    %d # 27   | День месяца\n",
    "    %A # Mon. | Полн. день недели\n",
    "    %a # Mon  | Сокр. день недели\n",
    "    %w # 1    | Номер дня недели\n",
    "    %H # 24   | Час\n",
    "    %I # 12   | Час\n",
    "    %p # AM   | AM/PM\n",
    "    %M # 00   | Число минут\n",
    "    %S # 00   | Число секунд\n",
    "    %Z # +07  | Временная зона\n",
    "    %% # %\n",
    "    %c # Sat Jan  4 11:19:04 2020\n",
    "    %x # 06/27/20\n",
    "    %X # 01:23:45\n",
    "    %j # День года (001-366)\n",
    "    %W # Неделя года (00пн-53)\n",
    "    %U # Неделя года (00вс-53)\n",
    "```"
   ]
  },
  {
   "cell_type": "code",
   "execution_count": 13,
   "id": "f18cb3ff",
   "metadata": {},
   "outputs": [
    {
     "data": {
      "text/plain": [
       "datetime.datetime(1988, 6, 27, 0, 0)"
      ]
     },
     "execution_count": 13,
     "metadata": {},
     "output_type": "execute_result"
    }
   ],
   "source": [
    "dt.strptime(\"27 Jun 88\", \"%d %b %y\")"
   ]
  },
  {
   "cell_type": "markdown",
   "id": "e83b0d96",
   "metadata": {},
   "source": [
    "## Методы экземпляров класса"
   ]
  },
  {
   "cell_type": "code",
   "execution_count": 14,
   "id": "8fc9582a",
   "metadata": {},
   "outputs": [],
   "source": [
    "dt_ = dt(1988,6,27)"
   ]
  },
  {
   "cell_type": "markdown",
   "id": "aa5775bf",
   "metadata": {},
   "source": [
    "### date()\n",
    "Возвращает date\n"
   ]
  },
  {
   "cell_type": "code",
   "execution_count": 15,
   "id": "4d3dff60",
   "metadata": {},
   "outputs": [
    {
     "data": {
      "text/plain": [
       "datetime.date(1988, 6, 27)"
      ]
     },
     "execution_count": 15,
     "metadata": {},
     "output_type": "execute_result"
    }
   ],
   "source": [
    "dt_.date()"
   ]
  },
  {
   "cell_type": "markdown",
   "id": "4c1e137d",
   "metadata": {},
   "source": [
    "### time()\n",
    "Возвращает time"
   ]
  },
  {
   "cell_type": "code",
   "execution_count": 16,
   "id": "9c031fda",
   "metadata": {},
   "outputs": [
    {
     "data": {
      "text/plain": [
       "datetime.time(0, 0)"
      ]
     },
     "execution_count": 16,
     "metadata": {},
     "output_type": "execute_result"
    }
   ],
   "source": [
    "dt_.time()"
   ]
  },
  {
   "cell_type": "markdown",
   "id": "5209e81b",
   "metadata": {},
   "source": [
    "### timetz()\n",
    "Возвращает time с tzinfo"
   ]
  },
  {
   "cell_type": "code",
   "execution_count": 17,
   "id": "b81a0667",
   "metadata": {},
   "outputs": [
    {
     "data": {
      "text/plain": [
       "datetime.time(0, 0)"
      ]
     },
     "execution_count": 17,
     "metadata": {},
     "output_type": "execute_result"
    }
   ],
   "source": [
    "dt_.timetz()"
   ]
  },
  {
   "cell_type": "markdown",
   "id": "218768a2",
   "metadata": {},
   "source": [
    "### timetuple() ⇒ struct_time\n",
    "Возвращает struct_time"
   ]
  },
  {
   "cell_type": "code",
   "execution_count": 18,
   "id": "784ee3a7",
   "metadata": {},
   "outputs": [
    {
     "data": {
      "text/plain": [
       "time.struct_time(tm_year=1988, tm_mon=6, tm_mday=27, tm_hour=0, tm_min=0, tm_sec=0, tm_wday=0, tm_yday=179, tm_isdst=-1)"
      ]
     },
     "execution_count": 18,
     "metadata": {},
     "output_type": "execute_result"
    }
   ],
   "source": [
    "dt_.timetuple()"
   ]
  },
  {
   "cell_type": "markdown",
   "id": "63d70298",
   "metadata": {},
   "source": [
    "### utctimetuple() ⇒ struct_time\n",
    "Возвращает struct_time с dst == 0"
   ]
  },
  {
   "cell_type": "code",
   "execution_count": 19,
   "id": "44b9f0dd",
   "metadata": {},
   "outputs": [
    {
     "data": {
      "text/plain": [
       "time.struct_time(tm_year=1988, tm_mon=6, tm_mday=27, tm_hour=0, tm_min=0, tm_sec=0, tm_wday=0, tm_yday=179, tm_isdst=0)"
      ]
     },
     "execution_count": 19,
     "metadata": {},
     "output_type": "execute_result"
    }
   ],
   "source": [
    "dt_.utctimetuple()"
   ]
  },
  {
   "cell_type": "markdown",
   "id": "c14b2631",
   "metadata": {},
   "source": [
    "### toordinal() ⇒ int\n",
    "Возвращает день по Григореанскому календарю"
   ]
  },
  {
   "cell_type": "code",
   "execution_count": 20,
   "id": "970a8258",
   "metadata": {},
   "outputs": [
    {
     "data": {
      "text/plain": [
       "725915"
      ]
     },
     "execution_count": 20,
     "metadata": {},
     "output_type": "execute_result"
    }
   ],
   "source": [
    "dt_.toordinal()"
   ]
  },
  {
   "cell_type": "markdown",
   "id": "2b63a1c9",
   "metadata": {},
   "source": [
    "### timestamp() ⇒ float\n",
    "Возвращает POSIX-отметку времени"
   ]
  },
  {
   "cell_type": "code",
   "execution_count": 21,
   "id": "5f1b7800",
   "metadata": {},
   "outputs": [
    {
     "data": {
      "text/plain": [
       "583344000.0"
      ]
     },
     "execution_count": 21,
     "metadata": {},
     "output_type": "execute_result"
    }
   ],
   "source": [
    "dt_.timestamp()"
   ]
  },
  {
   "cell_type": "markdown",
   "id": "344b320f",
   "metadata": {},
   "source": [
    "### weekday() ⇒ int\n",
    "День недели\n",
    "> 0пн-6вс"
   ]
  },
  {
   "cell_type": "code",
   "execution_count": 22,
   "id": "2c91842c",
   "metadata": {},
   "outputs": [
    {
     "data": {
      "text/plain": [
       "0"
      ]
     },
     "execution_count": 22,
     "metadata": {},
     "output_type": "execute_result"
    }
   ],
   "source": [
    "dt_.weekday()"
   ]
  },
  {
   "cell_type": "markdown",
   "id": "0a60c351",
   "metadata": {},
   "source": [
    "### isoweekday() ⇒ int\n",
    "День недели\n",
    "> 1пн-7вс"
   ]
  },
  {
   "cell_type": "code",
   "execution_count": 23,
   "id": "2d6bc359",
   "metadata": {},
   "outputs": [
    {
     "data": {
      "text/plain": [
       "1"
      ]
     },
     "execution_count": 23,
     "metadata": {},
     "output_type": "execute_result"
    }
   ],
   "source": [
    "dt_.isoweekday()"
   ]
  },
  {
   "cell_type": "markdown",
   "id": "027ef6b1",
   "metadata": {},
   "source": [
    "### isocalendar() ⇒ IsoCalendarDate\n",
    "Возвращает (year, week, weekday)"
   ]
  },
  {
   "cell_type": "code",
   "execution_count": 24,
   "id": "3cac282f",
   "metadata": {},
   "outputs": [
    {
     "data": {
      "text/plain": [
       "datetime.IsoCalendarDate(year=1988, week=26, weekday=1)"
      ]
     },
     "execution_count": 24,
     "metadata": {},
     "output_type": "execute_result"
    }
   ],
   "source": [
    "dt_.isocalendar()"
   ]
  },
  {
   "cell_type": "markdown",
   "id": "9e111236",
   "metadata": {},
   "source": [
    "### isoformat() ⇒ string\n",
    "Приводит дату к строке ГГГГ-ММ-ДД"
   ]
  },
  {
   "cell_type": "code",
   "execution_count": 25,
   "id": "06f3e3f4",
   "metadata": {},
   "outputs": [
    {
     "data": {
      "text/plain": [
       "'1988-06-27T00:00:00'"
      ]
     },
     "execution_count": 25,
     "metadata": {},
     "output_type": "execute_result"
    }
   ],
   "source": [
    "dt_.isoformat()"
   ]
  },
  {
   "cell_type": "markdown",
   "id": "12121b17",
   "metadata": {},
   "source": [
    "### ctime() ⇒ string\n",
    "Преобразует dt в строку"
   ]
  },
  {
   "cell_type": "code",
   "execution_count": 26,
   "id": "1681b372",
   "metadata": {},
   "outputs": [
    {
     "data": {
      "text/plain": [
       "'Mon Jun 27 00:00:00 1988'"
      ]
     },
     "execution_count": 26,
     "metadata": {},
     "output_type": "execute_result"
    }
   ],
   "source": [
    "dt_.ctime()"
   ]
  },
  {
   "cell_type": "markdown",
   "id": "536de685",
   "metadata": {},
   "source": [
    "### strftime(f) ⇒ string\n",
    "Форматированная строка с датой"
   ]
  },
  {
   "cell_type": "code",
   "execution_count": 27,
   "id": "64529b85",
   "metadata": {},
   "outputs": [
    {
     "data": {
      "text/plain": [
       "'1988, 06, 27'"
      ]
     },
     "execution_count": 27,
     "metadata": {},
     "output_type": "execute_result"
    }
   ],
   "source": [
    "dt_.strftime('%Y, %m, %d')"
   ]
  },
  {
   "cell_type": "markdown",
   "id": "e2018aa4",
   "metadata": {},
   "source": [
    "### astimezone()\n",
    "Возвращает datetime с tzinfo"
   ]
  },
  {
   "cell_type": "code",
   "execution_count": 28,
   "id": "0b20f025",
   "metadata": {},
   "outputs": [
    {
     "data": {
      "text/plain": [
       "datetime.datetime(1988, 6, 27, 0, 0, tzinfo=datetime.timezone(datetime.timedelta(seconds=28800), '+08'))"
      ]
     },
     "execution_count": 28,
     "metadata": {},
     "output_type": "execute_result"
    }
   ],
   "source": [
    "dt_.astimezone()"
   ]
  }
 ],
 "metadata": {
  "kernelspec": {
   "display_name": "py-experiments",
   "language": "python",
   "name": "python3"
  },
  "language_info": {
   "codemirror_mode": {
    "name": "ipython",
    "version": 3
   },
   "file_extension": ".py",
   "mimetype": "text/x-python",
   "name": "python",
   "nbconvert_exporter": "python",
   "pygments_lexer": "ipython3",
   "version": "3.12.10"
  }
 },
 "nbformat": 4,
 "nbformat_minor": 5
}
