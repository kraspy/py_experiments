{
 "cells": [
  {
   "cell_type": "markdown",
   "id": "3bc3fd4f",
   "metadata": {},
   "source": [
    "[Документация](https://docs.python.org/3/library/re.html#module-re)\n",
    "\n",
    "## Синтаксис\n",
    "\n",
    "```python\n",
    "import re\n",
    "re.compile(\n",
    "\t'шаблон',  # raw\n",
    "\tмодификаторы\n",
    ")\n",
    "```"
   ]
  },
  {
   "cell_type": "code",
   "execution_count": 1,
   "id": "6bbcf00b",
   "metadata": {},
   "outputs": [],
   "source": [
    "import re"
   ]
  },
  {
   "cell_type": "markdown",
   "id": "3e06c2fb",
   "metadata": {},
   "source": [
    "## Флаги\n",
    "\n",
    "```python\n",
    "# Без учета регистра\n",
    "re.I; re.IGNORECASE;\n",
    "\n",
    "# . включает \\n\n",
    "re.S; re.DOTALL;\n",
    "\n",
    "# Конец строки перед каждым \\n\n",
    "re.M; re.MULTILINE;\n",
    "\n",
    "# Игнорировать пробелы и \\n\n",
    "re.X; re.VERBOSE;\n",
    "\n",
    "# \\w, \\W, \\b, \\B, \\d, \\D, \\s и \\S - только ASCII\n",
    "re.A; re.ASCII;\n",
    "```"
   ]
  },
  {
   "cell_type": "markdown",
   "id": "ab8b05c6",
   "metadata": {},
   "source": [
    "## Символы\n",
    "\n",
    "```python\n",
    "# В шаблоне\n",
    ".    # Любой символ\n",
    "^    # Начало строки\n",
    "$    # Конец строки\n",
    "|    # Или\n",
    "\\A   # Начало текста\n",
    "\\Z   # Конец текста\n",
    "\\b   # Нач/Конец слова (!\\w\\d)\n",
    "\\B   # Не Нач/Конец слова\n",
    "\\d   # [0-9]\n",
    "\\D   # [^0-9]\n",
    "\\w   # [a-zA-Z0-9_]\n",
    "\\W   # [^a-zA-Z0-9_]\n",
    "\\s   # [\\t\\n\\r\\f\\v]\n",
    "\\S   # [^\\t\\n\\r\\f\\v]\n",
    "\n",
    "# Внутри []\n",
    "-  # Диапазон (между симв.)\n",
    "^  # Отрицание (в начале)\n",
    "```"
   ]
  },
  {
   "cell_type": "markdown",
   "id": "f3a6e9aa",
   "metadata": {},
   "source": [
    "## Квантификаторы\n",
    "```python\n",
    "# Все квантификаторы \"жадные\"\n",
    "x+      # одно или более {1,}\n",
    "x*      # ноль или более {0,}\n",
    "x?      # ноль или одно {0,1}\n",
    "\\w{4}   # 4 буквы\n",
    "x{2,4}  # от 2 до 4 вхождений\n",
    "x{0,}   # 0 и более вхождений\n",
    "```"
   ]
  },
  {
   "cell_type": "markdown",
   "id": "6bdcb19c",
   "metadata": {},
   "source": [
    "## Группы\n",
    "`Ограничение жадности` применяется добавлением `?` после оператора повторения\n",
    "```python\n",
    "(abc)        # Группа\n",
    "(a|b|c)      # Любой из шаблонов\n",
    "(a|b)c       # Группа + шаблон\n",
    "(?:x)        # Сопоставляется, но не запоминает\n",
    "(?P<n>)      # n - имя шаблона: p.search(n)\n",
    "(?#...)      # Комментарий. Игонрируется.\n",
    "x(?=y)       # Положительный просмотр вперед\n",
    "x(?!y)       # Отрицательный просмотр вперед\n",
    "(?<=y)x      # Положительный просмотр назад\n",
    "(?<!y)x      # Отрицательный просмотр назад\n",
    "(?(id)yes|no)  # Если найдена группа id, то выполняется шаблон yes, иначе no\n",
    "(?i)a(?-i)b  # Применить флаг i только к 'a' (?imsxXU)\n",
    "(?i:a)b      # Применить флаг i только к 'a' (?imsxXU)\n",
    "```"
   ]
  },
  {
   "cell_type": "markdown",
   "id": "df6a5fa0",
   "metadata": {},
   "source": [
    "## Свойства возвращаемого объекта Match\n",
    "```python\n",
    "{\n",
    "  re: {        # Ссылка на скомпилированный шаблон\n",
    "    groups: num,      # Количество групп в шаблоне;\n",
    "    groupindex: dict, # Словарь с названиями групп и их номерами\n",
    "    pattern: str,     # Исходная строка с регуляркой\n",
    "    flags: str,       # Флаги из re.compile() или ?aiLmsux\n",
    "  },\n",
    "  string: str,    # Строка из методов match(), search(), fullmatch()\n",
    "  pos: num,       # Позиция start\n",
    "  endpos: num,    # Позиция end\n",
    "  lastindex:num,  # Номер последней группы или None, если неудачно\n",
    "  lastgroup:num,  # Номер последней именованой группы или None, если неудачно\n",
    "  group(num||name),   # => Группу по номеру или имени\n",
    "  groupdict([None]),  # => Словарь именованых групп. Для пустых: None\n",
    "  groups([None]),     # => Кортеж значений всех групп. Для пустых: None\n",
    "  start(num||name),   # => Индекс начала фрагмента\n",
    "  end(num||name),     # => Индекс конца фрагмента\n",
    "  span(num||name),    # => Кортеж с индексами начала и конца фрагмента\n",
    "  expand(Шаблон),     # => Замена. В Шаблоне: \\номер, \\gномер, \\gимя\n",
    "}\n",
    "```"
   ]
  },
  {
   "cell_type": "markdown",
   "id": "dc2d098f",
   "metadata": {},
   "source": [
    "## Методы"
   ]
  },
  {
   "cell_type": "code",
   "execution_count": 6,
   "id": "2ba6d0ae",
   "metadata": {},
   "outputs": [],
   "source": [
    "string = 'ABC abc 123 456. aA Aa bB Bb'"
   ]
  },
  {
   "cell_type": "code",
   "execution_count": 10,
   "id": "10d5a074",
   "metadata": {},
   "outputs": [
    {
     "name": "stdout",
     "output_type": "stream",
     "text": [
      "re.compile('[A-Z]*')\n"
     ]
    }
   ],
   "source": [
    "# Компиляция регулярного выражения\n",
    "regexp = re.compile('[A-Z]*', flags=0)\n",
    "\n",
    "print(regexp)"
   ]
  },
  {
   "cell_type": "code",
   "execution_count": 17,
   "id": "0b70265c",
   "metadata": {},
   "outputs": [
    {
     "name": "stdout",
     "output_type": "stream",
     "text": [
      "<re.Match object; span=(0, 3), match='ABC'>\n"
     ]
    }
   ],
   "source": [
    "# Сопоставление регулярного выражения с начала строки\n",
    "match = re.match(regexp, string, flags=0)\n",
    "\n",
    "print(match)"
   ]
  },
  {
   "cell_type": "code",
   "execution_count": null,
   "id": "f09ae184",
   "metadata": {},
   "outputs": [
    {
     "name": "stdout",
     "output_type": "stream",
     "text": [
      "<re.Match object; span=(0, 28), match='ABC abc 123 456. aA Aa bB Bb'>\n"
     ]
    }
   ],
   "source": [
    "# Сопоставление регулярного выражения со всей строкой\n",
    "fullmatch = re.fullmatch('^.*$', string, flags=0)\n",
    "\n",
    "print(fullmatch)"
   ]
  },
  {
   "cell_type": "code",
   "execution_count": null,
   "id": "b78453bc",
   "metadata": {},
   "outputs": [
    {
     "name": "stdout",
     "output_type": "stream",
     "text": [
      "<re.Match object; span=(8, 11), match='123'>\n"
     ]
    }
   ],
   "source": [
    "# Поиск первого вхождения регулярного выражения в строке\n",
    "search = re.search(r'\\d+', string, flags=0)\n",
    "\n",
    "print(search)"
   ]
  },
  {
   "cell_type": "code",
   "execution_count": null,
   "id": "8c8fddd4",
   "metadata": {},
   "outputs": [
    {
     "name": "stdout",
     "output_type": "stream",
     "text": [
      "['123', '456']\n"
     ]
    }
   ],
   "source": [
    "\n",
    "# Все вхождения регулярного выражения в строке\n",
    "findall = re.findall(r'\\d+', string, flags=0)\n",
    "\n",
    "print(findall)"
   ]
  },
  {
   "cell_type": "code",
   "execution_count": 48,
   "id": "802fc843",
   "metadata": {},
   "outputs": [
    {
     "name": "stdout",
     "output_type": "stream",
     "text": [
      "[<re.Match object; span=(8, 11), match='123'>, <re.Match object; span=(12, 15), match='456'>]\n"
     ]
    }
   ],
   "source": [
    "# Итератор, возвращающий все вхождения регулярного выражения в строке\n",
    "finditer = re.finditer(r'\\d+', string, flags=0)\n",
    "\n",
    "print(list(finditer))"
   ]
  },
  {
   "cell_type": "code",
   "execution_count": 57,
   "id": "820ebd5d",
   "metadata": {},
   "outputs": [
    {
     "name": "stdout",
     "output_type": "stream",
     "text": [
      "*** abc 123 456. aA Aa bB Bb\n"
     ]
    }
   ],
   "source": [
    "# Замена подстроки в строке, сопоставленной с регулярным выражением\n",
    "# => Новая строка или исходная строка, если не найдено\n",
    "sub = re.sub('ABC', '***', string, count=0, flags=0)\n",
    "\n",
    "print(sub)"
   ]
  },
  {
   "cell_type": "code",
   "execution_count": 58,
   "id": "9db80e81",
   "metadata": {},
   "outputs": [
    {
     "name": "stdout",
     "output_type": "stream",
     "text": [
      "('*** abc 123 456. aA Aa bB Bb', 1)\n"
     ]
    }
   ],
   "source": [
    "# Замена подстроки в строке, сопоставленной с регулярным выражением\n",
    "# => (Новая строка или Исходная строка, КоличествоЗамен)\n",
    "subn = re.subn('ABC', '***', string, count=0)\n",
    "\n",
    "print(subn)"
   ]
  },
  {
   "cell_type": "code",
   "execution_count": 59,
   "id": "18a7d4b9",
   "metadata": {},
   "outputs": [
    {
     "name": "stdout",
     "output_type": "stream",
     "text": [
      "['ABC', 'abc 123 456.', 'aA Aa', 'bB Bb']\n"
     ]
    }
   ],
   "source": [
    "# Разделение строки по регулярному выражению\n",
    "split = re.split(' (?=[a-z])', string, maxsplit=0, flags=0)\n",
    "\n",
    "print(split)"
   ]
  },
  {
   "cell_type": "markdown",
   "id": "ff1d876f",
   "metadata": {},
   "source": [
    "## Примеры"
   ]
  },
  {
   "cell_type": "code",
   "execution_count": null,
   "id": "25a49144",
   "metadata": {},
   "outputs": [
    {
     "name": "stdout",
     "output_type": "stream",
     "text": [
      "Совпадение найдено: 123-45-6789\n"
     ]
    }
   ],
   "source": [
    "pattern = r'\\d{3}-\\d{2}-\\d{4}'\n",
    "string = '123-45-6789'\n",
    "\n",
    "match = re.match(pattern, string)\n",
    "if match:\n",
    "    print(\n",
    "        'Совпадение найдено:', match.group()\n",
    "    )"
   ]
  },
  {
   "cell_type": "code",
   "execution_count": null,
   "id": "963179b9",
   "metadata": {},
   "outputs": [
    {
     "name": "stdout",
     "output_type": "stream",
     "text": [
      "['12', '5']\n"
     ]
    }
   ],
   "source": [
    "pattern = r'\\d+'\n",
    "string = '12 apples and 5 oranges'\n",
    "\n",
    "numbers = re.findall(pattern, string)\n",
    "print(numbers)"
   ]
  },
  {
   "cell_type": "code",
   "execution_count": null,
   "id": "fa6ba802",
   "metadata": {},
   "outputs": [
    {
     "name": "stdout",
     "output_type": "stream",
     "text": [
      "<number> apples and <number> oranges\n"
     ]
    }
   ],
   "source": [
    "pattern = r'\\d+'\n",
    "repl = '<number>'\n",
    "string = '12 apples and 5 oranges'\n",
    "\n",
    "result = re.sub(pattern, repl, string)\n",
    "print(result)"
   ]
  }
 ],
 "metadata": {
  "kernelspec": {
   "display_name": "py-experiments",
   "language": "python",
   "name": "python3"
  },
  "language_info": {
   "codemirror_mode": {
    "name": "ipython",
    "version": 3
   },
   "file_extension": ".py",
   "mimetype": "text/x-python",
   "name": "python",
   "nbconvert_exporter": "python",
   "pygments_lexer": "ipython3",
   "version": "3.12.10"
  }
 },
 "nbformat": 4,
 "nbformat_minor": 5
}
