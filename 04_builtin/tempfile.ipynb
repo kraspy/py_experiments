{
 "cells": [
  {
   "cell_type": "markdown",
   "id": "1840f957",
   "metadata": {},
   "source": [
    "[Документация](https://docs.python.org/3/library/tempfile.html#module-tempfile)"
   ]
  },
  {
   "cell_type": "code",
   "execution_count": 2,
   "id": "75b364e4",
   "metadata": {},
   "outputs": [],
   "source": [
    "import tempfile"
   ]
  },
  {
   "cell_type": "markdown",
   "id": "97bee74b",
   "metadata": {},
   "source": [
    "## Файлы"
   ]
  },
  {
   "cell_type": "code",
   "execution_count": 13,
   "id": "d1d435c8",
   "metadata": {},
   "outputs": [
    {
     "name": "stdout",
     "output_type": "stream",
     "text": [
      "79\n",
      "b'hello'\n"
     ]
    }
   ],
   "source": [
    "# Удаляется автоматически после закрытия\n",
    "with tempfile.TemporaryFile() as f:\n",
    "    print(f.name)\n",
    "    f.write(b\"hello\")\n",
    "    f.seek(0)\n",
    "    print(f.read())"
   ]
  },
  {
   "cell_type": "code",
   "execution_count": 12,
   "id": "4d10accf",
   "metadata": {},
   "outputs": [
    {
     "name": "stdout",
     "output_type": "stream",
     "text": [
      "/tmp/tmp70lazp13\n"
     ]
    }
   ],
   "source": [
    "# Именованный (с возможностью сохранения)\n",
    "with tempfile.NamedTemporaryFile(delete_on_close=False) as f:\n",
    "    print(f.name)\n",
    "    f.write(b\"data\")"
   ]
  },
  {
   "cell_type": "code",
   "execution_count": 16,
   "id": "881f533d",
   "metadata": {},
   "outputs": [
    {
     "name": "stdout",
     "output_type": "stream",
     "text": [
      "79 /tmp/tmpdgzjhuq1\n"
     ]
    }
   ],
   "source": [
    "# Для ручного удаления\n",
    "fd, path = tempfile.mkstemp()\n",
    "print(fd, path)"
   ]
  },
  {
   "cell_type": "code",
   "execution_count": 23,
   "id": "8719bd8a",
   "metadata": {},
   "outputs": [
    {
     "data": {
      "text/plain": [
       "<tempfile.SpooledTemporaryFile at 0x7332086c7340>"
      ]
     },
     "execution_count": 23,
     "metadata": {},
     "output_type": "execute_result"
    }
   ],
   "source": [
    "# Файл в оперативной памяти\n",
    "tempfile.SpooledTemporaryFile()"
   ]
  },
  {
   "cell_type": "markdown",
   "id": "72312956",
   "metadata": {},
   "source": [
    "## Директории"
   ]
  },
  {
   "cell_type": "code",
   "execution_count": 21,
   "id": "e40be4cf",
   "metadata": {},
   "outputs": [
    {
     "data": {
      "text/plain": [
       "'/tmp'"
      ]
     },
     "execution_count": 21,
     "metadata": {},
     "output_type": "execute_result"
    }
   ],
   "source": [
    "# Временная директория системы\n",
    "tempfile.gettempdir()"
   ]
  },
  {
   "cell_type": "code",
   "execution_count": 15,
   "id": "eea6fc83",
   "metadata": {},
   "outputs": [
    {
     "name": "stdout",
     "output_type": "stream",
     "text": [
      "/tmp/tmphe72pwg2\n"
     ]
    }
   ],
   "source": [
    "with tempfile.TemporaryDirectory() as tmpdir:\n",
    "    print(tmpdir)"
   ]
  },
  {
   "cell_type": "code",
   "execution_count": 18,
   "id": "cd21cfe5",
   "metadata": {},
   "outputs": [
    {
     "name": "stdout",
     "output_type": "stream",
     "text": [
      "/tmp/tmpbq324pxx\n"
     ]
    }
   ],
   "source": [
    "# Для ручного удаления\n",
    "dname = tempfile.mkdtemp()\n",
    "print(dname)"
   ]
  }
 ],
 "metadata": {
  "kernelspec": {
   "display_name": "py-experiments",
   "language": "python",
   "name": "python3"
  },
  "language_info": {
   "codemirror_mode": {
    "name": "ipython",
    "version": 3
   },
   "file_extension": ".py",
   "mimetype": "text/x-python",
   "name": "python",
   "nbconvert_exporter": "python",
   "pygments_lexer": "ipython3",
   "version": "3.12.10"
  }
 },
 "nbformat": 4,
 "nbformat_minor": 5
}
