{
 "cells": [
  {
   "cell_type": "markdown",
   "id": "dbcd5300",
   "metadata": {},
   "source": [
    "[Документация](https://docs.python.org/3/library/logging.html)\n"
   ]
  },
  {
   "cell_type": "code",
   "execution_count": 14,
   "id": "da6410b6",
   "metadata": {},
   "outputs": [],
   "source": [
    "import logging"
   ]
  },
  {
   "cell_type": "markdown",
   "id": "6705bace",
   "metadata": {},
   "source": [
    "## Уровни логирования\n",
    "```python\n",
    "- DEBUG     # Отладочная инфа.\n",
    "- INFO      # ИНформационные сообщения.\n",
    "- WARNING   # То, что требует внимания.\n",
    "- ERROR     # Ошибка.\n",
    "- CRITICAL  # Что-то критичное.\n",
    "```"
   ]
  },
  {
   "cell_type": "markdown",
   "id": "66b4de79",
   "metadata": {},
   "source": [
    "## Настройка базовой конфигурации"
   ]
  },
  {
   "cell_type": "code",
   "execution_count": 15,
   "id": "8a52aa8a",
   "metadata": {},
   "outputs": [],
   "source": [
    "logfile = '../file.log'"
   ]
  },
  {
   "cell_type": "code",
   "execution_count": 16,
   "id": "2aa8ca6c",
   "metadata": {},
   "outputs": [],
   "source": [
    "logging.basicConfig(\n",
    "    level=logging.DEBUG,  # Минимальный уровень логирования\n",
    "    filename=logfile,  # Имя файла для логов (иначе stderr)\n",
    "    filemode='a',  # Режим открытия файла ('a' - дозапись, 'w' - перезапись)\n",
    "    format='%(asctime)s %(levelname)s %(message)s',  # Формат лога\n",
    "    datefmt='%Y-%m-%d %H:%M:%S',  # Формат даты для %(asctime)s\n",
    "    style='%',  # Стиль форматирования ('%', '{', '$')\n",
    "    handlers=None,  # Список кастомных обработчиков\n",
    "    # stream=None,                   # Поток вывода (например, sys.stdout)\n",
    "    force=False,  # Перезаписать существующую конфигурацию\n",
    ")\n",
    "\n",
    "logging.debug('Сообщение DEBUG')\n",
    "logging.info('Сообщение INFO')\n",
    "logging.warning('Сообщение WARNING')\n",
    "logging.error('Сообщение ERROR')\n",
    "logging.critical('Сообщение CRITICAL')"
   ]
  },
  {
   "cell_type": "markdown",
   "id": "58464254",
   "metadata": {},
   "source": [
    "## getLogger"
   ]
  },
  {
   "cell_type": "code",
   "execution_count": 17,
   "id": "71ae1568",
   "metadata": {},
   "outputs": [],
   "source": [
    "# Создание отдельного логгера\n",
    "logger = logging.getLogger(__name__)\n",
    "logger.setLevel(logging.DEBUG)"
   ]
  },
  {
   "cell_type": "markdown",
   "id": "fab3d5d0",
   "metadata": {},
   "source": [
    "## Обработчики\n",
    "Определяют, куда и каким образом будут отправляться сообщения лога"
   ]
  },
  {
   "cell_type": "markdown",
   "id": "76b82300",
   "metadata": {},
   "source": [
    "### StreamHandler\n",
    "Отправляет сообщения лога в поток вывода"
   ]
  },
  {
   "cell_type": "code",
   "execution_count": 18,
   "id": "fdd0886a",
   "metadata": {},
   "outputs": [],
   "source": [
    "console = logging.StreamHandler()\n",
    "logger.addHandler(console)"
   ]
  },
  {
   "cell_type": "markdown",
   "id": "b10978cb",
   "metadata": {},
   "source": [
    "### FileHandler\n",
    "Записывает сообщения лога в файл"
   ]
  },
  {
   "cell_type": "code",
   "execution_count": 19,
   "id": "7804f7c6",
   "metadata": {},
   "outputs": [],
   "source": [
    "file = logging.FileHandler(logfile)\n",
    "logger.addHandler(file)"
   ]
  },
  {
   "cell_type": "markdown",
   "id": "bebeab32",
   "metadata": {},
   "source": [
    "### RotatingFileHandler\n",
    "При достижении max размера переключает на новый файл"
   ]
  },
  {
   "cell_type": "code",
   "execution_count": 20,
   "id": "4eb925b6",
   "metadata": {},
   "outputs": [],
   "source": [
    "from logging.handlers import RotatingFileHandler\n",
    "\n",
    "rotating = RotatingFileHandler(logfile, maxBytes=10000, backupCount=3)\n",
    "logger.addHandler(rotating)"
   ]
  },
  {
   "cell_type": "markdown",
   "id": "d0de36f0",
   "metadata": {},
   "source": [
    "### TimedRotatingFileHandler\n",
    "Переключает на новый файл по промежуткам времени"
   ]
  },
  {
   "cell_type": "code",
   "execution_count": 21,
   "id": "ee1816f9",
   "metadata": {},
   "outputs": [],
   "source": [
    "from logging.handlers import TimedRotatingFileHandler\n",
    "\n",
    "timed = TimedRotatingFileHandler(logfile, when='D', interval=1, backupCount=7)\n",
    "logger.addHandler(timed)"
   ]
  },
  {
   "cell_type": "markdown",
   "id": "c7f3916c",
   "metadata": {},
   "source": [
    "### SMTPHandler\n",
    "Отправляет сообщения лога по электронной почте"
   ]
  },
  {
   "cell_type": "code",
   "execution_count": 22,
   "id": "9bf49460",
   "metadata": {},
   "outputs": [],
   "source": [
    "from logging.handlers import SMTPHandler\n",
    "\n",
    "smtp = SMTPHandler(\n",
    "    mailhost=('smtp.example.com', 587),\n",
    "    fromaddr='noreply@example.com',\n",
    "    toaddrs=['admin@example.com'],\n",
    "    subject='Ошибка',\n",
    "    credentials=('user', 'pass'),\n",
    "    secure=(),\n",
    ")\n",
    "logger.addHandler(smtp)"
   ]
  },
  {
   "cell_type": "markdown",
   "id": "1f703c07",
   "metadata": {},
   "source": [
    "### SysLogHandler\n",
    "Отправляет сообщения лога на Syslog сервер"
   ]
  },
  {
   "cell_type": "code",
   "execution_count": 23,
   "id": "a11dabc0",
   "metadata": {},
   "outputs": [],
   "source": [
    "from logging.handlers import SysLogHandler\n",
    "\n",
    "syslog = SysLogHandler(address=('localhost', 514))\n",
    "logger.addHandler(syslog)"
   ]
  },
  {
   "cell_type": "markdown",
   "id": "963ba627",
   "metadata": {},
   "source": [
    "### NullHandler\n",
    "Ничего не делающий обработчик"
   ]
  },
  {
   "cell_type": "code",
   "execution_count": 24,
   "id": "c9525108",
   "metadata": {},
   "outputs": [],
   "source": [
    "nullh = logging.NullHandler()\n",
    "logger.addHandler(nullh)"
   ]
  },
  {
   "cell_type": "markdown",
   "id": "395e3984",
   "metadata": {},
   "source": [
    "### MemoryHandler\n",
    "Буфер в памяти с отправкой на другой handler при событии"
   ]
  },
  {
   "cell_type": "code",
   "execution_count": 25,
   "id": "cf934c01",
   "metadata": {},
   "outputs": [],
   "source": [
    "from logging.handlers import MemoryHandler\n",
    "\n",
    "mem = MemoryHandler(capacity=10, target=file)\n",
    "logger.addHandler(mem)\n",
    "mem.flush()  # Принудительное сохранение"
   ]
  },
  {
   "cell_type": "markdown",
   "id": "eeca313d",
   "metadata": {},
   "source": [
    "### Форматирование (можно для любого handler-а)"
   ]
  },
  {
   "cell_type": "code",
   "execution_count": 26,
   "id": "6079c861",
   "metadata": {},
   "outputs": [],
   "source": [
    "fmt = logging.Formatter('%(asctime)s - %(levelname)s - %(message)s')\n",
    "console.setFormatter(fmt)"
   ]
  }
 ],
 "metadata": {
  "kernelspec": {
   "display_name": "py-experiments",
   "language": "python",
   "name": "python3"
  },
  "language_info": {
   "codemirror_mode": {
    "name": "ipython",
    "version": 3
   },
   "file_extension": ".py",
   "mimetype": "text/x-python",
   "name": "python",
   "nbconvert_exporter": "python",
   "pygments_lexer": "ipython3",
   "version": "3.12.10"
  }
 },
 "nbformat": 4,
 "nbformat_minor": 5
}
