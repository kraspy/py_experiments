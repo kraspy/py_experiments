{
 "cells": [
  {
   "cell_type": "markdown",
   "id": "c928ae4e",
   "metadata": {},
   "source": [
    "Для работы с рациональными числами (дробями) в виде пары числитель/знаменатель.\n",
    "\n",
    "[Документация](https://docs.python.org/3/library/fractions.html)"
   ]
  },
  {
   "cell_type": "code",
   "execution_count": 3,
   "id": "407f27fc",
   "metadata": {},
   "outputs": [
    {
     "name": "stdout",
     "output_type": "stream",
     "text": [
      "1/2 3/4 1/2 1/4\n",
      "5/6\n",
      "3\n",
      "4\n"
     ]
    }
   ],
   "source": [
    "from decimal import Decimal\n",
    "from fractions import Fraction\n",
    "\n",
    "# Создание дроби\n",
    "print(\n",
    "    Fraction(1, 2),                         # числитель и знаменатель (могут быть целыми числами)\n",
    "    Fraction(3, 4),                         #\n",
    "    Fraction.from_float(0.5),               # из вещестевого\n",
    "    Fraction.from_decimal(Decimal('0.25'))  # из десятичного\n",
    ")\n",
    "\n",
    "# Арифметические операции с дробями\n",
    "a = Fraction(1, 2)\n",
    "b = Fraction(1, 3)\n",
    "print(a + b)  # 5/6\n",
    "\n",
    "# Получение числителя и знаменателя\n",
    "fraction = Fraction(3, 4)\n",
    "print(fraction.numerator)\n",
    "print(fraction.denominator)"
   ]
  }
 ],
 "metadata": {
  "kernelspec": {
   "display_name": "py-experiments",
   "language": "python",
   "name": "python3"
  },
  "language_info": {
   "codemirror_mode": {
    "name": "ipython",
    "version": 3
   },
   "file_extension": ".py",
   "mimetype": "text/x-python",
   "name": "python",
   "nbconvert_exporter": "python",
   "pygments_lexer": "ipython3",
   "version": "3.12.10"
  }
 },
 "nbformat": 4,
 "nbformat_minor": 5
}
