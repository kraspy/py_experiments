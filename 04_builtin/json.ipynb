{
 "cells": [
  {
   "cell_type": "markdown",
   "id": "c30bd9dd",
   "metadata": {},
   "source": [
    "[Документация](https://docs.python.org/3/library/json.html#module-json)"
   ]
  },
  {
   "cell_type": "code",
   "execution_count": 1,
   "id": "bed413a4",
   "metadata": {},
   "outputs": [],
   "source": [
    "import json"
   ]
  },
  {
   "cell_type": "markdown",
   "id": "ceb6e20d",
   "metadata": {},
   "source": [
    "## json.loads()\n",
    "Преобразует строку в формате JSON в соответствующий Python-объект."
   ]
  },
  {
   "cell_type": "code",
   "execution_count": 2,
   "id": "10aad682",
   "metadata": {},
   "outputs": [],
   "source": [
    "json_string = '[{\"a\": 1}, {\"b\": 2}, {\"c\": 3, \"d\": 4}]'"
   ]
  },
  {
   "cell_type": "code",
   "execution_count": 3,
   "id": "64b9d707",
   "metadata": {},
   "outputs": [
    {
     "name": "stdout",
     "output_type": "stream",
     "text": [
      "<class 'list'>  ->  [{'a': 1}, {'b': 2}, {'c': 3, 'd': 4}]\n"
     ]
    }
   ],
   "source": [
    "py_obj = json.loads(json_string)\n",
    "\n",
    "print(type(py_obj), ' -> ', py_obj)"
   ]
  },
  {
   "cell_type": "markdown",
   "id": "f3d805c5",
   "metadata": {},
   "source": [
    "## json.dumps()\n",
    "Преобразует Python-объект в строку JSON."
   ]
  },
  {
   "cell_type": "code",
   "execution_count": 4,
   "id": "62dc4864",
   "metadata": {},
   "outputs": [
    {
     "data": {
      "text/plain": [
       "'[{\"a\": 1}, {\"b\": 2}, {\"c\": 3, \"d\": 4}]'"
      ]
     },
     "execution_count": 4,
     "metadata": {},
     "output_type": "execute_result"
    }
   ],
   "source": [
    "json.dumps(py_obj)"
   ]
  },
  {
   "cell_type": "markdown",
   "id": "c73df8e2",
   "metadata": {},
   "source": [
    "## json.dump()\n",
    "Записывает Python-объект в файл формата JSON."
   ]
  },
  {
   "cell_type": "code",
   "execution_count": 5,
   "id": "1d44e63c",
   "metadata": {},
   "outputs": [],
   "source": [
    "import tempfile as tf\n",
    "\n",
    "_, file_path = tf.mkstemp()"
   ]
  },
  {
   "cell_type": "code",
   "execution_count": 6,
   "id": "77af525e",
   "metadata": {},
   "outputs": [],
   "source": [
    "with open(file_path, 'w') as f:\n",
    "    json.dump(py_obj, f)"
   ]
  },
  {
   "cell_type": "markdown",
   "id": "1544793e",
   "metadata": {},
   "source": [
    "## json.load()\n",
    "Читает данные из файла формата JSON и преобразует их в Python-объект."
   ]
  },
  {
   "cell_type": "code",
   "execution_count": 7,
   "id": "2008fa72",
   "metadata": {},
   "outputs": [
    {
     "name": "stdout",
     "output_type": "stream",
     "text": [
      "[{'a': 1}, {'b': 2}, {'c': 3, 'd': 4}]\n"
     ]
    }
   ],
   "source": [
    "with open(file_path, 'r') as f:\n",
    "    print(json.load(f))"
   ]
  }
 ],
 "metadata": {
  "kernelspec": {
   "display_name": "py-experiments",
   "language": "python",
   "name": "python3"
  },
  "language_info": {
   "codemirror_mode": {
    "name": "ipython",
    "version": 3
   },
   "file_extension": ".py",
   "mimetype": "text/x-python",
   "name": "python",
   "nbconvert_exporter": "python",
   "pygments_lexer": "ipython3",
   "version": "3.12.10"
  }
 },
 "nbformat": 4,
 "nbformat_minor": 5
}
