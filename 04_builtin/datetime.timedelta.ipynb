{
 "cells": [
  {
   "cell_type": "markdown",
   "id": "9d949ed4",
   "metadata": {},
   "source": [
    "```python\n",
    "from datetime import timedelta as td\n",
    "\n",
    "td(\n",
    "    [ days]         # ±999999999\n",
    "    [,seconds]      # 0-3600*24\n",
    "    [,microseconds] # 0-1000000\n",
    "    # Преобразуемые\n",
    "    [,milliseconds] # 1000мкрсек\n",
    "    [,minutes]      # 60 сек\n",
    "    [,hours]        # 3600 сек\n",
    "    [,weeks]        # 7 дней\n",
    ")\n",
    "```"
   ]
  },
  {
   "cell_type": "code",
   "execution_count": 4,
   "id": "074e9088",
   "metadata": {},
   "outputs": [
    {
     "name": "stdout",
     "output_type": "stream",
     "text": [
      "1:00:00\n",
      "1:00:00\n"
     ]
    }
   ],
   "source": [
    "from datetime import timedelta as td\n",
    "\n",
    "print(\n",
    "    td(0, 0, 0, 0, 0, 1),\n",
    "    td(hours=1),\n",
    "    sep='\\n',\n",
    ")"
   ]
  },
  {
   "cell_type": "code",
   "execution_count": null,
   "id": "3d98f09b",
   "metadata": {},
   "outputs": [
    {
     "data": {
      "text/plain": [
       "'datetime.timedelta(days=2)'"
      ]
     },
     "execution_count": 6,
     "metadata": {},
     "output_type": "execute_result"
    }
   ],
   "source": [
    "# +, -, /, //, %, *, abs()\n",
    "d1 = td(days=2)\n",
    "d2 = td(days=7)\n",
    "d1 + d2\n",
    "d2 - d1\n",
    "d2 / d1\n",
    "d1 / 2\n",
    "d2 // d1\n",
    "d1 // 2\n",
    "d2 % d1\n",
    "d3 = -d1\n",
    "d1 * 2\n",
    "d2 * 2\n",
    "\n",
    "# comparsion\n",
    "d1 == d2,  d1 != d2,\n",
    "d1 < d2,   d1 > d2,\n",
    "\n",
    "# К строке\n",
    "str(d1)   # \"2 days, 0:00:00\"\n",
    "repr(d1)  # datetime.timedelta(days=2)"
   ]
  }
 ],
 "metadata": {
  "kernelspec": {
   "display_name": "py-experiments",
   "language": "python",
   "name": "python3"
  },
  "language_info": {
   "codemirror_mode": {
    "name": "ipython",
    "version": 3
   },
   "file_extension": ".py",
   "mimetype": "text/x-python",
   "name": "python",
   "nbconvert_exporter": "python",
   "pygments_lexer": "ipython3",
   "version": "3.12.10"
  }
 },
 "nbformat": 4,
 "nbformat_minor": 5
}
