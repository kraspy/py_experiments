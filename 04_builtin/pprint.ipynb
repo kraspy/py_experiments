{
 "cells": [
  {
   "cell_type": "markdown",
   "id": "f18e09c8",
   "metadata": {},
   "source": [
    "Предоставляет возможность красивого вывода сложных структур данных\n",
    "\n",
    "[Документация](https://docs.python.org/3/library/pprint.html#module-pprint)"
   ]
  },
  {
   "cell_type": "code",
   "execution_count": 22,
   "id": "f6b04889",
   "metadata": {},
   "outputs": [],
   "source": [
    "import pprint"
   ]
  },
  {
   "cell_type": "code",
   "execution_count": 23,
   "id": "9706dbc3",
   "metadata": {},
   "outputs": [
    {
     "name": "stdout",
     "output_type": "stream",
     "text": [
      "{ 'age': 30,\n",
      "  'city': 'Krasnoyarsk',\n",
      "  'hobbies': ['music', 'sports', 'movies'],\n",
      "  'name': 'John',\n",
      "  'work': {'company': 'ABC', 'position': 'developer', 'since': 2025}}\n"
     ]
    }
   ],
   "source": [
    "data = {\n",
    "    'name': 'John',\n",
    "    'age': 30,\n",
    "    'city': 'Krasnoyarsk',\n",
    "    'hobbies': ['music', 'sports', 'movies'],\n",
    "    'work': {'company': 'ABC', 'position': 'developer', 'since': 2025},\n",
    "}\n",
    "\n",
    "pprint.pprint(\n",
    "    data,           # data to be printed\n",
    "    indent=2,       # indent level\n",
    "    depth=None,     # depth level\n",
    "    compact=False,  # use compact notation\n",
    ")"
   ]
  }
 ],
 "metadata": {
  "kernelspec": {
   "display_name": "py-experiments",
   "language": "python",
   "name": "python3"
  },
  "language_info": {
   "codemirror_mode": {
    "name": "ipython",
    "version": 3
   },
   "file_extension": ".py",
   "mimetype": "text/x-python",
   "name": "python",
   "nbconvert_exporter": "python",
   "pygments_lexer": "ipython3",
   "version": "3.12.10"
  }
 },
 "nbformat": 4,
 "nbformat_minor": 5
}
