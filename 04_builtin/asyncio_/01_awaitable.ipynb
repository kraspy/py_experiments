{
 "cells": [
  {
   "cell_type": "markdown",
   "id": "b6dc4694",
   "metadata": {},
   "source": [
    "Awaitable-объяект используются с инструкцией await для переключения контекста\n",
    "\n",
    "[Документация](https://docs.python.org/3/library/asyncio-task.html#awaitables)\n"
   ]
  },
  {
   "cell_type": "code",
   "execution_count": 1,
   "id": "3b74b8d2",
   "metadata": {},
   "outputs": [],
   "source": [
    "import asyncio\n",
    "import nest_asyncio\n",
    "from functools import wraps\n",
    "\n",
    "nest_asyncio.apply()"
   ]
  },
  {
   "cell_type": "code",
   "execution_count": null,
   "id": "aa83621a",
   "metadata": {},
   "outputs": [],
   "source": [
    "import time\n",
    "\n",
    "\n",
    "def func_timer(func):\n",
    "    @wraps(func)\n",
    "    async def wrapper(*args, **kwargs):\n",
    "        start = time.time()\n",
    "        result = await func(*args, **kwargs)\n",
    "        end = time.time()\n",
    "        print(f'📝 {func.__name__}: {end - start:.2f} секунд')\n",
    "        return result\n",
    "\n",
    "    return wrapper\n"
   ]
  },
  {
   "cell_type": "markdown",
   "id": "920c6ae9",
   "metadata": {},
   "source": [
    "## Coroutine\n",
    "\n",
    "Объект, возвращаемый при вызове `async def`.\\\n",
    "Исполняется после `await`, запуска в `Task` или `gather`\n",
    "\n",
    "В Цикле событий (ЦС):\n",
    "1. При достижении `await` исполняемая корутина приостанавливает себя и ЦС \"ждет\" событие из корутины\n",
    "2. В это время ЦС может заниматься другими корутинами\n",
    "3. Если событие готово, ЦС возобновляет корутину\n",
    "4. Результат возвращается на место await\n",
    "5. Корутина идет до следующего await или до конца\n",
    "6. Код, ожидавший корутину продолжается\n"
   ]
  },
  {
   "cell_type": "code",
   "execution_count": 4,
   "id": "c89e00b2",
   "metadata": {},
   "outputs": [
    {
     "name": "stdout",
     "output_type": "stream",
     "text": [
      "<class 'function'>\n",
      "<class 'coroutine'>\n"
     ]
    },
    {
     "data": {
      "text/plain": [
       "True"
      ]
     },
     "execution_count": 4,
     "metadata": {},
     "output_type": "execute_result"
    }
   ],
   "source": [
    "async def async_func():\n",
    "    await asyncio.sleep(1)\n",
    "    return True\n",
    "\n",
    "\n",
    "print(async_func.__class__)\n",
    "coro = async_func()\n",
    "print(coro.__class__)\n",
    "\n",
    "await coro"
   ]
  },
  {
   "cell_type": "markdown",
   "id": "3b927c2f",
   "metadata": {},
   "source": [
    "## Task (create_task())\n",
    "\n",
    "1. Создается объект корутины\n",
    "2. Корутина немедленно оборачивается в Task и регистрируется в ЦС\n",
    "3. Когда ЦС получает управление, он запускает задачу и выполняет код корутины до await\n",
    "4. Корутина останавливается (Задача в состоянии pending)\n",
    "5. Событие готово:  ЦС возобновляет задачу, продолжая корутину до завершения.\n"
   ]
  },
  {
   "cell_type": "code",
   "execution_count": null,
   "id": "b6a261b2",
   "metadata": {},
   "outputs": [
    {
     "name": "stdout",
     "output_type": "stream",
     "text": [
      "🙋 Woked up\n",
      "📝 wake_up: 0.00 секунд\n",
      "task_c.__dict__={'_loop': <_UnixSelectorEventLoop running=True closed=False debug=False>, '_callbacks': [], '_name': 'Task-13', '_num_cancels_requested': 0, '_must_cancel': False, '_fut_waiter': None, '_coro': <coroutine object make_coffee at 0x1043ffab0>, '_context': <_contextvars.Context object at 0x103d95780>}\n",
      "<coroutine object make_coffee at 0x1043ffab0>\n",
      "🚀 Start making sandwich...\n",
      "🚀 Start making coffee...\n",
      "🏁 End of main...\n"
     ]
    },
    {
     "name": "stdout",
     "output_type": "stream",
     "text": [
      "📝 make_coffee: 0.50 секунд\n",
      "📝 make_sandwich: 1.00 секунд\n"
     ]
    }
   ],
   "source": [
    "@func_timer\n",
    "async def wake_up():\n",
    "    print('🙋 Woked up')\n",
    "    return True\n",
    "\n",
    "\n",
    "@func_timer\n",
    "async def make_sandwich():\n",
    "    print('🚀 Start making sandwich...')\n",
    "    await asyncio.sleep(1)\n",
    "    return True\n",
    "\n",
    "\n",
    "@func_timer\n",
    "async def make_coffee():\n",
    "    print('🚀 Start making coffee...')\n",
    "    await asyncio.sleep(0.5)\n",
    "    return True\n",
    "\n",
    "\n",
    "@func_timer\n",
    "async def go_to_work():\n",
    "    await asyncio.sleep(3)\n",
    "    return True\n",
    "\n",
    "\n",
    "async def main():\n",
    "    await wake_up()\n",
    "    asyncio.create_task(make_sandwich())\n",
    "    task_c = asyncio.create_task(make_coffee())\n",
    "    print(f'{task_c.__dict__=}')\n",
    "    print(task_c.get_coro())\n",
    "\n",
    "    await asyncio.sleep(0)\n",
    "    print('🏁 End of main...')\n",
    "\n",
    "\n",
    "asyncio.run(main())"
   ]
  },
  {
   "cell_type": "markdown",
   "id": "98bbcda5",
   "metadata": {},
   "source": [
    "### Состояния задачи"
   ]
  },
  {
   "cell_type": "markdown",
   "id": "e99951eb",
   "metadata": {},
   "source": [
    "`done` - задача завершена\n",
    "`cancelled` - задача отменена"
   ]
  },
  {
   "cell_type": "code",
   "execution_count": null,
   "id": "29ea681e",
   "metadata": {},
   "outputs": [
    {
     "name": "stdout",
     "output_type": "stream",
     "text": [
      "False False\n",
      "True False\n"
     ]
    }
   ],
   "source": [
    "async def async_func():\n",
    "    await asyncio.sleep(0.5)\n",
    "\n",
    "\n",
    "task = asyncio.create_task(async_func())\n",
    "print(task.done(), task.cancelled())\n",
    "\n",
    "await task\n",
    "print(task.done(), task.cancelled())"
   ]
  },
  {
   "cell_type": "markdown",
   "id": "a686fda3",
   "metadata": {},
   "source": [
    "### Отмена задачи"
   ]
  },
  {
   "cell_type": "code",
   "execution_count": 21,
   "id": "26d8cb47",
   "metadata": {},
   "outputs": [
    {
     "name": "stdout",
     "output_type": "stream",
     "text": [
      "False False\n",
      "❌ Task was cancelled\n",
      "True True\n"
     ]
    }
   ],
   "source": [
    "task = asyncio.create_task(async_func())\n",
    "task.cancel()\n",
    "\n",
    "print(task.done(), task.cancelled())\n",
    "\n",
    "try:\n",
    "    await task\n",
    "except asyncio.CancelledError:\n",
    "    print('❌ Task was cancelled')\n",
    "\n",
    "print(task.done(), task.cancelled())"
   ]
  },
  {
   "cell_type": "markdown",
   "id": "46cc9353",
   "metadata": {},
   "source": [
    "## Futures\n"
   ]
  },
  {
   "cell_type": "markdown",
   "id": "bb1cf689",
   "metadata": {},
   "source": [
    "Обычно используются на низком уровне для предоставления результатов async-операции. Редко создаются в коде.\n"
   ]
  },
  {
   "cell_type": "code",
   "execution_count": 6,
   "id": "dcdf1c2f",
   "metadata": {},
   "outputs": [
    {
     "name": "stdout",
     "output_type": "stream",
     "text": [
      "<class 'asyncio.futures.Future'>\n",
      "✅ Future Result\n"
     ]
    }
   ],
   "source": [
    "async def afunc_with_future():\n",
    "    f = asyncio.Future()\n",
    "    await asyncio.sleep(0.5)\n",
    "    f.set_result('✅ Future Result')\n",
    "    return f\n",
    "\n",
    "res = await afunc_with_future()\n",
    "print(type(res))\n",
    "print(await res)"
   ]
  },
  {
   "cell_type": "code",
   "execution_count": 5,
   "id": "ebefb0f7",
   "metadata": {},
   "outputs": [
    {
     "data": {
      "text/plain": [
       "asyncio.tasks.Task"
      ]
     },
     "execution_count": 5,
     "metadata": {},
     "output_type": "execute_result"
    }
   ],
   "source": [
    "async def afunc():\n",
    "    await asyncio.sleep(0.5)\n",
    "    return '✅ Result'\n",
    "\n",
    "f = asyncio.ensure_future(afunc())\n",
    "\n",
    "type(f)"
   ]
  }
 ],
 "metadata": {
  "kernelspec": {
   "display_name": "py-experiments",
   "language": "python",
   "name": "python3"
  },
  "language_info": {
   "codemirror_mode": {
    "name": "ipython",
    "version": 3
   },
   "file_extension": ".py",
   "mimetype": "text/x-python",
   "name": "python",
   "nbconvert_exporter": "python",
   "pygments_lexer": "ipython3",
   "version": "3.12.10"
  }
 },
 "nbformat": 4,
 "nbformat_minor": 5
}
