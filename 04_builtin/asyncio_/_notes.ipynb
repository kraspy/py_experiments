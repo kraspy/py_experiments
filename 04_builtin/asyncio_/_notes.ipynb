{
 "cells": [
  {
   "cell_type": "markdown",
   "id": "d3a8e137",
   "metadata": {},
   "source": [
    "## CPU-bound в async"
   ]
  },
  {
   "cell_type": "code",
   "execution_count": 2,
   "id": "3e501a1e",
   "metadata": {},
   "outputs": [],
   "source": [
    "import asyncio"
   ]
  },
  {
   "cell_type": "code",
   "execution_count": null,
   "id": "2c02eaea",
   "metadata": {},
   "outputs": [
    {
     "name": "stdout",
     "output_type": "stream",
     "text": [
      "🚀 Running foo...\n",
      "🚀 Running bar...\n",
      "✅ bar: OK\n",
      "✅ foo: OK counts 70\n",
      "['foo', 'bar']\n"
     ]
    }
   ],
   "source": [
    "async def foo():\n",
    "    print('🚀 Running foo...')\n",
    "    for i in range(7_000):          ## CPU-bound task блокирует поток!\n",
    "        i**i\n",
    "        if i % 100 == 0:            # Раз в 100 итераций\n",
    "            await asyncio.sleep(0)  # Переключаем контекст\n",
    "    print('✅ foo: OK')\n",
    "    return 'foo'\n",
    "\n",
    "async def bar():\n",
    "    print('🚀 Running bar...')\n",
    "    await asyncio.sleep(1)\n",
    "    print('✅ bar: OK')\n",
    "    return 'bar'\n",
    "\n",
    "res = await asyncio.gather(foo(), bar())\n",
    "\n",
    "print(res)"
   ]
  }
 ],
 "metadata": {
  "kernelspec": {
   "display_name": "py-experiments",
   "language": "python",
   "name": "python3"
  },
  "language_info": {
   "codemirror_mode": {
    "name": "ipython",
    "version": 3
   },
   "file_extension": ".py",
   "mimetype": "text/x-python",
   "name": "python",
   "nbconvert_exporter": "python",
   "pygments_lexer": "ipython3",
   "version": "3.12.10"
  }
 },
 "nbformat": 4,
 "nbformat_minor": 5
}
