{
 "cells": [
  {
   "cell_type": "markdown",
   "id": "d3a8e137",
   "metadata": {},
   "source": [
    "## CPU-bound в async"
   ]
  },
  {
   "cell_type": "code",
   "execution_count": 4,
   "id": "3e501a1e",
   "metadata": {},
   "outputs": [],
   "source": [
    "import asyncio"
   ]
  },
  {
   "cell_type": "code",
   "execution_count": 5,
   "id": "2c02eaea",
   "metadata": {},
   "outputs": [
    {
     "name": "stdout",
     "output_type": "stream",
     "text": [
      "🚀 Running foo...\n",
      "🚀 Running bar...\n",
      "✅ bar: OK\n",
      "✅ foo: OK\n",
      "['foo', 'bar']\n"
     ]
    }
   ],
   "source": [
    "async def foo():\n",
    "    print('🚀 Running foo...')\n",
    "    for i in range(7_000):          ## CPU-bound task блокирует поток!\n",
    "        i**i\n",
    "        if i % 100 == 0:            # Раз в 100 итераций\n",
    "            await asyncio.sleep(0)  # Переключаем контекст\n",
    "    print('✅ foo: OK')\n",
    "    return 'foo'\n",
    "\n",
    "async def bar():\n",
    "    print('🚀 Running bar...')\n",
    "    await asyncio.sleep(1)\n",
    "    print('✅ bar: OK')\n",
    "    return 'bar'\n",
    "\n",
    "res = await asyncio.gather(foo(), bar())\n",
    "\n",
    "print(res)"
   ]
  },
  {
   "cell_type": "markdown",
   "id": "a149dd8b",
   "metadata": {},
   "source": [
    "## Lock\n",
    "Приостанавливает и возобновляет корутину"
   ]
  },
  {
   "cell_type": "code",
   "execution_count": 2,
   "id": "5be86059",
   "metadata": {},
   "outputs": [],
   "source": [
    "from asyncio import Lock"
   ]
  },
  {
   "cell_type": "code",
   "execution_count": 18,
   "id": "f529caf7",
   "metadata": {},
   "outputs": [
    {
     "name": "stdout",
     "output_type": "stream",
     "text": [
      "🔒 Locked: #0\n",
      "🚀 Running bar...\n",
      "✅ bar: OK\n",
      "🔓 Unlocked: #0\n",
      "\n",
      "🔒 Locked: #1\n",
      "🔓 Unlocked: #1\n",
      "\n"
     ]
    },
    {
     "data": {
      "text/plain": [
       "[0, 1, 'bar']"
      ]
     },
     "execution_count": 18,
     "metadata": {},
     "output_type": "execute_result"
    }
   ],
   "source": [
    "async def access(lock: Lock, number):\n",
    "    \n",
    "    await lock.acquire()\n",
    "    print(f'🔒 Locked: #{number}')\n",
    "\n",
    "    try:\n",
    "        await asyncio.sleep(2)\n",
    "    finally:\n",
    "        print(f'🔓 Unlocked: #{number}\\n')\n",
    "        lock.release()\n",
    "    \n",
    "    return number\n",
    "\n",
    "\n",
    "\n",
    "lock = asyncio.Lock()\n",
    "\n",
    "tasks = [asyncio.create_task(access(lock, i)) for i in range(2)] + [asyncio.create_task(bar())]\n",
    "\n",
    "await asyncio.gather(*tasks)"
   ]
  },
  {
   "cell_type": "markdown",
   "id": "9c1736a6",
   "metadata": {},
   "source": [
    "### Предотвращение \"состояния гонки\""
   ]
  },
  {
   "cell_type": "code",
   "execution_count": 32,
   "id": "7435f136",
   "metadata": {},
   "outputs": [
    {
     "name": "stdout",
     "output_type": "stream",
     "text": [
      "🔒 Locked: #1\n",
      "🔓 Unlocked: #1\n",
      "\n",
      "🔒 Locked: #2\n",
      "🔓 Unlocked: #2\n",
      "\n"
     ]
    },
    {
     "data": {
      "text/plain": [
       "2"
      ]
     },
     "execution_count": 32,
     "metadata": {},
     "output_type": "execute_result"
    }
   ],
   "source": [
    "# Обеспечение атомарности операций\n",
    "shared_counter = 0\n",
    "lock = asyncio.Lock()\n",
    "\n",
    "async def inc_counter(s: int):\n",
    "    global shared_counter\n",
    "    async with lock:\n",
    "        print(f'🔒 Locked: #{s}')\n",
    "\n",
    "        current_counter_value = shared_counter\n",
    "        current_counter_value += 1\n",
    "\n",
    "        await asyncio.sleep(s)\n",
    "        shared_counter = current_counter_value\n",
    "    print(f'🔓 Unlocked: #{s}\\n')\n",
    "\n",
    "await asyncio.gather(*[inc_counter(i) for i in range(1,3)])\n",
    "\n",
    "shared_counter"
   ]
  }
 ],
 "metadata": {
  "kernelspec": {
   "display_name": "py-experiments",
   "language": "python",
   "name": "python3"
  },
  "language_info": {
   "codemirror_mode": {
    "name": "ipython",
    "version": 3
   },
   "file_extension": ".py",
   "mimetype": "text/x-python",
   "name": "python",
   "nbconvert_exporter": "python",
   "pygments_lexer": "ipython3",
   "version": "3.12.10"
  }
 },
 "nbformat": 4,
 "nbformat_minor": 5
}
