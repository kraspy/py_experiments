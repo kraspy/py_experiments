{
 "cells": [
  {
   "cell_type": "code",
   "execution_count": 1,
   "id": "9f779e36",
   "metadata": {},
   "outputs": [],
   "source": [
    "import asyncio"
   ]
  },
  {
   "cell_type": "markdown",
   "id": "d8b9369e",
   "metadata": {},
   "source": [
    "## gather\n",
    "\n",
    "[Документация](https://docs.python.org/3/library/asyncio-task.html#asyncio.gather)\n",
    "\n",
    "1. Оборачивает все переданные awaitable в Задачи\n",
    "2. Ожидает завершения всех задач в порядке их передачи\n",
    "3. Возвращает упорядоченный список результатов\n",
    "\n"
   ]
  },
  {
   "cell_type": "code",
   "execution_count": 10,
   "id": "0b4694c3",
   "metadata": {},
   "outputs": [
    {
     "name": "stdout",
     "output_type": "stream",
     "text": [
      "📝 future=<_GatheringFuture pending>\n",
      "✅ async_func2 done\n",
      "✅ async_func1 done\n",
      "📝 result=[2, 1]\n"
     ]
    }
   ],
   "source": [
    "async def async_func1():\n",
    "    await asyncio.sleep(2)\n",
    "    print('✅ async_func1 done')\n",
    "    return 2\n",
    "\n",
    "async def async_func2():\n",
    "    await asyncio.sleep(1)\n",
    "    print('✅ async_func2 done')\n",
    "    return 1\n",
    "\n",
    "future = asyncio.gather(async_func1(), async_func2())\n",
    "print(f'📝 {future=}')\n",
    "\n",
    "result = await future\n",
    "print(f'📝 {result=}')"
   ]
  },
  {
   "cell_type": "markdown",
   "id": "2ab68af0",
   "metadata": {},
   "source": [
    "❗ Если задача отменена или завершена с ошибкой, то остальные задачи не исполняются и выбрасывается исключение.\n",
    "\n",
    "☝️ Но `return_exceptions=True` позволяет собрать исключения в список с остальными результатами. \n"
   ]
  },
  {
   "cell_type": "code",
   "execution_count": 25,
   "id": "8692d319",
   "metadata": {},
   "outputs": [
    {
     "name": "stdout",
     "output_type": "stream",
     "text": [
      "✅ async_func2 done\n",
      "✅ async_func1 done\n",
      "[2, 1, Exception('error')]\n"
     ]
    }
   ],
   "source": [
    "async def async_func_with_exc(n=3):\n",
    "    await asyncio.sleep(n)\n",
    "    raise Exception('error')\n",
    "\n",
    "\n",
    "result = await asyncio.gather(\n",
    "    async_func1(),\n",
    "    async_func2(),\n",
    "    async_func_with_exc(),\n",
    "    return_exceptions=True,\n",
    ")\n",
    "\n",
    "print(result)"
   ]
  },
  {
   "cell_type": "markdown",
   "id": "52a4f753",
   "metadata": {},
   "source": [
    "## TaskGroup\n",
    "\n",
    "[Документация](https://docs.python.org/3/library/asyncio-task.html#asyncio.TaskGroup)"
   ]
  },
  {
   "cell_type": "markdown",
   "id": "5124114b",
   "metadata": {},
   "source": [
    "Задачи живут внутри контекста.\\\n",
    "На момент выхода из tg все задачи уже будут завершены/отменены"
   ]
  },
  {
   "cell_type": "code",
   "execution_count": null,
   "id": "b75ef143",
   "metadata": {},
   "outputs": [
    {
     "name": "stdout",
     "output_type": "stream",
     "text": [
      "Exiting from tg...\n",
      "After tg\n",
      "<Task finished name='Task-98' coro=<afunc() done, defined at /var/folders/x2/4pfkx0w56k53mfx0b3lq3b700000gn/T/ipykernel_9951/1038869071.py:3> result=1>\n",
      "1\n",
      "<Task finished name='Task-97' coro=<afunc() done, defined at /var/folders/x2/4pfkx0w56k53mfx0b3lq3b700000gn/T/ipykernel_9951/1038869071.py:3> result=3>\n",
      "3\n",
      "<Task finished name='Task-99' coro=<afunc() done, defined at /var/folders/x2/4pfkx0w56k53mfx0b3lq3b700000gn/T/ipykernel_9951/1038869071.py:3> result=2>\n",
      "2\n"
     ]
    }
   ],
   "source": [
    "from random import sample\n",
    "\n",
    "async def afunc(s: float) -> float:\n",
    "    await asyncio.sleep(s)\n",
    "    return s\n",
    "\n",
    "async with asyncio.TaskGroup() as tg:\n",
    "    tasks = {\n",
    "        tg.create_task(afunc(s))\n",
    "        for s in sample(range(1,5), k=3)\n",
    "        }\n",
    "    print('Exiting from tg...')\n",
    "\n",
    "print('After tg')\n",
    "for task in tasks:\n",
    "    print(task)\n",
    "    print(task.result())\n"
   ]
  },
  {
   "cell_type": "markdown",
   "id": "f91373c7",
   "metadata": {},
   "source": [
    "### Порядок результатов\n",
    "Порядок результатов определяется порядком ожидания внутри группы"
   ]
  },
  {
   "cell_type": "code",
   "execution_count": 40,
   "id": "d820bee9",
   "metadata": {},
   "outputs": [
    {
     "name": "stdout",
     "output_type": "stream",
     "text": [
      "0.4 0.3 0.2\n",
      "0.4 0.3 0.2\n"
     ]
    }
   ],
   "source": [
    "async with asyncio.TaskGroup() as tg:\n",
    "    task1 = tg.create_task(afunc(0.4))\n",
    "    task2 = tg.create_task(afunc(0.3))\n",
    "    task3 = tg.create_task(afunc(0.2))\n",
    "\n",
    "    r1 = await task1\n",
    "    r2 = await task2\n",
    "    r3 = await task3\n",
    "\n",
    "print(r1, r2, r3)\n",
    "print(task1.result(), task2.result(), task3.result())\n",
    "\n",
    "\n",
    "    "
   ]
  },
  {
   "cell_type": "markdown",
   "id": "56057fae",
   "metadata": {},
   "source": [
    "### Ошибка в задаче\n",
    "При ошибке одной задачи, остальные отменяются автоматически."
   ]
  },
  {
   "cell_type": "code",
   "execution_count": 47,
   "id": "e86b303d",
   "metadata": {},
   "outputs": [
    {
     "name": "stdout",
     "output_type": "stream",
     "text": [
      "🏁 Выход из TaskGroup()\n",
      "⛔  Ошибочка: unhandled errors in a TaskGroup (1 sub-exception)\n",
      "✅ TaskGroup() выполнена\n",
      "<Task finished name='Task-174' coro=<afunc() done, defined at /var/folders/x2/4pfkx0w56k53mfx0b3lq3b700000gn/T/ipykernel_9951/1038869071.py:3> result=0.2>\n",
      "<Task finished name='Task-173' coro=<afunc() done, defined at /var/folders/x2/4pfkx0w56k53mfx0b3lq3b700000gn/T/ipykernel_9951/1038869071.py:3> result=0.5>\n",
      "<Task finished name='Task-175' coro=<async_func_with_exc() done, defined at /var/folders/x2/4pfkx0w56k53mfx0b3lq3b700000gn/T/ipykernel_9951/1789693524.py:1> exception=Exception('error')>\n"
     ]
    }
   ],
   "source": [
    "try:\n",
    "    async with asyncio.TaskGroup() as tg:\n",
    "        tasks = {\n",
    "            tg.create_task(afunc(s))\n",
    "            for s in [0.5, 0.2]\n",
    "            }\n",
    "        tasks.add(\n",
    "            tg.create_task(async_func_with_exc(n=1))\n",
    "        )\n",
    "        print('🏁 Выход из TaskGroup()')\n",
    "except Exception as e:\n",
    "    print('⛔  Ошибочка:', e)\n",
    "\n",
    "print('✅ TaskGroup() выполнена')\n",
    "for task in tasks:\n",
    "    print(task)"
   ]
  },
  {
   "cell_type": "markdown",
   "id": "96e21830",
   "metadata": {},
   "source": [
    "### Отмена задачи\n",
    "Отмена одной задачи отменяет все задачи"
   ]
  },
  {
   "cell_type": "code",
   "execution_count": 56,
   "id": "59259d49",
   "metadata": {},
   "outputs": [
    {
     "name": "stdout",
     "output_type": "stream",
     "text": [
      "None 0.3\n"
     ]
    }
   ],
   "source": [
    "async def afunc_with_try():\n",
    "    try:\n",
    "        await asyncio.sleep(0.2)\n",
    "    except asyncio.CancelledError:\n",
    "        print('Canceling function...')\n",
    "        raise\n",
    "\n",
    "async with asyncio.TaskGroup() as tg:\n",
    "    t1 = tg.create_task(afunc_with_try())\n",
    "    t2 = tg.create_task(afunc(0.3))\n",
    "\n",
    "    task1.cancel()\n",
    "    try:\n",
    "        await t1\n",
    "        await t2\n",
    "    except asyncio.CancelledError:\n",
    "        print('Cancel TastGroup()')\n",
    "print(t1.result(), t2.result())"
   ]
  }
 ],
 "metadata": {
  "kernelspec": {
   "display_name": "py-experiments",
   "language": "python",
   "name": "python3"
  },
  "language_info": {
   "codemirror_mode": {
    "name": "ipython",
    "version": 3
   },
   "file_extension": ".py",
   "mimetype": "text/x-python",
   "name": "python",
   "nbconvert_exporter": "python",
   "pygments_lexer": "ipython3",
   "version": "3.12.10"
  }
 },
 "nbformat": 4,
 "nbformat_minor": 5
}
