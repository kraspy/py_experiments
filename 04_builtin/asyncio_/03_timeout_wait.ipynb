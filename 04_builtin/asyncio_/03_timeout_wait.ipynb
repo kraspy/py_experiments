{
 "cells": [
  {
   "cell_type": "code",
   "execution_count": 1,
   "id": "04a376db",
   "metadata": {},
   "outputs": [],
   "source": [
    "import asyncio"
   ]
  },
  {
   "cell_type": "markdown",
   "id": "454cde0c",
   "metadata": {},
   "source": [
    "## timeout\n",
    "\n",
    "[Документация](https://docs.python.org/3/library/asyncio-task.html#asyncio.timeout)"
   ]
  },
  {
   "cell_type": "code",
   "execution_count": 2,
   "id": "04952174",
   "metadata": {},
   "outputs": [
    {
     "name": "stdout",
     "output_type": "stream",
     "text": [
      "⌛ Timeout is 1 s.\n",
      "✅ coro awaited for 0.5 s.\n",
      "❌ TimeoutError\n"
     ]
    }
   ],
   "source": [
    "async def afunc_with_sleep(s=2.0):\n",
    "    await asyncio.sleep(s)\n",
    "    print(f'✅ coro awaited for {s} s.')\n",
    "\n",
    "try:\n",
    "    async with asyncio.timeout(1) as to:\n",
    "        print('⌛ Timeout is', 1, 's.')\n",
    "        await afunc_with_sleep(0.5)\n",
    "        await afunc_with_sleep(1)\n",
    "except asyncio.TimeoutError:\n",
    "    print('❌ TimeoutError')"
   ]
  },
  {
   "cell_type": "markdown",
   "id": "440963dc",
   "metadata": {},
   "source": [
    "## wait_for\n",
    "\n",
    "[Документация](https://docs.python.org/3/library/asyncio-task.html#asyncio.wait_for)"
   ]
  },
  {
   "cell_type": "code",
   "execution_count": 3,
   "id": "7e2fc2ea",
   "metadata": {},
   "outputs": [
    {
     "name": "stdout",
     "output_type": "stream",
     "text": [
      "✅ coro awaited for 0.3 s.\n",
      "❌ TimeoutError\n"
     ]
    }
   ],
   "source": [
    "await asyncio.wait_for(\n",
    "    afunc_with_sleep(0.3),  # OK\n",
    "    timeout=0.5,\n",
    ")\n",
    "\n",
    "try:\n",
    "    await asyncio.wait_for(\n",
    "        afunc_with_sleep(0.6),  # TimeoutError\n",
    "        timeout=0.5,\n",
    "    )\n",
    "except asyncio.TimeoutError:\n",
    "    print('❌ TimeoutError')\n"
   ]
  },
  {
   "cell_type": "markdown",
   "id": "c2a0b1c4",
   "metadata": {},
   "source": [
    "## wait\n",
    "\n",
    "[Документация](https://docs.python.org/3/library/asyncio-task.html#asyncio.wait)\n",
    "\n",
    "- Работает только с `Task`"
   ]
  },
  {
   "cell_type": "code",
   "execution_count": 4,
   "id": "0ba32625",
   "metadata": {},
   "outputs": [
    {
     "name": "stdout",
     "output_type": "stream",
     "text": [
      "✅ coro awaited for 0.1 s.\n",
      "✅ coro awaited for 0.2 s.\n",
      "✅ coro awaited for 0.3 s.\n",
      "<Task finished name='Task-10' coro=<afunc_with_sleep() done, defined at /var/folders/x2/4pfkx0w56k53mfx0b3lq3b700000gn/T/ipykernel_65680/1047968593.py:1> result=None>\n",
      "<Task finished name='Task-8' coro=<afunc_with_sleep() done, defined at /var/folders/x2/4pfkx0w56k53mfx0b3lq3b700000gn/T/ipykernel_65680/1047968593.py:1> result=None>\n",
      "<Task finished name='Task-9' coro=<afunc_with_sleep() done, defined at /var/folders/x2/4pfkx0w56k53mfx0b3lq3b700000gn/T/ipykernel_65680/1047968593.py:1> result=None>\n"
     ]
    }
   ],
   "source": [
    "wait_times = [0.1, 0.2, 0.3, 0.4, 0.5]\n",
    "tasks = [asyncio.create_task(afunc_with_sleep(s)) for s in wait_times]\n",
    "\n",
    "done, pending = await asyncio.wait(\n",
    "    tasks,\n",
    "    timeout=0.35,\n",
    "    return_when=asyncio.ALL_COMPLETED\n",
    ")\n",
    "\n",
    "for t in pending:\n",
    "    t.cancel()\n",
    "\n",
    "for t in done:\n",
    "    print(t)"
   ]
  }
 ],
 "metadata": {
  "kernelspec": {
   "display_name": "py-experiments",
   "language": "python",
   "name": "python3"
  },
  "language_info": {
   "codemirror_mode": {
    "name": "ipython",
    "version": 3
   },
   "file_extension": ".py",
   "mimetype": "text/x-python",
   "name": "python",
   "nbconvert_exporter": "python",
   "pygments_lexer": "ipython3",
   "version": "3.12.10"
  }
 },
 "nbformat": 4,
 "nbformat_minor": 5
}
