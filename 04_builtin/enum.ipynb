{
 "cells": [
  {
   "cell_type": "markdown",
   "id": "d22b013d",
   "metadata": {},
   "source": [
    "Перечисления\n",
    "\n",
    "[Документация](https://docs.python.org/3/library/enum.html)"
   ]
  },
  {
   "cell_type": "code",
   "execution_count": 1,
   "id": "50bf8a4d",
   "metadata": {},
   "outputs": [
    {
     "name": "stdout",
     "output_type": "stream",
     "text": [
      "Color.RED\n",
      "RED\n",
      "1\n"
     ]
    }
   ],
   "source": [
    "from enum import Enum\n",
    "\n",
    "class Color(Enum):\n",
    "    RED = 1\n",
    "    GREEN = 2\n",
    "    BLUE = 3\n",
    "\n",
    "# Альтернативный вариант:\n",
    "Color2 = Enum('Color2', [('RED', 1), ('GREEN', 2), ('BLUE', 3)])\n",
    "\n",
    "\n",
    "print(Color['RED'], Color.RED.name, Color.RED.value, sep='\\n')"
   ]
  },
  {
   "cell_type": "code",
   "execution_count": 2,
   "id": "12c8efef",
   "metadata": {},
   "outputs": [
    {
     "name": "stdout",
     "output_type": "stream",
     "text": [
      "STARTED = 1\n",
      "STOPPED = 2\n",
      "start = start\n",
      "end = end\n"
     ]
    }
   ],
   "source": [
    "from enum import IntEnum, StrEnum, auto\n",
    "\n",
    "\n",
    "# Перечисление с auto-значениями\n",
    "class NumberEnum(IntEnum):\n",
    "    STARTED = auto()\n",
    "    STOPPED = auto()\n",
    "\n",
    "\n",
    "for n in NumberEnum:\n",
    "    print(f'{n.name} = {n.value}')\n",
    "\n",
    "\n",
    "class StringEnum(StrEnum):\n",
    "    start = 'start'\n",
    "    end = auto()\n",
    "\n",
    "\n",
    "for s in StringEnum:\n",
    "    print(f'{s.name} = {s.value}')"
   ]
  },
  {
   "cell_type": "code",
   "execution_count": null,
   "id": "dce8f641",
   "metadata": {},
   "outputs": [
    {
     "data": {
      "text/plain": [
       "3"
      ]
     },
     "execution_count": 3,
     "metadata": {},
     "output_type": "execute_result"
    }
   ],
   "source": [
    "from enum import Flag\n",
    "\n",
    "# Флаги для прав доступа\n",
    "class Perm(Flag):\n",
    "    READ  = auto()  # 1\n",
    "    WRITE = auto()  # 2\n",
    "    EXEC  = auto()  # 4\n",
    "\n",
    "\n",
    "(Perm.READ | Perm.WRITE).value"
   ]
  }
 ],
 "metadata": {
  "kernelspec": {
   "display_name": "py-experiments",
   "language": "python",
   "name": "python3"
  },
  "language_info": {
   "codemirror_mode": {
    "name": "ipython",
    "version": 3
   },
   "file_extension": ".py",
   "mimetype": "text/x-python",
   "name": "python",
   "nbconvert_exporter": "python",
   "pygments_lexer": "ipython3",
   "version": "3.12.10"
  }
 },
 "nbformat": 4,
 "nbformat_minor": 5
}
