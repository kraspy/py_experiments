{
 "cells": [
  {
   "cell_type": "markdown",
   "id": "e8f90830",
   "metadata": {},
   "source": [
    "[Документация](https://docs.python.org/3/library/locale.html#module-locale)"
   ]
  },
  {
   "cell_type": "code",
   "execution_count": 19,
   "id": "4aceae94",
   "metadata": {},
   "outputs": [],
   "source": [
    "import locale"
   ]
  },
  {
   "cell_type": "code",
   "execution_count": 18,
   "id": "e715e097",
   "metadata": {},
   "outputs": [
    {
     "name": "stdout",
     "output_type": "stream",
     "text": [
      "('C', 'UTF-8')\n"
     ]
    },
    {
     "data": {
      "text/plain": [
       "{'int_curr_symbol': '',\n",
       " 'currency_symbol': '',\n",
       " 'mon_decimal_point': '',\n",
       " 'mon_thousands_sep': '',\n",
       " 'mon_grouping': [],\n",
       " 'positive_sign': '',\n",
       " 'negative_sign': '',\n",
       " 'int_frac_digits': 127,\n",
       " 'frac_digits': 127,\n",
       " 'p_cs_precedes': 127,\n",
       " 'p_sep_by_space': 127,\n",
       " 'n_cs_precedes': 127,\n",
       " 'n_sep_by_space': 127,\n",
       " 'p_sign_posn': 127,\n",
       " 'n_sign_posn': 127,\n",
       " 'decimal_point': '.',\n",
       " 'thousands_sep': '',\n",
       " 'grouping': []}"
      ]
     },
     "execution_count": 18,
     "metadata": {},
     "output_type": "execute_result"
    }
   ],
   "source": [
    "# Set locale\n",
    "locale.setlocale(locale.LC_ALL, 'C.UTF-8')\n",
    "\n",
    "# Set default locale\n",
    "locale.setlocale(locale.LC_ALL, '')\n",
    "\n",
    "# Current value\n",
    "print(locale.getlocale())\n",
    "\n",
    "# Настройки текущей локали\n",
    "locale.localeconv()"
   ]
  },
  {
   "cell_type": "code",
   "execution_count": null,
   "id": "919e6105",
   "metadata": {},
   "outputs": [
    {
     "name": "stdout",
     "output_type": "stream",
     "text": [
      "0\n",
      "1\n",
      "2\n",
      "3\n",
      "4\n",
      "6\n"
     ]
    }
   ],
   "source": [
    "# Upper/Lowercase\n",
    "print(locale.LC_CTYPE)\n",
    "\n",
    "# Number format\n",
    "print(locale.LC_NUMERIC)\n",
    "\n",
    "# Date/time\n",
    "print(locale.LC_TIME)\n",
    "\n",
    "# String comparsion\n",
    "print(locale.LC_COLLATE)\n",
    "\n",
    "# Currency unit\n",
    "print(locale.LC_MONETARY)\n",
    "\n",
    "# локаль для всех режимов\n",
    "print(locale.LC_ALL)"
   ]
  }
 ],
 "metadata": {
  "kernelspec": {
   "display_name": "py-experiments",
   "language": "python",
   "name": "python3"
  },
  "language_info": {
   "codemirror_mode": {
    "name": "ipython",
    "version": 3
   },
   "file_extension": ".py",
   "mimetype": "text/x-python",
   "name": "python",
   "nbconvert_exporter": "python",
   "pygments_lexer": "ipython3",
   "version": "3.12.10"
  }
 },
 "nbformat": 4,
 "nbformat_minor": 5
}
