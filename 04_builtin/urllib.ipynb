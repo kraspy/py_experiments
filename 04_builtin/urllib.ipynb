{
 "cells": [
  {
   "cell_type": "markdown",
   "id": "cf504eba",
   "metadata": {},
   "source": [
    "[Документация](https://docs.python.org/3/library/urllib.html#module-urllib)"
   ]
  },
  {
   "cell_type": "markdown",
   "id": "6d285a67",
   "metadata": {},
   "source": [
    "## request\n",
    "Работа с HTTP/HTTPS (загрузка данных и файлов)"
   ]
  },
  {
   "cell_type": "code",
   "execution_count": 1,
   "id": "b7832a40",
   "metadata": {},
   "outputs": [],
   "source": [
    "import urllib.request "
   ]
  },
  {
   "cell_type": "code",
   "execution_count": null,
   "id": "51a7d8cd",
   "metadata": {},
   "outputs": [],
   "source": [
    "resp = urllib.request.urlopen('https://example.com')\n",
    "print(resp.read())"
   ]
  },
  {
   "cell_type": "code",
   "execution_count": null,
   "id": "162a97f6",
   "metadata": {},
   "outputs": [],
   "source": [
    "urllib.request.urlretrieve('https://example.com/file.txt', 'file.txt')"
   ]
  },
  {
   "cell_type": "markdown",
   "id": "82f5bd3a",
   "metadata": {},
   "source": [
    "## parse\n",
    "Разбор и сборка URL, quoting/unquoting"
   ]
  },
  {
   "cell_type": "code",
   "execution_count": null,
   "id": "655c037d",
   "metadata": {},
   "outputs": [],
   "source": [
    "from urllib.parse import urlparse, urlunparse, urlencode, parse_qs"
   ]
  },
  {
   "cell_type": "code",
   "execution_count": null,
   "id": "786a6276",
   "metadata": {},
   "outputs": [
    {
     "name": "stdout",
     "output_type": "stream",
     "text": [
      "https example.com /path/page arg1=val1&arg2=val2\n",
      "https://example.com/path/page?arg1=val1&arg2=val2\n"
     ]
    }
   ],
   "source": [
    "\n",
    "url = 'https://example.com/path/page?arg1=val1&arg2=val2'\n",
    "\n",
    "parts = urlparse(url)     # Разборка\n",
    "print(parts.scheme, parts.netloc, parts.path, parts.query)\n",
    "\n",
    "print(urlunparse(parts))  # Сборка"
   ]
  },
  {
   "cell_type": "code",
   "execution_count": 8,
   "id": "e202a2b0",
   "metadata": {},
   "outputs": [
    {
     "name": "stdout",
     "output_type": "stream",
     "text": [
      "https://example.com/search?q=test+text&page=2\n"
     ]
    }
   ],
   "source": [
    "params = {'q': 'test text', 'page': 2}\n",
    "query_str = urlencode(params)\n",
    "print(f\"https://example.com/search?{query_str}\")"
   ]
  },
  {
   "cell_type": "markdown",
   "id": "528a12b5",
   "metadata": {},
   "source": [
    "## error\n",
    "Обработка ошибок urllib"
   ]
  },
  {
   "cell_type": "code",
   "execution_count": null,
   "id": "6dcead5f",
   "metadata": {},
   "outputs": [],
   "source": [
    "import urllib.error"
   ]
  },
  {
   "cell_type": "code",
   "execution_count": 13,
   "id": "f721ee94",
   "metadata": {},
   "outputs": [
    {
     "name": "stdout",
     "output_type": "stream",
     "text": [
      "[Errno -2] Name or service not known\n"
     ]
    }
   ],
   "source": [
    "try:\n",
    "    urllib.request.urlopen('https://pyerror-site.com')\n",
    "except urllib.error.URLError as e:\n",
    "    print(e.reason)"
   ]
  },
  {
   "cell_type": "markdown",
   "id": "882eb2ad",
   "metadata": {},
   "source": [
    "## robotparser\n",
    "Разбор robots.txt"
   ]
  },
  {
   "cell_type": "code",
   "execution_count": null,
   "id": "a153f1a3",
   "metadata": {},
   "outputs": [],
   "source": [
    "import urllib.robotparser"
   ]
  }
 ],
 "metadata": {
  "kernelspec": {
   "display_name": "py-experiments",
   "language": "python",
   "name": "python3"
  },
  "language_info": {
   "codemirror_mode": {
    "name": "ipython",
    "version": 3
   },
   "file_extension": ".py",
   "mimetype": "text/x-python",
   "name": "python",
   "nbconvert_exporter": "python",
   "pygments_lexer": "ipython3",
   "version": "3.12.10"
  }
 },
 "nbformat": 4,
 "nbformat_minor": 5
}
