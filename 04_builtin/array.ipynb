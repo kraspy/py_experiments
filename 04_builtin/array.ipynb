{
 "cells": [
  {
   "cell_type": "markdown",
   "id": "11920320",
   "metadata": {},
   "source": [
    "Массив с фиксированным типом данных\n",
    "- Легче [списков](../01_concepts/_data_types/list.ipynb) и выполняются быстрее\n",
    "- Все элементы должны быть одного [типа](../01_concepts/_data_types/)\n",
    "\n",
    "[Документация](https://docs.python.org/3/library/array.html)"
   ]
  },
  {
   "cell_type": "code",
   "execution_count": 1,
   "id": "d258e837",
   "metadata": {},
   "outputs": [],
   "source": [
    "import array"
   ]
  },
  {
   "cell_type": "code",
   "execution_count": 2,
   "id": "b9d79b40",
   "metadata": {},
   "outputs": [
    {
     "name": "stdout",
     "output_type": "stream",
     "text": [
      "array('i', [1, 2, 3, 4, 5])\n"
     ]
    }
   ],
   "source": [
    "# array.array(typecode, initializer)\n",
    "arr = array.array('i', [1, 2, 3, 4, 5])  # 'i' — signed int (4 байта)\n",
    "\n",
    "print(arr)  # array('i', [1, 2, 3, 4, 5])"
   ]
  },
  {
   "cell_type": "markdown",
   "id": "05a53ae0",
   "metadata": {},
   "source": [
    "## 🟢 Коды типов данных\n",
    "\n",
    "|Код|Тип|Описание|Размер|\n",
    "|---|---|---|---|\n",
    "|`b`|signed char|Целое число со знаком|1 байт|\n",
    "|`B`|unsigned char|Целое без знака|1 байт|\n",
    "|`u`|Py_UNICODE|Юникод символы|2 или 4 байта|\n",
    "|`h`|signed short|Короткое целое|2 байта|\n",
    "|`H`|unsigned short|Короткое без знака|2 байта|\n",
    "|`i`|signed int|Целое число|4 байта|\n",
    "|`I`|unsigned int|Целое без знака|4 байта|\n",
    "|`l`|signed long|Длинное целое|4 или 8 байт|\n",
    "|`L`|unsigned long|Длинное без знака|4 или 8 байт|\n",
    "|`q`|signed long long|Длинное целое|8 байт|\n",
    "|`Q`|unsigned long long|Длинное без знака|8 байт|\n",
    "|`f`|float|Число с плавающей точкой|4 байта|\n",
    "|`d`|double|Двойная точность|8 байт|"
   ]
  },
  {
   "cell_type": "markdown",
   "id": "9f87236e",
   "metadata": {},
   "source": [
    "## 🟢 Основные операции"
   ]
  },
  {
   "cell_type": "code",
   "execution_count": 3,
   "id": "62a8c25d",
   "metadata": {},
   "outputs": [
    {
     "name": "stdout",
     "output_type": "stream",
     "text": [
      "array('i', [0, 1, 2, 3, 4, 5, 6, 7, 8, 9])\n",
      "array('i', [0, 1, 2, 4, 5, 6, 7, 8])\n",
      "8\n",
      "0\n",
      "array('i', [6, 5, 4])\n"
     ]
    }
   ],
   "source": [
    "# Добавление элементов\n",
    "arr.append(6)           # Добавить один элемент\n",
    "arr.extend([7, 8, 9])   # Добавить несколько элементов\n",
    "arr.insert(0, 0)        # Вставить на позицию 0 значение 0\n",
    "print(arr)              # array('i', [0, 1, 2, 3, 4, 5, 6, 7, 8, 9])\n",
    "\n",
    "# Удаление элементов\n",
    "arr.pop()               # Удалить последний элемент → 9\n",
    "arr.remove(3)           # Удалить первое вхождение 3\n",
    "print(arr)              # array('i', [0, 1, 2, 4, 5, 6, 7, 8])\n",
    "\n",
    "# Обратный порядок\n",
    "arr.reverse()           # array('i', [8, 7, 6, 5, 4, 2, 1, 0])\n",
    "\n",
    "# Индексация и срезы\n",
    "print(arr[0])           # 8 — первый элемент\n",
    "print(arr[-1])          # 0 — последний элемент\n",
    "print(arr[2:5])         # array('i', [6, 5, 4])"
   ]
  },
  {
   "cell_type": "markdown",
   "id": "d4ed4ba3",
   "metadata": {},
   "source": [
    "## 🟢 Преобразование массива"
   ]
  },
  {
   "cell_type": "code",
   "execution_count": 4,
   "id": "939834fc",
   "metadata": {},
   "outputs": [
    {
     "name": "stdout",
     "output_type": "stream",
     "text": [
      "[8, 7, 6, 5, 4, 2, 1, 0]\n",
      "b'\\x08\\x00\\x00\\x00\\x07\\x00\\x00\\x00\\x06\\x00\\x00\\x00\\x05\\x00\\x00\\x00\\x04\\x00\\x00\\x00\\x02\\x00\\x00\\x00\\x01\\x00\\x00\\x00\\x00\\x00\\x00\\x00'\n",
      "array('i', [8, 7, 6, 5, 4, 2, 1, 0])\n"
     ]
    }
   ],
   "source": [
    "# В список\n",
    "print(arr.tolist())     # [8, 7, 6, 5, 4, 2, 1, 0]\n",
    "\n",
    "# В байты\n",
    "bytes_arr = arr.tobytes()\n",
    "print(bytes_arr)        # b'\\x08\\x00\\x00\\x00\\x07\\x00\\x00\\x00...'\n",
    "\n",
    "# Из байтов\n",
    "new_arr = array.array('i')\n",
    "new_arr.frombytes(bytes_arr)\n",
    "print(new_arr)          # array('i', [8, 7, 6, 5, 4, 2, 1, 0])"
   ]
  },
  {
   "cell_type": "markdown",
   "id": "c08ba1ee",
   "metadata": {},
   "source": [
    "## 🟢 Работа с файлами"
   ]
  },
  {
   "cell_type": "code",
   "execution_count": 5,
   "id": "b1987460",
   "metadata": {},
   "outputs": [
    {
     "name": "stdout",
     "output_type": "stream",
     "text": [
      "array('i', [8, 7, 6, 5, 4, 2, 1, 0])\n"
     ]
    }
   ],
   "source": [
    "# Запись в файл\n",
    "with open('array.bin', 'wb') as f:\n",
    "    arr.tofile(f)\n",
    "\n",
    "# Чтение из файла\n",
    "new_arr = array.array('i')\n",
    "with open('array.bin', 'rb') as f:\n",
    "    new_arr.fromfile(f, len(arr))\n",
    "print(new_arr)          # array('i', [8, 7, 6, 5, 4, 2, 1, 0])"
   ]
  },
  {
   "cell_type": "markdown",
   "id": "23883150",
   "metadata": {},
   "source": [
    "## 🟢 Атрибуты и методы"
   ]
  },
  {
   "cell_type": "code",
   "execution_count": 6,
   "id": "57a25744",
   "metadata": {},
   "outputs": [
    {
     "name": "stdout",
     "output_type": "stream",
     "text": [
      "i\n",
      "4\n",
      "(138244819331680, 8)\n",
      "1\n",
      "2\n"
     ]
    }
   ],
   "source": [
    "print(arr.typecode)       # 'i' — тип элементов\n",
    "print(arr.itemsize)       # 4 — размер одного элемента (байт)\n",
    "print(arr.buffer_info())  # (адрес, длина массива)\n",
    "print(arr.count(4))       # 1 — сколько раз встречается 4\n",
    "print(arr.index(6))       # 2 — индекс элемента 6"
   ]
  }
 ],
 "metadata": {
  "kernelspec": {
   "display_name": "py-experiments",
   "language": "python",
   "name": "python3"
  },
  "language_info": {
   "codemirror_mode": {
    "name": "ipython",
    "version": 3
   },
   "file_extension": ".py",
   "mimetype": "text/x-python",
   "name": "python",
   "nbconvert_exporter": "python",
   "pygments_lexer": "ipython3",
   "version": "3.12.10"
  }
 },
 "nbformat": 4,
 "nbformat_minor": 5
}
