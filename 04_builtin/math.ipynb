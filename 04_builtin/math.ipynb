{
 "cells": [
  {
   "cell_type": "markdown",
   "id": "65291d43",
   "metadata": {},
   "source": [
    "[Документация](https://docs.python.org/3/library/math.html#module-math)"
   ]
  },
  {
   "cell_type": "code",
   "execution_count": 1,
   "id": "3d1dc800",
   "metadata": {},
   "outputs": [],
   "source": [
    "import math"
   ]
  },
  {
   "cell_type": "code",
   "execution_count": 6,
   "id": "d90828f0",
   "metadata": {},
   "outputs": [
    {
     "name": "stdout",
     "output_type": "stream",
     "text": [
      "3.141592653589793\n",
      "2.718281828459045\n",
      "0.8414709848078965\n",
      "0.5403023058681398\n",
      "1.5574077246549023\n",
      "1.5707963267948966\n",
      "0.0\n",
      "0.7853981633974483\n",
      "572.9577951308232\n",
      "0.17453292519943295\n",
      "7.38905609893065\n",
      "2.0\n",
      "3.0\n",
      "3.0\n",
      "3\n",
      "2\n",
      "8.0\n",
      "9.0\n",
      "2.0\n",
      "120\n",
      "0.6\n"
     ]
    }
   ],
   "source": [
    "print(\n",
    "    # Константы\n",
    "    math.pi,           # число π\n",
    "    math.e,            # число e\n",
    "\n",
    "    # Тригонометрия\n",
    "    math.sin(1),       # синус\n",
    "    math.cos(1),       # косинус\n",
    "    math.tan(1),       # тангенс\n",
    "    math.asin(1),      # арксинус\n",
    "    math.acos(1),      # арккосинус\n",
    "    math.atan(1),      # арктангенс\n",
    "\n",
    "    # Градусы/радианы \n",
    "    math.degrees(10),  # радианы → градусы\n",
    "    math.radians(10),  # градусы → радианы\n",
    "\n",
    "    # Экспоненты и логарифмы \n",
    "    math.exp(2),       # экспонента e^x\n",
    "    math.log10(100),   # десятичный логарифм\n",
    "    math.log2(8),      # логарифм по основанию 2\n",
    "\n",
    "    # Корень, округление \n",
    "    math.sqrt(9),      # квадратный корень\n",
    "    math.ceil(2.3),    # округление вверх\n",
    "    math.floor(2.7),   # округление вниз\n",
    "\n",
    "    # Прочее \n",
    "    math.pow(2, 3),    # возведение в степень\n",
    "    math.fabs(-9),     # абсолютное значение\n",
    "    math.fmod(8, 3),   # остаток от деления\n",
    "    math.factorial(5), # факториал числа\n",
    "    math.fsum([0.1, 0.2, 0.3]),  # точная сумма последовательности\n",
    "    sep='\\n',\n",
    ")\n"
   ]
  }
 ],
 "metadata": {
  "kernelspec": {
   "display_name": "py-experiments",
   "language": "python",
   "name": "python3"
  },
  "language_info": {
   "codemirror_mode": {
    "name": "ipython",
    "version": 3
   },
   "file_extension": ".py",
   "mimetype": "text/x-python",
   "name": "python",
   "nbconvert_exporter": "python",
   "pygments_lexer": "ipython3",
   "version": "3.12.10"
  }
 },
 "nbformat": 4,
 "nbformat_minor": 5
}
