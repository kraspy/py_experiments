{
 "cells": [
  {
   "cell_type": "markdown",
   "id": "ed1f62d6",
   "metadata": {},
   "source": [
    "Модуль `decimal` предоставляет класс `Decimal` для точных арифметических операций с десятичными числами.\n",
    "\n",
    "Полезен в финансовых и других вычислениях, где важна точность.\n",
    "\n",
    "[Документация](https://docs.python.org/3/library/decimal.html#decimal.Decimal)"
   ]
  },
  {
   "cell_type": "code",
   "execution_count": 1,
   "id": "07032c03",
   "metadata": {},
   "outputs": [],
   "source": [
    "from decimal import Decimal, getcontext, ROUND_HALF_UP"
   ]
  },
  {
   "cell_type": "code",
   "execution_count": 8,
   "id": "1745ca14",
   "metadata": {},
   "outputs": [
    {
     "name": "stdout",
     "output_type": "stream",
     "text": [
      "0.30000000000000004\n",
      "0.3\n"
     ]
    },
    {
     "data": {
      "text/plain": [
       "Decimal('0.10')"
      ]
     },
     "execution_count": 8,
     "metadata": {},
     "output_type": "execute_result"
    }
   ],
   "source": [
    "# Установка точности вычислений и правила округления\n",
    "getcontext().rounding = ROUND_HALF_UP  # Математическое округление\n",
    "getcontext().prec = 5                  # Точность\n",
    "\n",
    "# Создание десятичного числа\n",
    "number1 = Decimal('0.1')  # value может быть числом, строкой или кортежем\n",
    "num_from_tuple = Decimal((0, (3, 1, 4), -2))  # 3.14\n",
    "number2 = Decimal('0.2')\n",
    "\n",
    "print(0.1 + 0.2)\n",
    "print(number1 + number2)\n",
    "\n",
    "# Округление\n",
    "number1.quantize(Decimal('0.01'))"
   ]
  }
 ],
 "metadata": {
  "kernelspec": {
   "display_name": "py-experiments",
   "language": "python",
   "name": "python3"
  },
  "language_info": {
   "codemirror_mode": {
    "name": "ipython",
    "version": 3
   },
   "file_extension": ".py",
   "mimetype": "text/x-python",
   "name": "python",
   "nbconvert_exporter": "python",
   "pygments_lexer": "ipython3",
   "version": "3.12.10"
  }
 },
 "nbformat": 4,
 "nbformat_minor": 5
}
