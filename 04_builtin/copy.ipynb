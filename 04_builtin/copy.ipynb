{
 "cells": [
  {
   "cell_type": "markdown",
   "id": "691ec986",
   "metadata": {},
   "source": [
    "Функции для создания поверхностных и глубоких копий объектов.\n",
    "\n",
    "[Документация](https://docs.python.org/3/library/copy.html)"
   ]
  },
  {
   "cell_type": "code",
   "execution_count": 1,
   "id": "6ce00624",
   "metadata": {},
   "outputs": [],
   "source": [
    "import copy"
   ]
  },
  {
   "cell_type": "code",
   "execution_count": null,
   "id": "11be67eb",
   "metadata": {},
   "outputs": [
    {
     "name": "stdout",
     "output_type": "stream",
     "text": [
      "[1, 2, [99, 4]]\n",
      "[1, 2, [99, 4]]\n"
     ]
    }
   ],
   "source": [
    "# Пример с поверхностной копией\n",
    "original_list = [1, 2, [3, 4]]\n",
    "shallow_copy = copy.copy(original_list)\n",
    "original_list[2][0] = 99\n",
    "\n",
    "print(original_list)  # [1, 2, [99, 4]]\n",
    "print(shallow_copy)   # [1, 2, [99, 4]]"
   ]
  },
  {
   "cell_type": "code",
   "execution_count": null,
   "id": "8012e5ab",
   "metadata": {},
   "outputs": [
    {
     "name": "stdout",
     "output_type": "stream",
     "text": [
      "[1, 2, [99, 4]]\n",
      "[1, 2, [3, 4]]\n"
     ]
    }
   ],
   "source": [
    "# Пример с глубокой копией\n",
    "original_list = [1, 2, [3, 4]]\n",
    "deep_copy = copy.deepcopy(original_list)\n",
    "original_list[2][0] = 99\n",
    "\n",
    "print(original_list)  # [1, 2, [99, 4]]\n",
    "print(deep_copy)      # [1, 2, [3, 4]]"
   ]
  }
 ],
 "metadata": {
  "kernelspec": {
   "display_name": "py-experiments",
   "language": "python",
   "name": "python3"
  },
  "language_info": {
   "codemirror_mode": {
    "name": "ipython",
    "version": 3
   },
   "file_extension": ".py",
   "mimetype": "text/x-python",
   "name": "python",
   "nbconvert_exporter": "python",
   "pygments_lexer": "ipython3",
   "version": "3.12.10"
  }
 },
 "nbformat": 4,
 "nbformat_minor": 5
}
