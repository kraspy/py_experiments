{
 "cells": [
  {
   "cell_type": "markdown",
   "id": "cdec81df",
   "metadata": {},
   "source": [
    "Упрощает создание простых классов без необходимости вручную писать:\n",
    "- __init__ \n",
    "- __repr__\n",
    "- __eq__\n",
    "- и многие другие методы,\\\n",
    "а также гибко настраивается через параметры декоратора и функцию `field()`.\n",
    "\n",
    "[Документация](https://docs.python.org/3/library/dataclasses.html)\n",
    "\n",
    "Параметры:  \n",
    "- *init* — генерировать __init__ (True)\n",
    "- *repr* — генерировать __repr__ (True)\n",
    "- *eq* — генерировать __eq__ (True)\n",
    "- *order* — генерировать методы сравнения (<, > и т. д.) (False)\n",
    "- *frozen* — сделать объект неизменяемым (False)\n",
    "- *slots* — использовать __slots__ (с 3.10, False)"
   ]
  },
  {
   "cell_type": "markdown",
   "id": "5e9dd5ed",
   "metadata": {},
   "source": [
    "## Создание класса и экземпляра"
   ]
  },
  {
   "cell_type": "code",
   "execution_count": null,
   "id": "824d6c52",
   "metadata": {},
   "outputs": [
    {
     "name": "stdout",
     "output_type": "stream",
     "text": [
      "User(name='Alice', age=30)\n"
     ]
    }
   ],
   "source": [
    "from dataclasses import dataclass\n",
    "\n",
    "@dataclass\n",
    "class User:\n",
    "    name: str\n",
    "    age: int\n",
    "\n",
    "u = User(\"Alice\", 30)\n",
    "print(u)  # User(name='Alice', age=30)"
   ]
  },
  {
   "cell_type": "markdown",
   "id": "63630764",
   "metadata": {},
   "source": [
    "## field / default_factory"
   ]
  },
  {
   "cell_type": "code",
   "execution_count": 2,
   "id": "96d4af5d",
   "metadata": {},
   "outputs": [
    {
     "name": "stdout",
     "output_type": "stream",
     "text": [
      "Basket(items=['apple'])\n"
     ]
    }
   ],
   "source": [
    "from dataclasses import dataclass, field\n",
    "\n",
    "\n",
    "@dataclass\n",
    "class Basket:\n",
    "    items: list[str] = field(default_factory=list)\n",
    "\n",
    "\n",
    "b = Basket()\n",
    "b.items.append('apple')\n",
    "print(b)  # Basket(items=['apple'])"
   ]
  },
  {
   "cell_type": "markdown",
   "id": "061eff23",
   "metadata": {},
   "source": [
    "## asdict / astuple"
   ]
  },
  {
   "cell_type": "code",
   "execution_count": null,
   "id": "4000b1ea",
   "metadata": {},
   "outputs": [
    {
     "name": "stdout",
     "output_type": "stream",
     "text": [
      "{'x': 1, 'y': 2}\n",
      "(1, 2)\n"
     ]
    }
   ],
   "source": [
    "from dataclasses import dataclass, asdict, astuple\n",
    "\n",
    "@dataclass\n",
    "class Point:\n",
    "    x: int\n",
    "    y: int\n",
    "\n",
    "p = Point(1, 2)\n",
    "print(asdict(p))   # {'x': 1, 'y': 2}\n",
    "print(astuple(p))  # (1, 2)"
   ]
  },
  {
   "cell_type": "markdown",
   "id": "f414e52a",
   "metadata": {},
   "source": [
    "## frozen=True"
   ]
  },
  {
   "cell_type": "code",
   "execution_count": 12,
   "id": "55d09311",
   "metadata": {},
   "outputs": [],
   "source": [
    "from dataclasses import dataclass\n",
    "\n",
    "@dataclass(frozen=True)\n",
    "class Settings:\n",
    "    debug: bool\n",
    "\n",
    "s = Settings(True)\n",
    "# s.debug = False  # Ошибка!"
   ]
  },
  {
   "cell_type": "markdown",
   "id": "b8e54f3c",
   "metadata": {},
   "source": [
    "## Сравнение и сортировка"
   ]
  },
  {
   "cell_type": "code",
   "execution_count": 5,
   "id": "05748d8d",
   "metadata": {},
   "outputs": [
    {
     "name": "stdout",
     "output_type": "stream",
     "text": [
      "[Product(price=50, title='B'), Product(price=100, title='A')]\n"
     ]
    }
   ],
   "source": [
    "from dataclasses import dataclass\n",
    "\n",
    "@dataclass(order=True)\n",
    "class Product:\n",
    "    price: int\n",
    "    title: str\n",
    "\n",
    "products = [Product(100, \"A\"), Product(50, \"B\")]\n",
    "print(sorted(products))  # [Product(price=50, title='B'), Product(price=100, title='A')]"
   ]
  },
  {
   "cell_type": "markdown",
   "id": "06c4fc59",
   "metadata": {},
   "source": [
    "## replace"
   ]
  },
  {
   "cell_type": "code",
   "execution_count": null,
   "id": "0dd651da",
   "metadata": {},
   "outputs": [
    {
     "name": "stdout",
     "output_type": "stream",
     "text": [
      "Config(host='localhost', port=9090)\n"
     ]
    }
   ],
   "source": [
    "from dataclasses import dataclass, replace\n",
    "\n",
    "@dataclass\n",
    "class Config:\n",
    "    host: str\n",
    "    port: int\n",
    "\n",
    "c1 = Config(\"localhost\", 8080)\n",
    "c2 = replace(c1, port=9090)\n",
    "print(c2)  # Config(host='localhost', port=9090)"
   ]
  },
  {
   "cell_type": "markdown",
   "id": "67383235",
   "metadata": {},
   "source": [
    "## fields"
   ]
  },
  {
   "cell_type": "code",
   "execution_count": 7,
   "id": "6657205a",
   "metadata": {},
   "outputs": [
    {
     "name": "stdout",
     "output_type": "stream",
     "text": [
      "title <class 'str'>\n",
      "author <class 'str'>\n"
     ]
    }
   ],
   "source": [
    "from dataclasses import dataclass, fields\n",
    "\n",
    "@dataclass\n",
    "class Book:\n",
    "    title: str\n",
    "    author: str\n",
    "\n",
    "for f in fields(Book):\n",
    "    print(f.name, f.type)\n",
    "# title <class 'str'>\n",
    "# author <class 'str'>"
   ]
  },
  {
   "cell_type": "markdown",
   "id": "01fd9bf7",
   "metadata": {},
   "source": [
    "## \\_\\_post_init__"
   ]
  },
  {
   "cell_type": "code",
   "execution_count": null,
   "id": "70e8af20",
   "metadata": {},
   "outputs": [
    {
     "name": "stdout",
     "output_type": "stream",
     "text": [
      "Item(name='Milk', price=12.46)\n"
     ]
    }
   ],
   "source": [
    "from dataclasses import dataclass\n",
    "\n",
    "@dataclass\n",
    "class Item:\n",
    "    name: str\n",
    "    price: float\n",
    "\n",
    "    def __post_init__(self):\n",
    "        self.price = round(self.price, 2)\n",
    "\n",
    "i = Item(\"Milk\", 12.4567)\n",
    "print(i)  # Item(name='Milk', price=12.46)"
   ]
  },
  {
   "cell_type": "markdown",
   "id": "1844a523",
   "metadata": {},
   "source": [
    "## is_dataclass"
   ]
  },
  {
   "cell_type": "code",
   "execution_count": null,
   "id": "0768de9f",
   "metadata": {},
   "outputs": [
    {
     "name": "stdout",
     "output_type": "stream",
     "text": [
      "True\n",
      "True\n",
      "False\n"
     ]
    }
   ],
   "source": [
    "from dataclasses import dataclass, is_dataclass\n",
    "\n",
    "@dataclass\n",
    "class A:\n",
    "    pass\n",
    "\n",
    "print(is_dataclass(A))    # True\n",
    "print(is_dataclass(A()))  # True\n",
    "print(is_dataclass(123))  # False"
   ]
  },
  {
   "cell_type": "markdown",
   "id": "d1e29661",
   "metadata": {},
   "source": [
    "## make_dataclass"
   ]
  },
  {
   "cell_type": "code",
   "execution_count": 10,
   "id": "431958bf",
   "metadata": {},
   "outputs": [
    {
     "name": "stdout",
     "output_type": "stream",
     "text": [
      "Point(x=5, y=0)\n"
     ]
    }
   ],
   "source": [
    "from dataclasses import make_dataclass\n",
    "\n",
    "Point = make_dataclass(\"Point\", [(\"x\", int), (\"y\", int, 0)])\n",
    "p = Point(5)\n",
    "print(p)  # Point(x=5, y=0)"
   ]
  }
 ],
 "metadata": {
  "kernelspec": {
   "display_name": "py-experiments",
   "language": "python",
   "name": "python3"
  },
  "language_info": {
   "codemirror_mode": {
    "name": "ipython",
    "version": 3
   },
   "file_extension": ".py",
   "mimetype": "text/x-python",
   "name": "python",
   "nbconvert_exporter": "python",
   "pygments_lexer": "ipython3",
   "version": "3.12.10"
  }
 },
 "nbformat": 4,
 "nbformat_minor": 5
}
