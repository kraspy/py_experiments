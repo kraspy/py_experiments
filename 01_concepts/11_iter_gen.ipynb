{
 "cells": [
  {
   "cell_type": "markdown",
   "id": "91c6d826",
   "metadata": {},
   "source": [
    "## Итератор\n",
    "\n",
    "Это класс, реализующий методы итератора: `__iter__()` и `__next__()`.\n"
   ]
  },
  {
   "cell_type": "code",
   "execution_count": null,
   "id": "de718594",
   "metadata": {},
   "outputs": [
    {
     "name": "stdout",
     "output_type": "stream",
     "text": [
      "2\n",
      "3\n"
     ]
    }
   ],
   "source": [
    "class Counter:\n",
    "    def __init__(self, start, stop):\n",
    "        self.current = start\n",
    "        self.stop = stop\n",
    "\n",
    "    def __iter__(self):\n",
    "        return self  # Итератор возвращает сам себя\n",
    "\n",
    "    def __next__(self):\n",
    "        if self.current >= self.stop:\n",
    "            raise StopIteration  # Останавливаем итерацию\n",
    "        self.current += 1\n",
    "        return self.current - 1\n",
    "\n",
    "\n",
    "for num in Counter(1, 5):\n",
    "    print(num, end=' ')"
   ]
  },
  {
   "cell_type": "markdown",
   "id": "2284d983",
   "metadata": {},
   "source": [
    "## Генераторы\n",
    "\n",
    "Это **специальные [функции](08_functions.ipynb)** или **[выражения](04_instructions.ipynb)**, которые позволяют создавать итераторы с ленивой инициализацией.\n",
    "\n",
    "- Генераторы **не хранят все значения в памяти** сразу, а вычисляют их **по мере необходимости**.\n",
    "- Используют `yield`, а не `return`.\n",
    "- Позволяют **экономить память** при работе с большими объемами данных.\n"
   ]
  },
  {
   "cell_type": "markdown",
   "id": "820d0b3f",
   "metadata": {},
   "source": [
    "### Функция-генератор\n"
   ]
  },
  {
   "cell_type": "markdown",
   "id": "25e56d13",
   "metadata": {},
   "source": [
    "1. При вызове функции-генератора создается обхект генератора с состоянием: `GEN_CREATED`.\n",
    "2. При первом вызове (`next(gen)`) и возвращении значения yield состояние меняется на `GEN_RUNNING`. Сохраняется контекст (Локальные переменные, указатель строки кода, стэк вызовов).\n",
    "3. Меняется состояние: `GEN_SUSPENDED`.\n",
    "4. При следующем вызове возвращается следующее значение.\n",
    "5. Когда выполнение доходит до конца, состояние становится `GEN_CLOSED` и генерируется `StopIteration`.\n"
   ]
  },
  {
   "cell_type": "code",
   "execution_count": null,
   "id": "a0e400f2",
   "metadata": {},
   "outputs": [
    {
     "name": "stdout",
     "output_type": "stream",
     "text": [
      "<class 'generator'>\n",
      "0\n",
      "1\n",
      "2\n",
      "3\n",
      "4\n"
     ]
    }
   ],
   "source": [
    "def gen_foo():\n",
    "    for i in range(5):\n",
    "        yield i  # Возвращает значение и \"замораживает\" выполнение\n",
    "\n",
    "\n",
    "print(type(gen_foo()))\n",
    "\n",
    "for num in gen_foo():\n",
    "    print(num)"
   ]
  },
  {
   "cell_type": "markdown",
   "id": "e5ba131e",
   "metadata": {},
   "source": [
    "#### yield from\n",
    "\n",
    "Передаёт управление **другому генератору**.\n"
   ]
  },
  {
   "cell_type": "code",
   "execution_count": null,
   "id": "e639b42a",
   "metadata": {},
   "outputs": [
    {
     "name": "stdout",
     "output_type": "stream",
     "text": [
      "1\n",
      "2\n",
      "3\n"
     ]
    }
   ],
   "source": [
    "def sub_gen():\n",
    "    yield 1\n",
    "    yield 2\n",
    "\n",
    "\n",
    "def main_gen():\n",
    "    yield from sub_gen()  # Делегируем подгенератору\n",
    "    yield 3\n",
    "\n",
    "\n",
    "for num in main_gen():\n",
    "    print(num)"
   ]
  },
  {
   "cell_type": "markdown",
   "id": "20aa3a7d",
   "metadata": {},
   "source": [
    "### Выражение-генератор\n",
    "\n",
    "Возвращает объект-генератор сразу.\n",
    "\n",
    "- **Генераторные выражения** похожи на списковые включения (`list comprehensions`), но **не создают список в памяти**.\n",
    "- Значения вычисляются **по мере необходимости** (`lazy evaluation`).\n",
    "- Используются в **функциях `sum()`, `max()`, `min()`**, а также при передаче больших данных.\n"
   ]
  },
  {
   "cell_type": "code",
   "execution_count": 5,
   "id": "476b19d2",
   "metadata": {},
   "outputs": [
    {
     "name": "stdout",
     "output_type": "stream",
     "text": [
      "0\n"
     ]
    }
   ],
   "source": [
    "numbers = (x for x in range(10))\n",
    "print(next(numbers))"
   ]
  },
  {
   "cell_type": "markdown",
   "id": "35c92371",
   "metadata": {},
   "source": [
    "### Отличия между генераторами\n",
    "\n",
    "| Характеристика   | Функция-генератор                    | Класс-генератор                             | Генераторное выражение               |\n",
    "| ---------------- | ------------------------------------ | ------------------------------------------- | ------------------------------------ |\n",
    "| Синтаксис        | Функция с `yield`                    | Класс с `__iter__()` и `__next__()`         | Выражение в круглых скобках          |\n",
    "| Объем кода       | Средний                              | Большой, ручное управление состоянием       | Краткий и удобный                    |\n",
    "| Гибкость         | Высокая, можно писать сложную логику | Очень высокая, можно вручную управлять всем | Средняя, для простых случаев         |\n",
    "| Создание объекта | При вызове функции                   | При создании экземпляра класса              | При вычислении выражения             |\n",
    "| Использование    | Для сложных последовательностей      | Для тонкого контроля итераций               | Для быстрых однострочных генераторов |\n"
   ]
  },
  {
   "cell_type": "markdown",
   "id": "d75d67d2",
   "metadata": {},
   "source": [
    "### Доп. функции для генераторов\n"
   ]
  },
  {
   "cell_type": "markdown",
   "id": "2efbcf93",
   "metadata": {},
   "source": [
    "#### send()\n",
    "\n",
    "Позволяет отправить значение внутрь генератора\n"
   ]
  },
  {
   "cell_type": "code",
   "execution_count": null,
   "id": "354c16d1",
   "metadata": {},
   "outputs": [
    {
     "name": "stdout",
     "output_type": "stream",
     "text": [
      "1\n"
     ]
    },
    {
     "data": {
      "text/plain": [
       "42"
      ]
     },
     "execution_count": 10,
     "metadata": {},
     "output_type": "execute_result"
    }
   ],
   "source": [
    "def gen():\n",
    "    val = yield 1\n",
    "    yield val\n",
    "\n",
    "\n",
    "g = gen()\n",
    "print(next(g))\n",
    "g.send(42)"
   ]
  },
  {
   "cell_type": "markdown",
   "id": "d5d104e4",
   "metadata": {},
   "source": [
    "#### throw()\n",
    "\n",
    "Позволяет выбросить исключение внутрь генератора в том месте, где он приостановлен (на `yield`).\n"
   ]
  },
  {
   "cell_type": "code",
   "execution_count": null,
   "id": "f7b93ccb",
   "metadata": {},
   "outputs": [],
   "source": [
    "g.throw(ValueError, 'error message')"
   ]
  },
  {
   "cell_type": "markdown",
   "id": "45ddaef7",
   "metadata": {},
   "source": [
    "#### close()\n",
    "\n",
    "Завершает работу генератора.\n"
   ]
  },
  {
   "cell_type": "code",
   "execution_count": null,
   "id": "15b9711e",
   "metadata": {},
   "outputs": [],
   "source": [
    "g.close()"
   ]
  }
 ],
 "metadata": {
  "kernelspec": {
   "display_name": "py-experiments",
   "language": "python",
   "name": "python3"
  },
  "language_info": {
   "codemirror_mode": {
    "name": "ipython",
    "version": 3
   },
   "file_extension": ".py",
   "mimetype": "text/x-python",
   "name": "python",
   "nbconvert_exporter": "python",
   "pygments_lexer": "ipython3",
   "version": "3.12.10"
  }
 },
 "nbformat": 4,
 "nbformat_minor": 5
}
