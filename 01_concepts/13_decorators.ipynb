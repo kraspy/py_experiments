{
 "cells": [
  {
   "cell_type": "markdown",
   "id": "ea87fe21",
   "metadata": {},
   "source": [
    "## Декоратор\n",
    "\n",
    "Функция, \"изменяющая\" поведение другой функции.\n",
    "\n",
    "- Использовать `functools.wraps`, чтобы сохранять метаданные.\n",
    "- Обрабатывать `*args` и `**kwargs`.\n",
    "- Возвращай результат оригинальной функции, если не нужно его менять.\n",
    "- Для параметров декоратора использовать три уровня вложения.\n",
    "- Обрабатывай ошибки и исключения внутри слоя `wrapper`\n"
   ]
  },
  {
   "cell_type": "code",
   "execution_count": null,
   "id": "52f038ff",
   "metadata": {},
   "outputs": [],
   "source": [
    "# Простой декоратор\n",
    "def decorator(func):\n",
    "    def wrapper(*args, **kwargs):\n",
    "        print(f'Вызов {func.__name__}')\n",
    "        return func(*args, **kwargs)\n",
    "\n",
    "    return wrapper"
   ]
  },
  {
   "cell_type": "code",
   "execution_count": null,
   "id": "4ecc1f80",
   "metadata": {},
   "outputs": [],
   "source": [
    "# Параметризированный декоратор\n",
    "import functools\n",
    "\n",
    "\n",
    "def repeat(times: int):\n",
    "    def decorator(func):\n",
    "        @functools.wraps(func)\n",
    "        def wrapper(*args, **kwargs):\n",
    "            for _ in range(times):\n",
    "                result = func(*args, **kwargs)\n",
    "            return result\n",
    "\n",
    "        return wrapper\n",
    "\n",
    "    return decorator"
   ]
  },
  {
   "cell_type": "code",
   "execution_count": null,
   "id": "e895f909",
   "metadata": {},
   "outputs": [
    {
     "name": "stdout",
     "output_type": "stream",
     "text": [
      "Hi, Alex\n",
      "Hi, Alex\n",
      "Hi, Alex\n",
      "Вызов foo\n",
      "Print from `foo`\n"
     ]
    }
   ],
   "source": [
    "# Привязка декоратора\n",
    "@repeat(3)\n",
    "def greet(name):\n",
    "    print(f'Hi, {name}')\n",
    "\n",
    "\n",
    "greet('Alex')\n",
    "\n",
    "\n",
    "# Без @\n",
    "def foo():\n",
    "    print('Print from `foo`')\n",
    "\n",
    "\n",
    "dec_foo = decorator(foo)\n",
    "\n",
    "dec_foo()"
   ]
  },
  {
   "cell_type": "markdown",
   "id": "02c9cc5c",
   "metadata": {},
   "source": [
    "## Полезные декораторы\n"
   ]
  },
  {
   "cell_type": "code",
   "execution_count": null,
   "id": "3469f22c",
   "metadata": {},
   "outputs": [
    {
     "name": "stdout",
     "output_type": "stream",
     "text": [
      "Вызов: add с аргументами (3, 5) и {}\n",
      "add вернула 8\n"
     ]
    },
    {
     "data": {
      "text/plain": [
       "8"
      ]
     },
     "execution_count": 6,
     "metadata": {},
     "output_type": "execute_result"
    }
   ],
   "source": [
    "# Логирование функции\n",
    "def log_calls(func):\n",
    "    @functools.wraps(func)\n",
    "    def wrapper(*args, **kwargs):\n",
    "        print(f'Вызов: {func.__name__} с аргументами {args} и {kwargs}')\n",
    "        result = func(*args, **kwargs)\n",
    "        print(f'{func.__name__} вернула {result}')\n",
    "        return result\n",
    "\n",
    "    return wrapper\n",
    "\n",
    "\n",
    "@log_calls\n",
    "def add(a, b):\n",
    "    return a + b\n",
    "\n",
    "\n",
    "add(3, 5)"
   ]
  },
  {
   "cell_type": "code",
   "execution_count": null,
   "id": "e40a890c",
   "metadata": {},
   "outputs": [
    {
     "name": "stdout",
     "output_type": "stream",
     "text": [
      "Функция завершена\n",
      "slow_function выполнена за 2.0021 секунд\n"
     ]
    }
   ],
   "source": [
    "# Контроль времени выполнения\n",
    "import time\n",
    "\n",
    "\n",
    "def timing(func):\n",
    "    @functools.wraps(func)\n",
    "    def wrapper(*args, **kwargs):\n",
    "        start = time.perf_counter()\n",
    "        result = func(*args, **kwargs)\n",
    "        end = time.perf_counter()\n",
    "        print(f'{func.__name__} выполнена за {end - start:.4f} секунд')\n",
    "        return result\n",
    "\n",
    "    return wrapper\n",
    "\n",
    "\n",
    "@timing\n",
    "def slow_function():\n",
    "    time.sleep(2)\n",
    "    print('Функция завершена')\n",
    "\n",
    "\n",
    "slow_function()"
   ]
  },
  {
   "cell_type": "code",
   "execution_count": null,
   "id": "9354b910",
   "metadata": {},
   "outputs": [
    {
     "ename": "PermissionError",
     "evalue": "Доступ запрещён",
     "output_type": "error",
     "traceback": [
      "\u001b[31m---------------------------------------------------------------------------\u001b[39m",
      "\u001b[31mPermissionError\u001b[39m                           Traceback (most recent call last)",
      "\u001b[36mCell\u001b[39m\u001b[36m \u001b[39m\u001b[32mIn[8]\u001b[39m\u001b[32m, line 16\u001b[39m\n\u001b[32m     12\u001b[39m \u001b[38;5;129m@requires_permission\u001b[39m(\u001b[33m\"\u001b[39m\u001b[33muser\u001b[39m\u001b[33m\"\u001b[39m)\n\u001b[32m     13\u001b[39m \u001b[38;5;28;01mdef\u001b[39;00m\u001b[38;5;250m \u001b[39m\u001b[34mdelete_database\u001b[39m():\n\u001b[32m     14\u001b[39m     \u001b[38;5;28mprint\u001b[39m(\u001b[33m\"\u001b[39m\u001b[33mБаза данных удалена\u001b[39m\u001b[33m\"\u001b[39m)\n\u001b[32m---> \u001b[39m\u001b[32m16\u001b[39m \u001b[43mdelete_database\u001b[49m\u001b[43m(\u001b[49m\u001b[43m)\u001b[49m\n",
      "\u001b[36mCell\u001b[39m\u001b[36m \u001b[39m\u001b[32mIn[8]\u001b[39m\u001b[32m, line 7\u001b[39m, in \u001b[36mrequires_permission.<locals>.decorator.<locals>.wrapper\u001b[39m\u001b[34m(*args, **kwargs)\u001b[39m\n\u001b[32m      4\u001b[39m \u001b[38;5;129m@functools\u001b[39m.wraps(func)\n\u001b[32m      5\u001b[39m \u001b[38;5;28;01mdef\u001b[39;00m\u001b[38;5;250m \u001b[39m\u001b[34mwrapper\u001b[39m(*args, **kwargs):\n\u001b[32m      6\u001b[39m     \u001b[38;5;28;01mif\u001b[39;00m user_role != \u001b[33m\"\u001b[39m\u001b[33madmin\u001b[39m\u001b[33m\"\u001b[39m:\n\u001b[32m----> \u001b[39m\u001b[32m7\u001b[39m         \u001b[38;5;28;01mraise\u001b[39;00m \u001b[38;5;167;01mPermissionError\u001b[39;00m(\u001b[33m\"\u001b[39m\u001b[33mДоступ запрещён\u001b[39m\u001b[33m\"\u001b[39m)\n\u001b[32m      8\u001b[39m     \u001b[38;5;28;01mreturn\u001b[39;00m func(*args, **kwargs)\n",
      "\u001b[31mPermissionError\u001b[39m: Доступ запрещён"
     ]
    }
   ],
   "source": [
    "# Проверка прав доступа\n",
    "def requires_permission(user_role):\n",
    "    def decorator(func):\n",
    "        @functools.wraps(func)\n",
    "        def wrapper(*args, **kwargs):\n",
    "            if user_role != 'admin':\n",
    "                raise PermissionError('Доступ запрещён')\n",
    "            return func(*args, **kwargs)\n",
    "\n",
    "        return wrapper\n",
    "\n",
    "    return decorator\n",
    "\n",
    "\n",
    "@requires_permission('user')\n",
    "def delete_database():\n",
    "    print('База данных удалена')\n",
    "\n",
    "\n",
    "delete_database()"
   ]
  }
 ],
 "metadata": {
  "kernelspec": {
   "display_name": "py-experiments",
   "language": "python",
   "name": "python3"
  },
  "language_info": {
   "codemirror_mode": {
    "name": "ipython",
    "version": 3
   },
   "file_extension": ".py",
   "mimetype": "text/x-python",
   "name": "python",
   "nbconvert_exporter": "python",
   "pygments_lexer": "ipython3",
   "version": "3.12.10"
  }
 },
 "nbformat": 4,
 "nbformat_minor": 5
}
