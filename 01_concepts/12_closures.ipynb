{
 "cells": [
  {
   "cell_type": "markdown",
   "id": "9048efd5",
   "metadata": {},
   "source": [
    "## Замыкание (Closure)\n",
    "\n",
    "Это функция, которая запоминает свое окружение даже после выхода из него.\n",
    "\n",
    "- **Переменные замыкаются по ссылке**, а не по значению.\n",
    "- При цикле все функции ссылаются на одну и ту же ячейку.\n"
   ]
  },
  {
   "cell_type": "code",
   "execution_count": null,
   "id": "146ec5c8",
   "metadata": {},
   "outputs": [
    {
     "data": {
      "text/html": [
       "<pre style=\"white-space:pre;overflow-x:auto;line-height:normal;font-family:Menlo,'DejaVu Sans Mono',consolas,'Courier New',monospace\">res: <span style=\"color: #008080; text-decoration-color: #008080; font-weight: bold\">15</span>\n",
       "</pre>\n"
      ],
      "text/plain": [
       "res: \u001b[1;36m15\u001b[0m\n"
      ]
     },
     "metadata": {},
     "output_type": "display_data"
    },
    {
     "data": {
      "text/html": [
       "<pre style=\"white-space:pre;overflow-x:auto;line-height:normal;font-family:Menlo,'DejaVu Sans Mono',consolas,'Courier New',monospace\"><span style=\"font-weight: bold\">(</span><span style=\"color: #008000; text-decoration-color: #008000\">'x'</span>,<span style=\"font-weight: bold\">)</span>\n",
       "</pre>\n"
      ],
      "text/plain": [
       "\u001b[1m(\u001b[0m\u001b[32m'x'\u001b[0m,\u001b[1m)\u001b[0m\n"
      ]
     },
     "metadata": {},
     "output_type": "display_data"
    },
    {
     "data": {
      "text/html": [
       "<pre style=\"white-space:pre;overflow-x:auto;line-height:normal;font-family:Menlo,'DejaVu Sans Mono',consolas,'Courier New',monospace\"><span style=\"color: #008080; text-decoration-color: #008080; font-weight: bold\">10</span>\n",
       "</pre>\n"
      ],
      "text/plain": [
       "\u001b[1;36m10\u001b[0m\n"
      ]
     },
     "metadata": {},
     "output_type": "display_data"
    }
   ],
   "source": [
    "from rich import print\n",
    "\n",
    "\n",
    "def outer(x):\n",
    "    def inner(y):\n",
    "        return x + y\n",
    "\n",
    "    return inner\n",
    "\n",
    "\n",
    "f = outer(10)\n",
    "print(f'res: {f(5)}')\n",
    "\n",
    "print(f.__code__.co_freevars)\n",
    "print(f.__closure__[0].cell_contents)\n"
   ]
  },
  {
   "cell_type": "markdown",
   "id": "7973cc1d",
   "metadata": {},
   "source": [
    "## Examples\n"
   ]
  },
  {
   "cell_type": "markdown",
   "id": "47f15f80",
   "metadata": {},
   "source": [
    "### Фабрика функций\n"
   ]
  },
  {
   "cell_type": "code",
   "execution_count": null,
   "id": "94999135",
   "metadata": {},
   "outputs": [
    {
     "data": {
      "text/html": [
       "<pre style=\"white-space:pre;overflow-x:auto;line-height:normal;font-family:Menlo,'DejaVu Sans Mono',consolas,'Courier New',monospace\"><span style=\"color: #008080; text-decoration-color: #008080; font-weight: bold\">20</span>\n",
       "</pre>\n"
      ],
      "text/plain": [
       "\u001b[1;36m20\u001b[0m\n"
      ]
     },
     "metadata": {},
     "output_type": "display_data"
    },
    {
     "data": {
      "text/html": [
       "<pre style=\"white-space:pre;overflow-x:auto;line-height:normal;font-family:Menlo,'DejaVu Sans Mono',consolas,'Courier New',monospace\"><span style=\"color: #008080; text-decoration-color: #008080; font-weight: bold\">30</span>\n",
       "</pre>\n"
      ],
      "text/plain": [
       "\u001b[1;36m30\u001b[0m\n"
      ]
     },
     "metadata": {},
     "output_type": "display_data"
    }
   ],
   "source": [
    "def factory(factor):\n",
    "    def multiplier(num):\n",
    "        return factor * num\n",
    "\n",
    "    return multiplier\n",
    "\n",
    "\n",
    "get_double = factory(2)\n",
    "get_triple = factory(3)\n",
    "\n",
    "print(get_double(10))\n",
    "print(get_triple(10))"
   ]
  },
  {
   "cell_type": "markdown",
   "id": "fbfd8b9f",
   "metadata": {},
   "source": [
    "## Замыкание с изменяемым состоянием\n"
   ]
  },
  {
   "cell_type": "code",
   "execution_count": null,
   "id": "2b37f7f3",
   "metadata": {},
   "outputs": [
    {
     "data": {
      "text/html": [
       "<pre style=\"white-space:pre;overflow-x:auto;line-height:normal;font-family:Menlo,'DejaVu Sans Mono',consolas,'Courier New',monospace\"><span style=\"color: #008080; text-decoration-color: #008080; font-weight: bold\">1</span>\n",
       "</pre>\n"
      ],
      "text/plain": [
       "\u001b[1;36m1\u001b[0m\n"
      ]
     },
     "metadata": {},
     "output_type": "display_data"
    },
    {
     "data": {
      "text/html": [
       "<pre style=\"white-space:pre;overflow-x:auto;line-height:normal;font-family:Menlo,'DejaVu Sans Mono',consolas,'Courier New',monospace\"><span style=\"color: #008080; text-decoration-color: #008080; font-weight: bold\">2</span>\n",
       "</pre>\n"
      ],
      "text/plain": [
       "\u001b[1;36m2\u001b[0m\n"
      ]
     },
     "metadata": {},
     "output_type": "display_data"
    }
   ],
   "source": [
    "def counter():\n",
    "    count = 0\n",
    "\n",
    "    def increment():\n",
    "        nonlocal count\n",
    "        count += 1\n",
    "        print(count)\n",
    "\n",
    "    return increment\n",
    "\n",
    "\n",
    "count = counter()\n",
    "count()\n",
    "count()"
   ]
  },
  {
   "cell_type": "markdown",
   "id": "cb0fd7ff",
   "metadata": {},
   "source": [
    "## Замыкание-декоратор\n"
   ]
  },
  {
   "cell_type": "code",
   "execution_count": null,
   "id": "86ce5735",
   "metadata": {},
   "outputs": [
    {
     "data": {
      "text/html": [
       "<pre style=\"white-space:pre;overflow-x:auto;line-height:normal;font-family:Menlo,'DejaVu Sans Mono',consolas,'Courier New',monospace\"><span style=\"font-weight: bold\">[</span><span style=\"color: #008000; text-decoration-color: #008000\">INFO</span><span style=\"font-weight: bold\">]</span> Тут какая-то инфа\n",
       "</pre>\n"
      ],
      "text/plain": [
       "\u001b[1m[\u001b[0m\u001b[32mINFO\u001b[0m\u001b[1m]\u001b[0m Тут какая-то инфа\n"
      ]
     },
     "metadata": {},
     "output_type": "display_data"
    },
    {
     "data": {
      "text/html": [
       "<pre style=\"white-space:pre;overflow-x:auto;line-height:normal;font-family:Menlo,'DejaVu Sans Mono',consolas,'Courier New',monospace\"><span style=\"font-weight: bold\">[</span><span style=\"color: #800000; text-decoration-color: #800000\">ERROR</span><span style=\"font-weight: bold\">]</span> Ошибка!\n",
       "</pre>\n"
      ],
      "text/plain": [
       "\u001b[1m[\u001b[0m\u001b[31mERROR\u001b[0m\u001b[1m]\u001b[0m Ошибка!\n"
      ]
     },
     "metadata": {},
     "output_type": "display_data"
    }
   ],
   "source": [
    "def logger(prefix):\n",
    "    def log(msg):\n",
    "        print(f'[{prefix}] {msg}')  # prefix запоминается в окружении\n",
    "\n",
    "    return log\n",
    "\n",
    "\n",
    "info_logger = logger('[green]INFO[/green]')\n",
    "error_logger = logger('[red]ERROR[/red]')\n",
    "\n",
    "info_logger('Тут какая-то инфа')\n",
    "error_logger('Ошибка!')"
   ]
  }
 ],
 "metadata": {
  "kernelspec": {
   "display_name": "py-experiments",
   "language": "python",
   "name": "python3"
  },
  "language_info": {
   "codemirror_mode": {
    "name": "ipython",
    "version": 3
   },
   "file_extension": ".py",
   "mimetype": "text/x-python",
   "name": "python",
   "nbconvert_exporter": "python",
   "pygments_lexer": "ipython3",
   "version": "3.12.10"
  }
 },
 "nbformat": 4,
 "nbformat_minor": 5
}
