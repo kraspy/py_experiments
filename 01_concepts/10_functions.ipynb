{
 "cells": [
  {
   "cell_type": "markdown",
   "id": "1065036f",
   "metadata": {},
   "source": [
    "## Функции\n",
    "\n",
    "Могут использоваться в различных контекстах, включая [замыкания](09_closures.ipynb), [генераторы](10_generators.ipynb) и [декораторы](11_decorators.ipynb).\n"
   ]
  },
  {
   "cell_type": "code",
   "execution_count": 1,
   "id": "00440c40",
   "metadata": {},
   "outputs": [],
   "source": [
    "def foo():\n",
    "    pass\n",
    "\n",
    "\n",
    "foo()"
   ]
  },
  {
   "cell_type": "markdown",
   "id": "a57c0458",
   "metadata": {},
   "source": [
    "## Аргументы функций\n"
   ]
  },
  {
   "cell_type": "markdown",
   "id": "9fa03834",
   "metadata": {},
   "source": [
    "### Позиционные, ключевые\n"
   ]
  },
  {
   "cell_type": "code",
   "execution_count": 3,
   "id": "edb31b4a",
   "metadata": {},
   "outputs": [
    {
     "name": "stdout",
     "output_type": "stream",
     "text": [
      "{'name': 'Alex', 'age': 18}\n",
      "{'name': 'Julia', 'age': 20}\n"
     ]
    }
   ],
   "source": [
    "def greet(name, age=18):\n",
    "    return {\n",
    "        'name': name,\n",
    "        'age': age,\n",
    "    }\n",
    "\n",
    "\n",
    "print(greet('Alex'))\n",
    "print(greet('Julia', 20))"
   ]
  },
  {
   "cell_type": "markdown",
   "id": "5c5f0ed7",
   "metadata": {},
   "source": [
    "### Default mutable\n"
   ]
  },
  {
   "cell_type": "code",
   "execution_count": null,
   "id": "3452d4fd",
   "metadata": {},
   "outputs": [
    {
     "name": "stdout",
     "output_type": "stream",
     "text": [
      "[]\n"
     ]
    }
   ],
   "source": [
    "def foo(arg=None):\n",
    "    if arg is None:\n",
    "        arg = []\n",
    "    return arg\n",
    "\n",
    "\n",
    "print(foo())"
   ]
  },
  {
   "cell_type": "markdown",
   "id": "3d6318cf",
   "metadata": {},
   "source": [
    "### \\*args\n"
   ]
  },
  {
   "cell_type": "code",
   "execution_count": null,
   "id": "0e967041",
   "metadata": {},
   "outputs": [
    {
     "name": "stdout",
     "output_type": "stream",
     "text": [
      "(1, 2, 3)\n"
     ]
    }
   ],
   "source": [
    "def foo(*args):\n",
    "    print(args)\n",
    "\n",
    "\n",
    "foo(1, 2, 3)"
   ]
  },
  {
   "cell_type": "markdown",
   "id": "28460723",
   "metadata": {},
   "source": [
    "### \\*\\*kwargs\n"
   ]
  },
  {
   "cell_type": "code",
   "execution_count": null,
   "id": "1b402670",
   "metadata": {},
   "outputs": [
    {
     "name": "stdout",
     "output_type": "stream",
     "text": [
      "{'name': 'Alex', 'age': '18'}\n"
     ]
    }
   ],
   "source": [
    "def foo(**kwargs):\n",
    "    print(kwargs)\n",
    "\n",
    "\n",
    "foo(name='Alex', age='18')"
   ]
  },
  {
   "cell_type": "markdown",
   "id": "55a11dab",
   "metadata": {},
   "source": [
    "### Распаковка\n"
   ]
  },
  {
   "cell_type": "code",
   "execution_count": null,
   "id": "f718e619",
   "metadata": {},
   "outputs": [
    {
     "name": "stdout",
     "output_type": "stream",
     "text": [
      "1 2 3\n",
      "10 20 30\n"
     ]
    }
   ],
   "source": [
    "tuple_args = (1, 2, 3)\n",
    "dict_args = {'a': 10, 'b': 20, 'c': 30}\n",
    "\n",
    "\n",
    "def foo(a, b, c):\n",
    "    print(a, b, c)\n",
    "\n",
    "\n",
    "foo(*tuple_args)\n",
    "foo(**dict_args)"
   ]
  },
  {
   "cell_type": "markdown",
   "id": "03643917",
   "metadata": {},
   "source": [
    "### Required naming\n"
   ]
  },
  {
   "cell_type": "code",
   "execution_count": null,
   "id": "35591f71",
   "metadata": {},
   "outputs": [
    {
     "name": "stdout",
     "output_type": "stream",
     "text": [
      "alex\n"
     ]
    }
   ],
   "source": [
    "def foo(*, name):\n",
    "    print(name)\n",
    "\n",
    "\n",
    "foo(name='alex')"
   ]
  },
  {
   "cell_type": "markdown",
   "id": "63b1ea0f",
   "metadata": {},
   "source": [
    "## Lambda-функции\n",
    "\n",
    "**Анонимные** однострочные функции\n",
    "\n",
    "- Тело содержит одно выражение\n",
    "- Выполняют одну короткую задачу\n",
    "- В теле можно можно использовать Тернарный оператор\n"
   ]
  },
  {
   "cell_type": "code",
   "execution_count": null,
   "id": "e955b19d",
   "metadata": {},
   "outputs": [
    {
     "name": "stdout",
     "output_type": "stream",
     "text": [
      "Odd\n",
      "[1, 4, 9, 16]\n"
     ]
    }
   ],
   "source": [
    "is_even = lambda x: 'Even' if x % 2 == 0 else 'Odd'\n",
    "print(is_even(1))\n",
    "\n",
    "squared = list(map(lambda x: x**2, [1, 2, 3, 4]))\n",
    "print(squared)"
   ]
  },
  {
   "cell_type": "markdown",
   "id": "1546e387",
   "metadata": {},
   "source": [
    "## Docstrings\n"
   ]
  },
  {
   "cell_type": "markdown",
   "id": "e4e78574",
   "metadata": {},
   "source": [
    "### reStructuredText (reST)\n"
   ]
  },
  {
   "cell_type": "code",
   "execution_count": null,
   "id": "82965b99",
   "metadata": {},
   "outputs": [
    {
     "name": "stdout",
     "output_type": "stream",
     "text": [
      "\n",
      "    Складывает два числа и возвращает их сумму.\n",
      "\n",
      "    :param a: Первое число.\n",
      "    :type a: int\n",
      "    :param b: Второе число.\n",
      "    :type b: int\n",
      "    :return: Сумма двух чисел.\n",
      "    :rtype: int\n",
      "    \n"
     ]
    }
   ],
   "source": [
    "def add(a: int, b: int) -> int:\n",
    "    \"\"\"\n",
    "    Складывает два числа и возвращает их сумму.\n",
    "\n",
    "    :param a: Первое число.\n",
    "    :type a: int\n",
    "    :param b: Второе число.\n",
    "    :type b: int\n",
    "    :return: Сумма двух чисел.\n",
    "    :rtype: int\n",
    "    \"\"\"\n",
    "    return a + b\n",
    "\n",
    "\n",
    "print(add.__doc__)"
   ]
  },
  {
   "cell_type": "markdown",
   "id": "fb986ecd",
   "metadata": {},
   "source": [
    "### Google Style\n"
   ]
  },
  {
   "cell_type": "code",
   "execution_count": null,
   "id": "57c23db6",
   "metadata": {},
   "outputs": [
    {
     "name": "stdout",
     "output_type": "stream",
     "text": [
      "\n",
      "    Складывает два числа и возвращает их сумму.\n",
      "\n",
      "    Args:\n",
      "        a (int): Первое число.\n",
      "        b (int): Второе число.\n",
      "\n",
      "    Returns:\n",
      "        int: Сумма двух чисел.\n",
      "    \n"
     ]
    }
   ],
   "source": [
    "def add(a: int, b: int) -> int:\n",
    "    \"\"\"\n",
    "    Складывает два числа и возвращает их сумму.\n",
    "\n",
    "    Args:\n",
    "        a (int): Первое число.\n",
    "        b (int): Второе число.\n",
    "\n",
    "    Returns:\n",
    "        int: Сумма двух чисел.\n",
    "    \"\"\"\n",
    "    return a + b\n",
    "\n",
    "\n",
    "print(add.__doc__)"
   ]
  },
  {
   "cell_type": "markdown",
   "id": "d6d8069b",
   "metadata": {},
   "source": [
    "### NumPy\n"
   ]
  },
  {
   "cell_type": "code",
   "execution_count": null,
   "id": "79bb9b72",
   "metadata": {},
   "outputs": [
    {
     "name": "stdout",
     "output_type": "stream",
     "text": [
      "\n",
      "    Складывает два числа и возвращает их сумму.\n",
      "\n",
      "    Parameters\n",
      "    ----------\n",
      "    a : int\n",
      "        Первое число.\n",
      "    b : int\n",
      "        Второе число.\n",
      "\n",
      "    Returns\n",
      "    -------\n",
      "    int\n",
      "        Сумма двух чисел.\n",
      "    \n"
     ]
    }
   ],
   "source": [
    "def add(a: int, b: int) -> int:\n",
    "    \"\"\"\n",
    "    Складывает два числа и возвращает их сумму.\n",
    "\n",
    "    Parameters\n",
    "    ----------\n",
    "    a : int\n",
    "        Первое число.\n",
    "    b : int\n",
    "        Второе число.\n",
    "\n",
    "    Returns\n",
    "    -------\n",
    "    int\n",
    "        Сумма двух чисел.\n",
    "    \"\"\"\n",
    "    return a + b\n",
    "\n",
    "\n",
    "print(add.__doc__)"
   ]
  }
 ],
 "metadata": {
  "kernelspec": {
   "display_name": "py-experiments",
   "language": "python",
   "name": "python3"
  },
  "language_info": {
   "codemirror_mode": {
    "name": "ipython",
    "version": 3
   },
   "file_extension": ".py",
   "mimetype": "text/x-python",
   "name": "python",
   "nbconvert_exporter": "python",
   "pygments_lexer": "ipython3",
   "version": "3.12.10"
  }
 },
 "nbformat": 4,
 "nbformat_minor": 5
}
