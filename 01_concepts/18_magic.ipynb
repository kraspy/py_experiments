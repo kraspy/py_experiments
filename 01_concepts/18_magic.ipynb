{
 "cells": [
  {
   "cell_type": "markdown",
   "id": "4ea7a0df",
   "metadata": {},
   "source": [
    "## Магические методы\n",
    "\n",
    "Начинаются и заканчиваются двойным подчеркиванием (`__method__`).  \n",
    "\n",
    "Позволяют объектам взаимодействовать с операторами, встроенными функциями и другими механизмами.  \n",
    "\n",
    "**Вызываются автоматически** в определенных ситуациях."
   ]
  },
  {
   "cell_type": "code",
   "execution_count": 2,
   "id": "c24a4b26",
   "metadata": {},
   "outputs": [
    {
     "name": "stdout",
     "output_type": "stream",
     "text": [
      "Пример со значением 10\n",
      "True\n"
     ]
    }
   ],
   "source": [
    "class Example:\n",
    "    def __init__(self, value):  # Иннициализатор\n",
    "        self.value = value\n",
    "\n",
    "    def __str__(self):  # Вызывается при print(obj)\n",
    "        return f'Пример со значением {self.value}'\n",
    "\n",
    "    def __eq__(self, other):  # Оператор ==\n",
    "        if isinstance(other, Example):\n",
    "            return self.value == other.value\n",
    "        return False\n",
    "\n",
    "\n",
    "# Использование магических методов\n",
    "obj1 = Example(10)\n",
    "obj2 = Example(10)\n",
    "print(obj1)  # Вызовет __str__: \"Пример со значением 10\"\n",
    "print(obj1 == obj2)  # Вызовет __eq__: True"
   ]
  },
  {
   "cell_type": "markdown",
   "id": "cb87f77b",
   "metadata": {},
   "source": [
    "## Инициализатор и Деструктор\n",
    "- `__init__(self, [...])`  Инициализатор объекта   \n",
    "- `__del__(self)`          Деструктор (вызывается при удалении объекта) "
   ]
  },
  {
   "cell_type": "code",
   "execution_count": 3,
   "id": "0ada176a",
   "metadata": {},
   "outputs": [
    {
     "name": "stdout",
     "output_type": "stream",
     "text": [
      "Создан объект Test\n",
      "Удалён объект Test\n"
     ]
    }
   ],
   "source": [
    "class Demo:\n",
    "    def __init__(self, name):\n",
    "        print(f'Создан объект {name}')\n",
    "        self.name = name\n",
    "\n",
    "    def __del__(self):\n",
    "        print(f'Удалён объект {self.name}')\n",
    "\n",
    "\n",
    "obj = Demo('Test')\n",
    "del obj  # Вызовет __del__"
   ]
  },
  {
   "cell_type": "markdown",
   "id": "09e78085",
   "metadata": {},
   "source": [
    "## Представление объекта\n",
    "- `__repr__(self)`   Официальное строковое представление объекта (для разработчиков) \n",
    "- `__str__(self)`    Человеко-читаемое строковое представление объекта \n",
    "- `__bytes__(self)`  Байтовое представление объекта \n",
    "- `__format__(self, format_spec)`  Пользовательское форматирование объекта "
   ]
  },
  {
   "cell_type": "code",
   "execution_count": 4,
   "id": "434b733b",
   "metadata": {},
   "outputs": [
    {
     "name": "stdout",
     "output_type": "stream",
     "text": [
      "MyClass(42)\n",
      "Значение: 42\n"
     ]
    }
   ],
   "source": [
    "class MyClass:\n",
    "    def __init__(self, value):\n",
    "        self.value = value\n",
    "\n",
    "    def __repr__(self):\n",
    "        return f'MyClass({self.value})'\n",
    "\n",
    "    def __str__(self):\n",
    "        return f'Значение: {self.value}'\n",
    "\n",
    "\n",
    "obj = MyClass(42)\n",
    "print(repr(obj))  # Вызовет __repr__: \"MyClass(42)\"\n",
    "print(obj)  # Вызовет __str__: \"Значение: 42\""
   ]
  },
  {
   "cell_type": "markdown",
   "id": "cdfaeec7",
   "metadata": {},
   "source": [
    "## Операторы сравнения\n",
    "- `__eq__(self, other)`   `==` (равно) \n",
    "- `__ne__(self, other)`   `!=` (не равно) \n",
    "- `__lt__(self, other)`   `<` (меньше) \n",
    "- `__le__(self, other)`   `<=` (меньше или равно) \n",
    "- `__gt__(self, other)`   `>` (больше) \n",
    "- `__ge__(self, other)`   `>=` (больше или равно) "
   ]
  },
  {
   "cell_type": "code",
   "execution_count": 5,
   "id": "d4e0a823",
   "metadata": {},
   "outputs": [
    {
     "name": "stdout",
     "output_type": "stream",
     "text": [
      "True\n"
     ]
    }
   ],
   "source": [
    "class Box:\n",
    "    def __init__(self, weight):\n",
    "        self.weight = weight\n",
    "\n",
    "    def __lt__(self, other):\n",
    "        return self.weight < other.weight\n",
    "\n",
    "\n",
    "b1 = Box(5)\n",
    "b2 = Box(10)\n",
    "print(b1 < b2)  # Вызовет __lt__: True"
   ]
  },
  {
   "cell_type": "markdown",
   "id": "5ec404f6",
   "metadata": {},
   "source": [
    "## Арифметические операторы\n",
    "- `__add__(self, other)`   `+` (сложение) \n",
    "- `__sub__(self, other)`   `-` (вычитание) \n",
    "- `__mul__(self, other)`   `*` (умножение) \n",
    "- `__truediv__(self, other)`   `/` (деление) \n",
    "- `__floordiv__(self, other)`  `//` (целочисленное деление) \n",
    "- `__mod__(self, other)`   `%` (остаток от деления) \n",
    "- `__pow__(self, other[, modulo])`  `**` (возведение в степень) "
   ]
  },
  {
   "cell_type": "code",
   "execution_count": 6,
   "id": "6439ff3a",
   "metadata": {},
   "outputs": [
    {
     "name": "stdout",
     "output_type": "stream",
     "text": [
      "30\n"
     ]
    }
   ],
   "source": [
    "class Number:\n",
    "    def __init__(self, value):\n",
    "        self.value = value\n",
    "\n",
    "    def __add__(self, other):\n",
    "        return Number(self.value + other.value)\n",
    "\n",
    "\n",
    "num1 = Number(10)\n",
    "num2 = Number(20)\n",
    "result = num1 + num2  # Вызовет __add__\n",
    "print(result.value)  # 30"
   ]
  },
  {
   "cell_type": "markdown",
   "id": "ea737d94",
   "metadata": {},
   "source": [
    "## Унарные операторы\n",
    "- `__neg__(self)`   `-` (унарный минус) \n",
    "- `__pos__(self)`   `+` (унарный плюс) \n",
    "- `__abs__(self)`   `abs()` (модуль числа) \n",
    "- `__invert__(self)`  `~` (побитовое НЕ) "
   ]
  },
  {
   "cell_type": "code",
   "execution_count": 7,
   "id": "54c75fcb",
   "metadata": {},
   "outputs": [
    {
     "name": "stdout",
     "output_type": "stream",
     "text": [
      "-5\n"
     ]
    }
   ],
   "source": [
    "class Vector:\n",
    "    def __init__(self, x):\n",
    "        self.x = x\n",
    "\n",
    "    def __neg__(self):\n",
    "        return Vector(-self.x)\n",
    "\n",
    "\n",
    "v = Vector(5)\n",
    "print((-v).x)  # Вызовет __neg__: -5"
   ]
  },
  {
   "cell_type": "markdown",
   "id": "4d9b88cc",
   "metadata": {},
   "source": [
    "## Эмуляция коллекций\n",
    "- `__len__(self)`     `len(obj)` \n",
    "- `__getitem__(self, key)`   `obj[key]` (доступ по индексу) \n",
    "- `__setitem__(self, key, value)`   `obj[key] = value` (изменение элемента) \n",
    "- `__delitem__(self, key)`   `del obj[key]` (удаление элемента) \n",
    "- `__iter__(self)`   Итератор `iter(obj)` \n",
    "- `__contains__(self, item)`  Проверка `item in obj` "
   ]
  },
  {
   "cell_type": "code",
   "execution_count": 8,
   "id": "f709140d",
   "metadata": {},
   "outputs": [
    {
     "name": "stdout",
     "output_type": "stream",
     "text": [
      "2\n",
      "4\n"
     ]
    }
   ],
   "source": [
    "class MyList:\n",
    "    def __init__(self, data):\n",
    "        self.data = data\n",
    "\n",
    "    def __getitem__(self, index):\n",
    "        return self.data[index]\n",
    "\n",
    "    def __len__(self):\n",
    "        return len(self.data)\n",
    "\n",
    "\n",
    "lst = MyList([1, 2, 3, 4])\n",
    "print(lst[1])  # Вызовет __getitem__: 2\n",
    "print(len(lst))  # Вызовет __len__: 4"
   ]
  },
  {
   "cell_type": "markdown",
   "id": "6a986555",
   "metadata": {},
   "source": [
    "## Контекстный менеджер\n",
    "- `__enter__(self)`   Вход в контекст `with` \n",
    "- `__exit__(self, exc_type, exc_value, traceback)`  Выход из контекста `with` "
   ]
  },
  {
   "cell_type": "code",
   "execution_count": 10,
   "id": "a7e707a2",
   "metadata": {},
   "outputs": [],
   "source": [
    "class FileManager:\n",
    "    def __init__(self, filename):\n",
    "        self.filename = filename\n",
    "\n",
    "    def __enter__(self):\n",
    "        self.file = open(self.filename, 'r')\n",
    "        return self.file\n",
    "\n",
    "    def __exit__(self, exc_type, exc_val, exc_tb):\n",
    "        self.file.close()\n",
    "\n",
    "\n",
    "with FileManager('_math_utils.py') as file:\n",
    "    data = file.read()  # Файл автоматически закроется после выхода из блока"
   ]
  }
 ],
 "metadata": {
  "kernelspec": {
   "display_name": "py-experiments",
   "language": "python",
   "name": "python3"
  },
  "language_info": {
   "codemirror_mode": {
    "name": "ipython",
    "version": 3
   },
   "file_extension": ".py",
   "mimetype": "text/x-python",
   "name": "python",
   "nbconvert_exporter": "python",
   "pygments_lexer": "ipython3",
   "version": "3.12.10"
  }
 },
 "nbformat": 4,
 "nbformat_minor": 5
}
