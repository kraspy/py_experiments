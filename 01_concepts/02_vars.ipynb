{
 "cells": [
  {
   "cell_type": "markdown",
   "id": "f0807f3e",
   "metadata": {},
   "source": [
    "## **Переменные в Python**\n",
    "Это ссылки на объекты в памяти. Значения не хранятся на прямую.\n",
    "\n",
    "- Python - язык с динамической строгой типизацией.\n",
    "- Переменные не требуют объявления типа.\n",
    "- Могут изменять тип в момент присваивания.\n",
    "- Нельзя выполнять операции над несовместимыми типами."
   ]
  },
  {
   "cell_type": "code",
   "execution_count": 2,
   "id": "610465fc",
   "metadata": {},
   "outputs": [],
   "source": [
    "num = 10    # int\n",
    "flt = 10.0  # float\n",
    "txt = '10'  # str\n",
    "act = True  # bool\n",
    "lst = [1, 2, '3']  # list"
   ]
  },
  {
   "cell_type": "markdown",
   "id": "b1714cb8",
   "metadata": {},
   "source": [
    "## Константы\n",
    "В Python **нет встроенного механизма защиты констант**."
   ]
  },
  {
   "cell_type": "code",
   "execution_count": null,
   "id": "c2e51e73",
   "metadata": {},
   "outputs": [],
   "source": [
    "PI = 3.14159\n",
    "MAX_USERS = 1000\n",
    "DATABASE_URL = \"https://example.com/db\""
   ]
  },
  {
   "cell_type": "markdown",
   "id": "1db27b1b",
   "metadata": {},
   "source": [
    "## Множественное присваивание"
   ]
  },
  {
   "cell_type": "code",
   "execution_count": 13,
   "id": "5e1929cf",
   "metadata": {},
   "outputs": [
    {
     "data": {
      "text/html": [
       "<pre style=\"white-space:pre;overflow-x:auto;line-height:normal;font-family:Menlo,'DejaVu Sans Mono',consolas,'Courier New',monospace\"><span style=\"color: #008080; text-decoration-color: #008080; font-weight: bold\">1</span> <span style=\"color: #008080; text-decoration-color: #008080; font-weight: bold\">2</span> <span style=\"color: #008080; text-decoration-color: #008080; font-weight: bold\">3</span>\n",
       "</pre>\n"
      ],
      "text/plain": [
       "\u001b[1;36m1\u001b[0m \u001b[1;36m2\u001b[0m \u001b[1;36m3\u001b[0m\n"
      ]
     },
     "metadata": {},
     "output_type": "display_data"
    },
    {
     "data": {
      "text/html": [
       "<pre style=\"white-space:pre;overflow-x:auto;line-height:normal;font-family:Menlo,'DejaVu Sans Mono',consolas,'Courier New',monospace\"><span style=\"color: #008080; text-decoration-color: #008080; font-weight: bold\">42</span> <span style=\"color: #008080; text-decoration-color: #008080; font-weight: bold\">42</span> <span style=\"color: #008080; text-decoration-color: #008080; font-weight: bold\">42</span>\n",
       "</pre>\n"
      ],
      "text/plain": [
       "\u001b[1;36m42\u001b[0m \u001b[1;36m42\u001b[0m \u001b[1;36m42\u001b[0m\n"
      ]
     },
     "metadata": {},
     "output_type": "display_data"
    }
   ],
   "source": [
    "a, b, c = 1, 2, 3\n",
    "print(a, b, c)  # 1 2 3\n",
    "\n",
    "x = y = z = 42\n",
    "print(x, y, z)  # 42 42 42"
   ]
  },
  {
   "cell_type": "markdown",
   "id": "784ed391",
   "metadata": {},
   "source": [
    "## id()"
   ]
  },
  {
   "cell_type": "code",
   "execution_count": 11,
   "id": "35224ded",
   "metadata": {},
   "outputs": [
    {
     "data": {
      "text/html": [
       "<pre style=\"white-space:pre;overflow-x:auto;line-height:normal;font-family:Menlo,'DejaVu Sans Mono',consolas,'Courier New',monospace\"><span style=\"color: #008080; text-decoration-color: #008080; font-weight: bold\">137115271882256</span> -&gt; <span style=\"color: #008080; text-decoration-color: #008080; font-weight: bold\">137115303640888</span>\n",
       "</pre>\n"
      ],
      "text/plain": [
       "\u001b[1;36m137115271882256\u001b[0m -> \u001b[1;36m137115303640888\u001b[0m\n"
      ]
     },
     "metadata": {},
     "output_type": "display_data"
    }
   ],
   "source": [
    "from rich import print\n",
    "\n",
    "# id() возвращает адрес объекта в памяти\n",
    "id0 = id(num)\n",
    "\n",
    "num = 11\n",
    "id1 = id(num)\n",
    "\n",
    "print(f'{id0} -> {id1}')"
   ]
  },
  {
   "cell_type": "markdown",
   "id": "63537a5c",
   "metadata": {},
   "source": [
    "## type()"
   ]
  },
  {
   "cell_type": "code",
   "execution_count": 12,
   "id": "2801302c",
   "metadata": {},
   "outputs": [
    {
     "data": {
      "text/html": [
       "<pre style=\"white-space:pre;overflow-x:auto;line-height:normal;font-family:Menlo,'DejaVu Sans Mono',consolas,'Courier New',monospace\"><span style=\"font-weight: bold\">&lt;</span><span style=\"color: #ff00ff; text-decoration-color: #ff00ff; font-weight: bold\">class</span><span style=\"color: #000000; text-decoration-color: #000000\"> </span><span style=\"color: #008000; text-decoration-color: #008000\">'int'</span><span style=\"font-weight: bold\">&gt;</span>\n",
       "</pre>\n"
      ],
      "text/plain": [
       "\u001b[1m<\u001b[0m\u001b[1;95mclass\u001b[0m\u001b[39m \u001b[0m\u001b[32m'int'\u001b[0m\u001b[1m>\u001b[0m\n"
      ]
     },
     "metadata": {},
     "output_type": "display_data"
    },
    {
     "data": {
      "text/html": [
       "<pre style=\"white-space:pre;overflow-x:auto;line-height:normal;font-family:Menlo,'DejaVu Sans Mono',consolas,'Courier New',monospace\"><span style=\"font-weight: bold\">&lt;</span><span style=\"color: #ff00ff; text-decoration-color: #ff00ff; font-weight: bold\">class</span><span style=\"color: #000000; text-decoration-color: #000000\"> </span><span style=\"color: #008000; text-decoration-color: #008000\">'str'</span><span style=\"font-weight: bold\">&gt;</span>\n",
       "</pre>\n"
      ],
      "text/plain": [
       "\u001b[1m<\u001b[0m\u001b[1;95mclass\u001b[0m\u001b[39m \u001b[0m\u001b[32m'str'\u001b[0m\u001b[1m>\u001b[0m\n"
      ]
     },
     "metadata": {},
     "output_type": "display_data"
    }
   ],
   "source": [
    "type0 = type(num)\n",
    "print(type0)\n",
    "\n",
    "num = '11'\n",
    "type1 = type(num)\n",
    "print(type1)"
   ]
  },
  {
   "cell_type": "markdown",
   "id": "d7047e36",
   "metadata": {},
   "source": [
    "## `is` vs `==`\n",
    "`==` сравнивает **значение**, а `is` проверяет **являются ли объекты одним и тем же объектом в памяти**."
   ]
  },
  {
   "cell_type": "code",
   "execution_count": null,
   "id": "2aa9e3e1",
   "metadata": {},
   "outputs": [
    {
     "data": {
      "text/html": [
       "<pre style=\"white-space:pre;overflow-x:auto;line-height:normal;font-family:Menlo,'DejaVu Sans Mono',consolas,'Courier New',monospace\"><span style=\"color: #00ff00; text-decoration-color: #00ff00; font-style: italic\">True</span>\n",
       "</pre>\n"
      ],
      "text/plain": [
       "\u001b[3;92mTrue\u001b[0m\n"
      ]
     },
     "metadata": {},
     "output_type": "display_data"
    },
    {
     "data": {
      "text/html": [
       "<pre style=\"white-space:pre;overflow-x:auto;line-height:normal;font-family:Menlo,'DejaVu Sans Mono',consolas,'Courier New',monospace\"><span style=\"color: #00ff00; text-decoration-color: #00ff00; font-style: italic\">True</span>\n",
       "</pre>\n"
      ],
      "text/plain": [
       "\u001b[3;92mTrue\u001b[0m\n"
      ]
     },
     "metadata": {},
     "output_type": "display_data"
    },
    {
     "data": {
      "text/html": [
       "<pre style=\"white-space:pre;overflow-x:auto;line-height:normal;font-family:Menlo,'DejaVu Sans Mono',consolas,'Courier New',monospace\"><span style=\"color: #00ff00; text-decoration-color: #00ff00; font-style: italic\">True</span>\n",
       "</pre>\n"
      ],
      "text/plain": [
       "\u001b[3;92mTrue\u001b[0m\n"
      ]
     },
     "metadata": {},
     "output_type": "display_data"
    },
    {
     "data": {
      "text/html": [
       "<pre style=\"white-space:pre;overflow-x:auto;line-height:normal;font-family:Menlo,'DejaVu Sans Mono',consolas,'Courier New',monospace\"><span style=\"color: #ff0000; text-decoration-color: #ff0000; font-style: italic\">False</span>\n",
       "</pre>\n"
      ],
      "text/plain": [
       "\u001b[3;91mFalse\u001b[0m\n"
      ]
     },
     "metadata": {},
     "output_type": "display_data"
    }
   ],
   "source": [
    "a = [1, 2, 3]\n",
    "b = a  # ссылаются на один объект в памяти\n",
    "\n",
    "print(a == b)  # True  (Содержимое одинаковое)\n",
    "print(a is b)  # True  (Ссылаются на один объект)\n",
    "\n",
    "c = [1, 2, 3]  # Новый объект\n",
    "print(a == c)  # True  (Содержимое одинаковое)\n",
    "print(a is c)  # False (Разные объекты)"
   ]
  },
  {
   "cell_type": "markdown",
   "id": "30ed53a3",
   "metadata": {},
   "source": [
    "## `del` "
   ]
  },
  {
   "cell_type": "code",
   "execution_count": 15,
   "id": "412d1d45",
   "metadata": {},
   "outputs": [],
   "source": [
    "x = 10\n",
    "del x  # Переменная удалена"
   ]
  },
  {
   "cell_type": "markdown",
   "id": "63e074d9",
   "metadata": {},
   "source": [
    "## `globals()` и `locals()`\n",
    "- `globals()` возвращает **все глобальные переменные**.  \n",
    "- `locals()` возвращает **все локальные переменные** внутри функции."
   ]
  },
  {
   "cell_type": "code",
   "execution_count": null,
   "id": "a89548cd",
   "metadata": {},
   "outputs": [],
   "source": [
    "x = 42\n",
    "\n",
    "def my_func():\n",
    "    y = 100\n",
    "    print(\"Локальные переменные:\", locals())  # {'y': 100}\n",
    "\n",
    "print(\"Глобальные переменные:\", globals())  # {'x': 42, ...}\n",
    "\n",
    "my_func()"
   ]
  }
 ],
 "metadata": {
  "kernelspec": {
   "display_name": "py-experiments",
   "language": "python",
   "name": "python3"
  },
  "language_info": {
   "codemirror_mode": {
    "name": "ipython",
    "version": 3
   },
   "file_extension": ".py",
   "mimetype": "text/x-python",
   "name": "python",
   "nbconvert_exporter": "python",
   "pygments_lexer": "ipython3",
   "version": "3.12.10"
  }
 },
 "nbformat": 4,
 "nbformat_minor": 5
}
