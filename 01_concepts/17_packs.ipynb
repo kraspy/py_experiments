{
 "cells": [
  {
   "cell_type": "markdown",
   "id": "ec19ca15",
   "metadata": {},
   "source": [
    "## Пакет (`package`)\n",
    "Это каталог с модулями Python, содержащий **файл `__init__.py`**, который делает его полноценным пакетом."
   ]
  },
  {
   "cell_type": "markdown",
   "id": "24713519",
   "metadata": {},
   "source": [
    "## Структура пакета\n",
    "```\n",
    "my_project/\n",
    "│\n",
    "├── my_package/        # Пакет\n",
    "│   ├── __init__.py    # Инициализация пакета\n",
    "│   ├── module1.py     # Первый модуль\n",
    "│   ├── module2.py     # Второй модуль\n",
    "│\n",
    "└── main.py            # Главный файл проекта\n"
   ]
  },
  {
   "cell_type": "markdown",
   "id": "94f0e042",
   "metadata": {},
   "source": [
    "## Виды импортов\n",
    "```python\n",
    "# Абсолютный\n",
    "from my_package.module1 import function1\n",
    "\n",
    "# Относительный\n",
    "from .module1 import function1            # Импорт из текущего пакета\n",
    "from ..some_package import some_function  # Импорт из другого пакета\n",
    "```\n",
    "\n",
    "**Относительные импорты работают только внутри пакетов!** "
   ]
  },
  {
   "cell_type": "code",
   "execution_count": 13,
   "id": "306781ab",
   "metadata": {},
   "outputs": [
    {
     "name": "stdout",
     "output_type": "stream",
     "text": [
      "Функция из module1\n",
      "Функция из module2\n",
      "Привет из MyClass1!\n"
     ]
    }
   ],
   "source": [
    "from _misc.pkg import function1, function3, MyClass1\n",
    "\n",
    "print(function1())  # Функция из module1\n",
    "print(function3())  # Функция из module2\n",
    "\n",
    "obj = MyClass1()\n",
    "print(obj.hello())  # Привет из MyClass1!"
   ]
  },
  {
   "cell_type": "markdown",
   "id": "8de6b579",
   "metadata": {},
   "source": [
    "## Динамический импорт пакета"
   ]
  },
  {
   "cell_type": "code",
   "execution_count": 14,
   "id": "c23b5a7a",
   "metadata": {},
   "outputs": [
    {
     "name": "stdout",
     "output_type": "stream",
     "text": [
      "['MyClass1', 'MyClass2', '__all__', '__builtins__', '__cached__', '__doc__', '__file__', '__loader__', '__name__', '__package__', '__path__', '__spec__', 'function1', 'function2', 'function3', 'module1', 'module2']\n"
     ]
    }
   ],
   "source": [
    "import importlib\n",
    "\n",
    "my_package = importlib.import_module('_misc.pkg')\n",
    "print(dir(my_package))  # Выводит содержимое пакета"
   ]
  },
  {
   "cell_type": "markdown",
   "id": "e4b72a97",
   "metadata": {},
   "source": [
    "## Доступ к файлам внутри пакета"
   ]
  },
  {
   "cell_type": "code",
   "execution_count": 15,
   "id": "3d87829c",
   "metadata": {},
   "outputs": [
    {
     "name": "stdout",
     "output_type": "stream",
     "text": [
      "# Первый модуль пакета\n",
      "def function1():\n",
      "    return 'Функция из module1'\n",
      "\n",
      "\n",
      "def function2():\n",
      "    return 'Еще одна функция из module1'\n",
      "\n",
      "\n",
      "class MyClass1:\n",
      "    def hello(self):\n",
      "        return 'Привет из MyClass1!'\n",
      "\n"
     ]
    }
   ],
   "source": [
    "import importlib.resources\n",
    "\n",
    "with importlib.resources.open_text(\"_misc.pkg\", \"module1.py\") as f:\n",
    "    print(f.read())  # Выведет содержимое файла module1.py"
   ]
  },
  {
   "cell_type": "markdown",
   "id": "cbbf61ed",
   "metadata": {},
   "source": [
    "## Перезагрузка модулей"
   ]
  },
  {
   "cell_type": "code",
   "execution_count": 16,
   "id": "fde95a70",
   "metadata": {},
   "outputs": [
    {
     "data": {
      "text/plain": [
       "<module '_misc' (namespace) from ['/home/evgeniy/code/py_experiments/01_concepts/_misc']>"
      ]
     },
     "execution_count": 16,
     "metadata": {},
     "output_type": "execute_result"
    }
   ],
   "source": [
    "import importlib\n",
    "import _misc\n",
    "\n",
    "importlib.reload(_misc)"
   ]
  }
 ],
 "metadata": {
  "kernelspec": {
   "display_name": "py-experiments",
   "language": "python",
   "name": "python3"
  },
  "language_info": {
   "codemirror_mode": {
    "name": "ipython",
    "version": 3
   },
   "file_extension": ".py",
   "mimetype": "text/x-python",
   "name": "python",
   "nbconvert_exporter": "python",
   "pygments_lexer": "ipython3",
   "version": "3.12.10"
  }
 },
 "nbformat": 4,
 "nbformat_minor": 5
}
