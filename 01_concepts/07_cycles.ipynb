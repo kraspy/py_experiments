{
 "cells": [
  {
   "cell_type": "markdown",
   "id": "fba7484b",
   "metadata": {},
   "source": [
    "## While\n",
    "Цикл `while` выполняется, пока условие **истинно (`True`)**."
   ]
  },
  {
   "cell_type": "code",
   "execution_count": 2,
   "id": "467f4163",
   "metadata": {},
   "outputs": [
    {
     "name": "stdout",
     "output_type": "stream",
     "text": [
      "1 2 3 4 5 "
     ]
    }
   ],
   "source": [
    "v = 1\n",
    "while v <= 5:\n",
    "    print(v, end=' ')\n",
    "    v += 1"
   ]
  },
  {
   "cell_type": "markdown",
   "id": "77795956",
   "metadata": {},
   "source": [
    "## `for .. in`\n",
    "Цикл `for` итерируется **по элементам последовательности** (`list`, `str`, `range`, `dict` и др.)"
   ]
  },
  {
   "cell_type": "code",
   "execution_count": 4,
   "id": "205c6b69",
   "metadata": {},
   "outputs": [
    {
     "name": "stdout",
     "output_type": "stream",
     "text": [
      "1 | 2 | 3 | "
     ]
    }
   ],
   "source": [
    "lst = [1, 2, 3]\n",
    "for v in lst:\n",
    "    print(v, end=' | ')"
   ]
  },
  {
   "cell_type": "code",
   "execution_count": 5,
   "id": "13f23fd5",
   "metadata": {},
   "outputs": [
    {
     "name": "stdout",
     "output_type": "stream",
     "text": [
      "0 | 2 | 4 | 6 | 8 | "
     ]
    }
   ],
   "source": [
    "for v in range(0, 10, 2):\n",
    "    print(v, end=' | ')"
   ]
  },
  {
   "cell_type": "markdown",
   "id": "bc241b7f",
   "metadata": {},
   "source": [
    "## Управление циклом\n",
    "`break`, `continue`, `else`"
   ]
  },
  {
   "cell_type": "code",
   "execution_count": null,
   "id": "d10b2bf9",
   "metadata": {},
   "outputs": [
    {
     "name": "stdout",
     "output_type": "stream",
     "text": [
      "0\n",
      "1\n",
      "2\n",
      "continue...\n",
      "4\n",
      "break...\n"
     ]
    }
   ],
   "source": [
    "# break\n",
    "for v in range(10):\n",
    "    if v == 3:\n",
    "        print('continue...')\n",
    "        continue\n",
    "    if v == 5:\n",
    "        print('break...')\n",
    "        break\n",
    "    print(v)\n",
    "else:\n",
    "    print('Цикл завершился без break')"
   ]
  },
  {
   "cell_type": "markdown",
   "id": "fd94a578",
   "metadata": {},
   "source": [
    "## Examples"
   ]
  },
  {
   "cell_type": "code",
   "execution_count": null,
   "id": "dc566252",
   "metadata": {},
   "outputs": [
    {
     "name": "stdout",
     "output_type": "stream",
     "text": [
      "name: Alice\n",
      "age: 25\n"
     ]
    }
   ],
   "source": [
    "# Перебор словаря в for\n",
    "user = {'name': 'Alice', 'age': 25}\n",
    "for key, value in user.items():\n",
    "    print(f'{key}: {value}')"
   ]
  },
  {
   "cell_type": "code",
   "execution_count": 10,
   "id": "610e8d6a",
   "metadata": {},
   "outputs": [
    {
     "name": "stdout",
     "output_type": "stream",
     "text": [
      "(1, 1) (1, 2) (1, 3) \n",
      "(2, 1) (2, 2) (2, 3) \n",
      "(3, 1) (3, 2) (3, 3) \n"
     ]
    }
   ],
   "source": [
    "# Вложенные циклы\n",
    "for i in range(1, 4):\n",
    "    for j in range(1, 4):\n",
    "        print(f\"({i}, {j})\", end=\" \")\n",
    "    print()"
   ]
  }
 ],
 "metadata": {
  "kernelspec": {
   "display_name": "py-experiments",
   "language": "python",
   "name": "python3"
  },
  "language_info": {
   "codemirror_mode": {
    "name": "ipython",
    "version": 3
   },
   "file_extension": ".py",
   "mimetype": "text/x-python",
   "name": "python",
   "nbconvert_exporter": "python",
   "pygments_lexer": "ipython3",
   "version": "3.12.10"
  }
 },
 "nbformat": 4,
 "nbformat_minor": 5
}
