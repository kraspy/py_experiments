{
 "cells": [
  {
   "cell_type": "markdown",
   "id": "526e007e",
   "metadata": {},
   "source": [
    "## Инструкции\n",
    "Это **действие**, которое **не возвращает значение**\n",
    "| Инструкция         | Описание                       |\n",
    "| ------------------ | ------------------------------ |\n",
    "| `if / else`        | Условные конструкции           |\n",
    "| `for / while`      | Циклы                          |\n",
    "| `def`              | Определение функций            |\n",
    "| `class`            | Определение классов            |\n",
    "| `import`           | Импорт модулей                 |\n",
    "| `pass`             | Пустая инструкция (заглушка)   |\n",
    "| `return`           | Возвращает значение из функции |\n",
    "| `break / continue` | Управление циклами             |"
   ]
  },
  {
   "cell_type": "markdown",
   "id": "8fa67995",
   "metadata": {},
   "source": [
    "## Выражения\n",
    "Код, возвращающий значение\n",
    "| Выражение                               | Описание                      |\n",
    "| --------------------------------------- | ----------------------------- |\n",
    "| Арифметические (`x + 1`, `a * b`)       | Операции с числами            |\n",
    "| Логические (`x > 0`, `a == b`)          | Возвращают `True` или `False` |\n",
    "| Вызов функций (`len(lst)`, `sum(nums)`) | Возвращают результат          |\n",
    "| Лямбда-функции (`lambda x: x * 2`)      | Анонимные функции             |\n",
    "| Включения (`[x**2 for x in range(5)]`)  | List comprehension            |"
   ]
  },
  {
   "cell_type": "code",
   "execution_count": 5,
   "id": "777c8510",
   "metadata": {},
   "outputs": [
    {
     "data": {
      "text/plain": [
       "[1, 2, 3, 4, 5, 6]"
      ]
     },
     "execution_count": 5,
     "metadata": {},
     "output_type": "execute_result"
    }
   ],
   "source": [
    "1 + 1  # Операция сложения\n",
    "3 * 4  # Умножение\n",
    "max(5, 7)  # Вызов функции\n",
    "[1, 2, 3] + [4, 5, 6]  # Конкатенация списков"
   ]
  },
  {
   "cell_type": "markdown",
   "id": "cee92848",
   "metadata": {},
   "source": [
    "Выражения могут быть частью инструкций"
   ]
  },
  {
   "cell_type": "code",
   "execution_count": null,
   "id": "ac4f6351",
   "metadata": {},
   "outputs": [],
   "source": [
    "# Выражение max(5, 7) в инструкции присваивания\n",
    "x = max(5, 7)\n",
    "\n",
    "if x > 0:  # Выражение x > 0 внутри инструкции if\n",
    "    print(\"Positive\")  # Инструкция вывода"
   ]
  }
 ],
 "metadata": {
  "kernelspec": {
   "display_name": "py-experiments",
   "language": "python",
   "name": "python3"
  },
  "language_info": {
   "codemirror_mode": {
    "name": "ipython",
    "version": 3
   },
   "file_extension": ".py",
   "mimetype": "text/x-python",
   "name": "python",
   "nbconvert_exporter": "python",
   "pygments_lexer": "ipython3",
   "version": "3.12.10"
  }
 },
 "nbformat": 4,
 "nbformat_minor": 5
}
