{
 "cells": [
  {
   "cell_type": "markdown",
   "id": "67592905",
   "metadata": {},
   "source": [
    "## Garbage Collector\n",
    "Встроенный механизм Python **автоматически управляет памятью**, но иногда требуется вмешательство для контроля за сбором мусора."
   ]
  },
  {
   "cell_type": "code",
   "execution_count": 2,
   "id": "ab71e325",
   "metadata": {},
   "outputs": [
    {
     "name": "stdout",
     "output_type": "stream",
     "text": [
      "Собрано 0 объектов\n"
     ]
    }
   ],
   "source": [
    "# Принудительная очистка памяти\n",
    "import gc\n",
    "collected = gc.collect()  # Запуск сборщика мусора вручную\n",
    "print(f\"Собрано {collected} объектов\")"
   ]
  },
  {
   "cell_type": "code",
   "execution_count": 1,
   "id": "ed079248",
   "metadata": {},
   "outputs": [
    {
     "name": "stdout",
     "output_type": "stream",
     "text": [
      "(171, 7, 5)\n"
     ]
    }
   ],
   "source": [
    "# Состояние сборщика\n",
    "import gc\n",
    "print(gc.get_count())"
   ]
  },
  {
   "cell_type": "markdown",
   "id": "248fc10d",
   "metadata": {},
   "source": [
    "## Циклические ссылки"
   ]
  },
  {
   "cell_type": "code",
   "execution_count": null,
   "id": "e6bc4c48",
   "metadata": {},
   "outputs": [],
   "source": [
    "# Поиск циклических ссылок\n",
    "import gc\n",
    "\n",
    "gc.set_debug(gc.DEBUG_SAVEALL)  # Включаем отладку\n",
    "gc.collect()                    # Принудительный запуск GC\n",
    "for obj in gc.garbage:\n",
    "    print(f'Обнаружена циклическая ссылка: {obj}')"
   ]
  },
  {
   "cell_type": "code",
   "execution_count": null,
   "id": "91485942",
   "metadata": {},
   "outputs": [],
   "source": [
    "# Создание утечки памяти\n",
    "import gc\n",
    "\n",
    "\n",
    "class A:\n",
    "    def __init__(self):\n",
    "        self.other = None\n",
    "\n",
    "\n",
    "a = A()\n",
    "b = A()\n",
    "\n",
    "a.other = b  # Объекты ссылаются друг на друга\n",
    "b.other = a\n",
    "\n",
    "del a\n",
    "del b\n",
    "\n",
    "gc.collect()  # Без вызова GC объекты не освободятся"
   ]
  }
 ],
 "metadata": {
  "kernelspec": {
   "display_name": "py-experiments",
   "language": "python",
   "name": "python3"
  },
  "language_info": {
   "codemirror_mode": {
    "name": "ipython",
    "version": 3
   },
   "file_extension": ".py",
   "mimetype": "text/x-python",
   "name": "python",
   "nbconvert_exporter": "python",
   "pygments_lexer": "ipython3",
   "version": "3.12.10"
  }
 },
 "nbformat": 4,
 "nbformat_minor": 5
}
