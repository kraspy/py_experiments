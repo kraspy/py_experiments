{
 "cells": [
  {
   "cell_type": "markdown",
   "id": "a2ac3fc1",
   "metadata": {},
   "source": [
    "## Последовательности\n",
    "\n",
    "Это **упорядоченные коллекции данных**, которые поддерживают индексацию, срезы и итерацию.\n"
   ]
  },
  {
   "cell_type": "markdown",
   "id": "6a176341",
   "metadata": {},
   "source": [
    "## Встроенные последовательности:\n",
    "\n",
    "- list\n",
    "- tuple\n",
    "- range\n",
    "- str\n",
    "- bytes\n",
    "- bytearray\n",
    "- memoryview\n"
   ]
  },
  {
   "cell_type": "markdown",
   "id": "30c3f7f5",
   "metadata": {},
   "source": [
    "## Общие операции\n",
    "\n",
    "| Операция           | Пример                           |\n",
    "| ------------------ | -------------------------------- |\n",
    "| **Индексация**     | `seq[0]`, `seq[-1]`              |\n",
    "| **Срезы**          | `seq[1:4]`, `seq[::-1]`          |\n",
    "| **Конкатенация**   | `[1, 2] + [3, 4] → [1, 2, 3, 4]` |\n",
    "| **Повторение**     | `[1, 2] * 2 → [1, 2, 1, 2]`      |\n",
    "| **Длина**          | `len(seq)`                       |\n",
    "| **Поиск элемента** | `x in seq`, `x not in seq`       |\n",
    "| **Мин/Макс**       | `min(seq)`, `max(seq)`           |\n"
   ]
  },
  {
   "cell_type": "markdown",
   "id": "94a3fcdb",
   "metadata": {},
   "source": [
    "## Встроенные функции\n"
   ]
  },
  {
   "cell_type": "code",
   "execution_count": null,
   "id": "555671a2",
   "metadata": {},
   "outputs": [
    {
     "name": "stdout",
     "output_type": "stream",
     "text": [
      "[1, 3, 5, 8, 9]\n",
      "[9, 1, 8, 3, 5]\n",
      "3\n",
      "[5, 8]\n",
      "[1, 5, 8, 3, 9]\n",
      "0. apple\n",
      "1. orange\n",
      "2. cherry\n",
      "[(1, 4), (2, 5), (3, 6)]\n"
     ]
    }
   ],
   "source": [
    "import random\n",
    "\n",
    "seq = [5, 3, 8, 1, 9]\n",
    "\n",
    "# sort, reverse\n",
    "print(sorted(seq))            # [1, 3, 5, 8, 9]\n",
    "print(list(reversed(seq)))    # [9, 1, 8, 3, 5]\n",
    "\n",
    "# random\n",
    "print(random.choice(seq))     # Случайный элемент\n",
    "print(random.sample(seq, 2))  # Два случайных элемента\n",
    "random.shuffle(seq)\n",
    "print(seq)                    # [3, 8, 9, 5, 1]\n",
    "\n",
    "# enumerate\n",
    "fruits = ['apple', 'orange', 'cherry']\n",
    "for i, fruit in enumerate(fruits):\n",
    "    print(f'{i}. {fruit}')\n",
    "\n",
    "# zip\n",
    "lst_0 = [1, 2, 3]\n",
    "lst_1 = [4, 5, 6]\n",
    "print(list(zip(lst_0, lst_1)))\n"
   ]
  },
  {
   "cell_type": "markdown",
   "id": "87880252",
   "metadata": {},
   "source": [
    "## Распаковка\n"
   ]
  },
  {
   "cell_type": "code",
   "execution_count": null,
   "id": "95b3aaaa",
   "metadata": {},
   "outputs": [
    {
     "name": "stdout",
     "output_type": "stream",
     "text": [
      "Max 2 string\n",
      "1 2\n",
      "М и р\n",
      "0 1\n"
     ]
    }
   ],
   "source": [
    "a, b, c = ['Max', 2, 'string']\n",
    "print(a, b, c)  # Max 2 string\n",
    "\n",
    "a, b = (1, 2)\n",
    "print(a, b)  # 1 2\n",
    "\n",
    "a, b, c = 'Мир'\n",
    "print(a, b, c)  # М и р\n",
    "\n",
    "a, b = range(2)\n",
    "print(a, b)  # 0 1"
   ]
  },
  {
   "cell_type": "code",
   "execution_count": null,
   "id": "997ec996",
   "metadata": {},
   "outputs": [
    {
     "name": "stdout",
     "output_type": "stream",
     "text": [
      "1\n",
      "[2, 3, 4]\n",
      "5\n"
     ]
    }
   ],
   "source": [
    "# Распаковка со *\n",
    "first, *middle, last = [1, 2, 3, 4, 5]\n",
    "print(first)  # 1\n",
    "print(middle)  # [2, 3, 4]\n",
    "print(last)  # 5"
   ]
  }
 ],
 "metadata": {
  "kernelspec": {
   "display_name": "py-experiments",
   "language": "python",
   "name": "python3"
  },
  "language_info": {
   "codemirror_mode": {
    "name": "ipython",
    "version": 3
   },
   "file_extension": ".py",
   "mimetype": "text/x-python",
   "name": "python",
   "nbconvert_exporter": "python",
   "pygments_lexer": "ipython3",
   "version": "3.12.10"
  }
 },
 "nbformat": 4,
 "nbformat_minor": 5
}
