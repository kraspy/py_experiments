{
 "cells": [
  {
   "cell_type": "code",
   "execution_count": 7,
   "id": "1598d0ee",
   "metadata": {},
   "outputs": [
    {
     "name": "stdout",
     "output_type": "stream",
     "text": [
      "Функция завершена\n"
     ]
    }
   ],
   "source": [
    "def foo():\n",
    "    x = 10  # Отступ 4 пробела\n",
    "    if x > 5:\n",
    "        print('x больше 5')  # Отступ 8 пробелов\n",
    "    else:\n",
    "        print('x меньше или равно 5')\n",
    "\n",
    "\n",
    "print('Функция завершена')  # Нет отступа – вне функции"
   ]
  },
  {
   "cell_type": "code",
   "execution_count": 12,
   "id": "a67363ea",
   "metadata": {},
   "outputs": [],
   "source": [
    "# Многострочные выражения\n",
    "result = (\n",
    "    1 + 2 \n",
    "                + 3 + 4  # Продолжение выражения без необходимости отступа\n",
    ")"
   ]
  },
  {
   "cell_type": "code",
   "execution_count": null,
   "id": "65be1b50",
   "metadata": {},
   "outputs": [],
   "source": [
    "# Многострочные выражения в функциях\n",
    "def bar(arg1, arg2,\n",
    "        arg3, \n",
    "        arg4\n",
    "):\n",
    "    print(arg1, arg2, arg3, arg4)"
   ]
  }
 ],
 "metadata": {
  "kernelspec": {
   "display_name": "py-experiments",
   "language": "python",
   "name": "python3"
  },
  "language_info": {
   "codemirror_mode": {
    "name": "ipython",
    "version": 3
   },
   "file_extension": ".py",
   "mimetype": "text/x-python",
   "name": "python",
   "nbconvert_exporter": "python",
   "pygments_lexer": "ipython3",
   "version": "3.12.10"
  }
 },
 "nbformat": 4,
 "nbformat_minor": 5
}
