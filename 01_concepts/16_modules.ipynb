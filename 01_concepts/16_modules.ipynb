{
 "cells": [
  {
   "cell_type": "markdown",
   "id": "30fe36be",
   "metadata": {},
   "source": [
    "Это **обычный `*.py` файл**, содержащий **функции, классы и переменные**, которые можно импортировать и использовать в других файлах.\n",
    "\n",
    "- Каждый модуль **имеет свое пространство имен**.\n",
    "- Python **кэширует загруженные модули** для ускорения работы (`.pyc` файлы в `__pycache__/`).\n",
    "- Можно **импортировать модули разными способами**:\n",
    "    - `import module`\n",
    "    - `from module import X`\n",
    "    - `import module as alias`\n",
    "    - `from module import *`.\n",
    "\n",
    "Python **автоматически выполняет код модуля при первом импорте**."
   ]
  },
  {
   "cell_type": "markdown",
   "id": "30eee0f5",
   "metadata": {},
   "source": [
    "## Способы импортов модулей"
   ]
  },
  {
   "cell_type": "code",
   "execution_count": null,
   "id": "a2fd4718",
   "metadata": {},
   "outputs": [
    {
     "name": "stdout",
     "output_type": "stream",
     "text": [
      "16\n",
      "15\n",
      "3.14159\n",
      "9\n"
     ]
    }
   ],
   "source": [
    "import _math_utils  # Обычный импорт\n",
    "print(_math_utils.square(4))  # 16\n",
    "\n",
    "from _math_utils import add  # Импорт конкретной функции\n",
    "print(add(10, 5))  # 15\n",
    "\n",
    "import _math_utils as mu  # Псевдоним (alias)\n",
    "print(mu.PI)       # 3.14159\n",
    "\n",
    "from _math_utils import *  # Импорт всего (не рекомендуется)\n",
    "print(square(3))   # 9"
   ]
  },
  {
   "cell_type": "markdown",
   "id": "da8cd27c",
   "metadata": {},
   "source": [
    "## Относительный импорт (для пакетов)\n",
    "Используется внутри **пакетов** (`.` - текущая директория, `..` — на уровень выше)."
   ]
  },
  {
   "cell_type": "markdown",
   "id": "71056c64",
   "metadata": {},
   "source": [
    "```python\n",
    "# Пример Структуры проекта\n",
    "│my_project\n",
    "│── main.py\n",
    "│── utils/\n",
    "│   ├── __init__.py\n",
    "│   ├── math_utils.py\n",
    "│   ├── string_utils.py\n",
    "```\n",
    "---\n",
    "📜 `utils/math_utils.py`\n",
    "```python\n",
    "def square(x):\n",
    "    return x * x\n",
    "```\n",
    "---\n",
    "📜 `utils/string_utils.py`\n",
    "```python\n",
    "def uppercase(text):\n",
    "    return text.upper()\n",
    "```\n",
    "---\n",
    "📜 `utils/__init__.py`\n",
    "```python\n",
    "from .math_utils import square\n",
    "from .string_utils import uppercase\n",
    "```\n",
    "---\n",
    "📜 `main.py`\n",
    "```python\n",
    "from utils import square, uppercase\n",
    "\n",
    "print(square(4))           # 16\n",
    "print(uppercase(\"hello\"))  # \"HELLO\"\n",
    "```"
   ]
  },
  {
   "cell_type": "markdown",
   "id": "28b8d4b5",
   "metadata": {},
   "source": [
    "## \\_\\_name__\n",
    "\n",
    "`__name__ == \"__main__\"` позволяет отличить **прямой запуск файла** от **импорта в другой модуль**."
   ]
  },
  {
   "cell_type": "code",
   "execution_count": 6,
   "id": "28022de6",
   "metadata": {},
   "outputs": [
    {
     "name": "stdout",
     "output_type": "stream",
     "text": [
      "__main__\n"
     ]
    }
   ],
   "source": [
    "print(__name__)"
   ]
  },
  {
   "cell_type": "markdown",
   "id": "25265671",
   "metadata": {},
   "source": [
    "## Пути поиска модулей\n",
    "Python ищет модули в директориях из `sys.path`. Можно **добавить свою директорию**:"
   ]
  },
  {
   "cell_type": "code",
   "execution_count": null,
   "id": "3c172887",
   "metadata": {},
   "outputs": [],
   "source": [
    "import sys\n",
    "\n",
    "sys.path.append('/путь/к/модулям')"
   ]
  },
  {
   "cell_type": "markdown",
   "id": "c9485420",
   "metadata": {},
   "source": [
    "## Перезагрузка модулей"
   ]
  },
  {
   "cell_type": "code",
   "execution_count": null,
   "id": "b936c7c3",
   "metadata": {},
   "outputs": [],
   "source": [
    "import importlib\n",
    "import _math_utils\n",
    "\n",
    "importlib.reload(_math_utils)  # Перезагружает модуль, если он изменился"
   ]
  },
  {
   "cell_type": "markdown",
   "id": "5cbfda90",
   "metadata": {},
   "source": [
    "## Динамический импорт"
   ]
  },
  {
   "cell_type": "code",
   "execution_count": 11,
   "id": "185d8130",
   "metadata": {},
   "outputs": [
    {
     "name": "stdout",
     "output_type": "stream",
     "text": [
      "25\n"
     ]
    }
   ],
   "source": [
    "module_name = \"_math_utils\"\n",
    "mod = __import__(module_name)  # Динамически импортируем модуль\n",
    "print(mod.square(5))           # 25"
   ]
  }
 ],
 "metadata": {
  "kernelspec": {
   "display_name": "py-experiments",
   "language": "python",
   "name": "python3"
  },
  "language_info": {
   "codemirror_mode": {
    "name": "ipython",
    "version": 3
   },
   "file_extension": ".py",
   "mimetype": "text/x-python",
   "name": "python",
   "nbconvert_exporter": "python",
   "pygments_lexer": "ipython3",
   "version": "3.12.10"
  }
 },
 "nbformat": 4,
 "nbformat_minor": 5
}
