{
 "cells": [
  {
   "cell_type": "markdown",
   "id": "22a7aa40",
   "metadata": {},
   "source": [
    "## Inline"
   ]
  },
  {
   "cell_type": "code",
   "execution_count": null,
   "id": "8e4be885",
   "metadata": {},
   "outputs": [
    {
     "name": "stdout",
     "output_type": "stream",
     "text": [
      "Hello, World!\n"
     ]
    }
   ],
   "source": [
    "# Это комментарий\n",
    "print(\"Hello, World!\")  # Комментарий после кода"
   ]
  },
  {
   "cell_type": "markdown",
   "id": "25fb564d",
   "metadata": {},
   "source": [
    "## Multiline"
   ]
  },
  {
   "cell_type": "code",
   "execution_count": null,
   "id": "8cb6fe4a",
   "metadata": {},
   "outputs": [
    {
     "data": {
      "text/plain": [
       "'\\nМожно использовать одинарные кавычки.\\nМногострочные комментарии удобны для документации.\\n'"
      ]
     },
     "execution_count": 2,
     "metadata": {},
     "output_type": "execute_result"
    }
   ],
   "source": [
    "\"\"\"\n",
    "Это многострочный комментарий.\n",
    "Он занимает несколько строк.\n",
    "\"\"\"\n",
    "'''\n",
    "Можно использовать одинарные кавычки.\n",
    "Многострочные комментарии удобны для документации.\n",
    "'''"
   ]
  },
  {
   "cell_type": "markdown",
   "id": "56d4268b",
   "metadata": {},
   "source": [
    "## Docstrings\n",
    "Докстроки можно просмотреть с помощью `help()`, `.__doc__` или в IDE."
   ]
  },
  {
   "cell_type": "code",
   "execution_count": null,
   "id": "bd95ce40",
   "metadata": {},
   "outputs": [
    {
     "name": "stdout",
     "output_type": "stream",
     "text": [
      "Help on function greet in module __main__:\n",
      "\n",
      "greet(name: str) -> str\n",
      "    Greeting function\n",
      "\n",
      "    Args:\n",
      "        name (str): User name\n",
      "\n",
      "    Returns:\n",
      "        str: Greeting text\n",
      "\n"
     ]
    },
    {
     "data": {
      "text/html": [
       "<pre style=\"white-space:pre;overflow-x:auto;line-height:normal;font-family:Menlo,'DejaVu Sans Mono',consolas,'Courier New',monospace\"><span style=\"color: #008000; text-decoration-color: #008000\">Greeting function</span>\n",
       "\n",
       "<span style=\"color: #008000; text-decoration-color: #008000\">    Args:</span>\n",
       "<span style=\"color: #008000; text-decoration-color: #008000\">        name </span><span style=\"color: #008000; text-decoration-color: #008000; font-weight: bold\">(</span><span style=\"color: #008000; text-decoration-color: #008000\">str</span><span style=\"color: #008000; text-decoration-color: #008000; font-weight: bold\">)</span><span style=\"color: #008000; text-decoration-color: #008000\">: User name</span>\n",
       "\n",
       "<span style=\"color: #008000; text-decoration-color: #008000\">    Returns:</span>\n",
       "<span style=\"color: #008000; text-decoration-color: #008000\">        str: Greeting text</span>\n",
       "<span style=\"color: #008000; text-decoration-color: #008000\">    </span>\n",
       "</pre>\n"
      ],
      "text/plain": [
       "\u001b[32mGreeting function\u001b[0m\n",
       "\n",
       "\u001b[32m    Args:\u001b[0m\n",
       "\u001b[32m        name \u001b[0m\u001b[1;32m(\u001b[0m\u001b[32mstr\u001b[0m\u001b[1;32m)\u001b[0m\u001b[32m: User name\u001b[0m\n",
       "\n",
       "\u001b[32m    Returns:\u001b[0m\n",
       "\u001b[32m        str: Greeting text\u001b[0m\n",
       "\u001b[32m    \u001b[0m\n"
      ]
     },
     "metadata": {},
     "output_type": "display_data"
    }
   ],
   "source": [
    "from rich import print\n",
    "\n",
    "def greet(name: str) -> str:\n",
    "    \"\"\"Greeting function.\n",
    "\n",
    "    Args:\n",
    "        name (str): User name\n",
    "\n",
    "    Returns:\n",
    "        str: Greeting text\n",
    "    \"\"\"\n",
    "    return f'Hello, {name}!'\n",
    "\n",
    "help(greet)\n",
    "print(f'[green]{greet.__doc__}[/green]')"
   ]
  },
  {
   "cell_type": "code",
   "execution_count": 13,
   "id": "bd3d65e1",
   "metadata": {},
   "outputs": [
    {
     "name": "stdout",
     "output_type": "stream",
     "text": [
      "Help on class Person in module __main__:\n",
      "\n",
      "class Person(builtins.object)\n",
      " |  Person(name)\n",
      " |\n",
      " |  Person class.\n",
      " |\n",
      " |  Methods defined here:\n",
      " |\n",
      " |  __init__(self, name)\n",
      " |      Initialize properties.\n",
      " |\n",
      " |  greet(self)\n",
      " |      Greeting function.\n",
      " |\n",
      " |  ----------------------------------------------------------------------\n",
      " |  Data descriptors defined here:\n",
      " |\n",
      " |  __dict__\n",
      " |      dictionary for instance variables\n",
      " |\n",
      " |  __weakref__\n",
      " |      list of weak references to the object\n",
      "\n"
     ]
    }
   ],
   "source": [
    "class Person:\n",
    "    \"\"\"Person class.\"\"\"\n",
    "\n",
    "    def __init__(self, name):\n",
    "        \"\"\"Initialize properties.\"\"\"\n",
    "        self.name = name\n",
    "\n",
    "    def greet(self):\n",
    "        \"\"\"Greeting function.\"\"\"\n",
    "        return f'Привет, меня зовут {self.name}!'\n",
    "\n",
    "\n",
    "help(Person)\n"
   ]
  },
  {
   "cell_type": "markdown",
   "id": "6fde91b0",
   "metadata": {},
   "source": [
    "### `__doc__ = None`\n",
    "В **production** можно **очистить docstrings**, чтобы **уменьшить потребление памяти**."
   ]
  },
  {
   "cell_type": "code",
   "execution_count": null,
   "id": "c2a1dbae",
   "metadata": {},
   "outputs": [],
   "source": [
    "__doc__ = None               # Удаляет документацию для модуля\n",
    "Person.__doc__ = None        # Удаляет документацию у класса\n",
    "Person.greet.__doc__ = None  # Удаляет документацию у метода"
   ]
  }
 ],
 "metadata": {
  "kernelspec": {
   "display_name": "py-experiments",
   "language": "python",
   "name": "python3"
  },
  "language_info": {
   "codemirror_mode": {
    "name": "ipython",
    "version": 3
   },
   "file_extension": ".py",
   "mimetype": "text/x-python",
   "name": "python",
   "nbconvert_exporter": "python",
   "pygments_lexer": "ipython3",
   "version": "3.12.10"
  }
 },
 "nbformat": 4,
 "nbformat_minor": 5
}
