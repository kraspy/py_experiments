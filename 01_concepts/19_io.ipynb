{
 "cells": [
  {
   "cell_type": "markdown",
   "id": "0a64512b",
   "metadata": {},
   "source": [
    "## `input()`\n",
    "Встроенная функция Python для **чтения данных от пользователя**.\\\n",
    "Всегда возвращает **строку** (`str`), даже если введено число."
   ]
  },
  {
   "cell_type": "code",
   "execution_count": null,
   "id": "b62e5897",
   "metadata": {},
   "outputs": [
    {
     "name": "stdout",
     "output_type": "stream",
     "text": [
      "Привет, Alex!\n"
     ]
    }
   ],
   "source": [
    "# Простой ввод\n",
    "name = input('Введите ваше имя: ')\n",
    "print(f'Привет, {name}!')"
   ]
  },
  {
   "cell_type": "code",
   "execution_count": null,
   "id": "eaeb2022",
   "metadata": {},
   "outputs": [
    {
     "name": "stdout",
     "output_type": "stream",
     "text": [
      "['1', '2', '3']\n"
     ]
    }
   ],
   "source": [
    "# Ввод нескольких значений\n",
    "values = input('Введите числа через пробел: ').split()\n",
    "print(values)  # ['1', '2', '3']"
   ]
  },
  {
   "cell_type": "code",
   "execution_count": 2,
   "id": "88002a14",
   "metadata": {},
   "outputs": [
    {
     "name": "stdout",
     "output_type": "stream",
     "text": [
      "Ваш возраст: 100\n"
     ]
    }
   ],
   "source": [
    "# Конвертация ввода в число\n",
    "age = int(input('Введите ваш возраст: '))  # Преобразование в int\n",
    "print(f'Ваш возраст: {age}')"
   ]
  },
  {
   "cell_type": "code",
   "execution_count": null,
   "id": "03f53bd4",
   "metadata": {},
   "outputs": [
    {
     "name": "stdout",
     "output_type": "stream",
     "text": [
      "[1, 2, 3]\n"
     ]
    }
   ],
   "source": [
    "# Конвертация в список чисел\n",
    "numbers = list(map(int, input('Введите числа через пробел: ').split()))\n",
    "print(numbers)  # [1, 2, 3]"
   ]
  },
  {
   "cell_type": "code",
   "execution_count": null,
   "id": "8b26057f",
   "metadata": {},
   "outputs": [
    {
     "name": "stdout",
     "output_type": "stream",
     "text": [
      "Сумма: 3\n"
     ]
    }
   ],
   "source": [
    "# Конвертация в числа через map()\n",
    "a, b = map(int, input('Введите два числа: ').split())\n",
    "print(f'Сумма: {a + b}')"
   ]
  },
  {
   "cell_type": "markdown",
   "id": "45464b43",
   "metadata": {},
   "source": [
    "## `print()`\n",
    "Используется для **вывода данных на экран**.\\\n",
    "Принимает несколько аргументов, которые разделяются пробелами по умолчанию."
   ]
  },
  {
   "cell_type": "code",
   "execution_count": null,
   "id": "42d75a7c",
   "metadata": {},
   "outputs": [
    {
     "name": "stdout",
     "output_type": "stream",
     "text": [
      "Имя: Alice Возраст: 30\n"
     ]
    }
   ],
   "source": [
    "# Простая печать\n",
    "name = 'Alice'\n",
    "age = 30\n",
    "print('Имя:', name, 'Возраст:', age)"
   ]
  },
  {
   "cell_type": "code",
   "execution_count": null,
   "id": "0f8ac879",
   "metadata": {},
   "outputs": [
    {
     "name": "stdout",
     "output_type": "stream",
     "text": [
      "1, 2, 3\n"
     ]
    }
   ],
   "source": [
    "# Изменение разделителя\n",
    "print(1, 2, 3, sep=', ')  # 1, 2, 3"
   ]
  },
  {
   "cell_type": "code",
   "execution_count": null,
   "id": "2396a4ba",
   "metadata": {},
   "outputs": [
    {
     "name": "stdout",
     "output_type": "stream",
     "text": [
      "Hello World\n"
     ]
    }
   ],
   "source": [
    "# Изменение окончания строки\n",
    "print('Hello', end=' ')\n",
    "print('World')  # Hello World"
   ]
  },
  {
   "cell_type": "code",
   "execution_count": null,
   "id": "ecda0ad1",
   "metadata": {},
   "outputs": [],
   "source": [
    "# Вывод в файл\n",
    "with open('output.txt', 'w') as f:\n",
    "    print('Записываем этот текст в файл', file=f)"
   ]
  },
  {
   "cell_type": "code",
   "execution_count": null,
   "id": "232aeef0",
   "metadata": {},
   "outputs": [
    {
     "name": "stderr",
     "output_type": "stream",
     "text": [
      "Ошибка!\n"
     ]
    }
   ],
   "source": [
    "# Вывод ошибок в stderr\n",
    "import sys\n",
    "\n",
    "print('Ошибка!', file=sys.stderr)"
   ]
  },
  {
   "cell_type": "code",
   "execution_count": null,
   "id": "07bd0c50",
   "metadata": {},
   "outputs": [
    {
     "name": "stdout",
     "output_type": "stream",
     "text": [
      "Ожидание... Готово!\n"
     ]
    }
   ],
   "source": [
    "# Принудительный сброс буфера в консоль\n",
    "import time\n",
    "print(\"Ожидание...\", end=\"\", flush=True)\n",
    "time.sleep(2)  # Задержка в 2 секунды\n",
    "print(\" Готово!\")"
   ]
  },
  {
   "cell_type": "markdown",
   "id": "1574dde6",
   "metadata": {},
   "source": [
    "## Чтение данных из файла"
   ]
  },
  {
   "cell_type": "markdown",
   "id": "0653e012",
   "metadata": {},
   "source": [
    "```sh\n",
    "python script.py < input.txt\n",
    "```\n",
    "```sh\n",
    "echo \"hi\" | python script.py\n",
    "```"
   ]
  },
  {
   "cell_type": "code",
   "execution_count": null,
   "id": "f9c4a12e",
   "metadata": {},
   "outputs": [],
   "source": [
    "import sys\n",
    "data = sys.stdin.read()\n",
    "print(data)"
   ]
  }
 ],
 "metadata": {
  "kernelspec": {
   "display_name": "py-experiments",
   "language": "python",
   "name": "python3"
  },
  "language_info": {
   "codemirror_mode": {
    "name": "ipython",
    "version": 3
   },
   "file_extension": ".py",
   "mimetype": "text/x-python",
   "name": "python",
   "nbconvert_exporter": "python",
   "pygments_lexer": "ipython3",
   "version": "3.12.10"
  }
 },
 "nbformat": 4,
 "nbformat_minor": 5
}
