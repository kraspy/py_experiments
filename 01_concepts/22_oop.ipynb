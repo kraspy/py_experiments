{
 "cells": [
  {
   "cell_type": "code",
   "execution_count": 28,
   "id": "88147236",
   "metadata": {},
   "outputs": [],
   "source": [
    "from rich import print\n",
    "from typing import Any"
   ]
  },
  {
   "cell_type": "markdown",
   "id": "260ea1de",
   "metadata": {},
   "source": [
    "## Основы"
   ]
  },
  {
   "cell_type": "markdown",
   "id": "550499ed",
   "metadata": {},
   "source": [
    "### Синтаксис"
   ]
  },
  {
   "cell_type": "code",
   "execution_count": null,
   "id": "349bdf1a",
   "metadata": {},
   "outputs": [
    {
     "data": {
      "text/html": [
       "<pre style=\"white-space:pre;overflow-x:auto;line-height:normal;font-family:Menlo,'DejaVu Sans Mono',consolas,'Courier New',monospace\">Выполнится до создания объекта\n",
       "</pre>\n"
      ],
      "text/plain": [
       "Выполнится до создания объекта\n"
      ]
     },
     "metadata": {},
     "output_type": "display_data"
    }
   ],
   "source": [
    "class MyClass:  # Определение класса\n",
    "    \"\"\"docstring\"\"\"        # Документация (__doc__)\n",
    "\n",
    "    # Только ДЛЯ СВОЙСТВ ЭКЗЕМПЛЯРА\n",
    "    __slots__ = ('a', '_b', '__c')\n",
    "\n",
    "    x = 0  # Свойство класса (__dict__)\n",
    "\n",
    "    def __init__(          # Double UNDERscore methods\n",
    "        self,\n",
    "        a: str,\n",
    "        b: str,\n",
    "        c: str,\n",
    "    ): # Свойства объекта\n",
    "        self.a: str = a    # Public\n",
    "\n",
    "        # Инкапсуляция\n",
    "        self._b: str = b   # Protected (Условно)\n",
    "        self.__c: str = c  # Private   (_MyClass__c)\n",
    "\n",
    "    def foo(self):    # Методы класса\n",
    "        print(self)   # Ссылка на экземпляр класса\n",
    "\n",
    "    @classmethod      # Работает только со свойствами Класса\n",
    "    def cls_method(cls):\n",
    "        print(cls)\n",
    "\n",
    "    @staticmethod     # Не имеет доступа к свойствам Класса/Экземпляра\n",
    "    def static_method():\n",
    "        print(MyClass)\n",
    "\n",
    "    @property\n",
    "    def c(self) -> str:\n",
    "        return self.__c\n",
    "\n",
    "    @c.setter\n",
    "    def c(self, value: str):\n",
    "        self.__c = value\n",
    "\n",
    "    print('Выполнится до создания объекта')"
   ]
  },
  {
   "cell_type": "markdown",
   "id": "31a56c39",
   "metadata": {},
   "source": [
    "### Словарь атрибутов класса"
   ]
  },
  {
   "cell_type": "code",
   "execution_count": 21,
   "id": "f2ca3b10",
   "metadata": {},
   "outputs": [
    {
     "data": {
      "text/html": [
       "<pre style=\"white-space:pre;overflow-x:auto;line-height:normal;font-family:Menlo,'DejaVu Sans Mono',consolas,'Courier New',monospace\"><span style=\"color: #800080; text-decoration-color: #800080; font-weight: bold\">mappingproxy</span><span style=\"font-weight: bold\">({</span>\n",
       "    <span style=\"color: #008000; text-decoration-color: #008000\">'__module__'</span>: <span style=\"color: #008000; text-decoration-color: #008000\">'__main__'</span>,\n",
       "    <span style=\"color: #008000; text-decoration-color: #008000\">'__doc__'</span>: <span style=\"color: #008000; text-decoration-color: #008000\">'docstring'</span>,\n",
       "    <span style=\"color: #008000; text-decoration-color: #008000\">'x'</span>: <span style=\"color: #008080; text-decoration-color: #008080; font-weight: bold\">0</span>,\n",
       "    <span style=\"color: #008000; text-decoration-color: #008000\">'__init__'</span>: <span style=\"font-weight: bold\">&lt;</span><span style=\"color: #ff00ff; text-decoration-color: #ff00ff; font-weight: bold\">function</span><span style=\"color: #000000; text-decoration-color: #000000\"> MyClass.__init__ at </span><span style=\"color: #008080; text-decoration-color: #008080; font-weight: bold\">0x10b3e27a0</span><span style=\"color: #000000; text-decoration-color: #000000\">&gt;,</span>\n",
       "<span style=\"color: #000000; text-decoration-color: #000000\">    </span><span style=\"color: #008000; text-decoration-color: #008000\">'foo'</span><span style=\"color: #000000; text-decoration-color: #000000\">: &lt;function MyClass.foo at </span><span style=\"color: #008080; text-decoration-color: #008080; font-weight: bold\">0x10b3e2840</span><span style=\"color: #000000; text-decoration-color: #000000\">&gt;,</span>\n",
       "<span style=\"color: #000000; text-decoration-color: #000000\">    </span><span style=\"color: #008000; text-decoration-color: #008000\">'c'</span><span style=\"color: #000000; text-decoration-color: #000000\">: &lt;property object at </span><span style=\"color: #008080; text-decoration-color: #008080; font-weight: bold\">0x10b3dc900</span><span style=\"color: #000000; text-decoration-color: #000000\">&gt;,</span>\n",
       "<span style=\"color: #000000; text-decoration-color: #000000\">    </span><span style=\"color: #008000; text-decoration-color: #008000\">'__dict__'</span><span style=\"color: #000000; text-decoration-color: #000000\">: &lt;attribute </span><span style=\"color: #008000; text-decoration-color: #008000\">'__dict__'</span><span style=\"color: #000000; text-decoration-color: #000000\"> of </span><span style=\"color: #008000; text-decoration-color: #008000\">'MyClass'</span><span style=\"color: #000000; text-decoration-color: #000000\"> objects&gt;,</span>\n",
       "<span style=\"color: #000000; text-decoration-color: #000000\">    </span><span style=\"color: #008000; text-decoration-color: #008000\">'__weakref__'</span><span style=\"color: #000000; text-decoration-color: #000000\">: &lt;attribute </span><span style=\"color: #008000; text-decoration-color: #008000\">'__weakref__'</span><span style=\"color: #000000; text-decoration-color: #000000\"> of </span><span style=\"color: #008000; text-decoration-color: #008000\">'MyClass'</span><span style=\"color: #000000; text-decoration-color: #000000\"> objects</span><span style=\"font-weight: bold\">&gt;</span>\n",
       "<span style=\"font-weight: bold\">})</span>\n",
       "</pre>\n"
      ],
      "text/plain": [
       "\u001b[1;35mmappingproxy\u001b[0m\u001b[1m(\u001b[0m\u001b[1m{\u001b[0m\n",
       "    \u001b[32m'__module__'\u001b[0m: \u001b[32m'__main__'\u001b[0m,\n",
       "    \u001b[32m'__doc__'\u001b[0m: \u001b[32m'docstring'\u001b[0m,\n",
       "    \u001b[32m'x'\u001b[0m: \u001b[1;36m0\u001b[0m,\n",
       "    \u001b[32m'__init__'\u001b[0m: \u001b[1m<\u001b[0m\u001b[1;95mfunction\u001b[0m\u001b[39m MyClass.__init__ at \u001b[0m\u001b[1;36m0x10b3e27a0\u001b[0m\u001b[39m>,\u001b[0m\n",
       "\u001b[39m    \u001b[0m\u001b[32m'foo'\u001b[0m\u001b[39m: <function MyClass.foo at \u001b[0m\u001b[1;36m0x10b3e2840\u001b[0m\u001b[39m>,\u001b[0m\n",
       "\u001b[39m    \u001b[0m\u001b[32m'c'\u001b[0m\u001b[39m: <property object at \u001b[0m\u001b[1;36m0x10b3dc900\u001b[0m\u001b[39m>,\u001b[0m\n",
       "\u001b[39m    \u001b[0m\u001b[32m'__dict__'\u001b[0m\u001b[39m: <attribute \u001b[0m\u001b[32m'__dict__'\u001b[0m\u001b[39m of \u001b[0m\u001b[32m'MyClass'\u001b[0m\u001b[39m objects>,\u001b[0m\n",
       "\u001b[39m    \u001b[0m\u001b[32m'__weakref__'\u001b[0m\u001b[39m: <attribute \u001b[0m\u001b[32m'__weakref__'\u001b[0m\u001b[39m of \u001b[0m\u001b[32m'MyClass'\u001b[0m\u001b[39m objects\u001b[0m\u001b[1m>\u001b[0m\n",
       "\u001b[1m}\u001b[0m\u001b[1m)\u001b[0m\n"
      ]
     },
     "metadata": {},
     "output_type": "display_data"
    }
   ],
   "source": [
    "print(MyClass.__dict__)"
   ]
  },
  {
   "cell_type": "markdown",
   "id": "d5d1002d",
   "metadata": {},
   "source": [
    "### CRUD свойств класса"
   ]
  },
  {
   "cell_type": "code",
   "execution_count": 22,
   "id": "a6cf63d4",
   "metadata": {},
   "outputs": [
    {
     "data": {
      "text/html": [
       "<pre style=\"white-space:pre;overflow-x:auto;line-height:normal;font-family:Menlo,'DejaVu Sans Mono',consolas,'Courier New',monospace\"><span style=\"color: #00ff00; text-decoration-color: #00ff00; font-style: italic\">True</span>\n",
       "tmp_prop\n",
       "</pre>\n"
      ],
      "text/plain": [
       "\u001b[3;92mTrue\u001b[0m\n",
       "tmp_prop\n"
      ]
     },
     "metadata": {},
     "output_type": "display_data"
    }
   ],
   "source": [
    "setattr(MyClass, 'prop', 'tmp_prop')  # MyClass.newProp = 1\n",
    "\n",
    "print(\n",
    "    hasattr(MyClass, 'prop'),         # Проверка существования атрибута\n",
    "    getattr(MyClass, 'prop', None),   # MyClass.prop3 -> Error if None\n",
    "    sep='\\n',\n",
    ")\n",
    "\n",
    "delattr(MyClass, 'prop')              # del MyClass.prop3 -> Error if None"
   ]
  },
  {
   "cell_type": "markdown",
   "id": "497c1cdd",
   "metadata": {},
   "source": [
    "### Экземпляры класса"
   ]
  },
  {
   "cell_type": "code",
   "execution_count": null,
   "id": "3ef2b3f6",
   "metadata": {},
   "outputs": [
    {
     "data": {
      "text/html": [
       "<pre style=\"white-space:pre;overflow-x:auto;line-height:normal;font-family:Menlo,'DejaVu Sans Mono',consolas,'Courier New',monospace\"><span style=\"font-weight: bold\">&lt;</span><span style=\"color: #ff00ff; text-decoration-color: #ff00ff; font-weight: bold\">class</span><span style=\"color: #000000; text-decoration-color: #000000\"> </span><span style=\"color: #008000; text-decoration-color: #008000\">'__main__.MyClass'</span><span style=\"font-weight: bold\">&gt;</span>\n",
       "<span style=\"color: #00ff00; text-decoration-color: #00ff00; font-style: italic\">True</span>\n",
       "<span style=\"color: #00ff00; text-decoration-color: #00ff00; font-style: italic\">True</span>\n",
       "</pre>\n"
      ],
      "text/plain": [
       "\u001b[1m<\u001b[0m\u001b[1;95mclass\u001b[0m\u001b[39m \u001b[0m\u001b[32m'__main__.MyClass'\u001b[0m\u001b[1m>\u001b[0m\n",
       "\u001b[3;92mTrue\u001b[0m\n",
       "\u001b[3;92mTrue\u001b[0m\n"
      ]
     },
     "metadata": {},
     "output_type": "display_data"
    }
   ],
   "source": [
    "obj = MyClass(a='a', b='b', c='c')  # Экземпляр класса\n",
    "print(\n",
    "    type(obj),                 # Тип объекта (Класс)\n",
    "    type(obj) is MyClass,      # Является ли типом MyClass?\n",
    "    isinstance(obj, MyClass),  # Наследуется ли от MyClass? \n",
    "    sep='\\n',\n",
    ")"
   ]
  },
  {
   "cell_type": "markdown",
   "id": "8b1f88fc",
   "metadata": {},
   "source": [
    "### accessify\n",
    "Позволяет создать полностью защищенный метод класса"
   ]
  },
  {
   "cell_type": "code",
   "execution_count": null,
   "id": "3d44afc1",
   "metadata": {},
   "outputs": [
    {
     "data": {
      "text/html": [
       "<pre style=\"white-space:pre;overflow-x:auto;line-height:normal;font-family:Menlo,'DejaVu Sans Mono',consolas,'Courier New',monospace\">This is a public method\n",
       "</pre>\n"
      ],
      "text/plain": [
       "This is a public method\n"
      ]
     },
     "metadata": {},
     "output_type": "display_data"
    },
    {
     "data": {
      "text/html": [
       "<pre style=\"white-space:pre;overflow-x:auto;line-height:normal;font-family:Menlo,'DejaVu Sans Mono',consolas,'Courier New',monospace\">This is a private method\n",
       "</pre>\n"
      ],
      "text/plain": [
       "This is a private method\n"
      ]
     },
     "metadata": {},
     "output_type": "display_data"
    },
    {
     "data": {
      "text/html": [
       "<pre style=\"white-space:pre;overflow-x:auto;line-height:normal;font-family:Menlo,'DejaVu Sans Mono',consolas,'Courier New',monospace\">This is a protected method\n",
       "</pre>\n"
      ],
      "text/plain": [
       "This is a protected method\n"
      ]
     },
     "metadata": {},
     "output_type": "display_data"
    }
   ],
   "source": [
    "from accessify import private, protected\n",
    "\n",
    "\n",
    "class MyClass:\n",
    "    @private    # Только внутри Класса\n",
    "    def private_method(self):\n",
    "        print('This is a private method')\n",
    "\n",
    "    @protected  # Класс/Дочерние классы\n",
    "    def protected_method(self):\n",
    "        print('This is a protected method')\n",
    "\n",
    "    def public_method(self):\n",
    "        print('This is a public method')\n",
    "        self.private_method()\n",
    "        self.protected_method()\n",
    "\n",
    "\n",
    "# Использование\n",
    "obj = MyClass()\n",
    "obj.public_method()       # Работает нормально\n",
    "\n",
    "# obj.private_method()    # Вызовет ошибку, если попытаться вызвать напрямую\n",
    "# obj.protected_method()  # Также вызовет ошибку при прямом вызове"
   ]
  },
  {
   "cell_type": "markdown",
   "id": "36e55edf",
   "metadata": {},
   "source": [
    "### Декораторы классов"
   ]
  },
  {
   "cell_type": "code",
   "execution_count": 66,
   "id": "69af2b21",
   "metadata": {},
   "outputs": [],
   "source": [
    "from typing import TypeVar\n",
    "\n",
    "T = TypeVar('T')\n",
    "\n",
    "\n",
    "# Функция-декоратор\n",
    "def decoFn(C: T) -> T:\n",
    "    print('Декоратор decoFn сработал')\n",
    "    return C\n",
    "\n",
    "\n",
    "# Класс-декоратор\n",
    "class DecClass:\n",
    "    def __init__(self, c: Any):\n",
    "        print('Декоратор DecClass сработал')\n",
    "        self._c = c\n",
    "\n",
    "    def __call__(self, *args: tuple[Any], **kwargs: dict[str, Any]):\n",
    "        print('__call__ called')\n",
    "        self._c(*args, **kwargs)"
   ]
  },
  {
   "cell_type": "code",
   "execution_count": 67,
   "id": "ac5bf7e1",
   "metadata": {},
   "outputs": [
    {
     "data": {
      "text/html": [
       "<pre style=\"white-space:pre;overflow-x:auto;line-height:normal;font-family:Menlo,'DejaVu Sans Mono',consolas,'Courier New',monospace\">Декоратор decoFn сработал\n",
       "</pre>\n"
      ],
      "text/plain": [
       "Декоратор decoFn сработал\n"
      ]
     },
     "metadata": {},
     "output_type": "display_data"
    },
    {
     "data": {
      "text/html": [
       "<pre style=\"white-space:pre;overflow-x:auto;line-height:normal;font-family:Menlo,'DejaVu Sans Mono',consolas,'Courier New',monospace\">Декоратор DecClass сработал\n",
       "</pre>\n"
      ],
      "text/plain": [
       "Декоратор DecClass сработал\n"
      ]
     },
     "metadata": {},
     "output_type": "display_data"
    },
    {
     "data": {
      "text/html": [
       "<pre style=\"white-space:pre;overflow-x:auto;line-height:normal;font-family:Menlo,'DejaVu Sans Mono',consolas,'Courier New',monospace\">__call__ called\n",
       "</pre>\n"
      ],
      "text/plain": [
       "__call__ called\n"
      ]
     },
     "metadata": {},
     "output_type": "display_data"
    }
   ],
   "source": [
    "@decoFn\n",
    "class Class0: pass   # noqa\n",
    "\n",
    "@DecClass\n",
    "class  Class1: pass  # noqa\n",
    "\n",
    "tmp_obj_0 = Class0()\n",
    "tmp_obj_1 = Class1()"
   ]
  },
  {
   "cell_type": "markdown",
   "id": "3b17fa44",
   "metadata": {},
   "source": [
    "## Обработка доступа к свойствам экземпляра"
   ]
  },
  {
   "cell_type": "code",
   "execution_count": null,
   "id": "6c09401f",
   "metadata": {},
   "outputs": [],
   "source": [
    "class CustomClass:\n",
    "    \n",
    "    # При присвоении значения атрибуту\n",
    "    def __setattr__(self, key: str, value: str):\n",
    "        print(f'__setattr__: {key} = {value}')\n",
    "        # self.name = value ВЫЗЫВАЕТ РЕКУРСИВНОЕ ПРИСВАИВАНИЕ\n",
    "        return object.__setattr__(self, key, value)\n",
    "    \n",
    "    # При обращении к атрибуту\n",
    "    # Если => AttributeError, то __getattr__()\n",
    "    def __getattribute__(self, item: str):\n",
    "        print(f'__getattribute__: {item}')\n",
    "        return object.__getattribute__(self, item)\n",
    "    \n",
    "    # При обращении к несуществующему атрибуту\n",
    "    def __getattr__(self, item: str):\n",
    "        print(f'__getattr__: {item} NOT FOUND')\n",
    "        return None\n",
    "    \n",
    "    # При попытке удаления атрибута\n",
    "    def __delattr__(self, item: str):\n",
    "        print(f'__delattr__: {item} removed')\n",
    "        object.__delattr__(self, item)"
   ]
  },
  {
   "cell_type": "code",
   "execution_count": 54,
   "id": "fb501bcd",
   "metadata": {},
   "outputs": [
    {
     "data": {
      "text/html": [
       "<pre style=\"white-space:pre;overflow-x:auto;line-height:normal;font-family:Menlo,'DejaVu Sans Mono',consolas,'Courier New',monospace\">__getattribute__: a\n",
       "</pre>\n"
      ],
      "text/plain": [
       "__getattribute__: a\n"
      ]
     },
     "metadata": {},
     "output_type": "display_data"
    },
    {
     "data": {
      "text/html": [
       "<pre style=\"white-space:pre;overflow-x:auto;line-height:normal;font-family:Menlo,'DejaVu Sans Mono',consolas,'Courier New',monospace\">__getattr__: a NOT FOUND\n",
       "</pre>\n"
      ],
      "text/plain": [
       "__getattr__: a NOT FOUND\n"
      ]
     },
     "metadata": {},
     "output_type": "display_data"
    },
    {
     "data": {
      "text/html": [
       "<pre style=\"white-space:pre;overflow-x:auto;line-height:normal;font-family:Menlo,'DejaVu Sans Mono',consolas,'Courier New',monospace\">__setattr__: a = property\n",
       "</pre>\n"
      ],
      "text/plain": [
       "__setattr__: a = property\n"
      ]
     },
     "metadata": {},
     "output_type": "display_data"
    },
    {
     "data": {
      "text/html": [
       "<pre style=\"white-space:pre;overflow-x:auto;line-height:normal;font-family:Menlo,'DejaVu Sans Mono',consolas,'Courier New',monospace\">__getattribute__: a\n",
       "</pre>\n"
      ],
      "text/plain": [
       "__getattribute__: a\n"
      ]
     },
     "metadata": {},
     "output_type": "display_data"
    },
    {
     "data": {
      "text/html": [
       "<pre style=\"white-space:pre;overflow-x:auto;line-height:normal;font-family:Menlo,'DejaVu Sans Mono',consolas,'Courier New',monospace\">__delattr__: a removed\n",
       "</pre>\n"
      ],
      "text/plain": [
       "__delattr__: a removed\n"
      ]
     },
     "metadata": {},
     "output_type": "display_data"
    }
   ],
   "source": [
    "custom_object = CustomClass()\n",
    "custom_object.a\n",
    "custom_object.a = 'property'\n",
    "custom_object.a\n",
    "del custom_object.a"
   ]
  },
  {
   "cell_type": "markdown",
   "id": "a68c486f",
   "metadata": {},
   "source": [
    "## Наследование"
   ]
  },
  {
   "cell_type": "markdown",
   "id": "7c0594ae",
   "metadata": {},
   "source": [
    "### Прямое"
   ]
  },
  {
   "cell_type": "code",
   "execution_count": null,
   "id": "60c96da3",
   "metadata": {},
   "outputs": [
    {
     "data": {
      "text/html": [
       "<pre style=\"white-space:pre;overflow-x:auto;line-height:normal;font-family:Menlo,'DejaVu Sans Mono',consolas,'Courier New',monospace\"><span style=\"color: #800080; text-decoration-color: #800080; font-weight: bold\">Child.__init__</span><span style=\"font-weight: bold\">()</span>\n",
       "</pre>\n"
      ],
      "text/plain": [
       "\u001b[1;35mChild.__init__\u001b[0m\u001b[1m(\u001b[0m\u001b[1m)\u001b[0m\n"
      ]
     },
     "metadata": {},
     "output_type": "display_data"
    },
    {
     "data": {
      "text/html": [
       "<pre style=\"white-space:pre;overflow-x:auto;line-height:normal;font-family:Menlo,'DejaVu Sans Mono',consolas,'Courier New',monospace\"><span style=\"color: #800080; text-decoration-color: #800080; font-weight: bold\">Base.__init__</span><span style=\"font-weight: bold\">()</span>\n",
       "</pre>\n"
      ],
      "text/plain": [
       "\u001b[1;35mBase.__init__\u001b[0m\u001b[1m(\u001b[0m\u001b[1m)\u001b[0m\n"
      ]
     },
     "metadata": {},
     "output_type": "display_data"
    },
    {
     "data": {
      "text/html": [
       "<pre style=\"white-space:pre;overflow-x:auto;line-height:normal;font-family:Menlo,'DejaVu Sans Mono',consolas,'Courier New',monospace\"><span style=\"color: #800080; text-decoration-color: #800080; font-weight: bold\">Base.foo</span><span style=\"font-weight: bold\">()</span>\n",
       "</pre>\n"
      ],
      "text/plain": [
       "\u001b[1;35mBase.foo\u001b[0m\u001b[1m(\u001b[0m\u001b[1m)\u001b[0m\n"
      ]
     },
     "metadata": {},
     "output_type": "display_data"
    }
   ],
   "source": [
    "class Base:  # Базовый класс\n",
    "    def __init__(self):\n",
    "        print('Base.__init__()')\n",
    "\n",
    "    def foo(self):\n",
    "        print('Base.foo()')\n",
    "\n",
    "\n",
    "class Child(Base):  # Класс Child наследуется от Base\n",
    "    def __init__(self):\n",
    "        print('Child.__init__()')\n",
    "\n",
    "        # Вызов конструктора Base\n",
    "        super().__init__()  # Base.__init__(self)\n",
    "                            # super(Child, self).__init__()\n",
    "\n",
    "    def func1(self):\n",
    "        print('Child.foo()')\n",
    "        Child.func1(self)\n",
    "\n",
    "\n",
    "child_obj = Child()\n",
    "child_obj.foo()"
   ]
  },
  {
   "cell_type": "markdown",
   "id": "9f8a02d3",
   "metadata": {},
   "source": [
    "### Множественное\n",
    "Поиск слева направо. Останавливается на первом найденном."
   ]
  },
  {
   "cell_type": "code",
   "execution_count": 74,
   "id": "35c53912",
   "metadata": {},
   "outputs": [
    {
     "data": {
      "text/html": [
       "<pre style=\"white-space:pre;overflow-x:auto;line-height:normal;font-family:Menlo,'DejaVu Sans Mono',consolas,'Courier New',monospace\">Метод <span style=\"color: #800080; text-decoration-color: #800080; font-weight: bold\">func1</span><span style=\"font-weight: bold\">()</span> класса Child1\n",
       "</pre>\n"
      ],
      "text/plain": [
       "Метод \u001b[1;35mfunc1\u001b[0m\u001b[1m(\u001b[0m\u001b[1m)\u001b[0m класса Child1\n"
      ]
     },
     "metadata": {},
     "output_type": "display_data"
    },
    {
     "data": {
      "text/html": [
       "<pre style=\"white-space:pre;overflow-x:auto;line-height:normal;font-family:Menlo,'DejaVu Sans Mono',consolas,'Courier New',monospace\">Метод <span style=\"color: #800080; text-decoration-color: #800080; font-weight: bold\">func2</span><span style=\"font-weight: bold\">()</span> класса Child0\n",
       "</pre>\n"
      ],
      "text/plain": [
       "Метод \u001b[1;35mfunc2\u001b[0m\u001b[1m(\u001b[0m\u001b[1m)\u001b[0m класса Child0\n"
      ]
     },
     "metadata": {},
     "output_type": "display_data"
    },
    {
     "data": {
      "text/html": [
       "<pre style=\"white-space:pre;overflow-x:auto;line-height:normal;font-family:Menlo,'DejaVu Sans Mono',consolas,'Courier New',monospace\">Метод <span style=\"color: #800080; text-decoration-color: #800080; font-weight: bold\">func3</span><span style=\"font-weight: bold\">()</span> класса Child1\n",
       "</pre>\n"
      ],
      "text/plain": [
       "Метод \u001b[1;35mfunc3\u001b[0m\u001b[1m(\u001b[0m\u001b[1m)\u001b[0m класса Child1\n"
      ]
     },
     "metadata": {},
     "output_type": "display_data"
    },
    {
     "data": {
      "text/html": [
       "<pre style=\"white-space:pre;overflow-x:auto;line-height:normal;font-family:Menlo,'DejaVu Sans Mono',consolas,'Courier New',monospace\">Метод <span style=\"color: #800080; text-decoration-color: #800080; font-weight: bold\">func4</span><span style=\"font-weight: bold\">()</span> класса MultiChild\n",
       "</pre>\n"
      ],
      "text/plain": [
       "Метод \u001b[1;35mfunc4\u001b[0m\u001b[1m(\u001b[0m\u001b[1m)\u001b[0m класса MultiChild\n"
      ]
     },
     "metadata": {},
     "output_type": "display_data"
    },
    {
     "data": {
      "text/html": [
       "<pre style=\"white-space:pre;overflow-x:auto;line-height:normal;font-family:Menlo,'DejaVu Sans Mono',consolas,'Courier New',monospace\"><span style=\"font-weight: bold\">(&lt;</span><span style=\"color: #ff00ff; text-decoration-color: #ff00ff; font-weight: bold\">class</span><span style=\"color: #000000; text-decoration-color: #000000\"> </span><span style=\"color: #008000; text-decoration-color: #008000\">'object'</span><span style=\"font-weight: bold\">&gt;</span>,<span style=\"font-weight: bold\">)</span>\n",
       "</pre>\n"
      ],
      "text/plain": [
       "\u001b[1m(\u001b[0m\u001b[1m<\u001b[0m\u001b[1;95mclass\u001b[0m\u001b[39m \u001b[0m\u001b[32m'object'\u001b[0m\u001b[1m>\u001b[0m,\u001b[1m)\u001b[0m\n"
      ]
     },
     "metadata": {},
     "output_type": "display_data"
    },
    {
     "data": {
      "text/html": [
       "<pre style=\"white-space:pre;overflow-x:auto;line-height:normal;font-family:Menlo,'DejaVu Sans Mono',consolas,'Courier New',monospace\"><span style=\"font-weight: bold\">(&lt;</span><span style=\"color: #ff00ff; text-decoration-color: #ff00ff; font-weight: bold\">class</span><span style=\"color: #000000; text-decoration-color: #000000\"> </span><span style=\"color: #008000; text-decoration-color: #008000\">'__main__.Base'</span><span style=\"font-weight: bold\">&gt;</span>,<span style=\"font-weight: bold\">)</span>\n",
       "</pre>\n"
      ],
      "text/plain": [
       "\u001b[1m(\u001b[0m\u001b[1m<\u001b[0m\u001b[1;95mclass\u001b[0m\u001b[39m \u001b[0m\u001b[32m'__main__.Base'\u001b[0m\u001b[1m>\u001b[0m,\u001b[1m)\u001b[0m\n"
      ]
     },
     "metadata": {},
     "output_type": "display_data"
    },
    {
     "data": {
      "text/html": [
       "<pre style=\"white-space:pre;overflow-x:auto;line-height:normal;font-family:Menlo,'DejaVu Sans Mono',consolas,'Courier New',monospace\"><span style=\"font-weight: bold\">(&lt;</span><span style=\"color: #ff00ff; text-decoration-color: #ff00ff; font-weight: bold\">class</span><span style=\"color: #000000; text-decoration-color: #000000\"> </span><span style=\"color: #008000; text-decoration-color: #008000\">'__main__.Base'</span><span style=\"font-weight: bold\">&gt;</span>,<span style=\"font-weight: bold\">)</span>\n",
       "</pre>\n"
      ],
      "text/plain": [
       "\u001b[1m(\u001b[0m\u001b[1m<\u001b[0m\u001b[1;95mclass\u001b[0m\u001b[39m \u001b[0m\u001b[32m'__main__.Base'\u001b[0m\u001b[1m>\u001b[0m,\u001b[1m)\u001b[0m\n"
      ]
     },
     "metadata": {},
     "output_type": "display_data"
    },
    {
     "data": {
      "text/html": [
       "<pre style=\"white-space:pre;overflow-x:auto;line-height:normal;font-family:Menlo,'DejaVu Sans Mono',consolas,'Courier New',monospace\"><span style=\"font-weight: bold\">(&lt;</span><span style=\"color: #ff00ff; text-decoration-color: #ff00ff; font-weight: bold\">class</span><span style=\"color: #000000; text-decoration-color: #000000\"> </span><span style=\"color: #008000; text-decoration-color: #008000\">'__main__.Child0'</span><span style=\"color: #000000; text-decoration-color: #000000\">&gt;, &lt;class </span><span style=\"color: #008000; text-decoration-color: #008000\">'__main__.Child1'</span><span style=\"font-weight: bold\">&gt;)</span>\n",
       "</pre>\n"
      ],
      "text/plain": [
       "\u001b[1m(\u001b[0m\u001b[1m<\u001b[0m\u001b[1;95mclass\u001b[0m\u001b[39m \u001b[0m\u001b[32m'__main__.Child0'\u001b[0m\u001b[39m>, <class \u001b[0m\u001b[32m'__main__.Child1'\u001b[0m\u001b[1m>\u001b[0m\u001b[1m)\u001b[0m\n"
      ]
     },
     "metadata": {},
     "output_type": "display_data"
    }
   ],
   "source": [
    "class Base:          # Базовый класс\n",
    "    def func1(self):\n",
    "        print('Метод func1() класса Base')\n",
    "\n",
    "\n",
    "class Child0(Base):  # Класс Child0 наследует класс Base\n",
    "    def func2(self):\n",
    "        print('Метод func2() класса Child0')\n",
    "\n",
    "\n",
    "class Child1(Base):  # Класс Child1 наследует класс Base\n",
    "    def func1(self):\n",
    "        print('Метод func1() класса Child1')\n",
    "\n",
    "    def func2(self):\n",
    "        print('Метод func2() класса Child1')\n",
    "\n",
    "    def func3(self):\n",
    "        print('Метод func3() класса Child1')\n",
    "\n",
    "    def func4(self):\n",
    "        print('Метод func4() класса Child1')\n",
    "\n",
    "\n",
    "class MultiChild(Child0, Child1):  # Множественное наследование\n",
    "    def func4(self):\n",
    "        print('Метод func4() класса MultiChild')\n",
    "\n",
    "\n",
    "c = MultiChild()\n",
    "c.func1()  # Child1\n",
    "c.func2()  # Child0\n",
    "c.func3()  # Child1\n",
    "c.func4()  # MultiChild\n",
    "\n",
    "# __bases__ используется для получения базовых классов\n",
    "print(Base.__bases__)\n",
    "print(Child0.__bases__)\n",
    "print(Child1.__bases__)\n",
    "print(MultiChild.__bases__)"
   ]
  },
  {
   "cell_type": "markdown",
   "id": "390186ac",
   "metadata": {},
   "source": [
    "### MRO"
   ]
  },
  {
   "cell_type": "code",
   "execution_count": null,
   "id": "951126e6",
   "metadata": {},
   "outputs": [
    {
     "data": {
      "text/html": [
       "<pre style=\"white-space:pre;overflow-x:auto;line-height:normal;font-family:Menlo,'DejaVu Sans Mono',consolas,'Courier New',monospace\"><span style=\"font-weight: bold\">(</span>\n",
       "    <span style=\"font-weight: bold\">&lt;</span><span style=\"color: #ff00ff; text-decoration-color: #ff00ff; font-weight: bold\">class</span><span style=\"color: #000000; text-decoration-color: #000000\"> </span><span style=\"color: #008000; text-decoration-color: #008000\">'__main__.Class7'</span><span style=\"color: #000000; text-decoration-color: #000000\">&gt;,</span>\n",
       "<span style=\"color: #000000; text-decoration-color: #000000\">    &lt;class </span><span style=\"color: #008000; text-decoration-color: #008000\">'__main__.Class4'</span><span style=\"color: #000000; text-decoration-color: #000000\">&gt;,</span>\n",
       "<span style=\"color: #000000; text-decoration-color: #000000\">    &lt;class </span><span style=\"color: #008000; text-decoration-color: #008000\">'__main__.Class3'</span><span style=\"color: #000000; text-decoration-color: #000000\">&gt;,</span>\n",
       "<span style=\"color: #000000; text-decoration-color: #000000\">    &lt;class </span><span style=\"color: #008000; text-decoration-color: #008000\">'__main__.Class6'</span><span style=\"color: #000000; text-decoration-color: #000000\">&gt;,</span>\n",
       "<span style=\"color: #000000; text-decoration-color: #000000\">    &lt;class </span><span style=\"color: #008000; text-decoration-color: #008000\">'__main__.Class5'</span><span style=\"color: #000000; text-decoration-color: #000000\">&gt;,</span>\n",
       "<span style=\"color: #000000; text-decoration-color: #000000\">    &lt;class </span><span style=\"color: #008000; text-decoration-color: #008000\">'__main__.Class2'</span><span style=\"color: #000000; text-decoration-color: #000000\">&gt;,</span>\n",
       "<span style=\"color: #000000; text-decoration-color: #000000\">    &lt;class </span><span style=\"color: #008000; text-decoration-color: #008000\">'__main__.Class1'</span><span style=\"color: #000000; text-decoration-color: #000000\">&gt;,</span>\n",
       "<span style=\"color: #000000; text-decoration-color: #000000\">    &lt;class </span><span style=\"color: #008000; text-decoration-color: #008000\">'object'</span><span style=\"font-weight: bold\">&gt;</span>\n",
       "<span style=\"font-weight: bold\">)</span>\n",
       "</pre>\n"
      ],
      "text/plain": [
       "\u001b[1m(\u001b[0m\n",
       "    \u001b[1m<\u001b[0m\u001b[1;95mclass\u001b[0m\u001b[39m \u001b[0m\u001b[32m'__main__.Class7'\u001b[0m\u001b[39m>,\u001b[0m\n",
       "\u001b[39m    <class \u001b[0m\u001b[32m'__main__.Class4'\u001b[0m\u001b[39m>,\u001b[0m\n",
       "\u001b[39m    <class \u001b[0m\u001b[32m'__main__.Class3'\u001b[0m\u001b[39m>,\u001b[0m\n",
       "\u001b[39m    <class \u001b[0m\u001b[32m'__main__.Class6'\u001b[0m\u001b[39m>,\u001b[0m\n",
       "\u001b[39m    <class \u001b[0m\u001b[32m'__main__.Class5'\u001b[0m\u001b[39m>,\u001b[0m\n",
       "\u001b[39m    <class \u001b[0m\u001b[32m'__main__.Class2'\u001b[0m\u001b[39m>,\u001b[0m\n",
       "\u001b[39m    <class \u001b[0m\u001b[32m'__main__.Class1'\u001b[0m\u001b[39m>,\u001b[0m\n",
       "\u001b[39m    <class \u001b[0m\u001b[32m'object'\u001b[0m\u001b[1m>\u001b[0m\n",
       "\u001b[1m)\u001b[0m\n"
      ]
     },
     "metadata": {},
     "output_type": "display_data"
    }
   ],
   "source": [
    "class Class1: pass\n",
    "class Class2(Class1): pass\n",
    "class Class3(Class2): pass\n",
    "class Class4(Class3): pass\n",
    "class Class5(Class2): pass\n",
    "class Class6(Class5): pass\n",
    "class Class7(Class4, Class6):pass\n",
    "c = Class7()\n",
    "\n",
    "#__mro__ - цепочка наследования\n",
    "print(Class7.__mro__)"
   ]
  },
  {
   "cell_type": "markdown",
   "id": "5682434a",
   "metadata": {},
   "source": [
    "## Абстракция"
   ]
  },
  {
   "cell_type": "markdown",
   "id": "07f48437",
   "metadata": {},
   "source": [
    "### Без декоратора"
   ]
  },
  {
   "cell_type": "code",
   "execution_count": 86,
   "id": "4aa8761d",
   "metadata": {},
   "outputs": [
    {
     "data": {
      "text/plain": [
       "'string'"
      ]
     },
     "execution_count": 86,
     "metadata": {},
     "output_type": "execute_result"
    }
   ],
   "source": [
    "class AbstractClass:\n",
    "    def abstract_method(self) -> str:  # noqa\n",
    "        raise NotImplementedError('Надо бы переопределить')\n",
    "\n",
    "class SomeClass(AbstractClass):\n",
    "    def abstract_method(self) -> str:\n",
    "        return 'string'\n",
    "    \n",
    "c = SomeClass()\n",
    "c.abstract_method()"
   ]
  },
  {
   "cell_type": "markdown",
   "id": "67299c84",
   "metadata": {},
   "source": [
    "### С декоратором"
   ]
  },
  {
   "cell_type": "code",
   "execution_count": 96,
   "id": "9161ab8b",
   "metadata": {},
   "outputs": [
    {
     "data": {
      "text/html": [
       "<pre style=\"white-space:pre;overflow-x:auto;line-height:normal;font-family:Menlo,'DejaVu Sans Mono',consolas,'Courier New',monospace\">fooooo\n",
       "</pre>\n"
      ],
      "text/plain": [
       "fooooo\n"
      ]
     },
     "metadata": {},
     "output_type": "display_data"
    }
   ],
   "source": [
    "from abc import ABCMeta, abstractmethod\n",
    "\n",
    "class ABClass(metaclass=ABCMeta):\n",
    "    @abstractmethod  # Абстрактный метод\n",
    "    def foo(self):\n",
    "        pass\n",
    "\n",
    "    @classmethod     # Абстрактный метод КЛАССА\n",
    "    @abstractmethod\n",
    "    def class_foo(cls):\n",
    "        print('Abstract static method')\n",
    "    \n",
    "    @staticmethod   # Абстрактный статический метод\n",
    "    @abstractmethod\n",
    "    def static_foo():\n",
    "        print('Abstract static method')\n",
    "\n",
    "class Child(ABClass):\n",
    "    def foo(self): print('fooooo')\n",
    "\n",
    "    @classmethod\n",
    "    def class_foo(cls): pass\n",
    "\n",
    "    @staticmethod\n",
    "    def static_foo(): pass\n",
    "\n",
    "try:\n",
    "    c = Child()\n",
    "    c.foo()\n",
    "except TypeError:\n",
    "    print('Not implemented methods')"
   ]
  },
  {
   "cell_type": "markdown",
   "id": "80a63ce7",
   "metadata": {},
   "source": [
    "## DUnder methods\n",
    "\n",
    "[Документация](https://docs.python.org/3/reference/datamodel.html#special-method-names)"
   ]
  },
  {
   "cell_type": "markdown",
   "id": "93888a87",
   "metadata": {},
   "source": [
    "### `__new__`/`__init__`/`__del__`\n",
    "Выполняется до инициализации объекта"
   ]
  },
  {
   "cell_type": "code",
   "execution_count": 116,
   "id": "c87409e5",
   "metadata": {},
   "outputs": [],
   "source": [
    "class SomeClass:\n",
    "    # До создания объекта\n",
    "    def __new__(cls):  # Должен возвращать адрес объекта\n",
    "        print('__new__ called')\n",
    "        print(super)\n",
    "        \n",
    "        # object.__new__(cls) создает экземпляр класса\n",
    "        return super().__new__(cls)  # => new object address\n",
    "\n",
    "    # После создания объекта\n",
    "    def __init__(self):\n",
    "        self.x = 10\n",
    "        print('__init__ called')\n",
    "\n",
    "    # Перед удалением\n",
    "    def __del__(self):\n",
    "        print(\"__del__ called\")"
   ]
  },
  {
   "cell_type": "code",
   "execution_count": 117,
   "id": "a1206a91",
   "metadata": {},
   "outputs": [
    {
     "data": {
      "text/html": [
       "<pre style=\"white-space:pre;overflow-x:auto;line-height:normal;font-family:Menlo,'DejaVu Sans Mono',consolas,'Courier New',monospace\">__new__ called\n",
       "</pre>\n"
      ],
      "text/plain": [
       "__new__ called\n"
      ]
     },
     "metadata": {},
     "output_type": "display_data"
    },
    {
     "data": {
      "text/html": [
       "<pre style=\"white-space:pre;overflow-x:auto;line-height:normal;font-family:Menlo,'DejaVu Sans Mono',consolas,'Courier New',monospace\"><span style=\"font-weight: bold\">&lt;</span><span style=\"color: #ff00ff; text-decoration-color: #ff00ff; font-weight: bold\">class</span><span style=\"color: #000000; text-decoration-color: #000000\"> </span><span style=\"color: #008000; text-decoration-color: #008000\">'super'</span><span style=\"font-weight: bold\">&gt;</span>\n",
       "</pre>\n"
      ],
      "text/plain": [
       "\u001b[1m<\u001b[0m\u001b[1;95mclass\u001b[0m\u001b[39m \u001b[0m\u001b[32m'super'\u001b[0m\u001b[1m>\u001b[0m\n"
      ]
     },
     "metadata": {},
     "output_type": "display_data"
    },
    {
     "data": {
      "text/html": [
       "<pre style=\"white-space:pre;overflow-x:auto;line-height:normal;font-family:Menlo,'DejaVu Sans Mono',consolas,'Courier New',monospace\">__init__ called\n",
       "</pre>\n"
      ],
      "text/plain": [
       "__init__ called\n"
      ]
     },
     "metadata": {},
     "output_type": "display_data"
    },
    {
     "data": {
      "text/html": [
       "<pre style=\"white-space:pre;overflow-x:auto;line-height:normal;font-family:Menlo,'DejaVu Sans Mono',consolas,'Courier New',monospace\">__del__ called\n",
       "</pre>\n"
      ],
      "text/plain": [
       "__del__ called\n"
      ]
     },
     "metadata": {},
     "output_type": "display_data"
    }
   ],
   "source": [
    "obj = SomeClass()\n",
    "\n",
    "del obj"
   ]
  },
  {
   "cell_type": "markdown",
   "id": "a8325d92",
   "metadata": {},
   "source": [
    "### Прочие"
   ]
  },
  {
   "cell_type": "markdown",
   "id": "7d728300",
   "metadata": {},
   "source": [
    "```python\n",
    "__len__(self)        # при использовании функции len()\n",
    "__bool__(self)       # при использовании функции bool();\n",
    "__int__(self)        # при преобразовании с помощью функции int();\n",
    "__float__(self)      # при преобразовании с помощью функции float();\n",
    "__complex__(self)    # при преобразовании с помощью функции complex();\n",
    "__round__(self, n)   # при использовании функции round();\n",
    "__index__(self)      # при использовании функций bin(), hex() и oct();\n",
    "__repr__(self)       # при выводе в интерактивной оболочке или repr()\n",
    "__str__(self)        # при print() или str()\n",
    "__hash__(self)       # Если экземпляр используется как значение dict||tuple\n",
    "```"
   ]
  },
  {
   "cell_type": "markdown",
   "id": "72d85061",
   "metadata": {},
   "source": [
    "### Сравнение"
   ]
  },
  {
   "cell_type": "markdown",
   "id": "957cdb15",
   "metadata": {},
   "source": [
    "```python\n",
    "x == y    # равно: x.__eq__(y);\n",
    "x != y    # не равно: x.__ne__(y);\n",
    "x < y     # меньше: x.__lt__(y);\n",
    "x > y     # больше: x.__gt__(y);\n",
    "x <= y    # меньше или равно: x.__le__(y);\n",
    "x >= y    # больше или равно: x.__ge__(y);\n",
    "y in x    # проверка на вхождение: x.__contains__(y).\n",
    "```"
   ]
  },
  {
   "cell_type": "markdown",
   "id": "654320ae",
   "metadata": {},
   "source": [
    "### Математические"
   ]
  },
  {
   "cell_type": "markdown",
   "id": "766d9e00",
   "metadata": {},
   "source": [
    "```python\n",
    "x + y    # x.__add__(y)\n",
    "y + x    # x.__radd__(y)  Экземпляр справа\n",
    "x += y   # x.__iadd__(y)\n",
    "x — y    # x.__sub__(y)\n",
    "y — x    # x.__rsub__(y)  Экземпляр справа\n",
    "x -= y   # x.__isub__(y)\n",
    "x * y    # x.__mul__(y)\n",
    "y * x    # x.__rmul__(y)  Экземпляр справа\n",
    "x *= y   # x.__imul__(y)\n",
    "x / y    # x.__truediv__(y)\n",
    "y / x    # x.__rtruediv__(y)   Экземпляр справа\n",
    "x /= y   # x.__itruediv__(y)\n",
    "x // y   # x.__floordiv__(y)\n",
    "y // x   # x.__rfloordiv__(y)  Экземпляр справа\n",
    "x //= y  # x.__ifloordiv__(y)\n",
    "x % y    # x.__mod__(y)\n",
    "y % x    # x.__rmod__(y)  Экземпляр справа\n",
    "x %= y   # x.__imod__(y)\n",
    "x  y   # x.__pow__(y)\n",
    "y  x   # x.__rpow__(y)  Экземпляр справа\n",
    "x = y  # x.__ipow__(y)\n",
    "-x       # x.__neg__()\n",
    "+x       # x.__pos__()\n",
    "abs(x)   # x.__abs__()\n",
    "```"
   ]
  },
  {
   "cell_type": "markdown",
   "id": "37394b25",
   "metadata": {},
   "source": [
    "### Двоичные"
   ]
  },
  {
   "cell_type": "markdown",
   "id": "91e86959",
   "metadata": {},
   "source": [
    "```python\n",
    "~x       # двоичная инверсия: x.__invert__();\n",
    "x & y    # двоичное И: x.__and__(y);\n",
    "y & x    # двоичное И (экземпляр класса справа): x.__rand__(y);\n",
    "x &= y   # двоичное И и присваивание: x.__iand__(y);\n",
    "x | y    # двоичное ИЛИ: x.__or__(y);\n",
    "y | x    # двоичное ИЛИ (экземпляр класса справа): x.__ror__(y);\n",
    "x |= y   # двоичное ИЛИ и присваивание: x.__ior__(y);\n",
    "x ^ y    # двоичное исключающее ИЛИ: x.__xor__(y);\n",
    "y ^ x    # двоичное исключающее ИЛИ (экземпляр класса справа): x.__rxor__(y);\n",
    "x ^= y   # двоичное исключающее ИЛИ и присваивание: x.__ixor__(y);\n",
    "x << y   # сдвиг влево: x.__lshift__(y);\n",
    "y << x   # сдвиг влево (экземпляр класса справа): x.__rlshift__(y);\n",
    "x <<= y  # сдвиг влево и присваивание: x.__ilshift__(y);\n",
    "x >> y   # сдвиг вправо: x.__rshift__(y);\n",
    "y >> x   # сдвиг вправо (экземпляр класса справа): x.__rrshift__(y);\n",
    "x >>= y  # сдвиг вправо и присваивание: x.__irshift__(y).\n",
    "```"
   ]
  },
  {
   "cell_type": "markdown",
   "id": "7eb8e7c3",
   "metadata": {},
   "source": [
    "## Дексрипторы"
   ]
  },
  {
   "cell_type": "markdown",
   "id": "2f924501",
   "metadata": {},
   "source": [
    "```python\n",
    "# Встроенные дескрипторы\n",
    "property            # DD для управляемых атрибутов\n",
    "staticmethod        # NDD для статических методов\n",
    "classmethod         # NDD для методов класса\n",
    "function            # NDD (обычные методы становятся bound methods)\n",
    "super               # NDD для доступа к родительскому классу\n",
    "cached_property     # NDD с кэшированием\n",
    "member_descriptor   # DD для __slots__\n",
    "getset_descriptor   # Внутренний дескриптор для C-расширений\n",
    "```"
   ]
  },
  {
   "cell_type": "markdown",
   "id": "afc1f59b",
   "metadata": {},
   "source": [
    "❗ Порядок разрешения атрибутов:\\\n",
    "1. `__getattribute__` класса объекта\\\n",
    "2. `property`/`Data Descriptor`\\\n",
    "3. `__dict__`\\\n",
    "4. `Non Data Descriptor`\\\n",
    "5. `Class Attr`\\\n",
    "4. `__getattr__`"
   ]
  },
  {
   "cell_type": "markdown",
   "id": "d32bc59f",
   "metadata": {},
   "source": [
    "### Протокол дескрипторов\n",
    "- `__get__(self, instance, owner)`: Управляет доступом к атрибуту. Возвращает значение атрибута.\n",
    "  - `instance`: экземпляр класса, для которого был запрошен атрибут.\n",
    "  - `owner`: класс экземпляра.\n",
    "- `__set__(self, instance, value)`: Устанавливает значение атрибута.\n",
    "  - `instance`: экземпляр класса, атрибут которого устанавливается.\n",
    "  - `value`: значение, присваиваемое атрибуту.\n",
    "- `__delete__(self, instance)`: Удаляет атрибут.\n",
    "  - `instance`: экземпляр класса, атрибут которого удаляется."
   ]
  },
  {
   "cell_type": "markdown",
   "id": "4d5cafcd",
   "metadata": {},
   "source": [
    "### Виды дескрипторов\n",
    "- Non-data дескрипторы: Имеют только метод `__get__`. Могут быть переопределены атрибутами экземпляра.\n",
    "- Data дескрипторы: Имеют методы `__set__` и/или `__delete__`. Имеют приоритет над атрибутами экземпляра."
   ]
  }
 ],
 "metadata": {
  "kernelspec": {
   "display_name": "py-experiments",
   "language": "python",
   "name": "python3"
  },
  "language_info": {
   "codemirror_mode": {
    "name": "ipython",
    "version": 3
   },
   "file_extension": ".py",
   "mimetype": "text/x-python",
   "name": "python",
   "nbconvert_exporter": "python",
   "pygments_lexer": "ipython3",
   "version": "3.12.10"
  }
 },
 "nbformat": 4,
 "nbformat_minor": 5
}
