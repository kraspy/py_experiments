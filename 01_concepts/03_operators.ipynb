{
 "cells": [
  {
   "cell_type": "markdown",
   "id": "a3399488",
   "metadata": {},
   "source": [
    "| Категория                  | Операторы                                        | Описание                            |\n",
    "| -------------------------- | ------------------------------------------------ | ----------------------------------- |\n",
    "| **Арифметические**         | `+`, `-`, `*`, `/`, `//`, `%`, `**`              | Математические операции             |\n",
    "| **Операторы сравнения**    | `==`, `!=`, `<`, `>`, `<=`, `>=`, `is`, `is not` | Сравнение значений                  |\n",
    "| **Логические операторы**   | `and`, `or`, `not`                               | Логические операции                 |\n",
    "| **Операторы присваивания** | `=`, `+=`, `-=`, `*=`, `/=`, `//=`, `%=`, `**=`  | Присваивание и сокращенные операции |\n",
    "| **Битовые операторы**      | `&`, \\|, `^`, `~`, `<<`, `>>`                    | Операции с битами                   |"
   ]
  },
  {
   "cell_type": "markdown",
   "id": "5c78b4cf",
   "metadata": {},
   "source": [
    "## Приоритет операторов\n",
    "| Приоритет       | Операторы                                        |\n",
    "| --------------- | ------------------------------------------------ |\n",
    "| **1 (высший)**  | `()` (группировка), `[]`, `{}`                   |\n",
    "| **2**           | `**` (возведение в степень)                      |\n",
    "| **3**           | `+x`, `-x`, `~x` (унарные)                       |\n",
    "| **4**           | `*`, `/`, `//`, `%`                              |\n",
    "| **5**           | `+`, `-`                                         |\n",
    "| **6**           | `<<`, `>>` (битовые сдвиги)                      |\n",
    "| **7**           | `&` (побитовое И)                                |\n",
    "| **8**           | `^` (побитовое исключающее ИЛИ)                  |\n",
    "| **9**           | `\\|`  (побитовое ИЛИ)                            |\n",
    "| **10**          | `==`, `!=`, `<`, `>`, `<=`, `>=`, `is`, `is not` |\n",
    "| **11**          | `not x`                                          |\n",
    "| **12**          | `and`                                            |\n",
    "| **13 (низший)** | `or`                                             |"
   ]
  },
  {
   "cell_type": "markdown",
   "id": "bd6c0030",
   "metadata": {},
   "source": [
    "## Арифметика"
   ]
  },
  {
   "cell_type": "code",
   "execution_count": 1,
   "id": "a3aed77b",
   "metadata": {},
   "outputs": [
    {
     "name": "stdout",
     "output_type": "stream",
     "text": [
      "7\n",
      "-1\n",
      "12\n",
      "0.75\n",
      "0\n",
      "3\n",
      "81\n"
     ]
    }
   ],
   "source": [
    "a, b = 3, 4\n",
    "\n",
    "print(a + b)   # сложение\n",
    "print(a - b)   # вычитание\n",
    "print(a * b)   # умножение\n",
    "print(a / b)   # деление, всегда float\n",
    "print(a // b)  # целочисленное деление\n",
    "print(a % b)   # остаток от деления\n",
    "print(a ** b)  # возведение в степень"
   ]
  },
  {
   "cell_type": "markdown",
   "id": "b3235680",
   "metadata": {},
   "source": [
    "## Сравнение"
   ]
  },
  {
   "cell_type": "code",
   "execution_count": 2,
   "id": "e312ffe0",
   "metadata": {},
   "outputs": [
    {
     "name": "stdout",
     "output_type": "stream",
     "text": [
      "False\n",
      "True\n",
      "False\n",
      "True\n",
      "False\n",
      "True\n"
     ]
    }
   ],
   "source": [
    "print(a == b)  # равно\n",
    "print(a != b)  # не равно\n",
    "print(a > b)   # больше\n",
    "print(a < b)   # меньше\n",
    "print(a >= 5)  # больше или равно\n",
    "print(b <= 10) # меньше или равно"
   ]
  },
  {
   "cell_type": "markdown",
   "id": "49ae9e20",
   "metadata": {},
   "source": [
    "### `is`, `==`\n",
    "`==` сравнивает **значение**, а `is` сравнивает **объекты в памяти**."
   ]
  },
  {
   "cell_type": "code",
   "execution_count": null,
   "id": "aac6b17c",
   "metadata": {},
   "outputs": [
    {
     "name": "stdout",
     "output_type": "stream",
     "text": [
      "True\n",
      "True\n",
      "True\n",
      "False\n"
     ]
    }
   ],
   "source": [
    "a = [1, 2, 3]\n",
    "b = a  # b и a указывают на один и тот же объект\n",
    "print(a == b)  # True (значения равны)\n",
    "print(a is b)  # True (ссылаются на один объект)\n",
    "\n",
    "c = [1, 2, 3]  # Новый объект с тем же значением\n",
    "print(a == c)  # True (значения равны)\n",
    "print(a is c)  # False (разные объекты)"
   ]
  },
  {
   "cell_type": "markdown",
   "id": "d1c26295",
   "metadata": {},
   "source": [
    "## `and`, `or`\n",
    "- `and` возвращает **первое ложное значение** или **последнее истинное**.  \n",
    "- `or` возвращает **первое истинное значение** или **последнее ложное**."
   ]
  },
  {
   "cell_type": "code",
   "execution_count": 7,
   "id": "bdb9872e",
   "metadata": {},
   "outputs": [
    {
     "name": "stdout",
     "output_type": "stream",
     "text": [
      "0\n",
      "42\n",
      "42\n",
      "[]\n"
     ]
    }
   ],
   "source": [
    "print(0 and 42)     # 0 (0 — ложь, возвращает первое ложное)\n",
    "print(1 and 42)     # 42 (оба истинны, возвращает последнее)\n",
    "print(0 or 42)      # 42 (первое истинное значение)\n",
    "print(False or [])  # [] (оба ложные, возвращает последнее)"
   ]
  },
  {
   "cell_type": "markdown",
   "id": "0c8307dc",
   "metadata": {},
   "source": [
    "## Присваивание"
   ]
  },
  {
   "cell_type": "code",
   "execution_count": 8,
   "id": "066c2d3d",
   "metadata": {},
   "outputs": [],
   "source": [
    "x = 5\n",
    "x += 2   # x = x + 2\n",
    "x -= 3   # x = x - 3\n",
    "x *= 4   # x = x * 4\n",
    "x /= 2   # x = x / 2\n",
    "x //= 3  # x = x // 3\n",
    "x %= 5   # x = x % 5\n",
    "x **= 2  # x = x ** 2"
   ]
  },
  {
   "cell_type": "markdown",
   "id": "ff8afd8a",
   "metadata": {},
   "source": [
    "## Битовые операторы\n",
    "`&`, `|`, `^` работают **побитово**, а `<<`, `>>` **сдвигают биты влево/вправо**."
   ]
  },
  {
   "cell_type": "code",
   "execution_count": null,
   "id": "6c989339",
   "metadata": {},
   "outputs": [
    {
     "name": "stdout",
     "output_type": "stream",
     "text": [
      "1\n",
      "7\n",
      "6\n",
      "-6\n",
      "10\n",
      "2\n"
     ]
    }
   ],
   "source": [
    "a, b = 5, 3  # 5 = 0b0101, 3 = 0b0011\n",
    "\n",
    "print(a & b)   # 1  (побитовое И: 0101 & 0011 = 0001)\n",
    "print(a | b)   # 7  (побитовое ИЛИ: 0101 | 0011 = 0111)\n",
    "print(a ^ b)   # 6  (побитовое исключающее ИЛИ: 0101 ^ 0011 = 0110)\n",
    "print(~a)      # -6 (побитовое НЕ: ~0101 = -(0101+1))\n",
    "print(a << 1)  # 10 (сдвиг влево: 0101 -> 1010)\n",
    "print(a >> 1)  # 2  (сдвиг вправо: 0101 -> 0010)"
   ]
  }
 ],
 "metadata": {
  "kernelspec": {
   "display_name": "py-experiments",
   "language": "python",
   "name": "python3"
  },
  "language_info": {
   "codemirror_mode": {
    "name": "ipython",
    "version": 3
   },
   "file_extension": ".py",
   "mimetype": "text/x-python",
   "name": "python",
   "nbconvert_exporter": "python",
   "pygments_lexer": "ipython3",
   "version": "3.12.10"
  }
 },
 "nbformat": 4,
 "nbformat_minor": 5
}
