{
 "cells": [
  {
   "cell_type": "markdown",
   "id": "6a9585cf",
   "metadata": {},
   "source": [
    "## Область видимости (Scope)\n",
    "\n",
    "Это контекст, в котором **существует и доступна** переменная.\n",
    "\n",
    "Python использует **правило LEGB** (Local → Enclosing → Global → Built-in) для поиска переменной.\n",
    "\n",
    "- **L (Local)** Переменные внутри текущей функции.\n",
    "- **E (Enclosing)** Внешняя функция (для замыканий).\n",
    "- **G (Global)** Уровень модуля.\n",
    "- **B (Built-in)** Встроенные функции (print, len, ...).\n"
   ]
  },
  {
   "cell_type": "markdown",
   "id": "29e5fc51",
   "metadata": {},
   "source": [
    "## LEGB\n"
   ]
  },
  {
   "cell_type": "code",
   "execution_count": null,
   "id": "af4e9700",
   "metadata": {},
   "outputs": [
    {
     "name": "stdout",
     "output_type": "stream",
     "text": [
      "x: 10 y: 20 z: 30 len: <built-in function len>\n"
     ]
    }
   ],
   "source": [
    "x = 10  # Глобальная переменная (Global)\n",
    "\n",
    "\n",
    "def outer_function():\n",
    "    y = 20  # Ограниченная переменная (Enclosing)\n",
    "\n",
    "    def inner_function():\n",
    "        z = 30  # Локальная переменная (Local)\n",
    "\n",
    "        # LEGB\n",
    "        print('x:', x, 'y:', y, 'z:', z, 'len:', len)\n",
    "\n",
    "    inner_function()\n",
    "\n",
    "\n",
    "outer_function()"
   ]
  },
  {
   "cell_type": "markdown",
   "id": "350b795d",
   "metadata": {},
   "source": [
    "## global\n"
   ]
  },
  {
   "cell_type": "code",
   "execution_count": 3,
   "id": "6c94cd5f",
   "metadata": {},
   "outputs": [
    {
     "name": "stdout",
     "output_type": "stream",
     "text": [
      "20\n"
     ]
    }
   ],
   "source": [
    "x = 10  # Глобальная переменная\n",
    "\n",
    "\n",
    "def modify_global():\n",
    "    global x  # Разрешаем изменение глобальной переменной\n",
    "    x = 20\n",
    "\n",
    "\n",
    "modify_global()\n",
    "print(x)"
   ]
  },
  {
   "cell_type": "markdown",
   "id": "6130a3eb",
   "metadata": {},
   "source": [
    "## nonlocal\n"
   ]
  },
  {
   "cell_type": "code",
   "execution_count": 4,
   "id": "0d57a1bc",
   "metadata": {},
   "outputs": [
    {
     "name": "stdout",
     "output_type": "stream",
     "text": [
      "Внутри inner_func: 20\n",
      "После inner_func: 20\n"
     ]
    }
   ],
   "source": [
    "def outer_func():\n",
    "    outer_var = 10  # Переменная в ограниченной области (Enclosing)\n",
    "\n",
    "    def inner_func():\n",
    "        nonlocal outer_var  # Меняем переменную во внешней функции\n",
    "        outer_var = 20\n",
    "        print('Внутри inner_func:', outer_var)\n",
    "\n",
    "    inner_func()\n",
    "    print('После inner_func:', outer_var)\n",
    "\n",
    "\n",
    "outer_func()"
   ]
  },
  {
   "cell_type": "markdown",
   "id": "e956cd83",
   "metadata": {},
   "source": [
    "## globals()\n",
    "Возвращает словарь всех глобальных переменных, включая встроенные.\n"
   ]
  },
  {
   "cell_type": "code",
   "execution_count": null,
   "id": "b64d2cf6",
   "metadata": {},
   "outputs": [
    {
     "name": "stdout",
     "output_type": "stream",
     "text": [
      "40\n"
     ]
    }
   ],
   "source": [
    "global_var = 40\n",
    "\n",
    "\n",
    "def func():\n",
    "    local_var = 50\n",
    "    print(globals()['global_var'])\n",
    "\n",
    "\n",
    "func()"
   ]
  },
  {
   "cell_type": "markdown",
   "id": "716db065",
   "metadata": {},
   "source": [
    "## locals()\n",
    "Возвращает словарь всех локальных переменных.\n"
   ]
  },
  {
   "cell_type": "code",
   "execution_count": null,
   "id": "58bd459c",
   "metadata": {},
   "outputs": [
    {
     "name": "stdout",
     "output_type": "stream",
     "text": [
      "{'local_var': 30}\n"
     ]
    }
   ],
   "source": [
    "def func():\n",
    "    local_var = 30\n",
    "    print(locals())\n",
    "\n",
    "\n",
    "func()"
   ]
  },
  {
   "cell_type": "markdown",
   "id": "1d99b88a",
   "metadata": {},
   "source": [
    "## vars()\n",
    "Возвращает словарь свойств объекта (`obj`.`__dict__`)"
   ]
  },
  {
   "cell_type": "code",
   "execution_count": 7,
   "id": "9c6ccdd0",
   "metadata": {},
   "outputs": [
    {
     "name": "stdout",
     "output_type": "stream",
     "text": [
      "{'name': 'Python'}\n"
     ]
    }
   ],
   "source": [
    "class Example:\n",
    "    def __init__(self, name):\n",
    "        self.name = name\n",
    "\n",
    "\n",
    "obj = Example('Python')\n",
    "print(vars(obj))"
   ]
  }
 ],
 "metadata": {
  "kernelspec": {
   "display_name": "py-experiments",
   "language": "python",
   "name": "python3"
  },
  "language_info": {
   "codemirror_mode": {
    "name": "ipython",
    "version": 3
   },
   "file_extension": ".py",
   "mimetype": "text/x-python",
   "name": "python",
   "nbconvert_exporter": "python",
   "pygments_lexer": "ipython3",
   "version": "3.12.10"
  }
 },
 "nbformat": 4,
 "nbformat_minor": 5
}
