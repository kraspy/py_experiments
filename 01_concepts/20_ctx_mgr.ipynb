{
 "cells": [
  {
   "cell_type": "markdown",
   "id": "e967e94d",
   "metadata": {},
   "source": [
    "**Контекстные менеджеры** используются для **управления ресурсами** (файлами, соединениями, потоками) и **автоматического освобождения ресурсов** после выхода из блока `with`.\\\n",
    "`__exit__` отработает даже если произошла ошибка.\n",
    "\n",
    "```python\n",
    "__enter__()                          # Вызывается при входе в блок `with`. Может возвращать объект.\n",
    "__exit__(exc_type, exc_val, exc_tb)  # Вызывается при выходе из блока `with`, обрабатывает **исключения** и освобождает ресурсы.\n",
    "```"
   ]
  },
  {
   "cell_type": "code",
   "execution_count": 1,
   "id": "ccc7ddb7",
   "metadata": {},
   "outputs": [],
   "source": [
    "# Пример с чтением файла\n",
    "with open('_math_utils.py', 'r') as file:\n",
    "    data = file.read()  # Читаем содержимое файла\n",
    "    # Файл автоматически закроется после выхода из блока"
   ]
  },
  {
   "cell_type": "markdown",
   "id": "a36598b9",
   "metadata": {},
   "source": [
    "## Собственный контекстный менеджер"
   ]
  },
  {
   "cell_type": "code",
   "execution_count": 3,
   "id": "8640b79a",
   "metadata": {},
   "outputs": [
    {
     "name": "stdout",
     "output_type": "stream",
     "text": [
      "Входим в контекст\n",
      "Внутри контекста\n",
      "Выходим из контекста\n"
     ]
    }
   ],
   "source": [
    "class MyContext:\n",
    "    def __enter__(self):\n",
    "        print('Входим в контекст')\n",
    "        return self\n",
    "\n",
    "    def __exit__(self, exc_type, exc_val, exc_tb):\n",
    "        print('Выходим из контекста')\n",
    "        return False  # Исключения не подавляются\n",
    "\n",
    "\n",
    "with MyContext() as ctx:\n",
    "    print('Внутри контекста')"
   ]
  },
  {
   "cell_type": "markdown",
   "id": "726897f7",
   "metadata": {},
   "source": [
    "## Обработка исключений в `__exit__`\n",
    "Если `__exit__()` возвращает `True`, то **исключение подавляется**."
   ]
  },
  {
   "cell_type": "code",
   "execution_count": null,
   "id": "55d9c66f",
   "metadata": {},
   "outputs": [
    {
     "name": "stdout",
     "output_type": "stream",
     "text": [
      "Entering context\n",
      "Inside\n",
      "Exception: <class 'ValueError'>, Ошибка!\n",
      "Продолжение программы\n"
     ]
    }
   ],
   "source": [
    "class SafeContext:\n",
    "    def __enter__(self):\n",
    "        print('Входим в контекст')\n",
    "        return self\n",
    "\n",
    "    def __exit__(self, exc_type, exc_value, traceback):\n",
    "        print(f'Exception: {exc_type}, {exc_value}')\n",
    "        return True              # Подавляет исключение\n",
    "\n",
    "\n",
    "with SafeContext():\n",
    "    print('Внутри контекста')\n",
    "    raise ValueError('Ошибка!')  # Исключение подавляется\n",
    "\n",
    "print('Продолжение программы')   # Выполнится, так как исключение было подавлено"
   ]
  },
  {
   "cell_type": "markdown",
   "id": "bc32ab47",
   "metadata": {},
   "source": [
    "## `contextlib`\n",
    "Позволяет создавать **контекстные менеджеры без классов**, используя `@contextmanager`.\n",
    "\n",
    "**`yield`** делит метод на две части:  \n",
    "- **До `yield`**    — выполняется при входе в `with`.  \n",
    "- **После `yield`** — выполняется при выходе из `with`."
   ]
  },
  {
   "cell_type": "code",
   "execution_count": 6,
   "id": "5a891c33",
   "metadata": {},
   "outputs": [
    {
     "name": "stdout",
     "output_type": "stream",
     "text": [
      "Входим в контекст\n",
      "Внутри контекста\n",
      "Выходим из контекста\n"
     ]
    }
   ],
   "source": [
    "from contextlib import contextmanager\n",
    "\n",
    "\n",
    "@contextmanager\n",
    "def my_context():\n",
    "    print('Входим в контекст')\n",
    "    yield  # Код внутри блока `with` выполнится здесь\n",
    "    print('Выходим из контекста')\n",
    "\n",
    "\n",
    "with my_context():\n",
    "    print('Внутри контекста')"
   ]
  }
 ],
 "metadata": {
  "kernelspec": {
   "display_name": "py-experiments",
   "language": "python",
   "name": "python3"
  },
  "language_info": {
   "codemirror_mode": {
    "name": "ipython",
    "version": 3
   },
   "file_extension": ".py",
   "mimetype": "text/x-python",
   "name": "python",
   "nbconvert_exporter": "python",
   "pygments_lexer": "ipython3",
   "version": "3.12.10"
  }
 },
 "nbformat": 4,
 "nbformat_minor": 5
}
