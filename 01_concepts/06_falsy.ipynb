{
 "cells": [
  {
   "cell_type": "markdown",
   "id": "e423143d",
   "metadata": {},
   "source": [
    "`Falsy Values` (**Ложные значения**) — это объекты, которые интерпретируются как `False` в логическом контексте.\n"
   ]
  },
  {
   "cell_type": "code",
   "execution_count": null,
   "id": "db1c4575",
   "metadata": {},
   "outputs": [
    {
     "name": "stdout",
     "output_type": "stream",
     "text": [
      "None                 -> False\n",
      "False                -> False\n",
      "0                    -> False\n",
      "0.0                  -> False\n",
      "0j                   -> False\n",
      "''                   -> False\n",
      "[]                   -> False\n",
      "()                   -> False\n",
      "{}                   -> False\n",
      "set()                -> False\n",
      "bytearray(b'')       -> False\n",
      "<memory at 0x10636b040> -> False\n"
     ]
    }
   ],
   "source": [
    "values = [\n",
    "    None,   # Отсутствие значения.\n",
    "    False,  # Булево значение False.\n",
    "    0,      # Целый ноль.\n",
    "    0.0,    # Вещественный ноль.\n",
    "    0j,     # Комплексное число ноль.\n",
    "    '',     # Пустая строка.\n",
    "    [],     # Пустой список.\n",
    "    (),     # Пустой кортеж.\n",
    "    {},     # Пустой словарь.\n",
    "    set(),  # Пустое множество.\n",
    "    bytearray(),  # Пустой bytearray объект.\n",
    "    memoryview(bytearray()),  # Пустой memoryview объект.\n",
    "]\n",
    "for v in values:\n",
    "    print(f'{repr(v):<20} -> {bool(v)}')"
   ]
  },
  {
   "cell_type": "code",
   "execution_count": null,
   "id": "84dd4752",
   "metadata": {},
   "outputs": [
    {
     "name": "stdout",
     "output_type": "stream",
     "text": [
      "default\n"
     ]
    }
   ],
   "source": [
    "# Если False, то Default value\n",
    "val = False\n",
    "res = False or 'default'\n",
    "\n",
    "print(res)"
   ]
  },
  {
   "cell_type": "code",
   "execution_count": null,
   "id": "552f5f1c",
   "metadata": {},
   "outputs": [
    {
     "name": "stdout",
     "output_type": "stream",
     "text": [
      "[1, 'Python']\n",
      "[1, 'Python']\n"
     ]
    }
   ],
   "source": [
    "# False Filter\n",
    "data = [0, 1, '', None, [], {}, 'Python']\n",
    "filtered = [item for item in data if item]\n",
    "bool_filtered = list(filter(bool, data))\n",
    "\n",
    "print(filtered)\n",
    "print(bool_filtered)"
   ]
  },
  {
   "cell_type": "code",
   "execution_count": null,
   "id": "5ea3e552",
   "metadata": {},
   "outputs": [],
   "source": [
    "data = [None, 0, 1, '', [], 'Hello']\n",
    "filtered = list(filter(bool, data))\n",
    "print(filtered)"
   ]
  },
  {
   "cell_type": "markdown",
   "id": "449b117b",
   "metadata": {},
   "source": [
    "## None, False, 0\n"
   ]
  },
  {
   "cell_type": "code",
   "execution_count": null,
   "id": "cc893f8c",
   "metadata": {},
   "outputs": [
    {
     "name": "stdout",
     "output_type": "stream",
     "text": [
      "True\n",
      "True\n",
      "True\n"
     ]
    }
   ],
   "source": [
    "x = None\n",
    "print(x is None)\n",
    "\n",
    "x = False\n",
    "print(x is False)  # False == 0 == 0.0\n",
    "\n",
    "zero = 0\n",
    "print(zero == 0)"
   ]
  }
 ],
 "metadata": {
  "kernelspec": {
   "display_name": "py-experiments",
   "language": "python",
   "name": "python3"
  },
  "language_info": {
   "codemirror_mode": {
    "name": "ipython",
    "version": 3
   },
   "file_extension": ".py",
   "mimetype": "text/x-python",
   "name": "python",
   "nbconvert_exporter": "python",
   "pygments_lexer": "ipython3",
   "version": "3.12.10"
  }
 },
 "nbformat": 4,
 "nbformat_minor": 5
}
