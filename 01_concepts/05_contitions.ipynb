{
 "cells": [
  {
   "cell_type": "markdown",
   "id": "c27681ef",
   "metadata": {},
   "source": [
    "## `if` / `elif` / `else`\n"
   ]
  },
  {
   "cell_type": "code",
   "execution_count": 1,
   "id": "2b6a2ae0",
   "metadata": {},
   "outputs": [
    {
     "name": "stdout",
     "output_type": "stream",
     "text": [
      "1\n"
     ]
    }
   ],
   "source": [
    "x = 1\n",
    "if x == 1:  \n",
    "    print('1')\n",
    "elif x == 2:\n",
    "    print('2')\n",
    "else:\n",
    "    print('Не 1 и не 2')"
   ]
  },
  {
   "cell_type": "markdown",
   "id": "f586d6c4",
   "metadata": {},
   "source": [
    "Условия могут быть многоуровневыми\n"
   ]
  },
  {
   "cell_type": "code",
   "execution_count": 2,
   "id": "f2543162",
   "metadata": {},
   "outputs": [
    {
     "name": "stdout",
     "output_type": "stream",
     "text": [
      "Положительное\n",
      "Больше 5\n"
     ]
    }
   ],
   "source": [
    "x = 10\n",
    "if x > 0:\n",
    "    print('Положительное')\n",
    "    if x > 5:\n",
    "        print('Больше 5')\n",
    "    else:\n",
    "        print('Меньше или равно 5')\n",
    "else:\n",
    "    print('Отрицательное')"
   ]
  },
  {
   "cell_type": "markdown",
   "id": "1e9e24d3",
   "metadata": {},
   "source": [
    "## Тернарный оператор\n"
   ]
  },
  {
   "cell_type": "code",
   "execution_count": null,
   "id": "9d22c7df",
   "metadata": {},
   "outputs": [
    {
     "name": "stdout",
     "output_type": "stream",
     "text": [
      "OK\n",
      "Ноль\n"
     ]
    }
   ],
   "source": [
    "condition = True\n",
    "result = 'OK' if condition else 'NO'\n",
    "print(result)  # 'OK'\n",
    "\n",
    "\n",
    "# Вложенные тернарные операторы\n",
    "x = 0\n",
    "status = 'Положительное' if x > 0 else (\n",
    "    'Ноль' if x == 0 else 'Отрицательное'\n",
    ")\n",
    "print(status)  # 'Ноль'"
   ]
  },
  {
   "cell_type": "markdown",
   "id": "54d03a52",
   "metadata": {},
   "source": [
    "## tuple hacks\n"
   ]
  },
  {
   "cell_type": "code",
   "execution_count": 4,
   "id": "631413a5",
   "metadata": {},
   "outputs": [
    {
     "name": "stdout",
     "output_type": "stream",
     "text": [
      "OK\n",
      "Два\n",
      "Успех\n"
     ]
    }
   ],
   "source": [
    "index = True\n",
    "\n",
    "# Выведет 'OK', если index == True\n",
    "print(('NO', 'OK')[index])\n",
    "\n",
    "# Выбор значения по индексу\n",
    "options = ('Ноль', 'Один', 'Два')\n",
    "num = 2\n",
    "print(options[num])  # 'Два'\n",
    "\n",
    "# Сопоставление значений\n",
    "value = 1\n",
    "text = ('Ошибка', 'Успех')[value == 1]\n",
    "print(text)  # 'Успех'"
   ]
  },
  {
   "cell_type": "markdown",
   "id": "5f1bb206",
   "metadata": {},
   "source": [
    "## dict hack\n"
   ]
  },
  {
   "cell_type": "code",
   "execution_count": 5,
   "id": "102c9465",
   "metadata": {},
   "outputs": [
    {
     "name": "stdout",
     "output_type": "stream",
     "text": [
      "OK\n",
      "Unknown\n"
     ]
    }
   ],
   "source": [
    "status = {\n",
    "    200: 'OK',\n",
    "    404: 'Not Found',\n",
    "    500: 'Server Error'\n",
    "}\n",
    "print(status.get(200, 'Unknown'))  # 'OK'\n",
    "print(status.get(403, 'Unknown'))  # 'Unknown' (если ключа нет)"
   ]
  },
  {
   "cell_type": "code",
   "execution_count": 6,
   "id": "e4b623c2",
   "metadata": {},
   "outputs": [
    {
     "name": "stdout",
     "output_type": "stream",
     "text": [
      "Удаление объекта\n"
     ]
    }
   ],
   "source": [
    "action = 'delete'\n",
    "actions = {\n",
    "    'create': 'Создание объекта',\n",
    "    'delete': 'Удаление объекта',\n",
    "    'update': 'Обновление объекта'\n",
    "}\n",
    "print(actions.get(action, 'Неизвестное действие'))  # 'Удаление объекта'"
   ]
  },
  {
   "cell_type": "markdown",
   "id": "9a6a41f7",
   "metadata": {},
   "source": [
    "## match / case (python 3.10+)\n"
   ]
  },
  {
   "cell_type": "code",
   "execution_count": 7,
   "id": "2560c159",
   "metadata": {},
   "outputs": [
    {
     "name": "stdout",
     "output_type": "stream",
     "text": [
      "Not Found\n"
     ]
    }
   ],
   "source": [
    "status = 404\n",
    "match status:\n",
    "    case 200:\n",
    "        print('OK')\n",
    "    case 404:\n",
    "        print('Not Found')\n",
    "    case 500:\n",
    "        print('Server Error')\n",
    "    case _:\n",
    "        print('Unknown Status')"
   ]
  },
  {
   "cell_type": "code",
   "execution_count": 8,
   "id": "fd6008ac",
   "metadata": {},
   "outputs": [
    {
     "name": "stdout",
     "output_type": "stream",
     "text": [
      "Положительное\n"
     ]
    }
   ],
   "source": [
    "# Сопоставление с проверками\n",
    "value = 3\n",
    "match value:\n",
    "    case x if x > 0:\n",
    "        print('Положительное')\n",
    "    case x if x < 0:\n",
    "        print('Отрицательное')\n",
    "    case _:\n",
    "        print('Ноль')"
   ]
  },
  {
   "cell_type": "code",
   "execution_count": null,
   "id": "443ba147",
   "metadata": {},
   "outputs": [
    {
     "name": "stdout",
     "output_type": "stream",
     "text": [
      "На оси Y, y=5\n"
     ]
    }
   ],
   "source": [
    "# Сопоставление кортежей\n",
    "point = (0, 0)\n",
    "match point:\n",
    "    case (0, 0):\n",
    "        print('Начало координат')\n",
    "    case (0, y):\n",
    "        print(f'На оси Y, y={y}')\n",
    "    case (x, 0):\n",
    "        print(f'На оси X, x={x}')\n",
    "    case (x, y):\n",
    "        print(f'Произвольная точка: {x}, {y}')"
   ]
  }
 ],
 "metadata": {
  "kernelspec": {
   "display_name": "py-experiments",
   "language": "python",
   "name": "python3"
  },
  "language_info": {
   "codemirror_mode": {
    "name": "ipython",
    "version": 3
   },
   "file_extension": ".py",
   "mimetype": "text/x-python",
   "name": "python",
   "nbconvert_exporter": "python",
   "pygments_lexer": "ipython3",
   "version": "3.12.10"
  }
 },
 "nbformat": 4,
 "nbformat_minor": 5
}
