{
 "cells": [
  {
   "cell_type": "markdown",
   "id": "9138c329",
   "metadata": {},
   "source": [
    "Комплексное число состоит из двух частей: **действительной** и **мнимой**.\n",
    "\n",
    "Поддерживает арифметические операции и преобразование из других типов данных.\n",
    "\n",
    "- [Документация](https://docs.python.org/3.13/library/functions.html#complex)"
   ]
  },
  {
   "cell_type": "code",
   "execution_count": null,
   "id": "959a0fbe",
   "metadata": {},
   "outputs": [],
   "source": [
    "# complex(real, imag)\n",
    "c1 = complex(3, 4)  # c1 = 3 + 4j\n",
    "c2 = complex(5)     # c2 = 5 + 0j"
   ]
  },
  {
   "cell_type": "markdown",
   "id": "a874e7fc",
   "metadata": {},
   "source": [
    "## Свойства"
   ]
  },
  {
   "cell_type": "code",
   "execution_count": 3,
   "id": "343b4830",
   "metadata": {},
   "outputs": [
    {
     "name": "stdout",
     "output_type": "stream",
     "text": [
      "3.0\n",
      "4.0\n",
      "(3-4j)\n"
     ]
    }
   ],
   "source": [
    "# Возвращает действительную часть комплексного числа.\n",
    "print(c1.real)\n",
    "\n",
    "# Возвращает мнимую часть комплексного числа.\n",
    "print(c1.imag)\n",
    "\n",
    "# Возвращает комплексно-сопряженное число\n",
    "# (число с противоположным знаком мнимой части)\n",
    "print(c1.conjugate())"
   ]
  }
 ],
 "metadata": {
  "kernelspec": {
   "display_name": "py-experiments",
   "language": "python",
   "name": "python3"
  },
  "language_info": {
   "codemirror_mode": {
    "name": "ipython",
    "version": 3
   },
   "file_extension": ".py",
   "mimetype": "text/x-python",
   "name": "python",
   "nbconvert_exporter": "python",
   "pygments_lexer": "ipython3",
   "version": "3.12.10"
  }
 },
 "nbformat": 4,
 "nbformat_minor": 5
}
