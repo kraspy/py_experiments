{
 "cells": [
  {
   "cell_type": "markdown",
   "id": "a4eb94fd",
   "metadata": {},
   "source": [
    "Неизменяемая упорядоченная коллекция объектов.\n",
    "\n",
    "Быстрее `list`, так как занимает меньше памяти и оптимизирован.\n",
    "\n",
    "- [Документация](https://docs.python.org/3/library/stdtypes.html#tuples)"
   ]
  },
  {
   "cell_type": "markdown",
   "id": "3ea33300",
   "metadata": {},
   "source": [
    "## Создание"
   ]
  },
  {
   "cell_type": "code",
   "execution_count": 1,
   "id": "82097915",
   "metadata": {},
   "outputs": [],
   "source": [
    "t1 = ()                # Пустой кортеж\n",
    "t2 = (1,)              # Кортеж из одного элемента (важна запятая!)\n",
    "t3 = 'a',              # Кортеж из одного элемента (важна запятая!)\n",
    "t4 = (1, 2, 3)         # Кортеж из чисел\n",
    "t5 = tuple([1, 2, 3])  # Из списка\n",
    "t6 = (1, 'a', 3.14)    # Разные типы\n",
    "t7 = tuple(range(5))   # Из диапазона"
   ]
  },
  {
   "cell_type": "markdown",
   "id": "65c7ecc4",
   "metadata": {},
   "source": [
    "## Методы кортежа"
   ]
  },
  {
   "cell_type": "code",
   "execution_count": 2,
   "id": "07551029",
   "metadata": {},
   "outputs": [
    {
     "name": "stdout",
     "output_type": "stream",
     "text": [
      "3\n"
     ]
    }
   ],
   "source": [
    "# count(value)\n",
    "t = (1, 2, 2, 3, 3, 3)\n",
    "print(t.count(3))  # 3 (количество троек)"
   ]
  },
  {
   "cell_type": "code",
   "execution_count": 3,
   "id": "147da86c",
   "metadata": {},
   "outputs": [
    {
     "name": "stdout",
     "output_type": "stream",
     "text": [
      "2\n"
     ]
    }
   ],
   "source": [
    "# index(value)\n",
    "t = (10, 20, 30, 40)\n",
    "print(t.index(30))  # 2 (индекс первого вхождения)"
   ]
  },
  {
   "cell_type": "markdown",
   "id": "8cf75e65",
   "metadata": {},
   "source": [
    "## Операции с кортежами"
   ]
  },
  {
   "cell_type": "code",
   "execution_count": 4,
   "id": "fa1512a8",
   "metadata": {},
   "outputs": [
    {
     "name": "stdout",
     "output_type": "stream",
     "text": [
      "(1, 2, 3, 4)\n"
     ]
    }
   ],
   "source": [
    "# Конкатенация\n",
    "t1 = (1, 2)\n",
    "t2 = (3, 4)\n",
    "print(t1 + t2)  # (1, 2, 3, 4)"
   ]
  },
  {
   "cell_type": "code",
   "execution_count": 5,
   "id": "991bf7f5",
   "metadata": {},
   "outputs": [
    {
     "name": "stdout",
     "output_type": "stream",
     "text": [
      "(1, 2, 3, 1, 2, 3)\n"
     ]
    }
   ],
   "source": [
    "# Повторение\n",
    "t = (1, 2, 3)\n",
    "print(t * 2)  # (1, 2, 3, 1, 2, 3)"
   ]
  },
  {
   "cell_type": "code",
   "execution_count": 6,
   "id": "d8c145f0",
   "metadata": {},
   "outputs": [
    {
     "name": "stdout",
     "output_type": "stream",
     "text": [
      "True\n",
      "False\n"
     ]
    }
   ],
   "source": [
    "# Проверка на вхождение\n",
    "t = (10, 20, 30)\n",
    "print(20 in t)  # True\n",
    "print(50 in t)  # False"
   ]
  },
  {
   "cell_type": "code",
   "execution_count": 7,
   "id": "e6e5ecd9",
   "metadata": {},
   "outputs": [
    {
     "name": "stdout",
     "output_type": "stream",
     "text": [
      "1 2 3\n"
     ]
    }
   ],
   "source": [
    "# Распаковка кортежа\n",
    "t = (1, 2, 3)\n",
    "a, b, c = t\n",
    "print(a, b, c)  # 1 2 3"
   ]
  }
 ],
 "metadata": {
  "kernelspec": {
   "display_name": "py-experiments",
   "language": "python",
   "name": "python3"
  },
  "language_info": {
   "codemirror_mode": {
    "name": "ipython",
    "version": 3
   },
   "file_extension": ".py",
   "mimetype": "text/x-python",
   "name": "python",
   "nbconvert_exporter": "python",
   "pygments_lexer": "ipython3",
   "version": "3.12.10"
  }
 },
 "nbformat": 4,
 "nbformat_minor": 5
}
