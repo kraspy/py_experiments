{
 "cells": [
  {
   "cell_type": "markdown",
   "id": "5e6152f2",
   "metadata": {},
   "source": [
    "Числовой тип данных в Python, представляющий целые числа\n",
    "\n",
    "Для работы с длинными числами `int` автоматически масштабируется.\\\n",
    "В отличие от `float`, `int` не имеет ограничений на точность представления.\n",
    "\n",
    "- [Документация](https://docs.python.org/3/library/stdtypes.html#numeric-types-int-float-complex)"
   ]
  },
  {
   "cell_type": "markdown",
   "id": "c93457d7",
   "metadata": {},
   "source": [
    "## Операторы\n",
    "```python\n",
    "1. -x, +x, ~x\n",
    "2. ** (возведение в степень)\n",
    "3. *, %, /, //\n",
    "4. +, –\n",
    "5. <<,>>\n",
    "6. &\n",
    "7. ^\n",
    "8. |\n",
    "9. =, +=, -=, *=, /=, //=, %=, **=\n",
    "```"
   ]
  },
  {
   "cell_type": "markdown",
   "id": "12a609a4",
   "metadata": {},
   "source": [
    "## Методы"
   ]
  },
  {
   "cell_type": "code",
   "execution_count": 1,
   "id": "d751769f",
   "metadata": {},
   "outputs": [
    {
     "name": "stdout",
     "output_type": "stream",
     "text": [
      "6\n",
      "b'\\x04\\x00'\n",
      "1024\n",
      "True\n",
      "10\n",
      "3\n"
     ]
    }
   ],
   "source": [
    "# bit_length()\n",
    "n = 42\n",
    "print(n.bit_length())  # 6 (101010 в двоичной системе)\n",
    "\n",
    "# to_bytes()\n",
    "n = 1024\n",
    "print(n.to_bytes(2, 'big'))  # b'\\x04\\x00'\n",
    "\n",
    "# from_bytes()\n",
    "bytes_repr = b'\\x04\\x00'\n",
    "n = int.from_bytes(bytes_repr, 'big')\n",
    "print(n)  # 1024\n",
    "\n",
    "# isinstance()\n",
    "n = 42\n",
    "print(isinstance(n, int))  # True\n",
    "\n",
    "# abs()\n",
    "n = -10\n",
    "print(abs(n))  # 10\n",
    "\n",
    "# pow()\n",
    "print(pow(2, 3, 5))  # 3 (2^3 % 5)"
   ]
  }
 ],
 "metadata": {
  "kernelspec": {
   "display_name": "py-experiments",
   "language": "python",
   "name": "python3"
  },
  "language_info": {
   "codemirror_mode": {
    "name": "ipython",
    "version": 3
   },
   "file_extension": ".py",
   "mimetype": "text/x-python",
   "name": "python",
   "nbconvert_exporter": "python",
   "pygments_lexer": "ipython3",
   "version": "3.12.10"
  }
 },
 "nbformat": 4,
 "nbformat_minor": 5
}
