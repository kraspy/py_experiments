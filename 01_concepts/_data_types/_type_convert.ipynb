{
 "cells": [
  {
   "cell_type": "markdown",
   "id": "334581e3",
   "metadata": {},
   "source": [
    "## Конвертация типов\n",
    "Python поддерживает **явное** и **неявное** (int -> float) приведение типов.\n",
    "- Желательно проверять типы перед преобразованием (try-except)"
   ]
  },
  {
   "cell_type": "markdown",
   "id": "486dd25c",
   "metadata": {},
   "source": [
    "## Явная конвертация типов"
   ]
  },
  {
   "cell_type": "code",
   "execution_count": null,
   "id": "caf994be",
   "metadata": {},
   "outputs": [],
   "source": [
    "print(bool(1))        # True\n",
    "print(bool(0))        # False\n",
    "print(bool([]))       # False\n",
    "print(bool('hello'))  # True\n",
    "\n",
    "print(dict([(1, 'a'), (2, 'b'), (3, 'c')]))  # {1: 'a', 2: 'b', 3: 'c'}\n",
    "\n",
    "print(float(3))       # 3.0\n",
    "print(float('3.14'))  # 3.14\n",
    "\n",
    "print(int(3.9))        # 3\n",
    "print(int('42'))       # 42\n",
    "print(int('1010', 2))  # 10 (из двоичной строки)\n",
    "\n",
    "print(list('hello'))    # ['h', 'e', 'l', 'l', 'o']\n",
    "print(list((1, 2, 3)))  # [1, 2, 3]\n",
    "\n",
    "print(set([1, 2, 3, 2, 1]))  # {1, 2, 3}\n",
    "print(set('hello'))          # {'h', 'e', 'l', 'o'}\n",
    "\n",
    "print(str(42))    # \"42\"\n",
    "print(str(3.14))  # \"3.14\"\n",
    "\n",
    "print(tuple([1, 2, 3]))  # (1, 2, 3)\n",
    "print(tuple('hello'))    # ('h', 'e', 'l', 'l', 'o')"
   ]
  },
  {
   "cell_type": "code",
   "execution_count": 8,
   "id": "a13a1c85",
   "metadata": {},
   "outputs": [
    {
     "name": "stdout",
     "output_type": "stream",
     "text": [
      "2025-09-06 13:00:00\n",
      "2025-09-06 13:00:00\n"
     ]
    }
   ],
   "source": [
    "from datetime import datetime\n",
    "\n",
    "dt = datetime(2025, 9, 6, 13, 00)\n",
    "print(dt.strftime('%Y-%m-%d %H:%M:%S'))\n",
    "\n",
    "date_str = '2025-09-06 13:00'\n",
    "print(datetime.strptime(date_str, '%Y-%m-%d %H:%M'))"
   ]
  }
 ],
 "metadata": {
  "kernelspec": {
   "display_name": "py-experiments",
   "language": "python",
   "name": "python3"
  },
  "language_info": {
   "codemirror_mode": {
    "name": "ipython",
    "version": 3
   },
   "file_extension": ".py",
   "mimetype": "text/x-python",
   "name": "python",
   "nbconvert_exporter": "python",
   "pygments_lexer": "ipython3",
   "version": "3.12.10"
  }
 },
 "nbformat": 4,
 "nbformat_minor": 5
}
