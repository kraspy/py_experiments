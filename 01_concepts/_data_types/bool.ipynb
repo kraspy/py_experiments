{
 "cells": [
  {
   "cell_type": "markdown",
   "id": "ce92868c",
   "metadata": {},
   "source": [
    "Является подклассном типа `int`, но имеет свою форму отображения за счет `__str__` и `__repr__`.\n",
    "\n",
    "Тип `bool` наследует все методы от `int`, но не имеет собственных уникальных методов.\n",
    "\n",
    "- [Документация](https://docs.python.org/3/library/stdtypes.html#boolean-type-bool)"
   ]
  },
  {
   "cell_type": "code",
   "execution_count": 1,
   "id": "7546fd5f",
   "metadata": {},
   "outputs": [
    {
     "name": "stdout",
     "output_type": "stream",
     "text": [
      "True\n",
      "False\n",
      "False\n",
      "True\n",
      "False\n",
      "True\n"
     ]
    }
   ],
   "source": [
    "print(bool(1))         # True\n",
    "print(bool(0))         # False\n",
    "print(bool(''))        # False\n",
    "print(bool('Python'))  # True\n",
    "print(bool([]))        # False\n",
    "print(bool([1, 2, 3])) # True"
   ]
  }
 ],
 "metadata": {
  "kernelspec": {
   "display_name": "py-experiments",
   "language": "python",
   "name": "python3"
  },
  "language_info": {
   "codemirror_mode": {
    "name": "ipython",
    "version": 3
   },
   "file_extension": ".py",
   "mimetype": "text/x-python",
   "name": "python",
   "nbconvert_exporter": "python",
   "pygments_lexer": "ipython3",
   "version": "3.12.10"
  }
 },
 "nbformat": 4,
 "nbformat_minor": 5
}
