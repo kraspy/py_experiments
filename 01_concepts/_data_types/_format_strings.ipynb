{
 "cells": [
  {
   "cell_type": "markdown",
   "id": "ea972808",
   "metadata": {},
   "source": [
    "## Форматирование строк\n",
    "\n",
    "Python поддерживает несколько способов форматирования строк:\n",
    "- [printf (`%`)](https://docs.python.org/3.13/library/stdtypes.html#printf-style-string-formatting)\n",
    "- str[.format()](https://docs.python.org/3.13/library/stdtypes.html#str.format)\n",
    "- [f-строки](https://docs.python.org/3.13/library/stdtypes.html#formatted-string-literals-f-strings)"
   ]
  },
  {
   "cell_type": "markdown",
   "id": "f53ea16b",
   "metadata": {},
   "source": [
    "## Опции форматирования\n",
    "Если определенная опция не указана, будет использоваться значение по умолчанию.\n",
    "\n",
    "\n"
   ]
  },
  {
   "cell_type": "markdown",
   "id": "26d14c83",
   "metadata": {},
   "source": [
    "### Синтаксис\n",
    "`[[fill]align][sign][#][0][width][grouping_option][.precision][type]`\n",
    "\n",
    "\n",
    "| Опция               | Описание                                                                                   |\n",
    "| ------------------- | ------------------------------------------------------------------------------------------ |\n",
    "| **fill**            | Символ заполнения                                                                          |\n",
    "| **align**           | `<` (левый край), `>` (правый край), `^` (по центру), `=` (числа: знак перед заполнителем) |\n",
    "| **sign**            | `+` (всегда знак), `-` (только для отрицательных), ` ` (пробел для положительных)          |\n",
    "| **#**               | Добавляет префиксы `0b`, `0o`, `0x` для чисел                                              |\n",
    "| **0**               | Дополняет число нулями                                                                     |\n",
    "| **width**           | Минимальная ширина                                                                         |\n",
    "| **grouping_option** | `,` (разделитель разрядов), `_` (разделитель подчеркивания)                                |\n",
    "| **.precision**      | Количество знаков после точки                                                              |\n",
    "| **type**            | [Тип данных](#типы-данных)                                                                                 |\n"
   ]
  },
  {
   "cell_type": "markdown",
   "id": "9664ee50",
   "metadata": {},
   "source": [
    "### Типы данных\n",
    "```python\n",
    "b  # двоичное число\n",
    "c  # символ Unicode\n",
    "d  # десятичное число\n",
    "e  # экспоненциальная запись числа\n",
    "E  # экспоненциальная запись числа с верхним регистром\n",
    "f  # число с плавающей точкой\n",
    "F  # число с плаваающей точкой, но `nan` и `inf` выводятся в верхнем регистре\n",
    "g  # более компактный вывод числа с плавающей точкой\n",
    "G  # более компактный вывод числа с плавающей точкой, использует верхний регистр для экспоненты\n",
    "n  # число с плавающей точкой с локализованным разделителем групп разрядов\n",
    "o  # восьмеричное число\n",
    "s  # строка\n",
    "x  # шестнадцатеричное число с маленькими буквами\n",
    "X  # шестнадцатеричное число с заглавными буквами\n",
    "%  # процентное значение, число с плавающей точкой умножается на 100, а затем выводится с символом `%`\n",
    "```"
   ]
  },
  {
   "cell_type": "markdown",
   "id": "a6b8c2c7",
   "metadata": {},
   "source": [
    "### Примеры"
   ]
  },
  {
   "cell_type": "code",
   "execution_count": 6,
   "id": "4fdd8309",
   "metadata": {},
   "outputs": [
    {
     "name": "stdout",
     "output_type": "stream",
     "text": [
      "    1\n",
      "1.26\n",
      "1    \n",
      "    1\n",
      "  1  \n",
      "1****\n",
      "####1\n",
      "..1..\n",
      "+42\n",
      "42\n",
      " 42\n",
      "11\n",
      "0b11\n",
      "12\n",
      "ff\n",
      "FF\n",
      "1.26\n",
      "1.23e+04\n",
      "75.00%\n"
     ]
    }
   ],
   "source": [
    "# Ширина\n",
    "print(f'{1:5}')        # '    1'\n",
    "\n",
    "# Округление\n",
    "print(f'{1.258:.2f}')  # '1.26'\n",
    "\n",
    "# Выравнивание\n",
    "print(f'{1:<5}')       # '1    ' (по левому краю)\n",
    "print(f'{1:>5}')       # '    1' (по правому краю)\n",
    "print(f'{1:^5}')       # '  1  ' (по центру)\n",
    "\n",
    "# Заполнитель\n",
    "print(f'{1:*<5}')      # '1****'\n",
    "print(f'{1:#>5}')      # '####1'\n",
    "print(f'{1:.^5}')      # '..1..'\n",
    "\n",
    "# Знак числа\n",
    "print(f'{42:+}')       # '+42'\n",
    "print(f'{42:-}')       # '42'\n",
    "print(f'{42: }')       # ' 42' (пробел перед положительным числом)\n",
    "\n",
    "# Целые числа\n",
    "print(f'{3:b}')        # '11' (двоичное)\n",
    "print(f'{3:#b}')       # '0b11' (двоичное с префиксом)\n",
    "print(f'{10:o}')       # '12' (восьмеричное)\n",
    "print(f'{255:x}')      # 'ff' (шестнадцатеричное)\n",
    "print(f'{255:X}')      # 'FF' (заглавные буквы)\n",
    "\n",
    "# Вещественные числа\n",
    "print(f'{1.258:.2f}')       # '1.26'\n",
    "print(f'{12345.6789:.2e}')  # '1.23e+04'\n",
    "print(f'{0.75:.2%}')        # '75.00%'"
   ]
  },
  {
   "cell_type": "markdown",
   "id": "73be3eb6",
   "metadata": {},
   "source": [
    "## printf (`%`)\n",
    "Устаревший способ"
   ]
  },
  {
   "cell_type": "code",
   "execution_count": null,
   "id": "549457eb",
   "metadata": {},
   "outputs": [
    {
     "name": "stdout",
     "output_type": "stream",
     "text": [
      "Имя: Alex, возраст: 20\n",
      "      3.14\n"
     ]
    }
   ],
   "source": [
    "print('Имя: %s, возраст: %d' % ('Alex', 20))\n",
    "\n",
    "# Формат чисел\n",
    "print('%10.2f' % 3.14159)\n",
    "\n",
    "# Распаковка словаря\n",
    "data = {'name': 'John', 'age': 30}\n",
    "print('%(name)s : %(age)d' % data)"
   ]
  },
  {
   "cell_type": "markdown",
   "id": "8d61670d",
   "metadata": {},
   "source": [
    "## str.format()\n",
    "Метод `.format()` подставляет значения в строку, используя `{}` как заполнители."
   ]
  },
  {
   "cell_type": "code",
   "execution_count": null,
   "id": "5f6bfa37",
   "metadata": {},
   "outputs": [
    {
     "name": "stdout",
     "output_type": "stream",
     "text": [
      "Имя: John, Возраст: 25\n",
      "Red - 2015\n",
      "25 : John : 25\n"
     ]
    }
   ],
   "source": [
    "# Базовый пример\n",
    "name = 'John'\n",
    "age = 25\n",
    "print('Имя: {}, Возраст: {}'.format(name, age))\n",
    "\n",
    "# Именованные аргументы\n",
    "print('{name} - {0}'.format(2015, name='Red'))\n",
    "\n",
    "# Индексированные аргументы\n",
    "print('{1} : {0} : {1}'.format(name, age))"
   ]
  },
  {
   "cell_type": "markdown",
   "id": "1c5ddd64",
   "metadata": {},
   "source": [
    "## f-строки\n",
    "Были добавлены в Python 3.6 и являются самым удобным способом форматирования."
   ]
  },
  {
   "cell_type": "code",
   "execution_count": null,
   "id": "8db9b592",
   "metadata": {},
   "outputs": [
    {
     "name": "stdout",
     "output_type": "stream",
     "text": [
      "'Alice'\n",
      "name='Alice', age=30\n",
      "Имя: Alice, Возраст: 30\n",
      "5 + 3 = 8\n"
     ]
    }
   ],
   "source": [
    "name = 'Alice'\n",
    "age = 30\n",
    "\n",
    "print(f'{name!r}')\n",
    "print(f'{name=}, {age=}')\n",
    "print(f'Имя: {name}, Возраст: {age}')\n",
    "\n",
    "print(f'5 + 3 = {5 + 3}')"
   ]
  },
  {
   "cell_type": "markdown",
   "id": "e2a491e9",
   "metadata": {},
   "source": [
    "###"
   ]
  }
 ],
 "metadata": {
  "kernelspec": {
   "display_name": "py-experiments",
   "language": "python",
   "name": "python3"
  },
  "language_info": {
   "codemirror_mode": {
    "name": "ipython",
    "version": 3
   },
   "file_extension": ".py",
   "mimetype": "text/x-python",
   "name": "python",
   "nbconvert_exporter": "python",
   "pygments_lexer": "ipython3",
   "version": "3.12.10"
  }
 },
 "nbformat": 4,
 "nbformat_minor": 5
}
