{
 "cells": [
  {
   "cell_type": "markdown",
   "id": "c4bbd190",
   "metadata": {},
   "source": [
    "Неизменяемый тип данных, представляющий арифметическую последовательность чисел.\n",
    "\n",
    "Используется для создания последовательностей в циклах `for` и других итерациях.\\\n",
    "Создает объект `range`, который вычисляет значения по мере необходимости (ленивое вычисление).\\\n",
    "Поддерживает методы `count()` и `index()`.\\\n",
    "Поддерживает `in`, и может принимать отрицательные значения.\n",
    "\n",
    "- [Документация](https://docs.python.org/3/library/stdtypes.html#range)\n",
    "\n",
    "```python\n",
    "range(stop)  # 0 до stop с шагом 1\n",
    "range(start, stop)  # start до stop с шагом 1\n",
    "range(start, stop, step)  # start до stop с шагом step\n",
    "```"
   ]
  },
  {
   "cell_type": "markdown",
   "id": "4f5f71ce",
   "metadata": {},
   "source": [
    "## Свойства"
   ]
  },
  {
   "cell_type": "code",
   "execution_count": 1,
   "id": "e1dbcdbe",
   "metadata": {},
   "outputs": [
    {
     "name": "stdout",
     "output_type": "stream",
     "text": [
      "0\n",
      "10\n",
      "2\n",
      "1\n",
      "0\n",
      "2\n"
     ]
    },
    {
     "ename": "ValueError",
     "evalue": "5 is not in range",
     "output_type": "error",
     "traceback": [
      "\u001b[31m---------------------------------------------------------------------------\u001b[39m",
      "\u001b[31mValueError\u001b[39m                                Traceback (most recent call last)",
      "\u001b[36mCell\u001b[39m\u001b[36m \u001b[39m\u001b[32mIn[1]\u001b[39m\u001b[32m, line 23\u001b[39m\n\u001b[32m     20\u001b[39m \u001b[38;5;28mprint\u001b[39m(r.index(\u001b[32m4\u001b[39m))  \u001b[38;5;66;03m# 2 (индекс числа 4 в диапазоне)\u001b[39;00m\n\u001b[32m     22\u001b[39m r = \u001b[38;5;28mrange\u001b[39m(\u001b[32m0\u001b[39m, \u001b[32m10\u001b[39m, \u001b[32m2\u001b[39m)\n\u001b[32m---> \u001b[39m\u001b[32m23\u001b[39m \u001b[38;5;28mprint\u001b[39m(\u001b[43mr\u001b[49m\u001b[43m.\u001b[49m\u001b[43mindex\u001b[49m\u001b[43m(\u001b[49m\u001b[32;43m5\u001b[39;49m\u001b[43m)\u001b[49m)  \u001b[38;5;66;03m# ValueError: 5 is not in range\u001b[39;00m\n",
      "\u001b[31mValueError\u001b[39m: 5 is not in range"
     ]
    }
   ],
   "source": [
    "# start\n",
    "r = range(0, 10, 2)\n",
    "print(r.start)  # 0\n",
    "\n",
    "# stop\n",
    "r = range(0, 10, 2)\n",
    "print(r.stop)  # 10\n",
    "\n",
    "# step\n",
    "r = range(0, 10, 2)\n",
    "print(r.step)  # 2\n",
    "\n",
    "# count()\n",
    "r = range(0, 10, 2)\n",
    "print(r.count(4))  # 1 (4 есть в диапазоне)\n",
    "print(r.count(5))  # 0 (5 отсутствует)\n",
    "\n",
    "# index()\n",
    "r = range(0, 10, 2)\n",
    "print(r.index(4))  # 2 (индекс числа 4 в диапазоне)\n",
    "\n",
    "r = range(0, 10, 2)\n",
    "print(r.index(5))  # ValueError: 5 is not in range"
   ]
  }
 ],
 "metadata": {
  "kernelspec": {
   "display_name": "py-experiments",
   "language": "python",
   "name": "python3"
  },
  "language_info": {
   "codemirror_mode": {
    "name": "ipython",
    "version": 3
   },
   "file_extension": ".py",
   "mimetype": "text/x-python",
   "name": "python",
   "nbconvert_exporter": "python",
   "pygments_lexer": "ipython3",
   "version": "3.12.10"
  }
 },
 "nbformat": 4,
 "nbformat_minor": 5
}
