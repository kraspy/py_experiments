{
 "cells": [
  {
   "cell_type": "markdown",
   "id": "da8dbf82",
   "metadata": {},
   "source": [
    "Неизменяемая (immutable) последовательность символов.\n",
    "\n",
    "\n",
    "- [Документация](https://docs.python.org/3/library/stdtypes.html#textseq)"
   ]
  },
  {
   "cell_type": "markdown",
   "id": "2f15eadd",
   "metadata": {},
   "source": [
    "## Создание"
   ]
  },
  {
   "cell_type": "code",
   "execution_count": null,
   "id": "75df90e9",
   "metadata": {},
   "outputs": [],
   "source": [
    "s1 = \"Привет, мир!\"           # Обычная строка\n",
    "s2 = 'Привет, мир!'           # Альтернативный синтаксис\n",
    "s3 = \"\"\"Многострочная\n",
    "строка\"\"\"                     # Многострочная строка\n",
    "s4 = 'Многострочная\\nСтрока'  # Многострочная строка\n",
    "s5 = str(123)                 # Преобразование числа в строку\n",
    "s6 = 'Hello\\nWorld'           # Символ новой строки\n",
    "s7 = r'C:\\\\Users\\\\name'       # Сырой (raw) текст, не интерпретирует экранирование\n",
    "s8 = rf'a: {s1}'              # Сырая форматированная строка\n",
    "s9 = f'{s1=}'                 # Выражение отладки"
   ]
  },
  {
   "cell_type": "markdown",
   "id": "fa478ed8",
   "metadata": {},
   "source": [
    "## Методы строк"
   ]
  },
  {
   "cell_type": "markdown",
   "id": "509d0b72",
   "metadata": {},
   "source": [
    "### lower()"
   ]
  },
  {
   "cell_type": "code",
   "execution_count": 2,
   "id": "9be1f667",
   "metadata": {},
   "outputs": [
    {
     "name": "stdout",
     "output_type": "stream",
     "text": [
      "python\n"
     ]
    }
   ],
   "source": [
    "s = 'PYTHON'\n",
    "print(s.lower())  # 'python'"
   ]
  },
  {
   "cell_type": "markdown",
   "id": "887e41a7",
   "metadata": {},
   "source": [
    "### upper()"
   ]
  },
  {
   "cell_type": "code",
   "execution_count": 3,
   "id": "c3bf33bc",
   "metadata": {},
   "outputs": [
    {
     "name": "stdout",
     "output_type": "stream",
     "text": [
      "PYTHON\n"
     ]
    }
   ],
   "source": [
    "s = 'python'\n",
    "print(s.upper())  # 'PYTHON'"
   ]
  },
  {
   "cell_type": "markdown",
   "id": "a662554e",
   "metadata": {},
   "source": [
    "### capitalize()"
   ]
  },
  {
   "cell_type": "code",
   "execution_count": 4,
   "id": "5a601f7f",
   "metadata": {},
   "outputs": [
    {
     "name": "stdout",
     "output_type": "stream",
     "text": [
      "Hello world\n"
     ]
    }
   ],
   "source": [
    "s = 'hello world'\n",
    "print(s.capitalize())  # 'Hello world'"
   ]
  },
  {
   "cell_type": "markdown",
   "id": "b6e19e9c",
   "metadata": {},
   "source": [
    "### title()"
   ]
  },
  {
   "cell_type": "code",
   "execution_count": 5,
   "id": "92b79fde",
   "metadata": {},
   "outputs": [
    {
     "name": "stdout",
     "output_type": "stream",
     "text": [
      "Hello World\n"
     ]
    }
   ],
   "source": [
    "s = 'hello world'\n",
    "print(s.title())  # 'Hello World'"
   ]
  },
  {
   "cell_type": "markdown",
   "id": "5c3d0445",
   "metadata": {},
   "source": [
    "### strip()"
   ]
  },
  {
   "cell_type": "code",
   "execution_count": 6,
   "id": "17a338a1",
   "metadata": {},
   "outputs": [
    {
     "name": "stdout",
     "output_type": "stream",
     "text": [
      "hello\n"
     ]
    }
   ],
   "source": [
    "s = '  hello  '\n",
    "print(s.strip())  # 'hello'"
   ]
  },
  {
   "cell_type": "markdown",
   "id": "2d46906a",
   "metadata": {},
   "source": [
    "### replace(old, new)"
   ]
  },
  {
   "cell_type": "code",
   "execution_count": 7,
   "id": "faa26c32",
   "metadata": {},
   "outputs": [
    {
     "name": "stdout",
     "output_type": "stream",
     "text": [
      "opple\n"
     ]
    }
   ],
   "source": [
    "s = 'apple'\n",
    "print(s.replace('a', 'o'))  # 'opple'"
   ]
  },
  {
   "cell_type": "markdown",
   "id": "2dffad7a",
   "metadata": {},
   "source": [
    "### split(sep)"
   ]
  },
  {
   "cell_type": "code",
   "execution_count": 8,
   "id": "014413a2",
   "metadata": {},
   "outputs": [
    {
     "name": "stdout",
     "output_type": "stream",
     "text": [
      "['one', 'two', 'three']\n"
     ]
    }
   ],
   "source": [
    "s = 'one,two,three'\n",
    "print(s.split(','))  # ['one', 'two', 'three']"
   ]
  },
  {
   "cell_type": "markdown",
   "id": "85c75164",
   "metadata": {},
   "source": [
    "### join(iterable)"
   ]
  },
  {
   "cell_type": "code",
   "execution_count": 9,
   "id": "4a5511bb",
   "metadata": {},
   "outputs": [
    {
     "name": "stdout",
     "output_type": "stream",
     "text": [
      "Hello World\n"
     ]
    }
   ],
   "source": [
    "words = ['Hello', 'World']\n",
    "print(' '.join(words))  # 'Hello World'"
   ]
  },
  {
   "cell_type": "markdown",
   "id": "06dcdbc0",
   "metadata": {},
   "source": [
    "### startswith(sub)"
   ]
  },
  {
   "cell_type": "code",
   "execution_count": 10,
   "id": "14655c84",
   "metadata": {},
   "outputs": [
    {
     "name": "stdout",
     "output_type": "stream",
     "text": [
      "True\n"
     ]
    }
   ],
   "source": [
    "s = 'Python'\n",
    "print(s.startswith('Py'))  # True"
   ]
  },
  {
   "cell_type": "markdown",
   "id": "1cb84492",
   "metadata": {},
   "source": [
    "### endswith(sub)"
   ]
  },
  {
   "cell_type": "code",
   "execution_count": 11,
   "id": "2eb0f7d0",
   "metadata": {},
   "outputs": [
    {
     "name": "stdout",
     "output_type": "stream",
     "text": [
      "True\n"
     ]
    }
   ],
   "source": [
    "s = 'Python'\n",
    "print(s.endswith('on'))  # True"
   ]
  },
  {
   "cell_type": "markdown",
   "id": "27fe197e",
   "metadata": {},
   "source": [
    "### find(sub)"
   ]
  },
  {
   "cell_type": "code",
   "execution_count": 12,
   "id": "8c2bc336",
   "metadata": {},
   "outputs": [
    {
     "name": "stdout",
     "output_type": "stream",
     "text": [
      "2\n",
      "-1\n"
     ]
    }
   ],
   "source": [
    "s = 'Python'\n",
    "print(s.find('th'))  # 2 (возвращает индекс подстроки)\n",
    "print(s.find('z'))   # -1 (если подстрока не найдена)"
   ]
  },
  {
   "cell_type": "markdown",
   "id": "8e89ad4f",
   "metadata": {},
   "source": [
    "### count(sub)"
   ]
  },
  {
   "cell_type": "code",
   "execution_count": 13,
   "id": "920d51fd",
   "metadata": {},
   "outputs": [
    {
     "name": "stdout",
     "output_type": "stream",
     "text": [
      "3\n"
     ]
    }
   ],
   "source": [
    "s = 'banana'\n",
    "print(s.count('a'))  # 3"
   ]
  },
  {
   "cell_type": "markdown",
   "id": "c8ad69ef",
   "metadata": {},
   "source": [
    "### casefold()"
   ]
  },
  {
   "cell_type": "code",
   "execution_count": 14,
   "id": "8209370c",
   "metadata": {},
   "outputs": [
    {
     "name": "stdout",
     "output_type": "stream",
     "text": [
      "gross\n"
     ]
    }
   ],
   "source": [
    "s = 'Groß'\n",
    "print(s.casefold())  # 'gross'"
   ]
  },
  {
   "cell_type": "markdown",
   "id": "ddacd48b",
   "metadata": {},
   "source": [
    "### swapcase()"
   ]
  },
  {
   "cell_type": "code",
   "execution_count": 15,
   "id": "ba12628f",
   "metadata": {},
   "outputs": [
    {
     "name": "stdout",
     "output_type": "stream",
     "text": [
      "hELLO wORLD\n"
     ]
    }
   ],
   "source": [
    "s = 'Hello World'\n",
    "print(s.swapcase())  # 'hELLO wORLD'"
   ]
  },
  {
   "cell_type": "markdown",
   "id": "58fa47d5",
   "metadata": {},
   "source": [
    "### rfind(sub)"
   ]
  },
  {
   "cell_type": "code",
   "execution_count": 16,
   "id": "1d123137",
   "metadata": {},
   "outputs": [
    {
     "name": "stdout",
     "output_type": "stream",
     "text": [
      "5\n",
      "-1\n"
     ]
    }
   ],
   "source": [
    "s = 'banana'\n",
    "print(s.rfind('a'))  # 5\n",
    "print(s.rfind('z'))  # -1"
   ]
  },
  {
   "cell_type": "markdown",
   "id": "e9a28a77",
   "metadata": {},
   "source": [
    "### index(sub)"
   ]
  },
  {
   "cell_type": "code",
   "execution_count": 17,
   "id": "913b4237",
   "metadata": {},
   "outputs": [
    {
     "name": "stdout",
     "output_type": "stream",
     "text": [
      "1\n"
     ]
    }
   ],
   "source": [
    "s = 'banana'\n",
    "print(s.index('a'))    # 1\n",
    "# print(s.index(\"z\"))  # ValueError"
   ]
  },
  {
   "cell_type": "markdown",
   "id": "758b9986",
   "metadata": {},
   "source": [
    "### rindex(sub)"
   ]
  },
  {
   "cell_type": "code",
   "execution_count": 18,
   "id": "9aa48e06",
   "metadata": {},
   "outputs": [
    {
     "name": "stdout",
     "output_type": "stream",
     "text": [
      "5\n"
     ]
    }
   ],
   "source": [
    "s = 'banana'\n",
    "print(s.rindex('a'))  # 5\n",
    "# print(s.rindex(\"z\"))  # ValueError"
   ]
  },
  {
   "cell_type": "markdown",
   "id": "13998ca2",
   "metadata": {},
   "source": [
    "### replace(old, new, count)"
   ]
  },
  {
   "cell_type": "code",
   "execution_count": 19,
   "id": "bf349836",
   "metadata": {},
   "outputs": [
    {
     "name": "stdout",
     "output_type": "stream",
     "text": [
      "banana banana apple\n"
     ]
    }
   ],
   "source": [
    "s = 'apple apple apple'\n",
    "print(s.replace('apple', 'banana', 2))  # 'banana banana apple'"
   ]
  },
  {
   "cell_type": "markdown",
   "id": "3d61f105",
   "metadata": {},
   "source": [
    "### maketrans(x, y, z)"
   ]
  },
  {
   "cell_type": "code",
   "execution_count": 20,
   "id": "3e1c58ce",
   "metadata": {},
   "outputs": [
    {
     "name": "stdout",
     "output_type": "stream",
     "text": [
      "123xy\n"
     ]
    }
   ],
   "source": [
    "table = str.maketrans('abc', '123', 'z')\n",
    "s = 'abcxyz'\n",
    "print(s.translate(table))  # '123xy'"
   ]
  },
  {
   "cell_type": "markdown",
   "id": "3e931e4a",
   "metadata": {},
   "source": [
    "### translate(table)"
   ]
  },
  {
   "cell_type": "code",
   "execution_count": 21,
   "id": "d8471ac5",
   "metadata": {},
   "outputs": [
    {
     "name": "stdout",
     "output_type": "stream",
     "text": [
      "h2ll4 w4rld\n"
     ]
    }
   ],
   "source": [
    "table = str.maketrans('aeiou', '12345')\n",
    "s = 'hello world'\n",
    "print(s.translate(table))  # 'h2ll4 w4rld'"
   ]
  },
  {
   "cell_type": "markdown",
   "id": "9936676a",
   "metadata": {},
   "source": [
    "### center(width, fillchar)"
   ]
  },
  {
   "cell_type": "code",
   "execution_count": 22,
   "id": "b5b881cb",
   "metadata": {},
   "outputs": [
    {
     "name": "stdout",
     "output_type": "stream",
     "text": [
      "--hello---\n"
     ]
    }
   ],
   "source": [
    "s = 'hello'\n",
    "print(s.center(10, '-'))  # '--hello---'"
   ]
  },
  {
   "cell_type": "markdown",
   "id": "4fc83118",
   "metadata": {},
   "source": [
    "### ljust(width, fillchar)"
   ]
  },
  {
   "cell_type": "code",
   "execution_count": 23,
   "id": "7f3b8629",
   "metadata": {},
   "outputs": [
    {
     "name": "stdout",
     "output_type": "stream",
     "text": [
      "hello.....\n"
     ]
    }
   ],
   "source": [
    "s = 'hello'\n",
    "print(s.ljust(10, '.'))  # 'hello.....'"
   ]
  },
  {
   "cell_type": "markdown",
   "id": "ef3b4f41",
   "metadata": {},
   "source": [
    "### rjust(width, fillchar)"
   ]
  },
  {
   "cell_type": "code",
   "execution_count": 24,
   "id": "6ea09339",
   "metadata": {},
   "outputs": [
    {
     "name": "stdout",
     "output_type": "stream",
     "text": [
      ".....hello\n"
     ]
    }
   ],
   "source": [
    "s = 'hello'\n",
    "print(s.rjust(10, '.'))  # '.....hello'"
   ]
  },
  {
   "cell_type": "markdown",
   "id": "5275d315",
   "metadata": {},
   "source": [
    "### expandtabs(tabsize=8)"
   ]
  },
  {
   "cell_type": "code",
   "execution_count": 25,
   "id": "ead3f9cf",
   "metadata": {},
   "outputs": [
    {
     "name": "stdout",
     "output_type": "stream",
     "text": [
      "hello   world\n"
     ]
    }
   ],
   "source": [
    "s = 'hello\\tworld'\n",
    "print(s.expandtabs(4))  # 'hello   world'"
   ]
  },
  {
   "cell_type": "markdown",
   "id": "2865ac9a",
   "metadata": {},
   "source": [
    "### rstrip(chars)"
   ]
  },
  {
   "cell_type": "code",
   "execution_count": 26,
   "id": "3bae473c",
   "metadata": {},
   "outputs": [
    {
     "name": "stdout",
     "output_type": "stream",
     "text": [
      "hello\n"
     ]
    }
   ],
   "source": [
    "s = 'hello!!!'\n",
    "print(s.rstrip('!'))  # 'hello'"
   ]
  },
  {
   "cell_type": "markdown",
   "id": "3157ca2f",
   "metadata": {},
   "source": [
    "### rsplit(sep, maxsplit)"
   ]
  },
  {
   "cell_type": "code",
   "execution_count": 27,
   "id": "5cc22d6f",
   "metadata": {},
   "outputs": [
    {
     "name": "stdout",
     "output_type": "stream",
     "text": [
      "['one two', 'three']\n"
     ]
    }
   ],
   "source": [
    "s = 'one two three'\n",
    "print(s.rsplit(' ', 1))  # ['one two', 'three']"
   ]
  },
  {
   "cell_type": "markdown",
   "id": "b34ff9d1",
   "metadata": {},
   "source": [
    "### splitlines(keepends)"
   ]
  },
  {
   "cell_type": "code",
   "execution_count": 28,
   "id": "e9e82972",
   "metadata": {},
   "outputs": [
    {
     "name": "stdout",
     "output_type": "stream",
     "text": [
      "['Hello', 'World']\n",
      "['Hello\\n', 'World']\n"
     ]
    }
   ],
   "source": [
    "s = 'Hello\\nWorld'\n",
    "print(s.splitlines())      # ['Hello', 'World']\n",
    "print(s.splitlines(True))  # ['Hello\\n', 'World']"
   ]
  },
  {
   "cell_type": "markdown",
   "id": "20de363a",
   "metadata": {},
   "source": [
    "### partition(sep)"
   ]
  },
  {
   "cell_type": "code",
   "execution_count": 29,
   "id": "e7cc24a5",
   "metadata": {},
   "outputs": [
    {
     "name": "stdout",
     "output_type": "stream",
     "text": [
      "('Hello', ',', ' World!')\n"
     ]
    }
   ],
   "source": [
    "s = 'Hello, World!'\n",
    "print(s.partition(','))  # ('Hello', ',', ' World!')"
   ]
  },
  {
   "cell_type": "markdown",
   "id": "8a7dbb6e",
   "metadata": {},
   "source": [
    "### rpartition(sep)"
   ]
  },
  {
   "cell_type": "code",
   "execution_count": 30,
   "id": "225b68ff",
   "metadata": {},
   "outputs": [
    {
     "name": "stdout",
     "output_type": "stream",
     "text": [
      "('Hello, World', ',', ' Python!')\n"
     ]
    }
   ],
   "source": [
    "s = 'Hello, World, Python!'\n",
    "print(s.rpartition(','))  # ('Hello, World', ',', ' Python!')"
   ]
  },
  {
   "cell_type": "markdown",
   "id": "979f0f45",
   "metadata": {},
   "source": [
    "### encode(encoding, errors)"
   ]
  },
  {
   "cell_type": "code",
   "execution_count": 31,
   "id": "70a3a8be",
   "metadata": {},
   "outputs": [
    {
     "name": "stdout",
     "output_type": "stream",
     "text": [
      "b'\\xd0\\x9f\\xd1\\x80\\xd0\\xb8\\xd0\\xb2\\xd0\\xb5\\xd1\\x82'\n"
     ]
    }
   ],
   "source": [
    "s = 'Привет'\n",
    "print(s.encode('utf-8'))  # b'\\xd0\\x9f\\xd1\\x80\\xd0\\xb8\\xd0\\xb2\\xd0\\xb5\\xd1\\x82'"
   ]
  },
  {
   "cell_type": "markdown",
   "id": "c550cc86",
   "metadata": {},
   "source": [
    "### isalpha()"
   ]
  },
  {
   "cell_type": "code",
   "execution_count": 32,
   "id": "c202d946",
   "metadata": {},
   "outputs": [
    {
     "name": "stdout",
     "output_type": "stream",
     "text": [
      "True\n"
     ]
    }
   ],
   "source": [
    "s = 'Hello'\n",
    "print(s.isalpha())  # True"
   ]
  },
  {
   "cell_type": "markdown",
   "id": "168ee0cd",
   "metadata": {},
   "source": [
    "### isdecimal()"
   ]
  },
  {
   "cell_type": "code",
   "execution_count": 33,
   "id": "114d863a",
   "metadata": {},
   "outputs": [
    {
     "name": "stdout",
     "output_type": "stream",
     "text": [
      "True\n"
     ]
    }
   ],
   "source": [
    "s = '12345'\n",
    "print(s.isdecimal())  # True"
   ]
  },
  {
   "cell_type": "markdown",
   "id": "1952d771",
   "metadata": {},
   "source": [
    "### isalnum()"
   ]
  },
  {
   "cell_type": "code",
   "execution_count": 34,
   "id": "29035b43",
   "metadata": {},
   "outputs": [
    {
     "name": "stdout",
     "output_type": "stream",
     "text": [
      "True\n"
     ]
    }
   ],
   "source": [
    "s = 'Hello123'\n",
    "print(s.isalnum())  # True"
   ]
  },
  {
   "cell_type": "markdown",
   "id": "38c94d67",
   "metadata": {},
   "source": [
    "### istitle()"
   ]
  },
  {
   "cell_type": "code",
   "execution_count": 35,
   "id": "8cbf98ae",
   "metadata": {},
   "outputs": [
    {
     "name": "stdout",
     "output_type": "stream",
     "text": [
      "True\n"
     ]
    }
   ],
   "source": [
    "s = 'Hello World'\n",
    "print(s.istitle())  # True"
   ]
  },
  {
   "cell_type": "markdown",
   "id": "4ce56056",
   "metadata": {},
   "source": [
    "### isprintable()"
   ]
  },
  {
   "cell_type": "code",
   "execution_count": 36,
   "id": "9f97c97f",
   "metadata": {},
   "outputs": [
    {
     "name": "stdout",
     "output_type": "stream",
     "text": [
      "False\n"
     ]
    }
   ],
   "source": [
    "s = 'Hello\\nWorld'\n",
    "print(s.isprintable())  # False"
   ]
  },
  {
   "cell_type": "markdown",
   "id": "5f3e04d2",
   "metadata": {},
   "source": [
    "### isidentifier()"
   ]
  },
  {
   "cell_type": "code",
   "execution_count": 37,
   "id": "c2dfa155",
   "metadata": {},
   "outputs": [
    {
     "name": "stdout",
     "output_type": "stream",
     "text": [
      "True\n",
      "False\n"
     ]
    }
   ],
   "source": [
    "s1 = 'variable_name'\n",
    "s2 = '123abc'\n",
    "print(s1.isidentifier())  # True\n",
    "print(s2.isidentifier())  # False"
   ]
  },
  {
   "cell_type": "markdown",
   "id": "35af3d40",
   "metadata": {},
   "source": [
    "## Заметки"
   ]
  },
  {
   "cell_type": "markdown",
   "id": "df542f71",
   "metadata": {},
   "source": [
    "```python\n",
    "# Спец. символы\n",
    "\\n  # перевод строки\n",
    "\\r  # возврат каретки\n",
    "\\t  # знак табуляции\n",
    "\\v  # вертикальная табуляция\n",
    "\\a  # звонок\n",
    "\\b  # забой\n",
    "\\f  # перевод формата\n",
    "\\0  # нулевой символ\n",
    "\\\"  # кавычка\n",
    "\\'  # апостроф\n",
    "/   # обратный слэш\n",
    "\\x  # 16-ричные послед-ти\n",
    "\\uxxxx      # 16-битный Unicode\n",
    "\\Uxxxxxxxx  # 32-битный Unicode\n",
    "```"
   ]
  },
  {
   "cell_type": "code",
   "execution_count": 47,
   "id": "f1aff6b4",
   "metadata": {},
   "outputs": [
    {
     "data": {
      "text/plain": [
       "'123123'"
      ]
     },
     "execution_count": 47,
     "metadata": {},
     "output_type": "execute_result"
    }
   ],
   "source": [
    "### Преобразование типов в ручную\n",
    "'123' + str(123)"
   ]
  },
  {
   "cell_type": "code",
   "execution_count": 39,
   "id": "1d5fe6d1",
   "metadata": {},
   "outputs": [],
   "source": [
    "# Строки умножаются\n",
    "mulConcat = '1' * 5"
   ]
  },
  {
   "cell_type": "code",
   "execution_count": 42,
   "id": "8dedc999",
   "metadata": {},
   "outputs": [
    {
     "name": "stdout",
     "output_type": "stream",
     "text": [
      "P\n",
      "n\n"
     ]
    }
   ],
   "source": [
    "### Обращение по индексу\n",
    "s = 'Python'\n",
    "print(s[0])   # 'P'\n",
    "print(s[-1])  # 'n' (последний символ)"
   ]
  },
  {
   "cell_type": "code",
   "execution_count": 49,
   "id": "96a1754b",
   "metadata": {},
   "outputs": [
    {
     "data": {
      "text/plain": [
       "'nohtyP'"
      ]
     },
     "execution_count": 49,
     "metadata": {},
     "output_type": "execute_result"
    }
   ],
   "source": [
    "# Срезы строки\n",
    "s[0:2]\n",
    "s[:2]    # Hel\n",
    "s[3:]    # lo!\n",
    "s[::2]   # Hlo\n",
    "s[::-1]  # !olleH"
   ]
  },
  {
   "cell_type": "code",
   "execution_count": 52,
   "id": "fb184083",
   "metadata": {},
   "outputs": [
    {
     "name": "stdout",
     "output_type": "stream",
     "text": [
      "string1string2\n",
      "string1string2\n",
      "string1string2\n"
     ]
    },
    {
     "data": {
      "text/plain": [
       "('str', 'str')"
      ]
     },
     "execution_count": 52,
     "metadata": {},
     "output_type": "execute_result"
    }
   ],
   "source": [
    "### Конкатенация\n",
    "print('string1string2')\n",
    "print('string1' + 'string2')\n",
    "print(\n",
    "    'string1\\\n",
    "string2'\n",
    ")\n",
    "\n",
    "'str', 'str'  # Кортеж!"
   ]
  },
  {
   "cell_type": "code",
   "execution_count": 46,
   "id": "38ad6a60",
   "metadata": {},
   "outputs": [
    {
     "name": "stdout",
     "output_type": "stream",
     "text": [
      "True\n",
      "False\n"
     ]
    }
   ],
   "source": [
    "### Проверка на вхождение\n",
    "s = 'Python'\n",
    "print('th' in s)  # True\n",
    "print('z' in s)   # False"
   ]
  }
 ],
 "metadata": {
  "kernelspec": {
   "display_name": "py-experiments",
   "language": "python",
   "name": "python3"
  },
  "language_info": {
   "codemirror_mode": {
    "name": "ipython",
    "version": 3
   },
   "file_extension": ".py",
   "mimetype": "text/x-python",
   "name": "python",
   "nbconvert_exporter": "python",
   "pygments_lexer": "ipython3",
   "version": "3.12.10"
  }
 },
 "nbformat": 4,
 "nbformat_minor": 5
}
