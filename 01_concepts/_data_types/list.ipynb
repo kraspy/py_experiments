{
 "cells": [
  {
   "cell_type": "markdown",
   "id": "72a4cb89",
   "metadata": {},
   "source": [
    "Изменяемая упорядоченная коллекция объектов.\n",
    "\n",
    "Поддерживает дублирующиеся элементы.\\\n",
    "Может содержать объекты разных типов.\\\n",
    "Позволяет изменять, добавлять и удалять элементы\\\n",
    "Можно произвольно изменять длину списка.\n",
    "\n",
    "- [Документация](https://docs.python.org/3/library/stdtypes.html#lists)"
   ]
  },
  {
   "cell_type": "markdown",
   "id": "914a0d8a",
   "metadata": {},
   "source": [
    "## Создание"
   ]
  },
  {
   "cell_type": "code",
   "execution_count": 1,
   "id": "b0b99501",
   "metadata": {},
   "outputs": [],
   "source": [
    "lst1 = []         # Пустой список\n",
    "lst2 = list()     # Также пустой список\n",
    "lst3 = [1, 2, 3]  # Список с элементами\n",
    "lst4 = list('hello')   # ['h', 'e', 'l', 'l', 'o']\n",
    "lst5 = list(range(5))  # [0, 1, 2, 3, 4]\n",
    "lst6 = [x**2 for x in range(5)]  # Генератор списка [0, 1, 4, 9, 16]"
   ]
  },
  {
   "cell_type": "code",
   "execution_count": 2,
   "id": "80c06191",
   "metadata": {},
   "outputs": [
    {
     "data": {
      "text/plain": [
       "[]"
      ]
     },
     "execution_count": 2,
     "metadata": {},
     "output_type": "execute_result"
    }
   ],
   "source": [
    "# list comprehensions\n",
    "[i for i in 'hello']\n",
    "\n",
    "[i for i in 'hello'\n",
    "\tif i not in ['e', 'o']]\n",
    "\n",
    "[j * 10 for i in lst1\n",
    "\tfor j in i\n",
    "\tif j % 2 == 0]\n",
    "\n",
    "[f'{i} - OK' if i % 10 == 0 else f'{i} - NO'\n",
    "\tfor i in range(100)]\n",
    "\n",
    "[i + j for i in lst1 for j in lst2]\n",
    "\n",
    "[[i * j for i in lst1] for j in lst2]"
   ]
  },
  {
   "cell_type": "markdown",
   "id": "1a50761c",
   "metadata": {},
   "source": [
    "## Методы списка"
   ]
  },
  {
   "cell_type": "code",
   "execution_count": null,
   "id": "f797a1b3",
   "metadata": {},
   "outputs": [
    {
     "name": "stdout",
     "output_type": "stream",
     "text": [
      "[1, 2, 3, 4]\n",
      "[1, 2, 3, 4, 5]\n",
      "[1, 2, 3, 4]\n",
      "[1, 2, 4]\n",
      "4\n",
      "2\n",
      "[]\n",
      "2\n",
      "3\n",
      "[1, 1, 3, 4, 5, 9]\n",
      "[3, 2, 1]\n",
      "[1, 2, 3]\n"
     ]
    }
   ],
   "source": [
    "# append(value)\n",
    "lst = [1, 2, 3]\n",
    "lst.append(4)\n",
    "print(lst)  # [1, 2, 3, 4]\n",
    "\n",
    "# extend(iterable)\n",
    "lst = [1, 2, 3]\n",
    "lst.extend([4, 5])\n",
    "print(lst)  # [1, 2, 3, 4, 5]\n",
    "\n",
    "# insert(index, value)\n",
    "lst = [1, 2, 4]\n",
    "lst.insert(2, 3)\n",
    "print(lst)  # [1, 2, 3, 4]\n",
    "\n",
    "# remove(value)\n",
    "lst = [1, 2, 3, 4]\n",
    "lst.remove(3)\n",
    "print(lst)  # [1, 2, 4]\n",
    "\n",
    "# pop(index=-1)\n",
    "lst = [1, 2, 3, 4]\n",
    "print(lst.pop())  # 4 (удаляет и возвращает последний элемент)\n",
    "print(lst.pop(1))  # 2 (удаляет второй элемент)\n",
    "\n",
    "# clear()\n",
    "lst = [1, 2, 3]\n",
    "lst.clear()\n",
    "print(lst)  # []\n",
    "\n",
    "# index(value)\n",
    "lst = [10, 20, 30, 40]\n",
    "print(lst.index(30))  # 2 (возвращает индекс первого вхождения)\n",
    "\n",
    "# count(value)\n",
    "lst = [1, 2, 2, 3, 3, 3]\n",
    "print(lst.count(3))  # 3 (количество троек)\n",
    "\n",
    "# sort()\n",
    "lst = [3, 1, 4, 1, 5, 9]\n",
    "lst.sort()\n",
    "print(lst)  # [1, 1, 3, 4, 5, 9]\n",
    "\n",
    "# reverse()\n",
    "lst = [1, 2, 3]\n",
    "lst.reverse()\n",
    "print(lst)  # [3, 2, 1]\n",
    "\n",
    "# copy()\n",
    "lst = [1, 2, 3]\n",
    "lst_copy = lst.copy()\n",
    "print(lst_copy)  # [1, 2, 3]"
   ]
  },
  {
   "cell_type": "markdown",
   "id": "f44b4c41",
   "metadata": {},
   "source": [
    "## Заметки"
   ]
  },
  {
   "cell_type": "code",
   "execution_count": 27,
   "id": "0fbd1316",
   "metadata": {},
   "outputs": [
    {
     "data": {
      "text/plain": [
       "[1, 2, 10]"
      ]
     },
     "execution_count": 27,
     "metadata": {},
     "output_type": "execute_result"
    }
   ],
   "source": [
    "# Поверхностная копии списка\n",
    "lst = [1, 2, 10]\n",
    "lst.copy()\n",
    "lst[:]"
   ]
  },
  {
   "cell_type": "code",
   "execution_count": 28,
   "id": "97b3c513",
   "metadata": {},
   "outputs": [
    {
     "data": {
      "text/plain": [
       "[1, 2, 10]"
      ]
     },
     "execution_count": 28,
     "metadata": {},
     "output_type": "execute_result"
    }
   ],
   "source": [
    "# Глубокая копии списка\n",
    "import copy\n",
    "copy.deepcopy(lst)"
   ]
  },
  {
   "cell_type": "code",
   "execution_count": 29,
   "id": "c3241a80",
   "metadata": {},
   "outputs": [
    {
     "data": {
      "text/plain": [
       "[10, 20, 30, 40, 50]"
      ]
     },
     "execution_count": 29,
     "metadata": {},
     "output_type": "execute_result"
    }
   ],
   "source": [
    "# Объединение списков\n",
    "lst = [\n",
    "\t[10, 20], [30, 40], [50]\n",
    "]\n",
    "sum(lst, []) # [10,20,30,40,50]"
   ]
  },
  {
   "cell_type": "code",
   "execution_count": 30,
   "id": "0e18602d",
   "metadata": {},
   "outputs": [
    {
     "data": {
      "text/plain": [
       "[1, 2, 3]"
      ]
     },
     "execution_count": 30,
     "metadata": {},
     "output_type": "execute_result"
    }
   ],
   "source": [
    "# Удаление дубликатов в списке\n",
    "lst = [1, 2, 2, 3]\n",
    "list(set(lst))"
   ]
  },
  {
   "cell_type": "code",
   "execution_count": 31,
   "id": "83727f80",
   "metadata": {},
   "outputs": [
    {
     "data": {
      "text/plain": [
       "[1, 2, 3, 4, 5, 6]"
      ]
     },
     "execution_count": 31,
     "metadata": {},
     "output_type": "execute_result"
    }
   ],
   "source": [
    "# Распаковка элементов списка\n",
    "lst = [20, 30, 40, 50]\n",
    "*elements, e2, e3 = lst # [20,30] 40 50\n",
    "e1, e2, *elements = lst # 20,30 [40, 50]\n",
    "\n",
    "x = [1,2,3]\n",
    "y = [*x,4,5,6]\n",
    "y  # [1,2,3,4,5,6]"
   ]
  },
  {
   "cell_type": "code",
   "execution_count": 33,
   "id": "2e16470d",
   "metadata": {},
   "outputs": [
    {
     "data": {
      "text/plain": [
       "2"
      ]
     },
     "execution_count": 33,
     "metadata": {},
     "output_type": "execute_result"
    }
   ],
   "source": [
    "# Наибольшее кол-во элементов\n",
    "lst = [1, 2, 2, 2, 3, 3]\n",
    "max(set(lst), key=lst.count)"
   ]
  },
  {
   "cell_type": "code",
   "execution_count": null,
   "id": "9588ba1a",
   "metadata": {},
   "outputs": [
    {
     "data": {
      "text/plain": [
       "[3, 3, 3, 4, 5]"
      ]
     },
     "execution_count": 35,
     "metadata": {},
     "output_type": "execute_result"
    }
   ],
   "source": [
    "# Изменить несколько значений\n",
    "lst = [1,2,3,4,5]\n",
    "lst[:2] = [3,3]\n",
    "lst  # [3, 3, 3, 4, 5]"
   ]
  },
  {
   "cell_type": "code",
   "execution_count": 38,
   "id": "0469de67",
   "metadata": {},
   "outputs": [
    {
     "data": {
      "text/plain": [
       "[('a', 'c', 'e'), ('b', 'd', 'f')]"
      ]
     },
     "execution_count": 38,
     "metadata": {},
     "output_type": "execute_result"
    }
   ],
   "source": [
    "# Транспонирование матрицы\n",
    "lst = [\n",
    "\t('a', 'b'),\n",
    "\t('c', 'd'),\n",
    "\t('e', 'f')\n",
    "]\n",
    "new_lst = zip(*lst)\n",
    "list(new_lst)  # [('a','c','e'), ('b','d','f')]"
   ]
  }
 ],
 "metadata": {
  "kernelspec": {
   "display_name": "py-experiments",
   "language": "python",
   "name": "python3"
  },
  "language_info": {
   "codemirror_mode": {
    "name": "ipython",
    "version": 3
   },
   "file_extension": ".py",
   "mimetype": "text/x-python",
   "name": "python",
   "nbconvert_exporter": "python",
   "pygments_lexer": "ipython3",
   "version": "3.12.10"
  }
 },
 "nbformat": 4,
 "nbformat_minor": 5
}
