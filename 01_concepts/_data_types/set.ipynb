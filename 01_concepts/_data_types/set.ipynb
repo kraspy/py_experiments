{
 "cells": [
  {
   "cell_type": "markdown",
   "id": "15107e31",
   "metadata": {},
   "source": [
    "Неупорядоченная коллекция уникальных неизменяемых элементов.\n",
    "\n",
    "`set` поддерживает быстрое добавление, удаление и проверку наличия элементов.\\\n",
    "`frozenset` — неизменяемая версия множества.\\\n",
    "Поиск происходит быстрее, чем в списках.\\\n",
    "Элементы множества должны быть неизменяемыми (`int`, `str`, `tuple`, но не `list` или `dict`).\\\n",
    "\n",
    "\n",
    "- [Документация](https://docs.python.org/3/library/stdtypes.html#set)"
   ]
  },
  {
   "cell_type": "markdown",
   "id": "8d2f2402",
   "metadata": {},
   "source": [
    "## Создание"
   ]
  },
  {
   "cell_type": "code",
   "execution_count": 3,
   "id": "25810c95",
   "metadata": {},
   "outputs": [],
   "source": [
    "s1 = set()              # Пустое множество\n",
    "s2 = {1, 2, 3}          # Заполненное множество\n",
    "s3 = set([1, 2, 3, 4])  # Создание из списка\n",
    "s4 = set('hello')       # {'h', 'e', 'l', 'o'}\n",
    "s5 = {i for i in range(1, 11)}  # Генератор множества"
   ]
  },
  {
   "cell_type": "markdown",
   "id": "e01e0cea",
   "metadata": {},
   "source": [
    "## Методы множества"
   ]
  },
  {
   "cell_type": "code",
   "execution_count": 20,
   "id": "1911f837",
   "metadata": {},
   "outputs": [
    {
     "name": "stdout",
     "output_type": "stream",
     "text": [
      "{1, 2, 3}\n",
      "{1, 2, 3, 4}\n",
      "1\n",
      "{4}\n",
      "set()\n"
     ]
    }
   ],
   "source": [
    "# copy()\n",
    "s = {1, 2, 3}\n",
    "s_copy = s.copy()\n",
    "print(s_copy)   # {1, 2, 3}\n",
    "\n",
    "# add(value)\n",
    "s.add(4)\n",
    "print(s)        # {1, 2, 3, 4}\n",
    "\n",
    "# pop()\n",
    "print(s.pop())  # Удаляет и возвращает СЛУЧАЙНЫЙ элемент\n",
    "\n",
    "# remove(value)\n",
    "s.remove(2)     # Удаляет элемент по значению.\n",
    "# Если элемента нет, то KeyError.\n",
    "\n",
    "# discard(value)\n",
    "s.discard(3)    # Удаляет элемент по значению.\n",
    "# Не выбрасывает исключение, если элемента нет.\n",
    "\n",
    "print(s)\n",
    "\n",
    "# clear()\n",
    "s.clear()"
   ]
  },
  {
   "cell_type": "markdown",
   "id": "e40fe763",
   "metadata": {},
   "source": [
    "## Операции с множествами"
   ]
  },
  {
   "cell_type": "code",
   "execution_count": 2,
   "id": "bce4a361",
   "metadata": {},
   "outputs": [
    {
     "name": "stdout",
     "output_type": "stream",
     "text": [
      "{1, 2, 3, 4, 5}\n",
      "{1, 2, 3, 4, 5}\n",
      "{3}\n",
      "{3}\n",
      "{1, 2}\n",
      "{1, 2}\n",
      "{1, 2, 4, 5}\n",
      "{1, 2, 4, 5}\n"
     ]
    }
   ],
   "source": [
    "# union() |\n",
    "a = {1, 2, 3}\n",
    "b = {3, 4, 5}\n",
    "print(a | b)  # {1, 2, 3, 4, 5}\n",
    "\n",
    "# update() |=\n",
    "a = {1, 2, 3}\n",
    "b = {3, 4, 5}\n",
    "a |= b  # Изменяет a\n",
    "print(a)  # {1, 2, 3, 4, 5}\n",
    "\n",
    "# intersection() &\n",
    "a = {1, 2, 3}\n",
    "b = {3, 4, 5}\n",
    "print(a & b)  # {3}\n",
    "\n",
    "# intersection_update() &=\n",
    "a = {1, 2, 3}\n",
    "b = {3, 4, 5}\n",
    "a &= b\n",
    "print(a)  # {3}\n",
    "\n",
    "# difference() -\n",
    "a = {1, 2, 3}\n",
    "b = {3, 4, 5}\n",
    "print(a - b)  # {1, 2}\n",
    "\n",
    "# difference_update() -=\n",
    "a = {1, 2, 3}\n",
    "b = {3, 4, 5}\n",
    "a -= b\n",
    "print(a)  # {1, 2}\n",
    "\n",
    "# symmetric_difference() ^\n",
    "a = {1, 2, 3}\n",
    "b = {3, 4, 5}\n",
    "print(a ^ b)  # {1, 2, 4, 5}\n",
    "\n",
    "# symmetric_difference_update() ^=\n",
    "a = {1, 2, 3}\n",
    "b = {3, 4, 5}\n",
    "a ^= b\n",
    "print(a)  # {1, 2, 4, 5}"
   ]
  },
  {
   "cell_type": "markdown",
   "id": "8ae211d6",
   "metadata": {},
   "source": [
    "## Проверка отношений"
   ]
  },
  {
   "cell_type": "code",
   "execution_count": 21,
   "id": "d79038c7",
   "metadata": {},
   "outputs": [
    {
     "name": "stdout",
     "output_type": "stream",
     "text": [
      "True\n",
      "True\n",
      "True\n"
     ]
    }
   ],
   "source": [
    "# issubset() <=\n",
    "a = {1, 2}\n",
    "b = {1, 2, 3}\n",
    "print(a <= b)  # True (a — подмножество b)\n",
    "\n",
    "# issuperset() >=\n",
    "a = {1, 2, 3}\n",
    "b = {1, 2}\n",
    "print(a >= b)  # True (a — надмножество b)\n",
    "\n",
    "# isdisjoint()\n",
    "a = {1, 2, 3}\n",
    "b = {4, 5, 6}\n",
    "print(a.isdisjoint(b))  # True (нет общих элементов)"
   ]
  }
 ],
 "metadata": {
  "kernelspec": {
   "display_name": "py-experiments",
   "language": "python",
   "name": "python3"
  },
  "language_info": {
   "codemirror_mode": {
    "name": "ipython",
    "version": 3
   },
   "file_extension": ".py",
   "mimetype": "text/x-python",
   "name": "python",
   "nbconvert_exporter": "python",
   "pygments_lexer": "ipython3",
   "version": "3.12.10"
  }
 },
 "nbformat": 4,
 "nbformat_minor": 5
}
