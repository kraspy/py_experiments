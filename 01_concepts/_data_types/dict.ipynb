{
 "cells": [
  {
   "cell_type": "markdown",
   "id": "8857812f",
   "metadata": {},
   "source": [
    "Словарь (dict) является изменяемым упорядоченным (>= python 3.7) типом данных, хранящим пары ключ-значение.\n",
    "\n",
    "Ключи: immutable (число, строка, кортеж)\n",
    "\n",
    "- [Документация](https://docs.python.org/3.13/library/stdtypes.html#mapping-types-dict)"
   ]
  },
  {
   "cell_type": "markdown",
   "id": "cce6afaf",
   "metadata": {},
   "source": [
    "## Создание"
   ]
  },
  {
   "cell_type": "code",
   "execution_count": 17,
   "id": "ede4a003",
   "metadata": {},
   "outputs": [],
   "source": [
    "# Литерал\n",
    "d = {'key1': 'value1', 'key2': 'value2'}"
   ]
  },
  {
   "cell_type": "code",
   "execution_count": 18,
   "id": "00115be1",
   "metadata": {},
   "outputs": [
    {
     "data": {
      "text/plain": [
       "{'key0': 'value0', 'key1': 'value1'}"
      ]
     },
     "execution_count": 18,
     "metadata": {},
     "output_type": "execute_result"
    }
   ],
   "source": [
    "# Из последовательности\n",
    "dict(\n",
    "    [\n",
    "        ['key0', 'value0'],\n",
    "        ['key1', 'value1'],\n",
    "    ],\n",
    ")"
   ]
  },
  {
   "cell_type": "code",
   "execution_count": 19,
   "id": "aa76cb6f",
   "metadata": {},
   "outputs": [],
   "source": [
    "# Объединение последовательностей\n",
    "keys = ['key0', 'key1']\n",
    "values = ['value0', 'value1']\n",
    "obj = dict(zip(keys, values))"
   ]
  },
  {
   "cell_type": "code",
   "execution_count": 20,
   "id": "c5dce4f9",
   "metadata": {},
   "outputs": [],
   "source": [
    "# Заполнение пустого\n",
    "obj = dict()\n",
    "obj['key0'] = 'value0'\n",
    "obj['key1'] = 'value1'"
   ]
  },
  {
   "cell_type": "code",
   "execution_count": 21,
   "id": "5f36fc3d",
   "metadata": {},
   "outputs": [
    {
     "data": {
      "text/plain": [
       "{'a': 0, 'b': 0}"
      ]
     },
     "execution_count": 21,
     "metadata": {},
     "output_type": "execute_result"
    }
   ],
   "source": [
    "# Заполнение ключами/значениями\n",
    "dict.fromkeys(['a', 'b'])\n",
    "dict.fromkeys(['a', 'b'], 0)"
   ]
  },
  {
   "cell_type": "code",
   "execution_count": 22,
   "id": "d7bab1f7",
   "metadata": {},
   "outputs": [],
   "source": [
    "# Генератор словарей\n",
    "{k: v for (k, v) in d.items()}\n",
    "\n",
    "dict_ = {'a': 1, 'b': 2, 'c': 3}\n",
    "new_dict = {key: value + 1 for key, value in dict_.items()}\n",
    "\n",
    "tuples = [('a', 1), ('b', 2), ('c', 3)]\n",
    "new_dict = {key: value for key, value in tuples}\n",
    "\n",
    "numbers = [(1, -1), (2, 2), (3, -2), (4, 3)]\n",
    "new_dict = {key: value for key, value in numbers if value > 0}"
   ]
  },
  {
   "cell_type": "markdown",
   "id": "0bfddbb9",
   "metadata": {},
   "source": [
    "## Методы"
   ]
  },
  {
   "cell_type": "markdown",
   "id": "f61b0d67",
   "metadata": {},
   "source": [
    "### keys()"
   ]
  },
  {
   "cell_type": "code",
   "execution_count": null,
   "id": "a9579204",
   "metadata": {},
   "outputs": [
    {
     "name": "stdout",
     "output_type": "stream",
     "text": [
      "dict_keys(['a', 'b'])\n"
     ]
    }
   ],
   "source": [
    "d = {'a': 1, 'b': 2}\n",
    "print(d.keys())"
   ]
  },
  {
   "cell_type": "markdown",
   "id": "8fbc3c19",
   "metadata": {},
   "source": [
    "### values()"
   ]
  },
  {
   "cell_type": "code",
   "execution_count": null,
   "id": "33202185",
   "metadata": {},
   "outputs": [
    {
     "name": "stdout",
     "output_type": "stream",
     "text": [
      "dict_values([1, 2])\n"
     ]
    }
   ],
   "source": [
    "d = {'a': 1, 'b': 2}\n",
    "print(d.values())"
   ]
  },
  {
   "cell_type": "markdown",
   "id": "170578e4",
   "metadata": {},
   "source": [
    "### items()"
   ]
  },
  {
   "cell_type": "code",
   "execution_count": null,
   "id": "51fceba5",
   "metadata": {},
   "outputs": [
    {
     "name": "stdout",
     "output_type": "stream",
     "text": [
      "dict_items([('a', 1), ('b', 2)])\n"
     ]
    }
   ],
   "source": [
    "d = {'a': 1, 'b': 2}\n",
    "print(d.items())"
   ]
  },
  {
   "cell_type": "markdown",
   "id": "fc18a48d",
   "metadata": {},
   "source": [
    "### get(key, default=None)"
   ]
  },
  {
   "cell_type": "code",
   "execution_count": null,
   "id": "e42012a5",
   "metadata": {},
   "outputs": [
    {
     "name": "stdout",
     "output_type": "stream",
     "text": [
      "1\n",
      "0\n"
     ]
    }
   ],
   "source": [
    "d = {'a': 1, 'b': 2}\n",
    "print(d.get('a', 0))\n",
    "print(d.get('c', 0))"
   ]
  },
  {
   "cell_type": "markdown",
   "id": "c03372bb",
   "metadata": {},
   "source": [
    "### update(other)"
   ]
  },
  {
   "cell_type": "code",
   "execution_count": null,
   "id": "6ccc8233",
   "metadata": {},
   "outputs": [
    {
     "name": "stdout",
     "output_type": "stream",
     "text": [
      "{'a': 1, 'b': 2}\n"
     ]
    }
   ],
   "source": [
    "d = {'a': 1}\n",
    "d.update({'b': 2})\n",
    "print(d)"
   ]
  },
  {
   "cell_type": "markdown",
   "id": "5806fb51",
   "metadata": {},
   "source": [
    "### pop(key, default=None)"
   ]
  },
  {
   "cell_type": "code",
   "execution_count": null,
   "id": "ae3ef565",
   "metadata": {},
   "outputs": [
    {
     "name": "stdout",
     "output_type": "stream",
     "text": [
      "1\n",
      "{'b': 2}\n"
     ]
    }
   ],
   "source": [
    "d = {'a': 1, 'b': 2}\n",
    "value = d.pop('a', None)\n",
    "print(value)\n",
    "print(d)"
   ]
  },
  {
   "cell_type": "markdown",
   "id": "3032fc59",
   "metadata": {},
   "source": [
    "### popitem()"
   ]
  },
  {
   "cell_type": "code",
   "execution_count": null,
   "id": "cb69e85f",
   "metadata": {},
   "outputs": [
    {
     "name": "stdout",
     "output_type": "stream",
     "text": [
      "('b', 2)\n",
      "{'a': 1}\n"
     ]
    }
   ],
   "source": [
    "d = {'a': 1, 'b': 2}\n",
    "item = d.popitem()\n",
    "print(item)\n",
    "print(d)"
   ]
  },
  {
   "cell_type": "markdown",
   "id": "8444cbc4",
   "metadata": {},
   "source": [
    "### clear()"
   ]
  },
  {
   "cell_type": "code",
   "execution_count": null,
   "id": "0101cdd3",
   "metadata": {},
   "outputs": [
    {
     "name": "stdout",
     "output_type": "stream",
     "text": [
      "{}\n"
     ]
    }
   ],
   "source": [
    "d = {'a': 1, 'b': 2}\n",
    "d.clear()\n",
    "print(d)"
   ]
  },
  {
   "cell_type": "markdown",
   "id": "eb2333e8",
   "metadata": {},
   "source": [
    "### copy()"
   ]
  },
  {
   "cell_type": "code",
   "execution_count": null,
   "id": "6c8bd4e7",
   "metadata": {},
   "outputs": [
    {
     "name": "stdout",
     "output_type": "stream",
     "text": [
      "{'a': 1, 'b': 2}\n"
     ]
    }
   ],
   "source": [
    "d = {'a': 1, 'b': 2}\n",
    "new_d = d.copy()\n",
    "print(new_d)"
   ]
  },
  {
   "cell_type": "markdown",
   "id": "a73adaf2",
   "metadata": {},
   "source": [
    "### del[key]"
   ]
  },
  {
   "cell_type": "code",
   "execution_count": null,
   "id": "85983af4",
   "metadata": {},
   "outputs": [
    {
     "name": "stdout",
     "output_type": "stream",
     "text": [
      "{'b': 2}\n"
     ]
    }
   ],
   "source": [
    "d = {'a': 1, 'b': 2}\n",
    "del d['a']\n",
    "print(d)"
   ]
  },
  {
   "cell_type": "markdown",
   "id": "aed345f0",
   "metadata": {},
   "source": [
    "### fromkeys(iterable, value=None)"
   ]
  },
  {
   "cell_type": "code",
   "execution_count": null,
   "id": "4ad91d17",
   "metadata": {},
   "outputs": [
    {
     "name": "stdout",
     "output_type": "stream",
     "text": [
      "{'a': 0, 'b': 0}\n"
     ]
    }
   ],
   "source": [
    "keys = ['a', 'b']\n",
    "d = dict.fromkeys(keys, 0)\n",
    "print(d)"
   ]
  },
  {
   "cell_type": "markdown",
   "id": "fa70886a",
   "metadata": {},
   "source": [
    "### setdefault(key, default=None)"
   ]
  },
  {
   "cell_type": "code",
   "execution_count": 34,
   "id": "0783bb8d",
   "metadata": {},
   "outputs": [
    {
     "name": "stdout",
     "output_type": "stream",
     "text": [
      "2\n",
      "{'a': 1, 'b': 2}\n"
     ]
    }
   ],
   "source": [
    "d = {'a': 1}\n",
    "value = d.setdefault('b', 2)\n",
    "print(value)  # Выведет: 2\n",
    "print(d)      # Выведет: {'a': 1, 'b': 2}"
   ]
  },
  {
   "cell_type": "markdown",
   "id": "750589f6",
   "metadata": {},
   "source": [
    "## Заметки"
   ]
  },
  {
   "cell_type": "code",
   "execution_count": 46,
   "id": "7b4f07bd",
   "metadata": {},
   "outputs": [
    {
     "name": "stdout",
     "output_type": "stream",
     "text": [
      "value1\n",
      "['key1', 'key2']\n",
      "{'prop1': '1', 'prop2': '2'}\n",
      "True\n",
      "(x => 1) (y => 2) (z => 3) "
     ]
    }
   ],
   "source": [
    "# Обращение по ключу \n",
    "my_dict = {'key1': 'value1', 'key2': 'value2'}\n",
    "print(my_dict['key1'])\n",
    "\n",
    "# Сортировка по значениям\n",
    "print(sorted(my_dict, key=my_dict.get))\n",
    "\n",
    "# Распаковка\n",
    "car = {'prop1': '1'}\n",
    "print({**car, 'prop2': '2'})\n",
    "\n",
    "# Сравнение словарей\n",
    "print({'a': 1, 'b': '2'} == {'a': 1, 'b': '2'})\n",
    "\n",
    "# Сортировка словаря\n",
    "d = {'x': 1, 'z': 3, 'y': 2}\n",
    "\n",
    "for key in sorted(d.keys()):\n",
    "  print(\n",
    "\t\"({0} => {1})\".format(\n",
    "\t\tkey,\n",
    "\t\td[key]),\n",
    "\tend=\" \"\n",
    "\t)"
   ]
  }
 ],
 "metadata": {
  "kernelspec": {
   "display_name": "py-experiments",
   "language": "python",
   "name": "python3"
  },
  "language_info": {
   "codemirror_mode": {
    "name": "ipython",
    "version": 3
   },
   "file_extension": ".py",
   "mimetype": "text/x-python",
   "name": "python",
   "nbconvert_exporter": "python",
   "pygments_lexer": "ipython3",
   "version": "3.12.10"
  }
 },
 "nbformat": 4,
 "nbformat_minor": 5
}
