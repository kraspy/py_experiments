{
 "cells": [
  {
   "cell_type": "markdown",
   "id": "2c0a627c",
   "metadata": {},
   "source": [
    "Числовой тип данных в Python, представляющий вещественные числа\n",
    "\n",
    "Разрядность: зависит от платформы, но обычно соответствует 64-битному `double` в C (IEEE 754).\n",
    "\n",
    "Для точных вычислений с десятичными дробями лучше использовать `decimal.Decimal` из модуля `decimal`.\n",
    "\n",
    "- [Документация](https://docs.python.org/3/library/stdtypes.html#numeric-types-int-float-complex)"
   ]
  },
  {
   "cell_type": "code",
   "execution_count": null,
   "id": "a0a020c3",
   "metadata": {},
   "outputs": [],
   "source": [
    "# Литерал\n",
    "num1 = 3.14\n",
    "num2 = -0.001\n",
    "num3 = 1.0e3  # 1.0 * 10^3 = 1000.0\n",
    "num4 = 2.5E-2  # 2.5 * 10^-2 = 0.025\n",
    "\n",
    "# Класс\n",
    "float(\"3.14\")  # 3.14\n",
    "float(\"-0.001\")  # -0.001\n",
    "float(\"1e3\")  # 1000.0\n",
    "float(10)  # 10.0\n",
    "\n",
    "float(\"inf\")  # Бесконечность (Infinity)\n",
    "float(\"-inf\")  # Отрицательная бесконечность\n",
    "float(\"nan\")  # Not a Number (NaN)"
   ]
  },
  {
   "cell_type": "markdown",
   "id": "091d1bd1",
   "metadata": {},
   "source": [
    "## Методы"
   ]
  },
  {
   "cell_type": "code",
   "execution_count": null,
   "id": "f110c49f",
   "metadata": {},
   "outputs": [
    {
     "name": "stdout",
     "output_type": "stream",
     "text": [
      "(5, 2)\n",
      "0x1.91eb851eb851fp+1\n",
      "3.14\n",
      "True\n",
      "False\n",
      "True\n",
      "True\n",
      "True\n"
     ]
    }
   ],
   "source": [
    "import math\n",
    "\n",
    "# as_integer_ratio()\n",
    "x = 2.5\n",
    "print(x.as_integer_ratio())  # (5, 2)\n",
    "\n",
    "# hex()\n",
    "x = 3.14\n",
    "print(x.hex())  # '0x1.91eb851eb851fp+1'\n",
    "\n",
    "# fromhex()\n",
    "print(float.fromhex('0x1.91eb851eb851fp+1'))  # 3.14\n",
    "\n",
    "# is_integer()\n",
    "x = 10.0\n",
    "y = 10.5\n",
    "print(x.is_integer())  # True\n",
    "print(y.is_integer())  # False\n",
    "\n",
    "# math.isnan()\n",
    "x = float('nan')\n",
    "print(math.isnan(x))  # True\n",
    "\n",
    "# math.isinf()\n",
    "x = float('inf')\n",
    "y = -float('inf')\n",
    "print(math.isinf(x))  # True\n",
    "print(math.isinf(y))  # True"
   ]
  }
 ],
 "metadata": {
  "kernelspec": {
   "display_name": "py-experiments",
   "language": "python",
   "name": "python3"
  },
  "language_info": {
   "codemirror_mode": {
    "name": "ipython",
    "version": 3
   },
   "file_extension": ".py",
   "mimetype": "text/x-python",
   "name": "python",
   "nbconvert_exporter": "python",
   "pygments_lexer": "ipython3",
   "version": "3.12.10"
  }
 },
 "nbformat": 4,
 "nbformat_minor": 5
}
