{
 "cells": [
  {
   "cell_type": "markdown",
   "id": "7d12a876",
   "metadata": {},
   "source": [
    "Объект, представляющий блок кода, который можно вызывать многократно.\n",
    "\n",
    "- [Документация](https://docs.python.org/3/reference/compound_stmts.html#function-definitions)\n",
    "\n",
    "[> Подробнее о функциях <](../10_functions.ipynb)"
   ]
  }
 ],
 "metadata": {
  "language_info": {
   "name": "python"
  }
 },
 "nbformat": 4,
 "nbformat_minor": 5
}
