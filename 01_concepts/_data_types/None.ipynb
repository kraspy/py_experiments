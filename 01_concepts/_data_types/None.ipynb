{
 "cells": [
  {
   "cell_type": "markdown",
   "id": "313af55a",
   "metadata": {},
   "source": [
    "`NoneType`\n",
    "Единственный тип, имеющий единственный экземпляр — `None`.\n",
    "\n",
    "Проверка на `None` выполняется с помощью `is`, а не `==`.\n",
    "\n",
    "- [Документация](https://docs.python.org/3/library/constants.html#None)"
   ]
  }
 ],
 "metadata": {
  "language_info": {
   "name": "python"
  }
 },
 "nbformat": 4,
 "nbformat_minor": 5
}
