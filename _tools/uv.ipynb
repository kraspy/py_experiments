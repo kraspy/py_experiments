{
 "cells": [
  {
   "cell_type": "markdown",
   "id": "f6317918",
   "metadata": {},
   "source": [
    "## 🎯 Создание проектов\n",
    "```bash\n",
    "# Инициализировать проект в текущей директории\n",
    "uv init\n",
    "\n",
    "# Инициализировать проект myproj в одноимённой директории\n",
    "uv init myproj\n",
    "\n",
    "# Использовать Python 3.X для проекта\n",
    "uv init --python 3.X ...\n",
    "\n",
    "# Инициализировать библиотеку (пакет, который можно импортировать)\n",
    "uv init --lib --package ...\n",
    "\n",
    "# Инициализировать приложение (CLI, web app и т.п.)\n",
    "uv init --app --package ...\n",
    "```"
   ]
  },
  {
   "cell_type": "markdown",
   "id": "613edfb2",
   "metadata": {},
   "source": [
    "## 📦 Зависимости проекта\n",
    "```bash\n",
    "# Добавить зависимость requests\n",
    "uv add requests\n",
    "\n",
    "# Удалить зависимость requests и ненужные транзитивные зависимости\n",
    "uv remove requests\n",
    "\n",
    "# Добавить зависимости из указанного файла requirements.txt\n",
    "uv add -r requirements.txt\n",
    "\n",
    "# Добавить pytest как dev-зависимость\n",
    "uv add --dev pytest\n",
    "\n",
    "# Запустить pytest, установленный в проекте\n",
    "uv run pytest\n",
    "\n",
    "# Обновить зависимости до последних версий\n",
    "uv lock --upgrade\n",
    "\n",
    "# Просмотреть дерево зависимостей\n",
    "uv tree\n",
    "```"
   ]
  },
  {
   "cell_type": "markdown",
   "id": "8209b755",
   "metadata": {},
   "source": [
    "## 🔢 Управление версиями проекта\n",
    "```bash\n",
    "# Показать текущую версию проекта\n",
    "uv version\n",
    "\n",
    "# Увеличить major версию\n",
    "uv version --bump major\n",
    "\n",
    "# Увеличить minor версию\n",
    "uv version --bump minor\n",
    "\n",
    "# Увеличить patch версию\n",
    "uv version --bump patch\n",
    "\n",
    "# Обновить minor версию и сделать её альфа-версией\n",
    "uv version --bump minor --bump alpha\n",
    "\n",
    "# Создать альфа-версию (alpha, beta или rc)\n",
    "uv version --bump alpha\n",
    "\n",
    "# Сделать версию стабильной\n",
    "uv version --bump stable\n",
    "```"
   ]
  },
  {
   "cell_type": "markdown",
   "id": "ed401d0d",
   "metadata": {},
   "source": [
    "## 🚀 Сборка и публикация\n",
    "```bash\n",
    "# Собрать проект\n",
    "uv build\n",
    "\n",
    "# Опубликовать проект\n",
    "uv publish\n",
    "```"
   ]
  },
  {
   "cell_type": "markdown",
   "id": "7a7181e1",
   "metadata": {},
   "source": [
    "## ⚒️ Инструменты\n",
    "```bash\n",
    "# Установить и запустить ty (аналог uv tool run ty)\n",
    "uvx ty\n",
    "\n",
    "# Запустить команду textual-demo из пакета textual\n",
    "uvx textual-demo --from textual\n",
    "\n",
    "# Установить Ruff глобально\n",
    "uv tool install ruff\n",
    "\n",
    "# Установить инструмент с дополнительными зависимостями (например, плагинами)\n",
    "uv tool install --with dep ...\n",
    "\n",
    "# Установить текущий проект в editable-режиме\n",
    "uv tool install -e .\n",
    "\n",
    "# Обновить все инструменты\n",
    "uv tool upgrade --all\n",
    "\n",
    "# Удалить инструмент\n",
    "uv tool uninstall <tool>\n",
    "\n",
    "# Показать список установленных инструментов\n",
    "uv tool list\n",
    "```"
   ]
  },
  {
   "cell_type": "markdown",
   "id": "a1c6142d",
   "metadata": {},
   "source": [
    "## 🧾 Работа со скриптами\n",
    "```bash\n",
    "# Инициализировать скрипт\n",
    "uv init --script myscript.py\n",
    "\n",
    "# Инициализировать скрипт и зафиксировать Python 3.X\n",
    "uv init --script myscript.py --python 3.X\n",
    "\n",
    "# Добавить зависимость click в метаданные скрипта\n",
    "uv add click --script myscript.py\n",
    "\n",
    "# Запустить скрипт в изолированной среде\n",
    "uv run myscript.py\n",
    "```"
   ]
  },
  {
   "cell_type": "markdown",
   "id": "473e7768",
   "metadata": {},
   "source": [
    "## 🧙 Для опытных пользователей\n",
    "```bash\n",
    "# Создать виртуальное окружение в path/to/.venv\n",
    "uv venv path/to/.venv\n",
    "\n",
    "# Создать окружение с указанной версией Python\n",
    "uv venv path/to/.venv --python 3.X\n",
    "\n",
    "# Использовать интерфейс pip, но с высокой скоростью uv ⚡️\n",
    "uv pip install ...\n",
    "```"
   ]
  },
  {
   "cell_type": "markdown",
   "id": "1316da1d",
   "metadata": {},
   "source": [
    "## ✨ Разное\n",
    "```bash\n",
    "# Форматировать код с помощью Ruff через uv\n",
    "uv format\n",
    "```"
   ]
  },
  {
   "cell_type": "markdown",
   "id": "f4a8c113",
   "metadata": {},
   "source": [
    "## 🧭 Метакоманды\n",
    "```bash\n",
    "# Показать справку по подкоманде uv python pin\n",
    "uv help python pin\n",
    "\n",
    "# Обновить uv\n",
    "uv self update\n",
    "\n",
    "# Проверить текущую версию uv\n",
    "uv self version\n",
    "```"
   ]
  },
  {
   "cell_type": "markdown",
   "id": "d2b57bfc",
   "metadata": {},
   "source": [
    "## 🐍 Управление Python\n",
    "```bash\n",
    "# Запустить Python (ищется подходящая версия в проекте или окружении)\n",
    "uv run python\n",
    "\n",
    "# Список установленных и доступных интерпретаторов Python\n",
    "uv python list\n",
    "\n",
    "# Установить, обновить или удалить Python\n",
    "uv python install 3.13\n",
    "uv python upgrade\n",
    "uv python uninstall 3.X\n",
    "\n",
    "# Закрепить версию Python для проекта\n",
    "uv python pin 3.X\n",
    "\n",
    "# Запустить Python 3.X напрямую\n",
    "uv run --python 3.X python\n",
    "```"
   ]
  }
 ],
 "metadata": {
  "language_info": {
   "name": "python"
  }
 },
 "nbformat": 4,
 "nbformat_minor": 5
}
