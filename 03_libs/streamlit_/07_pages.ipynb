{
 "cells": [
  {
   "cell_type": "markdown",
   "id": "139a91ce",
   "metadata": {},
   "source": [
    "## Страницы\n",
    "[doc](https://docs.streamlit.io/develop/concepts/multipage-apps)\n",
    "### Каталог pages\n",
    "[doc](https://docs.streamlit.io/develop/concepts/multipage-apps/pages-directory) \n",
    "```python title:'main.py'\n",
    "import streamlit as st\n",
    "st.text('some text')\n",
    "```\n",
    "```python title:'pages/page1.py'\n",
    "import streamlit as st\n",
    "st.text('some text 1')\n",
    "```\n",
    "```python title:'pages/page2.py'\n",
    "import streamlit as st\n",
    "st.text('some text 2')\n",
    "```\n",
    "### st.page_link\n",
    "[doc](https://docs.streamlit.io/develop/concepts/multipage-apps/overview#navigating-between-pages)\n",
    "```toml title:config.toml\n",
    "[client]  \n",
    "showSidebarNavigation = false\n",
    "```\n",
    "```python\n",
    "st.page_link(  \n",
    "    page='pages/page_1.py',  \n",
    "    label='Page 1 link',\n",
    ")\n",
    "```\n",
    "### st.navigation\n",
    "[doc](https://docs.streamlit.io/develop/concepts/multipage-apps/page-and-navigation)\n",
    "```python\n",
    "pg = st.navigation(  \n",
    "    pages=[  \n",
    "        st.Page('pages/main_page.py', title='Home page', icon='🏠️', url_path='home'),  \n",
    "        st.Page('pages/page_1.py', title='Page 1', icon='✅', url_path='page_1'),  \n",
    "    ]  \n",
    ")  \n",
    "  \n",
    "pg.run()\n",
    "```"
   ]
  }
 ],
 "metadata": {
  "language_info": {
   "name": "python"
  }
 },
 "nbformat": 4,
 "nbformat_minor": 5
}
