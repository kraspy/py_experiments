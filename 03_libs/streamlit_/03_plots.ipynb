{
 "cells": [
  {
   "cell_type": "markdown",
   "id": "2a4d0f6d",
   "metadata": {},
   "source": [
    "## Графики\n",
    "```python\n",
    "st.line_chart(pd.DataFrame(data=[1, 2, 3, 2, 5]))"
   ]
  }
 ],
 "metadata": {
  "language_info": {
   "name": "python"
  }
 },
 "nbformat": 4,
 "nbformat_minor": 5
}
