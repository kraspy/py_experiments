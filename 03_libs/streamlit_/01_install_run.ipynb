{
 "cells": [
  {
   "cell_type": "markdown",
   "id": "6d0cc3d4",
   "metadata": {},
   "source": [
    "## Установка и запуск\n",
    "```shell\n",
    "pip install streamlit\n",
    "streamlit run your_script.py\n",
    "```"
   ]
  }
 ],
 "metadata": {
  "language_info": {
   "name": "python"
  }
 },
 "nbformat": 4,
 "nbformat_minor": 5
}
