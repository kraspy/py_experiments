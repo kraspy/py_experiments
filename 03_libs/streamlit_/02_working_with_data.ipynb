{
 "cells": [
  {
   "cell_type": "markdown",
   "id": "3f2647aa",
   "metadata": {},
   "source": [
    "## Работа с данными\n",
    "```python\n",
    "import streamlit as st\n",
    "import numpy as np\n",
    "\n",
    "dataframe = np.random.randn(10, 20)\n",
    "st.dataframe(dataframe)\n",
    "```"
   ]
  }
 ],
 "metadata": {
  "language_info": {
   "name": "python"
  }
 },
 "nbformat": 4,
 "nbformat_minor": 5
}
