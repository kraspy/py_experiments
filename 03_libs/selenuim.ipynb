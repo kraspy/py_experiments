{
 "cells": [
  {
   "cell_type": "markdown",
   "id": "6bb08ddd",
   "metadata": {},
   "source": [
    "[Документация](https://www.selenium.dev/documentation/)"
   ]
  },
  {
   "cell_type": "code",
   "execution_count": 26,
   "id": "c3241401",
   "metadata": {},
   "outputs": [],
   "source": [
    "from selenium import webdriver\n",
    "from selenium.webdriver.common.by import By\n",
    "from selenium.common.exceptions import NoSuchElementException\n",
    "\n",
    "options: webdriver.ChromeOptions = webdriver.ChromeOptions()\n",
    "options.add_argument('--start-maximized')\n",
    "\n",
    "driver = webdriver.Chrome(options=options)\n",
    "driver.get(r'http://books.toscrape.com/')"
   ]
  },
  {
   "cell_type": "code",
   "execution_count": 6,
   "id": "f0043d07",
   "metadata": {},
   "outputs": [
    {
     "data": {
      "text/plain": [
       "'All products | Books to Scrape - Sandbox'"
      ]
     },
     "execution_count": 6,
     "metadata": {},
     "output_type": "execute_result"
    }
   ],
   "source": [
    "driver.title"
   ]
  },
  {
   "cell_type": "markdown",
   "id": "c6deca77",
   "metadata": {},
   "source": [
    "### Поиск элементов\n",
    "```python\n",
    "driver.find_element_by_id('id')\n",
    "driver.find_element_by_name('name')\n",
    "driver.find_element_by_class_name('class')\n",
    "driver.find_element_by_tag_name('tag')\n",
    "driver.find_element_by_xpath('xpath')\n",
    "driver.find_element_by_css_selector('css')\n",
    "driver.find_element_by_link_text('link')\n",
    "driver.find_element_by_partial_link_text('link')\n",
    "```"
   ]
  },
  {
   "cell_type": "markdown",
   "id": "59a6e700",
   "metadata": {},
   "source": [
    "### By\n",
    "```python\n",
    "1. By.ID            # Локатор по ID атрибуту.\n",
    "2. By.NAME          # Локатор по атрибуту name.\n",
    "3. By.CLASS_NAME    # Локатор по атрибуту class.\n",
    "4. By.TAG_NAME      # Локатор по названию тега.\n",
    "5. By.XPATH         # Локатор с использованием XPATH выражения.\n",
    "6. By.CSS_SELECTOR  # Локатор с использованием CSS-селекторов.\n",
    "7. By.LINK_TEXT\n",
    "8. By.PARTIAL_LINK_TEXT\n",
    "```"
   ]
  },
  {
   "cell_type": "code",
   "execution_count": null,
   "id": "9690710c",
   "metadata": {},
   "outputs": [
    {
     "name": "stdout",
     "output_type": "stream",
     "text": [
      "https://books.toscrape.com/catalogue/a-light-in-the-attic_1000/index.html\n",
      "https://books.toscrape.com/catalogue/a-light-in-the-attic_1000/index.html\n",
      "https://books.toscrape.com/catalogue/tipping-the-velvet_999/index.html\n",
      "https://books.toscrape.com/catalogue/tipping-the-velvet_999/index.html\n",
      "https://books.toscrape.com/catalogue/soumission_998/index.html\n"
     ]
    }
   ],
   "source": [
    "section = driver.find_element(By.TAG_NAME, 'section')\n",
    "\n",
    "for link in section.find_elements(By.TAG_NAME, 'a')[:5]:\n",
    "    print(link.get_attribute('href'))"
   ]
  },
  {
   "cell_type": "markdown",
   "id": "e7e5ccc2",
   "metadata": {},
   "source": [
    "### Exceptions\n",
    "- `NoSuchElementException`: Вызывается, когда элемент не найден.\n",
    "- `TimeoutException`: Вызывается, когда элемент не найден в течение заданного времени.\n",
    "- `StaleElementReferenceException`: Вызывается, когда элемент не принадлежит к DOM-дереву страницы.\n",
    "- `ElementNotInteractableException`: Вызывается, когда элемент не может быть взаимодействовать с пользователем.\n",
    "- `ElementNotSelectableException`: Вызывается, когда элемент не может быть выбран.\n",
    "- `ElementNotVisibleException`: Вызывается, когда элемент не видим.\n",
    "- `InvalidElementStateException`: Вызывается, когда элемент не в том состоянии, в котором должен быть.\n",
    "- `InvalidSelectorException`: Вызывается, когда селектор неверен.\n",
    "- `MoveTargetOutOfBoundsException`: Вызывается, когда цель движения находится за пределами окна браузера.\n",
    "- `NoSuchAttributeException`: Вызывается, когда атрибут не найден.\n",
    "- `NoSuchWindowException`: Вызывается, когда окно не ]найдено.\n",
    "- `NoSuchFrameException`: Вызывается, когда фрейм не найден.\n",
    "- `NoAlertPresentException`: Вызывается, когда алерт не найден.\n",
    "- `UnexpectedAlertPresentException`: Вызывается, когда алерт не ожидался.\n",
    "- `WebDriverException`: Вызывается, когда происходит ошибка веб-драйвера.\n",
    "- `TimeoutException`: Вызывается, когда время ожидания истекло.\n",
    "- `SessionNotCreatedException`: Вызывается, когда сессия не создана.\n",
    "- `InvalidArgumentException`: Вызывается, когда аргумент неверен.\n",
    "- `InvalidCookieDomainException`: Вызывается, когда домен cookie неверен.\n",
    "- `InvalidCoordinatesException`: Вызывается, когда координаты неверны.\n",
    "- `InvalidElementCoordinatesException`: Вызывается, когда координаты элемента неверны.\n",
    "- `InvalidSessionIdException`: Вызывается, когда ID сессии неверен.\n",
    "- `InvalidSwitchToTargetException`: Вызывается, когда цель переключения неверна.\n",
    "- `InvalidSelectorException`: Вызывается, когда селектор неверен.\n",
    "- `InvalidSwitchToTargetException`: Вызывается, когда цель переключения неверна.\n"
   ]
  },
  {
   "cell_type": "code",
   "execution_count": 10,
   "id": "addd27e1",
   "metadata": {},
   "outputs": [
    {
     "name": "stdout",
     "output_type": "stream",
     "text": [
      "Elements with id=\"id\" not found\n"
     ]
    }
   ],
   "source": [
    "try:\n",
    "    driver.find_element(By.ID, 'id')\n",
    "except NoSuchElementException:\n",
    "    print('Elements with id=\"id\" not found')\n",
    "    driver.quit()"
   ]
  },
  {
   "cell_type": "markdown",
   "id": "96993354",
   "metadata": {},
   "source": [
    "### WebElement\n",
    "```python\n",
    "WebElement.text                      # Текст элемента.\n",
    "WebElement.click()                   # Симулирует клик мышью по данному элементу.\n",
    "WebElement.submit()                  # Симулирует отправку формы, в которой находится данный элемент.\n",
    "WebElement.get_attribute(name)       # Значение указанного атрибута элемента.\n",
    "WebElement.is_displayed()            # True, если элемент видим на странице, и `False` в противном случае.\n",
    "WebElement.is_enabled()              # True, если элемент активен (то есть, его можно кликнуть или ввести в него текст), и `False` в противном случае.\n",
    "WebElement.is_selected()             # True, если элемент выбран (для радиокнопок, чекбоксов и т.д.), и `False` в противном случае.\n",
    "WebElement.send_keys(*args)          # Симулирует ввод текста в элемент.\n",
    "WebElement.clear()                   # Очищает текст в элементе.\n",
    "WebElement.screenshot(filename)      # Сохраняет скриншот элемента в файл.\n",
    "WebElement.rect                      # Словарь с координатами элемента.\n",
    "WebElement.location                  # Словарь с координатами левого верхнего угла элемента.\n",
    "WebElement.size                      # Словарь с шириной и высотой элемента.\n",
    "WebElement.parent                    # Родительский элемент.\n",
    "WebElement.find_element(by, value)   # Первый элемент, который соответствует заданным параметрам поиска.\n",
    "WebElement.find_elements(by, value)  # Список элементов, которые соответствуют заданным параметрам поиска.\n",
    "```\n"
   ]
  },
  {
   "cell_type": "code",
   "execution_count": null,
   "id": "4e9d92a9",
   "metadata": {},
   "outputs": [
    {
     "name": "stdout",
     "output_type": "stream",
     "text": [
      "All products | Books to Scrape - Sandbox\n",
      "---\n",
      "\n",
      "https://books.toscrape.com/catalogue/a-light-in-the-attic_1000/index.html\n",
      "\n",
      "A Light in the Attic | Books to Scrape - Sandbox\n"
     ]
    }
   ],
   "source": [
    "first_link = driver.find_element(By.CSS_SELECTOR, 'article.product_pod a')\n",
    "\n",
    "print(\n",
    "    driver.title,\n",
    "    '---',\n",
    "    first_link.text,\n",
    "    first_link.get_attribute('href'),\n",
    "    first_link.get_attribute('class'),\n",
    "    sep='\\n'\n",
    ")\n",
    "\n",
    "first_link.click()\n",
    "\n",
    "print(driver.title)\n",
    "\n",
    "driver.quit()"
   ]
  },
  {
   "cell_type": "markdown",
   "id": "b0453c87",
   "metadata": {},
   "source": [
    "### WebDriver\n",
    "```python\n",
    "driver.back()                             # Переход на предыдущую страницу\n",
    "driver.forward()                          # Переход на следующую страницу\n",
    "driver.refresh()                          # Обновление страницы\n",
    "driver.close()                            # Закрытие текущего окна\n",
    "driver.quit()                             # Закрытие всех окон и завершение работы драйвера\n",
    "driver.get(url)                           # Переход на страницу\n",
    "driver.current_url                        # Текущий URL\n",
    "driver.title                              # Заголовок страницы\n",
    "driver.page_source                        # HTML-код страницы\n",
    "driver.find_element(by, value)            # Поиск элемента\n",
    "driver.find_elements(by, value)           # Поиск элементов\n",
    "driver.switch_to.frame(frame_reference)   # Переключение на фрейм\n",
    "driver.switch_to.default_content()        # Переключение на основную страницу\n",
    "driver.switch_to.parent_frame()           # Переключение на родительский фрейм\n",
    "driver.switch_to.window(window_name)      # Переключение на окно\n",
    "driver.switch_to.alert                    # Переключение на алерт\n",
    "driver.switch_to.active_element           # Переключение на активный элемент\n",
    "driver.switch_to.window(window_name)      # Переключение на окно\n",
    "```"
   ]
  },
  {
   "cell_type": "code",
   "execution_count": 27,
   "id": "e2eb5cec",
   "metadata": {},
   "outputs": [],
   "source": [
    "from time import sleep\n",
    "\n",
    "def go(actions):\n",
    "    for action in actions:\n",
    "        action()\n",
    "        sleep(1)\n",
    "\n",
    "actions = [\n",
    "    lambda: driver.get(r'http://toscrape.com/'),\n",
    "    lambda: driver.back(),\n",
    "    lambda: driver.forward(),\n",
    "    lambda: driver.refresh()\n",
    "]\n",
    "\n",
    "go(actions)"
   ]
  },
  {
   "cell_type": "markdown",
   "id": "6cc6baf5",
   "metadata": {},
   "source": [
    "### Работа с мышью\n",
    "```python\n",
    "from selenium.webdriver.common.action_chains import ActionChains\n",
    "actions = ActionChains(driver)\n",
    "actions.context_click(element).perform()\n",
    "actions.double_click(element).perform()\n",
    "actions.drag_and_drop(element, target).perform()\n",
    "actions.move_to_element(element).perform()\n",
    "actions.move_to_element_with_offset(element, xoffset, yoffset).perform()\n",
    "actions.click_and_hold(element).perform()\n",
    "actions.release(element).perform()\n",
    "```"
   ]
  },
  {
   "cell_type": "markdown",
   "id": "ec9ea5d0",
   "metadata": {},
   "source": [
    "### Работа с клавиатурой\n",
    "```python\n",
    "from selenium.webdriver.common.keys import Keys\n",
    "element.send_keys('text')\n",
    "element.send_keys(Keys.ENTER)\n",
    "element.send_keys(Keys.BACKSPACE)\n",
    "element.send_keys(Keys.CONTROL, 'a')\n",
    "```"
   ]
  },
  {
   "cell_type": "markdown",
   "id": "1768e69f",
   "metadata": {},
   "source": [
    "### Скролл\n",
    "```python\n",
    "driver.execute_script('window.scrollTo(0, 200);')  # Скролл на 200 пикселей вниз\n",
    "driver.execute_script('window.scrollTo(200, 0);')  # Скролл на 200 пикселей вправо\n",
    "driver.execute_script('window.scrollTo(0, document.body.scrollHeight);')\n",
    "```"
   ]
  },
  {
   "cell_type": "markdown",
   "id": "fae92815",
   "metadata": {},
   "source": [
    "### Undetectable ChromeDriver\n",
    "```python\n",
    "from selenium import webdriver\n",
    "from selenium.webdriver.chrome.options import Options\n",
    "options = Options()\n",
    "options.add_argument('--disable-blink-features=AutomationControlled')\n",
    "driver = webdriver.Chrome(options=options)\n",
    "```"
   ]
  },
  {
   "cell_type": "markdown",
   "id": "0fa17688",
   "metadata": {},
   "source": [
    "### Работа с модальными окнами\n",
    "```python\n",
    "alert = driver.switch_to.alert\n",
    "alert.accept()\n",
    "alert.dismiss()\n",
    "alert.send_keys('text')\n",
    "alert.text\n",
    "```"
   ]
  },
  {
   "cell_type": "markdown",
   "id": "10a5fdc0",
   "metadata": {},
   "source": [
    "### Виды ожиданий\n",
    "1. `presence_of_element_located`: Ожидание появления элемента.\n",
    "2. `visibility_of_element_located`: Ожидание видимости элемента.\n",
    "3. `visibility_of`: Ожидание видимости элемента.\n",
    "4. `element_to_be_clickable`: Ожидание кликабельности элемента.\n",
    "5. `element_to_be_selected`: Ожидание выбора элемента.\n",
    "6. `element_to_be_located`: Ожидание появления элемента."
   ]
  },
  {
   "cell_type": "markdown",
   "id": "19c3594e",
   "metadata": {},
   "source": [
    "### Ожидание\n",
    "```python\n",
    "from selenium.webdriver.support.ui import WebDriverWait\n",
    "from selenium.webdriver.support import expected_conditions as EC\n",
    "element = WebDriverWait(driver, 10).until(EC.presence_of_element_located((By.ID, 'id')))\n",
    "```"
   ]
  },
  {
   "cell_type": "markdown",
   "id": "cb7dfa79",
   "metadata": {},
   "source": [
    "### Cookies\n",
    "```python\n",
    "driver.get_cookies()\n",
    "driver.get_cookie('name')\n",
    "driver.delete_cookie('name')\n",
    "driver.delete_all_cookies()\n",
    "driver.add_cookie({'name': 'name', 'value': 'value'})\n",
    "```"
   ]
  },
  {
   "cell_type": "markdown",
   "id": "0ed853e2",
   "metadata": {},
   "source": [
    "### User Agent\n",
    "```python\n",
    "from selenium.webdriver.chrome.options import Options\n",
    "options = Options()\n",
    "options.add_argument('--user-agent=Mozilla/5.0 (iPhone; CPU iPhone OS 13_2_3 like Mac OS X) AppleWebKit/605.1.15 (KHTML, like Gecko) Version/13.0.3 Mobile/15E148 Safari/604.1')\n",
    "driver = webdriver.Chrome(options=options)\n",
    "```"
   ]
  },
  {
   "cell_type": "markdown",
   "id": "7f6d4df6",
   "metadata": {},
   "source": [
    "### undetected_chromedriver\n",
    "```python\n",
    "from undetected_chromedriver import Chrome, ChromeOptions\n",
    "options = ChromeOptions()\n",
    "options.add_argument('--headless')\n",
    "driver = Chrome(options=options)\n",
    "```"
   ]
  },
  {
   "cell_type": "markdown",
   "id": "a691d705",
   "metadata": {},
   "source": [
    "### Работа с вкладками\n",
    "```python\n",
    "driver.switch_to.window(window_name)\n",
    "driver.window_handles\n",
    "driver.current_window_handle\n",
    "driver.switch_to.window(driver.window_handles[0])\n",
    "```"
   ]
  },
  {
   "cell_type": "markdown",
   "id": "61517f48",
   "metadata": {},
   "source": [
    "### Работа с фреймами\n",
    "```python\n",
    "driver.switch_to.frame(frame_reference)\n",
    "driver.switch_to.default_content()\n",
    "```"
   ]
  },
  {
   "cell_type": "markdown",
   "id": "f5ed87b3",
   "metadata": {},
   "source": [
    "### Работа с формами\n",
    "```python\n",
    "from selenium.webdriver.support.ui import Select\n",
    "select = Select(driver.find_element_by_id('id'))\n",
    "select.select_by_index(0)\n",
    "select.select_by_visible_text('text')\n",
    "```"
   ]
  }
 ],
 "metadata": {
  "kernelspec": {
   "display_name": "py-experiments",
   "language": "python",
   "name": "python3"
  },
  "language_info": {
   "codemirror_mode": {
    "name": "ipython",
    "version": 3
   },
   "file_extension": ".py",
   "mimetype": "text/x-python",
   "name": "python",
   "nbconvert_exporter": "python",
   "pygments_lexer": "ipython3",
   "version": "3.12.10"
  }
 },
 "nbformat": 4,
 "nbformat_minor": 5
}
