{
 "cells": [
  {
   "cell_type": "markdown",
   "id": "052b1265",
   "metadata": {},
   "source": [
    "## Установка"
   ]
  },
  {
   "cell_type": "code",
   "execution_count": null,
   "id": "df4ae6f5",
   "metadata": {
    "vscode": {
     "languageId": "shellscript"
    }
   },
   "outputs": [],
   "source": [
    "pip install pydub"
   ]
  },
  {
   "cell_type": "markdown",
   "id": "23e0d0f8",
   "metadata": {},
   "source": [
    "Для некоторых возможностей потребуется ffmpeg:\n",
    "- Linux: `sudo apt install ffmpeg`\n",
    "- macOS: `brew install ffmpeg`\n",
    "- Windows: [Загрузить](https://ffmpeg.org/download.html)\n"
   ]
  },
  {
   "cell_type": "markdown",
   "id": "3e677c52",
   "metadata": {},
   "source": [
    "## Импорт"
   ]
  },
  {
   "cell_type": "code",
   "execution_count": null,
   "id": "186fd34a",
   "metadata": {},
   "outputs": [],
   "source": [
    "from pydub import AudioSegment\n",
    "from pydub.playback import play"
   ]
  },
  {
   "cell_type": "markdown",
   "id": "93167b7f",
   "metadata": {},
   "source": [
    "## Чтение аудиофайлов"
   ]
  },
  {
   "cell_type": "code",
   "execution_count": null,
   "id": "83a10bcd",
   "metadata": {},
   "outputs": [],
   "source": [
    "audio = AudioSegment.from_file('path/to/audio.mp3', format='mp3')\n",
    "audio_wav = AudioSegment.from_file('path/to/audio.wav', format='wav')"
   ]
  },
  {
   "cell_type": "markdown",
   "id": "30d3c200",
   "metadata": {},
   "source": [
    "## Проигрывание аудио"
   ]
  },
  {
   "cell_type": "code",
   "execution_count": null,
   "id": "566bfe45",
   "metadata": {},
   "outputs": [],
   "source": [
    "play(audio)"
   ]
  },
  {
   "cell_type": "markdown",
   "id": "f132ee30",
   "metadata": {},
   "source": [
    "## Основные операции"
   ]
  },
  {
   "cell_type": "code",
   "execution_count": null,
   "id": "70dc2624",
   "metadata": {},
   "outputs": [],
   "source": [
    "# Изменение громкости\n",
    "louder = audio + 6   # Увеличить на 6 дБ\n",
    "quieter = audio - 3  # Уменьшить на 3 дБ\n",
    "\n",
    "# Слияние аудио\n",
    "combined = audio1 + audio2\n",
    "\n",
    "# Повторение\n",
    "looped = audio * 3   # Повторить 3 раза\n",
    "\n",
    "# Нарезка\n",
    "beginning = audio[:5000]  # Первые 5 секунд\n",
    "ending = audio[-5000:]    # Последние 5 секунд\n",
    "\n",
    "# Длина (в миллисекундах)\n",
    "length = len(audio)"
   ]
  },
  {
   "cell_type": "markdown",
   "id": "7daac904",
   "metadata": {},
   "source": [
    "### Экспорт"
   ]
  },
  {
   "cell_type": "code",
   "execution_count": null,
   "id": "9013fe38",
   "metadata": {},
   "outputs": [],
   "source": [
    "audio.export('output.mp3', format='mp3', bitrate='192k')"
   ]
  },
  {
   "cell_type": "markdown",
   "id": "d05659a2",
   "metadata": {},
   "source": [
    "### Тишина"
   ]
  },
  {
   "cell_type": "code",
   "execution_count": null,
   "id": "bf4b19a1",
   "metadata": {},
   "outputs": [],
   "source": [
    "# Создание тишины\n",
    "silent_segment = AudioSegment.silent(duration=3000)  # 3 секунды\n",
    "\n",
    "# Сравнение/поиск тишины\n",
    "from pydub import silence\n",
    "\n",
    "silence.detect_silence(audio, min_silence_len=1000, silence_thresh=-30)"
   ]
  },
  {
   "cell_type": "markdown",
   "id": "c3f3f5ee",
   "metadata": {},
   "source": [
    "### Эффекты"
   ]
  },
  {
   "cell_type": "code",
   "execution_count": null,
   "id": "e1064b2a",
   "metadata": {},
   "outputs": [],
   "source": [
    "from pydub.effects import normalize, speedup, invert_phase\n",
    "\n",
    "normalized = normalize(audio)                # Нормализация громкости\n",
    "faster = speedup(audio, playback_speed=1.5)  # Ускорение\n",
    "inverted = invert_phase(audio)               # Инверсия фазы"
   ]
  },
  {
   "cell_type": "markdown",
   "id": "25bfd294",
   "metadata": {},
   "source": [
    "### Анализ"
   ]
  },
  {
   "cell_type": "code",
   "execution_count": null,
   "id": "e4ddc678",
   "metadata": {},
   "outputs": [],
   "source": [
    "# Громкость в dBFS\n",
    "loudness = audio.dBFS\n",
    "\n",
    "# Частота кадров (Hz)\n",
    "frame_rate = audio.frame_rate\n",
    "\n",
    "# Количество каналов\n",
    "channels = audio.channels"
   ]
  },
  {
   "cell_type": "markdown",
   "id": "f7f017f3",
   "metadata": {},
   "source": [
    "### Генерация шума"
   ]
  },
  {
   "cell_type": "code",
   "execution_count": null,
   "id": "796099cb",
   "metadata": {},
   "outputs": [],
   "source": [
    "from pydub.generators import Sine, WhiteNoise\n",
    "\n",
    "sine_wave = Sine(440).to_audio_segment(duration=3000)       # 440 Гц, 3 сек\n",
    "white_noise = WhiteNoise().to_audio_segment(duration=3000)  # Белый шум, 3 сек"
   ]
  }
 ],
 "metadata": {
  "language_info": {
   "name": "python"
  }
 },
 "nbformat": 4,
 "nbformat_minor": 5
}
