{
 "cells": [
  {
   "cell_type": "markdown",
   "id": "f0efb0f7",
   "metadata": {},
   "source": [
    "## Менеджер моделей в Django\n",
    "Интерфейс взаимодействия с базой данных.\n",
    "\n",
    "> По умолчанию, каждая модель получает менеджер `objects`.\n"
   ]
  },
  {
   "cell_type": "markdown",
   "id": "12dec545",
   "metadata": {},
   "source": [
    "## Создание менеджеров моделей\n",
    "- Менеджер, объявленный первым в модели - Дефолтный\n",
    "- Для указания другой модели дефолтной используется - [[Python/Frameworks/Django/02 Models/class Meta#^e1895c|default_manager_name]]\n",
    "### `Model.MY_MANAGER.all()`\n",
    "\n",
    "```python\n",
    "from django.db import models\n",
    "class PublishedManager(models.Manager):\n",
    "    def get_queryset(self):\n",
    "        return super().get_queryset().filter(published=True)\n",
    "        \n",
    "class Post(models.Model):\n",
    "    title = models.CharField(max_length=200)\n",
    "    content = models.TextField()\n",
    "    published = models.BooleanField(default=False)\n",
    "    \n",
    "    objects = models.Manager()  # The default manager.\n",
    "    published_objects = PublishedManager()  # Our custom manager.\n",
    "    \n",
    "# Get all published posts.\n",
    "published_posts = Post.published_objects.all()\n",
    "```\n",
    "\n",
    "### `Model.objects.MY_MANAGER()`\n",
    "\n",
    "```python\n",
    "from django.db import models\n",
    "\n",
    "class PostManager(models.Manager):\n",
    "    def my_manager(self):\n",
    "        return self.filter(title__startswith='A')\n",
    "\n",
    "class Post(models.Model):\n",
    "    title = models.CharField(max_length=200)\n",
    "    content = models.TextField()\n",
    "    objects = PostManager()  # Our custom manager.\n",
    "```\n",
    "\n",
    "```python\n",
    "# Get all posts that title starts with 'A'\n",
    "a_posts = Post.objects.my_manager()\n",
    "```"
   ]
  },
  {
   "cell_type": "markdown",
   "id": "1baa5183",
   "metadata": {},
   "source": [
    "## Создание объектов"
   ]
  },
  {
   "cell_type": "markdown",
   "id": "6dccf205",
   "metadata": {},
   "source": [
    "```python\n",
    "# Сохранение при вызове метода save()\n",
    "news = News(\n",
    "  title='новость1',\n",
    "  content='Данные'\n",
    ")\n",
    "news.save()\n",
    "```\n",
    "```python\n",
    "# Сохранение при вызове метода save()\n",
    "n = News()\n",
    "n.title='title'\n",
    "n.content='content'\n",
    "n.save()\n",
    "```\n",
    "```python\n",
    "# Автоматическое сохранение\n",
    "n = News.objects.create(\n",
    "\ttitle='title',\n",
    "\tcontent='content'\n",
    ")  # автоматически вызывается save()\n",
    "```\n"
   ]
  },
  {
   "cell_type": "markdown",
   "id": "74a7c479",
   "metadata": {},
   "source": [
    "## Чтение объектов"
   ]
  },
  {
   "cell_type": "markdown",
   "id": "d2be4a8c",
   "metadata": {},
   "source": [
    "Наборы запросов QuerySet вычисляются вычисляются:\n",
    "- при первом их прокручивании в цикле;\n",
    "- при их нарезке, например Post.objects.all()[:3];\n",
    "- при их консервации в поток байтов или кешировании;\n",
    "- при вызове на них функций repr() или len();\n",
    "- при вызове на них функции list() в явной форме;\n",
    "- при их проверке в операциях bool(), or, and или if"
   ]
  },
  {
   "cell_type": "markdown",
   "id": "ef2b1de8",
   "metadata": {},
   "source": [
    "### Manager (objects)"
   ]
  },
  {
   "cell_type": "markdown",
   "id": "ae453512",
   "metadata": {},
   "source": [
    "## Свойство count\n",
    "Количество записей\n",
    "\n",
    "```python\n",
    "Post.objects.filter(pub_date__month__gt=6, pub_date__year=1854).count()\n",
    "```\n"
   ]
  },
  {
   "cell_type": "markdown",
   "id": "35de9051",
   "metadata": {},
   "source": [
    "### Методы"
   ]
  },
  {
   "cell_type": "markdown",
   "id": "c8061e37",
   "metadata": {},
   "source": [
    "#### all()\n",
    "\n",
    "`all()` возвращает QuerySet, содержащий все объекты в базе данных для данной модели.\n",
    "```python\n",
    "# Все строки\n",
    "all_posts = Post.objects.all()\n",
    "# Срез записей\n",
    "all()[:3]\n",
    "```"
   ]
  },
  {
   "cell_type": "markdown",
   "id": "99290012",
   "metadata": {},
   "source": [
    "#### aggregate()\n",
    "\n",
    "Применяет аггрегирующую функцию к полю или всей таблице\n",
    "> Возвращает только значение, в отличие от [[annotate()|annotate()]]\n",
    "> Именованные параметры позволяют выполнять вычисления над аггрегатными функциями\n",
    "```python\n",
    "from django.db.models import Avg, Count, Max, Min, Sum\n",
    "Post.objects.aggregate(\n",
    "\tCount('pk'),\n",
    "\tmin=Min('id'),\n",
    "\tmax=Max(\"id\"),\n",
    ") # {'min':1, 'max':9, 'pk__count':9}\n",
    "# Вычисления\n",
    "News.objects.aggregate(\n",
    "\tmy_sum=Sum('total')-Count('price')\n",
    ")\n",
    "# {'my_sum': 999}\n",
    "```"
   ]
  },
  {
   "cell_type": "markdown",
   "id": "636e3cee",
   "metadata": {},
   "source": [
    "#### annotate()\n",
    "Добавляет для каждого экземпляра класса новое свойство и возвращает QuerySet\\\n",
    "в отличие от `aggregate`, который возвращает значение\n",
    "\n",
    "> `annotate(cnt=Count('news'), filter=F('news__is_published'))`\n",
    "\n",
    "```python\n",
    "from django.db.models import Avg, Count, Max, Min, Sum\n",
    "Avg('field')\n",
    "Count('field')\n",
    "Max('field')\n",
    "Min('field')\n",
    "Sum('field')\n",
    "```\n",
    "```python\n",
    "newUsers = User.objects.annotate(Sum('posts'))\n",
    "newUser.posts__sum  # 999\n",
    "newUsers = User.objects.annotate(count_posts = Sum('posts'))\n",
    "newUser.count_posts  # 999\n",
    "News.objects.annotate(cnt=Count('pk')).filter(cnt__gt=0)\n",
    "```"
   ]
  },
  {
   "cell_type": "markdown",
   "id": "382820bf",
   "metadata": {},
   "source": [
    "#### Вычисляемые поля\n",
    "```python\n",
    "from django.db.models import F\n",
    "for item in Goods.objects.annotate(half_price=F('price')/2):\n",
    "\tprint(item.title, item.half_price)\n",
    "```"
   ]
  },
  {
   "cell_type": "markdown",
   "id": "3344be48",
   "metadata": {},
   "source": [
    "#### count()\n",
    "Возвращает количество объектов в QuerySet.\n",
    "\n",
    "```python\n",
    "count = Post.objects.count()\n",
    "```"
   ]
  },
  {
   "cell_type": "markdown",
   "id": "7aee3786",
   "metadata": {},
   "source": [
    "#### dates()\n",
    "Возвращает QuerySet, содержащий даты из указанного поля.\n",
    "\n",
    "```python\n",
    "# Получение уникальных дат из поля\n",
    "dates(\n",
    "\t<имя поля>,\n",
    "\t<часть даты>    # year, month, day\n",
    "\t[, order='ASC']\n",
    ")\n",
    "```"
   ]
  },
  {
   "cell_type": "markdown",
   "id": "41bd0835",
   "metadata": {},
   "source": [
    "#### datetimes()\n",
    "Возвращает QuerySet, содержащий объекты datetime из указанного поля.\n",
    "\n",
    "```python\n",
    "post_times = Post.objects.datetimes('publish_date', 'hour')\n",
    "```\n",
    "\n",
    "```python\n",
    "# Получение уникальных дат/времени из поля\n",
    "datetimes(\n",
    "\t<имя поля>,\n",
    "\t<часть даты>    # year, month, day, hour, minute, second\n",
    "\t[, order='ASC']\n",
    "\t[, tzinfo=None]\n",
    ")\n",
    "```"
   ]
  },
  {
   "cell_type": "markdown",
   "id": "4aa37f7e",
   "metadata": {},
   "source": [
    "#### distinct()\n",
    "Возвращает QuerySet, содержащий уникальные объекты.\n",
    "\n",
    "```python\n",
    "unique_authors = Post.objects.order_by('author').distinct('author')\n",
    "```"
   ]
  },
  {
   "cell_type": "markdown",
   "id": "d0245fa1",
   "metadata": {},
   "source": [
    "#### earliest()\n",
    "Возвращает самый ранний объект в QuerySet согласно указанному полю.\n",
    "\n",
    "```python\n",
    "earliest_post = Post.objects.earliest('publish_date')\n",
    "```"
   ]
  },
  {
   "cell_type": "markdown",
   "id": "20f87bd4",
   "metadata": {},
   "source": [
    "#### exclude()\n",
    "Возвращает QuerySet, который исключает объекты, соответствующие переданному набору критериев поиска.\n",
    "\n",
    "```python\n",
    "non_published_posts = Post.objects.exclude(published=True)\n",
    "```"
   ]
  },
  {
   "cell_type": "markdown",
   "id": "87523fee",
   "metadata": {},
   "source": [
    "#### exists()\n",
    "Возвращает `True`, если QuerySet содержит хотя бы один объект, и `False` в противном случае.\n",
    "\n",
    "```python\n",
    "has_posts = Post.objects.filter(title='My Post').exists()\n",
    "```"
   ]
  },
  {
   "cell_type": "markdown",
   "id": "a35caba8",
   "metadata": {},
   "source": [
    "#### filter()\n",
    "Возвращает QuerySet, содержащий объекты, соответствующие переданному набору критериев поиска.\n",
    "\n",
    "В одном запросе можно объединить несколько условий\n",
    "> Default: `AND`. Для `OR` - `Q()|Q()`\n",
    "\n",
    "```python\n",
    "filter().filter()\n",
    "filter(condition, condition)\n",
    "```\n",
    "\n",
    "❗ Запросы с операциями поиска в полях формируются с использованием двух знаков подчеркивания, например `publish__year`, но те же обозначения также используются для обращения к полям ассоциированных моделей, например `author__username`.\n",
    "\n",
    "```python\n",
    "recent_posts = Post.objects.filter(publish_date__year=2023)  # Фильтр\n",
    "```"
   ]
  },
  {
   "cell_type": "markdown",
   "id": "86eb357c",
   "metadata": {},
   "source": [
    "#### Именованные условия\n",
    "```python\n",
    "field__contains='abc'      # содержит\n",
    "field__icontains='abc'     # содержит / NonCaceSens\n",
    "field__in=['a', 'b', 'c']  # IN\n",
    "field__exact='abc'         # точное совпадение\n",
    "field__iexact='abc'        # точное совпадение / NonCS\n",
    "field__startswith='abc'    # Начинается с\n",
    "field__istartswith='abc'   # Начинается с / NonCS\n",
    "field__endswith='abc'      # Заканчивается на\n",
    "field__iendswith='abc'     # Заканчивается на / NonCS\n",
    "field__range=(start, end)  # BETWEEN\n",
    "field__isnull=True         # IS NULL\n",
    "field__gt=5      # Больше\n",
    "field__gte=5     # Больше или равно\n",
    "field__lt=5      # Меньше\n",
    "field__lte=5     # Меньше или равно\n",
    "field__regex=''  # Регулярка\n",
    "field__iregex='' # Регулярка NonCS\n",
    "field__date\n",
    "field__year\n",
    "field__month\n",
    "field__day\n",
    "field__week\n",
    "field__week_day\n",
    "field__quarter\n",
    "field__hour\n",
    "field__minute\n",
    "field__second\n",
    "```\n",
    "\n"
   ]
  },
  {
   "cell_type": "markdown",
   "id": "274614a6",
   "metadata": {},
   "source": [
    "#### first()\n",
    "Возвращает первый объект в QuerySet или `None`, если QuerySet пуст.\n",
    "\n",
    "```python\n",
    "first_post = Post.objects.first()\n",
    "```"
   ]
  },
  {
   "cell_type": "markdown",
   "id": "29e208cf",
   "metadata": {},
   "source": [
    "#### get()\n",
    "❗️ Всегда ожидает одну запись\n",
    "> - Если нет результата - вызовет исключение `DoesNotExist`\\\n",
    "> - Если более одного результата - `MultipleObjectsReturned`.\n",
    "\n",
    "```python\n",
    "post = Post.objects.get(id=1)     # Одна строка\n",
    "```"
   ]
  },
  {
   "cell_type": "markdown",
   "id": "52219183",
   "metadata": {},
   "source": [
    "#### in_bulk()\n",
    "Возвращает словарь, преобразуя каждый объект QuerySet в словарь с ключами из первичного ключа модели.\n",
    "\n",
    "```python\n",
    "posts = Post.objects.in_bulk([1, 2, 3])\n",
    "```\n",
    "\n",
    "```python\n",
    "in_bulk(  # field_name в последовательности значений\n",
    "\t<последовательность значений>\n",
    "\t[, field_name='pk']\n",
    ")\n",
    "````"
   ]
  },
  {
   "cell_type": "markdown",
   "id": "d5107518",
   "metadata": {},
   "source": [
    "#### last()\n",
    "Возвращает последний объект в QuerySet или `None`, если QuerySet пуст.\n",
    "\n",
    "```python\n",
    "last_post = Post.objects.last()\n",
    "```"
   ]
  },
  {
   "cell_type": "markdown",
   "id": "8c4c46a9",
   "metadata": {},
   "source": [
    "#### latest()\n",
    "Возвращает самый поздний объект в QuerySet согласно указанному полю.\n",
    "\n",
    "```python\n",
    "latest_post = Post.objects.latest('publish_date')\n",
    "```"
   ]
  },
  {
   "cell_type": "markdown",
   "id": "aedcec28",
   "metadata": {},
   "source": [
    "#### order_by()\n",
    "Ввозвращает QuerySet, отсортированный по указанным полям.\n",
    "\n",
    "```python\n",
    "posts = Post.objects.order_by('-publish_date')\n",
    "```"
   ]
  },
  {
   "cell_type": "markdown",
   "id": "83be6601",
   "metadata": {},
   "source": [
    "#### prefetch_related()\n",
    "Аналогичен `select_related()`, но он работает с \"многие-ко-многим\" и \"многие-к-одному\" связями.\n",
    "\n",
    "> Ленивая загрузка\n",
    "\n",
    "```python\n",
    "posts = Post.objects.prefetch_related('tags')\n",
    "```\n",
    "\n",
    "Подобно `select_related()`, этот метод уменьшит количество запросов к базе данных при обращении к связанным объектам, таким как `post.tags.all()`.\n",
    "\n",
    "```python\n",
    "related = Post.objects.prefetch_related('author').all()\n",
    "for post in related:\n",
    "    tmp = f\"{post.text} Автор {post.author.username}\"\n",
    "```"
   ]
  },
  {
   "cell_type": "markdown",
   "id": "0ea0727e",
   "metadata": {},
   "source": [
    "#### values_list()\n",
    "Возвращает QuerySet, который вместо полных модельных объектов возвращает кортежи со значениями полей.\n",
    "\n",
    "```python\n",
    "post_values = Post.objects.values_list('id', 'title')\n",
    "```"
   ]
  },
  {
   "cell_type": "markdown",
   "id": "a25abb6b",
   "metadata": {},
   "source": [
    "#### values()\n",
    "Возвращает QuerySet, который вместо полных модельных объектов возвращает словари со значениями полей.\n",
    "\n",
    "```python\n",
    "post_values = Post.objects.values()\n",
    "```"
   ]
  },
  {
   "cell_type": "markdown",
   "id": "c6a50297",
   "metadata": {},
   "source": [
    "### Аггрегирующие функции"
   ]
  },
  {
   "cell_type": "markdown",
   "id": "1f8562e9",
   "metadata": {},
   "source": [
    "#### Avg('field')\n",
    "\n",
    "```python\n",
    "Avg( # Среднее значение\n",
    "\t<имя поля>\n",
    "\t[, output_field=FloatField()] # Тип результирующего поля\n",
    "\t[, filter=None]               # Фильтр Q\n",
    ")\n",
    "```"
   ]
  },
  {
   "cell_type": "markdown",
   "id": "7fa5e633",
   "metadata": {},
   "source": [
    "#### Count('field')\n",
    "\n",
    "```python\n",
    "Count( # Количество записей\n",
    "\t<имя поля>\n",
    "\t[, distinct=False]  # True - Только уникальные\n",
    "\t[, filter=None]     # Фильтр Q\n",
    ")\n",
    "```"
   ]
  },
  {
   "cell_type": "markdown",
   "id": "949e225b",
   "metadata": {},
   "source": [
    "#### Min('field')\n",
    "```python\n",
    "Min( # Минимальное значение\n",
    "\t<имя поля>\n",
    "\t[, output_field=None] # Тип результирующего поля\n",
    "\t[, filter=None]       # Фильтр Q\n",
    ")\n",
    "```"
   ]
  },
  {
   "cell_type": "markdown",
   "id": "f0a7e169",
   "metadata": {},
   "source": [
    "#### Max('field')\n",
    "\n",
    "```python\n",
    "Max( # Максимальное значение\n",
    "\t<имя поля>\n",
    "\t[, output_field=None] # Тип результирующего поля\n",
    "\t[, filter=None]       # Фильтр Q\n",
    ")\n",
    "```"
   ]
  },
  {
   "cell_type": "markdown",
   "id": "dd43b7d7",
   "metadata": {},
   "source": [
    "#### Sum('field')\n",
    "\n",
    "```python\n",
    "Sum( # Сумма значений\n",
    "\t<имя поля>\n",
    "\t[, output_field=None] # Тип результирующего поля\n",
    "\t[, filter=None]       # Фильтр Q\n",
    ")\n",
    "```"
   ]
  },
  {
   "cell_type": "markdown",
   "id": "3361bdc3",
   "metadata": {},
   "source": [
    "#### StdDev('field')\n",
    "\n",
    "```python\n",
    "StdDev( # Стандартное отклонение\n",
    "\t<имя поля>\n",
    "\t[, samlple=None] # Стандартное отклонение выборки\n",
    "\t[, filter=None]  # Фильтр Q\n",
    ")\n",
    "```"
   ]
  },
  {
   "cell_type": "markdown",
   "id": "5a07af47",
   "metadata": {},
   "source": [
    "#### Variance('field')\n",
    "\n",
    "```python\n",
    "Variance( # Дисперсия\n",
    "\t<имя поля>\n",
    "\t[, samlple=None] # Стандартное отклонение выборки\n",
    "\t[, filter=None]  # Фильтр Q\n",
    ")\n",
    "```"
   ]
  },
  {
   "cell_type": "markdown",
   "id": "352aacfa",
   "metadata": {},
   "source": [
    "## Обновление объектов\n",
    "`.update()` используется для обновления значений одного или нескольких полей для всех записей в QuerySet.\n",
    "> - Возвращает количество обновленных записей.\n",
    "> - Обновляет поля напрямую в базе данных\n",
    "\n",
    "```python\n",
    "Post.objects.filter(publish_year=2022).update(title='Updated title')\n",
    "```\n",
    "\n",
    "```python\n",
    "post = Post.objects.get(id=1)\n",
    "post.title = 'Updated title'\n",
    "post.save()\n",
    "```"
   ]
  },
  {
   "cell_type": "markdown",
   "id": "23be7d0d",
   "metadata": {},
   "source": [
    "## Удаление объектов"
   ]
  },
  {
   "cell_type": "markdown",
   "id": "721d060b",
   "metadata": {},
   "source": [
    "`.delete()` может быть применен к отдельному экземпляру модели или к QuerySet (набору объектов).\n",
    "> Метод `.delete()` возвращает кортеж: `(int, dict[Type, int])`\n",
    "\n",
    "#### Удаление отдельного объекта:\n",
    "```python\n",
    "post = Post.objects.get(id=1)\n",
    "post.delete()\n",
    "```\n",
    "\n",
    "#### Удаление QuerySet:\n",
    "```python\n",
    "Post.objects.filter(publish_year=2022).delete()\n",
    "```"
   ]
  },
  {
   "cell_type": "markdown",
   "id": "e2689602",
   "metadata": {},
   "source": [
    "## Прочие функции/Классы"
   ]
  },
  {
   "cell_type": "markdown",
   "id": "299d58c0",
   "metadata": {},
   "source": [
    "### get_or_create()\n",
    "Поиск записи и ее создание, в случае отсутствия\n",
    "\n",
    "```python\n",
    "News.objects.get_or_create(\n",
    "\t<набор фильтров\n",
    "\t[, defaults=None]\n",
    ")\n",
    "News.objects.get_or_create(name='Новость 1')\n",
    "```"
   ]
  },
  {
   "cell_type": "markdown",
   "id": "c1890dcc",
   "metadata": {},
   "source": [
    "### update_or_create()\n",
    "Поиск записи и ее создание, в случае отсутствия\\\n",
    "Если найдена, то добавляет в нее поля из defaults\n",
    "\n",
    "```python\n",
    "News.objects.update_or_create(\n",
    "\t<набор фильтров\n",
    "\t[, defaults=None]\n",
    ")\n",
    "News.objects.update_or_create(name='Новость 1')\n",
    "```"
   ]
  },
  {
   "cell_type": "markdown",
   "id": "d16fd26d",
   "metadata": {},
   "source": [
    "### F()\n",
    "Сравнение со значениями других полей\n",
    "\n",
    "```python\n",
    "from django.db.models import F\n",
    "f = F('title')\n",
    "\n",
    "for iNews.objects.filter(content__icontains=f):\n",
    "\tprint(n.title, end=' ')\n",
    "```\n",
    "```python\n",
    "news.views = F('views') + 1\n",
    "```"
   ]
  },
  {
   "cell_type": "markdown",
   "id": "97b1e665",
   "metadata": {},
   "source": [
    "### Q()\n",
    "Позволяет создавать сложные запросы\\\n",
    "`&` И\\\n",
    "`|` ИЛИ\\\n",
    "`~` НЕ\\\n",
    "\n",
    "```python\n",
    "from django.db.models import Q\n",
    "\n",
    "q = Q(category__name='Категория1') | Q(category__name='Категория2')\n",
    "\n",
    "for iNews.objects.filter(q):\n",
    "\tprint(n.title, end=' ')\n",
    "```"
   ]
  },
  {
   "cell_type": "markdown",
   "id": "f3a2b161",
   "metadata": {},
   "source": [
    "## Вложенные запросы\n",
    "\n",
    "```python\n",
    "from django.db.models import Subquery, OuterRef\n",
    "Subquery(\n",
    "\t<вложенный набор записей\n",
    "\t[, output_field=None]\n",
    ")\n",
    "# Для ссылки на поля внешнего набора записей\n",
    "OuterRef(<поле внешнего набора записей)\n",
    "```\n",
    "```python\n",
    "from django.db.models import Exists, OuterRef\n",
    "Exists(<вложенный набор записей)\n",
    "```\n",
    "```python\n",
    "subquery = Exists(\n",
    "\tBb.objects.filter(\n",
    "\t\trubric=OuterRef('pk'),\n",
    "\t\tprice__gt=l00000\n",
    "\t)\n",
    ")\n",
    "for r iRubric.objects\n",
    "\t.annotate(is_expensive=subquery)\n",
    "\t.filter(is_expensive=True):\n",
    "\t\tprint(r.name)\n",
    "```"
   ]
  },
  {
   "cell_type": "markdown",
   "id": "c30250f4",
   "metadata": {},
   "source": [
    "## Объединения (union)\n",
    "\n",
    "```python\n",
    "union(\n",
    "\t<набор записей1,\n",
    "\t<набор записей2, ...\n",
    "\t[, all=False]  # True ## UNIOALL, False ## UNION\n",
    ")\n",
    "intersection(  # Записи, имеющиеся в каждом из наборов\n",
    "\t<набор записей1,\n",
    "\t<набор записей2, ...\n",
    ")\n",
    "difference(    # Записи в одном из наборов, но не в двух сразу\n",
    "\t<набор записей1,\n",
    "\t<набор записей2, ...\n",
    ")\n",
    "```"
   ]
  },
  {
   "cell_type": "markdown",
   "id": "ee3747f2",
   "metadata": {},
   "source": [
    "## Условные выражения СУБД\n",
    "\n",
    "```python\n",
    "Cast(\n",
    "\t<условие1, <условие2, ...,\n",
    "\t[, default=None]       # Значение по умолчанию\n",
    "\t[, output_field=None]  # Тип поля\n",
    ")\n",
    "```\n",
    "```python\n",
    "from django.db.models import Case, When, Value, Count, CharField\n",
    "for cat iCategory.objects.annotate(\n",
    "\tcnt=Count('news'),\n",
    "\tcnt_s=Case(\n",
    "\t\tWhen(cnt__gte=5, then=Value('Много')),\n",
    "\t\tWhen(cnt__gte=5, then=Value('Много')),\n",
    "\t\tWhen(cnt__gte=5, then=Value('Много')),\n",
    "\t\tdefault=Value('Вообще нет'),\n",
    "\t\toutput_field=CharField()\n",
    "\t)\n",
    "):\n",
    "\tprint(r.title, r.cnt_s)\n",
    "```"
   ]
  },
  {
   "cell_type": "markdown",
   "id": "e865b4a2",
   "metadata": {},
   "source": [
    "## Функции СУБД\n",
    "Классы из django.db.functions"
   ]
  },
  {
   "cell_type": "markdown",
   "id": "d809b67e",
   "metadata": {},
   "source": [
    "### Coalesce\n",
    "Возвращает первое значение, отличное от null\\\n",
    "Значения представляются строками, экземплярами или Value\\\n",
    "Все значения должны иметь одинаковый тип\n",
    "\n",
    "```python\n",
    "Coalesce('title', 'name', 'content')\n",
    "```"
   ]
  },
  {
   "cell_type": "markdown",
   "id": "fa652ec1",
   "metadata": {},
   "source": [
    "### Greatest\n",
    "Возвращает наибольшее значение из переданных\\\n",
    "Значения представляются строками, экземплярами или Value\\\n",
    "Все значения должны иметь одинаковый тип\n",
    "\n",
    "```python\n",
    "Greatest('title', 'name', 'content')\n",
    "```"
   ]
  },
  {
   "cell_type": "markdown",
   "id": "137d1de0",
   "metadata": {},
   "source": [
    "### Least\n",
    "Возвращает наименьшее значение из переданных\\\n",
    "Значения представляются строками, экземплярами или Value\\\n",
    "Все значения должны иметь одинаковый тип\n",
    "\n",
    "```python\n",
    "Least('title', 'name', 'content')\n",
    "```"
   ]
  },
  {
   "cell_type": "markdown",
   "id": "0788b0e3",
   "metadata": {},
   "source": [
    "### Cast\n",
    "Принудительно приводит значение к типу\\\n",
    "Значение представляется строкой или экземпляром F\\\n",
    "Тип ## экземпляр Класса, представляющий поле соответствующего типа\n",
    "\n",
    "```python\n",
    "Cast(<значение, <тип)\n",
    "```"
   ]
  },
  {
   "cell_type": "markdown",
   "id": "757aa2cd",
   "metadata": {},
   "source": [
    "### Concat\n",
    "Возвращает результат конкатенации переданных строк\\\n",
    "Значения представляются строками, экземплярами или Value\\\n",
    "Все значения должны иметь строковый тип\n",
    "\n",
    "```python\n",
    "Concat('title', 'name', 'content')\n",
    "```"
   ]
  },
  {
   "cell_type": "markdown",
   "id": "2ef3e2e8",
   "metadata": {},
   "source": [
    "### Lower\n",
    "Преобразует значение к нижнему регистру\\\n",
    "Значение представляется строкой или экземпляром F\n",
    "\n",
    "```python\n",
    "Lower('name')\n",
    "```"
   ]
  },
  {
   "cell_type": "markdown",
   "id": "78fad469",
   "metadata": {},
   "source": [
    "### Upper\n",
    "Преобразует значение к верхнему регистру\\\n",
    "Значение представляется строкой или экземпляром F\n",
    "\n",
    "```python\n",
    "Upper('name')\n",
    "```"
   ]
  },
  {
   "cell_type": "markdown",
   "id": "db056cd4",
   "metadata": {},
   "source": [
    "### Length\n",
    "Возращает длину строки\\\n",
    "Значение представляется строкой или экземпляром F\n",
    "\n",
    "```python\n",
    "Length('name')\n",
    "```"
   ]
  },
  {
   "cell_type": "markdown",
   "id": "b00abb6a",
   "metadata": {},
   "source": [
    "### StrIndex\n",
    "Номер вхождения подстроки в строку, либо 0\\\n",
    "Нумерация начинается с 1\\\n",
    "Значения представляются строками, экземплярами или Value\n",
    "\n",
    "```python\n",
    "StrIndex(<строка, <подстрока)\n",
    "```"
   ]
  },
  {
   "cell_type": "markdown",
   "id": "a192c042",
   "metadata": {},
   "source": [
    "### Substr\n",
    "Извлекает подстроку из строки\\\n",
    "Нумерация начинается с 1\\\n",
    "Значение представляется строкой или экземпляром F\n",
    "\n",
    "```python\n",
    "Substr('name', <позиция[, <длина])\n",
    "```"
   ]
  },
  {
   "cell_type": "markdown",
   "id": "f17fdfe2",
   "metadata": {},
   "source": [
    "### Left\n",
    "Возвращает подстроку от начала значения\n",
    "\n",
    "```python\n",
    "Left(<значение, <длина)\n",
    "```"
   ]
  },
  {
   "cell_type": "markdown",
   "id": "694983d2",
   "metadata": {},
   "source": [
    "### Right\n",
    "Возвращает подстроку от конца значения\n",
    "\n",
    "```python\n",
    "Right(<значение, <длина)\n",
    "```"
   ]
  },
  {
   "cell_type": "markdown",
   "id": "c1935a21",
   "metadata": {},
   "source": [
    "### Replace\n",
    "Замена подстроки в строке\\\n",
    "Если заменяющая строка не указана, то ''\n",
    "\n",
    "```python\n",
    "Replace(\n",
    "\t<значение,\n",
    "\t<заменяемая подстрока\n",
    "\t[, <заменяющая подстрока]\n",
    ")\n",
    "```"
   ]
  },
  {
   "cell_type": "markdown",
   "id": "82ea689b",
   "metadata": {},
   "source": [
    "### Repeat\n",
    "Повторяет значение раз\n",
    "\n",
    "```python\n",
    "Repeat(<значение, <кол-во повторов)\n",
    "```"
   ]
  },
  {
   "cell_type": "markdown",
   "id": "d3cd4a61",
   "metadata": {},
   "source": [
    "### LPad\n",
    "Дополняет значение слева символом-заполнителем\\\n",
    "Если заполнитель не указан, используется пробел\n",
    "\n",
    "```python\n",
    "LPad(<значение, <длина[, <символ-заполнитель])\n",
    "```"
   ]
  },
  {
   "cell_type": "markdown",
   "id": "ac71c496",
   "metadata": {},
   "source": [
    "### RPad\n",
    "Дополняет значение справа символом-заполнителем\\\n",
    "Если заполнитель не указан, используется пробел\n",
    "\n",
    "```python\n",
    "RPad(<значение, <длина[, <символ-заполнитель])\n",
    "```"
   ]
  },
  {
   "cell_type": "markdown",
   "id": "12196043",
   "metadata": {},
   "source": [
    "### Trim\n",
    "Удаляет пробелы слева и справа\n",
    "\n",
    "```python\n",
    "Trim(<значение)\n",
    "```"
   ]
  },
  {
   "cell_type": "markdown",
   "id": "9b6761bd",
   "metadata": {},
   "source": [
    "### LTrim\n",
    "Удаляет пробелы слева\n",
    "\n",
    "```python\n",
    "Trim(<значение)\n",
    "```"
   ]
  },
  {
   "cell_type": "markdown",
   "id": "8fce8218",
   "metadata": {},
   "source": [
    "### RTrim\n",
    "Удаляет пробелы справа\n",
    "\n",
    "```python\n",
    "Trim(<значение)\n",
    "```"
   ]
  },
  {
   "cell_type": "markdown",
   "id": "76722357",
   "metadata": {},
   "source": [
    "### Chr\n",
    "Символ по коду\n",
    "\n",
    "```python\n",
    "Chr(<код символа)\n",
    "```"
   ]
  },
  {
   "cell_type": "markdown",
   "id": "f04a5206",
   "metadata": {},
   "source": [
    "### Ord\n",
    "Код символа\n",
    "\n",
    "```python\n",
    "Ord(<символ)\n",
    "```"
   ]
  },
  {
   "cell_type": "markdown",
   "id": "e7512c6f",
   "metadata": {},
   "source": [
    "### Now()\n",
    "Текущие дата и время\n",
    "\n",
    "```python\n",
    "Now()\n",
    "```"
   ]
  },
  {
   "cell_type": "markdown",
   "id": "9217897c",
   "metadata": {},
   "source": [
    "### Extract\n",
    "Извлекает часть даты и возвращает число\n",
    "\n",
    "```python\n",
    "Extract(\n",
    "\t<значение даты или времени,\n",
    "\t<извлекаемая часть,\n",
    "\t[, tzinfo=None]      # Временная зона\n",
    ")\n",
    "# Извлекаемые значения:\n",
    "# year, quarter, month, day, week, week_day, hour, minute, second\n",
    "```\n",
    "\n",
    "Упрощенные классы\n",
    "```python\n",
    "    ExtractYear(value[, tzinfo=None])\n",
    "    ExtractQuater(value[, tzinfo=None])\n",
    "    ExtractMonth(value[, tzinfo=None])\n",
    "    ExtractDay(value[, tzinfo=None])\n",
    "    ExtractWeek(value[, tzinfo=None])\n",
    "    ExtractWeekDay(value[, tzinfo=None])\n",
    "    ExtractHour(value[, tzinfo=None])\n",
    "    ExtractMinute(value[, tzinfo=None])\n",
    "    ExtractSecond(value[, tzinfo=None])\n",
    "```"
   ]
  },
  {
   "cell_type": "markdown",
   "id": "8c2598dd",
   "metadata": {},
   "source": [
    "### Truпc\n",
    "Значение даты времени до указанной конечной части\\\n",
    "Значение представляется экземпляром и должно принадлежать типу даты, времени или даты и времени\n",
    "\n",
    "```python\n",
    "Truпc(\n",
    "\t<значение даты или времени,\n",
    "\t<конечная часть,\n",
    "\t[, output_field=None] # Тип возвращаемого значения\n",
    "\t[, tzinfo=None]       # Временная зона\n",
    ")\n",
    "# Конечная часть:\n",
    "# year, quarter, month, week, day, hour, minute, second\n",
    "Trunc('published', 'second') # 10.11.2020 08:42:31\n",
    "Trunc('published', 'year')   # 10.11.2020 00:00:00\n",
    "```\n",
    "\n",
    "Упрощенные классы\n",
    "```python\n",
    "    TruncYear(value[, tzinfo=None])\n",
    "    TruncQuater(value[, tzinfo=None])\n",
    "    TruncMonth(value[, tzinfo=None])\n",
    "    TruncWeek(value[, tzinfo=None])\n",
    "    TruncDay(value[, tzinfo=None])\n",
    "    TruncHour(value[, tzinfo=None])\n",
    "    TruncMinute(value[, tzinfo=None])\n",
    "    TruncSecond(value[, tzinfo=None])\n",
    "```"
   ]
  }
 ],
 "metadata": {
  "language_info": {
   "name": "python"
  }
 },
 "nbformat": 4,
 "nbformat_minor": 5
}
