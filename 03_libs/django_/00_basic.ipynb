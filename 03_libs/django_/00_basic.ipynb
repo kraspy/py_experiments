{
 "cells": [
  {
   "cell_type": "markdown",
   "id": "bfdc56f8",
   "metadata": {},
   "source": [
    "[Документация](https://docs.djangoproject.com/en/5.2/)\n",
    "\n",
    "[Философия дизайна Django](https://docs.djangoproject.com/en/dev/misc/design-philosophies/)\n",
    "\n",
    "[Деплой приложения](https://docs.djangoproject.com/en/5.2/howto/deployment/)"
   ]
  },
  {
   "cell_type": "markdown",
   "id": "0d9e41a8",
   "metadata": {},
   "source": [
    "## Установка"
   ]
  },
  {
   "cell_type": "code",
   "execution_count": null,
   "id": "8309f83a",
   "metadata": {
    "vscode": {
     "languageId": "shellscript"
    }
   },
   "outputs": [],
   "source": [
    "pip install django"
   ]
  },
  {
   "cell_type": "markdown",
   "id": "ffced227",
   "metadata": {},
   "source": [
    "## django-admin"
   ]
  },
  {
   "cell_type": "markdown",
   "id": "51f42f2b",
   "metadata": {
    "vscode": {
     "languageId": "shellscript"
    }
   },
   "source": [
    "Устанавливается вместе с Django и добавляется в shell."
   ]
  },
  {
   "cell_type": "markdown",
   "id": "8b9103f7",
   "metadata": {
    "vscode": {
     "languageId": "shellscript"
    }
   },
   "source": [
    "### startproject\n",
    "Создает новый проект Django."
   ]
  },
  {
   "cell_type": "code",
   "execution_count": null,
   "id": "183c8e7c",
   "metadata": {
    "vscode": {
     "languageId": "shellscript"
    }
   },
   "outputs": [],
   "source": [
    "django-admin startproject <name> [folder]"
   ]
  },
  {
   "cell_type": "markdown",
   "id": "d7ac3705",
   "metadata": {
    "vscode": {
     "languageId": "shellscript"
    }
   },
   "source": [
    "### startapp\n",
    "Создает новое приложение."
   ]
  },
  {
   "cell_type": "code",
   "execution_count": null,
   "id": "7d62f278",
   "metadata": {
    "vscode": {
     "languageId": "shellscript"
    }
   },
   "outputs": [],
   "source": [
    "django-admin startapp myapp"
   ]
  },
  {
   "cell_type": "markdown",
   "id": "517f9ec2",
   "metadata": {
    "vscode": {
     "languageId": "shellscript"
    }
   },
   "source": [
    "### check\n",
    "Проверяет проект на наличие проблем."
   ]
  },
  {
   "cell_type": "code",
   "execution_count": null,
   "id": "b6b5fc53",
   "metadata": {
    "vscode": {
     "languageId": "shellscript"
    }
   },
   "outputs": [],
   "source": [
    "django-admin check"
   ]
  },
  {
   "cell_type": "markdown",
   "id": "710b7af9",
   "metadata": {
    "vscode": {
     "languageId": "shellscript"
    }
   },
   "source": [
    "### makemessages\n",
    "Локализация проекта, создает файлы .po для перевода"
   ]
  },
  {
   "cell_type": "code",
   "execution_count": null,
   "id": "c33eaf58",
   "metadata": {
    "vscode": {
     "languageId": "shellscript"
    }
   },
   "outputs": [],
   "source": [
    "django-admin makemessages -l ru"
   ]
  },
  {
   "cell_type": "markdown",
   "id": "081a5125",
   "metadata": {
    "vscode": {
     "languageId": "shellscript"
    }
   },
   "source": [
    "### compilemessages\n",
    "Локализации проекта, компилирует файлы .po в .mo."
   ]
  },
  {
   "cell_type": "code",
   "execution_count": null,
   "id": "5c1cfe09",
   "metadata": {
    "vscode": {
     "languageId": "shellscript"
    }
   },
   "outputs": [],
   "source": [
    "django-admin compilemessages"
   ]
  },
  {
   "cell_type": "markdown",
   "id": "9140b38b",
   "metadata": {
    "vscode": {
     "languageId": "shellscript"
    }
   },
   "source": [
    "### makemigrations\n",
    "Создает новые миграции из моделей."
   ]
  },
  {
   "cell_type": "code",
   "execution_count": null,
   "id": "3c598ce8",
   "metadata": {
    "vscode": {
     "languageId": "shellscript"
    }
   },
   "outputs": [],
   "source": [
    "django-admin makemigrations myapp"
   ]
  },
  {
   "cell_type": "markdown",
   "id": "d291253d",
   "metadata": {
    "vscode": {
     "languageId": "shellscript"
    }
   },
   "source": [
    "### migrate\n",
    "Применяет миграции, изменяя схему БД."
   ]
  },
  {
   "cell_type": "code",
   "execution_count": null,
   "id": "cbef8282",
   "metadata": {
    "vscode": {
     "languageId": "shellscript"
    }
   },
   "outputs": [],
   "source": [
    "django-admin migrate"
   ]
  },
  {
   "cell_type": "markdown",
   "id": "f3940af7",
   "metadata": {
    "vscode": {
     "languageId": "shellscript"
    }
   },
   "source": [
    "### sqlmigrate\n",
    "Показывает SQL, который будет выполнен для данной миграции."
   ]
  },
  {
   "cell_type": "code",
   "execution_count": null,
   "id": "211b85fe",
   "metadata": {
    "vscode": {
     "languageId": "shellscript"
    }
   },
   "outputs": [],
   "source": [
    "django-admin sqlmigrate myapp 0001"
   ]
  },
  {
   "cell_type": "markdown",
   "id": "d2044931",
   "metadata": {
    "vscode": {
     "languageId": "shellscript"
    }
   },
   "source": [
    "### shell\n",
    "Запускает интерактивную Python-оболочку."
   ]
  },
  {
   "cell_type": "code",
   "execution_count": null,
   "id": "4f95fd51",
   "metadata": {
    "vscode": {
     "languageId": "shellscript"
    }
   },
   "outputs": [],
   "source": [
    "django-admin shell"
   ]
  },
  {
   "cell_type": "markdown",
   "id": "54ba562c",
   "metadata": {
    "vscode": {
     "languageId": "shellscript"
    }
   },
   "source": [
    "### test\n",
    "Запускает тесты для приложения."
   ]
  },
  {
   "cell_type": "code",
   "execution_count": null,
   "id": "afd67c6c",
   "metadata": {
    "vscode": {
     "languageId": "shellscript"
    }
   },
   "outputs": [],
   "source": [
    "django-admin test myapp"
   ]
  },
  {
   "cell_type": "markdown",
   "id": "342ecad4",
   "metadata": {
    "vscode": {
     "languageId": "shellscript"
    }
   },
   "source": [
    "### createsuperuser\n",
    "Создает нового суперпользователя."
   ]
  },
  {
   "cell_type": "code",
   "execution_count": null,
   "id": "5b851113",
   "metadata": {
    "vscode": {
     "languageId": "shellscript"
    }
   },
   "outputs": [],
   "source": [
    "django-admin createsuperuser"
   ]
  },
  {
   "cell_type": "markdown",
   "id": "7d3425b6",
   "metadata": {},
   "source": [
    "## manage.py"
   ]
  },
  {
   "cell_type": "markdown",
   "id": "c488099a",
   "metadata": {},
   "source": [
    "Скрипт для управления проектом."
   ]
  },
  {
   "cell_type": "markdown",
   "id": "360c69ac",
   "metadata": {},
   "source": [
    "### startapp\n",
    "Создает новое приложение."
   ]
  },
  {
   "cell_type": "code",
   "execution_count": null,
   "id": "5234616d",
   "metadata": {
    "vscode": {
     "languageId": "shellscript"
    }
   },
   "outputs": [],
   "source": [
    "python manage.py startapp blog"
   ]
  },
  {
   "cell_type": "markdown",
   "id": "fa257dd5",
   "metadata": {},
   "source": [
    "### shell "
   ]
  },
  {
   "cell_type": "code",
   "execution_count": null,
   "id": "16782315",
   "metadata": {
    "vscode": {
     "languageId": "shellscript"
    }
   },
   "outputs": [],
   "source": [
    "python manage.py shell\n",
    "python manage.py shell -i iPython"
   ]
  },
  {
   "cell_type": "code",
   "execution_count": null,
   "id": "a887202d",
   "metadata": {},
   "outputs": [],
   "source": [
    "## Логирование запросов в shell\n",
    "import logging\n",
    "log = logging.getLogger('django.db.backends')\n",
    "log.setLevel(logging.DEBUG)\n",
    "log.addHandler(logging.StreamHandler())"
   ]
  },
  {
   "cell_type": "markdown",
   "id": "1c71b4fa",
   "metadata": {},
   "source": [
    "### runserver"
   ]
  },
  {
   "cell_type": "code",
   "execution_count": null,
   "id": "98dc5779",
   "metadata": {
    "vscode": {
     "languageId": "shellscript"
    }
   },
   "outputs": [],
   "source": [
    "python manage.py runserver               # Запуск с параметрами по умолчанию / 127.0.0.1:8000\n",
    "python manage.py runserver 1.2.3.4       # IP\n",
    "python manage.py runserver 4000          # Port\n",
    "python manage.py runserver 1.2.3.4:4000  # IP:port\n",
    "python manage.py runserver --settings=config.settings"
   ]
  },
  {
   "cell_type": "markdown",
   "id": "2ea42ac4",
   "metadata": {},
   "source": [
    "```python\n",
    "--noreload                  # Без перезапуска при изменениях файлов\n",
    "--nothreading               # Однопоточный режим\n",
    "--ipvб                      # Использовать IPv6\n",
    "--settings=mysyte.settings  # Указание файла настроек\n",
    "```"
   ]
  },
  {
   "cell_type": "markdown",
   "id": "ad7cac8a",
   "metadata": {},
   "source": [
    "## collectstatic"
   ]
  },
  {
   "cell_type": "markdown",
   "id": "6f72de15",
   "metadata": {},
   "source": [
    "Собирает статику проекта с одну директорию"
   ]
  },
  {
   "cell_type": "code",
   "execution_count": null,
   "id": "c504f4e8",
   "metadata": {
    "vscode": {
     "languageId": "shellscript"
    }
   },
   "outputs": [],
   "source": [
    "python manage.py collectstatic"
   ]
  },
  {
   "cell_type": "markdown",
   "id": "46a523e3",
   "metadata": {},
   "source": [
    "## Базовая структура проекта"
   ]
  },
  {
   "cell_type": "code",
   "execution_count": null,
   "id": "944d46e9",
   "metadata": {
    "vscode": {
     "languageId": "shellscript"
    }
   },
   "outputs": [],
   "source": [
    "django-admin startproject config ."
   ]
  },
  {
   "cell_type": "code",
   "execution_count": null,
   "id": "0e772f1c",
   "metadata": {
    "vscode": {
     "languageId": "shellscript"
    }
   },
   "outputs": [],
   "source": [
    "root_dir/      # Корень проекта\n",
    "├── manage.py  # Скрипт управления проектом\n",
    "└── config/    # Имя проекта\n",
    "    ├── __init__.py  # Директория является пакетом\n",
    "    ├── settings.py  # Настройки проекта\n",
    "    ├── urls.py      # Корневые эндпоинты\n",
    "    └── wsgi.py"
   ]
  },
  {
   "cell_type": "markdown",
   "id": "d8074765",
   "metadata": {},
   "source": [
    "## Базовая структура приложения"
   ]
  },
  {
   "cell_type": "code",
   "execution_count": null,
   "id": "c6b6b281",
   "metadata": {
    "vscode": {
     "languageId": "shellscript"
    }
   },
   "outputs": [],
   "source": [
    "root_dir\n",
    "├── manage.py\n",
    "├── config/\n",
    "└── new_app/             # НОВОЕ ПРИЛОЖЕНИЕ\n",
    "    ├── migrations/      # История изменений БД\n",
    "    |   └── __init__.py  # Директория является пакетом\n",
    "    ├── __init__.py      # Директория является пакетом\n",
    "    ├── admin.py         # Настройка админки\n",
    "    ├── apps.py          # Настройки конфигурации приложения\n",
    "    ├── models.py        # Модели БД\n",
    "    ├── tests.py         # Файл с тестами\n",
    "    └── views.py         # Контроллеры"
   ]
  },
  {
   "cell_type": "markdown",
   "id": "f56401d4",
   "metadata": {},
   "source": [
    "## Регистрация приложения"
   ]
  },
  {
   "cell_type": "markdown",
   "id": "b2c6260b",
   "metadata": {},
   "source": [
    "Можно регистрировать имя приложения, но тогда не будет возможности доп. настройки.\\\n",
    "Лучше регистрировать файл конфига приложения. "
   ]
  },
  {
   "cell_type": "code",
   "execution_count": null,
   "id": "43af7645",
   "metadata": {
    "vscode": {
     "languageId": "shellscript"
    }
   },
   "outputs": [],
   "source": [
    "# config/settings.py\n",
    "INSTALLED_APPS = [\n",
    "    # 'new_app'                     # Так тоже будет работать\n",
    "    'new_app.apps.NewAppConfig',    # Но лучше так\n",
    "    'django.contrib.admin',\n",
    "    'django.contrib.auth',\n",
    "    'django.contrib.contenttypes',\n",
    "    'django.contrib.sessions',\n",
    "    'django.contrib.messages',\n",
    "    'django.contrib.staticfiles',\n",
    "]"
   ]
  },
  {
   "cell_type": "markdown",
   "id": "d2be34a1",
   "metadata": {},
   "source": [
    "## Настройки проекта\n",
    "[Документация](https://docs.djangoproject.com/en/5.2/ref/settings/)"
   ]
  },
  {
   "cell_type": "markdown",
   "id": "40d7fa4d",
   "metadata": {},
   "source": [
    "### Основные"
   ]
  },
  {
   "cell_type": "markdown",
   "id": "ed569943",
   "metadata": {},
   "source": [
    "#### DEBUG\n",
    "❗️ На реальном сервере ОТКЛЮЧАТЬ!\\\n",
    "При ошибке выводит отладочную информацию на странице."
   ]
  },
  {
   "cell_type": "code",
   "execution_count": null,
   "id": "b57cc921",
   "metadata": {},
   "outputs": [],
   "source": [
    "DEBUG = True"
   ]
  },
  {
   "cell_type": "markdown",
   "id": "0e914044",
   "metadata": {},
   "source": [
    "#### ALLOWED_HOSTS\n",
    "Разрешенные хосты"
   ]
  },
  {
   "cell_type": "code",
   "execution_count": null,
   "id": "4596971f",
   "metadata": {},
   "outputs": [],
   "source": [
    "ALLOWED_HOSTS = ['127.0.0.1', '192.168.2.4']"
   ]
  },
  {
   "cell_type": "markdown",
   "id": "6d72d36a",
   "metadata": {},
   "source": [
    "#### INSTALLED_APPS\n",
    "Список зарегистрированных приложений"
   ]
  },
  {
   "cell_type": "code",
   "execution_count": null,
   "id": "2c46cc61",
   "metadata": {},
   "outputs": [],
   "source": [
    "INSTALLED_APPS = [\n",
    "  'new_app.apps.NewAppConfig',    ### Какое-то новое приложение\n",
    "  'django.contrib.admin',         ### Админка\n",
    "  'django.contrib.auth',          ### Фреймворк аутентификации\n",
    "  'django.contrib.contenttypes',  ### Фреймворк типов контента\n",
    "  'django.contrib.sessions',      ### фреймворк сеансов\n",
    "  'django.contrib.messages',      ### Фреймворк сообщений\n",
    "  'django.contrib.staticfiles',   ### Фреймворк статики\n",
    "]"
   ]
  },
  {
   "cell_type": "markdown",
   "id": "ff178625",
   "metadata": {},
   "source": [
    "#### MIDDLEWARE\n",
    "Список зарегистрированных посредников"
   ]
  },
  {
   "cell_type": "code",
   "execution_count": null,
   "id": "44724f7d",
   "metadata": {},
   "outputs": [],
   "source": [
    "MIDDLEWARE = [\n",
    "\t'django.middleware.security.SecurityMiddleware',\n",
    "\t'django.contrib.sessions.middleware.SessionMiddleware',\n",
    "\t'django.middleware.common.CommonMiddleware',\n",
    "\t'django.middleware.csrf.CsrfViewMiddleware',\n",
    "\t'django.contrib.auth.middleware.AuthenticationMiddleware',\n",
    "\t'django.contrib.messages.middleware.MessageMiddleware',\n",
    "\t'django.middleware.clickjacking.XFrameOptionsMiddleware',\n",
    "]"
   ]
  },
  {
   "cell_type": "markdown",
   "id": "bf6ba373",
   "metadata": {},
   "source": [
    "#### ROOT_URLCONF\n",
    "Путь к файлу маршрутов проекта"
   ]
  },
  {
   "cell_type": "code",
   "execution_count": null,
   "id": "651ea42d",
   "metadata": {},
   "outputs": [],
   "source": [
    "ROOT_URLCONF = 'mysite.urls'"
   ]
  },
  {
   "cell_type": "markdown",
   "id": "a38d5fc3",
   "metadata": {},
   "source": [
    "#### DATABASES\n",
    "[Настройи БД](https://docs.djangoproject.com/en/5.2/ref/databases/)"
   ]
  },
  {
   "cell_type": "markdown",
   "id": "73f19723",
   "metadata": {},
   "source": [
    "#### DEFAULT_AUTOFIELD\n",
    "Тип поля pk по умолчанию\n",
    "> Использование `DEFAULT_AUTO_FIELD` позволяет изменить поведение для новых моделей.\\\n",
    "> Существующие модели будут продолжать использовать старое поле первичного ключа, которое было определено в момент создания модели."
   ]
  },
  {
   "cell_type": "code",
   "execution_count": null,
   "id": "a7d6de41",
   "metadata": {},
   "outputs": [],
   "source": [
    "DEFAULT_AUTO_FIELD = 'django.db.models.AutoField'"
   ]
  },
  {
   "cell_type": "markdown",
   "id": "c3bbd015",
   "metadata": {},
   "source": [
    "### Язык/Даты"
   ]
  },
  {
   "cell_type": "markdown",
   "id": "3b18b3ae",
   "metadata": {},
   "source": [
    "#### LANGUAGE_CODE"
   ]
  },
  {
   "cell_type": "code",
   "execution_count": null,
   "id": "d3ea7bfc",
   "metadata": {},
   "outputs": [],
   "source": [
    "LANGUAGE_CODE = 'ru-RU'"
   ]
  },
  {
   "cell_type": "markdown",
   "id": "5e00b823",
   "metadata": {},
   "source": [
    "#### USE_I18N\n",
    "Автоматический перевод сайта в язык LANGUAGE_CODE\\\n",
    "False - Английский язык сайта"
   ]
  },
  {
   "cell_type": "code",
   "execution_count": null,
   "id": "ec24a75c",
   "metadata": {},
   "outputs": [],
   "source": [
    "USE_I18N = True"
   ]
  },
  {
   "cell_type": "markdown",
   "id": "b27622c1",
   "metadata": {},
   "source": [
    "#### USE_L18N\n",
    "Формат дат из LANGUAGE_CODE\\\n",
    "False - Формат дат из настроек проекта"
   ]
  },
  {
   "cell_type": "code",
   "execution_count": null,
   "id": "1a29c1b3",
   "metadata": {},
   "outputs": [],
   "source": [
    "USE_L18N = True"
   ]
  },
  {
   "cell_type": "markdown",
   "id": "62ca6180",
   "metadata": {},
   "source": [
    "#### TIME_ZONE\n",
    "Часовой пояс\\\n",
    "[wiki:Часовые пояса](https://en.wikipedia.org/wiki/List_of_tz_database_time_zones)"
   ]
  },
  {
   "cell_type": "code",
   "execution_count": null,
   "id": "0241c4bb",
   "metadata": {},
   "outputs": [],
   "source": [
    "TIME_ZONE = 'Asia/Krasnoyarsk'"
   ]
  },
  {
   "cell_type": "markdown",
   "id": "33421694",
   "metadata": {},
   "source": [
    "#### USE_TZ\n",
    "Временная зона в значениях даты и времени\\\n",
    "`Default: True`\n",
    "\n",
    "- DECIMAL_SEPARATOR\n",
    "- NUМBER_GROUPING\n",
    "- THOUSAND_SEPARATOR\n",
    "- USE_THOUSANDS_SEPARATOR\n",
    "- SHORT_DATE_FORМAT\n",
    "- SHORT_DAТETIМE_FORМAT\n",
    "- DATE_FORМAT\n",
    "- DAТETIМE_FORМAT\n",
    "- TIМE_FORМAT\n",
    "- МОNТН_DАУ_FоRМAT\n",
    "- YEAR_MONТH_FORМAT\n",
    "- DATE_INPUT_FORМATS\n",
    "- DATETIМE_INPUT_FORМATS\n",
    "- ТIМЕ_INPUT_FORМATS\n",
    "- FIRST_DAY_OF_WEEK"
   ]
  },
  {
   "cell_type": "code",
   "execution_count": null,
   "id": "407417f4",
   "metadata": {},
   "outputs": [],
   "source": [
    "USE_L10N = True"
   ]
  },
  {
   "cell_type": "markdown",
   "id": "853ee6e2",
   "metadata": {},
   "source": [
    "### Прочие"
   ]
  },
  {
   "cell_type": "markdown",
   "id": "ec946f52",
   "metadata": {},
   "source": [
    "#### BASE_DIR\n",
    "Директория проекта. Вычисляется автоматически\n"
   ]
  },
  {
   "cell_type": "markdown",
   "id": "af87464a",
   "metadata": {},
   "source": [
    "#### TIME_ZONE\n",
    "Временная pона значений БД def:None\n"
   ]
  },
  {
   "cell_type": "markdown",
   "id": "eeb5f68e",
   "metadata": {},
   "source": [
    "#### HOST\n",
    "Адрес сервера БД\n"
   ]
  },
  {
   "cell_type": "markdown",
   "id": "f4125b4d",
   "metadata": {},
   "source": [
    "#### PORT\n",
    "Порт сервера БД"
   ]
  },
  {
   "cell_type": "markdown",
   "id": "7627eb64",
   "metadata": {},
   "source": [
    "#### USER\n",
    "Имя пользователя БД\n"
   ]
  },
  {
   "cell_type": "markdown",
   "id": "c10f993d",
   "metadata": {},
   "source": [
    "#### PASSWORD\n",
    "Пароль пользователя БД\n"
   ]
  },
  {
   "cell_type": "markdown",
   "id": "0c487f25",
   "metadata": {},
   "source": [
    "#### CONN_MAX_AGE\n",
    "Время открытого соединения, в сек.\\\n",
    "`Default :0`\\\n",
    "`0` - закрывается сразу после обработки запроса\\\n",
    "`None` - открыто всегда\n"
   ]
  },
  {
   "cell_type": "markdown",
   "id": "ae524494",
   "metadata": {},
   "source": [
    "#### OPTIONS\n",
    "Дополнительные параметры СУБД\\\n",
    "`Default: {}`"
   ]
  },
  {
   "cell_type": "code",
   "execution_count": null,
   "id": "69040e38",
   "metadata": {},
   "outputs": [],
   "source": [
    "dict = {'param1': 'value', 'param2': 'value'}"
   ]
  },
  {
   "cell_type": "markdown",
   "id": "9b5d5df6",
   "metadata": {},
   "source": [
    "#### SECRET_KEY\n",
    "Секретный ключ\n",
    "```python\n",
    "SECRET_KEY = ')ai9u*c@ph&5cyw9$zzz_u6u-*=5eil%_ei4w%s6=n!0z)y12='\n",
    "```\n"
   ]
  },
  {
   "cell_type": "markdown",
   "id": "a60ae2f3",
   "metadata": {},
   "source": [
    "#### STATIC_URL\n",
    "Статика приложений\n",
    "```python\n",
    "STATIC_URL = '/static/'\n",
    "```\n"
   ]
  },
  {
   "cell_type": "markdown",
   "id": "0de006a2",
   "metadata": {},
   "source": [
    "#### STATIC_ROOT\n",
    "Статика проекта\n",
    "```python\n",
    "STATIC_ROOT = os.path.join(BASE_DIR, 'static')\n",
    "```\n"
   ]
  },
  {
   "cell_type": "markdown",
   "id": "511aed68",
   "metadata": {},
   "source": [
    "#### DEFAULT_CНARSET\n",
    "Кодировка веб-страниц.\\\n",
    "`Default: 'utf-8'`"
   ]
  },
  {
   "cell_type": "code",
   "execution_count": null,
   "id": "3f1a5b7a",
   "metadata": {},
   "outputs": [],
   "source": [
    "DEFAULT_CНARSET = 'utf-8'"
   ]
  },
  {
   "cell_type": "markdown",
   "id": "5983c66d",
   "metadata": {},
   "source": [
    "#### FILE_CНARSET\n",
    "Кодировка файлов (шаблонов)"
   ]
  },
  {
   "cell_type": "code",
   "execution_count": null,
   "id": "bceda3fb",
   "metadata": {},
   "outputs": [],
   "source": [
    "FILE_CНARSET = 'utf-8'"
   ]
  },
  {
   "cell_type": "markdown",
   "id": "46526ee5",
   "metadata": {},
   "source": [
    "#### LOGIN_URL\n",
    "Адрес перенаправления на страницу авторизации.\\\n",
    "Например, при использовании декоратора [@login_required](https://docs.djangoproject.com/en/5.2/topics/auth/default/#the-login-required-decorator).\\\n",
    "`Default: '/accounts/login/'`\n"
   ]
  },
  {
   "cell_type": "markdown",
   "id": "531f5cce",
   "metadata": {},
   "source": [
    "#### LOGIN_REDIRECT_URL\n",
    "Куда перенаправить пользователя после успешной авторизации.\\\n",
    "`Default: '/accounts/profile/'`\n"
   ]
  },
  {
   "cell_type": "markdown",
   "id": "513ee69e",
   "metadata": {},
   "source": [
    "#### LOGOUT_REDIRECT_URL\n",
    "Куда перенаправить пользователя после выхода из системы.\\\n",
    "`Default: '/auth/logout/'`"
   ]
  },
  {
   "cell_type": "markdown",
   "id": "675a4239",
   "metadata": {},
   "source": [
    "## Настройки приложения"
   ]
  },
  {
   "cell_type": "code",
   "execution_count": null,
   "id": "9c645792",
   "metadata": {},
   "outputs": [],
   "source": [
    "# /new_app/apps.py\n",
    "from django.apps import AppConfig\n",
    "\n",
    "class NewAppConfig(AppConfig):\n",
    "\t# name - Обязательный\n",
    "\tname = 'news'             # Путь к приложению, относительно BASE_DIR\n",
    "\tlabel = 'mynews'\t      # Псевдоним приложения\n",
    "\tverbose_name = 'New App'  # Название приложения в админке\n",
    "\tpath = '/new_app/'        # Путь к директории приложения"
   ]
  },
  {
   "cell_type": "code",
   "execution_count": null,
   "id": "2bdeda4b",
   "metadata": {},
   "outputs": [],
   "source": [
    "# /new_app/__init__.py\n",
    "default_app_config = 'news.apps.NewsConfig'"
   ]
  },
  {
   "cell_type": "markdown",
   "id": "d0121056",
   "metadata": {},
   "source": [
    "## Статика\n",
    "Файлы со статическим контентом: CSS, JS, Images, Fonts"
   ]
  },
  {
   "cell_type": "markdown",
   "id": "46647533",
   "metadata": {},
   "source": [
    "### Пути к шаблонам по дефолту\n",
    "\n",
    "- `root/config/static`\n",
    "- `root/app_name/static`"
   ]
  },
  {
   "cell_type": "markdown",
   "id": "4a345bfc",
   "metadata": {},
   "source": [
    "### Подключение статики в шаблоне\n",
    "```html\n",
    "{% load static %} {# Подключение модуля статики #}\n",
    "\n",
    "{# Отностилельный путь до файла статики #}\n",
    "<link rel=\"stylesheet\" href=\"{% static 'css/bootstrap.min.css' %}\">\n",
    "<img src=\"{% static 'img/logo.png' %}\">\n",
    "```"
   ]
  }
 ],
 "metadata": {
  "kernelspec": {
   "display_name": "py-experiments",
   "language": "python",
   "name": "python3"
  },
  "language_info": {
   "name": "python",
   "version": "3.12.10"
  }
 },
 "nbformat": 4,
 "nbformat_minor": 5
}
