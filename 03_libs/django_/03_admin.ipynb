{
 "cells": [
  {
   "cell_type": "markdown",
   "id": "da9f09ce",
   "metadata": {},
   "source": [
    "[Документация](https://docs.djangoproject.com/en/5.2/ref/contrib/admin/)"
   ]
  },
  {
   "cell_type": "markdown",
   "id": "0c9dec63",
   "metadata": {},
   "source": [
    "## Создание администратора\n",
    "Для создания учетной записи администратора:\n",
    "```sh\n",
    "python manage.py createsuperuser\n",
    "```"
   ]
  },
  {
   "cell_type": "markdown",
   "id": "28e2325b",
   "metadata": {},
   "source": [
    "## Регистрация модели в админке\n",
    "```python\n",
    "# app/admin.py\n",
    "from django.contrib import admin\n",
    "from .models import ModelName\n",
    "admin.site.register(ModelName)\n",
    "```\n",
    "\n",
    "```python\n",
    "# app/admin.py\n",
    "from django.contrib import admin\n",
    "from .models import ModelName\n",
    "class ModelNameAdmin(admin.ModelAdmin):\n",
    "    list_display = ('id', 'field1', 'field2')\n",
    "    search_fields = ('field1',)\n",
    "    list_filter = ('field1',)\n",
    "    empty_value_display = '-пусто-'\n",
    "admin.site.register(ModelName, ModelNameAdmin)\n",
    "```"
   ]
  },
  {
   "cell_type": "markdown",
   "id": "306cb741",
   "metadata": {},
   "source": [
    "## Декораторы"
   ]
  },
  {
   "cell_type": "markdown",
   "id": "ff8d2732",
   "metadata": {},
   "source": [
    "### `@admin.action`\n",
    "\n",
    "```python\n",
    "from django.contrib import admin\n",
    "from .models import MyModel\n",
    "\n",
    "class MyModelAdmin(admin.ModelAdmin):\n",
    "    list_display = ('title', 'author', 'published')\n",
    "    actions = ['mark_published', 'mark_unpublished']\n",
    "\n",
    "    @admin.action(description='Mark selected items as published')\n",
    "    def mark_published(self, request, queryset):\n",
    "        queryset.update(published=True)\n",
    "\n",
    "    @admin.action(description='Mark selected items as unpublished')\n",
    "    def mark_unpublished(self, request, queryset):\n",
    "        queryset.update(published=False)\n",
    "\n",
    "admin.site.register(MyModel, MyModelAdmin)\n",
    "```"
   ]
  },
  {
   "cell_type": "markdown",
   "id": "0ac42c34",
   "metadata": {},
   "source": [
    "### `@admin.display`\n",
    "\n",
    "```python\n",
    "from django.contrib import admin\n",
    "from .models import MyModel\n",
    "\n",
    "class MyModelAdmin(admin.ModelAdmin):\n",
    "    list_display = ('title', 'author', 'display_published_date')\n",
    "\n",
    "    @admin.display(ordering='published_date', description='Published Date')\n",
    "    def display_published_date(self, obj):\n",
    "        return obj.published_date.strftime('%Y-%m-%d')\n",
    "\n",
    "admin.site.register(MyModel, MyModelAdmin)\n",
    "```\n"
   ]
  },
  {
   "cell_type": "markdown",
   "id": "3030f02c",
   "metadata": {},
   "source": [
    "### `@admin.register`\n",
    "\n",
    "```python\n",
    "from django.contrib import admin\n",
    "from .models import MyModel\n",
    "\n",
    "@admin.register(MyModel)\n",
    "class MyModelAdmin(admin.ModelAdmin):\n",
    "    list_display = ('title', 'author')\n",
    "```"
   ]
  },
  {
   "cell_type": "markdown",
   "id": "aedad36a",
   "metadata": {},
   "source": [
    "## Опции"
   ]
  },
  {
   "cell_type": "markdown",
   "id": "37cb5aa3",
   "metadata": {},
   "source": [
    "### list_display\n",
    "Отображаемые поля\n",
    "```python\n",
    "list_display = ('id', 'title', 'date_published')\n",
    "```"
   ]
  },
  {
   "cell_type": "markdown",
   "id": "23a093fa",
   "metadata": {},
   "source": [
    "### ordering\n",
    "Сортировка\n",
    "```python\n",
    "ordering = ('-created_at',)\n",
    "```"
   ]
  },
  {
   "cell_type": "markdown",
   "id": "c815c943",
   "metadata": {},
   "source": [
    "### list_filter\n",
    "Фильтр\n",
    "```python\n",
    "list_filter = ('date_published',)\n",
    "```"
   ]
  },
  {
   "cell_type": "markdown",
   "id": "0f5747ea",
   "metadata": {},
   "source": [
    "### list_editable\n",
    "Редактируемые поля\n",
    "```python\n",
    "list_editable = ('title',)\n",
    "```\n",
    "> `list_editable`, также должны быть в `list_display`."
   ]
  },
  {
   "cell_type": "markdown",
   "id": "80a0cebb",
   "metadata": {},
   "source": [
    "### empty_value_display\n",
    "Дефолтное значение пустых\n",
    "```python\n",
    "empty_value_display = '-пусто-'\n",
    "```"
   ]
  },
  {
   "cell_type": "markdown",
   "id": "d2d359c8",
   "metadata": {},
   "source": [
    "### search_fields\n",
    "По каким полям разрешен поиск\n",
    "```python\n",
    "search_fields = ('title',)\n",
    "```"
   ]
  },
  {
   "cell_type": "markdown",
   "id": "87c40749",
   "metadata": {},
   "source": [
    "### filter_horizontal\n",
    "Список полей ManyToMany, которые должны отображаться как виджет `FilterHorizontalAdminField`.\n",
    "```python\n",
    "filter_horizontal = ('tags',)\n",
    "```"
   ]
  },
  {
   "cell_type": "markdown",
   "id": "8a02460c",
   "metadata": {},
   "source": [
    "### date_hierarchy\n",
    "ПОЛЕ, используемое в навигации по датам.\n",
    "```python\n",
    "date_hierarchy = 'pub_date'\n",
    "```"
   ]
  },
  {
   "cell_type": "markdown",
   "id": "efd86cfb",
   "metadata": {},
   "source": [
    "### prepopulated_fields\n",
    "Словарь полей, автоматически заполняемых из других полей. Напр., для генерации слагов.\n",
    "```python\n",
    "prepopulated_fields = {\"slug\": (\"title\",)}\n",
    "```"
   ]
  },
  {
   "cell_type": "markdown",
   "id": "f6c33bbb",
   "metadata": {},
   "source": [
    "### readonly_fields\n",
    "Поля, которые нельзя редактировать\n",
    "```python\n",
    "readonly_fields = ('created_at', 'updated_at',)\n",
    "```"
   ]
  },
  {
   "cell_type": "markdown",
   "id": "9fb657f4",
   "metadata": {},
   "source": [
    "### fieldsets\n",
    "Секции для формы редактирования\n",
    "```python\n",
    "fieldsets = (\n",
    "    (None, {\n",
    "        \"fields\": (\"title\", \"content\",),\n",
    "    }),\n",
    "    (\"Additional Information\", {\n",
    "        \"fields\": (\"author\", \"created_at\", \"updated_at\",),\n",
    "        \"classes\": (\"collapse\",),\n",
    "    }),\n",
    ")\n",
    "```"
   ]
  },
  {
   "cell_type": "markdown",
   "id": "f4581427",
   "metadata": {},
   "source": [
    "### exclude\n",
    "Поля, скрытые в форме редактирования\n",
    "```python\n",
    "exclude = ('created_at', 'updated_at',)\n",
    "```"
   ]
  },
  {
   "cell_type": "markdown",
   "id": "84c045df",
   "metadata": {},
   "source": [
    "### raw_id_fields\n",
    "ForeignKey, которые должны отображаться как `RawIdAdminField`.\n",
    "```python\n",
    "raw_id_fields = ('author',)\n",
    "```"
   ]
  },
  {
   "cell_type": "markdown",
   "id": "e56c4122",
   "metadata": {},
   "source": [
    "### save_as\n",
    "\"Сохранить как новый\" вместо \"Сохранить и добавить другой\"\n",
    "```python\n",
    "save_as = True\n",
    "```"
   ]
  },
  {
   "cell_type": "markdown",
   "id": "00977899",
   "metadata": {},
   "source": [
    "### inlines\n",
    "Список классов, наследующих `InlineModelAdmin`, которые должны быть отображены на странице редактирования объекта.\n",
    "\n",
    "```python\n",
    "from django.contrib import admin\n",
    "from .models import Post, Comment\n",
    "\n",
    "class CommentInline(admin.TabularInline):\n",
    "    model = Comment\n",
    "\n",
    "class PostAdmin(admin.ModelAdmin):\n",
    "    inlines = [\n",
    "        CommentInline,\n",
    "    ]\n",
    "admin.site.register(Post, PostAdmin)\n",
    "```"
   ]
  }
 ],
 "metadata": {
  "language_info": {
   "name": "python"
  }
 },
 "nbformat": 4,
 "nbformat_minor": 5
}
