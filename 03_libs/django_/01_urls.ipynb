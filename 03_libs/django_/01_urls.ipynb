{
 "cells": [
  {
   "cell_type": "markdown",
   "id": "dedd76e8",
   "metadata": {},
   "source": [
    "[Документация](https://docs.djangoproject.com/en/5.2/ref/urls/)\n",
    "\n",
    "[Как Django обрабатывает запрос](https://docs.djangoproject.com/en/5.2/topics/http/urls/#how-django-processes-a-request)\n",
    "\n",
    "[Path converters](https://docs.djangoproject.com/en/5.2/topics/http/urls/#path-converters)\n",
    "\n",
    "[Reversing namespace](https://docs.djangoproject.com/en/5.2/topics/http/urls/#reversing-namespaced-urls)"
   ]
  },
  {
   "cell_type": "markdown",
   "id": "48465ff2",
   "metadata": {},
   "source": [
    "## Порядок обработки и общие правила"
   ]
  },
  {
   "cell_type": "markdown",
   "id": "0679b613",
   "metadata": {},
   "source": [
    "- Django проходит urlpatterns сверху вниз\n",
    "- Адреса - латинскими символами в нижнем регистре, разделённые знаками `-` или `_`\n",
    "- Адреса должны заканчиваться символом `/` ([Соглашение Django по слэшам в urls](https://docs.djangoproject.com/en/dev/misc/design-philosophies/#definitive-urls))"
   ]
  },
  {
   "cell_type": "markdown",
   "id": "49c0b415",
   "metadata": {},
   "source": [
    "## path()"
   ]
  },
  {
   "cell_type": "code",
   "execution_count": null,
   "id": "65a05e89",
   "metadata": {},
   "outputs": [],
   "source": [
    "from django.urls import path\n",
    "\n",
    "# namespace\n",
    "app_name = 'app'     # Общая ссылка на этот роут (app:index)\n",
    "\n",
    "from . import views  # noqa\n",
    "\n",
    "urlpatterns = [\n",
    "  # path(URL, VIEW, name)\n",
    "  path('', views.index, name='index')  # href=\"{% url 'app:index' %}\"\n",
    "]"
   ]
  },
  {
   "cell_type": "markdown",
   "id": "be15f2b2",
   "metadata": {},
   "source": [
    "## include()"
   ]
  },
  {
   "cell_type": "code",
   "execution_count": null,
   "id": "d8e55cc7",
   "metadata": {},
   "outputs": [],
   "source": [
    "# project/urls.py\n",
    "from django.contrib import admin\n",
    "from django.urls import include, path\n",
    "\n",
    "urlpatterns = [\n",
    "    # Для примера (Можно ссылаться на одно приложение по разным путям)\n",
    "    path('app1/', include('new_app.urls', namespace='app1')),\n",
    "    path('app2/', include('new_app.urls', namespace='app2')),\n",
    "    path('admin/', admin.site.urls),\n",
    "]"
   ]
  },
  {
   "cell_type": "code",
   "execution_count": null,
   "id": "640021f1",
   "metadata": {},
   "outputs": [],
   "source": [
    "# new_app/urls.py\n",
    "from django.urls import path\n",
    "from . import views\n",
    "\n",
    "app_name = 'new_app'\n",
    "\n",
    "urlpatterns = [\n",
    "    path('', views.index, name='index')\n",
    "]"
   ]
  },
  {
   "cell_type": "markdown",
   "id": "a763eacd",
   "metadata": {},
   "source": [
    "## Конвертеры путей\n",
    "Если параметр не соответствует типу, Django продолжит поиск.\n",
    "\n",
    "[Документация](https://docs.djangoproject.com/en/5.2/topics/http/urls/#path-converters)\n",
    "\n",
    "[Собственный конвертер](https://docs.djangoproject.com/en/4.2/topics/http/urls/#registering-custom-path-converters)"
   ]
  },
  {
   "cell_type": "code",
   "execution_count": null,
   "id": "d97dd443",
   "metadata": {},
   "outputs": [],
   "source": [
    "path('new_app/<param>/', ...)   # По умолчанию - строка\n",
    "path('new_app/<int:pk>/', ...)  # Можно указать тип\n",
    "\n",
    "# Несколько конвертеров\n",
    "path('new_app/<user_id:int>/<post_id:int>/')"
   ]
  },
  {
   "cell_type": "code",
   "execution_count": null,
   "id": "26728b10",
   "metadata": {},
   "outputs": [],
   "source": [
    "# Нужно правильно понимать порядок разрешения путей (сверху вниз).\n",
    "urlpatterns = [\n",
    "    path('page/<int:pk>/', views.material_by_id),  # Этот путь перекрывает второй\n",
    "    path('page/1/', views.just_page),              # А этот никогда не будет найден\n",
    "]"
   ]
  }
 ],
 "metadata": {
  "kernelspec": {
   "display_name": "py-experiments",
   "language": "python",
   "name": "python3"
  },
  "language_info": {
   "name": "python",
   "version": "3.12.10"
  }
 },
 "nbformat": 4,
 "nbformat_minor": 5
}
