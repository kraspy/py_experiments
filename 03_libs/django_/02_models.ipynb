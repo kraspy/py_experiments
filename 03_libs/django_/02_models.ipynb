{
 "cells": [
  {
   "cell_type": "markdown",
   "id": "11afaecf",
   "metadata": {},
   "source": [
    "[Документация](https://docs.djangoproject.com/en/5.2/#the-model-layer)\n",
    "\n",
    "[Model Style](https://docs.djangoproject.com/en/dev/internals/contributing/writing-code/coding-style/#model-style)\n",
    "\n",
    "[DB Functions](https://docs.djangoproject.com/en/5.2/ref/models/database-functions/)"
   ]
  },
  {
   "cell_type": "markdown",
   "id": "749b89f2",
   "metadata": {},
   "source": [
    "## Описание\n",
    "После создания модели Django автоматически проведёт несколько операций:\n",
    "- Создаст необходимые таблицы в базе данных.\n",
    "- Добавит первичный ключ.\n",
    "- Добавит интерфейс админки.\n",
    "- Создаст формы для добавления и редактирования записей в таблице.\n",
    "- Настроит проверку данных, введённых в веб-формы.\n",
    "- Предоставит возможность изменения таблиц в БД.\n",
    "- Создаст SQL-запросы для создания таблицы, поиска, изменения, удаления данных, настроит связи между данными, обеспечив их целостность.\n",
    "- Предоставит специальный синтаксис формирования запросов.\n",
    "- Добавит необходимые индексы в базу данных для ускорения работы сайта."
   ]
  },
  {
   "cell_type": "markdown",
   "id": "395a6be2",
   "metadata": {},
   "source": [
    "- Свойства модели, определенные как `имя_свойства = models.тип_данных()` станут колонками таблицы БД.\n",
    "- Каждая модель - отдельная таблица в БД\n",
    "- Название таблиц БД - `<appname>_<classname>`\n",
    "- `id` создается по умолчанию"
   ]
  },
  {
   "cell_type": "markdown",
   "id": "5176ac8d",
   "metadata": {},
   "source": [
    "## Определение и назначение"
   ]
  },
  {
   "cell_type": "markdown",
   "id": "909e3e9f",
   "metadata": {},
   "source": [
    "`Модели нужны для взаимодействия с БД (CRUD)\n",
    "\n",
    "- Классы моделей описываются в `models.py` приложения\n",
    "- Класс модели должен наследоваться от `django.db.models.Model`\n",
    "- Приложение должно быть зарегистировано в `INSTALLED_APPS`"
   ]
  },
  {
   "cell_type": "markdown",
   "id": "b6108889",
   "metadata": {},
   "source": [
    "## Порядок содержимого модели\n",
    "1.  Поля базы данных.\n",
    "2.  Настраиваемые атрибуты менеджера.\n",
    "3.  `class Meta`.\n",
    "4.  `def __str__()`.\n",
    "5.  `def save()`.\n",
    "6.  `def get_absolute_url()`.\n",
    "7.  Другие пользовательские методы."
   ]
  },
  {
   "cell_type": "markdown",
   "id": "717a0d6a",
   "metadata": {},
   "source": [
    "## Настройка проекта"
   ]
  },
  {
   "cell_type": "markdown",
   "id": "78d6bb33",
   "metadata": {},
   "source": [
    "[Документация](https://docs.djangoproject.com/en/5.2/ref/settings/#databases)"
   ]
  },
  {
   "cell_type": "code",
   "execution_count": null,
   "id": "c1a1c284",
   "metadata": {},
   "outputs": [],
   "source": [
    "# settings.py\n",
    "DATABASES = {\n",
    "    'default': {\n",
    "\t    # Драйвер БД\n",
    "        'ENGINE': 'django.db.backends.sqlite3',\n",
    "        'NAME': os.path.join(BASE_DIR, 'db.sqlite3'),  # noqa\n",
    "    }\n",
    "}"
   ]
  },
  {
   "cell_type": "markdown",
   "id": "2ad5cfff",
   "metadata": {},
   "source": [
    "## Миграции\n",
    "[Документация](https://docs.djangoproject.com/en/5.2/topics/migrations/)"
   ]
  },
  {
   "cell_type": "markdown",
   "id": "f4da7b29",
   "metadata": {},
   "source": [
    "###  `makemigrations`\n",
    "На этом этапе нет изменений в БД\\\n",
    "Миграции хранятся в таблице `django_migrations`"
   ]
  },
  {
   "cell_type": "markdown",
   "id": "f7de56c0",
   "metadata": {},
   "source": [
    "```sh\n",
    "manage.py makemigrations [<список_приложений>]\n",
    "\t[--name <имя_миrрации>]\n",
    "\t[--noinput]  # Без вывода инофрмации на экран\n",
    "\t[--dry-run]  # Вывод сведений о миграции    | no commit\n",
    "\t[--check]    # Вывод сведений об изменениях | no commit\n",
    "\t[--merge]    # Для устранения конфликтов между миграциями\n",
    "\t[--empty]    # Создать пустую миграцию\n",
    "```"
   ]
  },
  {
   "cell_type": "markdown",
   "id": "209b1c2b",
   "metadata": {},
   "source": [
    "###  `migrate`\n",
    "Вносятся изменения в БД"
   ]
  },
  {
   "cell_type": "markdown",
   "id": "554edbfd",
   "metadata": {},
   "source": [
    "```sh\n",
    "manage.py migrate [<псевдоним_приложения>] [<имя_миrрации>]\n",
    "\t[--noinput]       # Без вывода информации на экран\n",
    "\t[--fake-initial]  # Без начальной миграции\n",
    "\t[--fake]          # Помечает все миграции выполненными\n",
    "\n",
    "manage.py migrate <appname> zero  # Отменить все миграции\n",
    "```"
   ]
  },
  {
   "cell_type": "markdown",
   "id": "30674c56",
   "metadata": {},
   "source": [
    "### `showmigrations`\n",
    "Показать миграции"
   ]
  },
  {
   "cell_type": "markdown",
   "id": "8a2711f8",
   "metadata": {},
   "source": [
    "```sh\n",
    "manage.py showmigrations [<список_приложений>]\n",
    "\t[--plan|-p]  # Отсортированный список, в порядке выполнения\n",
    "```"
   ]
  },
  {
   "cell_type": "markdown",
   "id": "87af82bb",
   "metadata": {},
   "source": [
    "$$ `sqlmigrate`\n",
    "Показать запрос к БД"
   ]
  },
  {
   "cell_type": "markdown",
   "id": "072e9001",
   "metadata": {},
   "source": [
    "```sh\n",
    "manage.py sqlmigrate news 0001\n",
    "```"
   ]
  },
  {
   "cell_type": "markdown",
   "id": "037980cd",
   "metadata": {},
   "source": [
    "## Поля моделей\n",
    "[Документация](https://docs.djangoproject.com/en/5.2/ref/models/fields)\n",
    "\n",
    "[Параметры](https://docs.djangoproject.com/en/5.2/ref/models/fields/#field-options)"
   ]
  },
  {
   "cell_type": "markdown",
   "id": "df8c7241",
   "metadata": {},
   "source": [
    "### [CharField](https://docs.djangoproject.com/en/5.2/ref/models/fields/#charfield)\n",
    "Для хранения текстовых данных короткой или средней длины\n",
    "\n",
    "Для больших текстов - [TextField](#textfield)\n",
    "\n",
    "> `HTML:` TextInput  \n",
    "> `SQL:` VARCHAR"
   ]
  },
  {
   "cell_type": "markdown",
   "id": "d966136d",
   "metadata": {},
   "source": [
    "### [TextField](https://docs.djangoproject.com/en/5.2/ref/models/fields/#textfield)\n",
    "Для хранения больших текстовых блоков\n",
    "\n",
    "Для коротких или средних текстовых строк - [CharField](#charfield)\n",
    "\n",
    "> `HTML:` Textarea  \n",
    "> `SQL:` TEXT"
   ]
  },
  {
   "cell_type": "markdown",
   "id": "3b24cc9a",
   "metadata": {},
   "source": [
    "### [BooleanField](https://docs.djangoproject.com/en/5.2/ref/models/fields/#booleanfield)\n",
    "Для хранения булевых значений (Истина/Ложь)\n",
    "\n",
    "> `HTML:` Checkbox  \n",
    "> `SQL:` BOOL"
   ]
  },
  {
   "cell_type": "markdown",
   "id": "bf689fb7",
   "metadata": {},
   "source": [
    "### [EmailField](https://docs.djangoproject.com/en/5.2/ref/models/fields/#emailfield)\n",
    "Для хранения адресов электронной почты\n",
    "\n",
    "> `HTML:` Email input  \n",
    "> `SQL:` VARCHAR"
   ]
  },
  {
   "cell_type": "markdown",
   "id": "743b4e52",
   "metadata": {},
   "source": [
    "### [URLField](https://docs.djangoproject.com/en/5.2/ref/models/fields/#urlfield)\n",
    "Для хранения URL-адресов\n",
    "\n",
    "> `HTML:` URL input  \n",
    "> `SQL:` VARCHAR"
   ]
  },
  {
   "cell_type": "markdown",
   "id": "28e031f8",
   "metadata": {},
   "source": [
    "### [SlugField](https://docs.djangoproject.com/en/5.2/ref/models/fields/#slugfield)\n",
    "Для хранения \"слагов\" — части URL, которая содержит только буквы, числа, тире или подчеркивания\n",
    "\n",
    "> `HTML:` Text input  \n",
    "> `SQL:` VARCHAR"
   ]
  },
  {
   "cell_type": "markdown",
   "id": "b1cbe065",
   "metadata": {},
   "source": [
    "### [UUIDField](https://docs.djangoproject.com/en/5.2/ref/models/fields/#uuidfield)\n",
    "Для хранения уникального идентификатора (UUID)\n",
    "\n",
    "> `HTML:` Text input  \n",
    "> `SQL:` CHAR(32)"
   ]
  },
  {
   "cell_type": "markdown",
   "id": "a4d2eacf",
   "metadata": {},
   "source": [
    "### [AutoField](https://docs.djangoproject.com/en/5.2/ref/models/fields/#autofield)\n",
    "Поле для хранения целых чисел, которое автоматически увеличивается с каждым новым объектом\n",
    "\n",
    "> `HTML:` None (поле не представлено в формах)  \n",
    "> `SQL:` AUTO_INCREMENT"
   ]
  },
  {
   "cell_type": "markdown",
   "id": "8d1799d3",
   "metadata": {},
   "source": [
    "### [BigAutoField](https://docs.djangoproject.com/en/5.2/ref/models/fields/#bigautofield)\n",
    "Поле для хранения больших целых чисел, которое автоматически увеличивается с каждым новым объектом\n",
    "\n",
    "> `HTML:` None (поле не представлено в формах)  \n",
    "> `SQL:` BIGINT AUTO_INCREMENT"
   ]
  },
  {
   "cell_type": "markdown",
   "id": "5d5b3497",
   "metadata": {},
   "source": [
    "### [IntegerField](https://docs.djangoproject.com/en/5.2/ref/models/fields/#integerfield)\n",
    "Для хранения целых чисел\n",
    "\n",
    "> `HTML:` Number input  \n",
    "> `SQL:` INT"
   ]
  },
  {
   "cell_type": "markdown",
   "id": "97129c2b",
   "metadata": {},
   "source": [
    "### [SmallIntegerField](https://docs.djangoproject.com/en/5.2/ref/models/fields/#smallintegerfield)\n",
    "Для хранения небольших целых чисел\n",
    "\n",
    "> `HTML:` Number input  \n",
    "> `SQL:` SMALLINT\n",
    "\n",
    "\n",
    "```python\n",
    "editable=False     # Отключает редактирование поля\n",
    "blank=True         # Позволяет полю быть пустым (без значения)\n",
    "default=int        # Значение по умолчанию\n",
    "```"
   ]
  },
  {
   "cell_type": "markdown",
   "id": "0b86e872",
   "metadata": {},
   "source": [
    "### [BigIntegerField](https://docs.djangoproject.com/en/5.2/ref/models/fields/#bigintegerfield)\n",
    "Для хранения больших целых чисел\n",
    "\n",
    "> `HTML:` Number input  \n",
    "> `SQL:` BIGINT\n",
    "\n",
    "\n",
    "```python\n",
    "editable=False     # Отключает редактирование поля\n",
    "blank=True         # Позволяет полю быть пустым (без значения)\n",
    "default=int        # Значение по умолчанию\n",
    "```"
   ]
  },
  {
   "cell_type": "markdown",
   "id": "b6d4f918",
   "metadata": {},
   "source": [
    "### [PositiveIntegerField](https://docs.djangoproject.com/en/5.2/ref/models/fields/#positiveintegerfield)\n",
    "Для хранения положительных целых чисел\n",
    "\n",
    "> `HTML:` Number input  \n",
    "> `SQL:` UNSIGNED INT\n",
    "\n",
    "\n",
    "```python\n",
    "editable=False     # Отключает редактирование поля\n",
    "blank=True         # Позволяет полю быть пустым (без значения)\n",
    "default=int        # Значение по умолчанию\n",
    "```"
   ]
  },
  {
   "cell_type": "markdown",
   "id": "8311d896",
   "metadata": {},
   "source": [
    "### [PositiveSmallIntegerField](https://docs.djangoproject.com/en/5.2/ref/models/fields/#positivesmallintegerfield)\n",
    "Для хранения небольших положительных целых чисел\n",
    "\n",
    "> `HTML:` Number input  \n",
    "> `SQL:` UNSIGNED SMALLINT"
   ]
  },
  {
   "cell_type": "markdown",
   "id": "4f9355ee",
   "metadata": {},
   "source": [
    "### [FloatField](https://docs.djangoproject.com/en/5.2/ref/models/fields/#floatfield)\n",
    "Для хранения чисел с плавающей точкой\n",
    "\n",
    "> `HTML:` Number input  \n",
    "> `SQL:` FLOAT"
   ]
  },
  {
   "cell_type": "markdown",
   "id": "cd793552",
   "metadata": {},
   "source": [
    "### [DecimalField](https://docs.djangoproject.com/en/5.2/ref/models/fields/#decimalfield)\n",
    "Для хранения чисел с фиксированной точкой\n",
    "\n",
    "> `HTML:` Number input  \n",
    "> `SQL:` DECIMAL"
   ]
  },
  {
   "cell_type": "markdown",
   "id": "6c78cf0c",
   "metadata": {},
   "source": [
    "### [DateField](https://docs.djangoproject.com/en/5.2/ref/models/fields/#datefield)\n",
    "Для хранения дат\n",
    "\n",
    "Для хранения даты и времени - [DateTimeField](#datetimefield)\n",
    "\n",
    "> `HTML:` Date input  \n",
    "> `SQL:` DATE"
   ]
  },
  {
   "cell_type": "markdown",
   "id": "76a141f9",
   "metadata": {},
   "source": [
    "### [TimeField](https://docs.djangoproject.com/en/5.2/ref/models/fields/#timefield)\n",
    "Для хранения времени\n",
    "\n",
    "> `HTML:` Time input  \n",
    "> `SQL:` TIME"
   ]
  },
  {
   "cell_type": "markdown",
   "id": "51a4d402",
   "metadata": {},
   "source": [
    "### [DateTimeField](https://docs.djangoproject.com/en/5.2/ref/models/fields/#datetimefield)\n",
    "Для хранения даты и времени\n",
    "\n",
    "> `HTML:` Text input  \n",
    "> `SQL:` DATETIME"
   ]
  },
  {
   "cell_type": "markdown",
   "id": "7cfb4dda",
   "metadata": {},
   "source": [
    "### [DurationField](https://docs.djangoproject.com/en/5.2/ref/models/fields/#durationfield)\n",
    "Для хранения продолжительности времени\n",
    "\n",
    "> `HTML:` Text input  \n",
    "> `SQL:` INTERVAL"
   ]
  },
  {
   "cell_type": "markdown",
   "id": "8adcc06e",
   "metadata": {},
   "source": [
    "### [BinaryField](https://docs.djangoproject.com/en/5.2/ref/models/fields/#binaryfield)\n",
    "Для хранения бинарных данных\n",
    "\n",
    "> `HTML:` None (поле не представлено в формах)  \n",
    "> `SQL:` BLOB"
   ]
  },
  {
   "cell_type": "markdown",
   "id": "c5c316b4",
   "metadata": {},
   "source": [
    "### [GenericIPAddressField](https://docs.djangoproject.com/en/5.2/ref/models/fields/#genericipaddressfield)\n",
    "Для хранения IP-адресов (IPv4 и IPv6)\n",
    "\n",
    "> `HTML:` Text input  \n",
    "> `SQL:` VARCHAR(39)"
   ]
  },
  {
   "cell_type": "markdown",
   "id": "525078a1",
   "metadata": {},
   "source": [
    "### [ImageField](https://docs.djangoproject.com/en/5.2/ref/models/fields/#imagefield)\n",
    "Для хранения изображений\n",
    "\n",
    "Наследует все опции и методы [FileField](#filefield), но также проверяет, что загруженный файл является допустимым изображением\n",
    "\n",
    "> `HTML:` File input  \n",
    "> `SQL:` VARCHAR"
   ]
  },
  {
   "cell_type": "markdown",
   "id": "d68bcfb7",
   "metadata": {},
   "source": [
    "### [FileField](https://docs.djangoproject.com/en/5.2/ref/models/fields/#filefield)\n",
    "Для хранения файлов\n",
    "\n",
    "> `HTML:` File input  \n",
    "> `SQL:` VARCHAR"
   ]
  },
  {
   "cell_type": "markdown",
   "id": "641d7f4a",
   "metadata": {},
   "source": [
    "### [ForeignKey](https://docs.djangoproject.com/en/5.2/ref/models/fields/#foreignkey)\n",
    "Для создания связи \"многие к одному\"\n",
    "\n",
    "#### Синтаксис\n",
    "```python\n",
    "ForeignKey(to, on_delete, **options)\n",
    "```\n",
    "\n",
    "#### Параметры\n",
    "- `to`: Класс модели, к которой относится связь (может быть строкой или классом)\n",
    "- `on_delete`: Определяет поведение при удалении связанного объекта\n",
    "  - `CASCADE` - каскадное удаление\n",
    "  - `PROTECT` - запретить удаление\n",
    "  - `SET_NULL` - установить NULL (требует null=True)\n",
    "  - `SET_DEFAULT` - установить значение по умолчанию\n",
    "  - `SET(<значение>)` - установить указанное значение\n",
    "  - `DO_NOTHING` - ничего не делать\n",
    "\n",
    "\n",
    "```python\n",
    "limit_choices_to=dict  # Ограничение выбора записей\n",
    "related_name=str       # Имя для обратной связи\n",
    "related_query_name=str # Имя фильтра для связанной модели\n",
    "to_field=str           # Поле для связи (по умолчанию - pk)\n",
    "db_constraint=bool     # Создание ограничения в БД (по умолчанию True)\n",
    "```"
   ]
  },
  {
   "cell_type": "markdown",
   "id": "e272b4c3",
   "metadata": {},
   "source": [
    "### [OneToOneField](https://docs.djangoproject.com/en/5.2/ref/models/fields/#onetoonefield)\n",
    "Для создания связи \"один к одному\"\n",
    "\n",
    "> `HTML:` Select input  \n",
    "> `SQL:` INT/VARCHAR (в зависимости от первичного ключа связанной модели)"
   ]
  },
  {
   "cell_type": "markdown",
   "id": "748d9b58",
   "metadata": {},
   "source": [
    "### [ManyToManyField](https://docs.djangoproject.com/en/5.2/ref/models/fields/#manytomanyfield)\n",
    "Для создания связи \"многие ко многим\"\n",
    "\n",
    "> `HTML:` Multi-select input  \n",
    "> `SQL:` Создает отдельную промежуточную таблицу"
   ]
  },
  {
   "cell_type": "markdown",
   "id": "797d8628",
   "metadata": {},
   "source": [
    "## Сообщения об ошибках\n",
    "[Документация](https://docs.djangoproject.com/en/5.2/topics/migrations/)"
   ]
  },
  {
   "cell_type": "markdown",
   "id": "1b947b55",
   "metadata": {},
   "source": [
    "```python\n",
    "title = models.CharField(\n",
    "\terror_messages={<error>: 'Кастомное сообщение об ошибке'}\n",
    ")\n",
    "```\n",
    "errors\n",
    "```python\n",
    "null                # Поле таблицы не может хранить null\n",
    "blank               # Поле не может быть пустым\n",
    "invalid             # Неверный формат значения\n",
    "invalid_choice      # Выбрано значение, не указанное в списке\n",
    "unique              # В поле неуникальное значение\n",
    "unique_for_date     # В поле неуникальное значение, в перелах даты\n",
    "invalid_date        # Некорректное значение даты\n",
    "invalid_time        # Некорректное значение времени\n",
    "invalid_datetime    # Некорректное значение даты и времени\n",
    "min_length          # Длина строки меньше минимума\n",
    "max_length          # Длина строки больше максимума\n",
    "min_value           # Сохраняемое число меньше минимума\n",
    "max_value           # Сохраняемое число больше максимума\n",
    "max_digits          # Общее количество цифр больше заданного\n",
    "max_whole_digits    # Цифр в цел. части > (Общ - Цифр в Дробн. части)\n",
    "max_decimal_places  # Количество цифр дробной части больше заданного\n",
    "null_characters_not_allowed  # Строка содержит нулевой символ \\x00\n",
    "```\n"
   ]
  },
  {
   "cell_type": "markdown",
   "id": "aee658c6",
   "metadata": {},
   "source": [
    "## Класс Meta\n",
    "[Документация](https://docs.djangoproject.com/en/5.2/ref/models/options/)"
   ]
  },
  {
   "cell_type": "markdown",
   "id": "3eb45451",
   "metadata": {},
   "source": [
    "## Индексы\n",
    "[Документация](https://docs.djangoproject.com/en/5.2/ref/models/indexes/)"
   ]
  },
  {
   "cell_type": "markdown",
   "id": "3a8ba489",
   "metadata": {},
   "source": [
    "### Синтаксис\n",
    "```python\n",
    "class MyModel(models.Model):\n",
    "\tclass Meta:\n",
    "\t\t<params>\n",
    "```"
   ]
  },
  {
   "cell_type": "markdown",
   "id": "0148e1aa",
   "metadata": {},
   "source": [
    "## Enumeration types"
   ]
  },
  {
   "cell_type": "markdown",
   "id": "7c7a6b28",
   "metadata": {},
   "source": [
    "### Ссылки\n",
    "[Документация](https://docs.djangoproject.com/en/5.2/ref/models/fields/#enumeration-types)\n",
    "\n",
    "### TextChoices\n",
    "Определение ограниченного набора текстовых значений для полей модели.\n",
    "> Поле, которое использует `TextChoices`, будет иметь тип `CharField` или `TextField` в зависимости от нужд приложения.\n",
    "\n",
    "#### Определение\n",
    "```python\n",
    "class TextChoices(*args, kwargs)\n",
    "```\n",
    "#### Пример использования\n",
    "```python\n",
    "from django.db import models\n",
    "\n",
    "class Status(models.TextChoices):\n",
    "    DRAFT = 'DF', 'Draft'\n",
    "    PUBLISHED = 'PB', 'Published'\n",
    "\n",
    "class Post(models.Model):\n",
    "    title = models.CharField(max_length=250)\n",
    "    status = models.CharField(max_length=2, choices=Status.choices)\n",
    "```"
   ]
  },
  {
   "cell_type": "markdown",
   "id": "bedc3296",
   "metadata": {},
   "source": [
    "## get_absolute_url()\n",
    "[Документация](https://docs.djangoproject.com/en/5.2/ref/models/instances/#get-absolute-url)"
   ]
  },
  {
   "cell_type": "markdown",
   "id": "a0ebc516",
   "metadata": {},
   "source": [
    "```python\n",
    "# models.py\n",
    "from django.urls import reverse\n",
    "def get_absolute_url(self):\n",
    "\treturn reverse('news:news', kwargs={'pk': self.pk})\n",
    "```"
   ]
  },
  {
   "cell_type": "markdown",
   "id": "af9722ca",
   "metadata": {},
   "source": [
    "## Переопределение методов модели"
   ]
  },
  {
   "cell_type": "markdown",
   "id": "910e3d18",
   "metadata": {},
   "source": [
    "[Документация](https://docs.djangoproject.com/en/4.2/topics/db/models/#overriding-predefined-model-methods)\n",
    "\n",
    "```python\n",
    "from django.db import models\n",
    "\n",
    "class Blog(models.Model):\n",
    "\tname = models.CharField(max_length=100)\n",
    "\ttagline = models.TextField()\n",
    "\n",
    "\tdef save(self, *args, kwargs):\n",
    "\t\tdo_something()\n",
    "\t\tsuper().save(*args, kwargs)\n",
    "\t\tdo_something_else()\n",
    "```\n",
    "\n",
    "```python\n",
    "\tdef save(self, *args, kwargs):\n",
    "\t\tif self.name == \"Yoko Ono's blog\":\n",
    "\t\t\treturn # Yoko shall never have her own blog!\n",
    "\t\telse:\n",
    "\t\t\tsuper().save(*args, kwargs)  # Call the \"real\" save() method.\n",
    "```"
   ]
  }
 ],
 "metadata": {
  "kernelspec": {
   "display_name": "py-experiments",
   "language": "python",
   "name": "python3"
  },
  "language_info": {
   "name": "python",
   "version": "3.12.10"
  }
 },
 "nbformat": 4,
 "nbformat_minor": 5
}
