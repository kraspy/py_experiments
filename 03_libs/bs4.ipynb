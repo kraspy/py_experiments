{
 "cells": [
  {
   "cell_type": "markdown",
   "id": "255c19ae",
   "metadata": {},
   "source": [
    "[Документация](https://beautiful-soup-4.readthedocs.io/en/latest/)\n",
    "\n",
    "Библиотека не ходит в интернет за контентом.\\\n",
    "Работает только с предзагруженным HTML/XML."
   ]
  },
  {
   "cell_type": "code",
   "execution_count": 8,
   "id": "696ca2a4",
   "metadata": {},
   "outputs": [],
   "source": [
    "from bs4 import BeautifulSoup\n",
    "from aiohttp import ClientSession\n",
    "\n",
    "import lxml  # Парсер"
   ]
  },
  {
   "cell_type": "code",
   "execution_count": 9,
   "id": "05e6d817",
   "metadata": {},
   "outputs": [],
   "source": [
    "URL = 'https://books.toscrape.com/'\n",
    "\n",
    "async def get_content(url):\n",
    "    async with ClientSession() as session:\n",
    "        async with session.get(url) as response:\n",
    "            return await response.text()\n",
    "        \n",
    "html_content = await get_content(URL)"
   ]
  },
  {
   "cell_type": "code",
   "execution_count": 35,
   "id": "0bb205b4",
   "metadata": {},
   "outputs": [
    {
     "name": "stdout",
     "output_type": "stream",
     "text": [
      "<title>\n",
      "    All products | Books to Scrape - Sandbox\n",
      "</title>\n",
      "---\n",
      "title\n",
      "---\n",
      "\n",
      "    All products | Books to Scrape - Sandbox\n",
      "\n",
      "---\n",
      "<ul class=\"breadcrumb\">\n",
      "<li>\n",
      "<a href=\"index.html\">Home</a>\n",
      "</li>\n",
      "<li class=\"active\">All products</li>\n",
      "</ul>\n"
     ]
    }
   ],
   "source": [
    "soup = BeautifulSoup(html_content, 'lxml')\n",
    "\n",
    "# soup.prettify()\n",
    "\n",
    "print(\n",
    "    soup.title,\n",
    "    soup.title.name,\n",
    "    soup.title.string,\n",
    "    soup.find('ul', class_='breadcrumb'),  #  id='id',\n",
    "    sep='\\n---\\n'\n",
    ")"
   ]
  },
  {
   "cell_type": "code",
   "execution_count": 43,
   "id": "60b5710e",
   "metadata": {},
   "outputs": [
    {
     "name": "stdout",
     "output_type": "stream",
     "text": [
      "catalogue/a-light-in-the-attic_1000/index.html\n",
      "catalogue/a-light-in-the-attic_1000/index.html\n",
      "catalogue/tipping-the-velvet_999/index.html\n",
      "catalogue/tipping-the-velvet_999/index.html\n",
      "catalogue/soumission_998/index.html\n"
     ]
    }
   ],
   "source": [
    "for link in soup.section.find_all('a')[:5]:\n",
    "    print(link.get('href'))"
   ]
  }
 ],
 "metadata": {
  "kernelspec": {
   "display_name": "py-experiments",
   "language": "python",
   "name": "python3"
  },
  "language_info": {
   "codemirror_mode": {
    "name": "ipython",
    "version": 3
   },
   "file_extension": ".py",
   "mimetype": "text/x-python",
   "name": "python",
   "nbconvert_exporter": "python",
   "pygments_lexer": "ipython3",
   "version": "3.12.10"
  }
 },
 "nbformat": 4,
 "nbformat_minor": 5
}
