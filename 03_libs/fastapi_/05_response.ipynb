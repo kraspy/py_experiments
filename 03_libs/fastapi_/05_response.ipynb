{
 "cells": [
  {
   "cell_type": "markdown",
   "id": "9004fc1f",
   "metadata": {},
   "source": [
    "[HTTP Statuses](https://www.webfx.com/web-development/glossary/http-status-codes/)\n",
    "\n",
    "## Работа с ответом сервера в FastAPI"
   ]
  },
  {
   "cell_type": "code",
   "execution_count": null,
   "id": "b5a6ebbf",
   "metadata": {},
   "outputs": [],
   "source": [
    "from fastapi import FastAPI\n",
    "\n",
    "app = FastAPI()"
   ]
  },
  {
   "cell_type": "markdown",
   "id": "b7ead828",
   "metadata": {},
   "source": [
    "### response_model\n",
    "Позволяет автоматически валидировать данные перед отправкой ответа."
   ]
  },
  {
   "cell_type": "code",
   "execution_count": null,
   "id": "8f13e33b",
   "metadata": {},
   "outputs": [],
   "source": [
    "from pydantic import BaseModel\n",
    "\n",
    "\n",
    "class Item(BaseModel):\n",
    "    name: str\n",
    "    description: str\n",
    "\n",
    "\n",
    "@app.get('/items/{item_id}', response_model=Item)\n",
    "async def read_item(item_id: int):\n",
    "    return {'name': 'Мой товар', 'description': 'Описание товара'}"
   ]
  },
  {
   "cell_type": "markdown",
   "id": "5e9b74e3",
   "metadata": {},
   "source": [
    "### status_code"
   ]
  },
  {
   "cell_type": "code",
   "execution_count": null,
   "id": "1fa312af",
   "metadata": {},
   "outputs": [],
   "source": [
    "from fastapi import Response\n",
    "\n",
    "@app.get('/')  # status_code=201 <- Код ответа по умолчанию\n",
    "def read_root(response: Response):\n",
    "    response.status_code = 201\n",
    "    return {'message': 'Custom status code set'}"
   ]
  },
  {
   "cell_type": "markdown",
   "id": "2c65c7e9",
   "metadata": {},
   "source": [
    "### HTTPException"
   ]
  },
  {
   "cell_type": "code",
   "execution_count": null,
   "id": "d0d01540",
   "metadata": {},
   "outputs": [],
   "source": [
    "from fastapi import HTTPException, status\n",
    "\n",
    "@app.get('/items/{item_id}')\n",
    "async def read_item(item_id: int):\n",
    "    if item_id == 0:\n",
    "        raise HTTPException(\n",
    "            status_code=status.HTTP_404_NOT_FOUND, detail='Item not found'\n",
    "        )\n",
    "    return {'item_id': item_id}"
   ]
  }
 ],
 "metadata": {
  "kernelspec": {
   "display_name": "py-experiments",
   "language": "python",
   "name": "python3"
  },
  "language_info": {
   "name": "python",
   "version": "3.12.10"
  }
 },
 "nbformat": 4,
 "nbformat_minor": 5
}
