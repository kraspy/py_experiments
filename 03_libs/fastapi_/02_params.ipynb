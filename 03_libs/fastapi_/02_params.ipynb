{
 "cells": [
  {
   "cell_type": "markdown",
   "id": "c532b2fa",
   "metadata": {},
   "source": [
    "### Examples\n",
    "```python\n",
    "class Item(BaseModel): \n",
    "  name: str = Field(examples=[\"Foo\"])\n",
    "  price: float = Field(examples=[35.4])\n",
    "```"
   ]
  },
  {
   "cell_type": "code",
   "execution_count": 1,
   "id": "fd5f30bb",
   "metadata": {},
   "outputs": [],
   "source": [
    "from fastapi import FastAPI\n",
    "\n",
    "app = FastAPI()"
   ]
  },
  {
   "cell_type": "markdown",
   "id": "34a9e9a1",
   "metadata": {},
   "source": [
    "### path + body + query\n",
    "- Если параметр также указан в пути, то он будет использоваться как параметр пути.\n",
    "- Если аннотация типа параметра содержит примитивный тип (`int`, `float`, `str`, `bool` и т.п.), он будет интерпретирован как параметр запроса.\n",
    "- Если аннотация типа параметра представляет собой модель Pydantic, он будет интерпретирован как параметр тела запроса."
   ]
  },
  {
   "cell_type": "markdown",
   "id": "1d8fca41",
   "metadata": {},
   "source": [
    "- [Path()](#path-params)\n",
    "- [Query()](#query-params)\n",
    "- [Header()]()\n",
    "- [Cookie()]()\n",
    "- [Body()](#body-params)\n",
    "- [Form()]()\n",
    "- [File()]()"
   ]
  },
  {
   "cell_type": "markdown",
   "id": "1cf60b4b",
   "metadata": {},
   "source": [
    "### Path params\n",
    "- Можно использовать [enum](https://fastapi.tiangolo.com/ru/tutorial/path-params/#predefined-values)\n",
    "- При указании типа производится:\n",
    "  1. [парсинг](https://fastapi.tiangolo.com/ru/tutorial/path-params/#_1)\n",
    "  2. [проверка типа](https://fastapi.tiangolo.com/ru/tutorial/path-params/#_3)\n",
    "  3. [auto-doc](https://fastapi.tiangolo.com/tutorial/metadata/)\n"
   ]
  },
  {
   "cell_type": "code",
   "execution_count": null,
   "id": "11c74150",
   "metadata": {},
   "outputs": [],
   "source": [
    "# http://127.0.0.1:8000/my-param\n",
    "@app.get('/items/{item_id}')     # 1. {}\n",
    "def read_item(item_id: int):     # 2. pass into function\n",
    "    return {'item_id': item_id}  # 3. get in page"
   ]
  },
  {
   "cell_type": "markdown",
   "id": "e12a517d",
   "metadata": {},
   "source": [
    "### Query params\n",
    "- Смешивать `Query` и `Path`-параметры можно в любом порядке\n",
    "- Можно использовать [enum](https://fastapi.tiangolo.com/ru/tutorial/path-params/#predefined-values)"
   ]
  },
  {
   "cell_type": "code",
   "execution_count": null,
   "id": "4de2b881",
   "metadata": {},
   "outputs": [],
   "source": [
    "from typing import Annotated\n",
    "from fastapi import Query"
   ]
  },
  {
   "cell_type": "code",
   "execution_count": null,
   "id": "d9a0c6d4",
   "metadata": {},
   "outputs": [],
   "source": [
    "@app.get('/')\n",
    "\n",
    "# query-параметры по умолчанию\n",
    "def get_home(sort: str = 'asc', limit: int = 10):\n",
    "    return {'Hello': 'World', 'sort': sort, 'limit': limit}\n",
    "\n",
    "\n",
    "# http://127.0.0.1:8000/ == http://127.0.0.1:8000/?sort=asc&limit=10\n",
    "\n",
    "\n",
    "# Обязательные параметры\n",
    "def get_home(reqParam: bool):\n",
    "    pass\n",
    "def get_home(reqParam: bool = ...):\n",
    "    pass\n",
    "\n",
    "\n",
    "# Обязательные, но со значением по умолчанию\n",
    "def get_home(someParam: bool = False):\n",
    "    pass\n",
    "\n",
    "\n",
    "# Необязательные параметры (None по умолчанию)\n",
    "def get_home(showTables: str | None = None):\n",
    "    pass\n",
    "\n",
    "\n",
    "# List of query params\n",
    "def get_home(q: Annotated[list[str], Query()]):\n",
    "    pass  # ?q=1&q=2 -> {\"q\": [\"1\", \"2\"]}\n",
    "\n",
    "\n",
    "# Default list of query params\n",
    "def get_home(q: Annotated[list[str], Query()] = ['1', '2']):\n",
    "    pass\n",
    "\n",
    "\n",
    "# Default with None\n",
    "def get_home(q: Annotated[str | None, Query()] = ...):\n",
    "    pass"
   ]
  },
  {
   "cell_type": "markdown",
   "id": "87233b89",
   "metadata": {},
   "source": [
    "### Body params\n",
    "наследуются от [pandentic.BaseModel](https://docs.pydantic.dev/latest/concepts/models/)"
   ]
  },
  {
   "cell_type": "code",
   "execution_count": null,
   "id": "02d373b5",
   "metadata": {},
   "outputs": [],
   "source": [
    "from pydantic import BaseModel\n",
    "\n",
    "class Item(BaseModel):              # json, парсинг, валидация, генерация docs\n",
    "    name: str                       # Обязательное поле модели\n",
    "    description: str | None = None  # НЕобязательное поле\n",
    "    price: float\n",
    "    tax: float | None = None\n",
    "\n",
    "@app.post('/')\n",
    "def create_item(item: Item):\n",
    "    return item"
   ]
  },
  {
   "cell_type": "code",
   "execution_count": null,
   "id": "afffa29d",
   "metadata": {},
   "outputs": [],
   "source": [
    "from fastapi import Body\n",
    "\n",
    "@app.post('/body/')\n",
    "def do_something(param: str = Body()) -> str:\n",
    "    return f'Your param is: {param}'"
   ]
  },
  {
   "cell_type": "code",
   "execution_count": null,
   "id": "0c559dd3",
   "metadata": {},
   "outputs": [],
   "source": [
    "@app.post('/body/')  \n",
    "async def body_foo(body: str):  \n",
    "    return body"
   ]
  },
  {
   "cell_type": "markdown",
   "id": "6dc7e19c",
   "metadata": {},
   "source": [
    "### Bool params"
   ]
  },
  {
   "cell_type": "code",
   "execution_count": null,
   "id": "833beacc",
   "metadata": {},
   "outputs": [],
   "source": [
    "def get_home(showInfo: bool = False):\n",
    "    pass\n",
    "\n",
    "# В http: (True, true, 1, on, yes)\n",
    "# http://127.0.0.1:8000/?showInfo=yes"
   ]
  },
  {
   "cell_type": "markdown",
   "id": "ebb9a200",
   "metadata": {},
   "source": [
    "### Predefined params\n",
    "Используется библиотека [enum](../../04_builtin/enum.ipynb)"
   ]
  },
  {
   "cell_type": "code",
   "execution_count": null,
   "id": "b468e73f",
   "metadata": {},
   "outputs": [],
   "source": [
    "from enum import Enum\n",
    "\n",
    "class ParamType(str, Enum):\n",
    "    a = 'value1'\n",
    "    b = 'value2'\n",
    "    c = 'value3'\n",
    "\n",
    "app = FastAPI()\n",
    "\n",
    "@app.get('/{param}')\n",
    "def read_root(param: ParamType):\n",
    "    if param is ParamType.a:  # Можно сравнивать так\n",
    "        return {'param': ParamType.a}\n",
    "    if param.value == 'value2':  # Или так\n",
    "        return {'param': param.value}  # Получение значения из Enum\n",
    "    return {'param': param}"
   ]
  }
 ],
 "metadata": {
  "kernelspec": {
   "display_name": "py-experiments",
   "language": "python",
   "name": "python3"
  },
  "language_info": {
   "codemirror_mode": {
    "name": "ipython",
    "version": 3
   },
   "file_extension": ".py",
   "mimetype": "text/x-python",
   "name": "python",
   "nbconvert_exporter": "python",
   "pygments_lexer": "ipython3",
   "version": "3.12.10"
  }
 },
 "nbformat": 4,
 "nbformat_minor": 5
}
