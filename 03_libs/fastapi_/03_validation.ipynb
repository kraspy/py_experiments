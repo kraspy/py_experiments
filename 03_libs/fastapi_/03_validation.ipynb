{
 "cells": [
  {
   "cell_type": "markdown",
   "id": "22506c52",
   "metadata": {},
   "source": [
    "[pydantic types](https://docs.pydantic.dev/latest/concepts/types/)"
   ]
  },
  {
   "cell_type": "code",
   "execution_count": null,
   "id": "e4d70026",
   "metadata": {},
   "outputs": [],
   "source": [
    "from fastapi import FastAPI\n",
    "\n",
    "app = FastAPI()"
   ]
  },
  {
   "cell_type": "markdown",
   "id": "c8ee39ba",
   "metadata": {},
   "source": [
    "## Параметры валидации\n",
    "- `min_length`\n",
    "- `max_length`\n",
    "- `regex`\n",
    "- `gt`: больше (`g`reater `t`han)\n",
    "- `ge`: больше или равно (`g`reater than or `e`qual)\n",
    "- `lt`: меньше (`l`ess `t`han)\n",
    "- `le`: меньше или равно (`l`ess than or `e`qual)\n",
    "- `alias`\n",
    "- `title`\n",
    "- `description`\n",
    "- `deprecated`\n",
    "- `include_in_schema`"
   ]
  },
  {
   "cell_type": "markdown",
   "id": "53ea0770",
   "metadata": {},
   "source": [
    "## Path()\n",
    "Используется для извлечения и валидации переменных из пути URL. Например, в `/items/{item_id}` \n",
    "\n",
    "`item_id` может быть объявлено и валидировано с использованием `Path()`."
   ]
  },
  {
   "cell_type": "code",
   "execution_count": null,
   "id": "50611ff1",
   "metadata": {},
   "outputs": [],
   "source": [
    "from fastapi import Path\n",
    "\n",
    "\n",
    "@app.get('/items/{item_id}')\n",
    "async def read_item(item_id: int = Path(..., title='The ID of the item to get')):\n",
    "    return {'item_id': item_id}"
   ]
  },
  {
   "cell_type": "markdown",
   "id": "1417badb",
   "metadata": {},
   "source": [
    "## Query()\n",
    "Используется для извлечения и валидации параметров строки запроса.\\\n",
    "Например, в `/items?page=2` параметр `page` может быть объявлен с использованием `Query()`."
   ]
  },
  {
   "cell_type": "code",
   "execution_count": null,
   "id": "195c6041",
   "metadata": {},
   "outputs": [],
   "source": [
    "from fastapi import Query\n",
    "\n",
    "\n",
    "@app.get('/items/')\n",
    "async def read_items(q: str = Query(None, title='Query string')):\n",
    "    return {'q': q}"
   ]
  },
  {
   "cell_type": "markdown",
   "id": "da625763",
   "metadata": {},
   "source": [
    "## Header()\n",
    "Используется для извлечения и валидации значений HTTP-заголовков."
   ]
  },
  {
   "cell_type": "code",
   "execution_count": null,
   "id": "e024acc4",
   "metadata": {},
   "outputs": [],
   "source": [
    "from fastapi import Header\n",
    "\n",
    "\n",
    "@app.get('/items/')\n",
    "async def read_items(user_agent: str = Header(None)):\n",
    "    return {'User-Agent': user_agent}"
   ]
  },
  {
   "cell_type": "markdown",
   "id": "69538bf7",
   "metadata": {},
   "source": [
    "## Cookie()\n",
    "Используется для извлечения и валидации значений куки из запроса"
   ]
  },
  {
   "cell_type": "code",
   "execution_count": null,
   "id": "1e583fde",
   "metadata": {},
   "outputs": [],
   "source": [
    "from fastapi import Cookie\n",
    "\n",
    "\n",
    "@app.get('/items/')\n",
    "async def read_items(ads_id: str = Cookie(None)):\n",
    "    return {'ads_id': ads_id}"
   ]
  },
  {
   "cell_type": "markdown",
   "id": "1f180e8f",
   "metadata": {},
   "source": [
    "## Body()\n",
    "Используется для извлечения и валидации данных, отправленных в теле запроса (например, в формате JSON)."
   ]
  },
  {
   "cell_type": "code",
   "execution_count": null,
   "id": "470c4b28",
   "metadata": {},
   "outputs": [],
   "source": [
    "from fastapi import Body\n",
    "\n",
    "from pydantic import BaseModel\n",
    "\n",
    "\n",
    "class Item(BaseModel):\n",
    "    name: str\n",
    "    description: str = None\n",
    "\n",
    "\n",
    "@app.post('/items/')\n",
    "async def create_item(item: Item = Body(...)):\n",
    "    return {'name': item.name, 'description': item.description}"
   ]
  },
  {
   "cell_type": "markdown",
   "id": "7a7b899d",
   "metadata": {},
   "source": [
    "## Form()\n",
    "Используется для извлечения и валидации данных из HTML-форм, отправленных через запросы `application/x-www-form-urlencoded`."
   ]
  },
  {
   "cell_type": "code",
   "execution_count": null,
   "id": "07a63e56",
   "metadata": {},
   "outputs": [],
   "source": [
    "from fastapi import Form\n",
    "\n",
    "\n",
    "@app.post('/login/')\n",
    "async def login(username: str = Form(...), password: str = Form(...)):\n",
    "    return {'username': username}"
   ]
  },
  {
   "cell_type": "markdown",
   "id": "76dbe6c9",
   "metadata": {},
   "source": [
    "## File()\n",
    "Используется для извлечения и валидации файлов, отправленных через многокомпонентные формы (`multipart/form-data`)."
   ]
  },
  {
   "cell_type": "code",
   "execution_count": null,
   "id": "5f109220",
   "metadata": {},
   "outputs": [],
   "source": [
    "from fastapi import File, UploadFile\n",
    "\n",
    "\n",
    "@app.post('/uploadfile/')\n",
    "async def upload_file(file: UploadFile = File(...)):\n",
    "    return {'filename': file.filename}"
   ]
  },
  {
   "cell_type": "markdown",
   "id": "dbf68091",
   "metadata": {},
   "source": [
    "## Field\n",
    "Используется для детальной валидации отдельных полей модели Pydantic.\\\n",
    "Позволяет задать дополнительные параметры валидации для каждого поля."
   ]
  },
  {
   "cell_type": "code",
   "execution_count": null,
   "id": "e4003c4a",
   "metadata": {},
   "outputs": [],
   "source": [
    "from pydantic import BaseModel, Field\n",
    "\n",
    "\n",
    "class Item(BaseModel):\n",
    "    name: str = Field(..., min_length=1, max_length=300)\n",
    "    description: str = Field(None, title='The description of the item', max_length=500)\n",
    "    price: float = Field(..., gt=0, description='The price must be greater than zero')\n",
    "    tax: float = None\n",
    "\n",
    "\n",
    "@app.post('/items/')\n",
    "async def create_item(item: Item):\n",
    "    return item"
   ]
  },
  {
   "cell_type": "markdown",
   "id": "8dabb5e2",
   "metadata": {},
   "source": [
    "## Depends()\n",
    "Используется для объявления зависимостей.\\\n",
    "Может использоваться для создания сложных зависимостей и повторного использования логики в разных частях приложения."
   ]
  },
  {
   "cell_type": "code",
   "execution_count": null,
   "id": "ebdaf973",
   "metadata": {},
   "outputs": [],
   "source": [
    "from fastapi import Depends\n",
    "\n",
    "\n",
    "def common_parameters(q: str = None, skip: int = 0, limit: int = 100):\n",
    "    return {'q': q, 'skip': skip, 'limit': limit}\n",
    "\n",
    "\n",
    "@app.get('/items/')\n",
    "async def read_items(commons: dict = Depends(common_parameters)):\n",
    "    return commons"
   ]
  },
  {
   "cell_type": "markdown",
   "id": "a26f5430",
   "metadata": {},
   "source": [
    "## WebSocket\n",
    "Используется для работы с WebSocket соединениями."
   ]
  },
  {
   "cell_type": "code",
   "execution_count": null,
   "id": "e48335e6",
   "metadata": {},
   "outputs": [],
   "source": [
    "from fastapi import WebSocket\n",
    "\n",
    "\n",
    "@app.websocket('/ws')\n",
    "async def websocket_endpoint(websocket: WebSocket):\n",
    "    await websocket.accept()\n",
    "    while True:\n",
    "        data = await websocket.receive_text()\n",
    "        await websocket.send_text(f'Message text was: {data}')"
   ]
  },
  {
   "cell_type": "markdown",
   "id": "7de4af02",
   "metadata": {},
   "source": [
    "## Security()\n",
    "Используется для добавления безопасности к API, часто в сочетании с системами аутентификации и авторизации."
   ]
  },
  {
   "cell_type": "code",
   "execution_count": null,
   "id": "6ce38c04",
   "metadata": {},
   "outputs": [],
   "source": [
    "from fastapi import Depends, FastAPI, Security\n",
    "from fastapi.security.api_key import APIKeyHeader\n",
    "from fastapi.exceptions import HTTPException\n",
    "\n",
    "api_key_header = APIKeyHeader(name='X-API-Key')\n",
    "\n",
    "\n",
    "async def get_api_key(api_key_header: str = Security(api_key_header)):\n",
    "    if api_key_header != 'secret_key':\n",
    "        raise HTTPException(status_code=403, detail='Could not validate credentials')\n",
    "    return api_key_header\n",
    "\n",
    "\n",
    "@app.get('/secure-data/')\n",
    "async def secure_data(api_key: str = Depends(get_api_key)):\n",
    "    return {'message': 'Secure data accessed'}"
   ]
  },
  {
   "cell_type": "markdown",
   "id": "eafe154d",
   "metadata": {},
   "source": [
    "### Annotated\n",
    "Позволяет комбинировать типы данных с дополнительной информацией для параметров функций"
   ]
  },
  {
   "cell_type": "code",
   "execution_count": null,
   "id": "efebdc3e",
   "metadata": {},
   "outputs": [],
   "source": [
    "from typing import Annotated"
   ]
  },
  {
   "cell_type": "code",
   "execution_count": null,
   "id": "5d14dad9",
   "metadata": {},
   "outputs": [],
   "source": [
    "username: Annotated[str, Field(min_length=3, max_length=50)]"
   ]
  },
  {
   "cell_type": "code",
   "execution_count": null,
   "id": "8549e623",
   "metadata": {},
   "outputs": [],
   "source": [
    "email: Annotated[\n",
    "    str,\n",
    "    Query(\n",
    "        default=None,\n",
    "        example='user@example.com',\n",
    "        description=\"The user's email address\"\n",
    "    ),\n",
    "]"
   ]
  },
  {
   "cell_type": "code",
   "execution_count": null,
   "id": "4ec1679d",
   "metadata": {},
   "outputs": [],
   "source": [
    "user_id: Annotated[int, Path(description='The ID of the user you want to retrieve')]"
   ]
  },
  {
   "cell_type": "code",
   "execution_count": null,
   "id": "92763791",
   "metadata": {},
   "outputs": [],
   "source": [
    "@app.get('/')\n",
    "def get_home(q: Annotated[str | None, Query(max_length=50)] = None):\n",
    "    return True"
   ]
  }
 ],
 "metadata": {
  "kernelspec": {
   "display_name": "py-experiments",
   "language": "python",
   "name": "python3"
  },
  "language_info": {
   "name": "python",
   "version": "3.12.10"
  }
 },
 "nbformat": 4,
 "nbformat_minor": 5
}
