{
 "cells": [
  {
   "cell_type": "markdown",
   "id": "b4831d46",
   "metadata": {},
   "source": [
    "[Документация](https://fastapi.tiangolo.com)"
   ]
  },
  {
   "cell_type": "markdown",
   "id": "2d0cfd5d",
   "metadata": {},
   "source": [
    "## Установка\n",
    "```bash\n",
    "pip install fastapi               # FastAPI sync\n",
    "pip install \"uvicorn [standard]\"  # Веб-сервер\n",
    "```"
   ]
  },
  {
   "cell_type": "code",
   "execution_count": 2,
   "id": "213d33c7",
   "metadata": {},
   "outputs": [],
   "source": [
    "from fastapi import FastAPI"
   ]
  },
  {
   "cell_type": "markdown",
   "id": "fc597e00",
   "metadata": {},
   "source": [
    "## Запуск"
   ]
  },
  {
   "cell_type": "code",
   "execution_count": null,
   "id": "690fbc0c",
   "metadata": {},
   "outputs": [],
   "source": [
    "import uvicorn  # <- Import uvicorn\n",
    "app = FastAPI()  \n",
    "  \n",
    "@app.get('/')  \n",
    "async def root() -> dict[str, str]:  \n",
    "    return {\"message\": \"Hello World\"}  \n",
    "  \n",
    "  \n",
    "if __name__ == \"__main__\":  \n",
    "    uvicorn.run(\n",
    "      'main:app',      # String if reload==True\n",
    "      reload=True,     # Hot reload\n",
    "      host=\"0.0.0.0\",  # ip\n",
    "      port=8000        # port\n",
    "    )"
   ]
  },
  {
   "cell_type": "markdown",
   "id": "02f66613",
   "metadata": {},
   "source": [
    "## Entry Point"
   ]
  },
  {
   "cell_type": "code",
   "execution_count": null,
   "id": "5a28e717",
   "metadata": {},
   "outputs": [],
   "source": [
    "app = FastAPI()\n",
    "\n",
    "\n",
    "@app.get('/')\n",
    "def get_root():\n",
    "  # Можно вернуть некоторые сериализируемые типы python\n",
    "  return {'message': 'Hello, World!'}  "
   ]
  },
  {
   "cell_type": "markdown",
   "id": "ef34d3d8",
   "metadata": {},
   "source": [
    "## Декораторы запросов\n",
    "```python\n",
    "@app.post(path: str)\n",
    "@app.put(path: str)\n",
    "@app.delete(path: str)\n",
    "@app.options(path: str)\n",
    "@app.head(path: str)\n",
    "@app.patch(path: str)\n",
    "@app.trace(path: str)\n",
    "```"
   ]
  },
  {
   "cell_type": "markdown",
   "id": "a95342ab",
   "metadata": {},
   "source": [
    "## Порядок разрешения эндпоинтов\n",
    "```python\n",
    "@app.get(\"/users/{user_id}\")\n",
    "@app.get(\"/users/me\")  # этот путь не будет обработан\n",
    "```"
   ]
  }
 ],
 "metadata": {
  "kernelspec": {
   "display_name": "py-experiments",
   "language": "python",
   "name": "python3"
  },
  "language_info": {
   "codemirror_mode": {
    "name": "ipython",
    "version": 3
   },
   "file_extension": ".py",
   "mimetype": "text/x-python",
   "name": "python",
   "nbconvert_exporter": "python",
   "pygments_lexer": "ipython3",
   "version": "3.12.10"
  }
 },
 "nbformat": 4,
 "nbformat_minor": 5
}
