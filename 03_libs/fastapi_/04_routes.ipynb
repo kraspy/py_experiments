{
 "cells": [
  {
   "cell_type": "code",
   "execution_count": null,
   "id": "d4a833dd",
   "metadata": {},
   "outputs": [],
   "source": [
    "from fastapi import APIRouter, FastAPI"
   ]
  },
  {
   "cell_type": "code",
   "execution_count": null,
   "id": "83f15bd2",
   "metadata": {},
   "outputs": [],
   "source": [
    "router = APIRouter(prefix='/items', tags=['items'])\n",
    "\n",
    "@router.get('/')\n",
    "def some_foo(): ..."
   ]
  },
  {
   "cell_type": "code",
   "execution_count": null,
   "id": "74c92ace",
   "metadata": {},
   "outputs": [],
   "source": [
    "app = FastAPI()\n",
    "app.include_router(router, prefix='/items')"
   ]
  }
 ],
 "metadata": {
  "kernelspec": {
   "display_name": "py-experiments",
   "language": "python",
   "name": "python3"
  },
  "language_info": {
   "name": "python",
   "version": "3.12.10"
  }
 },
 "nbformat": 4,
 "nbformat_minor": 5
}
