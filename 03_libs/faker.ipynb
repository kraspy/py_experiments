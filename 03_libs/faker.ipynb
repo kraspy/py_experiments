{
 "cells": [
  {
   "cell_type": "markdown",
   "id": "c84ea91d",
   "metadata": {},
   "source": [
    "[Документация](https://faker.readthedocs.io/en/stable/)\n",
    "\n",
    "[Провайдеры](https://faker.readthedocs.io/en/stable/providers.html)"
   ]
  },
  {
   "cell_type": "code",
   "execution_count": null,
   "id": "265767c3",
   "metadata": {},
   "outputs": [],
   "source": [
    "import faker\n",
    "\n",
    "# Создаем генератор фейковых данных\n",
    "fk = faker.Faker(locale='ru_RU')\n",
    "\n",
    "faker.Faker.seed(0)  # Можно установить состояние генератора"
   ]
  },
  {
   "cell_type": "code",
   "execution_count": 5,
   "id": "1c63f60c",
   "metadata": {},
   "outputs": [
    {
     "name": "stdout",
     "output_type": "stream",
     "text": [
      "fk.user_name()='tverdislav92'\n",
      "fk.name()='Афанасий Игнатович Воронов'\n",
      "fk.email()='varlaam_1989@example.com'\n"
     ]
    }
   ],
   "source": [
    "print(\n",
    "    f'{fk.user_name()=}',\n",
    "    f'{fk.name()=}',\n",
    "    f'{fk.email()=}',\n",
    "    sep='\\n',\n",
    ")"
   ]
  }
 ],
 "metadata": {
  "kernelspec": {
   "display_name": "py-experiments",
   "language": "python",
   "name": "python3"
  },
  "language_info": {
   "codemirror_mode": {
    "name": "ipython",
    "version": 3
   },
   "file_extension": ".py",
   "mimetype": "text/x-python",
   "name": "python",
   "nbconvert_exporter": "python",
   "pygments_lexer": "ipython3",
   "version": "3.12.10"
  }
 },
 "nbformat": 4,
 "nbformat_minor": 5
}
