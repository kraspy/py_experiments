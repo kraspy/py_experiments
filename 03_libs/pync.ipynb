{
 "cells": [
  {
   "cell_type": "markdown",
   "id": "e9a9c98b",
   "metadata": {},
   "source": [
    "Уведомления в MacOS\n",
    "\n",
    "[Документация](https://github.com/syabruk/pync)"
   ]
  },
  {
   "cell_type": "code",
   "execution_count": null,
   "id": "d1850f03",
   "metadata": {},
   "outputs": [],
   "source": [
    "from pync import Notifier\n",
    "Notifier.notify('Hello, World!', title='My application')"
   ]
  }
 ],
 "metadata": {
  "kernelspec": {
   "display_name": "py-experiments",
   "language": "python",
   "name": "python3"
  },
  "language_info": {
   "codemirror_mode": {
    "name": "ipython",
    "version": 3
   },
   "file_extension": ".py",
   "mimetype": "text/x-python",
   "name": "python",
   "nbconvert_exporter": "python",
   "pygments_lexer": "ipython3",
   "version": "3.12.10"
  }
 },
 "nbformat": 4,
 "nbformat_minor": 5
}
