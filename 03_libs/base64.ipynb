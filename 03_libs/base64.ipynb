{
 "cells": [
  {
   "metadata": {
    "ExecuteTime": {
     "end_time": "2025-09-22T13:11:30.628223Z",
     "start_time": "2025-09-22T13:11:30.617244Z"
    }
   },
   "cell_type": "code",
   "source": [
    "import base64\n",
    "\n",
    "original_string = \"Hello, World!\"\n",
    "\n",
    "## Кодирование\n",
    "encoded_bytes = base64.b64encode(original_string.encode('utf-8'))\n",
    "encoded_string = encoded_bytes.decode('utf-8')\n",
    "print(\"Закодированная строка:\", encoded_string)\n",
    "\n",
    "### Декодирование\n",
    "decoded_bytes = base64.b64decode(encoded_bytes)\n",
    "decoded_string = decoded_bytes.decode('utf-8')\n",
    "print(\"Декодированная строка:\", decoded_string)"
   ],
   "id": "5614f094253b8270",
   "outputs": [
    {
     "name": "stdout",
     "output_type": "stream",
     "text": [
      "Закодированная строка: SGVsbG8sIFdvcmxkIQ==\n",
      "Декодированная строка: Hello, World!\n"
     ]
    }
   ],
   "execution_count": 1
  }
 ],
 "metadata": {
  "kernelspec": {
   "display_name": "Python 3",
   "language": "python",
   "name": "python3"
  },
  "language_info": {
   "codemirror_mode": {
    "name": "ipython",
    "version": 2
   },
   "file_extension": ".py",
   "mimetype": "text/x-python",
   "name": "python",
   "nbconvert_exporter": "python",
   "pygments_lexer": "ipython2",
   "version": "2.7.6"
  }
 },
 "nbformat": 4,
 "nbformat_minor": 5
}
