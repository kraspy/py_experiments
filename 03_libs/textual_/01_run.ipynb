{
 "cells": [
  {
   "cell_type": "markdown",
   "id": "6fa0f365",
   "metadata": {},
   "source": [
    "```shell\n",
    "textual --help\n",
    "```"
   ]
  },
  {
   "cell_type": "markdown",
   "id": "11f96fcd",
   "metadata": {},
   "source": [
    "## run, console, serve\n",
    "```shell\n",
    "textual run my_app.py\n",
    "\n",
    "# + debug, console, live reloading\n",
    "textual console -v        # Выводить логи\n",
    "textual console -x DEBUG  # Исключить: DEBUG, EVENT, INFO ...\n",
    "textual run --dev my_app.py\n",
    "\n",
    "# Из модуля\n",
    "textual run module_name\n",
    "textual run module_name:AppClassName\n",
    "\n",
    "# Запуск в браузере\n",
    "textual serve my_app.py # Live reloading, Несколько экземпляров\n",
    "```"
   ]
  },
  {
   "cell_type": "markdown",
   "id": "31af510b",
   "metadata": {},
   "source": [
    "## Логирование\n",
    "```python\n",
    "from textual import log\n",
    "\n",
    "def on_mount(self):\n",
    "    log('Hello, World')\n",
    "    log(locals())  # локальные переменные\n",
    "    log(children=self.children, pi=3.14)  # ключ/значения\n",
    "\n",
    "# У виджета есть свой log\n",
    "class MyApp(App):\n",
    "    def on_mount(self):\n",
    "        self.log('This is a log message!')\n",
    "```\n",
    "```python\n",
    "# Интеграция с logging\n",
    "import logging\n",
    "\n",
    "from textual.logging import TextualHandler\n",
    "\n",
    "logging.basicConfig(\n",
    "    level=\"NOTSET\",\n",
    "    handlers=[TextualHandler()],\n",
    ")\n",
    "\n",
    "logging.debug(\"This is a debug message\")\n",
    "```"
   ]
  }
 ],
 "metadata": {
  "language_info": {
   "name": "python"
  }
 },
 "nbformat": 4,
 "nbformat_minor": 5
}
