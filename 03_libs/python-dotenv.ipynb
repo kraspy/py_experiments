{
 "cells": [
  {
   "cell_type": "markdown",
   "id": "0f771be9",
   "metadata": {},
   "source": [
    "[Документация](https://github.com/theskumar/python-dotenv)"
   ]
  },
  {
   "cell_type": "code",
   "execution_count": null,
   "id": "7dbe096a",
   "metadata": {
    "vscode": {
     "languageId": "shellscript"
    }
   },
   "outputs": [],
   "source": [
    "pip install python-dotenv"
   ]
  },
  {
   "cell_type": "code",
   "execution_count": null,
   "id": "1c110ef2",
   "metadata": {
    "vscode": {
     "languageId": "shellscript"
    }
   },
   "outputs": [],
   "source": [
    "import os\n",
    "from dotenv import load_dotenv\n",
    "\n",
    "load_dotenv()  # Теперь переменные из .env доступны в os.environ\n",
    "# load_dotenv('/path/to/your/.env')\n",
    "\n",
    "db_user = os.getenv('DB_USER')\n",
    "db_pass = os.getenv('DB_PASS')"
   ]
  }
 ],
 "metadata": {
  "kernelspec": {
   "display_name": "py-experiments",
   "language": "python",
   "name": "python3"
  },
  "language_info": {
   "name": "python",
   "version": "3.12.10"
  }
 },
 "nbformat": 4,
 "nbformat_minor": 5
}
