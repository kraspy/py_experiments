{
 "cells": [
  {
   "cell_type": "markdown",
   "id": "b96b72a2",
   "metadata": {},
   "source": [
    "[Документация](https://coverage.readthedocs.io/en/latest/)\n",
    "\n",
    "Позволяет определить степень покрытия кода тестами.\n",
    "> ❗️ Необходимо добавить все данные в .gitignore\n",
    "\n",
    "```text\n",
    "htmlcov/\n",
    ".coverage\n",
    ".coverage.*\n",
    "coverage.xml\n",
    "*.cover\n",
    "```"
   ]
  },
  {
   "cell_type": "markdown",
   "id": "8404192f",
   "metadata": {},
   "source": [
    "## Запуск\n",
    "- `-source='posts,users'` (без пробела после запятой) `posts` и `users`\n",
    "- `--source='.'` все модули в текущей директориии/поддиректориях.\n",
    "- Без `--source` все модули проекта (❗️ +venv)\n",
    "- Детальный отчет: `--verbosity 2`\n"
   ]
  },
  {
   "cell_type": "code",
   "execution_count": null,
   "id": "758e57d9",
   "metadata": {
    "vscode": {
     "languageId": "shellscript"
    }
   },
   "outputs": [],
   "source": [
    "coverage run --source='posts,users' manage.py test -v 2"
   ]
  },
  {
   "cell_type": "markdown",
   "id": "7f7bca5b",
   "metadata": {},
   "source": [
    "## Просмотр отчета"
   ]
  },
  {
   "cell_type": "code",
   "execution_count": null,
   "id": "169abec4",
   "metadata": {
    "vscode": {
     "languageId": "shellscript"
    }
   },
   "outputs": [],
   "source": [
    "coverage report  # Вывод в консоль\n",
    "coverage html    # Генерация HTML"
   ]
  }
 ],
 "metadata": {
  "language_info": {
   "name": "python"
  }
 },
 "nbformat": 4,
 "nbformat_minor": 5
}
