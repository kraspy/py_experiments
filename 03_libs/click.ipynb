{
 "cells": [
  {
   "cell_type": "markdown",
   "id": "5f3ed9a5",
   "metadata": {},
   "source": [
    "Библиотека для создания CLI в Python\n",
    "\n",
    "[Документация](https://click.palletsprojects.com/en/stable/)"
   ]
  },
  {
   "cell_type": "markdown",
   "id": "3479cc8d",
   "metadata": {},
   "source": [
    "## Основные Декораторы\n",
    "- `@click.command` – определяет команду.\n",
    "- `@click.option` – добавляет опции.\n",
    "- `@click.argument` – добавляет позиционные аргументы.\n",
    "- `@click.group` – позволяет создавать группы команд.\n",
    "- `@click.pass_context` – передает контекст."
   ]
  },
  {
   "cell_type": "code",
   "execution_count": 1,
   "id": "33f5f248",
   "metadata": {},
   "outputs": [],
   "source": [
    "import click"
   ]
  },
  {
   "cell_type": "markdown",
   "id": "fb7dd8e2",
   "metadata": {},
   "source": [
    "## Простая команда"
   ]
  },
  {
   "cell_type": "code",
   "execution_count": null,
   "id": "59cd3181",
   "metadata": {},
   "outputs": [],
   "source": [
    "@click.command()\n",
    "@click.argument('name')\n",
    "def greet(name):\n",
    "    \"\"\"Пример позиционного аргумента.\"\"\"\n",
    "    click.echo(f'Привет, {name}!')\n",
    "\n",
    "\n",
    "if __name__ == '__main__':\n",
    "    greet()"
   ]
  },
  {
   "cell_type": "code",
   "execution_count": null,
   "id": "f5f40044",
   "metadata": {
    "vscode": {
     "languageId": "shellscript"
    }
   },
   "outputs": [],
   "source": [
    "python script.py Иван"
   ]
  },
  {
   "cell_type": "markdown",
   "id": "8c61338e",
   "metadata": {
    "vscode": {
     "languageId": "shellscript"
    }
   },
   "source": [
    "## Опции"
   ]
  },
  {
   "cell_type": "code",
   "execution_count": null,
   "id": "8ee0ca68",
   "metadata": {},
   "outputs": [],
   "source": [
    "@click.command()\n",
    "@click.option('--count', default=1, help='Количество повторений.')\n",
    "@click.option('--name', prompt='Ваше имя', help='Имя пользователя.')\n",
    "def repeat(count, name):\n",
    "    \"\"\"Пример опций.\"\"\"\n",
    "    for _ in range(count):\n",
    "        click.echo(f'Привет, {name}!')\n",
    "\n",
    "\n",
    "if __name__ == '__main__':\n",
    "    repeat()"
   ]
  },
  {
   "cell_type": "code",
   "execution_count": null,
   "id": "871f1f6c",
   "metadata": {
    "vscode": {
     "languageId": "shellscript"
    }
   },
   "outputs": [],
   "source": [
    "python script.py --count 3 --name Иван"
   ]
  },
  {
   "cell_type": "markdown",
   "id": "db118825",
   "metadata": {},
   "source": [
    "## Группа команд"
   ]
  },
  {
   "cell_type": "code",
   "execution_count": null,
   "id": "7fb27718",
   "metadata": {},
   "outputs": [],
   "source": [
    "@click.group()\n",
    "def cli():\n",
    "    \"\"\"Группа команд.\"\"\"\n",
    "    pass\n",
    "\n",
    "\n",
    "@cli.command()\n",
    "def init():\n",
    "    \"\"\"Инициализация проекта.\"\"\"\n",
    "    click.echo('Проект инициализирован!')\n",
    "\n",
    "\n",
    "@cli.command()\n",
    "def build():\n",
    "    \"\"\"Сборка проекта.\"\"\"\n",
    "    click.echo('Проект собран!')\n",
    "\n",
    "\n",
    "if __name__ == '__main__':\n",
    "    cli()"
   ]
  },
  {
   "cell_type": "code",
   "execution_count": null,
   "id": "bdfd507e",
   "metadata": {
    "vscode": {
     "languageId": "shellscript"
    }
   },
   "outputs": [],
   "source": [
    "python script.py init\n",
    "python script.py build"
   ]
  },
  {
   "cell_type": "markdown",
   "id": "9aeb2cf5",
   "metadata": {},
   "source": [
    "## Обработка ошибок"
   ]
  },
  {
   "cell_type": "code",
   "execution_count": null,
   "id": "990f9ca4",
   "metadata": {},
   "outputs": [],
   "source": [
    "@click.command()\n",
    "@click.argument('value')\n",
    "def divide(value):\n",
    "    \"\"\"Пример обработки ошибок.\"\"\"\n",
    "    try:\n",
    "        result = 10 / int(value)\n",
    "        click.echo(f'10 / {value} = {result}')\n",
    "    except ZeroDivisionError:\n",
    "        click.echo('Ошибка: деление на ноль!', err=True)\n",
    "\n",
    "\n",
    "if __name__ == '__main__':\n",
    "    divide()"
   ]
  },
  {
   "cell_type": "markdown",
   "id": "2f605664",
   "metadata": {},
   "source": [
    "## Подтверждение (Confirm)"
   ]
  },
  {
   "cell_type": "code",
   "execution_count": null,
   "id": "fe5dd58f",
   "metadata": {},
   "outputs": [],
   "source": [
    "@click.command()\n",
    "@click.option('--delete', is_flag=True, help='Удалить файл.')\n",
    "def clean(delete):\n",
    "    \"\"\"Пример подтверждения.\"\"\"\n",
    "    if delete and click.confirm('Вы уверены, что хотите удалить файл?'):\n",
    "        click.echo('Файл удален.')\n",
    "    else:\n",
    "        click.echo('Отмена операции.')\n",
    "\n",
    "\n",
    "if __name__ == '__main__':\n",
    "    clean()"
   ]
  },
  {
   "cell_type": "markdown",
   "id": "f3944556",
   "metadata": {},
   "source": [
    "## Пароли (скрытый ввод)"
   ]
  },
  {
   "cell_type": "code",
   "execution_count": null,
   "id": "85edbc3e",
   "metadata": {},
   "outputs": [],
   "source": [
    "@click.command()\n",
    "@click.option('--password', prompt=True, hide_input=True, confirmation_prompt=True)\n",
    "def auth(password):\n",
    "    \"\"\"Пример скрытого ввода пароля.\"\"\"\n",
    "    click.echo(f'Пароль принят: {\"*\" * len(password)}')\n",
    "\n",
    "\n",
    "if __name__ == '__main__':\n",
    "    auth()"
   ]
  },
  {
   "cell_type": "markdown",
   "id": "57b85374",
   "metadata": {},
   "source": [
    "## Цветной вывод"
   ]
  },
  {
   "cell_type": "code",
   "execution_count": null,
   "id": "d69bbe46",
   "metadata": {},
   "outputs": [],
   "source": [
    "@click.command()\n",
    "def colored():\n",
    "    \"\"\"Цветной вывод.\"\"\"\n",
    "    click.secho('Это обычный текст.', fg='white')\n",
    "    click.secho('Это зеленый текст.', fg='green')\n",
    "    click.secho('Это желтый текст на красном фоне.', fg='yellow', bg='red')\n",
    "    click.secho('Это подчеркнутый текст.', underline=True)\n",
    "\n",
    "\n",
    "if __name__ == '__main__':\n",
    "    colored()"
   ]
  },
  {
   "cell_type": "markdown",
   "id": "e3fe772d",
   "metadata": {},
   "source": [
    "## Чтение файлов"
   ]
  },
  {
   "cell_type": "code",
   "execution_count": null,
   "id": "d2e0248c",
   "metadata": {},
   "outputs": [],
   "source": [
    "@click.command()\n",
    "@click.argument('file', type=click.File('r'))\n",
    "def read(file):\n",
    "    \"\"\"Чтение файла.\"\"\"\n",
    "    content = file.read()\n",
    "    click.echo(content)\n",
    "\n",
    "\n",
    "if __name__ == '__main__':\n",
    "    read()"
   ]
  },
  {
   "cell_type": "code",
   "execution_count": null,
   "id": "f3b972c9",
   "metadata": {
    "vscode": {
     "languageId": "shellscript"
    }
   },
   "outputs": [],
   "source": [
    "python script.py example.txt"
   ]
  },
  {
   "cell_type": "markdown",
   "id": "c2b79668",
   "metadata": {},
   "source": [
    "## Env Vars"
   ]
  },
  {
   "cell_type": "code",
   "execution_count": null,
   "id": "47e202c3",
   "metadata": {},
   "outputs": [],
   "source": [
    "import os\n",
    "\n",
    "\n",
    "@click.command()\n",
    "@click.option('--path', envvar='MY_PATH', help='Путь из переменной среды.')\n",
    "def show_path(path):\n",
    "    click.echo(f'Путь: {path}')\n",
    "\n",
    "\n",
    "if __name__ == '__main__':\n",
    "    os.environ['MY_PATH'] = '/home/user'\n",
    "    show_path()"
   ]
  },
  {
   "cell_type": "markdown",
   "id": "920802cd",
   "metadata": {},
   "source": [
    "## Progress Bar"
   ]
  },
  {
   "cell_type": "code",
   "execution_count": null,
   "id": "a0574909",
   "metadata": {},
   "outputs": [],
   "source": [
    "import time\n",
    "\n",
    "\n",
    "@click.command()\n",
    "@click.option('--count', default=5, help='Количество шагов.')\n",
    "def progress(count):\n",
    "    \"\"\"Пример прогресс-бара.\"\"\"\n",
    "    with click.progressbar(range(count), label='Выполнение') as bar:\n",
    "        for _ in bar:\n",
    "            time.sleep(0.5)\n",
    "    click.echo('Задача выполнена!')\n",
    "\n",
    "\n",
    "if __name__ == '__main__':\n",
    "    progress()"
   ]
  }
 ],
 "metadata": {
  "kernelspec": {
   "display_name": "py-experiments",
   "language": "python",
   "name": "python3"
  },
  "language_info": {
   "codemirror_mode": {
    "name": "ipython",
    "version": 3
   },
   "file_extension": ".py",
   "mimetype": "text/x-python",
   "name": "python",
   "nbconvert_exporter": "python",
   "pygments_lexer": "ipython3",
   "version": "3.12.10"
  }
 },
 "nbformat": 4,
 "nbformat_minor": 5
}
