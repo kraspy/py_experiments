{
 "cells": [
  {
   "cell_type": "code",
   "execution_count": 11,
   "id": "bd018382",
   "metadata": {},
   "outputs": [],
   "source": [
    "from pydantic_settings import BaseSettings, SettingsConfigDict"
   ]
  },
  {
   "cell_type": "markdown",
   "id": "9cf7b37f",
   "metadata": {},
   "source": [
    "**Приоритет источников:**\n",
    "→ Явные значения при инициализации \n",
    "→ переменные окружения \n",
    "→ значения из .env \n",
    "→ значения по умолчанию."
   ]
  },
  {
   "cell_type": "code",
   "execution_count": null,
   "id": "db4b7f5a",
   "metadata": {},
   "outputs": [],
   "source": [
    "class Settings(BaseSettings):\n",
    "    # model_config = SettingsConfigDict(env_file=\"../.env\")  # Load settings from .env\n",
    "    OPENAI_API_KEY: str  # Значения получаются из переменных окружения, если заданы\n",
    "    port: int = 8000     # Прочие настройки\n",
    "\n",
    "settings = Settings()\n",
    "\n",
    "print(settings)"
   ]
  },
  {
   "cell_type": "code",
   "execution_count": null,
   "id": "800a09df",
   "metadata": {},
   "outputs": [],
   "source": [
    "from pydantic import BaseModel\n",
    "\n",
    "# Вложенные модели\n",
    "class SubConfig(BaseModel):\n",
    "    foo: int = 1\n",
    "\n",
    "class Settings(BaseSettings):\n",
    "    model_config = SettingsConfigDict(env_nested_delimiter=\"__\")\n",
    "    sub: SubConfig"
   ]
  }
 ],
 "metadata": {
  "kernelspec": {
   "display_name": "py-experiments",
   "language": "python",
   "name": "python3"
  },
  "language_info": {
   "codemirror_mode": {
    "name": "ipython",
    "version": 3
   },
   "file_extension": ".py",
   "mimetype": "text/x-python",
   "name": "python",
   "nbconvert_exporter": "python",
   "pygments_lexer": "ipython3",
   "version": "3.12.10"
  }
 },
 "nbformat": 4,
 "nbformat_minor": 5
}
