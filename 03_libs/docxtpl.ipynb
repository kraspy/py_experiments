{
 "cells": [
  {
   "cell_type": "markdown",
   "id": "6b2d900f98fcc70b",
   "metadata": {},
   "source": [
    "Генерация документов Microsoft Word (.docx) с использованием шаблонов Jinja2.\n",
    "\n",
    "[Документация](https://docxtpl.readthedocs.io/en/stable/)"
   ]
  },
  {
   "cell_type": "code",
   "execution_count": 2,
   "id": "49b49544d00ed791",
   "metadata": {},
   "outputs": [],
   "source": [
    "from docxtpl import DocxTemplate\n",
    "\n",
    "doc = DocxTemplate('docxtpl_/template.docx')\n",
    "context = {'name': 'World', 'some_list': ['a', 'b', 'c']}\n",
    "\n",
    "doc.render(context)\n",
    "doc.save('docxtpl_/generated_doc.docx')"
   ]
  },
  {
   "cell_type": "markdown",
   "id": "f6e7a4da8296fead",
   "metadata": {},
   "source": [
    "## Условия и Циклы\n",
    "```python\n",
    "{% if условие %}\n",
    "    Текст, если условие истинно.\n",
    "{% endif %}\n",
    "{% for item in sequence %}\n",
    "    {{ item }}\n",
    "{% endfor %}\n",
    "```"
   ]
  },
  {
   "cell_type": "markdown",
   "id": "3c1e0d05",
   "metadata": {},
   "source": [
    "## Вставка Текста\n",
    "В шаблоне DOCX `{{ переменная }}` для динамической вставки текста."
   ]
  },
  {
   "cell_type": "markdown",
   "id": "3b2e199b",
   "metadata": {},
   "source": [
    "## Вставка Таблиц\n",
    "Для вставки строк в таблицу используйте циклы Jinja2 внутри вашего шаблона DOCX.\n",
    "```python\n",
    "{% for item in items %}\n",
    "    {{ item.name }} | {{ item.description }}\n",
    "{% endfor %}\n",
    "```\n"
   ]
  },
  {
   "cell_type": "markdown",
   "id": "d338d5cb",
   "metadata": {},
   "source": [
    "## Вставка Изображений\n",
    "Изображения могут быть добавлены через контекст, передав путь к изображению или объект `InlineImage`.\n",
    "```python\n",
    "from docxtpl import InlineImage\n",
    "\n",
    "doc = DocxTemplate('template.docx')\n",
    "context = {\n",
    "    'image': InlineImage(doc, 'image.png', width=Mm(20))\n",
    "}\n",
    "doc.render(context)\n",
    "```"
   ]
  },
  {
   "cell_type": "markdown",
   "id": "d84a5d85",
   "metadata": {},
   "source": [
    "## Вставка HTML\n",
    "`docxtpl` поддерживает вставку HTML-кода, который будет преобразован в форматирование DOCX.\n",
    "```python\n",
    "from docxtpl import RichText\n",
    "rt = RichText()\n",
    "rt.add('Это обычный текст, а это ', bold=True)\n",
    "rt.add('жирный', bold=True)\n",
    "rt.add(' и это ', bold=True)\n",
    "rt.add('курсив.', italic=True)\n",
    "context = {'rich_text': rt}\n",
    "doc.render(context)\n",
    "```\n"
   ]
  }
 ],
 "metadata": {
  "kernelspec": {
   "display_name": "py-experiments",
   "language": "python",
   "name": "python3"
  },
  "language_info": {
   "codemirror_mode": {
    "name": "ipython",
    "version": 3
   },
   "file_extension": ".py",
   "mimetype": "text/x-python",
   "name": "python",
   "nbconvert_exporter": "python",
   "pygments_lexer": "ipython3",
   "version": "3.12.10"
  }
 },
 "nbformat": 4,
 "nbformat_minor": 5
}
