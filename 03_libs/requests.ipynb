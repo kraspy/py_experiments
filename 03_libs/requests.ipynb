{
 "cells": [
  {
   "cell_type": "markdown",
   "id": "b82c9591",
   "metadata": {},
   "source": [
    "[Документация](https://requests.readthedocs.io/en/latest/)"
   ]
  },
  {
   "cell_type": "code",
   "execution_count": 1,
   "id": "09e0a2bb",
   "metadata": {},
   "outputs": [],
   "source": [
    "import requests as req"
   ]
  },
  {
   "cell_type": "code",
   "execution_count": null,
   "id": "765e9034",
   "metadata": {},
   "outputs": [],
   "source": [
    "res = req.get(\n",
    "    'https://ya.ru',\n",
    "    # параметры запроса\n",
    "    params={'q': 'test'},\n",
    "    # доп. заголовки\n",
    "    headers={'User-Agent': 'Chromium ...'},\n",
    ")\n",
    "\n",
    "# Получение содержимого ответа\n",
    "text = res.text\n",
    "\n",
    "# Получение кода статуса\n",
    "code = res.status_code\n",
    "\n",
    "  # Итоговый URL\n",
    "final_url = res.url\n",
    "\n",
    "# Заголовки ответа\n",
    "res_headers = res.headers\n",
    "\n",
    "print(text, code, final_url, res_headers, sep='\\n')\n"
   ]
  }
 ],
 "metadata": {
  "kernelspec": {
   "display_name": "py-experiments",
   "language": "python",
   "name": "python3"
  },
  "language_info": {
   "codemirror_mode": {
    "name": "ipython",
    "version": 3
   },
   "file_extension": ".py",
   "mimetype": "text/x-python",
   "name": "python",
   "nbconvert_exporter": "python",
   "pygments_lexer": "ipython3",
   "version": "3.12.10"
  }
 },
 "nbformat": 4,
 "nbformat_minor": 5
}
