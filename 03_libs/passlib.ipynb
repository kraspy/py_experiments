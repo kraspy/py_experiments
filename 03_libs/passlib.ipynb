{
 "cells": [
  {
   "cell_type": "markdown",
   "id": "60427c6d",
   "metadata": {},
   "source": [
    "Хэширование паролей\n",
    "\n",
    "[Документация](https://passlib.readthedocs.io/en/stable/)"
   ]
  },
  {
   "cell_type": "code",
   "execution_count": 2,
   "id": "a9791718",
   "metadata": {},
   "outputs": [],
   "source": [
    "from passlib.hash import bcrypt"
   ]
  },
  {
   "cell_type": "code",
   "execution_count": null,
   "id": "983155b7",
   "metadata": {},
   "outputs": [
    {
     "name": "stdout",
     "output_type": "stream",
     "text": [
      "$2b$12$dA2VOqtPqj6Gh7hBDXlPtO9O6Q4YyzGXN2O3x3OmqXRbebHfYGTiG\n"
     ]
    }
   ],
   "source": [
    "# Хэширование нового пароля\n",
    "hashed_password = bcrypt.hash('some_password')\n",
    "print(hashed_password)"
   ]
  },
  {
   "cell_type": "markdown",
   "id": "1feeaee6",
   "metadata": {},
   "source": [
    "### Проверка пароля"
   ]
  },
  {
   "cell_type": "code",
   "execution_count": null,
   "id": "9761c1b2",
   "metadata": {},
   "outputs": [
    {
     "name": "stdout",
     "output_type": "stream",
     "text": [
      "Пароль верный.\n"
     ]
    }
   ],
   "source": [
    "# Проверка пароля\n",
    "password = 'some_password'\n",
    "if bcrypt.verify(password, hashed_password):\n",
    "    print('Пароль верный.')\n",
    "else:\n",
    "    print('Пароль неверный.')"
   ]
  },
  {
   "cell_type": "markdown",
   "id": "721d9310",
   "metadata": {},
   "source": [
    "### Использование контекста\n",
    "Для более гибкой настройки можно использовать контексты хэширования."
   ]
  },
  {
   "cell_type": "markdown",
   "id": "feee803d",
   "metadata": {},
   "source": [
    "#### Создание контекста"
   ]
  },
  {
   "cell_type": "code",
   "execution_count": null,
   "id": "023064d2",
   "metadata": {},
   "outputs": [
    {
     "name": "stdout",
     "output_type": "stream",
     "text": [
      "$2b$12$9vlZ1BtlJ2bPewHy8yyNRew3HBOUlMFaJcA8dTl8pGFBNfPRHOIgK\n"
     ]
    }
   ],
   "source": [
    "from passlib.context import CryptContext\n",
    "\n",
    "# Создание контекста с настройками для bcrypt\n",
    "pwd_context = CryptContext(schemes=['bcrypt'], deprecated='auto')\n",
    "\n",
    "# Хэширование пароля\n",
    "hashed_password = pwd_context.hash('some_password')\n",
    "print(hashed_password)"
   ]
  },
  {
   "cell_type": "markdown",
   "id": "c8f27f94",
   "metadata": {},
   "source": [
    "#### Проверка пароля с использованием контекста"
   ]
  },
  {
   "cell_type": "code",
   "execution_count": null,
   "id": "30892e47",
   "metadata": {},
   "outputs": [
    {
     "name": "stdout",
     "output_type": "stream",
     "text": [
      "Пароль верный.\n"
     ]
    }
   ],
   "source": [
    "# Проверка пароля\n",
    "if pwd_context.verify('my_secret_password', hashed_password):\n",
    "    print('Пароль верный.')\n",
    "else:\n",
    "    print('Пароль неверный.')"
   ]
  },
  {
   "cell_type": "markdown",
   "id": "31848791",
   "metadata": {},
   "source": [
    "### Генерация хэша"
   ]
  },
  {
   "cell_type": "code",
   "execution_count": null,
   "id": "02ba0cf8",
   "metadata": {},
   "outputs": [
    {
     "name": "stdout",
     "output_type": "stream",
     "text": [
      "$pbkdf2-sha256$29000$OwdgDGHMuVcKgbB2DgEgBA$iMHHksxgNPmjZ/9a6Gri04sWyIm.V4ITrcWOg92WbBc\n"
     ]
    }
   ],
   "source": [
    "from passlib.hash import pbkdf2_sha256\n",
    "\n",
    "# Создание хэша\n",
    "hash = pbkdf2_sha256.hash('some_password')\n",
    "\n",
    "print(hash)"
   ]
  },
  {
   "cell_type": "markdown",
   "id": "193bb939",
   "metadata": {},
   "source": [
    "### Проверка пароля"
   ]
  },
  {
   "cell_type": "code",
   "execution_count": null,
   "id": "cb493f3e",
   "metadata": {},
   "outputs": [
    {
     "name": "stdout",
     "output_type": "stream",
     "text": [
      "True\n"
     ]
    }
   ],
   "source": [
    "# Вернет True, если пароль совпадает с хэшем\n",
    "is_correct = pbkdf2_sha256.verify('some_password', hash)\n",
    "\n",
    "print(is_correct)"
   ]
  },
  {
   "cell_type": "markdown",
   "id": "656f03c6",
   "metadata": {},
   "source": [
    "### Использование разных алгоритмов"
   ]
  },
  {
   "cell_type": "markdown",
   "id": "84ef32cc",
   "metadata": {},
   "source": [
    "#### bcrypt"
   ]
  },
  {
   "cell_type": "code",
   "execution_count": null,
   "id": "7afa3c64",
   "metadata": {},
   "outputs": [
    {
     "name": "stdout",
     "output_type": "stream",
     "text": [
      "True\n"
     ]
    }
   ],
   "source": [
    "from passlib.hash import bcrypt\n",
    "\n",
    "# Генерация хэша\n",
    "hash = bcrypt.hash('some_password')\n",
    "\n",
    "# Проверка пароля\n",
    "is_correct = bcrypt.verify('some_password', hash)\n",
    "\n",
    "print(is_correct)"
   ]
  },
  {
   "cell_type": "markdown",
   "id": "06ede992",
   "metadata": {},
   "source": [
    "#### argon2"
   ]
  },
  {
   "cell_type": "code",
   "execution_count": null,
   "id": "2ebcbfd4",
   "metadata": {},
   "outputs": [],
   "source": [
    "from passlib.hash import argon2\n",
    "\n",
    "# Генерация хэша\n",
    "hash = argon2.hash('some_password')\n",
    "\n",
    "# Проверка пароля\n",
    "is_correct = argon2.verify('some_password', hash)\n",
    "\n",
    "print(is_correct)"
   ]
  },
  {
   "cell_type": "markdown",
   "id": "79dfadd5",
   "metadata": {},
   "source": [
    "### Настройка алгоритмов"
   ]
  },
  {
   "cell_type": "markdown",
   "id": "9649dff9",
   "metadata": {},
   "source": [
    "#### PBKDF2"
   ]
  },
  {
   "cell_type": "code",
   "execution_count": null,
   "id": "7bdaf248",
   "metadata": {},
   "outputs": [
    {
     "name": "stdout",
     "output_type": "stream",
     "text": [
      "$pbkdf2-sha256$29000$LUUoRah17l1LqRUC4JzTWg$pEhWMMvPxL4FWFtRPD3z6OWvG4elU21x5LCtup.ohEg\n"
     ]
    }
   ],
   "source": [
    "from passlib.hash import pbkdf2_sha256\n",
    "\n",
    "# Генерация хэша с настройками\n",
    "hash = pbkdf2_sha256.using(rounds=29000).hash('some_password')\n",
    "\n",
    "print(hash)"
   ]
  },
  {
   "cell_type": "markdown",
   "id": "1245918c",
   "metadata": {},
   "source": [
    "#### Argon2"
   ]
  },
  {
   "cell_type": "code",
   "execution_count": null,
   "id": "e86f2b38",
   "metadata": {},
   "outputs": [],
   "source": [
    "from passlib.hash import argon2\n",
    "\n",
    "# Генерация хэша с настройками\n",
    "hash = argon2.using(time_cost=2, memory_cost=102400, parallelism=2).hash(\n",
    "    'some_password'\n",
    ")\n",
    "\n",
    "print(hash)"
   ]
  }
 ],
 "metadata": {
  "kernelspec": {
   "display_name": "py-experiments",
   "language": "python",
   "name": "python3"
  },
  "language_info": {
   "codemirror_mode": {
    "name": "ipython",
    "version": 3
   },
   "file_extension": ".py",
   "mimetype": "text/x-python",
   "name": "python",
   "nbconvert_exporter": "python",
   "pygments_lexer": "ipython3",
   "version": "3.12.10"
  }
 },
 "nbformat": 4,
 "nbformat_minor": 5
}
