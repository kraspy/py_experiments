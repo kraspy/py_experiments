{
 "cells": [
  {
   "cell_type": "markdown",
   "id": "37d93f88",
   "metadata": {},
   "source": [
    "Модуль Python для написания автоматических тестов.\n",
    "\n",
    "[Документация](https://docs.python.org/3/library/unittest.html)\n",
    "\n",
    "- Наследование от `unittest.TestCase`  \n",
    "- Методы тестов должны начинаться с `test_`  \n",
    "- Использует `assert`-методы (`assertEqual`, `assertRaises` и др.)  \n",
    "- Запуск тестов через `unittest.main()` или `python -m unittest`"
   ]
  },
  {
   "cell_type": "markdown",
   "id": "257c0d3d",
   "metadata": {},
   "source": [
    "## Установка и Запуск тестов\n",
    "\n",
    "```powershell\n",
    "# Запуск всех тестов в файле\n",
    "python -m unittest test_file.py\n",
    "\n",
    "# Автоматический поиск тестов в каталоге\n",
    "python -m unittest discover -s tests\n",
    "\n",
    "# Запуск всех тестов в текущем каталоге\n",
    "python -m unittest discover\n",
    "\n",
    "# Запуск с подробным выводом\n",
    "python -m unittest -v\n",
    "\n",
    "# Запуск конкретного теста\n",
    "python -m unittest test_module.TestClass.test_method\n",
    "```"
   ]
  },
  {
   "cell_type": "markdown",
   "id": "08f1cdc0",
   "metadata": {},
   "source": [
    "## Простейший тест"
   ]
  },
  {
   "cell_type": "markdown",
   "id": "e70e6628",
   "metadata": {},
   "source": [
    "```python\n",
    "import unittest\n",
    "\n",
    "def add(a, b):\n",
    "    return a + b\n",
    "\n",
    "class TestMathOperations(unittest.TestCase):\n",
    "    def test_add(self):\n",
    "        self.assertEqual(add(2, 3), 5)\n",
    "\n",
    "if __name__ == '__main__':\n",
    "    unittest.main()\n",
    "```"
   ]
  },
  {
   "cell_type": "markdown",
   "id": "52ff12ac",
   "metadata": {},
   "source": [
    "### Шаблон AAA (Arrange - Act - Assert)\n",
    "Тест пишется в три этапа:\n",
    "> 1. Arrange (Подготовка) – создаем входные данные.\n",
    "> 2. Act (Действие) – выполняем тестируемую операцию.\n",
    "> 3. Assert (Проверка) – проверяем результат.\n",
    "```python\n",
    "class TestCalc(unittest.TestCase):\n",
    "    def test_sum(self):\n",
    "        # Arrange - подготовка\n",
    "        calc = Calculator()\n",
    "        \n",
    "        # Act - действие\n",
    "        result = calc.sum(3, -3, 5)\n",
    "        \n",
    "        # Assert - проверка результата\n",
    "        self.assertEqual(result, 5, \"Метод sum работает неверно\")\n",
    "```"
   ]
  },
  {
   "cell_type": "markdown",
   "id": "d7f19dfd",
   "metadata": {},
   "source": [
    "## Основные `assert`-методы"
   ]
  },
  {
   "cell_type": "markdown",
   "id": "f2958a01",
   "metadata": {},
   "source": [
    "### Равенство/Неравенство\n",
    "```python\n",
    "self.assertEqual(a, b)         # a == b\n",
    "self.assertNotEqual(a, b)      # a != b\n",
    "\n",
    "self.assertEqual(2 + 2, 4)     # OK\n",
    "self.assertNotEqual(2 + 2, 5)  # OK\n",
    "```"
   ]
  },
  {
   "cell_type": "markdown",
   "id": "6c5f324d",
   "metadata": {},
   "source": [
    "### True/False\n",
    "```python\n",
    "self.assertTrue(x)            # x is True\n",
    "self.assertFalse(x)           # x is False\n",
    "\n",
    "self.assertTrue(1 + 1 == 2)   # OK\n",
    "self.assertFalse(1 + 1 == 3)  # OK\n",
    "```"
   ]
  },
  {
   "cell_type": "markdown",
   "id": "cb604e3e",
   "metadata": {},
   "source": [
    "### is/is not\n",
    "```python\n",
    "self.assertIs(a, b)        # a is b\n",
    "self.assertIsNot(a, b)     # a is not b\n",
    "\n",
    "obj = []\n",
    "self.assertIs(obj, obj)    # OK\n",
    "self.assertIsNot(obj, [])  # OK (разные объекты)\n",
    "```"
   ]
  },
  {
   "cell_type": "markdown",
   "id": "79c71580",
   "metadata": {},
   "source": [
    "### IsNone/IsNotNone\n",
    "```python\n",
    "self.assertIsNone(x)      # x is None\n",
    "self.assertIsNotNone(x)   # x is not None\n",
    "\n",
    "self.assertIsNone(None)   # OK\n",
    "self.assertIsNotNone(42)  # OK\n",
    "```\n"
   ]
  },
  {
   "cell_type": "markdown",
   "id": "5f949e4f",
   "metadata": {},
   "source": [
    "### In/NotIn\n",
    "```python\n",
    "self.assertIn(a, b)                # a in b\n",
    "self.assertNotIn(a, b)             # a not in b\n",
    "\n",
    "self.assertIn(3, [1, 2, 3, 4])     # OK\n",
    "self.assertNotIn(5, [1, 2, 3, 4])  # OK\n",
    "```\n"
   ]
  },
  {
   "cell_type": "markdown",
   "id": "1adbdf19",
   "metadata": {},
   "source": [
    "### IsInstance/IsNotInstance\n",
    "```python\n",
    "self.assertIsInstance(a, b)             # isinstance(a, b)\n",
    "self.assertNotIsInstance(a, b)          # not isinstance(a, b)\n",
    "\n",
    "self.assertIsInstance(42, int)          # OK\n",
    "self.assertNotIsInstance(\"hello\", int)  # OK\n",
    "```"
   ]
  },
  {
   "cell_type": "markdown",
   "id": "57344b7c",
   "metadata": {},
   "source": [
    "### Exceptions\n",
    "```python\n",
    "self.assertRaises(Exception, func, *args, kwargs)  \n",
    "self.assertRaisesRegex(Exception, regex, func, *args, kwargs)\n",
    "\n",
    "with self.assertRaises(ZeroDivisionError):\n",
    "    1 / 0       # OK\n",
    "\n",
    "with self.assertRaisesRegex(ValueError, \"invalid literal\"):\n",
    "    int(\"abc\")  # OK\n",
    "```"
   ]
  },
  {
   "cell_type": "markdown",
   "id": "65b8121c",
   "metadata": {},
   "source": [
    "### Warns (warnings)\n",
    "```python\n",
    "self.assertWarns(warning, func, *args, kwargs)  \n",
    "self.assertWarnsRegex(warning, regex, func, *args, kwargs)\n",
    "\n",
    "import warnings\n",
    "\n",
    "with self.assertWarns(UserWarning):\n",
    "    warnings.warn(\"Это предупреждение!\", UserWarning)  # OK\n",
    "\n",
    "with self.assertWarnsRegex(UserWarning, \"предупреждение\"):\n",
    "    warnings.warn(\"Это предупреждение!\", UserWarning)  # OK\n",
    "```"
   ]
  },
  {
   "cell_type": "markdown",
   "id": "e608b91b",
   "metadata": {},
   "source": [
    "### Logs (logging)\n",
    "```python\n",
    "self.assertLogs(logger=None, level=None)\n",
    "```\n",
    "```python\n",
    "import logging\n",
    "\n",
    "logger = logging.getLogger()\n",
    "\n",
    "with self.assertLogs(logger, level=\"WARNING\") as log:\n",
    "    logger.warning(\"Ошибка в системе!\")\n",
    "\n",
    "self.assertIn(\"Ошибка в системе!\", log.output[0])  # OK\n",
    "```"
   ]
  },
  {
   "cell_type": "markdown",
   "id": "85e27c11",
   "metadata": {},
   "source": [
    "### AlmostEqual\n",
    "```python\n",
    "self.assertAlmostEqual(a, b, places=7)                # a ≈ b (точность до `places`)\n",
    "self.assertNotAlmostEqual(a, b, places=7)             # a ≠ b с точностью `places`\n",
    "\n",
    "self.assertAlmostEqual(0.1 + 0.2, 0.3, places=7)      # OK\n",
    "self.assertNotAlmostEqual(0.1 + 0.2, 0.31, places=7)  # OK\n",
    "```"
   ]
  },
  {
   "cell_type": "markdown",
   "id": "35a2a453",
   "metadata": {},
   "source": [
    "### Проверка размерности и длины\n",
    "```python\n",
    "self.assertGreater(a, b)       # a > b\n",
    "self.assertGreaterEqual(a, b)  # a >= b\n",
    "self.assertLess(a, b)          # a < b\n",
    "self.assertLessEqual(a, b)     # a <= b\n",
    "\n",
    "self.assertGreater(5, 3)       # OK\n",
    "self.assertGreaterEqual(5, 5)  # OK\n",
    "self.assertLess(2, 3)          # OK\n",
    "self.assertLessEqual(3, 3)     # OK\n",
    "```"
   ]
  },
  {
   "cell_type": "markdown",
   "id": "238a3522",
   "metadata": {},
   "source": [
    "### Проверка содержимого\n",
    "```python\n",
    "self.assertMultiLineEqual(a, b)  # Проверяет строки (сравнение текста)\n",
    "self.assertSequenceEqual(a, b)   # Сравнивает последовательности (list, tuple)\n",
    "self.assertListEqual(a, b)       # Проверяет списки\n",
    "self.assertTupleEqual(a, b)      # Проверяет кортежи\n",
    "self.assertSetEqual(a, b)        # Проверяет множества\n",
    "self.assertDictEqual(a, b)       # Проверяет словари\n",
    "\n",
    "self.assertMultiLineEqual(\"Hello\\nWorld\", \"Hello\\nWorld\")  # OK\n",
    "self.assertListEqual([1, 2, 3], [1, 2, 3])                 # OK\n",
    "self.assertTupleEqual((1, 2), (1, 2))                      # OK\n",
    "self.assertSetEqual({1, 2}, {2, 1})                        # OK\n",
    "self.assertDictEqual({\"a\": 1}, {\"a\": 1})                   # OK\n",
    "```"
   ]
  },
  {
   "cell_type": "markdown",
   "id": "73e82e41",
   "metadata": {},
   "source": [
    "## Fixtures\n",
    "Fixtures – методы, выполняющиеся до и после каждого теста. "
   ]
  },
  {
   "cell_type": "markdown",
   "id": "c7723b80",
   "metadata": {},
   "source": [
    "```python\n",
    "import unittest\n",
    "\n",
    "class TestExample(unittest.TestCase):\n",
    "    def setUp(self):\n",
    "        print(\"🔧 setUp() -> перед каждым тестом\")\n",
    "\n",
    "    def tearDown(self):\n",
    "        print(\"🔧 tearDown() -> после каждого теста\")\n",
    "\n",
    "    def test_one(self):\n",
    "        print(\"✅ Тест 1\")\n",
    "\n",
    "    def test_two(self):\n",
    "        print(\"✅ Тест 2\")\n",
    "\n",
    "if __name__ == '__main__':\n",
    "    unittest.main()\n",
    "```\n",
    "\n",
    "```\n",
    "🔧 setUp() -> перед каждым тестом  \n",
    "✅ Тест 1  \n",
    "🔧 tearDown() -> после каждого теста  \n",
    "🔧 setUp() -> перед каждым тестом  \n",
    "✅ Тест 2  \n",
    "🔧 tearDown() -> после каждого теста  \n",
    "```"
   ]
  },
  {
   "cell_type": "markdown",
   "id": "1ae136f5",
   "metadata": {},
   "source": [
    "### `setUpClass` и `tearDownClass`\n",
    "Выполняются один раз для всего класса, а не перед каждым тестом.\n",
    "```python\n",
    "class TestExample(unittest.TestCase):\n",
    "    @classmethod\n",
    "    def setUpClass(cls):\n",
    "        print(\"🔧 setUpClass() -> перед всеми тестами\")\n",
    "\n",
    "    @classmethod\n",
    "    def tearDownClass(cls):\n",
    "        print(\"🔧 tearDownClass() -> после всех тестов\")\n",
    "\n",
    "    def test_one(self):\n",
    "        print(\"✅ Тест 1\")\n",
    "\n",
    "    def test_two(self):\n",
    "        print(\"✅ Тест 2\")\n",
    "```\n",
    "\n",
    "```\n",
    "🔧 setUpClass() -> перед всеми тестами  \n",
    "✅ Тест 1  \n",
    "✅ Тест 2  \n",
    "🔧 tearDownClass() -> после всех тестов  \n",
    "```"
   ]
  },
  {
   "cell_type": "markdown",
   "id": "58a41a7e",
   "metadata": {},
   "source": [
    "### Декораторы `skip`\n",
    "Используются для пропуска тестов в определенных условиях. \n",
    "```python\n",
    "class TestExample(unittest.TestCase):\n",
    "    @unittest.skip(\"Пропускаем этот тест\")\n",
    "    def test_skipped(self):\n",
    "        self.fail(\"Этот тест не должен выполняться\")\n",
    "\n",
    "    @unittest.skipIf(3 > 2, \"Пропускаем при True условии\")\n",
    "    def test_skipped_if(self):\n",
    "        self.fail(\"Этот тест не должен выполняться\")\n",
    "\n",
    "    @unittest.expectedFailure\n",
    "    def test_expected_failure(self):\n",
    "        self.assertEqual(1, 2)  # Тест ожидаемо падает\n",
    "```"
   ]
  },
  {
   "cell_type": "markdown",
   "id": "bbdc5791",
   "metadata": {},
   "source": [
    "### unittest.mock\n",
    "Позволяет заменить реальные объекты заглушками. \n",
    "```python\n",
    "from unittest.mock import MagicMock\n",
    "import unittest\n",
    "\n",
    "class TestMockExample(unittest.TestCase):\n",
    "    def test_mock(self):\n",
    "        mock = MagicMock()\n",
    "        mock.return_value = 42\n",
    "        self.assertEqual(mock(), 42)  # Возвращает мокированное значение\n",
    "```"
   ]
  },
  {
   "cell_type": "markdown",
   "id": "cbd3434d",
   "metadata": {},
   "source": [
    "### assertLogs()\n",
    "```python\n",
    "import unittest\n",
    "import logging\n",
    "\n",
    "class TestLogging(unittest.TestCase):\n",
    "    def test_logging(self):\n",
    "        logger = logging.getLogger()\n",
    "        with self.assertLogs(logger, level='INFO') as log:\n",
    "            logger.info(\"Привет!\")\n",
    "        self.assertIn(\"Привет!\", log.output[0])\n",
    "```"
   ]
  },
  {
   "cell_type": "markdown",
   "id": "4225577a",
   "metadata": {},
   "source": [
    "### Проверка производительности\n",
    "```python\n",
    "import time\n",
    "class TestPerformance(unittest.TestCase):\n",
    "    def test_execution_time(self):\n",
    "        start = time.time()\n",
    "        time.sleep(0.1)  # Имитация длительного процесса\n",
    "        duration = time.time() - start\n",
    "        self.assertLess(duration, 0.2)  # Проверяем, что не дольше 0.2 сек\n",
    "```"
   ]
  }
 ],
 "metadata": {
  "language_info": {
   "name": "python"
  }
 },
 "nbformat": 4,
 "nbformat_minor": 5
}
