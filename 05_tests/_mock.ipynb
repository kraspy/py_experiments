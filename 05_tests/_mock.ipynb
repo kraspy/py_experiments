{
 "cells": [
  {
   "cell_type": "markdown",
   "id": "d1c355e7",
   "metadata": {},
   "source": [
    "Объекты-заглушки (базы данных, API, файловая система)."
   ]
  },
  {
   "cell_type": "markdown",
   "id": "4223c713",
   "metadata": {},
   "source": [
    "## unittest.mock\n",
    "Встроенный модуль для mock-тестирования"
   ]
  },
  {
   "cell_type": "markdown",
   "id": "898a75eb",
   "metadata": {},
   "source": [
    "### Создание Mock-объекта\n",
    "```python\n",
    "from unittest.mock import Mock\n",
    "\n",
    "mock_obj = Mock()\n",
    "mock_obj.some_method.return_value = \"Mocked value\"\n",
    "\n",
    "assert mock_obj.some_method() == \"Mocked value\"\n",
    "```"
   ]
  },
  {
   "cell_type": "markdown",
   "id": "9dcc751f",
   "metadata": {},
   "source": [
    "### Замена реального метода\n",
    "\n",
    "```python\n",
    "def real_function():\n",
    "    return \"Real value\"\n",
    "\n",
    "mock_obj = Mock()\n",
    "mock_obj.side_effect = real_function\n",
    "\n",
    "assert mock_obj() == \"Real value\"\n",
    "```\n"
   ]
  },
  {
   "cell_type": "markdown",
   "id": "788f0a1c",
   "metadata": {},
   "source": [
    "## Подмена объектов с `patch`"
   ]
  },
  {
   "cell_type": "markdown",
   "id": "be38010a",
   "metadata": {},
   "source": [
    "### Использование `patch` как декоратора\n",
    "```python\n",
    "from unittest.mock import patch\n",
    "\n",
    "@patch('module_name.ClassName')\n",
    "def test_func(mock_class):\n",
    "    mock_instance = mock_class.return_value\n",
    "    mock_instance.some_method.return_value = \"Mocked result\"\n",
    "    \n",
    "    assert some_function() == \"Mocked result\"\n",
    "```"
   ]
  },
  {
   "cell_type": "markdown",
   "id": "e718719a",
   "metadata": {},
   "source": [
    "### Использование `patch` как контекстного менеджера\n",
    "```python\n",
    "from unittest.mock import patch\n",
    "\n",
    "def test_func():\n",
    "    with patch('module_name.ClassName') as mock_class:\n",
    "        mock_instance = mock_class.return_value\n",
    "        mock_instance.some_method.return_value = \"Mocked result\"\n",
    "        \n",
    "        assert some_function() == \"Mocked result\"\n",
    "```\n"
   ]
  },
  {
   "cell_type": "markdown",
   "id": "72462833",
   "metadata": {},
   "source": [
    "## Проверка вызовов Mock-объектов\n",
    "```python\n",
    "mock_obj.some_method(\"test\")\n",
    "mock_obj.some_method.assert_called_with(\"test\")       # Проверяем вызов метода\n",
    "mock_obj.some_method.assert_called_once()             # Проверяем, что метод вызван один раз\n",
    "mock_obj.some_method.assert_called_once_with(\"test\")  # Проверяем вызов с аргументами\n",
    "mock_obj.some_method.assert_not_called()              # Проверяем, что метод НЕ вызывался\n",
    "```"
   ]
  },
  {
   "cell_type": "markdown",
   "id": "ef042fc3",
   "metadata": {},
   "source": [
    "## Mock-тестирование асинхронного кода (`aiohttp`)"
   ]
  },
  {
   "cell_type": "markdown",
   "id": "3ce72cfd",
   "metadata": {},
   "source": [
    "### Мокирование асинхронных запросов\n",
    "```python\n",
    "import unittest\n",
    "from unittest.mock import patch, AsyncMock\n",
    "import aiohttp\n",
    "\n",
    "async def fetch_data(url):\n",
    "    async with aiohttp.ClientSession() as session:\n",
    "        async with session.get(url) as response:\n",
    "            return await response.json()\n",
    "\n",
    "class TestApi(unittest.IsolatedAsyncioTestCase):\n",
    "    @patch('aiohttp.ClientSession.get', new_callable=AsyncMock)\n",
    "    async def test_fetch_data(self, mock_get):\n",
    "        mock_response = AsyncMock()\n",
    "        mock_response.json.return_value = {\"data\": \"mocked\"}\n",
    "        mock_get.return_value.__aenter__.return_value = mock_response\n",
    "\n",
    "        result = await fetch_data(\"http://example.com\")\n",
    "\n",
    "        self.assertEqual(result, {\"data\": \"mocked\"})\n",
    "        mock_get.assert_called_once_with(\"http://example.com\")\n",
    "\n",
    "if __name__ == '__main__':\n",
    "    unittest.main()\n",
    "```\n"
   ]
  },
  {
   "cell_type": "markdown",
   "id": "a0712305",
   "metadata": {},
   "source": [
    "### Использование `aioresponses`\n",
    "```python\n",
    "from aioresponses import aioresponses\n",
    "import unittest\n",
    "\n",
    "async def fetch_data(url):\n",
    "    async with aiohttp.ClientSession() as session:\n",
    "        async with session.get(url) as response:\n",
    "            return await response.json()\n",
    "\n",
    "class TestApi(unittest.IsolatedAsyncioTestCase):\n",
    "    async def test_fetch_data(self):\n",
    "        with aioresponses() as m:\n",
    "            m.get(\"http://example.com\", payload={\"data\": \"mocked\"})\n",
    "\n",
    "            result = await fetch_data(\"http://example.com\")\n",
    "\n",
    "            self.assertEqual(result, {\"data\": \"mocked\"})\n",
    "\n",
    "if __name__ == '__main__':\n",
    "    unittest.main()\n",
    "```\n"
   ]
  },
  {
   "cell_type": "markdown",
   "id": "c8a95b4c",
   "metadata": {},
   "source": [
    "## Тестирование работы с файлами (`mock_open`)\n"
   ]
  },
  {
   "cell_type": "markdown",
   "id": "b3eaa4f8",
   "metadata": {},
   "source": [
    "### Мокирование чтения файла\n",
    "```python\n",
    "from unittest.mock import mock_open, patch\n",
    "\n",
    "def read_file(filepath):\n",
    "    with open(filepath, 'r') as f:\n",
    "        return f.read()\n",
    "\n",
    "@patch(\"builtins.open\", new_callable=mock_open, read_data=\"mocked content\")\n",
    "def test_read_file(mock_file):\n",
    "    result = read_file(\"dummy.txt\")\n",
    "    assert result == \"mocked content\"\n",
    "    mock_file.assert_called_once_with(\"dummy.txt\", \"r\")\n",
    "```\n"
   ]
  },
  {
   "cell_type": "markdown",
   "id": "4b40cb41",
   "metadata": {},
   "source": [
    "### Мокирование записи в файл\n",
    "```python\n",
    "def write_file(filepath, content):\n",
    "    with open(filepath, 'w') as f:\n",
    "        f.write(content)\n",
    "\n",
    "@patch(\"builtins.open\", new_callable=mock_open)\n",
    "def test_write_file(mock_file):\n",
    "    write_file(\"dummy.txt\", \"some content\")\n",
    "    mock_file.assert_called_once_with(\"dummy.txt\", \"w\")\n",
    "    mock_file().write.assert_called_once_with(\"some content\")\n",
    "```\n"
   ]
  },
  {
   "cell_type": "markdown",
   "id": "9dad7b9b",
   "metadata": {},
   "source": [
    "## Тестирование работы с базами данных (`SQLAlchemy`)\n",
    "```python\n",
    "from unittest.mock import patch, MagicMock\n",
    "\n",
    "def fetch_user_by_id(session, user_id):\n",
    "    return session.query(User).filter_by(id=user_id).first()\n",
    "\n",
    "class User:\n",
    "    def __init__(self, id, name):\n",
    "        self.id = id\n",
    "        self.name = name\n",
    "\n",
    "@patch(\"your_module.session\")\n",
    "def test_fetch_user(mock_session):\n",
    "    mock_query = MagicMock()\n",
    "    mock_query.filter_by.return_value.first.return_value = User(id=1, name=\"John Doe\")\n",
    "    mock_session.query.return_value = mock_query\n",
    "\n",
    "    result = fetch_user_by_id(mock_session, 1)\n",
    "\n",
    "    assert result.name == \"John Doe\"\n",
    "    mock_session.query.assert_called_once_with(User)\n",
    "    mock_query.filter_by.assert_called_once_with(id=1)\n",
    "```\n"
   ]
  },
  {
   "cell_type": "markdown",
   "id": "1a5afb5f",
   "metadata": {},
   "source": [
    "### Тестирование транзакций\n",
    "```python\n",
    "def create_user(session, user):\n",
    "    session.add(user)\n",
    "    session.commit()\n",
    "\n",
    "@patch(\"your_module.session\")\n",
    "def test_create_user(mock_session):\n",
    "    user = User(id=1, name=\"John Doe\")\n",
    "\n",
    "    create_user(mock_session, user)\n",
    "\n",
    "    mock_session.add.assert_called_once_with(user)\n",
    "    mock_session.commit.assert_called_once()\n",
    "```\n"
   ]
  }
 ],
 "metadata": {
  "language_info": {
   "name": "python"
  }
 },
 "nbformat": 4,
 "nbformat_minor": 5
}
