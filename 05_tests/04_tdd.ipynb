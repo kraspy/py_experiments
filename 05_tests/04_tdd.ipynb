{
 "cells": [
  {
   "cell_type": "markdown",
   "id": "9cd2c0a1",
   "metadata": {},
   "source": [
    "## Принципы TDD\n",
    "1. Сначала пишется тест, который определяет желаемое поведение функции.\n",
    "2. Запуск теста проваливается, т.к. код еще не написан.\n",
    "3. Пишется код, при котором тест будет успешно пройден.\n",
    "4. Код рефакторится, но тесты должны проходить успешно."
   ]
  },
  {
   "cell_type": "markdown",
   "id": "b4b7abfb",
   "metadata": {},
   "source": [
    "## Пример базового теста для функции\n",
    "```python\n",
    "from typing import Callable\n",
    "\n",
    "def test_foo(foo: Callable[..., None]):\n",
    "    print(f'🧪 Тестируем функцию: {foo.__name__}')\n",
    "    assert foo([3, 2, 1, 0]) == [0, 1, 2, 3], '❌ Ошибка: функция работает неверно'\n",
    "    print('✅ Все тесты прошли успешно')\n",
    "\n",
    "def srt(el):\n",
    "    return sorted(el)\n",
    "\n",
    "test_foo(srt)  # Проверка функции сортировки\n",
    "```\n"
   ]
  },
  {
   "cell_type": "markdown",
   "id": "ba740717",
   "metadata": {},
   "source": [
    "## Расширенный тест алгоритма сортировки\n",
    "```python\n",
    "def test_sort(sorting_algorithm):\n",
    "    \"\"\" Тестируем алгоритм, сортирующий список по возрастанию. \"\"\"\n",
    "    print(f'🧪 Тестируем: {sorting_algorithm.__doc__}')\n",
    "\n",
    "    # Тест 1: Список с int и float\n",
    "    source = [1, 2.0, 3, 4.0]\n",
    "    result = [1, 2.0, 3, 4.0]\n",
    "    assert sorting_algorithm(source) == result, (\n",
    "        f'❌ Ошибка в {sorting_algorithm.__name__}: некорректная работа со списком int и float'\n",
    "    )\n",
    "\n",
    "    # Тест 2: Список с отрицательными числами и нулем\n",
    "    source = [10, -1, 0, -5, 5]\n",
    "    result = [-5, -1, 0, 5, 10]\n",
    "    assert sorting_algorithm(source) == result, (\n",
    "        f'❌Ошибка в {sorting_algorithm.__name__}: некорректная работа с отрицательными числами'\n",
    "    )\n",
    "\n",
    "    # Тест 3: Список с повторяющимися значениями\n",
    "    source = [1, 5, 2, 2, 3, 4, 4]\n",
    "    result = [1, 2, 2, 3, 4, 4, 5]\n",
    "    assert sorting_algorithm(source) == result, (\n",
    "        f'❌Ошибка в {sorting_algorithm.__name__}: некорректная работа с повторяющимися числами'\n",
    "    )\n",
    "\n",
    "    print(f'✅ Тест для {sorting_algorithm.__name__} успешно завершён')\n",
    "\n",
    "# Пример списка функций сортировки (замените на реальные реализации)\n",
    "def bubble_sort(arr): return sorted(arr)\n",
    "def timsort_sort(arr): return sorted(arr)\n",
    "def selection_sort(arr): return sorted(arr)\n",
    "def insertion_sort(arr): return sorted(arr)\n",
    "\n",
    "sort_funcs = [bubble_sort, timsort_sort, selection_sort, insertion_sort]\n",
    "\n",
    "# Запуск всех тестов\n",
    "for func in sort_funcs:\n",
    "    try:\n",
    "        test_sort(func)\n",
    "    except AssertionError as e:\n",
    "        print(f'❌ {str(e)}')\n",
    "```"
   ]
  }
 ],
 "metadata": {
  "language_info": {
   "name": "python"
  }
 },
 "nbformat": 4,
 "nbformat_minor": 5
}
